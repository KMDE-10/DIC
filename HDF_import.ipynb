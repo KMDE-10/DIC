{
 "cells": [
  {
   "cell_type": "code",
   "execution_count": 1,
   "metadata": {
    "collapsed": true
   },
   "outputs": [],
   "source": [
    "import pandas as pd\n",
    "import numpy as np\n",
    "import matplotlib.pyplot as plt\n",
    "from IPython.display import display\n",
    "import os\n",
    "import h5py as hdf\n",
    "plt.rcParams['figure.facecolor'] = 'white'"
   ]
  },
  {
   "cell_type": "code",
   "execution_count": 2,
   "outputs": [
    {
     "data": {
      "text/plain": "['data/hdf/series_step_104.hdf5',\n 'data/hdf/series_step_105.hdf5',\n 'data/hdf/series_step_106.hdf5',\n 'data/hdf/series_step_113.hdf5',\n 'data/hdf/series_step_114.hdf5',\n 'data/hdf/series_step_115.hdf5',\n 'data/hdf/series_step_122.hdf5',\n 'data/hdf/series_step_123.hdf5',\n 'data/hdf/series_step_124.hdf5',\n 'data/hdf/series_step_131.hdf5']"
     },
     "metadata": {},
     "output_type": "display_data"
    }
   ],
   "source": [
    "def gather_universal(path: str,filetype: str)-> list:\n",
    "    subdir=path\n",
    "\n",
    "    data=[]\n",
    "    for path, subdirs, files in os.walk(subdir):\n",
    "        for name in files:\n",
    "            if name.endswith(filetype) and name[-5]!='t'  :\n",
    "\n",
    "                b=(str(os.path.join(path, name)))\n",
    "                data.append(b)\n",
    "    return data\n",
    "def sort_on_last(list:list)->list:\n",
    "    df=pd.DataFrame({'list': list})\n",
    "    df['nums']=df['list'].apply(lambda x:x.split('_')[-1].split('.')[0])\n",
    "    df['nums']=df.nums.astype(int)\n",
    "    df.sort_values(by='nums',inplace=True)\n",
    "    #display(df)\n",
    "    return(np.array(df['list']))\n",
    "path='data/hdf/'\n",
    "display(gather_universal(path,'.hdf5'))\n",
    "\n",
    "def get_hdf_main_groups(path) -> list:\n",
    "    with hdf.File(path,'r') as r:\n",
    "        #display([str(i) for i in r.keys()])\n",
    "        return [str(i) for i in r.keys()]\n",
    "\n",
    "def get_hdf_group_datasets(path,groupkey) -> list:\n",
    "    with hdf.File(path,'r') as r:\n",
    "        #display([str(i) for i in r[groupkey].keys()])\n",
    "        return [str(i) for i in r[groupkey].keys()]\n",
    "\n",
    "def get_df_columns(path)-> pd.DataFrame:\n",
    "    groups=get_hdf_main_groups(path)\n",
    "    cols=[]\n",
    "    for key in groups:\n",
    "       cols=cols+ list(zip(list(np.full(len(get_hdf_group_datasets(path,key)),key)),\n",
    "                 get_hdf_group_datasets(path,key)))\n",
    "\n",
    "    #display(cols)\n",
    "    columns=pd.MultiIndex.from_tuples(cols, names=('group', 'dataset'))\n",
    "    #display(pd.DataFrame(columns=columns))\n",
    "    return columns\n",
    "def zero_to_nan(array):\n",
    "    array[array==0.]=np.nan\n",
    "    return(array)\n",
    "def steps_to_df(seriespath,examplefilepath)->pd.DataFrame:\n",
    "    path=seriespath\n",
    "    series=pd.DataFrame(index=sort_on_last(gather_universal(path,'.hdf5')),columns=get_df_columns(examplefilepath))\n",
    "\n",
    "    for file in series.index:\n",
    "        with hdf.File(str(file),'r') as r:\n",
    "            for location in series.columns:\n",
    "                series.loc[file,location]=r[location[0]][location[1]][:]\n",
    "    return series\n",
    "series=steps_to_df('Y:\\Istra Repositories\\ch-gr_exports\\MC_A_8yi','data/hdf/series_step_115.hdf5')"
   ],
   "metadata": {
    "collapsed": false,
    "pycharm": {
     "name": "#%%\n"
    }
   }
  },
  {
   "cell_type": "code",
   "execution_count": 3,
   "outputs": [],
   "source": [
    "#plt.matshow(series.loc['data/hdf/series_step_122.hdf5',('strains','strain_p1')])"
   ],
   "metadata": {
    "collapsed": false,
    "pycharm": {
     "name": "#%%\n"
    }
   }
  },
  {
   "cell_type": "code",
   "execution_count": 4,
   "outputs": [
    {
     "data": {
      "text/plain": "['Y:\\\\Istra Repositories\\\\ch-gr_exports\\\\MC_A_8yi\\\\series_step_0.hdf5',\n 'Y:\\\\Istra Repositories\\\\ch-gr_exports\\\\MC_A_8yi\\\\series_step_1.hdf5',\n 'Y:\\\\Istra Repositories\\\\ch-gr_exports\\\\MC_A_8yi\\\\series_step_2.hdf5',\n 'Y:\\\\Istra Repositories\\\\ch-gr_exports\\\\MC_A_8yi\\\\series_step_3.hdf5',\n 'Y:\\\\Istra Repositories\\\\ch-gr_exports\\\\MC_A_8yi\\\\series_step_4.hdf5',\n 'Y:\\\\Istra Repositories\\\\ch-gr_exports\\\\MC_A_8yi\\\\series_step_5.hdf5',\n 'Y:\\\\Istra Repositories\\\\ch-gr_exports\\\\MC_A_8yi\\\\series_step_6.hdf5',\n 'Y:\\\\Istra Repositories\\\\ch-gr_exports\\\\MC_A_8yi\\\\series_step_7.hdf5',\n 'Y:\\\\Istra Repositories\\\\ch-gr_exports\\\\MC_A_8yi\\\\series_step_8.hdf5',\n 'Y:\\\\Istra Repositories\\\\ch-gr_exports\\\\MC_A_8yi\\\\series_step_9.hdf5',\n 'Y:\\\\Istra Repositories\\\\ch-gr_exports\\\\MC_A_8yi\\\\series_step_10.hdf5',\n 'Y:\\\\Istra Repositories\\\\ch-gr_exports\\\\MC_A_8yi\\\\series_step_11.hdf5',\n 'Y:\\\\Istra Repositories\\\\ch-gr_exports\\\\MC_A_8yi\\\\series_step_12.hdf5',\n 'Y:\\\\Istra Repositories\\\\ch-gr_exports\\\\MC_A_8yi\\\\series_step_13.hdf5',\n 'Y:\\\\Istra Repositories\\\\ch-gr_exports\\\\MC_A_8yi\\\\series_step_14.hdf5',\n 'Y:\\\\Istra Repositories\\\\ch-gr_exports\\\\MC_A_8yi\\\\series_step_15.hdf5',\n 'Y:\\\\Istra Repositories\\\\ch-gr_exports\\\\MC_A_8yi\\\\series_step_16.hdf5',\n 'Y:\\\\Istra Repositories\\\\ch-gr_exports\\\\MC_A_8yi\\\\series_step_17.hdf5',\n 'Y:\\\\Istra Repositories\\\\ch-gr_exports\\\\MC_A_8yi\\\\series_step_18.hdf5',\n 'Y:\\\\Istra Repositories\\\\ch-gr_exports\\\\MC_A_8yi\\\\series_step_19.hdf5',\n 'Y:\\\\Istra Repositories\\\\ch-gr_exports\\\\MC_A_8yi\\\\series_step_20.hdf5',\n 'Y:\\\\Istra Repositories\\\\ch-gr_exports\\\\MC_A_8yi\\\\series_step_21.hdf5',\n 'Y:\\\\Istra Repositories\\\\ch-gr_exports\\\\MC_A_8yi\\\\series_step_22.hdf5',\n 'Y:\\\\Istra Repositories\\\\ch-gr_exports\\\\MC_A_8yi\\\\series_step_23.hdf5',\n 'Y:\\\\Istra Repositories\\\\ch-gr_exports\\\\MC_A_8yi\\\\series_step_24.hdf5',\n 'Y:\\\\Istra Repositories\\\\ch-gr_exports\\\\MC_A_8yi\\\\series_step_25.hdf5',\n 'Y:\\\\Istra Repositories\\\\ch-gr_exports\\\\MC_A_8yi\\\\series_step_26.hdf5',\n 'Y:\\\\Istra Repositories\\\\ch-gr_exports\\\\MC_A_8yi\\\\series_step_27.hdf5',\n 'Y:\\\\Istra Repositories\\\\ch-gr_exports\\\\MC_A_8yi\\\\series_step_28.hdf5',\n 'Y:\\\\Istra Repositories\\\\ch-gr_exports\\\\MC_A_8yi\\\\series_step_29.hdf5',\n 'Y:\\\\Istra Repositories\\\\ch-gr_exports\\\\MC_A_8yi\\\\series_step_30.hdf5',\n 'Y:\\\\Istra Repositories\\\\ch-gr_exports\\\\MC_A_8yi\\\\series_step_31.hdf5',\n 'Y:\\\\Istra Repositories\\\\ch-gr_exports\\\\MC_A_8yi\\\\series_step_32.hdf5',\n 'Y:\\\\Istra Repositories\\\\ch-gr_exports\\\\MC_A_8yi\\\\series_step_33.hdf5',\n 'Y:\\\\Istra Repositories\\\\ch-gr_exports\\\\MC_A_8yi\\\\series_step_34.hdf5',\n 'Y:\\\\Istra Repositories\\\\ch-gr_exports\\\\MC_A_8yi\\\\series_step_35.hdf5',\n 'Y:\\\\Istra Repositories\\\\ch-gr_exports\\\\MC_A_8yi\\\\series_step_36.hdf5',\n 'Y:\\\\Istra Repositories\\\\ch-gr_exports\\\\MC_A_8yi\\\\series_step_37.hdf5',\n 'Y:\\\\Istra Repositories\\\\ch-gr_exports\\\\MC_A_8yi\\\\series_step_38.hdf5',\n 'Y:\\\\Istra Repositories\\\\ch-gr_exports\\\\MC_A_8yi\\\\series_step_39.hdf5',\n 'Y:\\\\Istra Repositories\\\\ch-gr_exports\\\\MC_A_8yi\\\\series_step_40.hdf5',\n 'Y:\\\\Istra Repositories\\\\ch-gr_exports\\\\MC_A_8yi\\\\series_step_41.hdf5',\n 'Y:\\\\Istra Repositories\\\\ch-gr_exports\\\\MC_A_8yi\\\\series_step_42.hdf5',\n 'Y:\\\\Istra Repositories\\\\ch-gr_exports\\\\MC_A_8yi\\\\series_step_43.hdf5',\n 'Y:\\\\Istra Repositories\\\\ch-gr_exports\\\\MC_A_8yi\\\\series_step_44.hdf5',\n 'Y:\\\\Istra Repositories\\\\ch-gr_exports\\\\MC_A_8yi\\\\series_step_45.hdf5',\n 'Y:\\\\Istra Repositories\\\\ch-gr_exports\\\\MC_A_8yi\\\\series_step_46.hdf5',\n 'Y:\\\\Istra Repositories\\\\ch-gr_exports\\\\MC_A_8yi\\\\series_step_47.hdf5',\n 'Y:\\\\Istra Repositories\\\\ch-gr_exports\\\\MC_A_8yi\\\\series_step_48.hdf5',\n 'Y:\\\\Istra Repositories\\\\ch-gr_exports\\\\MC_A_8yi\\\\series_step_49.hdf5',\n 'Y:\\\\Istra Repositories\\\\ch-gr_exports\\\\MC_A_8yi\\\\series_step_50.hdf5',\n 'Y:\\\\Istra Repositories\\\\ch-gr_exports\\\\MC_A_8yi\\\\series_step_51.hdf5',\n 'Y:\\\\Istra Repositories\\\\ch-gr_exports\\\\MC_A_8yi\\\\series_step_52.hdf5',\n 'Y:\\\\Istra Repositories\\\\ch-gr_exports\\\\MC_A_8yi\\\\series_step_53.hdf5',\n 'Y:\\\\Istra Repositories\\\\ch-gr_exports\\\\MC_A_8yi\\\\series_step_54.hdf5',\n 'Y:\\\\Istra Repositories\\\\ch-gr_exports\\\\MC_A_8yi\\\\series_step_55.hdf5',\n 'Y:\\\\Istra Repositories\\\\ch-gr_exports\\\\MC_A_8yi\\\\series_step_56.hdf5',\n 'Y:\\\\Istra Repositories\\\\ch-gr_exports\\\\MC_A_8yi\\\\series_step_57.hdf5',\n 'Y:\\\\Istra Repositories\\\\ch-gr_exports\\\\MC_A_8yi\\\\series_step_58.hdf5',\n 'Y:\\\\Istra Repositories\\\\ch-gr_exports\\\\MC_A_8yi\\\\series_step_59.hdf5',\n 'Y:\\\\Istra Repositories\\\\ch-gr_exports\\\\MC_A_8yi\\\\series_step_60.hdf5',\n 'Y:\\\\Istra Repositories\\\\ch-gr_exports\\\\MC_A_8yi\\\\series_step_61.hdf5',\n 'Y:\\\\Istra Repositories\\\\ch-gr_exports\\\\MC_A_8yi\\\\series_step_62.hdf5',\n 'Y:\\\\Istra Repositories\\\\ch-gr_exports\\\\MC_A_8yi\\\\series_step_63.hdf5',\n 'Y:\\\\Istra Repositories\\\\ch-gr_exports\\\\MC_A_8yi\\\\series_step_64.hdf5',\n 'Y:\\\\Istra Repositories\\\\ch-gr_exports\\\\MC_A_8yi\\\\series_step_65.hdf5',\n 'Y:\\\\Istra Repositories\\\\ch-gr_exports\\\\MC_A_8yi\\\\series_step_66.hdf5',\n 'Y:\\\\Istra Repositories\\\\ch-gr_exports\\\\MC_A_8yi\\\\series_step_67.hdf5',\n 'Y:\\\\Istra Repositories\\\\ch-gr_exports\\\\MC_A_8yi\\\\series_step_68.hdf5',\n 'Y:\\\\Istra Repositories\\\\ch-gr_exports\\\\MC_A_8yi\\\\series_step_69.hdf5',\n 'Y:\\\\Istra Repositories\\\\ch-gr_exports\\\\MC_A_8yi\\\\series_step_70.hdf5',\n 'Y:\\\\Istra Repositories\\\\ch-gr_exports\\\\MC_A_8yi\\\\series_step_71.hdf5',\n 'Y:\\\\Istra Repositories\\\\ch-gr_exports\\\\MC_A_8yi\\\\series_step_72.hdf5',\n 'Y:\\\\Istra Repositories\\\\ch-gr_exports\\\\MC_A_8yi\\\\series_step_73.hdf5',\n 'Y:\\\\Istra Repositories\\\\ch-gr_exports\\\\MC_A_8yi\\\\series_step_74.hdf5',\n 'Y:\\\\Istra Repositories\\\\ch-gr_exports\\\\MC_A_8yi\\\\series_step_75.hdf5',\n 'Y:\\\\Istra Repositories\\\\ch-gr_exports\\\\MC_A_8yi\\\\series_step_76.hdf5',\n 'Y:\\\\Istra Repositories\\\\ch-gr_exports\\\\MC_A_8yi\\\\series_step_77.hdf5',\n 'Y:\\\\Istra Repositories\\\\ch-gr_exports\\\\MC_A_8yi\\\\series_step_78.hdf5',\n 'Y:\\\\Istra Repositories\\\\ch-gr_exports\\\\MC_A_8yi\\\\series_step_79.hdf5',\n 'Y:\\\\Istra Repositories\\\\ch-gr_exports\\\\MC_A_8yi\\\\series_step_80.hdf5',\n 'Y:\\\\Istra Repositories\\\\ch-gr_exports\\\\MC_A_8yi\\\\series_step_81.hdf5',\n 'Y:\\\\Istra Repositories\\\\ch-gr_exports\\\\MC_A_8yi\\\\series_step_82.hdf5',\n 'Y:\\\\Istra Repositories\\\\ch-gr_exports\\\\MC_A_8yi\\\\series_step_83.hdf5',\n 'Y:\\\\Istra Repositories\\\\ch-gr_exports\\\\MC_A_8yi\\\\series_step_84.hdf5',\n 'Y:\\\\Istra Repositories\\\\ch-gr_exports\\\\MC_A_8yi\\\\series_step_85.hdf5',\n 'Y:\\\\Istra Repositories\\\\ch-gr_exports\\\\MC_A_8yi\\\\series_step_86.hdf5',\n 'Y:\\\\Istra Repositories\\\\ch-gr_exports\\\\MC_A_8yi\\\\series_step_87.hdf5',\n 'Y:\\\\Istra Repositories\\\\ch-gr_exports\\\\MC_A_8yi\\\\series_step_88.hdf5',\n 'Y:\\\\Istra Repositories\\\\ch-gr_exports\\\\MC_A_8yi\\\\series_step_89.hdf5',\n 'Y:\\\\Istra Repositories\\\\ch-gr_exports\\\\MC_A_8yi\\\\series_step_90.hdf5',\n 'Y:\\\\Istra Repositories\\\\ch-gr_exports\\\\MC_A_8yi\\\\series_step_91.hdf5',\n 'Y:\\\\Istra Repositories\\\\ch-gr_exports\\\\MC_A_8yi\\\\series_step_92.hdf5',\n 'Y:\\\\Istra Repositories\\\\ch-gr_exports\\\\MC_A_8yi\\\\series_step_93.hdf5',\n 'Y:\\\\Istra Repositories\\\\ch-gr_exports\\\\MC_A_8yi\\\\series_step_94.hdf5',\n 'Y:\\\\Istra Repositories\\\\ch-gr_exports\\\\MC_A_8yi\\\\series_step_95.hdf5',\n 'Y:\\\\Istra Repositories\\\\ch-gr_exports\\\\MC_A_8yi\\\\series_step_96.hdf5',\n 'Y:\\\\Istra Repositories\\\\ch-gr_exports\\\\MC_A_8yi\\\\series_step_97.hdf5',\n 'Y:\\\\Istra Repositories\\\\ch-gr_exports\\\\MC_A_8yi\\\\series_step_98.hdf5',\n 'Y:\\\\Istra Repositories\\\\ch-gr_exports\\\\MC_A_8yi\\\\series_step_99.hdf5',\n 'Y:\\\\Istra Repositories\\\\ch-gr_exports\\\\MC_A_8yi\\\\series_step_100.hdf5',\n 'Y:\\\\Istra Repositories\\\\ch-gr_exports\\\\MC_A_8yi\\\\series_step_101.hdf5',\n 'Y:\\\\Istra Repositories\\\\ch-gr_exports\\\\MC_A_8yi\\\\series_step_102.hdf5',\n 'Y:\\\\Istra Repositories\\\\ch-gr_exports\\\\MC_A_8yi\\\\series_step_103.hdf5',\n 'Y:\\\\Istra Repositories\\\\ch-gr_exports\\\\MC_A_8yi\\\\series_step_104.hdf5',\n 'Y:\\\\Istra Repositories\\\\ch-gr_exports\\\\MC_A_8yi\\\\series_step_105.hdf5',\n 'Y:\\\\Istra Repositories\\\\ch-gr_exports\\\\MC_A_8yi\\\\series_step_106.hdf5',\n 'Y:\\\\Istra Repositories\\\\ch-gr_exports\\\\MC_A_8yi\\\\series_step_107.hdf5',\n 'Y:\\\\Istra Repositories\\\\ch-gr_exports\\\\MC_A_8yi\\\\series_step_108.hdf5',\n 'Y:\\\\Istra Repositories\\\\ch-gr_exports\\\\MC_A_8yi\\\\series_step_109.hdf5',\n 'Y:\\\\Istra Repositories\\\\ch-gr_exports\\\\MC_A_8yi\\\\series_step_110.hdf5',\n 'Y:\\\\Istra Repositories\\\\ch-gr_exports\\\\MC_A_8yi\\\\series_step_111.hdf5',\n 'Y:\\\\Istra Repositories\\\\ch-gr_exports\\\\MC_A_8yi\\\\series_step_112.hdf5',\n 'Y:\\\\Istra Repositories\\\\ch-gr_exports\\\\MC_A_8yi\\\\series_step_113.hdf5',\n 'Y:\\\\Istra Repositories\\\\ch-gr_exports\\\\MC_A_8yi\\\\series_step_114.hdf5',\n 'Y:\\\\Istra Repositories\\\\ch-gr_exports\\\\MC_A_8yi\\\\series_step_115.hdf5',\n 'Y:\\\\Istra Repositories\\\\ch-gr_exports\\\\MC_A_8yi\\\\series_step_116.hdf5',\n 'Y:\\\\Istra Repositories\\\\ch-gr_exports\\\\MC_A_8yi\\\\series_step_117.hdf5',\n 'Y:\\\\Istra Repositories\\\\ch-gr_exports\\\\MC_A_8yi\\\\series_step_118.hdf5',\n 'Y:\\\\Istra Repositories\\\\ch-gr_exports\\\\MC_A_8yi\\\\series_step_119.hdf5',\n 'Y:\\\\Istra Repositories\\\\ch-gr_exports\\\\MC_A_8yi\\\\series_step_120.hdf5',\n 'Y:\\\\Istra Repositories\\\\ch-gr_exports\\\\MC_A_8yi\\\\series_step_121.hdf5',\n 'Y:\\\\Istra Repositories\\\\ch-gr_exports\\\\MC_A_8yi\\\\series_step_122.hdf5',\n 'Y:\\\\Istra Repositories\\\\ch-gr_exports\\\\MC_A_8yi\\\\series_step_123.hdf5',\n 'Y:\\\\Istra Repositories\\\\ch-gr_exports\\\\MC_A_8yi\\\\series_step_124.hdf5',\n 'Y:\\\\Istra Repositories\\\\ch-gr_exports\\\\MC_A_8yi\\\\series_step_125.hdf5',\n 'Y:\\\\Istra Repositories\\\\ch-gr_exports\\\\MC_A_8yi\\\\series_step_126.hdf5',\n 'Y:\\\\Istra Repositories\\\\ch-gr_exports\\\\MC_A_8yi\\\\series_step_127.hdf5',\n 'Y:\\\\Istra Repositories\\\\ch-gr_exports\\\\MC_A_8yi\\\\series_step_128.hdf5',\n 'Y:\\\\Istra Repositories\\\\ch-gr_exports\\\\MC_A_8yi\\\\series_step_129.hdf5',\n 'Y:\\\\Istra Repositories\\\\ch-gr_exports\\\\MC_A_8yi\\\\series_step_130.hdf5',\n 'Y:\\\\Istra Repositories\\\\ch-gr_exports\\\\MC_A_8yi\\\\series_step_131.hdf5',\n 'Y:\\\\Istra Repositories\\\\ch-gr_exports\\\\MC_A_8yi\\\\series_step_132.hdf5',\n 'Y:\\\\Istra Repositories\\\\ch-gr_exports\\\\MC_A_8yi\\\\series_step_133.hdf5',\n 'Y:\\\\Istra Repositories\\\\ch-gr_exports\\\\MC_A_8yi\\\\series_step_134.hdf5',\n 'Y:\\\\Istra Repositories\\\\ch-gr_exports\\\\MC_A_8yi\\\\series_step_135.hdf5',\n 'Y:\\\\Istra Repositories\\\\ch-gr_exports\\\\MC_A_8yi\\\\series_step_136.hdf5',\n 'Y:\\\\Istra Repositories\\\\ch-gr_exports\\\\MC_A_8yi\\\\series_step_137.hdf5',\n 'Y:\\\\Istra Repositories\\\\ch-gr_exports\\\\MC_A_8yi\\\\series_step_138.hdf5',\n 'Y:\\\\Istra Repositories\\\\ch-gr_exports\\\\MC_A_8yi\\\\series_step_139.hdf5',\n 'Y:\\\\Istra Repositories\\\\ch-gr_exports\\\\MC_A_8yi\\\\series_step_140.hdf5',\n 'Y:\\\\Istra Repositories\\\\ch-gr_exports\\\\MC_A_8yi\\\\series_step_141.hdf5',\n 'Y:\\\\Istra Repositories\\\\ch-gr_exports\\\\MC_A_8yi\\\\series_step_142.hdf5',\n 'Y:\\\\Istra Repositories\\\\ch-gr_exports\\\\MC_A_8yi\\\\series_step_143.hdf5',\n 'Y:\\\\Istra Repositories\\\\ch-gr_exports\\\\MC_A_8yi\\\\series_step_144.hdf5',\n 'Y:\\\\Istra Repositories\\\\ch-gr_exports\\\\MC_A_8yi\\\\series_step_145.hdf5',\n 'Y:\\\\Istra Repositories\\\\ch-gr_exports\\\\MC_A_8yi\\\\series_step_146.hdf5',\n 'Y:\\\\Istra Repositories\\\\ch-gr_exports\\\\MC_A_8yi\\\\series_step_147.hdf5',\n 'Y:\\\\Istra Repositories\\\\ch-gr_exports\\\\MC_A_8yi\\\\series_step_148.hdf5',\n 'Y:\\\\Istra Repositories\\\\ch-gr_exports\\\\MC_A_8yi\\\\series_step_149.hdf5',\n 'Y:\\\\Istra Repositories\\\\ch-gr_exports\\\\MC_A_8yi\\\\series_step_150.hdf5',\n 'Y:\\\\Istra Repositories\\\\ch-gr_exports\\\\MC_A_8yi\\\\series_step_151.hdf5',\n 'Y:\\\\Istra Repositories\\\\ch-gr_exports\\\\MC_A_8yi\\\\series_step_152.hdf5',\n 'Y:\\\\Istra Repositories\\\\ch-gr_exports\\\\MC_A_8yi\\\\series_step_153.hdf5',\n 'Y:\\\\Istra Repositories\\\\ch-gr_exports\\\\MC_A_8yi\\\\series_step_154.hdf5',\n 'Y:\\\\Istra Repositories\\\\ch-gr_exports\\\\MC_A_8yi\\\\series_step_155.hdf5',\n 'Y:\\\\Istra Repositories\\\\ch-gr_exports\\\\MC_A_8yi\\\\series_step_156.hdf5',\n 'Y:\\\\Istra Repositories\\\\ch-gr_exports\\\\MC_A_8yi\\\\series_step_157.hdf5',\n 'Y:\\\\Istra Repositories\\\\ch-gr_exports\\\\MC_A_8yi\\\\series_step_158.hdf5',\n 'Y:\\\\Istra Repositories\\\\ch-gr_exports\\\\MC_A_8yi\\\\series_step_159.hdf5',\n 'Y:\\\\Istra Repositories\\\\ch-gr_exports\\\\MC_A_8yi\\\\series_step_160.hdf5',\n 'Y:\\\\Istra Repositories\\\\ch-gr_exports\\\\MC_A_8yi\\\\series_step_161.hdf5',\n 'Y:\\\\Istra Repositories\\\\ch-gr_exports\\\\MC_A_8yi\\\\series_step_162.hdf5',\n 'Y:\\\\Istra Repositories\\\\ch-gr_exports\\\\MC_A_8yi\\\\series_step_163.hdf5',\n 'Y:\\\\Istra Repositories\\\\ch-gr_exports\\\\MC_A_8yi\\\\series_step_164.hdf5',\n 'Y:\\\\Istra Repositories\\\\ch-gr_exports\\\\MC_A_8yi\\\\series_step_165.hdf5',\n 'Y:\\\\Istra Repositories\\\\ch-gr_exports\\\\MC_A_8yi\\\\series_step_166.hdf5',\n 'Y:\\\\Istra Repositories\\\\ch-gr_exports\\\\MC_A_8yi\\\\series_step_167.hdf5',\n 'Y:\\\\Istra Repositories\\\\ch-gr_exports\\\\MC_A_8yi\\\\series_step_168.hdf5',\n 'Y:\\\\Istra Repositories\\\\ch-gr_exports\\\\MC_A_8yi\\\\series_step_169.hdf5',\n 'Y:\\\\Istra Repositories\\\\ch-gr_exports\\\\MC_A_8yi\\\\series_step_170.hdf5',\n 'Y:\\\\Istra Repositories\\\\ch-gr_exports\\\\MC_A_8yi\\\\series_step_171.hdf5',\n 'Y:\\\\Istra Repositories\\\\ch-gr_exports\\\\MC_A_8yi\\\\series_step_172.hdf5',\n 'Y:\\\\Istra Repositories\\\\ch-gr_exports\\\\MC_A_8yi\\\\series_step_173.hdf5',\n 'Y:\\\\Istra Repositories\\\\ch-gr_exports\\\\MC_A_8yi\\\\series_step_174.hdf5',\n 'Y:\\\\Istra Repositories\\\\ch-gr_exports\\\\MC_A_8yi\\\\series_step_175.hdf5',\n 'Y:\\\\Istra Repositories\\\\ch-gr_exports\\\\MC_A_8yi\\\\series_step_176.hdf5',\n 'Y:\\\\Istra Repositories\\\\ch-gr_exports\\\\MC_A_8yi\\\\series_step_177.hdf5',\n 'Y:\\\\Istra Repositories\\\\ch-gr_exports\\\\MC_A_8yi\\\\series_step_178.hdf5',\n 'Y:\\\\Istra Repositories\\\\ch-gr_exports\\\\MC_A_8yi\\\\series_step_179.hdf5',\n 'Y:\\\\Istra Repositories\\\\ch-gr_exports\\\\MC_A_8yi\\\\series_step_180.hdf5',\n 'Y:\\\\Istra Repositories\\\\ch-gr_exports\\\\MC_A_8yi\\\\series_step_181.hdf5',\n 'Y:\\\\Istra Repositories\\\\ch-gr_exports\\\\MC_A_8yi\\\\series_step_182.hdf5',\n 'Y:\\\\Istra Repositories\\\\ch-gr_exports\\\\MC_A_8yi\\\\series_step_183.hdf5',\n 'Y:\\\\Istra Repositories\\\\ch-gr_exports\\\\MC_A_8yi\\\\series_step_184.hdf5',\n 'Y:\\\\Istra Repositories\\\\ch-gr_exports\\\\MC_A_8yi\\\\series_step_185.hdf5',\n 'Y:\\\\Istra Repositories\\\\ch-gr_exports\\\\MC_A_8yi\\\\series_step_186.hdf5',\n 'Y:\\\\Istra Repositories\\\\ch-gr_exports\\\\MC_A_8yi\\\\series_step_187.hdf5',\n 'Y:\\\\Istra Repositories\\\\ch-gr_exports\\\\MC_A_8yi\\\\series_step_188.hdf5',\n 'Y:\\\\Istra Repositories\\\\ch-gr_exports\\\\MC_A_8yi\\\\series_step_189.hdf5',\n 'Y:\\\\Istra Repositories\\\\ch-gr_exports\\\\MC_A_8yi\\\\series_step_190.hdf5',\n 'Y:\\\\Istra Repositories\\\\ch-gr_exports\\\\MC_A_8yi\\\\series_step_191.hdf5',\n 'Y:\\\\Istra Repositories\\\\ch-gr_exports\\\\MC_A_8yi\\\\series_step_192.hdf5',\n 'Y:\\\\Istra Repositories\\\\ch-gr_exports\\\\MC_A_8yi\\\\series_step_193.hdf5',\n 'Y:\\\\Istra Repositories\\\\ch-gr_exports\\\\MC_A_8yi\\\\series_step_194.hdf5',\n 'Y:\\\\Istra Repositories\\\\ch-gr_exports\\\\MC_A_8yi\\\\series_step_195.hdf5',\n 'Y:\\\\Istra Repositories\\\\ch-gr_exports\\\\MC_A_8yi\\\\series_step_196.hdf5',\n 'Y:\\\\Istra Repositories\\\\ch-gr_exports\\\\MC_A_8yi\\\\series_step_197.hdf5',\n 'Y:\\\\Istra Repositories\\\\ch-gr_exports\\\\MC_A_8yi\\\\series_step_198.hdf5',\n 'Y:\\\\Istra Repositories\\\\ch-gr_exports\\\\MC_A_8yi\\\\series_step_199.hdf5',\n 'Y:\\\\Istra Repositories\\\\ch-gr_exports\\\\MC_A_8yi\\\\series_step_200.hdf5',\n 'Y:\\\\Istra Repositories\\\\ch-gr_exports\\\\MC_A_8yi\\\\series_step_201.hdf5',\n 'Y:\\\\Istra Repositories\\\\ch-gr_exports\\\\MC_A_8yi\\\\series_step_202.hdf5',\n 'Y:\\\\Istra Repositories\\\\ch-gr_exports\\\\MC_A_8yi\\\\series_step_203.hdf5',\n 'Y:\\\\Istra Repositories\\\\ch-gr_exports\\\\MC_A_8yi\\\\series_step_204.hdf5',\n 'Y:\\\\Istra Repositories\\\\ch-gr_exports\\\\MC_A_8yi\\\\series_step_205.hdf5',\n 'Y:\\\\Istra Repositories\\\\ch-gr_exports\\\\MC_A_8yi\\\\series_step_206.hdf5',\n 'Y:\\\\Istra Repositories\\\\ch-gr_exports\\\\MC_A_8yi\\\\series_step_207.hdf5',\n 'Y:\\\\Istra Repositories\\\\ch-gr_exports\\\\MC_A_8yi\\\\series_step_208.hdf5',\n 'Y:\\\\Istra Repositories\\\\ch-gr_exports\\\\MC_A_8yi\\\\series_step_209.hdf5',\n 'Y:\\\\Istra Repositories\\\\ch-gr_exports\\\\MC_A_8yi\\\\series_step_210.hdf5',\n 'Y:\\\\Istra Repositories\\\\ch-gr_exports\\\\MC_A_8yi\\\\series_step_211.hdf5',\n 'Y:\\\\Istra Repositories\\\\ch-gr_exports\\\\MC_A_8yi\\\\series_step_212.hdf5',\n 'Y:\\\\Istra Repositories\\\\ch-gr_exports\\\\MC_A_8yi\\\\series_step_213.hdf5',\n 'Y:\\\\Istra Repositories\\\\ch-gr_exports\\\\MC_A_8yi\\\\series_step_214.hdf5',\n 'Y:\\\\Istra Repositories\\\\ch-gr_exports\\\\MC_A_8yi\\\\series_step_215.hdf5',\n 'Y:\\\\Istra Repositories\\\\ch-gr_exports\\\\MC_A_8yi\\\\series_step_216.hdf5',\n 'Y:\\\\Istra Repositories\\\\ch-gr_exports\\\\MC_A_8yi\\\\series_step_217.hdf5',\n 'Y:\\\\Istra Repositories\\\\ch-gr_exports\\\\MC_A_8yi\\\\series_step_218.hdf5',\n 'Y:\\\\Istra Repositories\\\\ch-gr_exports\\\\MC_A_8yi\\\\series_step_219.hdf5',\n 'Y:\\\\Istra Repositories\\\\ch-gr_exports\\\\MC_A_8yi\\\\series_step_220.hdf5',\n 'Y:\\\\Istra Repositories\\\\ch-gr_exports\\\\MC_A_8yi\\\\series_step_221.hdf5',\n 'Y:\\\\Istra Repositories\\\\ch-gr_exports\\\\MC_A_8yi\\\\series_step_222.hdf5',\n 'Y:\\\\Istra Repositories\\\\ch-gr_exports\\\\MC_A_8yi\\\\series_step_223.hdf5',\n 'Y:\\\\Istra Repositories\\\\ch-gr_exports\\\\MC_A_8yi\\\\series_step_224.hdf5',\n 'Y:\\\\Istra Repositories\\\\ch-gr_exports\\\\MC_A_8yi\\\\series_step_225.hdf5',\n 'Y:\\\\Istra Repositories\\\\ch-gr_exports\\\\MC_A_8yi\\\\series_step_226.hdf5',\n 'Y:\\\\Istra Repositories\\\\ch-gr_exports\\\\MC_A_8yi\\\\series_step_227.hdf5',\n 'Y:\\\\Istra Repositories\\\\ch-gr_exports\\\\MC_A_8yi\\\\series_step_228.hdf5',\n 'Y:\\\\Istra Repositories\\\\ch-gr_exports\\\\MC_A_8yi\\\\series_step_229.hdf5',\n 'Y:\\\\Istra Repositories\\\\ch-gr_exports\\\\MC_A_8yi\\\\series_step_230.hdf5',\n 'Y:\\\\Istra Repositories\\\\ch-gr_exports\\\\MC_A_8yi\\\\series_step_231.hdf5',\n 'Y:\\\\Istra Repositories\\\\ch-gr_exports\\\\MC_A_8yi\\\\series_step_232.hdf5',\n 'Y:\\\\Istra Repositories\\\\ch-gr_exports\\\\MC_A_8yi\\\\series_step_233.hdf5',\n 'Y:\\\\Istra Repositories\\\\ch-gr_exports\\\\MC_A_8yi\\\\series_step_234.hdf5',\n 'Y:\\\\Istra Repositories\\\\ch-gr_exports\\\\MC_A_8yi\\\\series_step_235.hdf5',\n 'Y:\\\\Istra Repositories\\\\ch-gr_exports\\\\MC_A_8yi\\\\series_step_236.hdf5',\n 'Y:\\\\Istra Repositories\\\\ch-gr_exports\\\\MC_A_8yi\\\\series_step_237.hdf5',\n 'Y:\\\\Istra Repositories\\\\ch-gr_exports\\\\MC_A_8yi\\\\series_step_238.hdf5',\n 'Y:\\\\Istra Repositories\\\\ch-gr_exports\\\\MC_A_8yi\\\\series_step_239.hdf5',\n 'Y:\\\\Istra Repositories\\\\ch-gr_exports\\\\MC_A_8yi\\\\series_step_240.hdf5',\n 'Y:\\\\Istra Repositories\\\\ch-gr_exports\\\\MC_A_8yi\\\\series_step_241.hdf5',\n 'Y:\\\\Istra Repositories\\\\ch-gr_exports\\\\MC_A_8yi\\\\series_step_242.hdf5',\n 'Y:\\\\Istra Repositories\\\\ch-gr_exports\\\\MC_A_8yi\\\\series_step_243.hdf5',\n 'Y:\\\\Istra Repositories\\\\ch-gr_exports\\\\MC_A_8yi\\\\series_step_244.hdf5',\n 'Y:\\\\Istra Repositories\\\\ch-gr_exports\\\\MC_A_8yi\\\\series_step_245.hdf5',\n 'Y:\\\\Istra Repositories\\\\ch-gr_exports\\\\MC_A_8yi\\\\series_step_246.hdf5',\n 'Y:\\\\Istra Repositories\\\\ch-gr_exports\\\\MC_A_8yi\\\\series_step_247.hdf5',\n 'Y:\\\\Istra Repositories\\\\ch-gr_exports\\\\MC_A_8yi\\\\series_step_248.hdf5',\n 'Y:\\\\Istra Repositories\\\\ch-gr_exports\\\\MC_A_8yi\\\\series_step_249.hdf5',\n 'Y:\\\\Istra Repositories\\\\ch-gr_exports\\\\MC_A_8yi\\\\series_step_250.hdf5',\n 'Y:\\\\Istra Repositories\\\\ch-gr_exports\\\\MC_A_8yi\\\\series_step_251.hdf5',\n 'Y:\\\\Istra Repositories\\\\ch-gr_exports\\\\MC_A_8yi\\\\series_step_252.hdf5',\n 'Y:\\\\Istra Repositories\\\\ch-gr_exports\\\\MC_A_8yi\\\\series_step_253.hdf5',\n 'Y:\\\\Istra Repositories\\\\ch-gr_exports\\\\MC_A_8yi\\\\series_step_254.hdf5',\n 'Y:\\\\Istra Repositories\\\\ch-gr_exports\\\\MC_A_8yi\\\\series_step_255.hdf5',\n 'Y:\\\\Istra Repositories\\\\ch-gr_exports\\\\MC_A_8yi\\\\series_step_256.hdf5',\n 'Y:\\\\Istra Repositories\\\\ch-gr_exports\\\\MC_A_8yi\\\\series_step_257.hdf5',\n 'Y:\\\\Istra Repositories\\\\ch-gr_exports\\\\MC_A_8yi\\\\series_step_258.hdf5',\n 'Y:\\\\Istra Repositories\\\\ch-gr_exports\\\\MC_A_8yi\\\\series_step_259.hdf5',\n 'Y:\\\\Istra Repositories\\\\ch-gr_exports\\\\MC_A_8yi\\\\series_step_260.hdf5',\n 'Y:\\\\Istra Repositories\\\\ch-gr_exports\\\\MC_A_8yi\\\\series_step_261.hdf5',\n 'Y:\\\\Istra Repositories\\\\ch-gr_exports\\\\MC_A_8yi\\\\series_step_262.hdf5',\n 'Y:\\\\Istra Repositories\\\\ch-gr_exports\\\\MC_A_8yi\\\\series_step_263.hdf5',\n 'Y:\\\\Istra Repositories\\\\ch-gr_exports\\\\MC_A_8yi\\\\series_step_264.hdf5',\n 'Y:\\\\Istra Repositories\\\\ch-gr_exports\\\\MC_A_8yi\\\\series_step_265.hdf5',\n 'Y:\\\\Istra Repositories\\\\ch-gr_exports\\\\MC_A_8yi\\\\series_step_266.hdf5',\n 'Y:\\\\Istra Repositories\\\\ch-gr_exports\\\\MC_A_8yi\\\\series_step_267.hdf5',\n 'Y:\\\\Istra Repositories\\\\ch-gr_exports\\\\MC_A_8yi\\\\series_step_268.hdf5',\n 'Y:\\\\Istra Repositories\\\\ch-gr_exports\\\\MC_A_8yi\\\\series_step_269.hdf5',\n 'Y:\\\\Istra Repositories\\\\ch-gr_exports\\\\MC_A_8yi\\\\series_step_270.hdf5',\n 'Y:\\\\Istra Repositories\\\\ch-gr_exports\\\\MC_A_8yi\\\\series_step_271.hdf5',\n 'Y:\\\\Istra Repositories\\\\ch-gr_exports\\\\MC_A_8yi\\\\series_step_272.hdf5',\n 'Y:\\\\Istra Repositories\\\\ch-gr_exports\\\\MC_A_8yi\\\\series_step_273.hdf5',\n 'Y:\\\\Istra Repositories\\\\ch-gr_exports\\\\MC_A_8yi\\\\series_step_274.hdf5',\n 'Y:\\\\Istra Repositories\\\\ch-gr_exports\\\\MC_A_8yi\\\\series_step_275.hdf5',\n 'Y:\\\\Istra Repositories\\\\ch-gr_exports\\\\MC_A_8yi\\\\series_step_276.hdf5',\n 'Y:\\\\Istra Repositories\\\\ch-gr_exports\\\\MC_A_8yi\\\\series_step_277.hdf5',\n 'Y:\\\\Istra Repositories\\\\ch-gr_exports\\\\MC_A_8yi\\\\series_step_278.hdf5',\n 'Y:\\\\Istra Repositories\\\\ch-gr_exports\\\\MC_A_8yi\\\\series_step_279.hdf5',\n 'Y:\\\\Istra Repositories\\\\ch-gr_exports\\\\MC_A_8yi\\\\series_step_280.hdf5',\n 'Y:\\\\Istra Repositories\\\\ch-gr_exports\\\\MC_A_8yi\\\\series_step_281.hdf5',\n 'Y:\\\\Istra Repositories\\\\ch-gr_exports\\\\MC_A_8yi\\\\series_step_282.hdf5',\n 'Y:\\\\Istra Repositories\\\\ch-gr_exports\\\\MC_A_8yi\\\\series_step_283.hdf5',\n 'Y:\\\\Istra Repositories\\\\ch-gr_exports\\\\MC_A_8yi\\\\series_step_284.hdf5',\n 'Y:\\\\Istra Repositories\\\\ch-gr_exports\\\\MC_A_8yi\\\\series_step_285.hdf5',\n 'Y:\\\\Istra Repositories\\\\ch-gr_exports\\\\MC_A_8yi\\\\series_step_286.hdf5',\n 'Y:\\\\Istra Repositories\\\\ch-gr_exports\\\\MC_A_8yi\\\\series_step_287.hdf5',\n 'Y:\\\\Istra Repositories\\\\ch-gr_exports\\\\MC_A_8yi\\\\series_step_288.hdf5',\n 'Y:\\\\Istra Repositories\\\\ch-gr_exports\\\\MC_A_8yi\\\\series_step_289.hdf5',\n 'Y:\\\\Istra Repositories\\\\ch-gr_exports\\\\MC_A_8yi\\\\series_step_290.hdf5',\n 'Y:\\\\Istra Repositories\\\\ch-gr_exports\\\\MC_A_8yi\\\\series_step_291.hdf5',\n 'Y:\\\\Istra Repositories\\\\ch-gr_exports\\\\MC_A_8yi\\\\series_step_292.hdf5',\n 'Y:\\\\Istra Repositories\\\\ch-gr_exports\\\\MC_A_8yi\\\\series_step_293.hdf5',\n 'Y:\\\\Istra Repositories\\\\ch-gr_exports\\\\MC_A_8yi\\\\series_step_294.hdf5',\n 'Y:\\\\Istra Repositories\\\\ch-gr_exports\\\\MC_A_8yi\\\\series_step_295.hdf5',\n 'Y:\\\\Istra Repositories\\\\ch-gr_exports\\\\MC_A_8yi\\\\series_step_296.hdf5',\n 'Y:\\\\Istra Repositories\\\\ch-gr_exports\\\\MC_A_8yi\\\\series_step_297.hdf5',\n 'Y:\\\\Istra Repositories\\\\ch-gr_exports\\\\MC_A_8yi\\\\series_step_298.hdf5',\n 'Y:\\\\Istra Repositories\\\\ch-gr_exports\\\\MC_A_8yi\\\\series_step_299.hdf5',\n 'Y:\\\\Istra Repositories\\\\ch-gr_exports\\\\MC_A_8yi\\\\series_step_300.hdf5',\n 'Y:\\\\Istra Repositories\\\\ch-gr_exports\\\\MC_A_8yi\\\\series_step_301.hdf5',\n 'Y:\\\\Istra Repositories\\\\ch-gr_exports\\\\MC_A_8yi\\\\series_step_302.hdf5',\n 'Y:\\\\Istra Repositories\\\\ch-gr_exports\\\\MC_A_8yi\\\\series_step_303.hdf5',\n 'Y:\\\\Istra Repositories\\\\ch-gr_exports\\\\MC_A_8yi\\\\series_step_304.hdf5',\n 'Y:\\\\Istra Repositories\\\\ch-gr_exports\\\\MC_A_8yi\\\\series_step_305.hdf5',\n 'Y:\\\\Istra Repositories\\\\ch-gr_exports\\\\MC_A_8yi\\\\series_step_306.hdf5',\n 'Y:\\\\Istra Repositories\\\\ch-gr_exports\\\\MC_A_8yi\\\\series_step_307.hdf5',\n 'Y:\\\\Istra Repositories\\\\ch-gr_exports\\\\MC_A_8yi\\\\series_step_308.hdf5',\n 'Y:\\\\Istra Repositories\\\\ch-gr_exports\\\\MC_A_8yi\\\\series_step_309.hdf5',\n 'Y:\\\\Istra Repositories\\\\ch-gr_exports\\\\MC_A_8yi\\\\series_step_310.hdf5',\n 'Y:\\\\Istra Repositories\\\\ch-gr_exports\\\\MC_A_8yi\\\\series_step_311.hdf5',\n 'Y:\\\\Istra Repositories\\\\ch-gr_exports\\\\MC_A_8yi\\\\series_step_312.hdf5',\n 'Y:\\\\Istra Repositories\\\\ch-gr_exports\\\\MC_A_8yi\\\\series_step_313.hdf5',\n 'Y:\\\\Istra Repositories\\\\ch-gr_exports\\\\MC_A_8yi\\\\series_step_314.hdf5',\n 'Y:\\\\Istra Repositories\\\\ch-gr_exports\\\\MC_A_8yi\\\\series_step_315.hdf5',\n 'Y:\\\\Istra Repositories\\\\ch-gr_exports\\\\MC_A_8yi\\\\series_step_316.hdf5',\n 'Y:\\\\Istra Repositories\\\\ch-gr_exports\\\\MC_A_8yi\\\\series_step_317.hdf5',\n 'Y:\\\\Istra Repositories\\\\ch-gr_exports\\\\MC_A_8yi\\\\series_step_318.hdf5',\n 'Y:\\\\Istra Repositories\\\\ch-gr_exports\\\\MC_A_8yi\\\\series_step_319.hdf5',\n 'Y:\\\\Istra Repositories\\\\ch-gr_exports\\\\MC_A_8yi\\\\series_step_320.hdf5',\n 'Y:\\\\Istra Repositories\\\\ch-gr_exports\\\\MC_A_8yi\\\\series_step_321.hdf5',\n 'Y:\\\\Istra Repositories\\\\ch-gr_exports\\\\MC_A_8yi\\\\series_step_322.hdf5',\n 'Y:\\\\Istra Repositories\\\\ch-gr_exports\\\\MC_A_8yi\\\\series_step_323.hdf5',\n 'Y:\\\\Istra Repositories\\\\ch-gr_exports\\\\MC_A_8yi\\\\series_step_324.hdf5',\n 'Y:\\\\Istra Repositories\\\\ch-gr_exports\\\\MC_A_8yi\\\\series_step_325.hdf5',\n 'Y:\\\\Istra Repositories\\\\ch-gr_exports\\\\MC_A_8yi\\\\series_step_326.hdf5',\n 'Y:\\\\Istra Repositories\\\\ch-gr_exports\\\\MC_A_8yi\\\\series_step_327.hdf5',\n 'Y:\\\\Istra Repositories\\\\ch-gr_exports\\\\MC_A_8yi\\\\series_step_328.hdf5',\n 'Y:\\\\Istra Repositories\\\\ch-gr_exports\\\\MC_A_8yi\\\\series_step_329.hdf5',\n 'Y:\\\\Istra Repositories\\\\ch-gr_exports\\\\MC_A_8yi\\\\series_step_330.hdf5',\n 'Y:\\\\Istra Repositories\\\\ch-gr_exports\\\\MC_A_8yi\\\\series_step_331.hdf5',\n 'Y:\\\\Istra Repositories\\\\ch-gr_exports\\\\MC_A_8yi\\\\series_step_332.hdf5',\n 'Y:\\\\Istra Repositories\\\\ch-gr_exports\\\\MC_A_8yi\\\\series_step_333.hdf5',\n 'Y:\\\\Istra Repositories\\\\ch-gr_exports\\\\MC_A_8yi\\\\series_step_334.hdf5',\n 'Y:\\\\Istra Repositories\\\\ch-gr_exports\\\\MC_A_8yi\\\\series_step_335.hdf5',\n 'Y:\\\\Istra Repositories\\\\ch-gr_exports\\\\MC_A_8yi\\\\series_step_336.hdf5',\n 'Y:\\\\Istra Repositories\\\\ch-gr_exports\\\\MC_A_8yi\\\\series_step_337.hdf5',\n 'Y:\\\\Istra Repositories\\\\ch-gr_exports\\\\MC_A_8yi\\\\series_step_338.hdf5',\n 'Y:\\\\Istra Repositories\\\\ch-gr_exports\\\\MC_A_8yi\\\\series_step_339.hdf5',\n 'Y:\\\\Istra Repositories\\\\ch-gr_exports\\\\MC_A_8yi\\\\series_step_340.hdf5',\n 'Y:\\\\Istra Repositories\\\\ch-gr_exports\\\\MC_A_8yi\\\\series_step_341.hdf5',\n 'Y:\\\\Istra Repositories\\\\ch-gr_exports\\\\MC_A_8yi\\\\series_step_342.hdf5',\n 'Y:\\\\Istra Repositories\\\\ch-gr_exports\\\\MC_A_8yi\\\\series_step_343.hdf5',\n 'Y:\\\\Istra Repositories\\\\ch-gr_exports\\\\MC_A_8yi\\\\series_step_344.hdf5',\n 'Y:\\\\Istra Repositories\\\\ch-gr_exports\\\\MC_A_8yi\\\\series_step_345.hdf5',\n 'Y:\\\\Istra Repositories\\\\ch-gr_exports\\\\MC_A_8yi\\\\series_step_346.hdf5',\n 'Y:\\\\Istra Repositories\\\\ch-gr_exports\\\\MC_A_8yi\\\\series_step_347.hdf5',\n 'Y:\\\\Istra Repositories\\\\ch-gr_exports\\\\MC_A_8yi\\\\series_step_348.hdf5',\n 'Y:\\\\Istra Repositories\\\\ch-gr_exports\\\\MC_A_8yi\\\\series_step_349.hdf5',\n 'Y:\\\\Istra Repositories\\\\ch-gr_exports\\\\MC_A_8yi\\\\series_step_350.hdf5',\n 'Y:\\\\Istra Repositories\\\\ch-gr_exports\\\\MC_A_8yi\\\\series_step_351.hdf5',\n 'Y:\\\\Istra Repositories\\\\ch-gr_exports\\\\MC_A_8yi\\\\series_step_352.hdf5',\n 'Y:\\\\Istra Repositories\\\\ch-gr_exports\\\\MC_A_8yi\\\\series_step_353.hdf5',\n 'Y:\\\\Istra Repositories\\\\ch-gr_exports\\\\MC_A_8yi\\\\series_step_354.hdf5',\n 'Y:\\\\Istra Repositories\\\\ch-gr_exports\\\\MC_A_8yi\\\\series_step_355.hdf5',\n 'Y:\\\\Istra Repositories\\\\ch-gr_exports\\\\MC_A_8yi\\\\series_step_356.hdf5',\n 'Y:\\\\Istra Repositories\\\\ch-gr_exports\\\\MC_A_8yi\\\\series_step_357.hdf5',\n 'Y:\\\\Istra Repositories\\\\ch-gr_exports\\\\MC_A_8yi\\\\series_step_358.hdf5',\n 'Y:\\\\Istra Repositories\\\\ch-gr_exports\\\\MC_A_8yi\\\\series_step_359.hdf5',\n 'Y:\\\\Istra Repositories\\\\ch-gr_exports\\\\MC_A_8yi\\\\series_step_360.hdf5',\n 'Y:\\\\Istra Repositories\\\\ch-gr_exports\\\\MC_A_8yi\\\\series_step_361.hdf5',\n 'Y:\\\\Istra Repositories\\\\ch-gr_exports\\\\MC_A_8yi\\\\series_step_362.hdf5',\n 'Y:\\\\Istra Repositories\\\\ch-gr_exports\\\\MC_A_8yi\\\\series_step_363.hdf5',\n 'Y:\\\\Istra Repositories\\\\ch-gr_exports\\\\MC_A_8yi\\\\series_step_364.hdf5',\n 'Y:\\\\Istra Repositories\\\\ch-gr_exports\\\\MC_A_8yi\\\\series_step_365.hdf5',\n 'Y:\\\\Istra Repositories\\\\ch-gr_exports\\\\MC_A_8yi\\\\series_step_366.hdf5',\n 'Y:\\\\Istra Repositories\\\\ch-gr_exports\\\\MC_A_8yi\\\\series_step_367.hdf5',\n 'Y:\\\\Istra Repositories\\\\ch-gr_exports\\\\MC_A_8yi\\\\series_step_368.hdf5',\n 'Y:\\\\Istra Repositories\\\\ch-gr_exports\\\\MC_A_8yi\\\\series_step_369.hdf5',\n 'Y:\\\\Istra Repositories\\\\ch-gr_exports\\\\MC_A_8yi\\\\series_step_370.hdf5',\n 'Y:\\\\Istra Repositories\\\\ch-gr_exports\\\\MC_A_8yi\\\\series_step_371.hdf5',\n 'Y:\\\\Istra Repositories\\\\ch-gr_exports\\\\MC_A_8yi\\\\series_step_372.hdf5',\n 'Y:\\\\Istra Repositories\\\\ch-gr_exports\\\\MC_A_8yi\\\\series_step_373.hdf5',\n 'Y:\\\\Istra Repositories\\\\ch-gr_exports\\\\MC_A_8yi\\\\series_step_374.hdf5',\n 'Y:\\\\Istra Repositories\\\\ch-gr_exports\\\\MC_A_8yi\\\\series_step_375.hdf5',\n 'Y:\\\\Istra Repositories\\\\ch-gr_exports\\\\MC_A_8yi\\\\series_step_376.hdf5',\n 'Y:\\\\Istra Repositories\\\\ch-gr_exports\\\\MC_A_8yi\\\\series_step_377.hdf5',\n 'Y:\\\\Istra Repositories\\\\ch-gr_exports\\\\MC_A_8yi\\\\series_step_378.hdf5',\n 'Y:\\\\Istra Repositories\\\\ch-gr_exports\\\\MC_A_8yi\\\\series_step_379.hdf5',\n 'Y:\\\\Istra Repositories\\\\ch-gr_exports\\\\MC_A_8yi\\\\series_step_380.hdf5',\n 'Y:\\\\Istra Repositories\\\\ch-gr_exports\\\\MC_A_8yi\\\\series_step_381.hdf5',\n 'Y:\\\\Istra Repositories\\\\ch-gr_exports\\\\MC_A_8yi\\\\series_step_382.hdf5',\n 'Y:\\\\Istra Repositories\\\\ch-gr_exports\\\\MC_A_8yi\\\\series_step_383.hdf5',\n 'Y:\\\\Istra Repositories\\\\ch-gr_exports\\\\MC_A_8yi\\\\series_step_384.hdf5',\n 'Y:\\\\Istra Repositories\\\\ch-gr_exports\\\\MC_A_8yi\\\\series_step_385.hdf5',\n 'Y:\\\\Istra Repositories\\\\ch-gr_exports\\\\MC_A_8yi\\\\series_step_386.hdf5',\n 'Y:\\\\Istra Repositories\\\\ch-gr_exports\\\\MC_A_8yi\\\\series_step_387.hdf5',\n 'Y:\\\\Istra Repositories\\\\ch-gr_exports\\\\MC_A_8yi\\\\series_step_388.hdf5',\n 'Y:\\\\Istra Repositories\\\\ch-gr_exports\\\\MC_A_8yi\\\\series_step_389.hdf5',\n 'Y:\\\\Istra Repositories\\\\ch-gr_exports\\\\MC_A_8yi\\\\series_step_390.hdf5',\n 'Y:\\\\Istra Repositories\\\\ch-gr_exports\\\\MC_A_8yi\\\\series_step_391.hdf5',\n 'Y:\\\\Istra Repositories\\\\ch-gr_exports\\\\MC_A_8yi\\\\series_step_392.hdf5',\n 'Y:\\\\Istra Repositories\\\\ch-gr_exports\\\\MC_A_8yi\\\\series_step_393.hdf5',\n 'Y:\\\\Istra Repositories\\\\ch-gr_exports\\\\MC_A_8yi\\\\series_step_394.hdf5',\n 'Y:\\\\Istra Repositories\\\\ch-gr_exports\\\\MC_A_8yi\\\\series_step_395.hdf5',\n 'Y:\\\\Istra Repositories\\\\ch-gr_exports\\\\MC_A_8yi\\\\series_step_396.hdf5',\n 'Y:\\\\Istra Repositories\\\\ch-gr_exports\\\\MC_A_8yi\\\\series_step_397.hdf5',\n 'Y:\\\\Istra Repositories\\\\ch-gr_exports\\\\MC_A_8yi\\\\series_step_398.hdf5',\n 'Y:\\\\Istra Repositories\\\\ch-gr_exports\\\\MC_A_8yi\\\\series_step_399.hdf5',\n 'Y:\\\\Istra Repositories\\\\ch-gr_exports\\\\MC_A_8yi\\\\series_step_400.hdf5',\n 'Y:\\\\Istra Repositories\\\\ch-gr_exports\\\\MC_A_8yi\\\\series_step_401.hdf5',\n 'Y:\\\\Istra Repositories\\\\ch-gr_exports\\\\MC_A_8yi\\\\series_step_402.hdf5',\n 'Y:\\\\Istra Repositories\\\\ch-gr_exports\\\\MC_A_8yi\\\\series_step_403.hdf5',\n 'Y:\\\\Istra Repositories\\\\ch-gr_exports\\\\MC_A_8yi\\\\series_step_404.hdf5',\n 'Y:\\\\Istra Repositories\\\\ch-gr_exports\\\\MC_A_8yi\\\\series_step_405.hdf5',\n 'Y:\\\\Istra Repositories\\\\ch-gr_exports\\\\MC_A_8yi\\\\series_step_406.hdf5',\n 'Y:\\\\Istra Repositories\\\\ch-gr_exports\\\\MC_A_8yi\\\\series_step_407.hdf5',\n 'Y:\\\\Istra Repositories\\\\ch-gr_exports\\\\MC_A_8yi\\\\series_step_408.hdf5',\n 'Y:\\\\Istra Repositories\\\\ch-gr_exports\\\\MC_A_8yi\\\\series_step_409.hdf5',\n 'Y:\\\\Istra Repositories\\\\ch-gr_exports\\\\MC_A_8yi\\\\series_step_410.hdf5',\n 'Y:\\\\Istra Repositories\\\\ch-gr_exports\\\\MC_A_8yi\\\\series_step_411.hdf5',\n 'Y:\\\\Istra Repositories\\\\ch-gr_exports\\\\MC_A_8yi\\\\series_step_412.hdf5',\n 'Y:\\\\Istra Repositories\\\\ch-gr_exports\\\\MC_A_8yi\\\\series_step_413.hdf5',\n 'Y:\\\\Istra Repositories\\\\ch-gr_exports\\\\MC_A_8yi\\\\series_step_414.hdf5',\n 'Y:\\\\Istra Repositories\\\\ch-gr_exports\\\\MC_A_8yi\\\\series_step_415.hdf5',\n 'Y:\\\\Istra Repositories\\\\ch-gr_exports\\\\MC_A_8yi\\\\series_step_416.hdf5',\n 'Y:\\\\Istra Repositories\\\\ch-gr_exports\\\\MC_A_8yi\\\\series_step_417.hdf5',\n 'Y:\\\\Istra Repositories\\\\ch-gr_exports\\\\MC_A_8yi\\\\series_step_418.hdf5',\n 'Y:\\\\Istra Repositories\\\\ch-gr_exports\\\\MC_A_8yi\\\\series_step_419.hdf5',\n 'Y:\\\\Istra Repositories\\\\ch-gr_exports\\\\MC_A_8yi\\\\series_step_420.hdf5',\n 'Y:\\\\Istra Repositories\\\\ch-gr_exports\\\\MC_A_8yi\\\\series_step_421.hdf5',\n 'Y:\\\\Istra Repositories\\\\ch-gr_exports\\\\MC_A_8yi\\\\series_step_422.hdf5',\n 'Y:\\\\Istra Repositories\\\\ch-gr_exports\\\\MC_A_8yi\\\\series_step_423.hdf5',\n 'Y:\\\\Istra Repositories\\\\ch-gr_exports\\\\MC_A_8yi\\\\series_step_424.hdf5',\n 'Y:\\\\Istra Repositories\\\\ch-gr_exports\\\\MC_A_8yi\\\\series_step_425.hdf5',\n 'Y:\\\\Istra Repositories\\\\ch-gr_exports\\\\MC_A_8yi\\\\series_step_426.hdf5',\n 'Y:\\\\Istra Repositories\\\\ch-gr_exports\\\\MC_A_8yi\\\\series_step_427.hdf5',\n 'Y:\\\\Istra Repositories\\\\ch-gr_exports\\\\MC_A_8yi\\\\series_step_428.hdf5',\n 'Y:\\\\Istra Repositories\\\\ch-gr_exports\\\\MC_A_8yi\\\\series_step_429.hdf5',\n 'Y:\\\\Istra Repositories\\\\ch-gr_exports\\\\MC_A_8yi\\\\series_step_430.hdf5',\n 'Y:\\\\Istra Repositories\\\\ch-gr_exports\\\\MC_A_8yi\\\\series_step_431.hdf5',\n 'Y:\\\\Istra Repositories\\\\ch-gr_exports\\\\MC_A_8yi\\\\series_step_432.hdf5',\n 'Y:\\\\Istra Repositories\\\\ch-gr_exports\\\\MC_A_8yi\\\\series_step_433.hdf5',\n 'Y:\\\\Istra Repositories\\\\ch-gr_exports\\\\MC_A_8yi\\\\series_step_434.hdf5',\n 'Y:\\\\Istra Repositories\\\\ch-gr_exports\\\\MC_A_8yi\\\\series_step_435.hdf5',\n 'Y:\\\\Istra Repositories\\\\ch-gr_exports\\\\MC_A_8yi\\\\series_step_436.hdf5',\n 'Y:\\\\Istra Repositories\\\\ch-gr_exports\\\\MC_A_8yi\\\\series_step_437.hdf5',\n 'Y:\\\\Istra Repositories\\\\ch-gr_exports\\\\MC_A_8yi\\\\series_step_438.hdf5',\n 'Y:\\\\Istra Repositories\\\\ch-gr_exports\\\\MC_A_8yi\\\\series_step_439.hdf5',\n 'Y:\\\\Istra Repositories\\\\ch-gr_exports\\\\MC_A_8yi\\\\series_step_440.hdf5',\n 'Y:\\\\Istra Repositories\\\\ch-gr_exports\\\\MC_A_8yi\\\\series_step_441.hdf5',\n 'Y:\\\\Istra Repositories\\\\ch-gr_exports\\\\MC_A_8yi\\\\series_step_442.hdf5',\n 'Y:\\\\Istra Repositories\\\\ch-gr_exports\\\\MC_A_8yi\\\\series_step_443.hdf5',\n 'Y:\\\\Istra Repositories\\\\ch-gr_exports\\\\MC_A_8yi\\\\series_step_444.hdf5',\n 'Y:\\\\Istra Repositories\\\\ch-gr_exports\\\\MC_A_8yi\\\\series_step_445.hdf5',\n 'Y:\\\\Istra Repositories\\\\ch-gr_exports\\\\MC_A_8yi\\\\series_step_446.hdf5',\n 'Y:\\\\Istra Repositories\\\\ch-gr_exports\\\\MC_A_8yi\\\\series_step_447.hdf5',\n 'Y:\\\\Istra Repositories\\\\ch-gr_exports\\\\MC_A_8yi\\\\series_step_448.hdf5',\n 'Y:\\\\Istra Repositories\\\\ch-gr_exports\\\\MC_A_8yi\\\\series_step_449.hdf5',\n 'Y:\\\\Istra Repositories\\\\ch-gr_exports\\\\MC_A_8yi\\\\series_step_450.hdf5',\n 'Y:\\\\Istra Repositories\\\\ch-gr_exports\\\\MC_A_8yi\\\\series_step_451.hdf5',\n 'Y:\\\\Istra Repositories\\\\ch-gr_exports\\\\MC_A_8yi\\\\series_step_452.hdf5',\n 'Y:\\\\Istra Repositories\\\\ch-gr_exports\\\\MC_A_8yi\\\\series_step_453.hdf5',\n 'Y:\\\\Istra Repositories\\\\ch-gr_exports\\\\MC_A_8yi\\\\series_step_454.hdf5',\n 'Y:\\\\Istra Repositories\\\\ch-gr_exports\\\\MC_A_8yi\\\\series_step_455.hdf5',\n 'Y:\\\\Istra Repositories\\\\ch-gr_exports\\\\MC_A_8yi\\\\series_step_456.hdf5',\n 'Y:\\\\Istra Repositories\\\\ch-gr_exports\\\\MC_A_8yi\\\\series_step_457.hdf5',\n 'Y:\\\\Istra Repositories\\\\ch-gr_exports\\\\MC_A_8yi\\\\series_step_458.hdf5',\n 'Y:\\\\Istra Repositories\\\\ch-gr_exports\\\\MC_A_8yi\\\\series_step_459.hdf5',\n 'Y:\\\\Istra Repositories\\\\ch-gr_exports\\\\MC_A_8yi\\\\series_step_460.hdf5',\n 'Y:\\\\Istra Repositories\\\\ch-gr_exports\\\\MC_A_8yi\\\\series_step_461.hdf5',\n 'Y:\\\\Istra Repositories\\\\ch-gr_exports\\\\MC_A_8yi\\\\series_step_462.hdf5',\n 'Y:\\\\Istra Repositories\\\\ch-gr_exports\\\\MC_A_8yi\\\\series_step_463.hdf5',\n 'Y:\\\\Istra Repositories\\\\ch-gr_exports\\\\MC_A_8yi\\\\series_step_464.hdf5',\n 'Y:\\\\Istra Repositories\\\\ch-gr_exports\\\\MC_A_8yi\\\\series_step_465.hdf5',\n 'Y:\\\\Istra Repositories\\\\ch-gr_exports\\\\MC_A_8yi\\\\series_step_466.hdf5',\n 'Y:\\\\Istra Repositories\\\\ch-gr_exports\\\\MC_A_8yi\\\\series_step_467.hdf5',\n 'Y:\\\\Istra Repositories\\\\ch-gr_exports\\\\MC_A_8yi\\\\series_step_468.hdf5',\n 'Y:\\\\Istra Repositories\\\\ch-gr_exports\\\\MC_A_8yi\\\\series_step_469.hdf5',\n 'Y:\\\\Istra Repositories\\\\ch-gr_exports\\\\MC_A_8yi\\\\series_step_470.hdf5',\n 'Y:\\\\Istra Repositories\\\\ch-gr_exports\\\\MC_A_8yi\\\\series_step_471.hdf5',\n 'Y:\\\\Istra Repositories\\\\ch-gr_exports\\\\MC_A_8yi\\\\series_step_472.hdf5',\n 'Y:\\\\Istra Repositories\\\\ch-gr_exports\\\\MC_A_8yi\\\\series_step_473.hdf5',\n 'Y:\\\\Istra Repositories\\\\ch-gr_exports\\\\MC_A_8yi\\\\series_step_474.hdf5',\n 'Y:\\\\Istra Repositories\\\\ch-gr_exports\\\\MC_A_8yi\\\\series_step_475.hdf5',\n 'Y:\\\\Istra Repositories\\\\ch-gr_exports\\\\MC_A_8yi\\\\series_step_476.hdf5',\n 'Y:\\\\Istra Repositories\\\\ch-gr_exports\\\\MC_A_8yi\\\\series_step_477.hdf5',\n 'Y:\\\\Istra Repositories\\\\ch-gr_exports\\\\MC_A_8yi\\\\series_step_478.hdf5',\n 'Y:\\\\Istra Repositories\\\\ch-gr_exports\\\\MC_A_8yi\\\\series_step_479.hdf5',\n 'Y:\\\\Istra Repositories\\\\ch-gr_exports\\\\MC_A_8yi\\\\series_step_480.hdf5',\n 'Y:\\\\Istra Repositories\\\\ch-gr_exports\\\\MC_A_8yi\\\\series_step_481.hdf5',\n 'Y:\\\\Istra Repositories\\\\ch-gr_exports\\\\MC_A_8yi\\\\series_step_482.hdf5',\n 'Y:\\\\Istra Repositories\\\\ch-gr_exports\\\\MC_A_8yi\\\\series_step_483.hdf5',\n 'Y:\\\\Istra Repositories\\\\ch-gr_exports\\\\MC_A_8yi\\\\series_step_484.hdf5',\n 'Y:\\\\Istra Repositories\\\\ch-gr_exports\\\\MC_A_8yi\\\\series_step_485.hdf5',\n 'Y:\\\\Istra Repositories\\\\ch-gr_exports\\\\MC_A_8yi\\\\series_step_486.hdf5',\n 'Y:\\\\Istra Repositories\\\\ch-gr_exports\\\\MC_A_8yi\\\\series_step_487.hdf5',\n 'Y:\\\\Istra Repositories\\\\ch-gr_exports\\\\MC_A_8yi\\\\series_step_488.hdf5',\n 'Y:\\\\Istra Repositories\\\\ch-gr_exports\\\\MC_A_8yi\\\\series_step_489.hdf5',\n 'Y:\\\\Istra Repositories\\\\ch-gr_exports\\\\MC_A_8yi\\\\series_step_490.hdf5',\n 'Y:\\\\Istra Repositories\\\\ch-gr_exports\\\\MC_A_8yi\\\\series_step_491.hdf5',\n 'Y:\\\\Istra Repositories\\\\ch-gr_exports\\\\MC_A_8yi\\\\series_step_492.hdf5',\n 'Y:\\\\Istra Repositories\\\\ch-gr_exports\\\\MC_A_8yi\\\\series_step_493.hdf5',\n 'Y:\\\\Istra Repositories\\\\ch-gr_exports\\\\MC_A_8yi\\\\series_step_494.hdf5',\n 'Y:\\\\Istra Repositories\\\\ch-gr_exports\\\\MC_A_8yi\\\\series_step_495.hdf5',\n 'Y:\\\\Istra Repositories\\\\ch-gr_exports\\\\MC_A_8yi\\\\series_step_496.hdf5',\n 'Y:\\\\Istra Repositories\\\\ch-gr_exports\\\\MC_A_8yi\\\\series_step_497.hdf5',\n 'Y:\\\\Istra Repositories\\\\ch-gr_exports\\\\MC_A_8yi\\\\series_step_498.hdf5',\n 'Y:\\\\Istra Repositories\\\\ch-gr_exports\\\\MC_A_8yi\\\\series_step_499.hdf5',\n 'Y:\\\\Istra Repositories\\\\ch-gr_exports\\\\MC_A_8yi\\\\series_step_500.hdf5',\n 'Y:\\\\Istra Repositories\\\\ch-gr_exports\\\\MC_A_8yi\\\\series_step_501.hdf5',\n 'Y:\\\\Istra Repositories\\\\ch-gr_exports\\\\MC_A_8yi\\\\series_step_502.hdf5',\n 'Y:\\\\Istra Repositories\\\\ch-gr_exports\\\\MC_A_8yi\\\\series_step_503.hdf5',\n 'Y:\\\\Istra Repositories\\\\ch-gr_exports\\\\MC_A_8yi\\\\series_step_504.hdf5',\n 'Y:\\\\Istra Repositories\\\\ch-gr_exports\\\\MC_A_8yi\\\\series_step_505.hdf5',\n 'Y:\\\\Istra Repositories\\\\ch-gr_exports\\\\MC_A_8yi\\\\series_step_506.hdf5',\n 'Y:\\\\Istra Repositories\\\\ch-gr_exports\\\\MC_A_8yi\\\\series_step_507.hdf5',\n 'Y:\\\\Istra Repositories\\\\ch-gr_exports\\\\MC_A_8yi\\\\series_step_508.hdf5',\n 'Y:\\\\Istra Repositories\\\\ch-gr_exports\\\\MC_A_8yi\\\\series_step_509.hdf5',\n 'Y:\\\\Istra Repositories\\\\ch-gr_exports\\\\MC_A_8yi\\\\series_step_510.hdf5',\n 'Y:\\\\Istra Repositories\\\\ch-gr_exports\\\\MC_A_8yi\\\\series_step_511.hdf5',\n 'Y:\\\\Istra Repositories\\\\ch-gr_exports\\\\MC_A_8yi\\\\series_step_512.hdf5',\n 'Y:\\\\Istra Repositories\\\\ch-gr_exports\\\\MC_A_8yi\\\\series_step_513.hdf5',\n 'Y:\\\\Istra Repositories\\\\ch-gr_exports\\\\MC_A_8yi\\\\series_step_514.hdf5',\n 'Y:\\\\Istra Repositories\\\\ch-gr_exports\\\\MC_A_8yi\\\\series_step_515.hdf5',\n 'Y:\\\\Istra Repositories\\\\ch-gr_exports\\\\MC_A_8yi\\\\series_step_516.hdf5',\n 'Y:\\\\Istra Repositories\\\\ch-gr_exports\\\\MC_A_8yi\\\\series_step_517.hdf5',\n 'Y:\\\\Istra Repositories\\\\ch-gr_exports\\\\MC_A_8yi\\\\series_step_518.hdf5',\n 'Y:\\\\Istra Repositories\\\\ch-gr_exports\\\\MC_A_8yi\\\\series_step_519.hdf5',\n 'Y:\\\\Istra Repositories\\\\ch-gr_exports\\\\MC_A_8yi\\\\series_step_520.hdf5',\n 'Y:\\\\Istra Repositories\\\\ch-gr_exports\\\\MC_A_8yi\\\\series_step_521.hdf5',\n 'Y:\\\\Istra Repositories\\\\ch-gr_exports\\\\MC_A_8yi\\\\series_step_522.hdf5',\n 'Y:\\\\Istra Repositories\\\\ch-gr_exports\\\\MC_A_8yi\\\\series_step_523.hdf5',\n 'Y:\\\\Istra Repositories\\\\ch-gr_exports\\\\MC_A_8yi\\\\series_step_524.hdf5',\n 'Y:\\\\Istra Repositories\\\\ch-gr_exports\\\\MC_A_8yi\\\\series_step_525.hdf5',\n 'Y:\\\\Istra Repositories\\\\ch-gr_exports\\\\MC_A_8yi\\\\series_step_526.hdf5',\n 'Y:\\\\Istra Repositories\\\\ch-gr_exports\\\\MC_A_8yi\\\\series_step_527.hdf5',\n 'Y:\\\\Istra Repositories\\\\ch-gr_exports\\\\MC_A_8yi\\\\series_step_528.hdf5',\n 'Y:\\\\Istra Repositories\\\\ch-gr_exports\\\\MC_A_8yi\\\\series_step_529.hdf5',\n 'Y:\\\\Istra Repositories\\\\ch-gr_exports\\\\MC_A_8yi\\\\series_step_530.hdf5',\n 'Y:\\\\Istra Repositories\\\\ch-gr_exports\\\\MC_A_8yi\\\\series_step_531.hdf5',\n 'Y:\\\\Istra Repositories\\\\ch-gr_exports\\\\MC_A_8yi\\\\series_step_532.hdf5',\n 'Y:\\\\Istra Repositories\\\\ch-gr_exports\\\\MC_A_8yi\\\\series_step_533.hdf5',\n 'Y:\\\\Istra Repositories\\\\ch-gr_exports\\\\MC_A_8yi\\\\series_step_534.hdf5',\n 'Y:\\\\Istra Repositories\\\\ch-gr_exports\\\\MC_A_8yi\\\\series_step_535.hdf5',\n 'Y:\\\\Istra Repositories\\\\ch-gr_exports\\\\MC_A_8yi\\\\series_step_536.hdf5',\n 'Y:\\\\Istra Repositories\\\\ch-gr_exports\\\\MC_A_8yi\\\\series_step_537.hdf5',\n 'Y:\\\\Istra Repositories\\\\ch-gr_exports\\\\MC_A_8yi\\\\series_step_538.hdf5',\n 'Y:\\\\Istra Repositories\\\\ch-gr_exports\\\\MC_A_8yi\\\\series_step_539.hdf5',\n 'Y:\\\\Istra Repositories\\\\ch-gr_exports\\\\MC_A_8yi\\\\series_step_540.hdf5',\n 'Y:\\\\Istra Repositories\\\\ch-gr_exports\\\\MC_A_8yi\\\\series_step_541.hdf5',\n 'Y:\\\\Istra Repositories\\\\ch-gr_exports\\\\MC_A_8yi\\\\series_step_542.hdf5',\n 'Y:\\\\Istra Repositories\\\\ch-gr_exports\\\\MC_A_8yi\\\\series_step_543.hdf5',\n 'Y:\\\\Istra Repositories\\\\ch-gr_exports\\\\MC_A_8yi\\\\series_step_544.hdf5',\n 'Y:\\\\Istra Repositories\\\\ch-gr_exports\\\\MC_A_8yi\\\\series_step_545.hdf5',\n 'Y:\\\\Istra Repositories\\\\ch-gr_exports\\\\MC_A_8yi\\\\series_step_546.hdf5',\n 'Y:\\\\Istra Repositories\\\\ch-gr_exports\\\\MC_A_8yi\\\\series_step_547.hdf5',\n 'Y:\\\\Istra Repositories\\\\ch-gr_exports\\\\MC_A_8yi\\\\series_step_548.hdf5',\n 'Y:\\\\Istra Repositories\\\\ch-gr_exports\\\\MC_A_8yi\\\\series_step_549.hdf5',\n 'Y:\\\\Istra Repositories\\\\ch-gr_exports\\\\MC_A_8yi\\\\series_step_550.hdf5',\n 'Y:\\\\Istra Repositories\\\\ch-gr_exports\\\\MC_A_8yi\\\\series_step_551.hdf5',\n 'Y:\\\\Istra Repositories\\\\ch-gr_exports\\\\MC_A_8yi\\\\series_step_552.hdf5',\n 'Y:\\\\Istra Repositories\\\\ch-gr_exports\\\\MC_A_8yi\\\\series_step_553.hdf5',\n 'Y:\\\\Istra Repositories\\\\ch-gr_exports\\\\MC_A_8yi\\\\series_step_554.hdf5',\n 'Y:\\\\Istra Repositories\\\\ch-gr_exports\\\\MC_A_8yi\\\\series_step_555.hdf5',\n 'Y:\\\\Istra Repositories\\\\ch-gr_exports\\\\MC_A_8yi\\\\series_step_556.hdf5',\n 'Y:\\\\Istra Repositories\\\\ch-gr_exports\\\\MC_A_8yi\\\\series_step_557.hdf5',\n 'Y:\\\\Istra Repositories\\\\ch-gr_exports\\\\MC_A_8yi\\\\series_step_558.hdf5',\n 'Y:\\\\Istra Repositories\\\\ch-gr_exports\\\\MC_A_8yi\\\\series_step_559.hdf5',\n 'Y:\\\\Istra Repositories\\\\ch-gr_exports\\\\MC_A_8yi\\\\series_step_560.hdf5',\n 'Y:\\\\Istra Repositories\\\\ch-gr_exports\\\\MC_A_8yi\\\\series_step_561.hdf5',\n 'Y:\\\\Istra Repositories\\\\ch-gr_exports\\\\MC_A_8yi\\\\series_step_562.hdf5',\n 'Y:\\\\Istra Repositories\\\\ch-gr_exports\\\\MC_A_8yi\\\\series_step_563.hdf5',\n 'Y:\\\\Istra Repositories\\\\ch-gr_exports\\\\MC_A_8yi\\\\series_step_564.hdf5',\n 'Y:\\\\Istra Repositories\\\\ch-gr_exports\\\\MC_A_8yi\\\\series_step_565.hdf5',\n 'Y:\\\\Istra Repositories\\\\ch-gr_exports\\\\MC_A_8yi\\\\series_step_566.hdf5',\n 'Y:\\\\Istra Repositories\\\\ch-gr_exports\\\\MC_A_8yi\\\\series_step_567.hdf5',\n 'Y:\\\\Istra Repositories\\\\ch-gr_exports\\\\MC_A_8yi\\\\series_step_568.hdf5',\n 'Y:\\\\Istra Repositories\\\\ch-gr_exports\\\\MC_A_8yi\\\\series_step_569.hdf5',\n 'Y:\\\\Istra Repositories\\\\ch-gr_exports\\\\MC_A_8yi\\\\series_step_570.hdf5',\n 'Y:\\\\Istra Repositories\\\\ch-gr_exports\\\\MC_A_8yi\\\\series_step_571.hdf5',\n 'Y:\\\\Istra Repositories\\\\ch-gr_exports\\\\MC_A_8yi\\\\series_step_572.hdf5',\n 'Y:\\\\Istra Repositories\\\\ch-gr_exports\\\\MC_A_8yi\\\\series_step_573.hdf5',\n 'Y:\\\\Istra Repositories\\\\ch-gr_exports\\\\MC_A_8yi\\\\series_step_574.hdf5',\n 'Y:\\\\Istra Repositories\\\\ch-gr_exports\\\\MC_A_8yi\\\\series_step_575.hdf5',\n 'Y:\\\\Istra Repositories\\\\ch-gr_exports\\\\MC_A_8yi\\\\series_step_576.hdf5',\n 'Y:\\\\Istra Repositories\\\\ch-gr_exports\\\\MC_A_8yi\\\\series_step_577.hdf5',\n 'Y:\\\\Istra Repositories\\\\ch-gr_exports\\\\MC_A_8yi\\\\series_step_578.hdf5',\n 'Y:\\\\Istra Repositories\\\\ch-gr_exports\\\\MC_A_8yi\\\\series_step_579.hdf5',\n 'Y:\\\\Istra Repositories\\\\ch-gr_exports\\\\MC_A_8yi\\\\series_step_580.hdf5',\n 'Y:\\\\Istra Repositories\\\\ch-gr_exports\\\\MC_A_8yi\\\\series_step_581.hdf5',\n 'Y:\\\\Istra Repositories\\\\ch-gr_exports\\\\MC_A_8yi\\\\series_step_582.hdf5',\n 'Y:\\\\Istra Repositories\\\\ch-gr_exports\\\\MC_A_8yi\\\\series_step_583.hdf5',\n 'Y:\\\\Istra Repositories\\\\ch-gr_exports\\\\MC_A_8yi\\\\series_step_584.hdf5',\n 'Y:\\\\Istra Repositories\\\\ch-gr_exports\\\\MC_A_8yi\\\\series_step_585.hdf5',\n 'Y:\\\\Istra Repositories\\\\ch-gr_exports\\\\MC_A_8yi\\\\series_step_586.hdf5',\n 'Y:\\\\Istra Repositories\\\\ch-gr_exports\\\\MC_A_8yi\\\\series_step_587.hdf5',\n 'Y:\\\\Istra Repositories\\\\ch-gr_exports\\\\MC_A_8yi\\\\series_step_588.hdf5',\n 'Y:\\\\Istra Repositories\\\\ch-gr_exports\\\\MC_A_8yi\\\\series_step_589.hdf5',\n 'Y:\\\\Istra Repositories\\\\ch-gr_exports\\\\MC_A_8yi\\\\series_step_590.hdf5',\n 'Y:\\\\Istra Repositories\\\\ch-gr_exports\\\\MC_A_8yi\\\\series_step_591.hdf5',\n 'Y:\\\\Istra Repositories\\\\ch-gr_exports\\\\MC_A_8yi\\\\series_step_592.hdf5',\n 'Y:\\\\Istra Repositories\\\\ch-gr_exports\\\\MC_A_8yi\\\\series_step_593.hdf5',\n 'Y:\\\\Istra Repositories\\\\ch-gr_exports\\\\MC_A_8yi\\\\series_step_594.hdf5',\n 'Y:\\\\Istra Repositories\\\\ch-gr_exports\\\\MC_A_8yi\\\\series_step_595.hdf5',\n 'Y:\\\\Istra Repositories\\\\ch-gr_exports\\\\MC_A_8yi\\\\series_step_596.hdf5',\n 'Y:\\\\Istra Repositories\\\\ch-gr_exports\\\\MC_A_8yi\\\\series_step_597.hdf5',\n 'Y:\\\\Istra Repositories\\\\ch-gr_exports\\\\MC_A_8yi\\\\series_step_598.hdf5',\n 'Y:\\\\Istra Repositories\\\\ch-gr_exports\\\\MC_A_8yi\\\\series_step_599.hdf5',\n 'Y:\\\\Istra Repositories\\\\ch-gr_exports\\\\MC_A_8yi\\\\series_step_600.hdf5',\n 'Y:\\\\Istra Repositories\\\\ch-gr_exports\\\\MC_A_8yi\\\\series_step_601.hdf5',\n 'Y:\\\\Istra Repositories\\\\ch-gr_exports\\\\MC_A_8yi\\\\series_step_602.hdf5',\n 'Y:\\\\Istra Repositories\\\\ch-gr_exports\\\\MC_A_8yi\\\\series_step_603.hdf5',\n 'Y:\\\\Istra Repositories\\\\ch-gr_exports\\\\MC_A_8yi\\\\series_step_604.hdf5',\n 'Y:\\\\Istra Repositories\\\\ch-gr_exports\\\\MC_A_8yi\\\\series_step_605.hdf5',\n 'Y:\\\\Istra Repositories\\\\ch-gr_exports\\\\MC_A_8yi\\\\series_step_606.hdf5',\n 'Y:\\\\Istra Repositories\\\\ch-gr_exports\\\\MC_A_8yi\\\\series_step_607.hdf5',\n 'Y:\\\\Istra Repositories\\\\ch-gr_exports\\\\MC_A_8yi\\\\series_step_608.hdf5',\n 'Y:\\\\Istra Repositories\\\\ch-gr_exports\\\\MC_A_8yi\\\\series_step_609.hdf5',\n 'Y:\\\\Istra Repositories\\\\ch-gr_exports\\\\MC_A_8yi\\\\series_step_610.hdf5',\n 'Y:\\\\Istra Repositories\\\\ch-gr_exports\\\\MC_A_8yi\\\\series_step_611.hdf5',\n 'Y:\\\\Istra Repositories\\\\ch-gr_exports\\\\MC_A_8yi\\\\series_step_612.hdf5',\n 'Y:\\\\Istra Repositories\\\\ch-gr_exports\\\\MC_A_8yi\\\\series_step_613.hdf5',\n 'Y:\\\\Istra Repositories\\\\ch-gr_exports\\\\MC_A_8yi\\\\series_step_614.hdf5',\n 'Y:\\\\Istra Repositories\\\\ch-gr_exports\\\\MC_A_8yi\\\\series_step_615.hdf5',\n 'Y:\\\\Istra Repositories\\\\ch-gr_exports\\\\MC_A_8yi\\\\series_step_616.hdf5',\n 'Y:\\\\Istra Repositories\\\\ch-gr_exports\\\\MC_A_8yi\\\\series_step_617.hdf5',\n 'Y:\\\\Istra Repositories\\\\ch-gr_exports\\\\MC_A_8yi\\\\series_step_618.hdf5']"
     },
     "metadata": {},
     "output_type": "display_data"
    },
    {
     "data": {
      "text/plain": "[('add_data', 'analog_channels'),\n ('coordinates', 'coordinate_x'),\n ('coordinates', 'coordinate_x_var'),\n ('coordinates', 'coordinate_y'),\n ('coordinates', 'coordinate_y_var'),\n ('coordinates', 'coordinate_z'),\n ('coordinates', 'coordinate_z_var'),\n ('coordinates', 'distance_to_plane'),\n ('coordinates', 'distance_to_sphere'),\n ('coordinates', 'mask'),\n ('coordinates', 'variance_sphere'),\n ('displacements', 'displacement_total'),\n ('displacements', 'displacement_total_rbmr'),\n ('displacements', 'displacement_total_rbmr_var'),\n ('displacements', 'displacement_total_var'),\n ('displacements', 'displacement_x'),\n ('displacements', 'displacement_x_rbmr'),\n ('displacements', 'displacement_x_var'),\n ('displacements', 'displacement_y'),\n ('displacements', 'displacement_y_rbmr'),\n ('displacements', 'displacement_y_var'),\n ('displacements', 'displacement_z'),\n ('displacements', 'displacement_z_rbmr'),\n ('displacements', 'displacement_z_var'),\n ('displacements', 'mask'),\n ('strains', 'engineering_strain_mask'),\n ('strains', 'engineering_strain_p1'),\n ('strains', 'engineering_strain_p1_var'),\n ('strains', 'engineering_strain_p2'),\n ('strains', 'engineering_strain_p2_var'),\n ('strains', 'engineering_strain_xx'),\n ('strains', 'engineering_strain_xx_var'),\n ('strains', 'engineering_strain_xy'),\n ('strains', 'engineering_strain_xy_var'),\n ('strains', 'engineering_strain_yy'),\n ('strains', 'engineering_strain_yy_var'),\n ('strains', 'mask'),\n ('strains', 'strain_p1'),\n ('strains', 'strain_p1_var'),\n ('strains', 'strain_p2'),\n ('strains', 'strain_p2_var'),\n ('strains', 'strain_xx'),\n ('strains', 'strain_xx_var'),\n ('strains', 'strain_xy'),\n ('strains', 'strain_xy_var'),\n ('strains', 'strain_yy'),\n ('strains', 'strain_yy_var'),\n ('strains', 'true_strain_mask'),\n ('strains', 'true_strain_p1'),\n ('strains', 'true_strain_p1_var'),\n ('strains', 'true_strain_p2'),\n ('strains', 'true_strain_p2_var'),\n ('strains', 'true_strain_xx'),\n ('strains', 'true_strain_xx_var'),\n ('strains', 'true_strain_xy'),\n ('strains', 'true_strain_xy_var'),\n ('strains', 'true_strain_yy'),\n ('strains', 'true_strain_yy_var')]"
     },
     "metadata": {},
     "output_type": "display_data"
    }
   ],
   "source": [
    "display([i for i in series.index])\n",
    "display([i for i in series.columns])"
   ],
   "metadata": {
    "collapsed": false,
    "pycharm": {
     "name": "#%%\n"
    }
   }
  },
  {
   "cell_type": "code",
   "execution_count": 5,
   "outputs": [],
   "source": [
    "#display(series.loc['data/hdf/series_step_122.hdf5',('strains','strain_p1')])"
   ],
   "metadata": {
    "collapsed": false,
    "pycharm": {
     "name": "#%%\n"
    }
   }
  },
  {
   "cell_type": "code",
   "execution_count": 6,
   "outputs": [
    {
     "data": {
      "text/plain": "[<matplotlib.lines.Line2D at 0x215851ec5b0>]"
     },
     "execution_count": 6,
     "metadata": {},
     "output_type": "execute_result"
    },
    {
     "data": {
      "text/plain": "<Figure size 432x288 with 1 Axes>",
      "image/png": "[encoded data removed]"
     },
     "metadata": {},
     "output_type": "display_data"
    }
   ],
   "source": [
    "#plt.matshow(zero_to_nan(series.loc['data/hdf/series_step_122.hdf5',('strains','strain_p1')]))\n",
    "plt.plot([np.nanmean(zero_to_nan(i)) for i in series.loc[:,('strains', 'strain_p1')]])\n",
    "#plt.plot([np.nanmean(zero_to_nan(i)) for i in series.loc[:,('add_data', 'analog_channels')]])"
   ],
   "metadata": {
    "collapsed": false,
    "pycharm": {
     "name": "#%%\n"
    }
   }
  },
  {
   "cell_type": "code",
   "execution_count": 7,
   "outputs": [
    {
     "data": {
      "text/plain": "group                                                               add_data  \\\ndataset                                                      analog_channels   \nY:\\Istra Repositories\\ch-gr_exports\\MC_A_8yi\\se...  [[-0.17803990460911756]]   \nY:\\Istra Repositories\\ch-gr_exports\\MC_A_8yi\\se...  [[-0.17902631506994415]]   \nY:\\Istra Repositories\\ch-gr_exports\\MC_A_8yi\\se...  [[-0.18067033250412906]]   \nY:\\Istra Repositories\\ch-gr_exports\\MC_A_8yi\\se...  [[-0.18231434993765888]]   \nY:\\Istra Repositories\\ch-gr_exports\\MC_A_8yi\\se...   [[-0.1846159743435059]]   \n...                                                                      ...   \nY:\\Istra Repositories\\ch-gr_exports\\MC_A_8yi\\se...  [[-0.15173562556412296]]   \nY:\\Istra Repositories\\ch-gr_exports\\MC_A_8yi\\se...  [[-0.15239323254240295]]   \nY:\\Istra Repositories\\ch-gr_exports\\MC_A_8yi\\se...  [[-0.15305083952057003]]   \nY:\\Istra Repositories\\ch-gr_exports\\MC_A_8yi\\se...  [[-0.15370844649862436]]   \nY:\\Istra Repositories\\ch-gr_exports\\MC_A_8yi\\se...  [[-0.15403724998760931]]   \n\ngroup                                                                                     coordinates  \\\ndataset                                                                                  coordinate_x   \nY:\\Istra Repositories\\ch-gr_exports\\MC_A_8yi\\se...  [[0.0, 0.0, 0.0, 0.0, 0.0, 0.0, 0.0, 0.0, 0.0,...   \nY:\\Istra Repositories\\ch-gr_exports\\MC_A_8yi\\se...  [[0.0, 0.0, 0.0, 0.0, 0.0, 0.0, 0.0, 0.0, 0.0,...   \nY:\\Istra Repositories\\ch-gr_exports\\MC_A_8yi\\se...  [[0.0, 0.0, 0.0, 0.0, 0.0, 0.0, 0.0, 0.0, 0.0,...   \nY:\\Istra Repositories\\ch-gr_exports\\MC_A_8yi\\se...  [[0.0, 0.0, 0.0, 0.0, 0.0, 0.0, 0.0, 0.0, 0.0,...   \nY:\\Istra Repositories\\ch-gr_exports\\MC_A_8yi\\se...  [[0.0, 0.0, 0.0, 0.0, 0.0, 0.0, 0.0, 0.0, 0.0,...   \n...                                                                                               ...   \nY:\\Istra Repositories\\ch-gr_exports\\MC_A_8yi\\se...  [[0.0, 0.0, 0.0, 0.0, 0.0, 0.0, 0.0, 0.0, 0.0,...   \nY:\\Istra Repositories\\ch-gr_exports\\MC_A_8yi\\se...  [[0.0, 0.0, 0.0, 0.0, 0.0, 0.0, 0.0, 0.0, 0.0,...   \nY:\\Istra Repositories\\ch-gr_exports\\MC_A_8yi\\se...  [[0.0, 0.0, 0.0, 0.0, 0.0, 0.0, 0.0, 0.0, 0.0,...   \nY:\\Istra Repositories\\ch-gr_exports\\MC_A_8yi\\se...  [[0.0, 0.0, 0.0, 0.0, 0.0, 0.0, 0.0, 0.0, 0.0,...   \nY:\\Istra Repositories\\ch-gr_exports\\MC_A_8yi\\se...  [[0.0, 0.0, 0.0, 0.0, 0.0, 0.0, 0.0, 0.0, 0.0,...   \n\ngroup                                                                                                  \\\ndataset                                                                              coordinate_x_var   \nY:\\Istra Repositories\\ch-gr_exports\\MC_A_8yi\\se...  [[0.0, 0.0, 0.0, 0.0, 0.0, 0.0, 0.0, 0.0, 0.0,...   \nY:\\Istra Repositories\\ch-gr_exports\\MC_A_8yi\\se...  [[0.0, 0.0, 0.0, 0.0, 0.0, 0.0, 0.0, 0.0, 0.0,...   \nY:\\Istra Repositories\\ch-gr_exports\\MC_A_8yi\\se...  [[0.0, 0.0, 0.0, 0.0, 0.0, 0.0, 0.0, 0.0, 0.0,...   \nY:\\Istra Repositories\\ch-gr_exports\\MC_A_8yi\\se...  [[0.0, 0.0, 0.0, 0.0, 0.0, 0.0, 0.0, 0.0, 0.0,...   \nY:\\Istra Repositories\\ch-gr_exports\\MC_A_8yi\\se...  [[0.0, 0.0, 0.0, 0.0, 0.0, 0.0, 0.0, 0.0, 0.0,...   \n...                                                                                               ...   \nY:\\Istra Repositories\\ch-gr_exports\\MC_A_8yi\\se...  [[0.0, 0.0, 0.0, 0.0, 0.0, 0.0, 0.0, 0.0, 0.0,...   \nY:\\Istra Repositories\\ch-gr_exports\\MC_A_8yi\\se...  [[0.0, 0.0, 0.0, 0.0, 0.0, 0.0, 0.0, 0.0, 0.0,...   \nY:\\Istra Repositories\\ch-gr_exports\\MC_A_8yi\\se...  [[0.0, 0.0, 0.0, 0.0, 0.0, 0.0, 0.0, 0.0, 0.0,...   \nY:\\Istra Repositories\\ch-gr_exports\\MC_A_8yi\\se...  [[0.0, 0.0, 0.0, 0.0, 0.0, 0.0, 0.0, 0.0, 0.0,...   \nY:\\Istra Repositories\\ch-gr_exports\\MC_A_8yi\\se...  [[0.0, 0.0, 0.0, 0.0, 0.0, 0.0, 0.0, 0.0, 0.0,...   \n\ngroup                                                                                                  \\\ndataset                                                                                  coordinate_y   \nY:\\Istra Repositories\\ch-gr_exports\\MC_A_8yi\\se...  [[0.0, 0.0, 0.0, 0.0, 0.0, 0.0, 0.0, 0.0, 0.0,...   \nY:\\Istra Repositories\\ch-gr_exports\\MC_A_8yi\\se...  [[0.0, 0.0, 0.0, 0.0, 0.0, 0.0, 0.0, 0.0, 0.0,...   \nY:\\Istra Repositories\\ch-gr_exports\\MC_A_8yi\\se...  [[0.0, 0.0, 0.0, 0.0, 0.0, 0.0, 0.0, 0.0, 0.0,...   \nY:\\Istra Repositories\\ch-gr_exports\\MC_A_8yi\\se...  [[0.0, 0.0, 0.0, 0.0, 0.0, 0.0, 0.0, 0.0, 0.0,...   \nY:\\Istra Repositories\\ch-gr_exports\\MC_A_8yi\\se...  [[0.0, 0.0, 0.0, 0.0, 0.0, 0.0, 0.0, 0.0, 0.0,...   \n...                                                                                               ...   \nY:\\Istra Repositories\\ch-gr_exports\\MC_A_8yi\\se...  [[0.0, 0.0, 0.0, 0.0, 0.0, 0.0, 0.0, 0.0, 0.0,...   \nY:\\Istra Repositories\\ch-gr_exports\\MC_A_8yi\\se...  [[0.0, 0.0, 0.0, 0.0, 0.0, 0.0, 0.0, 0.0, 0.0,...   \nY:\\Istra Repositories\\ch-gr_exports\\MC_A_8yi\\se...  [[0.0, 0.0, 0.0, 0.0, 0.0, 0.0, 0.0, 0.0, 0.0,...   \nY:\\Istra Repositories\\ch-gr_exports\\MC_A_8yi\\se...  [[0.0, 0.0, 0.0, 0.0, 0.0, 0.0, 0.0, 0.0, 0.0,...   \nY:\\Istra Repositories\\ch-gr_exports\\MC_A_8yi\\se...  [[0.0, 0.0, 0.0, 0.0, 0.0, 0.0, 0.0, 0.0, 0.0,...   \n\ngroup                                                                                                  \\\ndataset                                                                              coordinate_y_var   \nY:\\Istra Repositories\\ch-gr_exports\\MC_A_8yi\\se...  [[0.0, 0.0, 0.0, 0.0, 0.0, 0.0, 0.0, 0.0, 0.0,...   \nY:\\Istra Repositories\\ch-gr_exports\\MC_A_8yi\\se...  [[0.0, 0.0, 0.0, 0.0, 0.0, 0.0, 0.0, 0.0, 0.0,...   \nY:\\Istra Repositories\\ch-gr_exports\\MC_A_8yi\\se...  [[0.0, 0.0, 0.0, 0.0, 0.0, 0.0, 0.0, 0.0, 0.0,...   \nY:\\Istra Repositories\\ch-gr_exports\\MC_A_8yi\\se...  [[0.0, 0.0, 0.0, 0.0, 0.0, 0.0, 0.0, 0.0, 0.0,...   \nY:\\Istra Repositories\\ch-gr_exports\\MC_A_8yi\\se...  [[0.0, 0.0, 0.0, 0.0, 0.0, 0.0, 0.0, 0.0, 0.0,...   \n...                                                                                               ...   \nY:\\Istra Repositories\\ch-gr_exports\\MC_A_8yi\\se...  [[0.0, 0.0, 0.0, 0.0, 0.0, 0.0, 0.0, 0.0, 0.0,...   \nY:\\Istra Repositories\\ch-gr_exports\\MC_A_8yi\\se...  [[0.0, 0.0, 0.0, 0.0, 0.0, 0.0, 0.0, 0.0, 0.0,...   \nY:\\Istra Repositories\\ch-gr_exports\\MC_A_8yi\\se...  [[0.0, 0.0, 0.0, 0.0, 0.0, 0.0, 0.0, 0.0, 0.0,...   \nY:\\Istra Repositories\\ch-gr_exports\\MC_A_8yi\\se...  [[0.0, 0.0, 0.0, 0.0, 0.0, 0.0, 0.0, 0.0, 0.0,...   \nY:\\Istra Repositories\\ch-gr_exports\\MC_A_8yi\\se...  [[0.0, 0.0, 0.0, 0.0, 0.0, 0.0, 0.0, 0.0, 0.0,...   \n\ngroup                                                                                                  \\\ndataset                                                                                  coordinate_z   \nY:\\Istra Repositories\\ch-gr_exports\\MC_A_8yi\\se...  [[0.0, 0.0, 0.0, 0.0, 0.0, 0.0, 0.0, 0.0, 0.0,...   \nY:\\Istra Repositories\\ch-gr_exports\\MC_A_8yi\\se...  [[0.0, 0.0, 0.0, 0.0, 0.0, 0.0, 0.0, 0.0, 0.0,...   \nY:\\Istra Repositories\\ch-gr_exports\\MC_A_8yi\\se...  [[0.0, 0.0, 0.0, 0.0, 0.0, 0.0, 0.0, 0.0, 0.0,...   \nY:\\Istra Repositories\\ch-gr_exports\\MC_A_8yi\\se...  [[0.0, 0.0, 0.0, 0.0, 0.0, 0.0, 0.0, 0.0, 0.0,...   \nY:\\Istra Repositories\\ch-gr_exports\\MC_A_8yi\\se...  [[0.0, 0.0, 0.0, 0.0, 0.0, 0.0, 0.0, 0.0, 0.0,...   \n...                                                                                               ...   \nY:\\Istra Repositories\\ch-gr_exports\\MC_A_8yi\\se...  [[0.0, 0.0, 0.0, 0.0, 0.0, 0.0, 0.0, 0.0, 0.0,...   \nY:\\Istra Repositories\\ch-gr_exports\\MC_A_8yi\\se...  [[0.0, 0.0, 0.0, 0.0, 0.0, 0.0, 0.0, 0.0, 0.0,...   \nY:\\Istra Repositories\\ch-gr_exports\\MC_A_8yi\\se...  [[0.0, 0.0, 0.0, 0.0, 0.0, 0.0, 0.0, 0.0, 0.0,...   \nY:\\Istra Repositories\\ch-gr_exports\\MC_A_8yi\\se...  [[0.0, 0.0, 0.0, 0.0, 0.0, 0.0, 0.0, 0.0, 0.0,...   \nY:\\Istra Repositories\\ch-gr_exports\\MC_A_8yi\\se...  [[0.0, 0.0, 0.0, 0.0, 0.0, 0.0, 0.0, 0.0, 0.0,...   \n\ngroup                                                                                                  \\\ndataset                                                                              coordinate_z_var   \nY:\\Istra Repositories\\ch-gr_exports\\MC_A_8yi\\se...  [[0.0, 0.0, 0.0, 0.0, 0.0, 0.0, 0.0, 0.0, 0.0,...   \nY:\\Istra Repositories\\ch-gr_exports\\MC_A_8yi\\se...  [[0.0, 0.0, 0.0, 0.0, 0.0, 0.0, 0.0, 0.0, 0.0,...   \nY:\\Istra Repositories\\ch-gr_exports\\MC_A_8yi\\se...  [[0.0, 0.0, 0.0, 0.0, 0.0, 0.0, 0.0, 0.0, 0.0,...   \nY:\\Istra Repositories\\ch-gr_exports\\MC_A_8yi\\se...  [[0.0, 0.0, 0.0, 0.0, 0.0, 0.0, 0.0, 0.0, 0.0,...   \nY:\\Istra Repositories\\ch-gr_exports\\MC_A_8yi\\se...  [[0.0, 0.0, 0.0, 0.0, 0.0, 0.0, 0.0, 0.0, 0.0,...   \n...                                                                                               ...   \nY:\\Istra Repositories\\ch-gr_exports\\MC_A_8yi\\se...  [[0.0, 0.0, 0.0, 0.0, 0.0, 0.0, 0.0, 0.0, 0.0,...   \nY:\\Istra Repositories\\ch-gr_exports\\MC_A_8yi\\se...  [[0.0, 0.0, 0.0, 0.0, 0.0, 0.0, 0.0, 0.0, 0.0,...   \nY:\\Istra Repositories\\ch-gr_exports\\MC_A_8yi\\se...  [[0.0, 0.0, 0.0, 0.0, 0.0, 0.0, 0.0, 0.0, 0.0,...   \nY:\\Istra Repositories\\ch-gr_exports\\MC_A_8yi\\se...  [[0.0, 0.0, 0.0, 0.0, 0.0, 0.0, 0.0, 0.0, 0.0,...   \nY:\\Istra Repositories\\ch-gr_exports\\MC_A_8yi\\se...  [[0.0, 0.0, 0.0, 0.0, 0.0, 0.0, 0.0, 0.0, 0.0,...   \n\ngroup                                                                                                  \\\ndataset                                                                             distance_to_plane   \nY:\\Istra Repositories\\ch-gr_exports\\MC_A_8yi\\se...  [[0.0, 0.0, 0.0, 0.0, 0.0, 0.0, 0.0, 0.0, 0.0,...   \nY:\\Istra Repositories\\ch-gr_exports\\MC_A_8yi\\se...  [[0.0, 0.0, 0.0, 0.0, 0.0, 0.0, 0.0, 0.0, 0.0,...   \nY:\\Istra Repositories\\ch-gr_exports\\MC_A_8yi\\se...  [[0.0, 0.0, 0.0, 0.0, 0.0, 0.0, 0.0, 0.0, 0.0,...   \nY:\\Istra Repositories\\ch-gr_exports\\MC_A_8yi\\se...  [[0.0, 0.0, 0.0, 0.0, 0.0, 0.0, 0.0, 0.0, 0.0,...   \nY:\\Istra Repositories\\ch-gr_exports\\MC_A_8yi\\se...  [[0.0, 0.0, 0.0, 0.0, 0.0, 0.0, 0.0, 0.0, 0.0,...   \n...                                                                                               ...   \nY:\\Istra Repositories\\ch-gr_exports\\MC_A_8yi\\se...  [[0.0, 0.0, 0.0, 0.0, 0.0, 0.0, 0.0, 0.0, 0.0,...   \nY:\\Istra Repositories\\ch-gr_exports\\MC_A_8yi\\se...  [[0.0, 0.0, 0.0, 0.0, 0.0, 0.0, 0.0, 0.0, 0.0,...   \nY:\\Istra Repositories\\ch-gr_exports\\MC_A_8yi\\se...  [[0.0, 0.0, 0.0, 0.0, 0.0, 0.0, 0.0, 0.0, 0.0,...   \nY:\\Istra Repositories\\ch-gr_exports\\MC_A_8yi\\se...  [[0.0, 0.0, 0.0, 0.0, 0.0, 0.0, 0.0, 0.0, 0.0,...   \nY:\\Istra Repositories\\ch-gr_exports\\MC_A_8yi\\se...  [[0.0, 0.0, 0.0, 0.0, 0.0, 0.0, 0.0, 0.0, 0.0,...   \n\ngroup                                                                                                  \\\ndataset                                                                            distance_to_sphere   \nY:\\Istra Repositories\\ch-gr_exports\\MC_A_8yi\\se...  [[0.0, 0.0, 0.0, 0.0, 0.0, 0.0, 0.0, 0.0, 0.0,...   \nY:\\Istra Repositories\\ch-gr_exports\\MC_A_8yi\\se...  [[0.0, 0.0, 0.0, 0.0, 0.0, 0.0, 0.0, 0.0, 0.0,...   \nY:\\Istra Repositories\\ch-gr_exports\\MC_A_8yi\\se...  [[0.0, 0.0, 0.0, 0.0, 0.0, 0.0, 0.0, 0.0, 0.0,...   \nY:\\Istra Repositories\\ch-gr_exports\\MC_A_8yi\\se...  [[0.0, 0.0, 0.0, 0.0, 0.0, 0.0, 0.0, 0.0, 0.0,...   \nY:\\Istra Repositories\\ch-gr_exports\\MC_A_8yi\\se...  [[0.0, 0.0, 0.0, 0.0, 0.0, 0.0, 0.0, 0.0, 0.0,...   \n...                                                                                               ...   \nY:\\Istra Repositories\\ch-gr_exports\\MC_A_8yi\\se...  [[0.0, 0.0, 0.0, 0.0, 0.0, 0.0, 0.0, 0.0, 0.0,...   \nY:\\Istra Repositories\\ch-gr_exports\\MC_A_8yi\\se...  [[0.0, 0.0, 0.0, 0.0, 0.0, 0.0, 0.0, 0.0, 0.0,...   \nY:\\Istra Repositories\\ch-gr_exports\\MC_A_8yi\\se...  [[0.0, 0.0, 0.0, 0.0, 0.0, 0.0, 0.0, 0.0, 0.0,...   \nY:\\Istra Repositories\\ch-gr_exports\\MC_A_8yi\\se...  [[0.0, 0.0, 0.0, 0.0, 0.0, 0.0, 0.0, 0.0, 0.0,...   \nY:\\Istra Repositories\\ch-gr_exports\\MC_A_8yi\\se...  [[0.0, 0.0, 0.0, 0.0, 0.0, 0.0, 0.0, 0.0, 0.0,...   \n\ngroup                                                                                                  \\\ndataset                                                                                          mask   \nY:\\Istra Repositories\\ch-gr_exports\\MC_A_8yi\\se...  [[0, 0, 0, 0, 0, 0, 0, 0, 0, 0, 0, 0, 0, 0, 0,...   \nY:\\Istra Repositories\\ch-gr_exports\\MC_A_8yi\\se...  [[0, 0, 0, 0, 0, 0, 0, 0, 0, 0, 0, 0, 0, 0, 0,...   \nY:\\Istra Repositories\\ch-gr_exports\\MC_A_8yi\\se...  [[0, 0, 0, 0, 0, 0, 0, 0, 0, 0, 0, 0, 0, 0, 0,...   \nY:\\Istra Repositories\\ch-gr_exports\\MC_A_8yi\\se...  [[0, 0, 0, 0, 0, 0, 0, 0, 0, 0, 0, 0, 0, 0, 0,...   \nY:\\Istra Repositories\\ch-gr_exports\\MC_A_8yi\\se...  [[0, 0, 0, 0, 0, 0, 0, 0, 0, 0, 0, 0, 0, 0, 0,...   \n...                                                                                               ...   \nY:\\Istra Repositories\\ch-gr_exports\\MC_A_8yi\\se...  [[0, 0, 0, 0, 0, 0, 0, 0, 0, 0, 0, 0, 0, 0, 0,...   \nY:\\Istra Repositories\\ch-gr_exports\\MC_A_8yi\\se...  [[0, 0, 0, 0, 0, 0, 0, 0, 0, 0, 0, 0, 0, 0, 0,...   \nY:\\Istra Repositories\\ch-gr_exports\\MC_A_8yi\\se...  [[0, 0, 0, 0, 0, 0, 0, 0, 0, 0, 0, 0, 0, 0, 0,...   \nY:\\Istra Repositories\\ch-gr_exports\\MC_A_8yi\\se...  [[0, 0, 0, 0, 0, 0, 0, 0, 0, 0, 0, 0, 0, 0, 0,...   \nY:\\Istra Repositories\\ch-gr_exports\\MC_A_8yi\\se...  [[0, 0, 0, 0, 0, 0, 0, 0, 0, 0, 0, 0, 0, 0, 0,...   \n\ngroup                                               ...  \\\ndataset                                             ...   \nY:\\Istra Repositories\\ch-gr_exports\\MC_A_8yi\\se...  ...   \nY:\\Istra Repositories\\ch-gr_exports\\MC_A_8yi\\se...  ...   \nY:\\Istra Repositories\\ch-gr_exports\\MC_A_8yi\\se...  ...   \nY:\\Istra Repositories\\ch-gr_exports\\MC_A_8yi\\se...  ...   \nY:\\Istra Repositories\\ch-gr_exports\\MC_A_8yi\\se...  ...   \n...                                                 ...   \nY:\\Istra Repositories\\ch-gr_exports\\MC_A_8yi\\se...  ...   \nY:\\Istra Repositories\\ch-gr_exports\\MC_A_8yi\\se...  ...   \nY:\\Istra Repositories\\ch-gr_exports\\MC_A_8yi\\se...  ...   \nY:\\Istra Repositories\\ch-gr_exports\\MC_A_8yi\\se...  ...   \nY:\\Istra Repositories\\ch-gr_exports\\MC_A_8yi\\se...  ...   \n\ngroup                                                                                         strains  \\\ndataset                                                                                true_strain_p1   \nY:\\Istra Repositories\\ch-gr_exports\\MC_A_8yi\\se...  [[0.0, 0.0, 0.0, 0.0, 0.0, 0.0, 0.0, 0.0, 0.0,...   \nY:\\Istra Repositories\\ch-gr_exports\\MC_A_8yi\\se...  [[0.0, 0.0, 0.0, 0.0, 0.0, 0.0, 0.0, 0.0, 0.0,...   \nY:\\Istra Repositories\\ch-gr_exports\\MC_A_8yi\\se...  [[0.0, 0.0, 0.0, 0.0, 0.0, 0.0, 0.0, 0.0, 0.0,...   \nY:\\Istra Repositories\\ch-gr_exports\\MC_A_8yi\\se...  [[0.0, 0.0, 0.0, 0.0, 0.0, 0.0, 0.0, 0.0, 0.0,...   \nY:\\Istra Repositories\\ch-gr_exports\\MC_A_8yi\\se...  [[0.0, 0.0, 0.0, 0.0, 0.0, 0.0, 0.0, 0.0, 0.0,...   \n...                                                                                               ...   \nY:\\Istra Repositories\\ch-gr_exports\\MC_A_8yi\\se...  [[0.0, 0.0, 0.0, 0.0, 0.0, 0.0, 0.0, 0.0, 0.0,...   \nY:\\Istra Repositories\\ch-gr_exports\\MC_A_8yi\\se...  [[0.0, 0.0, 0.0, 0.0, 0.0, 0.0, 0.0, 0.0, 0.0,...   \nY:\\Istra Repositories\\ch-gr_exports\\MC_A_8yi\\se...  [[0.0, 0.0, 0.0, 0.0, 0.0, 0.0, 0.0, 0.0, 0.0,...   \nY:\\Istra Repositories\\ch-gr_exports\\MC_A_8yi\\se...  [[0.0, 0.0, 0.0, 0.0, 0.0, 0.0, 0.0, 0.0, 0.0,...   \nY:\\Istra Repositories\\ch-gr_exports\\MC_A_8yi\\se...  [[0.0, 0.0, 0.0, 0.0, 0.0, 0.0, 0.0, 0.0, 0.0,...   \n\ngroup                                                                                                  \\\ndataset                                                                            true_strain_p1_var   \nY:\\Istra Repositories\\ch-gr_exports\\MC_A_8yi\\se...  [[0.0, 0.0, 0.0, 0.0, 0.0, 0.0, 0.0, 0.0, 0.0,...   \nY:\\Istra Repositories\\ch-gr_exports\\MC_A_8yi\\se...  [[0.0, 0.0, 0.0, 0.0, 0.0, 0.0, 0.0, 0.0, 0.0,...   \nY:\\Istra Repositories\\ch-gr_exports\\MC_A_8yi\\se...  [[0.0, 0.0, 0.0, 0.0, 0.0, 0.0, 0.0, 0.0, 0.0,...   \nY:\\Istra Repositories\\ch-gr_exports\\MC_A_8yi\\se...  [[0.0, 0.0, 0.0, 0.0, 0.0, 0.0, 0.0, 0.0, 0.0,...   \nY:\\Istra Repositories\\ch-gr_exports\\MC_A_8yi\\se...  [[0.0, 0.0, 0.0, 0.0, 0.0, 0.0, 0.0, 0.0, 0.0,...   \n...                                                                                               ...   \nY:\\Istra Repositories\\ch-gr_exports\\MC_A_8yi\\se...  [[0.0, 0.0, 0.0, 0.0, 0.0, 0.0, 0.0, 0.0, 0.0,...   \nY:\\Istra Repositories\\ch-gr_exports\\MC_A_8yi\\se...  [[0.0, 0.0, 0.0, 0.0, 0.0, 0.0, 0.0, 0.0, 0.0,...   \nY:\\Istra Repositories\\ch-gr_exports\\MC_A_8yi\\se...  [[0.0, 0.0, 0.0, 0.0, 0.0, 0.0, 0.0, 0.0, 0.0,...   \nY:\\Istra Repositories\\ch-gr_exports\\MC_A_8yi\\se...  [[0.0, 0.0, 0.0, 0.0, 0.0, 0.0, 0.0, 0.0, 0.0,...   \nY:\\Istra Repositories\\ch-gr_exports\\MC_A_8yi\\se...  [[0.0, 0.0, 0.0, 0.0, 0.0, 0.0, 0.0, 0.0, 0.0,...   \n\ngroup                                                                                                  \\\ndataset                                                                                true_strain_p2   \nY:\\Istra Repositories\\ch-gr_exports\\MC_A_8yi\\se...  [[0.0, 0.0, 0.0, 0.0, 0.0, 0.0, 0.0, 0.0, 0.0,...   \nY:\\Istra Repositories\\ch-gr_exports\\MC_A_8yi\\se...  [[0.0, 0.0, 0.0, 0.0, 0.0, 0.0, 0.0, 0.0, 0.0,...   \nY:\\Istra Repositories\\ch-gr_exports\\MC_A_8yi\\se...  [[0.0, 0.0, 0.0, 0.0, 0.0, 0.0, 0.0, 0.0, 0.0,...   \nY:\\Istra Repositories\\ch-gr_exports\\MC_A_8yi\\se...  [[0.0, 0.0, 0.0, 0.0, 0.0, 0.0, 0.0, 0.0, 0.0,...   \nY:\\Istra Repositories\\ch-gr_exports\\MC_A_8yi\\se...  [[0.0, 0.0, 0.0, 0.0, 0.0, 0.0, 0.0, 0.0, 0.0,...   \n...                                                                                               ...   \nY:\\Istra Repositories\\ch-gr_exports\\MC_A_8yi\\se...  [[0.0, 0.0, 0.0, 0.0, 0.0, 0.0, 0.0, 0.0, 0.0,...   \nY:\\Istra Repositories\\ch-gr_exports\\MC_A_8yi\\se...  [[0.0, 0.0, 0.0, 0.0, 0.0, 0.0, 0.0, 0.0, 0.0,...   \nY:\\Istra Repositories\\ch-gr_exports\\MC_A_8yi\\se...  [[0.0, 0.0, 0.0, 0.0, 0.0, 0.0, 0.0, 0.0, 0.0,...   \nY:\\Istra Repositories\\ch-gr_exports\\MC_A_8yi\\se...  [[0.0, 0.0, 0.0, 0.0, 0.0, 0.0, 0.0, 0.0, 0.0,...   \nY:\\Istra Repositories\\ch-gr_exports\\MC_A_8yi\\se...  [[0.0, 0.0, 0.0, 0.0, 0.0, 0.0, 0.0, 0.0, 0.0,...   \n\ngroup                                                                                                  \\\ndataset                                                                            true_strain_p2_var   \nY:\\Istra Repositories\\ch-gr_exports\\MC_A_8yi\\se...  [[0.0, 0.0, 0.0, 0.0, 0.0, 0.0, 0.0, 0.0, 0.0,...   \nY:\\Istra Repositories\\ch-gr_exports\\MC_A_8yi\\se...  [[0.0, 0.0, 0.0, 0.0, 0.0, 0.0, 0.0, 0.0, 0.0,...   \nY:\\Istra Repositories\\ch-gr_exports\\MC_A_8yi\\se...  [[0.0, 0.0, 0.0, 0.0, 0.0, 0.0, 0.0, 0.0, 0.0,...   \nY:\\Istra Repositories\\ch-gr_exports\\MC_A_8yi\\se...  [[0.0, 0.0, 0.0, 0.0, 0.0, 0.0, 0.0, 0.0, 0.0,...   \nY:\\Istra Repositories\\ch-gr_exports\\MC_A_8yi\\se...  [[0.0, 0.0, 0.0, 0.0, 0.0, 0.0, 0.0, 0.0, 0.0,...   \n...                                                                                               ...   \nY:\\Istra Repositories\\ch-gr_exports\\MC_A_8yi\\se...  [[0.0, 0.0, 0.0, 0.0, 0.0, 0.0, 0.0, 0.0, 0.0,...   \nY:\\Istra Repositories\\ch-gr_exports\\MC_A_8yi\\se...  [[0.0, 0.0, 0.0, 0.0, 0.0, 0.0, 0.0, 0.0, 0.0,...   \nY:\\Istra Repositories\\ch-gr_exports\\MC_A_8yi\\se...  [[0.0, 0.0, 0.0, 0.0, 0.0, 0.0, 0.0, 0.0, 0.0,...   \nY:\\Istra Repositories\\ch-gr_exports\\MC_A_8yi\\se...  [[0.0, 0.0, 0.0, 0.0, 0.0, 0.0, 0.0, 0.0, 0.0,...   \nY:\\Istra Repositories\\ch-gr_exports\\MC_A_8yi\\se...  [[0.0, 0.0, 0.0, 0.0, 0.0, 0.0, 0.0, 0.0, 0.0,...   \n\ngroup                                                                                                  \\\ndataset                                                                                true_strain_xx   \nY:\\Istra Repositories\\ch-gr_exports\\MC_A_8yi\\se...  [[0.0, 0.0, 0.0, 0.0, 0.0, 0.0, 0.0, 0.0, 0.0,...   \nY:\\Istra Repositories\\ch-gr_exports\\MC_A_8yi\\se...  [[0.0, 0.0, 0.0, 0.0, 0.0, 0.0, 0.0, 0.0, 0.0,...   \nY:\\Istra Repositories\\ch-gr_exports\\MC_A_8yi\\se...  [[0.0, 0.0, 0.0, 0.0, 0.0, 0.0, 0.0, 0.0, 0.0,...   \nY:\\Istra Repositories\\ch-gr_exports\\MC_A_8yi\\se...  [[0.0, 0.0, 0.0, 0.0, 0.0, 0.0, 0.0, 0.0, 0.0,...   \nY:\\Istra Repositories\\ch-gr_exports\\MC_A_8yi\\se...  [[0.0, 0.0, 0.0, 0.0, 0.0, 0.0, 0.0, 0.0, 0.0,...   \n...                                                                                               ...   \nY:\\Istra Repositories\\ch-gr_exports\\MC_A_8yi\\se...  [[0.0, 0.0, 0.0, 0.0, 0.0, 0.0, 0.0, 0.0, 0.0,...   \nY:\\Istra Repositories\\ch-gr_exports\\MC_A_8yi\\se...  [[0.0, 0.0, 0.0, 0.0, 0.0, 0.0, 0.0, 0.0, 0.0,...   \nY:\\Istra Repositories\\ch-gr_exports\\MC_A_8yi\\se...  [[0.0, 0.0, 0.0, 0.0, 0.0, 0.0, 0.0, 0.0, 0.0,...   \nY:\\Istra Repositories\\ch-gr_exports\\MC_A_8yi\\se...  [[0.0, 0.0, 0.0, 0.0, 0.0, 0.0, 0.0, 0.0, 0.0,...   \nY:\\Istra Repositories\\ch-gr_exports\\MC_A_8yi\\se...  [[0.0, 0.0, 0.0, 0.0, 0.0, 0.0, 0.0, 0.0, 0.0,...   \n\ngroup                                                                                                  \\\ndataset                                                                            true_strain_xx_var   \nY:\\Istra Repositories\\ch-gr_exports\\MC_A_8yi\\se...  [[0.0, 0.0, 0.0, 0.0, 0.0, 0.0, 0.0, 0.0, 0.0,...   \nY:\\Istra Repositories\\ch-gr_exports\\MC_A_8yi\\se...  [[0.0, 0.0, 0.0, 0.0, 0.0, 0.0, 0.0, 0.0, 0.0,...   \nY:\\Istra Repositories\\ch-gr_exports\\MC_A_8yi\\se...  [[0.0, 0.0, 0.0, 0.0, 0.0, 0.0, 0.0, 0.0, 0.0,...   \nY:\\Istra Repositories\\ch-gr_exports\\MC_A_8yi\\se...  [[0.0, 0.0, 0.0, 0.0, 0.0, 0.0, 0.0, 0.0, 0.0,...   \nY:\\Istra Repositories\\ch-gr_exports\\MC_A_8yi\\se...  [[0.0, 0.0, 0.0, 0.0, 0.0, 0.0, 0.0, 0.0, 0.0,...   \n...                                                                                               ...   \nY:\\Istra Repositories\\ch-gr_exports\\MC_A_8yi\\se...  [[0.0, 0.0, 0.0, 0.0, 0.0, 0.0, 0.0, 0.0, 0.0,...   \nY:\\Istra Repositories\\ch-gr_exports\\MC_A_8yi\\se...  [[0.0, 0.0, 0.0, 0.0, 0.0, 0.0, 0.0, 0.0, 0.0,...   \nY:\\Istra Repositories\\ch-gr_exports\\MC_A_8yi\\se...  [[0.0, 0.0, 0.0, 0.0, 0.0, 0.0, 0.0, 0.0, 0.0,...   \nY:\\Istra Repositories\\ch-gr_exports\\MC_A_8yi\\se...  [[0.0, 0.0, 0.0, 0.0, 0.0, 0.0, 0.0, 0.0, 0.0,...   \nY:\\Istra Repositories\\ch-gr_exports\\MC_A_8yi\\se...  [[0.0, 0.0, 0.0, 0.0, 0.0, 0.0, 0.0, 0.0, 0.0,...   \n\ngroup                                                                                                  \\\ndataset                                                                                true_strain_xy   \nY:\\Istra Repositories\\ch-gr_exports\\MC_A_8yi\\se...  [[0.0, 0.0, 0.0, 0.0, 0.0, 0.0, 0.0, 0.0, 0.0,...   \nY:\\Istra Repositories\\ch-gr_exports\\MC_A_8yi\\se...  [[0.0, 0.0, 0.0, 0.0, 0.0, 0.0, 0.0, 0.0, 0.0,...   \nY:\\Istra Repositories\\ch-gr_exports\\MC_A_8yi\\se...  [[0.0, 0.0, 0.0, 0.0, 0.0, 0.0, 0.0, 0.0, 0.0,...   \nY:\\Istra Repositories\\ch-gr_exports\\MC_A_8yi\\se...  [[0.0, 0.0, 0.0, 0.0, 0.0, 0.0, 0.0, 0.0, 0.0,...   \nY:\\Istra Repositories\\ch-gr_exports\\MC_A_8yi\\se...  [[0.0, 0.0, 0.0, 0.0, 0.0, 0.0, 0.0, 0.0, 0.0,...   \n...                                                                                               ...   \nY:\\Istra Repositories\\ch-gr_exports\\MC_A_8yi\\se...  [[0.0, 0.0, 0.0, 0.0, 0.0, 0.0, 0.0, 0.0, 0.0,...   \nY:\\Istra Repositories\\ch-gr_exports\\MC_A_8yi\\se...  [[0.0, 0.0, 0.0, 0.0, 0.0, 0.0, 0.0, 0.0, 0.0,...   \nY:\\Istra Repositories\\ch-gr_exports\\MC_A_8yi\\se...  [[0.0, 0.0, 0.0, 0.0, 0.0, 0.0, 0.0, 0.0, 0.0,...   \nY:\\Istra Repositories\\ch-gr_exports\\MC_A_8yi\\se...  [[0.0, 0.0, 0.0, 0.0, 0.0, 0.0, 0.0, 0.0, 0.0,...   \nY:\\Istra Repositories\\ch-gr_exports\\MC_A_8yi\\se...  [[0.0, 0.0, 0.0, 0.0, 0.0, 0.0, 0.0, 0.0, 0.0,...   \n\ngroup                                                                                                  \\\ndataset                                                                            true_strain_xy_var   \nY:\\Istra Repositories\\ch-gr_exports\\MC_A_8yi\\se...  [[0.0, 0.0, 0.0, 0.0, 0.0, 0.0, 0.0, 0.0, 0.0,...   \nY:\\Istra Repositories\\ch-gr_exports\\MC_A_8yi\\se...  [[0.0, 0.0, 0.0, 0.0, 0.0, 0.0, 0.0, 0.0, 0.0,...   \nY:\\Istra Repositories\\ch-gr_exports\\MC_A_8yi\\se...  [[0.0, 0.0, 0.0, 0.0, 0.0, 0.0, 0.0, 0.0, 0.0,...   \nY:\\Istra Repositories\\ch-gr_exports\\MC_A_8yi\\se...  [[0.0, 0.0, 0.0, 0.0, 0.0, 0.0, 0.0, 0.0, 0.0,...   \nY:\\Istra Repositories\\ch-gr_exports\\MC_A_8yi\\se...  [[0.0, 0.0, 0.0, 0.0, 0.0, 0.0, 0.0, 0.0, 0.0,...   \n...                                                                                               ...   \nY:\\Istra Repositories\\ch-gr_exports\\MC_A_8yi\\se...  [[0.0, 0.0, 0.0, 0.0, 0.0, 0.0, 0.0, 0.0, 0.0,...   \nY:\\Istra Repositories\\ch-gr_exports\\MC_A_8yi\\se...  [[0.0, 0.0, 0.0, 0.0, 0.0, 0.0, 0.0, 0.0, 0.0,...   \nY:\\Istra Repositories\\ch-gr_exports\\MC_A_8yi\\se...  [[0.0, 0.0, 0.0, 0.0, 0.0, 0.0, 0.0, 0.0, 0.0,...   \nY:\\Istra Repositories\\ch-gr_exports\\MC_A_8yi\\se...  [[0.0, 0.0, 0.0, 0.0, 0.0, 0.0, 0.0, 0.0, 0.0,...   \nY:\\Istra Repositories\\ch-gr_exports\\MC_A_8yi\\se...  [[0.0, 0.0, 0.0, 0.0, 0.0, 0.0, 0.0, 0.0, 0.0,...   \n\ngroup                                                                                                  \\\ndataset                                                                                true_strain_yy   \nY:\\Istra Repositories\\ch-gr_exports\\MC_A_8yi\\se...  [[0.0, 0.0, 0.0, 0.0, 0.0, 0.0, 0.0, 0.0, 0.0,...   \nY:\\Istra Repositories\\ch-gr_exports\\MC_A_8yi\\se...  [[0.0, 0.0, 0.0, 0.0, 0.0, 0.0, 0.0, 0.0, 0.0,...   \nY:\\Istra Repositories\\ch-gr_exports\\MC_A_8yi\\se...  [[0.0, 0.0, 0.0, 0.0, 0.0, 0.0, 0.0, 0.0, 0.0,...   \nY:\\Istra Repositories\\ch-gr_exports\\MC_A_8yi\\se...  [[0.0, 0.0, 0.0, 0.0, 0.0, 0.0, 0.0, 0.0, 0.0,...   \nY:\\Istra Repositories\\ch-gr_exports\\MC_A_8yi\\se...  [[0.0, 0.0, 0.0, 0.0, 0.0, 0.0, 0.0, 0.0, 0.0,...   \n...                                                                                               ...   \nY:\\Istra Repositories\\ch-gr_exports\\MC_A_8yi\\se...  [[0.0, 0.0, 0.0, 0.0, 0.0, 0.0, 0.0, 0.0, 0.0,...   \nY:\\Istra Repositories\\ch-gr_exports\\MC_A_8yi\\se...  [[0.0, 0.0, 0.0, 0.0, 0.0, 0.0, 0.0, 0.0, 0.0,...   \nY:\\Istra Repositories\\ch-gr_exports\\MC_A_8yi\\se...  [[0.0, 0.0, 0.0, 0.0, 0.0, 0.0, 0.0, 0.0, 0.0,...   \nY:\\Istra Repositories\\ch-gr_exports\\MC_A_8yi\\se...  [[0.0, 0.0, 0.0, 0.0, 0.0, 0.0, 0.0, 0.0, 0.0,...   \nY:\\Istra Repositories\\ch-gr_exports\\MC_A_8yi\\se...  [[0.0, 0.0, 0.0, 0.0, 0.0, 0.0, 0.0, 0.0, 0.0,...   \n\ngroup                                                                                                  \ndataset                                                                            true_strain_yy_var  \nY:\\Istra Repositories\\ch-gr_exports\\MC_A_8yi\\se...  [[0.0, 0.0, 0.0, 0.0, 0.0, 0.0, 0.0, 0.0, 0.0,...  \nY:\\Istra Repositories\\ch-gr_exports\\MC_A_8yi\\se...  [[0.0, 0.0, 0.0, 0.0, 0.0, 0.0, 0.0, 0.0, 0.0,...  \nY:\\Istra Repositories\\ch-gr_exports\\MC_A_8yi\\se...  [[0.0, 0.0, 0.0, 0.0, 0.0, 0.0, 0.0, 0.0, 0.0,...  \nY:\\Istra Repositories\\ch-gr_exports\\MC_A_8yi\\se...  [[0.0, 0.0, 0.0, 0.0, 0.0, 0.0, 0.0, 0.0, 0.0,...  \nY:\\Istra Repositories\\ch-gr_exports\\MC_A_8yi\\se...  [[0.0, 0.0, 0.0, 0.0, 0.0, 0.0, 0.0, 0.0, 0.0,...  \n...                                                                                               ...  \nY:\\Istra Repositories\\ch-gr_exports\\MC_A_8yi\\se...  [[0.0, 0.0, 0.0, 0.0, 0.0, 0.0, 0.0, 0.0, 0.0,...  \nY:\\Istra Repositories\\ch-gr_exports\\MC_A_8yi\\se...  [[0.0, 0.0, 0.0, 0.0, 0.0, 0.0, 0.0, 0.0, 0.0,...  \nY:\\Istra Repositories\\ch-gr_exports\\MC_A_8yi\\se...  [[0.0, 0.0, 0.0, 0.0, 0.0, 0.0, 0.0, 0.0, 0.0,...  \nY:\\Istra Repositories\\ch-gr_exports\\MC_A_8yi\\se...  [[0.0, 0.0, 0.0, 0.0, 0.0, 0.0, 0.0, 0.0, 0.0,...  \nY:\\Istra Repositories\\ch-gr_exports\\MC_A_8yi\\se...  [[0.0, 0.0, 0.0, 0.0, 0.0, 0.0, 0.0, 0.0, 0.0,...  \n\n[619 rows x 58 columns]",
      "text/html": "<div>\n<style scoped>\n    .dataframe tbody tr th:only-of-type {\n        vertical-align: middle;\n    }\n\n    .dataframe tbody tr th {\n        vertical-align: top;\n    }\n\n    .dataframe thead tr th {\n        text-align: left;\n    }\n</style>\n<table border=\"1\" class=\"dataframe\">\n  <thead>\n    <tr>\n      <th>group</th>\n      <th>add_data</th>\n      <th colspan=\"9\" halign=\"left\">coordinates</th>\n      <th>...</th>\n      <th colspan=\"10\" halign=\"left\">strains</th>\n    </tr>\n    <tr>\n      <th>dataset</th>\n      <th>analog_channels</th>\n      <th>coordinate_x</th>\n      <th>coordinate_x_var</th>\n      <th>coordinate_y</th>\n      <th>coordinate_y_var</th>\n      <th>coordinate_z</th>\n      <th>coordinate_z_var</th>\n      <th>distance_to_plane</th>\n      <th>distance_to_sphere</th>\n      <th>mask</th>\n      <th>...</th>\n      <th>true_strain_p1</th>\n      <th>true_strain_p1_var</th>\n      <th>true_strain_p2</th>\n      <th>true_strain_p2_var</th>\n      <th>true_strain_xx</th>\n      <th>true_strain_xx_var</th>\n      <th>true_strain_xy</th>\n      <th>true_strain_xy_var</th>\n      <th>true_strain_yy</th>\n      <th>true_strain_yy_var</th>\n    </tr>\n  </thead>\n  <tbody>\n    <tr>\n      <th>Y:\\Istra Repositories\\ch-gr_exports\\MC_A_8yi\\series_step_0.hdf5</th>\n      <td>[[-0.17803990460911756]]</td>\n      <td>[[0.0, 0.0, 0.0, 0.0, 0.0, 0.0, 0.0, 0.0, 0.0,...</td>\n      <td>[[0.0, 0.0, 0.0, 0.0, 0.0, 0.0, 0.0, 0.0, 0.0,...</td>\n      <td>[[0.0, 0.0, 0.0, 0.0, 0.0, 0.0, 0.0, 0.0, 0.0,...</td>\n      <td>[[0.0, 0.0, 0.0, 0.0, 0.0, 0.0, 0.0, 0.0, 0.0,...</td>\n      <td>[[0.0, 0.0, 0.0, 0.0, 0.0, 0.0, 0.0, 0.0, 0.0,...</td>\n      <td>[[0.0, 0.0, 0.0, 0.0, 0.0, 0.0, 0.0, 0.0, 0.0,...</td>\n      <td>[[0.0, 0.0, 0.0, 0.0, 0.0, 0.0, 0.0, 0.0, 0.0,...</td>\n      <td>[[0.0, 0.0, 0.0, 0.0, 0.0, 0.0, 0.0, 0.0, 0.0,...</td>\n      <td>[[0, 0, 0, 0, 0, 0, 0, 0, 0, 0, 0, 0, 0, 0, 0,...</td>\n      <td>...</td>\n      <td>[[0.0, 0.0, 0.0, 0.0, 0.0, 0.0, 0.0, 0.0, 0.0,...</td>\n      <td>[[0.0, 0.0, 0.0, 0.0, 0.0, 0.0, 0.0, 0.0, 0.0,...</td>\n      <td>[[0.0, 0.0, 0.0, 0.0, 0.0, 0.0, 0.0, 0.0, 0.0,...</td>\n      <td>[[0.0, 0.0, 0.0, 0.0, 0.0, 0.0, 0.0, 0.0, 0.0,...</td>\n      <td>[[0.0, 0.0, 0.0, 0.0, 0.0, 0.0, 0.0, 0.0, 0.0,...</td>\n      <td>[[0.0, 0.0, 0.0, 0.0, 0.0, 0.0, 0.0, 0.0, 0.0,...</td>\n      <td>[[0.0, 0.0, 0.0, 0.0, 0.0, 0.0, 0.0, 0.0, 0.0,...</td>\n      <td>[[0.0, 0.0, 0.0, 0.0, 0.0, 0.0, 0.0, 0.0, 0.0,...</td>\n      <td>[[0.0, 0.0, 0.0, 0.0, 0.0, 0.0, 0.0, 0.0, 0.0,...</td>\n      <td>[[0.0, 0.0, 0.0, 0.0, 0.0, 0.0, 0.0, 0.0, 0.0,...</td>\n    </tr>\n    <tr>\n      <th>Y:\\Istra Repositories\\ch-gr_exports\\MC_A_8yi\\series_step_1.hdf5</th>\n      <td>[[-0.17902631506994415]]</td>\n      <td>[[0.0, 0.0, 0.0, 0.0, 0.0, 0.0, 0.0, 0.0, 0.0,...</td>\n      <td>[[0.0, 0.0, 0.0, 0.0, 0.0, 0.0, 0.0, 0.0, 0.0,...</td>\n      <td>[[0.0, 0.0, 0.0, 0.0, 0.0, 0.0, 0.0, 0.0, 0.0,...</td>\n      <td>[[0.0, 0.0, 0.0, 0.0, 0.0, 0.0, 0.0, 0.0, 0.0,...</td>\n      <td>[[0.0, 0.0, 0.0, 0.0, 0.0, 0.0, 0.0, 0.0, 0.0,...</td>\n      <td>[[0.0, 0.0, 0.0, 0.0, 0.0, 0.0, 0.0, 0.0, 0.0,...</td>\n      <td>[[0.0, 0.0, 0.0, 0.0, 0.0, 0.0, 0.0, 0.0, 0.0,...</td>\n      <td>[[0.0, 0.0, 0.0, 0.0, 0.0, 0.0, 0.0, 0.0, 0.0,...</td>\n      <td>[[0, 0, 0, 0, 0, 0, 0, 0, 0, 0, 0, 0, 0, 0, 0,...</td>\n      <td>...</td>\n      <td>[[0.0, 0.0, 0.0, 0.0, 0.0, 0.0, 0.0, 0.0, 0.0,...</td>\n      <td>[[0.0, 0.0, 0.0, 0.0, 0.0, 0.0, 0.0, 0.0, 0.0,...</td>\n      <td>[[0.0, 0.0, 0.0, 0.0, 0.0, 0.0, 0.0, 0.0, 0.0,...</td>\n      <td>[[0.0, 0.0, 0.0, 0.0, 0.0, 0.0, 0.0, 0.0, 0.0,...</td>\n      <td>[[0.0, 0.0, 0.0, 0.0, 0.0, 0.0, 0.0, 0.0, 0.0,...</td>\n      <td>[[0.0, 0.0, 0.0, 0.0, 0.0, 0.0, 0.0, 0.0, 0.0,...</td>\n      <td>[[0.0, 0.0, 0.0, 0.0, 0.0, 0.0, 0.0, 0.0, 0.0,...</td>\n      <td>[[0.0, 0.0, 0.0, 0.0, 0.0, 0.0, 0.0, 0.0, 0.0,...</td>\n      <td>[[0.0, 0.0, 0.0, 0.0, 0.0, 0.0, 0.0, 0.0, 0.0,...</td>\n      <td>[[0.0, 0.0, 0.0, 0.0, 0.0, 0.0, 0.0, 0.0, 0.0,...</td>\n    </tr>\n    <tr>\n      <th>Y:\\Istra Repositories\\ch-gr_exports\\MC_A_8yi\\series_step_2.hdf5</th>\n      <td>[[-0.18067033250412906]]</td>\n      <td>[[0.0, 0.0, 0.0, 0.0, 0.0, 0.0, 0.0, 0.0, 0.0,...</td>\n      <td>[[0.0, 0.0, 0.0, 0.0, 0.0, 0.0, 0.0, 0.0, 0.0,...</td>\n      <td>[[0.0, 0.0, 0.0, 0.0, 0.0, 0.0, 0.0, 0.0, 0.0,...</td>\n      <td>[[0.0, 0.0, 0.0, 0.0, 0.0, 0.0, 0.0, 0.0, 0.0,...</td>\n      <td>[[0.0, 0.0, 0.0, 0.0, 0.0, 0.0, 0.0, 0.0, 0.0,...</td>\n      <td>[[0.0, 0.0, 0.0, 0.0, 0.0, 0.0, 0.0, 0.0, 0.0,...</td>\n      <td>[[0.0, 0.0, 0.0, 0.0, 0.0, 0.0, 0.0, 0.0, 0.0,...</td>\n      <td>[[0.0, 0.0, 0.0, 0.0, 0.0, 0.0, 0.0, 0.0, 0.0,...</td>\n      <td>[[0, 0, 0, 0, 0, 0, 0, 0, 0, 0, 0, 0, 0, 0, 0,...</td>\n      <td>...</td>\n      <td>[[0.0, 0.0, 0.0, 0.0, 0.0, 0.0, 0.0, 0.0, 0.0,...</td>\n      <td>[[0.0, 0.0, 0.0, 0.0, 0.0, 0.0, 0.0, 0.0, 0.0,...</td>\n      <td>[[0.0, 0.0, 0.0, 0.0, 0.0, 0.0, 0.0, 0.0, 0.0,...</td>\n      <td>[[0.0, 0.0, 0.0, 0.0, 0.0, 0.0, 0.0, 0.0, 0.0,...</td>\n      <td>[[0.0, 0.0, 0.0, 0.0, 0.0, 0.0, 0.0, 0.0, 0.0,...</td>\n      <td>[[0.0, 0.0, 0.0, 0.0, 0.0, 0.0, 0.0, 0.0, 0.0,...</td>\n      <td>[[0.0, 0.0, 0.0, 0.0, 0.0, 0.0, 0.0, 0.0, 0.0,...</td>\n      <td>[[0.0, 0.0, 0.0, 0.0, 0.0, 0.0, 0.0, 0.0, 0.0,...</td>\n      <td>[[0.0, 0.0, 0.0, 0.0, 0.0, 0.0, 0.0, 0.0, 0.0,...</td>\n      <td>[[0.0, 0.0, 0.0, 0.0, 0.0, 0.0, 0.0, 0.0, 0.0,...</td>\n    </tr>\n    <tr>\n      <th>Y:\\Istra Repositories\\ch-gr_exports\\MC_A_8yi\\series_step_3.hdf5</th>\n      <td>[[-0.18231434993765888]]</td>\n      <td>[[0.0, 0.0, 0.0, 0.0, 0.0, 0.0, 0.0, 0.0, 0.0,...</td>\n      <td>[[0.0, 0.0, 0.0, 0.0, 0.0, 0.0, 0.0, 0.0, 0.0,...</td>\n      <td>[[0.0, 0.0, 0.0, 0.0, 0.0, 0.0, 0.0, 0.0, 0.0,...</td>\n      <td>[[0.0, 0.0, 0.0, 0.0, 0.0, 0.0, 0.0, 0.0, 0.0,...</td>\n      <td>[[0.0, 0.0, 0.0, 0.0, 0.0, 0.0, 0.0, 0.0, 0.0,...</td>\n      <td>[[0.0, 0.0, 0.0, 0.0, 0.0, 0.0, 0.0, 0.0, 0.0,...</td>\n      <td>[[0.0, 0.0, 0.0, 0.0, 0.0, 0.0, 0.0, 0.0, 0.0,...</td>\n      <td>[[0.0, 0.0, 0.0, 0.0, 0.0, 0.0, 0.0, 0.0, 0.0,...</td>\n      <td>[[0, 0, 0, 0, 0, 0, 0, 0, 0, 0, 0, 0, 0, 0, 0,...</td>\n      <td>...</td>\n      <td>[[0.0, 0.0, 0.0, 0.0, 0.0, 0.0, 0.0, 0.0, 0.0,...</td>\n      <td>[[0.0, 0.0, 0.0, 0.0, 0.0, 0.0, 0.0, 0.0, 0.0,...</td>\n      <td>[[0.0, 0.0, 0.0, 0.0, 0.0, 0.0, 0.0, 0.0, 0.0,...</td>\n      <td>[[0.0, 0.0, 0.0, 0.0, 0.0, 0.0, 0.0, 0.0, 0.0,...</td>\n      <td>[[0.0, 0.0, 0.0, 0.0, 0.0, 0.0, 0.0, 0.0, 0.0,...</td>\n      <td>[[0.0, 0.0, 0.0, 0.0, 0.0, 0.0, 0.0, 0.0, 0.0,...</td>\n      <td>[[0.0, 0.0, 0.0, 0.0, 0.0, 0.0, 0.0, 0.0, 0.0,...</td>\n      <td>[[0.0, 0.0, 0.0, 0.0, 0.0, 0.0, 0.0, 0.0, 0.0,...</td>\n      <td>[[0.0, 0.0, 0.0, 0.0, 0.0, 0.0, 0.0, 0.0, 0.0,...</td>\n      <td>[[0.0, 0.0, 0.0, 0.0, 0.0, 0.0, 0.0, 0.0, 0.0,...</td>\n    </tr>\n    <tr>\n      <th>Y:\\Istra Repositories\\ch-gr_exports\\MC_A_8yi\\series_step_4.hdf5</th>\n      <td>[[-0.1846159743435059]]</td>\n      <td>[[0.0, 0.0, 0.0, 0.0, 0.0, 0.0, 0.0, 0.0, 0.0,...</td>\n      <td>[[0.0, 0.0, 0.0, 0.0, 0.0, 0.0, 0.0, 0.0, 0.0,...</td>\n      <td>[[0.0, 0.0, 0.0, 0.0, 0.0, 0.0, 0.0, 0.0, 0.0,...</td>\n      <td>[[0.0, 0.0, 0.0, 0.0, 0.0, 0.0, 0.0, 0.0, 0.0,...</td>\n      <td>[[0.0, 0.0, 0.0, 0.0, 0.0, 0.0, 0.0, 0.0, 0.0,...</td>\n      <td>[[0.0, 0.0, 0.0, 0.0, 0.0, 0.0, 0.0, 0.0, 0.0,...</td>\n      <td>[[0.0, 0.0, 0.0, 0.0, 0.0, 0.0, 0.0, 0.0, 0.0,...</td>\n      <td>[[0.0, 0.0, 0.0, 0.0, 0.0, 0.0, 0.0, 0.0, 0.0,...</td>\n      <td>[[0, 0, 0, 0, 0, 0, 0, 0, 0, 0, 0, 0, 0, 0, 0,...</td>\n      <td>...</td>\n      <td>[[0.0, 0.0, 0.0, 0.0, 0.0, 0.0, 0.0, 0.0, 0.0,...</td>\n      <td>[[0.0, 0.0, 0.0, 0.0, 0.0, 0.0, 0.0, 0.0, 0.0,...</td>\n      <td>[[0.0, 0.0, 0.0, 0.0, 0.0, 0.0, 0.0, 0.0, 0.0,...</td>\n      <td>[[0.0, 0.0, 0.0, 0.0, 0.0, 0.0, 0.0, 0.0, 0.0,...</td>\n      <td>[[0.0, 0.0, 0.0, 0.0, 0.0, 0.0, 0.0, 0.0, 0.0,...</td>\n      <td>[[0.0, 0.0, 0.0, 0.0, 0.0, 0.0, 0.0, 0.0, 0.0,...</td>\n      <td>[[0.0, 0.0, 0.0, 0.0, 0.0, 0.0, 0.0, 0.0, 0.0,...</td>\n      <td>[[0.0, 0.0, 0.0, 0.0, 0.0, 0.0, 0.0, 0.0, 0.0,...</td>\n      <td>[[0.0, 0.0, 0.0, 0.0, 0.0, 0.0, 0.0, 0.0, 0.0,...</td>\n      <td>[[0.0, 0.0, 0.0, 0.0, 0.0, 0.0, 0.0, 0.0, 0.0,...</td>\n    </tr>\n    <tr>\n      <th>...</th>\n      <td>...</td>\n      <td>...</td>\n      <td>...</td>\n      <td>...</td>\n      <td>...</td>\n      <td>...</td>\n      <td>...</td>\n      <td>...</td>\n      <td>...</td>\n      <td>...</td>\n      <td>...</td>\n      <td>...</td>\n      <td>...</td>\n      <td>...</td>\n      <td>...</td>\n      <td>...</td>\n      <td>...</td>\n      <td>...</td>\n      <td>...</td>\n      <td>...</td>\n      <td>...</td>\n    </tr>\n    <tr>\n      <th>Y:\\Istra Repositories\\ch-gr_exports\\MC_A_8yi\\series_step_614.hdf5</th>\n      <td>[[-0.15173562556412296]]</td>\n      <td>[[0.0, 0.0, 0.0, 0.0, 0.0, 0.0, 0.0, 0.0, 0.0,...</td>\n      <td>[[0.0, 0.0, 0.0, 0.0, 0.0, 0.0, 0.0, 0.0, 0.0,...</td>\n      <td>[[0.0, 0.0, 0.0, 0.0, 0.0, 0.0, 0.0, 0.0, 0.0,...</td>\n      <td>[[0.0, 0.0, 0.0, 0.0, 0.0, 0.0, 0.0, 0.0, 0.0,...</td>\n      <td>[[0.0, 0.0, 0.0, 0.0, 0.0, 0.0, 0.0, 0.0, 0.0,...</td>\n      <td>[[0.0, 0.0, 0.0, 0.0, 0.0, 0.0, 0.0, 0.0, 0.0,...</td>\n      <td>[[0.0, 0.0, 0.0, 0.0, 0.0, 0.0, 0.0, 0.0, 0.0,...</td>\n      <td>[[0.0, 0.0, 0.0, 0.0, 0.0, 0.0, 0.0, 0.0, 0.0,...</td>\n      <td>[[0, 0, 0, 0, 0, 0, 0, 0, 0, 0, 0, 0, 0, 0, 0,...</td>\n      <td>...</td>\n      <td>[[0.0, 0.0, 0.0, 0.0, 0.0, 0.0, 0.0, 0.0, 0.0,...</td>\n      <td>[[0.0, 0.0, 0.0, 0.0, 0.0, 0.0, 0.0, 0.0, 0.0,...</td>\n      <td>[[0.0, 0.0, 0.0, 0.0, 0.0, 0.0, 0.0, 0.0, 0.0,...</td>\n      <td>[[0.0, 0.0, 0.0, 0.0, 0.0, 0.0, 0.0, 0.0, 0.0,...</td>\n      <td>[[0.0, 0.0, 0.0, 0.0, 0.0, 0.0, 0.0, 0.0, 0.0,...</td>\n      <td>[[0.0, 0.0, 0.0, 0.0, 0.0, 0.0, 0.0, 0.0, 0.0,...</td>\n      <td>[[0.0, 0.0, 0.0, 0.0, 0.0, 0.0, 0.0, 0.0, 0.0,...</td>\n      <td>[[0.0, 0.0, 0.0, 0.0, 0.0, 0.0, 0.0, 0.0, 0.0,...</td>\n      <td>[[0.0, 0.0, 0.0, 0.0, 0.0, 0.0, 0.0, 0.0, 0.0,...</td>\n      <td>[[0.0, 0.0, 0.0, 0.0, 0.0, 0.0, 0.0, 0.0, 0.0,...</td>\n    </tr>\n    <tr>\n      <th>Y:\\Istra Repositories\\ch-gr_exports\\MC_A_8yi\\series_step_615.hdf5</th>\n      <td>[[-0.15239323254240295]]</td>\n      <td>[[0.0, 0.0, 0.0, 0.0, 0.0, 0.0, 0.0, 0.0, 0.0,...</td>\n      <td>[[0.0, 0.0, 0.0, 0.0, 0.0, 0.0, 0.0, 0.0, 0.0,...</td>\n      <td>[[0.0, 0.0, 0.0, 0.0, 0.0, 0.0, 0.0, 0.0, 0.0,...</td>\n      <td>[[0.0, 0.0, 0.0, 0.0, 0.0, 0.0, 0.0, 0.0, 0.0,...</td>\n      <td>[[0.0, 0.0, 0.0, 0.0, 0.0, 0.0, 0.0, 0.0, 0.0,...</td>\n      <td>[[0.0, 0.0, 0.0, 0.0, 0.0, 0.0, 0.0, 0.0, 0.0,...</td>\n      <td>[[0.0, 0.0, 0.0, 0.0, 0.0, 0.0, 0.0, 0.0, 0.0,...</td>\n      <td>[[0.0, 0.0, 0.0, 0.0, 0.0, 0.0, 0.0, 0.0, 0.0,...</td>\n      <td>[[0, 0, 0, 0, 0, 0, 0, 0, 0, 0, 0, 0, 0, 0, 0,...</td>\n      <td>...</td>\n      <td>[[0.0, 0.0, 0.0, 0.0, 0.0, 0.0, 0.0, 0.0, 0.0,...</td>\n      <td>[[0.0, 0.0, 0.0, 0.0, 0.0, 0.0, 0.0, 0.0, 0.0,...</td>\n      <td>[[0.0, 0.0, 0.0, 0.0, 0.0, 0.0, 0.0, 0.0, 0.0,...</td>\n      <td>[[0.0, 0.0, 0.0, 0.0, 0.0, 0.0, 0.0, 0.0, 0.0,...</td>\n      <td>[[0.0, 0.0, 0.0, 0.0, 0.0, 0.0, 0.0, 0.0, 0.0,...</td>\n      <td>[[0.0, 0.0, 0.0, 0.0, 0.0, 0.0, 0.0, 0.0, 0.0,...</td>\n      <td>[[0.0, 0.0, 0.0, 0.0, 0.0, 0.0, 0.0, 0.0, 0.0,...</td>\n      <td>[[0.0, 0.0, 0.0, 0.0, 0.0, 0.0, 0.0, 0.0, 0.0,...</td>\n      <td>[[0.0, 0.0, 0.0, 0.0, 0.0, 0.0, 0.0, 0.0, 0.0,...</td>\n      <td>[[0.0, 0.0, 0.0, 0.0, 0.0, 0.0, 0.0, 0.0, 0.0,...</td>\n    </tr>\n    <tr>\n      <th>Y:\\Istra Repositories\\ch-gr_exports\\MC_A_8yi\\series_step_616.hdf5</th>\n      <td>[[-0.15305083952057003]]</td>\n      <td>[[0.0, 0.0, 0.0, 0.0, 0.0, 0.0, 0.0, 0.0, 0.0,...</td>\n      <td>[[0.0, 0.0, 0.0, 0.0, 0.0, 0.0, 0.0, 0.0, 0.0,...</td>\n      <td>[[0.0, 0.0, 0.0, 0.0, 0.0, 0.0, 0.0, 0.0, 0.0,...</td>\n      <td>[[0.0, 0.0, 0.0, 0.0, 0.0, 0.0, 0.0, 0.0, 0.0,...</td>\n      <td>[[0.0, 0.0, 0.0, 0.0, 0.0, 0.0, 0.0, 0.0, 0.0,...</td>\n      <td>[[0.0, 0.0, 0.0, 0.0, 0.0, 0.0, 0.0, 0.0, 0.0,...</td>\n      <td>[[0.0, 0.0, 0.0, 0.0, 0.0, 0.0, 0.0, 0.0, 0.0,...</td>\n      <td>[[0.0, 0.0, 0.0, 0.0, 0.0, 0.0, 0.0, 0.0, 0.0,...</td>\n      <td>[[0, 0, 0, 0, 0, 0, 0, 0, 0, 0, 0, 0, 0, 0, 0,...</td>\n      <td>...</td>\n      <td>[[0.0, 0.0, 0.0, 0.0, 0.0, 0.0, 0.0, 0.0, 0.0,...</td>\n      <td>[[0.0, 0.0, 0.0, 0.0, 0.0, 0.0, 0.0, 0.0, 0.0,...</td>\n      <td>[[0.0, 0.0, 0.0, 0.0, 0.0, 0.0, 0.0, 0.0, 0.0,...</td>\n      <td>[[0.0, 0.0, 0.0, 0.0, 0.0, 0.0, 0.0, 0.0, 0.0,...</td>\n      <td>[[0.0, 0.0, 0.0, 0.0, 0.0, 0.0, 0.0, 0.0, 0.0,...</td>\n      <td>[[0.0, 0.0, 0.0, 0.0, 0.0, 0.0, 0.0, 0.0, 0.0,...</td>\n      <td>[[0.0, 0.0, 0.0, 0.0, 0.0, 0.0, 0.0, 0.0, 0.0,...</td>\n      <td>[[0.0, 0.0, 0.0, 0.0, 0.0, 0.0, 0.0, 0.0, 0.0,...</td>\n      <td>[[0.0, 0.0, 0.0, 0.0, 0.0, 0.0, 0.0, 0.0, 0.0,...</td>\n      <td>[[0.0, 0.0, 0.0, 0.0, 0.0, 0.0, 0.0, 0.0, 0.0,...</td>\n    </tr>\n    <tr>\n      <th>Y:\\Istra Repositories\\ch-gr_exports\\MC_A_8yi\\series_step_617.hdf5</th>\n      <td>[[-0.15370844649862436]]</td>\n      <td>[[0.0, 0.0, 0.0, 0.0, 0.0, 0.0, 0.0, 0.0, 0.0,...</td>\n      <td>[[0.0, 0.0, 0.0, 0.0, 0.0, 0.0, 0.0, 0.0, 0.0,...</td>\n      <td>[[0.0, 0.0, 0.0, 0.0, 0.0, 0.0, 0.0, 0.0, 0.0,...</td>\n      <td>[[0.0, 0.0, 0.0, 0.0, 0.0, 0.0, 0.0, 0.0, 0.0,...</td>\n      <td>[[0.0, 0.0, 0.0, 0.0, 0.0, 0.0, 0.0, 0.0, 0.0,...</td>\n      <td>[[0.0, 0.0, 0.0, 0.0, 0.0, 0.0, 0.0, 0.0, 0.0,...</td>\n      <td>[[0.0, 0.0, 0.0, 0.0, 0.0, 0.0, 0.0, 0.0, 0.0,...</td>\n      <td>[[0.0, 0.0, 0.0, 0.0, 0.0, 0.0, 0.0, 0.0, 0.0,...</td>\n      <td>[[0, 0, 0, 0, 0, 0, 0, 0, 0, 0, 0, 0, 0, 0, 0,...</td>\n      <td>...</td>\n      <td>[[0.0, 0.0, 0.0, 0.0, 0.0, 0.0, 0.0, 0.0, 0.0,...</td>\n      <td>[[0.0, 0.0, 0.0, 0.0, 0.0, 0.0, 0.0, 0.0, 0.0,...</td>\n      <td>[[0.0, 0.0, 0.0, 0.0, 0.0, 0.0, 0.0, 0.0, 0.0,...</td>\n      <td>[[0.0, 0.0, 0.0, 0.0, 0.0, 0.0, 0.0, 0.0, 0.0,...</td>\n      <td>[[0.0, 0.0, 0.0, 0.0, 0.0, 0.0, 0.0, 0.0, 0.0,...</td>\n      <td>[[0.0, 0.0, 0.0, 0.0, 0.0, 0.0, 0.0, 0.0, 0.0,...</td>\n      <td>[[0.0, 0.0, 0.0, 0.0, 0.0, 0.0, 0.0, 0.0, 0.0,...</td>\n      <td>[[0.0, 0.0, 0.0, 0.0, 0.0, 0.0, 0.0, 0.0, 0.0,...</td>\n      <td>[[0.0, 0.0, 0.0, 0.0, 0.0, 0.0, 0.0, 0.0, 0.0,...</td>\n      <td>[[0.0, 0.0, 0.0, 0.0, 0.0, 0.0, 0.0, 0.0, 0.0,...</td>\n    </tr>\n    <tr>\n      <th>Y:\\Istra Repositories\\ch-gr_exports\\MC_A_8yi\\series_step_618.hdf5</th>\n      <td>[[-0.15403724998760931]]</td>\n      <td>[[0.0, 0.0, 0.0, 0.0, 0.0, 0.0, 0.0, 0.0, 0.0,...</td>\n      <td>[[0.0, 0.0, 0.0, 0.0, 0.0, 0.0, 0.0, 0.0, 0.0,...</td>\n      <td>[[0.0, 0.0, 0.0, 0.0, 0.0, 0.0, 0.0, 0.0, 0.0,...</td>\n      <td>[[0.0, 0.0, 0.0, 0.0, 0.0, 0.0, 0.0, 0.0, 0.0,...</td>\n      <td>[[0.0, 0.0, 0.0, 0.0, 0.0, 0.0, 0.0, 0.0, 0.0,...</td>\n      <td>[[0.0, 0.0, 0.0, 0.0, 0.0, 0.0, 0.0, 0.0, 0.0,...</td>\n      <td>[[0.0, 0.0, 0.0, 0.0, 0.0, 0.0, 0.0, 0.0, 0.0,...</td>\n      <td>[[0.0, 0.0, 0.0, 0.0, 0.0, 0.0, 0.0, 0.0, 0.0,...</td>\n      <td>[[0, 0, 0, 0, 0, 0, 0, 0, 0, 0, 0, 0, 0, 0, 0,...</td>\n      <td>...</td>\n      <td>[[0.0, 0.0, 0.0, 0.0, 0.0, 0.0, 0.0, 0.0, 0.0,...</td>\n      <td>[[0.0, 0.0, 0.0, 0.0, 0.0, 0.0, 0.0, 0.0, 0.0,...</td>\n      <td>[[0.0, 0.0, 0.0, 0.0, 0.0, 0.0, 0.0, 0.0, 0.0,...</td>\n      <td>[[0.0, 0.0, 0.0, 0.0, 0.0, 0.0, 0.0, 0.0, 0.0,...</td>\n      <td>[[0.0, 0.0, 0.0, 0.0, 0.0, 0.0, 0.0, 0.0, 0.0,...</td>\n      <td>[[0.0, 0.0, 0.0, 0.0, 0.0, 0.0, 0.0, 0.0, 0.0,...</td>\n      <td>[[0.0, 0.0, 0.0, 0.0, 0.0, 0.0, 0.0, 0.0, 0.0,...</td>\n      <td>[[0.0, 0.0, 0.0, 0.0, 0.0, 0.0, 0.0, 0.0, 0.0,...</td>\n      <td>[[0.0, 0.0, 0.0, 0.0, 0.0, 0.0, 0.0, 0.0, 0.0,...</td>\n      <td>[[0.0, 0.0, 0.0, 0.0, 0.0, 0.0, 0.0, 0.0, 0.0,...</td>\n    </tr>\n  </tbody>\n</table>\n<p>619 rows × 58 columns</p>\n</div>"
     },
     "metadata": {},
     "output_type": "display_data"
    },
    {
     "data": {
      "text/plain": "['engineering_strain_mask',\n 'engineering_strain_p1',\n 'engineering_strain_p1_var',\n 'engineering_strain_p2',\n 'engineering_strain_p2_var',\n 'engineering_strain_xx',\n 'engineering_strain_xx_var',\n 'engineering_strain_xy',\n 'engineering_strain_xy_var',\n 'engineering_strain_yy',\n 'engineering_strain_yy_var',\n 'mask',\n 'strain_p1',\n 'strain_p1_var',\n 'strain_p2',\n 'strain_p2_var',\n 'strain_xx',\n 'strain_xx_var',\n 'strain_xy',\n 'strain_xy_var',\n 'strain_yy',\n 'strain_yy_var',\n 'true_strain_mask',\n 'true_strain_p1',\n 'true_strain_p1_var',\n 'true_strain_p2',\n 'true_strain_p2_var',\n 'true_strain_xx',\n 'true_strain_xx_var',\n 'true_strain_xy',\n 'true_strain_xy_var',\n 'true_strain_yy',\n 'true_strain_yy_var']"
     },
     "metadata": {},
     "output_type": "display_data"
    }
   ],
   "source": [
    "display(series)\n",
    "display([f[1] for f in series.columns if f[0]=='strains'])"
   ],
   "metadata": {
    "collapsed": false,
    "pycharm": {
     "name": "#%%\n"
    }
   }
  },
  {
   "cell_type": "code",
   "execution_count": 8,
   "outputs": [
    {
     "data": {
      "text/plain": "MultiIndex([(     'add_data',             'analog_channels'),\n            (  'coordinates',                'coordinate_x'),\n            (  'coordinates',            'coordinate_x_var'),\n            (  'coordinates',                'coordinate_y'),\n            (  'coordinates',            'coordinate_y_var'),\n            (  'coordinates',                'coordinate_z'),\n            (  'coordinates',            'coordinate_z_var'),\n            (  'coordinates',           'distance_to_plane'),\n            (  'coordinates',          'distance_to_sphere'),\n            (  'coordinates',                        'mask'),\n            (  'coordinates',             'variance_sphere'),\n            ('displacements',          'displacement_total'),\n            ('displacements',     'displacement_total_rbmr'),\n            ('displacements', 'displacement_total_rbmr_var'),\n            ('displacements',      'displacement_total_var'),\n            ('displacements',              'displacement_x'),\n            ('displacements',         'displacement_x_rbmr'),\n            ('displacements',          'displacement_x_var'),\n            ('displacements',              'displacement_y'),\n            ('displacements',         'displacement_y_rbmr'),\n            ('displacements',          'displacement_y_var'),\n            ('displacements',              'displacement_z'),\n            ('displacements',         'displacement_z_rbmr'),\n            ('displacements',          'displacement_z_var'),\n            ('displacements',                        'mask'),\n            (      'strains',     'engineering_strain_mask'),\n            (      'strains',       'engineering_strain_p1'),\n            (      'strains',   'engineering_strain_p1_var'),\n            (      'strains',       'engineering_strain_p2'),\n            (      'strains',   'engineering_strain_p2_var'),\n            (      'strains',       'engineering_strain_xx'),\n            (      'strains',   'engineering_strain_xx_var'),\n            (      'strains',       'engineering_strain_xy'),\n            (      'strains',   'engineering_strain_xy_var'),\n            (      'strains',       'engineering_strain_yy'),\n            (      'strains',   'engineering_strain_yy_var'),\n            (      'strains',                        'mask'),\n            (      'strains',                   'strain_p1'),\n            (      'strains',               'strain_p1_var'),\n            (      'strains',                   'strain_p2'),\n            (      'strains',               'strain_p2_var'),\n            (      'strains',                   'strain_xx'),\n            (      'strains',               'strain_xx_var'),\n            (      'strains',                   'strain_xy'),\n            (      'strains',               'strain_xy_var'),\n            (      'strains',                   'strain_yy'),\n            (      'strains',               'strain_yy_var'),\n            (      'strains',            'true_strain_mask'),\n            (      'strains',              'true_strain_p1'),\n            (      'strains',          'true_strain_p1_var'),\n            (      'strains',              'true_strain_p2'),\n            (      'strains',          'true_strain_p2_var'),\n            (      'strains',              'true_strain_xx'),\n            (      'strains',          'true_strain_xx_var'),\n            (      'strains',              'true_strain_xy'),\n            (      'strains',          'true_strain_xy_var'),\n            (      'strains',              'true_strain_yy'),\n            (      'strains',          'true_strain_yy_var')],\n           names=['group', 'dataset'])"
     },
     "metadata": {},
     "output_type": "display_data"
    }
   ],
   "source": [
    "display(series.columns)"
   ],
   "metadata": {
    "collapsed": false,
    "pycharm": {
     "name": "#%%\n"
    }
   }
  },
  {
   "cell_type": "code",
   "execution_count": 9,
   "outputs": [
    {
     "data": {
      "text/plain": "<matplotlib.image.AxesImage at 0x215853c69d0>"
     },
     "execution_count": 9,
     "metadata": {},
     "output_type": "execute_result"
    },
    {
     "data": {
      "text/plain": "<Figure size 928x288 with 1 Axes>",
      "image/png": "[encoded data removed]"
     },
     "metadata": {},
     "output_type": "display_data"
    },
    {
     "data": {
      "text/plain": "<Figure size 928x288 with 1 Axes>",
      "image/png": "[encoded data removed]"
     },
     "metadata": {},
     "output_type": "display_data"
    },
    {
     "data": {
      "text/plain": "<Figure size 928x288 with 1 Axes>",
      "image/png": "[encoded data removed]"
     },
     "metadata": {},
     "output_type": "display_data"
    },
    {
     "data": {
      "text/plain": "<Figure size 928x288 with 1 Axes>",
      "image/png": "[encoded data removed]"
     },
     "metadata": {},
     "output_type": "display_data"
    },
    {
     "data": {
      "text/plain": "<Figure size 928x288 with 1 Axes>",
      "image/png": "[encoded data removed]"
     },
     "metadata": {},
     "output_type": "display_data"
    }
   ],
   "source": [
    "step=250\n",
    "plt.matshow(series.iloc[step,:][('strains','strain_p1')])\n",
    "plt.matshow(series.iloc[step,:][('strains','strain_p2')])\n",
    "plt.matshow(series.iloc[step,:][('strains','strain_xx')])\n",
    "plt.matshow(series.iloc[step,:][('strains','strain_yy')])\n",
    "plt.matshow(series.iloc[step,:][('strains','strain_xy')])"
   ],
   "metadata": {
    "collapsed": false,
    "pycharm": {
     "name": "#%%\n"
    }
   }
  },
  {
   "cell_type": "code",
   "execution_count": 10,
   "outputs": [
    {
     "data": {
      "text/plain": "array([[ 0.0000000e+00,  0.0000000e+00,  0.0000000e+00, ...,\n         0.0000000e+00,  0.0000000e+00,  0.0000000e+00],\n       [ 0.0000000e+00, -2.9275709e-29,  2.2403180e-28, ...,\n         0.0000000e+00,  0.0000000e+00,  0.0000000e+00],\n       [ 0.0000000e+00,  1.2894328e-28, -9.6846042e-28, ...,\n         4.9212066e-19, -2.6160075e-18,  0.0000000e+00],\n       ...,\n       [ 0.0000000e+00, -7.2439340e-27,  3.5380251e-26, ...,\n         6.6066435e-15,  1.8344553e-15,  0.0000000e+00],\n       [ 0.0000000e+00,  0.0000000e+00,  0.0000000e+00, ...,\n        -1.6441030e-15, -4.1494781e-16,  0.0000000e+00],\n       [ 0.0000000e+00,  0.0000000e+00,  0.0000000e+00, ...,\n         0.0000000e+00,  0.0000000e+00,  0.0000000e+00]], dtype=float32)"
     },
     "metadata": {},
     "output_type": "display_data"
    },
    {
     "data": {
      "text/plain": "<matplotlib.colorbar.Colorbar at 0x215855202b0>"
     },
     "execution_count": 10,
     "metadata": {},
     "output_type": "execute_result"
    },
    {
     "data": {
      "text/plain": "<Figure size 928x288 with 2 Axes>",
      "image/png": "[encoded data removed]"
     },
     "metadata": {},
     "output_type": "display_data"
    },
    {
     "data": {
      "text/plain": "<Figure size 903.877x288 with 2 Axes>",
      "image/png": "[encoded data removed]"
     },
     "metadata": {},
     "output_type": "display_data"
    }
   ],
   "source": [
    "from scipy import ndimage as ndi\n",
    "before=series.iloc[step,:][('strains','strain_p2')]\n",
    "after=ndi.rotate(series.iloc[step,:][('strains','strain_p2')],-0.5,reshape=True)\n",
    "display(after)\n",
    "bf=plt.matshow(before)\n",
    "plt.colorbar(bf)\n",
    "af=plt.matshow(after)\n",
    "plt.colorbar(af)"
   ],
   "metadata": {
    "collapsed": false,
    "pycharm": {
     "name": "#%%\n"
    }
   }
  },
  {
   "cell_type": "code",
   "execution_count": 11,
   "outputs": [],
   "source": [
    "array=series.iloc[250,:][('displacements',         'displacement_y_rbmr')]\n",
    "def strip_background(array):\n",
    "    #before=array\n",
    "    #bf=plt.matshow(before)\n",
    "    #plt.colorbar(bf)\n",
    "\n",
    "    after=array.copy()\n",
    "    after[after==0.]=np.nan\n",
    "    after=pd.DataFrame(after)\n",
    "    after.dropna(how='all',axis=0,inplace=True)\n",
    "    after.dropna(how='all',axis=1,inplace=True)\n",
    "    #display(after)\n",
    "    \"\"\"af=plt.matshow(after.dropna(how='all',axis=0))\n",
    "    plt.colorbar(af)\"\"\"\n",
    "    return(after)\n",
    "after=strip_background(array)"
   ],
   "metadata": {
    "collapsed": false,
    "pycharm": {
     "name": "#%%\n"
    }
   }
  },
  {
   "cell_type": "code",
   "execution_count": 12,
   "outputs": [
    {
     "data": {
      "text/plain": "         19        20        21        22        23        24        25   \\\n0   0.165626  0.162756  0.166650  0.162151  0.159390  0.163501  0.156536   \n1   0.163422  0.164912  0.168894  0.162016  0.160847  0.162196  0.155322   \n2   0.167003  0.165168  0.169323  0.162660  0.162656  0.162392  0.154713   \n3   0.168997  0.165608  0.165995  0.162875  0.158065  0.160008  0.154584   \n4   0.168102  0.167525  0.165044  0.160568  0.161080  0.162618  0.160691   \n5   0.166387  0.164774  0.163751  0.160905  0.159679  0.156345  0.155608   \n6   0.171845  0.167613  0.165978  0.159321  0.157388  0.159575  0.152916   \n7   0.167711  0.166254  0.166476  0.162388  0.161595  0.160518  0.149901   \n8   0.166364  0.162659  0.165619  0.160861  0.159363  0.161230  0.153239   \n9   0.165642  0.162067  0.165297  0.158039  0.159182  0.159848  0.154540   \n10  0.168051  0.162737  0.165056  0.164034  0.161604  0.158867  0.155980   \n11  0.164307  0.164719  0.164217  0.159842  0.159698  0.162033  0.153196   \n12  0.166572  0.164737  0.163830  0.159915  0.157666  0.158637  0.154144   \n13  0.165097  0.164860  0.163521  0.159618  0.159484  0.160100  0.158730   \n14  0.166790  0.163410  0.164504  0.162342  0.158362  0.159159  0.156467   \n15  0.166335  0.162843  0.164181  0.161194  0.159741  0.159788  0.155020   \n\n         26        27        28   ...       192       193       194       195  \\\n0   0.153373  0.153784  0.151692  ... -0.149886 -0.149566 -0.153076 -0.153736   \n1   0.154735  0.156252  0.151378  ... -0.149395 -0.150884 -0.151329 -0.154870   \n2   0.158633  0.156466  0.146700  ... -0.150665 -0.150797 -0.153025 -0.156711   \n3   0.158017  0.155766  0.148571  ... -0.147313 -0.151188 -0.153318 -0.155857   \n4   0.157961  0.154780  0.150311  ... -0.147452 -0.150323 -0.153100 -0.156451   \n5   0.154046  0.152681  0.150919  ... -0.149298 -0.149714 -0.152309 -0.155143   \n6   0.154173  0.153183  0.150433  ... -0.148498 -0.151406 -0.151797 -0.155176   \n7   0.156123  0.153585  0.148549  ... -0.148618 -0.151455 -0.153513 -0.154734   \n8   0.154884  0.157199  0.148388  ... -0.148162 -0.152015 -0.154056 -0.156791   \n9   0.152680  0.152922  0.147094  ... -0.147600 -0.151275 -0.152059 -0.154379   \n10  0.154568  0.155059  0.151285  ... -0.148837 -0.149670 -0.150776 -0.154921   \n11  0.153821  0.155602  0.151771  ... -0.151319 -0.150501 -0.153191 -0.154923   \n12  0.151973  0.152606  0.149873  ... -0.149884 -0.151085 -0.152986 -0.156960   \n13  0.156734  0.153614  0.148283  ... -0.149972 -0.150373 -0.154905 -0.156182   \n14  0.149891  0.155115  0.150700  ... -0.151044 -0.151328 -0.154381 -0.155238   \n15  0.154589  0.152892  0.151165  ... -0.149565 -0.153433 -0.154301 -0.157852   \n\n         196       197       198       199       200       201  \n0  -0.157856 -0.159779 -0.159456 -0.160452 -0.163979 -0.165476  \n1  -0.159007 -0.159418 -0.160945 -0.160408 -0.163011 -0.161782  \n2  -0.156997 -0.157807 -0.160785 -0.161590 -0.165114 -0.164654  \n3  -0.155650 -0.158006 -0.161293 -0.162187 -0.164213 -0.165919  \n4  -0.157211 -0.159024 -0.160334 -0.162087 -0.164707 -0.165342  \n5  -0.157161 -0.157621 -0.161175 -0.161746 -0.165018 -0.165341  \n6  -0.156611 -0.158405 -0.161651 -0.163481 -0.165403 -0.165806  \n7  -0.156503 -0.157845 -0.160107 -0.163458 -0.165271 -0.166705  \n8  -0.156944 -0.162019 -0.165243 -0.164352 -0.165355 -0.166822  \n9  -0.157453 -0.160209 -0.162695 -0.163613 -0.165045 -0.165777  \n10 -0.157200 -0.157886 -0.160177 -0.162002 -0.163517 -0.167791  \n11 -0.157888 -0.158962 -0.158987 -0.163293 -0.164259 -0.166729  \n12 -0.157979 -0.158970 -0.160557 -0.163049 -0.165643 -0.166523  \n13 -0.155555 -0.159648 -0.163637 -0.162361 -0.164918 -0.165380  \n14 -0.157279 -0.161288 -0.163662 -0.163356 -0.163098 -0.166252  \n15 -0.158677 -0.159486 -0.159671 -0.162651 -0.164589 -0.166541  \n\n[16 rows x 183 columns]",
      "text/html": "<div>\n<style scoped>\n    .dataframe tbody tr th:only-of-type {\n        vertical-align: middle;\n    }\n\n    .dataframe tbody tr th {\n        vertical-align: top;\n    }\n\n    .dataframe thead th {\n        text-align: right;\n    }\n</style>\n<table border=\"1\" class=\"dataframe\">\n  <thead>\n    <tr style=\"text-align: right;\">\n      <th></th>\n      <th>19</th>\n      <th>20</th>\n      <th>21</th>\n      <th>22</th>\n      <th>23</th>\n      <th>24</th>\n      <th>25</th>\n      <th>26</th>\n      <th>27</th>\n      <th>28</th>\n      <th>...</th>\n      <th>192</th>\n      <th>193</th>\n      <th>194</th>\n      <th>195</th>\n      <th>196</th>\n      <th>197</th>\n      <th>198</th>\n      <th>199</th>\n      <th>200</th>\n      <th>201</th>\n    </tr>\n  </thead>\n  <tbody>\n    <tr>\n      <th>0</th>\n      <td>0.165626</td>\n      <td>0.162756</td>\n      <td>0.166650</td>\n      <td>0.162151</td>\n      <td>0.159390</td>\n      <td>0.163501</td>\n      <td>0.156536</td>\n      <td>0.153373</td>\n      <td>0.153784</td>\n      <td>0.151692</td>\n      <td>...</td>\n      <td>-0.149886</td>\n      <td>-0.149566</td>\n      <td>-0.153076</td>\n      <td>-0.153736</td>\n      <td>-0.157856</td>\n      <td>-0.159779</td>\n      <td>-0.159456</td>\n      <td>-0.160452</td>\n      <td>-0.163979</td>\n      <td>-0.165476</td>\n    </tr>\n    <tr>\n      <th>1</th>\n      <td>0.163422</td>\n      <td>0.164912</td>\n      <td>0.168894</td>\n      <td>0.162016</td>\n      <td>0.160847</td>\n      <td>0.162196</td>\n      <td>0.155322</td>\n      <td>0.154735</td>\n      <td>0.156252</td>\n      <td>0.151378</td>\n      <td>...</td>\n      <td>-0.149395</td>\n      <td>-0.150884</td>\n      <td>-0.151329</td>\n      <td>-0.154870</td>\n      <td>-0.159007</td>\n      <td>-0.159418</td>\n      <td>-0.160945</td>\n      <td>-0.160408</td>\n      <td>-0.163011</td>\n      <td>-0.161782</td>\n    </tr>\n    <tr>\n      <th>2</th>\n      <td>0.167003</td>\n      <td>0.165168</td>\n      <td>0.169323</td>\n      <td>0.162660</td>\n      <td>0.162656</td>\n      <td>0.162392</td>\n      <td>0.154713</td>\n      <td>0.158633</td>\n      <td>0.156466</td>\n      <td>0.146700</td>\n      <td>...</td>\n      <td>-0.150665</td>\n      <td>-0.150797</td>\n      <td>-0.153025</td>\n      <td>-0.156711</td>\n      <td>-0.156997</td>\n      <td>-0.157807</td>\n      <td>-0.160785</td>\n      <td>-0.161590</td>\n      <td>-0.165114</td>\n      <td>-0.164654</td>\n    </tr>\n    <tr>\n      <th>3</th>\n      <td>0.168997</td>\n      <td>0.165608</td>\n      <td>0.165995</td>\n      <td>0.162875</td>\n      <td>0.158065</td>\n      <td>0.160008</td>\n      <td>0.154584</td>\n      <td>0.158017</td>\n      <td>0.155766</td>\n      <td>0.148571</td>\n      <td>...</td>\n      <td>-0.147313</td>\n      <td>-0.151188</td>\n      <td>-0.153318</td>\n      <td>-0.155857</td>\n      <td>-0.155650</td>\n      <td>-0.158006</td>\n      <td>-0.161293</td>\n      <td>-0.162187</td>\n      <td>-0.164213</td>\n      <td>-0.165919</td>\n    </tr>\n    <tr>\n      <th>4</th>\n      <td>0.168102</td>\n      <td>0.167525</td>\n      <td>0.165044</td>\n      <td>0.160568</td>\n      <td>0.161080</td>\n      <td>0.162618</td>\n      <td>0.160691</td>\n      <td>0.157961</td>\n      <td>0.154780</td>\n      <td>0.150311</td>\n      <td>...</td>\n      <td>-0.147452</td>\n      <td>-0.150323</td>\n      <td>-0.153100</td>\n      <td>-0.156451</td>\n      <td>-0.157211</td>\n      <td>-0.159024</td>\n      <td>-0.160334</td>\n      <td>-0.162087</td>\n      <td>-0.164707</td>\n      <td>-0.165342</td>\n    </tr>\n    <tr>\n      <th>5</th>\n      <td>0.166387</td>\n      <td>0.164774</td>\n      <td>0.163751</td>\n      <td>0.160905</td>\n      <td>0.159679</td>\n      <td>0.156345</td>\n      <td>0.155608</td>\n      <td>0.154046</td>\n      <td>0.152681</td>\n      <td>0.150919</td>\n      <td>...</td>\n      <td>-0.149298</td>\n      <td>-0.149714</td>\n      <td>-0.152309</td>\n      <td>-0.155143</td>\n      <td>-0.157161</td>\n      <td>-0.157621</td>\n      <td>-0.161175</td>\n      <td>-0.161746</td>\n      <td>-0.165018</td>\n      <td>-0.165341</td>\n    </tr>\n    <tr>\n      <th>6</th>\n      <td>0.171845</td>\n      <td>0.167613</td>\n      <td>0.165978</td>\n      <td>0.159321</td>\n      <td>0.157388</td>\n      <td>0.159575</td>\n      <td>0.152916</td>\n      <td>0.154173</td>\n      <td>0.153183</td>\n      <td>0.150433</td>\n      <td>...</td>\n      <td>-0.148498</td>\n      <td>-0.151406</td>\n      <td>-0.151797</td>\n      <td>-0.155176</td>\n      <td>-0.156611</td>\n      <td>-0.158405</td>\n      <td>-0.161651</td>\n      <td>-0.163481</td>\n      <td>-0.165403</td>\n      <td>-0.165806</td>\n    </tr>\n    <tr>\n      <th>7</th>\n      <td>0.167711</td>\n      <td>0.166254</td>\n      <td>0.166476</td>\n      <td>0.162388</td>\n      <td>0.161595</td>\n      <td>0.160518</td>\n      <td>0.149901</td>\n      <td>0.156123</td>\n      <td>0.153585</td>\n      <td>0.148549</td>\n      <td>...</td>\n      <td>-0.148618</td>\n      <td>-0.151455</td>\n      <td>-0.153513</td>\n      <td>-0.154734</td>\n      <td>-0.156503</td>\n      <td>-0.157845</td>\n      <td>-0.160107</td>\n      <td>-0.163458</td>\n      <td>-0.165271</td>\n      <td>-0.166705</td>\n    </tr>\n    <tr>\n      <th>8</th>\n      <td>0.166364</td>\n      <td>0.162659</td>\n      <td>0.165619</td>\n      <td>0.160861</td>\n      <td>0.159363</td>\n      <td>0.161230</td>\n      <td>0.153239</td>\n      <td>0.154884</td>\n      <td>0.157199</td>\n      <td>0.148388</td>\n      <td>...</td>\n      <td>-0.148162</td>\n      <td>-0.152015</td>\n      <td>-0.154056</td>\n      <td>-0.156791</td>\n      <td>-0.156944</td>\n      <td>-0.162019</td>\n      <td>-0.165243</td>\n      <td>-0.164352</td>\n      <td>-0.165355</td>\n      <td>-0.166822</td>\n    </tr>\n    <tr>\n      <th>9</th>\n      <td>0.165642</td>\n      <td>0.162067</td>\n      <td>0.165297</td>\n      <td>0.158039</td>\n      <td>0.159182</td>\n      <td>0.159848</td>\n      <td>0.154540</td>\n      <td>0.152680</td>\n      <td>0.152922</td>\n      <td>0.147094</td>\n      <td>...</td>\n      <td>-0.147600</td>\n      <td>-0.151275</td>\n      <td>-0.152059</td>\n      <td>-0.154379</td>\n      <td>-0.157453</td>\n      <td>-0.160209</td>\n      <td>-0.162695</td>\n      <td>-0.163613</td>\n      <td>-0.165045</td>\n      <td>-0.165777</td>\n    </tr>\n    <tr>\n      <th>10</th>\n      <td>0.168051</td>\n      <td>0.162737</td>\n      <td>0.165056</td>\n      <td>0.164034</td>\n      <td>0.161604</td>\n      <td>0.158867</td>\n      <td>0.155980</td>\n      <td>0.154568</td>\n      <td>0.155059</td>\n      <td>0.151285</td>\n      <td>...</td>\n      <td>-0.148837</td>\n      <td>-0.149670</td>\n      <td>-0.150776</td>\n      <td>-0.154921</td>\n      <td>-0.157200</td>\n      <td>-0.157886</td>\n      <td>-0.160177</td>\n      <td>-0.162002</td>\n      <td>-0.163517</td>\n      <td>-0.167791</td>\n    </tr>\n    <tr>\n      <th>11</th>\n      <td>0.164307</td>\n      <td>0.164719</td>\n      <td>0.164217</td>\n      <td>0.159842</td>\n      <td>0.159698</td>\n      <td>0.162033</td>\n      <td>0.153196</td>\n      <td>0.153821</td>\n      <td>0.155602</td>\n      <td>0.151771</td>\n      <td>...</td>\n      <td>-0.151319</td>\n      <td>-0.150501</td>\n      <td>-0.153191</td>\n      <td>-0.154923</td>\n      <td>-0.157888</td>\n      <td>-0.158962</td>\n      <td>-0.158987</td>\n      <td>-0.163293</td>\n      <td>-0.164259</td>\n      <td>-0.166729</td>\n    </tr>\n    <tr>\n      <th>12</th>\n      <td>0.166572</td>\n      <td>0.164737</td>\n      <td>0.163830</td>\n      <td>0.159915</td>\n      <td>0.157666</td>\n      <td>0.158637</td>\n      <td>0.154144</td>\n      <td>0.151973</td>\n      <td>0.152606</td>\n      <td>0.149873</td>\n      <td>...</td>\n      <td>-0.149884</td>\n      <td>-0.151085</td>\n      <td>-0.152986</td>\n      <td>-0.156960</td>\n      <td>-0.157979</td>\n      <td>-0.158970</td>\n      <td>-0.160557</td>\n      <td>-0.163049</td>\n      <td>-0.165643</td>\n      <td>-0.166523</td>\n    </tr>\n    <tr>\n      <th>13</th>\n      <td>0.165097</td>\n      <td>0.164860</td>\n      <td>0.163521</td>\n      <td>0.159618</td>\n      <td>0.159484</td>\n      <td>0.160100</td>\n      <td>0.158730</td>\n      <td>0.156734</td>\n      <td>0.153614</td>\n      <td>0.148283</td>\n      <td>...</td>\n      <td>-0.149972</td>\n      <td>-0.150373</td>\n      <td>-0.154905</td>\n      <td>-0.156182</td>\n      <td>-0.155555</td>\n      <td>-0.159648</td>\n      <td>-0.163637</td>\n      <td>-0.162361</td>\n      <td>-0.164918</td>\n      <td>-0.165380</td>\n    </tr>\n    <tr>\n      <th>14</th>\n      <td>0.166790</td>\n      <td>0.163410</td>\n      <td>0.164504</td>\n      <td>0.162342</td>\n      <td>0.158362</td>\n      <td>0.159159</td>\n      <td>0.156467</td>\n      <td>0.149891</td>\n      <td>0.155115</td>\n      <td>0.150700</td>\n      <td>...</td>\n      <td>-0.151044</td>\n      <td>-0.151328</td>\n      <td>-0.154381</td>\n      <td>-0.155238</td>\n      <td>-0.157279</td>\n      <td>-0.161288</td>\n      <td>-0.163662</td>\n      <td>-0.163356</td>\n      <td>-0.163098</td>\n      <td>-0.166252</td>\n    </tr>\n    <tr>\n      <th>15</th>\n      <td>0.166335</td>\n      <td>0.162843</td>\n      <td>0.164181</td>\n      <td>0.161194</td>\n      <td>0.159741</td>\n      <td>0.159788</td>\n      <td>0.155020</td>\n      <td>0.154589</td>\n      <td>0.152892</td>\n      <td>0.151165</td>\n      <td>...</td>\n      <td>-0.149565</td>\n      <td>-0.153433</td>\n      <td>-0.154301</td>\n      <td>-0.157852</td>\n      <td>-0.158677</td>\n      <td>-0.159486</td>\n      <td>-0.159671</td>\n      <td>-0.162651</td>\n      <td>-0.164589</td>\n      <td>-0.166541</td>\n    </tr>\n  </tbody>\n</table>\n<p>16 rows × 183 columns</p>\n</div>"
     },
     "execution_count": 12,
     "metadata": {},
     "output_type": "execute_result"
    }
   ],
   "source": [
    "def get_width(df,col):\n",
    "    return(len(df.iloc[:,col].dropna(axis=0)))\n",
    "#display(get_width(after,-1))\n",
    "\n",
    "def get_start_idx(df,col):\n",
    "    return df.iloc[:,col].dropna(axis=0).index[0]\n",
    "#display(get_start_idx(after,-1))\n",
    "\n",
    "def create_line(p1,p2):\n",
    "    deltax=abs(p2[1]-p1[1])\n",
    "    deltay=p2[0]-p1[0]\n",
    "    m=deltay/deltax\n",
    "    t=p1[0]-m*p1[1]\n",
    "    return({i:int(round(i*m+t,0)) for i in range(p1[1],p2[1]+1)})\n",
    "def linestripe_df(after):\n",
    "    resdf=pd.DataFrame(columns=after.columns,index=range(get_width(after,0)))\n",
    "\n",
    "    for linenumber in range(get_width(after,0)):\n",
    "        p1=(get_start_idx(after,0)+linenumber,after.columns[0])\n",
    "        p2=(get_start_idx(after,-1)+linenumber,after.columns[-1])\n",
    "        #display(p1,p2)\n",
    "        line=create_line(p1,p2)\n",
    "        for key, value in line.items():\n",
    "            resdf.loc[linenumber,key]=after.loc[value,key].astype(float)\n",
    "    #display(resdf[:])\n",
    "    for i in resdf.columns:\n",
    "        resdf[i]=resdf[i].astype(float)\n",
    "    #plt.matshow(after)\n",
    "    \"\"\"plt.matshow(resdf)\n",
    "    plt.show(    )\"\"\"\n",
    "    return(resdf)\n",
    "linestripe_df(after)"
   ],
   "metadata": {
    "collapsed": false,
    "pycharm": {
     "name": "#%%\n"
    }
   }
  },
  {
   "cell_type": "code",
   "execution_count": 13,
   "outputs": [
    {
     "data": {
      "text/plain": "82.32662845048199"
     },
     "metadata": {},
     "output_type": "display_data"
    },
    {
     "data": {
      "text/plain": "82.33005628026285"
     },
     "metadata": {},
     "output_type": "display_data"
    },
    {
     "data": {
      "text/plain": "82.32878792663068"
     },
     "metadata": {},
     "output_type": "display_data"
    },
    {
     "data": {
      "text/plain": "82.32761332695374"
     },
     "metadata": {},
     "output_type": "display_data"
    },
    {
     "data": {
      "text/plain": "82.32901105289235"
     },
     "metadata": {},
     "output_type": "display_data"
    },
    {
     "data": {
      "text/plain": "82.32895329570673"
     },
     "metadata": {},
     "output_type": "display_data"
    },
    {
     "data": {
      "text/plain": "82.33058508399026"
     },
     "metadata": {},
     "output_type": "display_data"
    },
    {
     "data": {
      "text/plain": "82.32661962818767"
     },
     "metadata": {},
     "output_type": "display_data"
    },
    {
     "data": {
      "text/plain": "82.32945073626547"
     },
     "metadata": {},
     "output_type": "display_data"
    },
    {
     "data": {
      "text/plain": "82.32688615345324"
     },
     "metadata": {},
     "output_type": "display_data"
    },
    {
     "data": {
      "text/plain": "82.32846741629601"
     },
     "metadata": {},
     "output_type": "display_data"
    },
    {
     "data": {
      "text/plain": "82.3286317104098"
     },
     "metadata": {},
     "output_type": "display_data"
    },
    {
     "data": {
      "text/plain": "82.32972673427766"
     },
     "metadata": {},
     "output_type": "display_data"
    },
    {
     "data": {
      "text/plain": "82.32983029421526"
     },
     "metadata": {},
     "output_type": "display_data"
    },
    {
     "data": {
      "text/plain": "82.32832066381546"
     },
     "metadata": {},
     "output_type": "display_data"
    },
    {
     "data": {
      "text/plain": "82.32758989226824"
     },
     "metadata": {},
     "output_type": "display_data"
    },
    {
     "data": {
      "text/plain": "82.3283830542992"
     },
     "metadata": {},
     "output_type": "display_data"
    },
    {
     "data": {
      "text/plain": "82.32831938817682"
     },
     "metadata": {},
     "output_type": "display_data"
    },
    {
     "data": {
      "text/plain": "82.33037595149813"
     },
     "metadata": {},
     "output_type": "display_data"
    },
    {
     "data": {
      "text/plain": "82.32865139185736"
     },
     "metadata": {},
     "output_type": "display_data"
    },
    {
     "data": {
      "text/plain": "82.33056790436063"
     },
     "metadata": {},
     "output_type": "display_data"
    },
    {
     "data": {
      "text/plain": "82.3269657241143"
     },
     "metadata": {},
     "output_type": "display_data"
    },
    {
     "data": {
      "text/plain": "82.33037127757302"
     },
     "metadata": {},
     "output_type": "display_data"
    },
    {
     "data": {
      "text/plain": "82.33086630418903"
     },
     "metadata": {},
     "output_type": "display_data"
    },
    {
     "data": {
      "text/plain": "82.32815094641006"
     },
     "metadata": {},
     "output_type": "display_data"
    },
    {
     "data": {
      "text/plain": "82.32872172232322"
     },
     "metadata": {},
     "output_type": "display_data"
    },
    {
     "data": {
      "text/plain": "82.32608009732064"
     },
     "metadata": {},
     "output_type": "display_data"
    },
    {
     "data": {
      "text/plain": "82.32721792175188"
     },
     "metadata": {},
     "output_type": "display_data"
    },
    {
     "data": {
      "text/plain": "82.33131390738404"
     },
     "metadata": {},
     "output_type": "display_data"
    },
    {
     "data": {
      "text/plain": "82.32954375731623"
     },
     "metadata": {},
     "output_type": "display_data"
    },
    {
     "data": {
      "text/plain": "82.32884424774085"
     },
     "metadata": {},
     "output_type": "display_data"
    },
    {
     "data": {
      "text/plain": "82.32943202993525"
     },
     "metadata": {},
     "output_type": "display_data"
    },
    {
     "data": {
      "text/plain": "82.33006015511893"
     },
     "metadata": {},
     "output_type": "display_data"
    },
    {
     "data": {
      "text/plain": "82.32791228798826"
     },
     "metadata": {},
     "output_type": "display_data"
    },
    {
     "data": {
      "text/plain": "82.32435965240143"
     },
     "metadata": {},
     "output_type": "display_data"
    },
    {
     "data": {
      "text/plain": "82.32637362558248"
     },
     "metadata": {},
     "output_type": "display_data"
    },
    {
     "data": {
      "text/plain": "82.32970126433449"
     },
     "metadata": {},
     "output_type": "display_data"
    },
    {
     "data": {
      "text/plain": "82.3302469076005"
     },
     "metadata": {},
     "output_type": "display_data"
    },
    {
     "data": {
      "text/plain": "82.32717275943642"
     },
     "metadata": {},
     "output_type": "display_data"
    },
    {
     "data": {
      "text/plain": "82.32997408550924"
     },
     "metadata": {},
     "output_type": "display_data"
    },
    {
     "data": {
      "text/plain": "82.32864567518607"
     },
     "metadata": {},
     "output_type": "display_data"
    },
    {
     "data": {
      "text/plain": "82.32973402179469"
     },
     "metadata": {},
     "output_type": "display_data"
    },
    {
     "data": {
      "text/plain": "82.3294202772276"
     },
     "metadata": {},
     "output_type": "display_data"
    },
    {
     "data": {
      "text/plain": "82.33037640243954"
     },
     "metadata": {},
     "output_type": "display_data"
    },
    {
     "data": {
      "text/plain": "82.32845059438256"
     },
     "metadata": {},
     "output_type": "display_data"
    },
    {
     "data": {
      "text/plain": "82.32947365870888"
     },
     "metadata": {},
     "output_type": "display_data"
    },
    {
     "data": {
      "text/plain": "82.32781834706977"
     },
     "metadata": {},
     "output_type": "display_data"
    },
    {
     "data": {
      "text/plain": "82.32975153823593"
     },
     "metadata": {},
     "output_type": "display_data"
    },
    {
     "data": {
      "text/plain": "82.32807972591058"
     },
     "metadata": {},
     "output_type": "display_data"
    },
    {
     "data": {
      "text/plain": "82.32879100536587"
     },
     "metadata": {},
     "output_type": "display_data"
    },
    {
     "data": {
      "text/plain": "82.32862452858343"
     },
     "metadata": {},
     "output_type": "display_data"
    },
    {
     "data": {
      "text/plain": "82.32854317002926"
     },
     "metadata": {},
     "output_type": "display_data"
    },
    {
     "data": {
      "text/plain": "82.33177481894059"
     },
     "metadata": {},
     "output_type": "display_data"
    },
    {
     "data": {
      "text/plain": "82.32856022895638"
     },
     "metadata": {},
     "output_type": "display_data"
    },
    {
     "data": {
      "text/plain": "82.32792694360818"
     },
     "metadata": {},
     "output_type": "display_data"
    },
    {
     "data": {
      "text/plain": "82.32612502785479"
     },
     "metadata": {},
     "output_type": "display_data"
    },
    {
     "data": {
      "text/plain": "82.32768748558168"
     },
     "metadata": {},
     "output_type": "display_data"
    },
    {
     "data": {
      "text/plain": "82.32899564448948"
     },
     "metadata": {},
     "output_type": "display_data"
    },
    {
     "data": {
      "text/plain": "82.32845967159092"
     },
     "metadata": {},
     "output_type": "display_data"
    },
    {
     "data": {
      "text/plain": "82.32742353133347"
     },
     "metadata": {},
     "output_type": "display_data"
    },
    {
     "data": {
      "text/plain": "82.32883158815463"
     },
     "metadata": {},
     "output_type": "display_data"
    },
    {
     "data": {
      "text/plain": "82.33051661972286"
     },
     "metadata": {},
     "output_type": "display_data"
    },
    {
     "data": {
      "text/plain": "82.32959135219286"
     },
     "metadata": {},
     "output_type": "display_data"
    },
    {
     "data": {
      "text/plain": "82.32676189395917"
     },
     "metadata": {},
     "output_type": "display_data"
    },
    {
     "data": {
      "text/plain": "82.33030162187555"
     },
     "metadata": {},
     "output_type": "display_data"
    },
    {
     "data": {
      "text/plain": "82.32569942190145"
     },
     "metadata": {},
     "output_type": "display_data"
    },
    {
     "data": {
      "text/plain": "82.32918445686823"
     },
     "metadata": {},
     "output_type": "display_data"
    },
    {
     "data": {
      "text/plain": "82.32878992734467"
     },
     "metadata": {},
     "output_type": "display_data"
    },
    {
     "data": {
      "text/plain": "82.32850632286787"
     },
     "metadata": {},
     "output_type": "display_data"
    },
    {
     "data": {
      "text/plain": "82.32590991928492"
     },
     "metadata": {},
     "output_type": "display_data"
    },
    {
     "data": {
      "text/plain": "82.3282059298754"
     },
     "metadata": {},
     "output_type": "display_data"
    },
    {
     "data": {
      "text/plain": "82.33020266473503"
     },
     "metadata": {},
     "output_type": "display_data"
    },
    {
     "data": {
      "text/plain": "82.32999603503825"
     },
     "metadata": {},
     "output_type": "display_data"
    },
    {
     "data": {
      "text/plain": "82.32829627183614"
     },
     "metadata": {},
     "output_type": "display_data"
    },
    {
     "data": {
      "text/plain": "82.33280450785142"
     },
     "metadata": {},
     "output_type": "display_data"
    },
    {
     "data": {
      "text/plain": "82.32988707841793"
     },
     "metadata": {},
     "output_type": "display_data"
    },
    {
     "data": {
      "text/plain": "82.32884275782332"
     },
     "metadata": {},
     "output_type": "display_data"
    },
    {
     "data": {
      "text/plain": "82.32728502142078"
     },
     "metadata": {},
     "output_type": "display_data"
    },
    {
     "data": {
      "text/plain": "82.32704236770763"
     },
     "metadata": {},
     "output_type": "display_data"
    },
    {
     "data": {
      "text/plain": "82.32886521243704"
     },
     "metadata": {},
     "output_type": "display_data"
    },
    {
     "data": {
      "text/plain": "82.32769800859629"
     },
     "metadata": {},
     "output_type": "display_data"
    },
    {
     "data": {
      "text/plain": "82.32775495305533"
     },
     "metadata": {},
     "output_type": "display_data"
    },
    {
     "data": {
      "text/plain": "82.32782647848693"
     },
     "metadata": {},
     "output_type": "display_data"
    },
    {
     "data": {
      "text/plain": "82.32743119541365"
     },
     "metadata": {},
     "output_type": "display_data"
    },
    {
     "data": {
      "text/plain": "82.32810878776068"
     },
     "metadata": {},
     "output_type": "display_data"
    },
    {
     "data": {
      "text/plain": "82.33140688719648"
     },
     "metadata": {},
     "output_type": "display_data"
    },
    {
     "data": {
      "text/plain": "82.32947049872925"
     },
     "metadata": {},
     "output_type": "display_data"
    },
    {
     "data": {
      "text/plain": "82.32767487881353"
     },
     "metadata": {},
     "output_type": "display_data"
    },
    {
     "data": {
      "text/plain": "82.32799591010054"
     },
     "metadata": {},
     "output_type": "display_data"
    },
    {
     "data": {
      "text/plain": "82.32913804505691"
     },
     "metadata": {},
     "output_type": "display_data"
    },
    {
     "data": {
      "text/plain": "82.32791705131507"
     },
     "metadata": {},
     "output_type": "display_data"
    },
    {
     "data": {
      "text/plain": "82.32973661992432"
     },
     "metadata": {},
     "output_type": "display_data"
    },
    {
     "data": {
      "text/plain": "82.32804386997978"
     },
     "metadata": {},
     "output_type": "display_data"
    },
    {
     "data": {
      "text/plain": "82.32478765506686"
     },
     "metadata": {},
     "output_type": "display_data"
    },
    {
     "data": {
      "text/plain": "82.33424255746081"
     },
     "metadata": {},
     "output_type": "display_data"
    },
    {
     "data": {
      "text/plain": "82.32873131726973"
     },
     "metadata": {},
     "output_type": "display_data"
    },
    {
     "data": {
      "text/plain": "82.33015680699705"
     },
     "metadata": {},
     "output_type": "display_data"
    },
    {
     "data": {
      "text/plain": "82.3279914840686"
     },
     "metadata": {},
     "output_type": "display_data"
    },
    {
     "data": {
      "text/plain": "82.3321703143558"
     },
     "metadata": {},
     "output_type": "display_data"
    },
    {
     "data": {
      "text/plain": "82.3279695167501"
     },
     "metadata": {},
     "output_type": "display_data"
    },
    {
     "data": {
      "text/plain": "82.32839641575916"
     },
     "metadata": {},
     "output_type": "display_data"
    },
    {
     "data": {
      "text/plain": "82.3288147760721"
     },
     "metadata": {},
     "output_type": "display_data"
    },
    {
     "data": {
      "text/plain": "82.32948032990276"
     },
     "metadata": {},
     "output_type": "display_data"
    },
    {
     "data": {
      "text/plain": "82.32790563729668"
     },
     "metadata": {},
     "output_type": "display_data"
    },
    {
     "data": {
      "text/plain": "82.32880598198051"
     },
     "metadata": {},
     "output_type": "display_data"
    },
    {
     "data": {
      "text/plain": "82.32976602121025"
     },
     "metadata": {},
     "output_type": "display_data"
    },
    {
     "data": {
      "text/plain": "82.32754024369574"
     },
     "metadata": {},
     "output_type": "display_data"
    },
    {
     "data": {
      "text/plain": "82.32924041708449"
     },
     "metadata": {},
     "output_type": "display_data"
    },
    {
     "data": {
      "text/plain": "82.33022054313756"
     },
     "metadata": {},
     "output_type": "display_data"
    },
    {
     "data": {
      "text/plain": "82.32915930873702"
     },
     "metadata": {},
     "output_type": "display_data"
    },
    {
     "data": {
      "text/plain": "82.3299385881524"
     },
     "metadata": {},
     "output_type": "display_data"
    },
    {
     "data": {
      "text/plain": "82.32690735396491"
     },
     "metadata": {},
     "output_type": "display_data"
    },
    {
     "data": {
      "text/plain": "82.32724718421048"
     },
     "metadata": {},
     "output_type": "display_data"
    },
    {
     "data": {
      "text/plain": "82.32624040940638"
     },
     "metadata": {},
     "output_type": "display_data"
    },
    {
     "data": {
      "text/plain": "82.32928945452271"
     },
     "metadata": {},
     "output_type": "display_data"
    },
    {
     "data": {
      "text/plain": "82.32800670745168"
     },
     "metadata": {},
     "output_type": "display_data"
    },
    {
     "data": {
      "text/plain": "82.32760911251182"
     },
     "metadata": {},
     "output_type": "display_data"
    },
    {
     "data": {
      "text/plain": "82.3260459824856"
     },
     "metadata": {},
     "output_type": "display_data"
    },
    {
     "data": {
      "text/plain": "82.32877180527598"
     },
     "metadata": {},
     "output_type": "display_data"
    },
    {
     "data": {
      "text/plain": "82.3300460712023"
     },
     "metadata": {},
     "output_type": "display_data"
    },
    {
     "data": {
      "text/plain": "82.33192010182873"
     },
     "metadata": {},
     "output_type": "display_data"
    },
    {
     "data": {
      "text/plain": "82.33065433537632"
     },
     "metadata": {},
     "output_type": "display_data"
    },
    {
     "data": {
      "text/plain": "82.3314812015166"
     },
     "metadata": {},
     "output_type": "display_data"
    },
    {
     "data": {
      "text/plain": "82.33547537086133"
     },
     "metadata": {},
     "output_type": "display_data"
    },
    {
     "data": {
      "text/plain": "81.88907591478153"
     },
     "metadata": {},
     "output_type": "display_data"
    },
    {
     "data": {
      "text/plain": "81.88995651509586"
     },
     "metadata": {},
     "output_type": "display_data"
    },
    {
     "data": {
      "text/plain": "81.89270466291701"
     },
     "metadata": {},
     "output_type": "display_data"
    },
    {
     "data": {
      "text/plain": "81.89493126435983"
     },
     "metadata": {},
     "output_type": "display_data"
    },
    {
     "data": {
      "text/plain": "81.89776768411241"
     },
     "metadata": {},
     "output_type": "display_data"
    },
    {
     "data": {
      "text/plain": "81.89891859786002"
     },
     "metadata": {},
     "output_type": "display_data"
    },
    {
     "data": {
      "text/plain": "81.89995852466498"
     },
     "metadata": {},
     "output_type": "display_data"
    },
    {
     "data": {
      "text/plain": "81.90415733475713"
     },
     "metadata": {},
     "output_type": "display_data"
    },
    {
     "data": {
      "text/plain": "81.90582257545307"
     },
     "metadata": {},
     "output_type": "display_data"
    },
    {
     "data": {
      "text/plain": "81.91080414212828"
     },
     "metadata": {},
     "output_type": "display_data"
    },
    {
     "data": {
      "text/plain": "81.91441067621294"
     },
     "metadata": {},
     "output_type": "display_data"
    },
    {
     "data": {
      "text/plain": "81.91673362754348"
     },
     "metadata": {},
     "output_type": "display_data"
    },
    {
     "data": {
      "text/plain": "81.91714540753625"
     },
     "metadata": {},
     "output_type": "display_data"
    },
    {
     "data": {
      "text/plain": "81.91941185627138"
     },
     "metadata": {},
     "output_type": "display_data"
    },
    {
     "data": {
      "text/plain": "81.92267208525215"
     },
     "metadata": {},
     "output_type": "display_data"
    },
    {
     "data": {
      "text/plain": "81.92950572982105"
     },
     "metadata": {},
     "output_type": "display_data"
    },
    {
     "data": {
      "text/plain": "81.93008423564979"
     },
     "metadata": {},
     "output_type": "display_data"
    },
    {
     "data": {
      "text/plain": "81.92851013478449"
     },
     "metadata": {},
     "output_type": "display_data"
    },
    {
     "data": {
      "text/plain": "81.93144011452972"
     },
     "metadata": {},
     "output_type": "display_data"
    },
    {
     "data": {
      "text/plain": "81.93555544542845"
     },
     "metadata": {},
     "output_type": "display_data"
    },
    {
     "data": {
      "text/plain": "81.93498067815287"
     },
     "metadata": {},
     "output_type": "display_data"
    },
    {
     "data": {
      "text/plain": "81.93951989213689"
     },
     "metadata": {},
     "output_type": "display_data"
    },
    {
     "data": {
      "text/plain": "81.94290342191208"
     },
     "metadata": {},
     "output_type": "display_data"
    },
    {
     "data": {
      "text/plain": "81.94370508341423"
     },
     "metadata": {},
     "output_type": "display_data"
    },
    {
     "data": {
      "text/plain": "81.94870132104997"
     },
     "metadata": {},
     "output_type": "display_data"
    },
    {
     "data": {
      "text/plain": "81.94789126556216"
     },
     "metadata": {},
     "output_type": "display_data"
    },
    {
     "data": {
      "text/plain": "81.95144458772539"
     },
     "metadata": {},
     "output_type": "display_data"
    },
    {
     "data": {
      "text/plain": "81.95121384187121"
     },
     "metadata": {},
     "output_type": "display_data"
    },
    {
     "data": {
      "text/plain": "81.95857315585683"
     },
     "metadata": {},
     "output_type": "display_data"
    },
    {
     "data": {
      "text/plain": "81.95716417345493"
     },
     "metadata": {},
     "output_type": "display_data"
    },
    {
     "data": {
      "text/plain": "81.95768265141504"
     },
     "metadata": {},
     "output_type": "display_data"
    },
    {
     "data": {
      "text/plain": "81.96102362074609"
     },
     "metadata": {},
     "output_type": "display_data"
    },
    {
     "data": {
      "text/plain": "81.96697826158396"
     },
     "metadata": {},
     "output_type": "display_data"
    },
    {
     "data": {
      "text/plain": "81.96417325918586"
     },
     "metadata": {},
     "output_type": "display_data"
    },
    {
     "data": {
      "text/plain": "81.97181995962487"
     },
     "metadata": {},
     "output_type": "display_data"
    },
    {
     "data": {
      "text/plain": "81.97206418240137"
     },
     "metadata": {},
     "output_type": "display_data"
    },
    {
     "data": {
      "text/plain": "81.97382543295475"
     },
     "metadata": {},
     "output_type": "display_data"
    },
    {
     "data": {
      "text/plain": "81.97378784471991"
     },
     "metadata": {},
     "output_type": "display_data"
    },
    {
     "data": {
      "text/plain": "81.97755531347343"
     },
     "metadata": {},
     "output_type": "display_data"
    },
    {
     "data": {
      "text/plain": "81.98156063896099"
     },
     "metadata": {},
     "output_type": "display_data"
    },
    {
     "data": {
      "text/plain": "81.98536028222432"
     },
     "metadata": {},
     "output_type": "display_data"
    },
    {
     "data": {
      "text/plain": "81.98479223928933"
     },
     "metadata": {},
     "output_type": "display_data"
    },
    {
     "data": {
      "text/plain": "81.98653378494703"
     },
     "metadata": {},
     "output_type": "display_data"
    },
    {
     "data": {
      "text/plain": "81.98823593133993"
     },
     "metadata": {},
     "output_type": "display_data"
    },
    {
     "data": {
      "text/plain": "81.99509491707178"
     },
     "metadata": {},
     "output_type": "display_data"
    },
    {
     "data": {
      "text/plain": "81.99718324201872"
     },
     "metadata": {},
     "output_type": "display_data"
    },
    {
     "data": {
      "text/plain": "81.9957529503346"
     },
     "metadata": {},
     "output_type": "display_data"
    },
    {
     "data": {
      "text/plain": "81.99950652087591"
     },
     "metadata": {},
     "output_type": "display_data"
    },
    {
     "data": {
      "text/plain": "81.99932454469061"
     },
     "metadata": {},
     "output_type": "display_data"
    },
    {
     "data": {
      "text/plain": "82.00251498911705"
     },
     "metadata": {},
     "output_type": "display_data"
    },
    {
     "data": {
      "text/plain": "81.55308183220463"
     },
     "metadata": {},
     "output_type": "display_data"
    },
    {
     "data": {
      "text/plain": "81.55659375766115"
     },
     "metadata": {},
     "output_type": "display_data"
    },
    {
     "data": {
      "text/plain": "81.55784032068124"
     },
     "metadata": {},
     "output_type": "display_data"
    },
    {
     "data": {
      "text/plain": "81.56063197334596"
     },
     "metadata": {},
     "output_type": "display_data"
    },
    {
     "data": {
      "text/plain": "81.56544980329497"
     },
     "metadata": {},
     "output_type": "display_data"
    },
    {
     "data": {
      "text/plain": "81.56444502355586"
     },
     "metadata": {},
     "output_type": "display_data"
    },
    {
     "data": {
      "text/plain": "81.56918056303172"
     },
     "metadata": {},
     "output_type": "display_data"
    },
    {
     "data": {
      "text/plain": "81.56927100098508"
     },
     "metadata": {},
     "output_type": "display_data"
    },
    {
     "data": {
      "text/plain": "81.57687274727384"
     },
     "metadata": {},
     "output_type": "display_data"
    },
    {
     "data": {
      "text/plain": "81.57937447346738"
     },
     "metadata": {},
     "output_type": "display_data"
    },
    {
     "data": {
      "text/plain": "81.57867919641521"
     },
     "metadata": {},
     "output_type": "display_data"
    },
    {
     "data": {
      "text/plain": "81.57732896052067"
     },
     "metadata": {},
     "output_type": "display_data"
    },
    {
     "data": {
      "text/plain": "81.57963902052924"
     },
     "metadata": {},
     "output_type": "display_data"
    },
    {
     "data": {
      "text/plain": "81.58377793422177"
     },
     "metadata": {},
     "output_type": "display_data"
    },
    {
     "data": {
      "text/plain": "81.58761771236475"
     },
     "metadata": {},
     "output_type": "display_data"
    },
    {
     "data": {
      "text/plain": "81.58968222631593"
     },
     "metadata": {},
     "output_type": "display_data"
    },
    {
     "data": {
      "text/plain": "81.59279521328693"
     },
     "metadata": {},
     "output_type": "display_data"
    },
    {
     "data": {
      "text/plain": "81.59716563335633"
     },
     "metadata": {},
     "output_type": "display_data"
    },
    {
     "data": {
      "text/plain": "81.59840667335297"
     },
     "metadata": {},
     "output_type": "display_data"
    },
    {
     "data": {
      "text/plain": "81.59697408783583"
     },
     "metadata": {},
     "output_type": "display_data"
    },
    {
     "data": {
      "text/plain": "81.6031761546752"
     },
     "metadata": {},
     "output_type": "display_data"
    },
    {
     "data": {
      "text/plain": "81.60579070619438"
     },
     "metadata": {},
     "output_type": "display_data"
    },
    {
     "data": {
      "text/plain": "81.60827831615174"
     },
     "metadata": {},
     "output_type": "display_data"
    },
    {
     "data": {
      "text/plain": "81.60908540281669"
     },
     "metadata": {},
     "output_type": "display_data"
    },
    {
     "data": {
      "text/plain": "81.6110397567941"
     },
     "metadata": {},
     "output_type": "display_data"
    },
    {
     "data": {
      "text/plain": "81.61687444721744"
     },
     "metadata": {},
     "output_type": "display_data"
    },
    {
     "data": {
      "text/plain": "81.61726692138589"
     },
     "metadata": {},
     "output_type": "display_data"
    },
    {
     "data": {
      "text/plain": "81.61914138812418"
     },
     "metadata": {},
     "output_type": "display_data"
    },
    {
     "data": {
      "text/plain": "81.62266140697452"
     },
     "metadata": {},
     "output_type": "display_data"
    },
    {
     "data": {
      "text/plain": "81.620916461278"
     },
     "metadata": {},
     "output_type": "display_data"
    },
    {
     "data": {
      "text/plain": "81.6256075846288"
     },
     "metadata": {},
     "output_type": "display_data"
    },
    {
     "data": {
      "text/plain": "81.6319631656577"
     },
     "metadata": {},
     "output_type": "display_data"
    },
    {
     "data": {
      "text/plain": "81.63252172041103"
     },
     "metadata": {},
     "output_type": "display_data"
    },
    {
     "data": {
      "text/plain": "81.63598629001075"
     },
     "metadata": {},
     "output_type": "display_data"
    },
    {
     "data": {
      "text/plain": "81.63979437670622"
     },
     "metadata": {},
     "output_type": "display_data"
    },
    {
     "data": {
      "text/plain": "81.63529130375466"
     },
     "metadata": {},
     "output_type": "display_data"
    },
    {
     "data": {
      "text/plain": "81.64390836610089"
     },
     "metadata": {},
     "output_type": "display_data"
    },
    {
     "data": {
      "text/plain": "81.64340806290065"
     },
     "metadata": {},
     "output_type": "display_data"
    },
    {
     "data": {
      "text/plain": "81.64758116995729"
     },
     "metadata": {},
     "output_type": "display_data"
    },
    {
     "data": {
      "text/plain": "81.6548333935086"
     },
     "metadata": {},
     "output_type": "display_data"
    },
    {
     "data": {
      "text/plain": "81.65566449301228"
     },
     "metadata": {},
     "output_type": "display_data"
    },
    {
     "data": {
      "text/plain": "81.65194930220329"
     },
     "metadata": {},
     "output_type": "display_data"
    },
    {
     "data": {
      "text/plain": "81.6567020791347"
     },
     "metadata": {},
     "output_type": "display_data"
    },
    {
     "data": {
      "text/plain": "81.65762028722753"
     },
     "metadata": {},
     "output_type": "display_data"
    },
    {
     "data": {
      "text/plain": "81.66317943645494"
     },
     "metadata": {},
     "output_type": "display_data"
    },
    {
     "data": {
      "text/plain": "81.66758661902797"
     },
     "metadata": {},
     "output_type": "display_data"
    },
    {
     "data": {
      "text/plain": "81.66838631482872"
     },
     "metadata": {},
     "output_type": "display_data"
    },
    {
     "data": {
      "text/plain": "81.66943496352137"
     },
     "metadata": {},
     "output_type": "display_data"
    },
    {
     "data": {
      "text/plain": "81.81941161625403"
     },
     "metadata": {},
     "output_type": "display_data"
    },
    {
     "data": {
      "text/plain": "81.22071692168723"
     },
     "metadata": {},
     "output_type": "display_data"
    },
    {
     "data": {
      "text/plain": "81.22584076488972"
     },
     "metadata": {},
     "output_type": "display_data"
    },
    {
     "data": {
      "text/plain": "81.22688558100768"
     },
     "metadata": {},
     "output_type": "display_data"
    },
    {
     "data": {
      "text/plain": "81.23000799468069"
     },
     "metadata": {},
     "output_type": "display_data"
    },
    {
     "data": {
      "text/plain": "81.23221346939047"
     },
     "metadata": {},
     "output_type": "display_data"
    },
    {
     "data": {
      "text/plain": "81.23568787455457"
     },
     "metadata": {},
     "output_type": "display_data"
    },
    {
     "data": {
      "text/plain": "81.2372065412151"
     },
     "metadata": {},
     "output_type": "display_data"
    },
    {
     "data": {
      "text/plain": "81.23459332837852"
     },
     "metadata": {},
     "output_type": "display_data"
    },
    {
     "data": {
      "text/plain": "81.2436214017165"
     },
     "metadata": {},
     "output_type": "display_data"
    },
    {
     "data": {
      "text/plain": "81.2446462728787"
     },
     "metadata": {},
     "output_type": "display_data"
    },
    {
     "data": {
      "text/plain": "81.24792511117928"
     },
     "metadata": {},
     "output_type": "display_data"
    },
    {
     "data": {
      "text/plain": "81.24465268584424"
     },
     "metadata": {},
     "output_type": "display_data"
    },
    {
     "data": {
      "text/plain": "81.24945732494209"
     },
     "metadata": {},
     "output_type": "display_data"
    },
    {
     "data": {
      "text/plain": "81.25736899381108"
     },
     "metadata": {},
     "output_type": "display_data"
    },
    {
     "data": {
      "text/plain": "81.25595105551099"
     },
     "metadata": {},
     "output_type": "display_data"
    },
    {
     "data": {
      "text/plain": "81.26064644314147"
     },
     "metadata": {},
     "output_type": "display_data"
    },
    {
     "data": {
      "text/plain": "81.26361285163387"
     },
     "metadata": {},
     "output_type": "display_data"
    },
    {
     "data": {
      "text/plain": "81.26418687236688"
     },
     "metadata": {},
     "output_type": "display_data"
    },
    {
     "data": {
      "text/plain": "81.26662097757294"
     },
     "metadata": {},
     "output_type": "display_data"
    },
    {
     "data": {
      "text/plain": "81.26546412719263"
     },
     "metadata": {},
     "output_type": "display_data"
    },
    {
     "data": {
      "text/plain": "81.26941991591187"
     },
     "metadata": {},
     "output_type": "display_data"
    },
    {
     "data": {
      "text/plain": "81.27743533795973"
     },
     "metadata": {},
     "output_type": "display_data"
    },
    {
     "data": {
      "text/plain": "81.28081742548193"
     },
     "metadata": {},
     "output_type": "display_data"
    },
    {
     "data": {
      "text/plain": "81.28247198873663"
     },
     "metadata": {},
     "output_type": "display_data"
    },
    {
     "data": {
      "text/plain": "81.28327086654696"
     },
     "metadata": {},
     "output_type": "display_data"
    },
    {
     "data": {
      "text/plain": "81.28568618694823"
     },
     "metadata": {},
     "output_type": "display_data"
    },
    {
     "data": {
      "text/plain": "81.28970387199684"
     },
     "metadata": {},
     "output_type": "display_data"
    },
    {
     "data": {
      "text/plain": "81.29086636323811"
     },
     "metadata": {},
     "output_type": "display_data"
    },
    {
     "data": {
      "text/plain": "81.2945465219747"
     },
     "metadata": {},
     "output_type": "display_data"
    },
    {
     "data": {
      "text/plain": "81.29854561851317"
     },
     "metadata": {},
     "output_type": "display_data"
    },
    {
     "data": {
      "text/plain": "81.29944091789551"
     },
     "metadata": {},
     "output_type": "display_data"
    },
    {
     "data": {
      "text/plain": "81.30320965364893"
     },
     "metadata": {},
     "output_type": "display_data"
    },
    {
     "data": {
      "text/plain": "81.30455588608217"
     },
     "metadata": {},
     "output_type": "display_data"
    },
    {
     "data": {
      "text/plain": "81.30925528375643"
     },
     "metadata": {},
     "output_type": "display_data"
    },
    {
     "data": {
      "text/plain": "81.313067895465"
     },
     "metadata": {},
     "output_type": "display_data"
    },
    {
     "data": {
      "text/plain": "81.31477665099402"
     },
     "metadata": {},
     "output_type": "display_data"
    },
    {
     "data": {
      "text/plain": "81.31954778920283"
     },
     "metadata": {},
     "output_type": "display_data"
    },
    {
     "data": {
      "text/plain": "81.31772156106528"
     },
     "metadata": {},
     "output_type": "display_data"
    },
    {
     "data": {
      "text/plain": "81.32113249404446"
     },
     "metadata": {},
     "output_type": "display_data"
    },
    {
     "data": {
      "text/plain": "81.33036157632174"
     },
     "metadata": {},
     "output_type": "display_data"
    },
    {
     "data": {
      "text/plain": "81.32955326107248"
     },
     "metadata": {},
     "output_type": "display_data"
    },
    {
     "data": {
      "text/plain": "81.33428379704286"
     },
     "metadata": {},
     "output_type": "display_data"
    },
    {
     "data": {
      "text/plain": "81.33639202272192"
     },
     "metadata": {},
     "output_type": "display_data"
    },
    {
     "data": {
      "text/plain": "81.33956219896251"
     },
     "metadata": {},
     "output_type": "display_data"
    },
    {
     "data": {
      "text/plain": "81.34335529366246"
     },
     "metadata": {},
     "output_type": "display_data"
    },
    {
     "data": {
      "text/plain": "81.37435382274262"
     },
     "metadata": {},
     "output_type": "display_data"
    },
    {
     "data": {
      "text/plain": "81.37401505747805"
     },
     "metadata": {},
     "output_type": "display_data"
    },
    {
     "data": {
      "text/plain": "81.37900446304906"
     },
     "metadata": {},
     "output_type": "display_data"
    },
    {
     "data": {
      "text/plain": "81.38603125316303"
     },
     "metadata": {},
     "output_type": "display_data"
    },
    {
     "data": {
      "text/plain": "81.47857531285"
     },
     "metadata": {},
     "output_type": "display_data"
    },
    {
     "data": {
      "text/plain": "80.90713568300515"
     },
     "metadata": {},
     "output_type": "display_data"
    },
    {
     "data": {
      "text/plain": "80.91115959641698"
     },
     "metadata": {},
     "output_type": "display_data"
    },
    {
     "data": {
      "text/plain": "80.91871740401643"
     },
     "metadata": {},
     "output_type": "display_data"
    },
    {
     "data": {
      "text/plain": "80.92451342697576"
     },
     "metadata": {},
     "output_type": "display_data"
    },
    {
     "data": {
      "text/plain": "80.92577225164658"
     },
     "metadata": {},
     "output_type": "display_data"
    },
    {
     "data": {
      "text/plain": "80.92933915019626"
     },
     "metadata": {},
     "output_type": "display_data"
    },
    {
     "data": {
      "text/plain": "80.92989295712782"
     },
     "metadata": {},
     "output_type": "display_data"
    },
    {
     "data": {
      "text/plain": "80.93447845086264"
     },
     "metadata": {},
     "output_type": "display_data"
    },
    {
     "data": {
      "text/plain": "80.94016798713955"
     },
     "metadata": {},
     "output_type": "display_data"
    },
    {
     "data": {
      "text/plain": "80.94984253936966"
     },
     "metadata": {},
     "output_type": "display_data"
    },
    {
     "data": {
      "text/plain": "80.95407436087052"
     },
     "metadata": {},
     "output_type": "display_data"
    },
    {
     "data": {
      "text/plain": "80.95918442736006"
     },
     "metadata": {},
     "output_type": "display_data"
    },
    {
     "data": {
      "text/plain": "80.96135597015773"
     },
     "metadata": {},
     "output_type": "display_data"
    },
    {
     "data": {
      "text/plain": "80.96887188635762"
     },
     "metadata": {},
     "output_type": "display_data"
    },
    {
     "data": {
      "text/plain": "80.97472955403744"
     },
     "metadata": {},
     "output_type": "display_data"
    },
    {
     "data": {
      "text/plain": "80.97627853647646"
     },
     "metadata": {},
     "output_type": "display_data"
    },
    {
     "data": {
      "text/plain": "80.98411250518114"
     },
     "metadata": {},
     "output_type": "display_data"
    },
    {
     "data": {
      "text/plain": "80.9910239111405"
     },
     "metadata": {},
     "output_type": "display_data"
    },
    {
     "data": {
      "text/plain": "80.99523741406912"
     },
     "metadata": {},
     "output_type": "display_data"
    },
    {
     "data": {
      "text/plain": "81.00550298861978"
     },
     "metadata": {},
     "output_type": "display_data"
    },
    {
     "data": {
      "text/plain": "81.00967293538292"
     },
     "metadata": {},
     "output_type": "display_data"
    },
    {
     "data": {
      "text/plain": "81.02180063952011"
     },
     "metadata": {},
     "output_type": "display_data"
    },
    {
     "data": {
      "text/plain": "81.02719375739076"
     },
     "metadata": {},
     "output_type": "display_data"
    },
    {
     "data": {
      "text/plain": "81.03400970114046"
     },
     "metadata": {},
     "output_type": "display_data"
    },
    {
     "data": {
      "text/plain": "81.04457097082931"
     },
     "metadata": {},
     "output_type": "display_data"
    },
    {
     "data": {
      "text/plain": "81.04993642726973"
     },
     "metadata": {},
     "output_type": "display_data"
    },
    {
     "data": {
      "text/plain": "81.05855885889922"
     },
     "metadata": {},
     "output_type": "display_data"
    },
    {
     "data": {
      "text/plain": "81.06613665096793"
     },
     "metadata": {},
     "output_type": "display_data"
    },
    {
     "data": {
      "text/plain": "81.07741927732019"
     },
     "metadata": {},
     "output_type": "display_data"
    },
    {
     "data": {
      "text/plain": "81.0881352407298"
     },
     "metadata": {},
     "output_type": "display_data"
    },
    {
     "data": {
      "text/plain": "81.09586322878084"
     },
     "metadata": {},
     "output_type": "display_data"
    },
    {
     "data": {
      "text/plain": "81.10713393700917"
     },
     "metadata": {},
     "output_type": "display_data"
    },
    {
     "data": {
      "text/plain": "81.1160190212724"
     },
     "metadata": {},
     "output_type": "display_data"
    },
    {
     "data": {
      "text/plain": "81.1304036868473"
     },
     "metadata": {},
     "output_type": "display_data"
    },
    {
     "data": {
      "text/plain": "81.13407535834449"
     },
     "metadata": {},
     "output_type": "display_data"
    },
    {
     "data": {
      "text/plain": "81.14749192266947"
     },
     "metadata": {},
     "output_type": "display_data"
    },
    {
     "data": {
      "text/plain": "81.15918292248477"
     },
     "metadata": {},
     "output_type": "display_data"
    },
    {
     "data": {
      "text/plain": "81.17223188378551"
     },
     "metadata": {},
     "output_type": "display_data"
    },
    {
     "data": {
      "text/plain": "81.1796536037942"
     },
     "metadata": {},
     "output_type": "display_data"
    },
    {
     "data": {
      "text/plain": "81.19347573944253"
     },
     "metadata": {},
     "output_type": "display_data"
    },
    {
     "data": {
      "text/plain": "80.74852308461908"
     },
     "metadata": {},
     "output_type": "display_data"
    },
    {
     "data": {
      "text/plain": "80.75924919443278"
     },
     "metadata": {},
     "output_type": "display_data"
    },
    {
     "data": {
      "text/plain": "80.76928974316112"
     },
     "metadata": {},
     "output_type": "display_data"
    },
    {
     "data": {
      "text/plain": "80.78263084935429"
     },
     "metadata": {},
     "output_type": "display_data"
    },
    {
     "data": {
      "text/plain": "80.79420842282083"
     },
     "metadata": {},
     "output_type": "display_data"
    },
    {
     "data": {
      "text/plain": "80.80616397840318"
     },
     "metadata": {},
     "output_type": "display_data"
    },
    {
     "data": {
      "text/plain": "80.81846092855596"
     },
     "metadata": {},
     "output_type": "display_data"
    },
    {
     "data": {
      "text/plain": "80.8322578190371"
     },
     "metadata": {},
     "output_type": "display_data"
    },
    {
     "data": {
      "text/plain": "80.84333968425068"
     },
     "metadata": {},
     "output_type": "display_data"
    },
    {
     "data": {
      "text/plain": "80.85550035332672"
     },
     "metadata": {},
     "output_type": "display_data"
    },
    {
     "data": {
      "text/plain": "80.869296635117"
     },
     "metadata": {},
     "output_type": "display_data"
    },
    {
     "data": {
      "text/plain": "80.8827191835521"
     },
     "metadata": {},
     "output_type": "display_data"
    },
    {
     "data": {
      "text/plain": "80.89525647329376"
     },
     "metadata": {},
     "output_type": "display_data"
    },
    {
     "data": {
      "text/plain": "80.90998866898485"
     },
     "metadata": {},
     "output_type": "display_data"
    },
    {
     "data": {
      "text/plain": "80.92185831443555"
     },
     "metadata": {},
     "output_type": "display_data"
    },
    {
     "data": {
      "text/plain": "80.93188987220728"
     },
     "metadata": {},
     "output_type": "display_data"
    },
    {
     "data": {
      "text/plain": "80.9452320504887"
     },
     "metadata": {},
     "output_type": "display_data"
    },
    {
     "data": {
      "text/plain": "80.9594411257089"
     },
     "metadata": {},
     "output_type": "display_data"
    },
    {
     "data": {
      "text/plain": "80.9713650281055"
     },
     "metadata": {},
     "output_type": "display_data"
    },
    {
     "data": {
      "text/plain": "80.98634755584354"
     },
     "metadata": {},
     "output_type": "display_data"
    },
    {
     "data": {
      "text/plain": "80.99699365281383"
     },
     "metadata": {},
     "output_type": "display_data"
    },
    {
     "data": {
      "text/plain": "81.01021093921649"
     },
     "metadata": {},
     "output_type": "display_data"
    },
    {
     "data": {
      "text/plain": "81.02610213292763"
     },
     "metadata": {},
     "output_type": "display_data"
    },
    {
     "data": {
      "text/plain": "81.0380023181223"
     },
     "metadata": {},
     "output_type": "display_data"
    },
    {
     "data": {
      "text/plain": "81.04974030152808"
     },
     "metadata": {},
     "output_type": "display_data"
    },
    {
     "data": {
      "text/plain": "81.0681437734904"
     },
     "metadata": {},
     "output_type": "display_data"
    },
    {
     "data": {
      "text/plain": "81.07980013847508"
     },
     "metadata": {},
     "output_type": "display_data"
    },
    {
     "data": {
      "text/plain": "81.09111546573087"
     },
     "metadata": {},
     "output_type": "display_data"
    },
    {
     "data": {
      "text/plain": "81.10582383517313"
     },
     "metadata": {},
     "output_type": "display_data"
    },
    {
     "data": {
      "text/plain": "81.12133680236911"
     },
     "metadata": {},
     "output_type": "display_data"
    },
    {
     "data": {
      "text/plain": "81.13517614246805"
     },
     "metadata": {},
     "output_type": "display_data"
    },
    {
     "data": {
      "text/plain": "81.51541955765964"
     },
     "metadata": {},
     "output_type": "display_data"
    },
    {
     "data": {
      "text/plain": "80.7042924322962"
     },
     "metadata": {},
     "output_type": "display_data"
    },
    {
     "data": {
      "text/plain": "80.71820284370833"
     },
     "metadata": {},
     "output_type": "display_data"
    },
    {
     "data": {
      "text/plain": "80.73527110659509"
     },
     "metadata": {},
     "output_type": "display_data"
    },
    {
     "data": {
      "text/plain": "80.74491646478053"
     },
     "metadata": {},
     "output_type": "display_data"
    },
    {
     "data": {
      "text/plain": "80.7608179401485"
     },
     "metadata": {},
     "output_type": "display_data"
    },
    {
     "data": {
      "text/plain": "80.7755666244233"
     },
     "metadata": {},
     "output_type": "display_data"
    },
    {
     "data": {
      "text/plain": "80.78877616893172"
     },
     "metadata": {},
     "output_type": "display_data"
    },
    {
     "data": {
      "text/plain": "80.80132561210947"
     },
     "metadata": {},
     "output_type": "display_data"
    },
    {
     "data": {
      "text/plain": "80.82034966947123"
     },
     "metadata": {},
     "output_type": "display_data"
    },
    {
     "data": {
      "text/plain": "80.83229307825911"
     },
     "metadata": {},
     "output_type": "display_data"
    },
    {
     "data": {
      "text/plain": "80.84543063928905"
     },
     "metadata": {},
     "output_type": "display_data"
    },
    {
     "data": {
      "text/plain": "80.85940254179877"
     },
     "metadata": {},
     "output_type": "display_data"
    },
    {
     "data": {
      "text/plain": "80.87452412181378"
     },
     "metadata": {},
     "output_type": "display_data"
    },
    {
     "data": {
      "text/plain": "80.88869884759755"
     },
     "metadata": {},
     "output_type": "display_data"
    },
    {
     "data": {
      "text/plain": "80.9009594504027"
     },
     "metadata": {},
     "output_type": "display_data"
    },
    {
     "data": {
      "text/plain": "80.91573863463782"
     },
     "metadata": {},
     "output_type": "display_data"
    },
    {
     "data": {
      "text/plain": "80.93259048591224"
     },
     "metadata": {},
     "output_type": "display_data"
    },
    {
     "data": {
      "text/plain": "80.94576473972432"
     },
     "metadata": {},
     "output_type": "display_data"
    },
    {
     "data": {
      "text/plain": "80.95832980766488"
     },
     "metadata": {},
     "output_type": "display_data"
    },
    {
     "data": {
      "text/plain": "80.97663628196939"
     },
     "metadata": {},
     "output_type": "display_data"
    },
    {
     "data": {
      "text/plain": "80.98809625345169"
     },
     "metadata": {},
     "output_type": "display_data"
    },
    {
     "data": {
      "text/plain": "81.00405774253136"
     },
     "metadata": {},
     "output_type": "display_data"
    },
    {
     "data": {
      "text/plain": "81.01528328526966"
     },
     "metadata": {},
     "output_type": "display_data"
    },
    {
     "data": {
      "text/plain": "81.03056364602796"
     },
     "metadata": {},
     "output_type": "display_data"
    },
    {
     "data": {
      "text/plain": "81.04679605307611"
     },
     "metadata": {},
     "output_type": "display_data"
    },
    {
     "data": {
      "text/plain": "81.05756261684866"
     },
     "metadata": {},
     "output_type": "display_data"
    },
    {
     "data": {
      "text/plain": "81.07151483952255"
     },
     "metadata": {},
     "output_type": "display_data"
    },
    {
     "data": {
      "text/plain": "81.0905448276762"
     },
     "metadata": {},
     "output_type": "display_data"
    },
    {
     "data": {
      "text/plain": "81.10605928559534"
     },
     "metadata": {},
     "output_type": "display_data"
    },
    {
     "data": {
      "text/plain": "80.66009768934065"
     },
     "metadata": {},
     "output_type": "display_data"
    },
    {
     "data": {
      "text/plain": "80.67092251491192"
     },
     "metadata": {},
     "output_type": "display_data"
    },
    {
     "data": {
      "text/plain": "80.68544143631547"
     },
     "metadata": {},
     "output_type": "display_data"
    },
    {
     "data": {
      "text/plain": "80.70050236500299"
     },
     "metadata": {},
     "output_type": "display_data"
    },
    {
     "data": {
      "text/plain": "80.7146811104138"
     },
     "metadata": {},
     "output_type": "display_data"
    },
    {
     "data": {
      "text/plain": "80.72862698284489"
     },
     "metadata": {},
     "output_type": "display_data"
    },
    {
     "data": {
      "text/plain": "80.74383611969017"
     },
     "metadata": {},
     "output_type": "display_data"
    },
    {
     "data": {
      "text/plain": "80.75637985053346"
     },
     "metadata": {},
     "output_type": "display_data"
    },
    {
     "data": {
      "text/plain": "80.77382427188108"
     },
     "metadata": {},
     "output_type": "display_data"
    },
    {
     "data": {
      "text/plain": "80.78392929433326"
     },
     "metadata": {},
     "output_type": "display_data"
    },
    {
     "data": {
      "text/plain": "80.79638113436911"
     },
     "metadata": {},
     "output_type": "display_data"
    },
    {
     "data": {
      "text/plain": "80.81173348219312"
     },
     "metadata": {},
     "output_type": "display_data"
    },
    {
     "data": {
      "text/plain": "80.83144622653333"
     },
     "metadata": {},
     "output_type": "display_data"
    },
    {
     "data": {
      "text/plain": "80.83783840568803"
     },
     "metadata": {},
     "output_type": "display_data"
    },
    {
     "data": {
      "text/plain": "80.84993288181877"
     },
     "metadata": {},
     "output_type": "display_data"
    },
    {
     "data": {
      "text/plain": "80.86662643811962"
     },
     "metadata": {},
     "output_type": "display_data"
    },
    {
     "data": {
      "text/plain": "80.88178495138541"
     },
     "metadata": {},
     "output_type": "display_data"
    },
    {
     "data": {
      "text/plain": "80.89475368264982"
     },
     "metadata": {},
     "output_type": "display_data"
    },
    {
     "data": {
      "text/plain": "80.90707998491078"
     },
     "metadata": {},
     "output_type": "display_data"
    },
    {
     "data": {
      "text/plain": "80.92057993482305"
     },
     "metadata": {},
     "output_type": "display_data"
    },
    {
     "data": {
      "text/plain": "80.93520784149655"
     },
     "metadata": {},
     "output_type": "display_data"
    },
    {
     "data": {
      "text/plain": "80.94970234301658"
     },
     "metadata": {},
     "output_type": "display_data"
    },
    {
     "data": {
      "text/plain": "80.96430412420757"
     },
     "metadata": {},
     "output_type": "display_data"
    },
    {
     "data": {
      "text/plain": "80.97550374615597"
     },
     "metadata": {},
     "output_type": "display_data"
    },
    {
     "data": {
      "text/plain": "80.98668971017192"
     },
     "metadata": {},
     "output_type": "display_data"
    },
    {
     "data": {
      "text/plain": "81.00336739297435"
     },
     "metadata": {},
     "output_type": "display_data"
    },
    {
     "data": {
      "text/plain": "81.01801009889883"
     },
     "metadata": {},
     "output_type": "display_data"
    },
    {
     "data": {
      "text/plain": "81.02985592695006"
     },
     "metadata": {},
     "output_type": "display_data"
    },
    {
     "data": {
      "text/plain": "81.04148885056651"
     },
     "metadata": {},
     "output_type": "display_data"
    },
    {
     "data": {
      "text/plain": "81.147582729168"
     },
     "metadata": {},
     "output_type": "display_data"
    },
    {
     "data": {
      "text/plain": "81.16371022399797"
     },
     "metadata": {},
     "output_type": "display_data"
    },
    {
     "data": {
      "text/plain": "80.63025220422804"
     },
     "metadata": {},
     "output_type": "display_data"
    },
    {
     "data": {
      "text/plain": "80.6426560274275"
     },
     "metadata": {},
     "output_type": "display_data"
    },
    {
     "data": {
      "text/plain": "80.65955516095076"
     },
     "metadata": {},
     "output_type": "display_data"
    },
    {
     "data": {
      "text/plain": "80.6717877597622"
     },
     "metadata": {},
     "output_type": "display_data"
    },
    {
     "data": {
      "text/plain": "80.6821334143025"
     },
     "metadata": {},
     "output_type": "display_data"
    },
    {
     "data": {
      "text/plain": "80.69755707630611"
     },
     "metadata": {},
     "output_type": "display_data"
    },
    {
     "data": {
      "text/plain": "80.71309672287495"
     },
     "metadata": {},
     "output_type": "display_data"
    },
    {
     "data": {
      "text/plain": "80.72828247190824"
     },
     "metadata": {},
     "output_type": "display_data"
    },
    {
     "data": {
      "text/plain": "80.74113742007762"
     },
     "metadata": {},
     "output_type": "display_data"
    },
    {
     "data": {
      "text/plain": "80.75153917465187"
     },
     "metadata": {},
     "output_type": "display_data"
    },
    {
     "data": {
      "text/plain": "80.7653993121742"
     },
     "metadata": {},
     "output_type": "display_data"
    },
    {
     "data": {
      "text/plain": "80.78121044438774"
     },
     "metadata": {},
     "output_type": "display_data"
    },
    {
     "data": {
      "text/plain": "80.78801104111321"
     },
     "metadata": {},
     "output_type": "display_data"
    },
    {
     "data": {
      "text/plain": "80.80584124209479"
     },
     "metadata": {},
     "output_type": "display_data"
    },
    {
     "data": {
      "text/plain": "80.82056066923985"
     },
     "metadata": {},
     "output_type": "display_data"
    },
    {
     "data": {
      "text/plain": "80.83127992458739"
     },
     "metadata": {},
     "output_type": "display_data"
    },
    {
     "data": {
      "text/plain": "80.84191875646161"
     },
     "metadata": {},
     "output_type": "display_data"
    },
    {
     "data": {
      "text/plain": "80.85927387145799"
     },
     "metadata": {},
     "output_type": "display_data"
    },
    {
     "data": {
      "text/plain": "80.8717045988342"
     },
     "metadata": {},
     "output_type": "display_data"
    },
    {
     "data": {
      "text/plain": "80.88384612662549"
     },
     "metadata": {},
     "output_type": "display_data"
    },
    {
     "data": {
      "text/plain": "80.89657032926496"
     },
     "metadata": {},
     "output_type": "display_data"
    },
    {
     "data": {
      "text/plain": "80.91241310282952"
     },
     "metadata": {},
     "output_type": "display_data"
    },
    {
     "data": {
      "text/plain": "80.92433739257852"
     },
     "metadata": {},
     "output_type": "display_data"
    },
    {
     "data": {
      "text/plain": "80.93667491779013"
     },
     "metadata": {},
     "output_type": "display_data"
    },
    {
     "data": {
      "text/plain": "80.94970604526314"
     },
     "metadata": {},
     "output_type": "display_data"
    },
    {
     "data": {
      "text/plain": "80.96310725106335"
     },
     "metadata": {},
     "output_type": "display_data"
    },
    {
     "data": {
      "text/plain": "80.97606354007209"
     },
     "metadata": {},
     "output_type": "display_data"
    },
    {
     "data": {
      "text/plain": "80.98931085393312"
     },
     "metadata": {},
     "output_type": "display_data"
    },
    {
     "data": {
      "text/plain": "81.0016846656392"
     },
     "metadata": {},
     "output_type": "display_data"
    },
    {
     "data": {
      "text/plain": "81.01531003324166"
     },
     "metadata": {},
     "output_type": "display_data"
    },
    {
     "data": {
      "text/plain": "81.02994857435516"
     },
     "metadata": {},
     "output_type": "display_data"
    },
    {
     "data": {
      "text/plain": "81.13104795931469"
     },
     "metadata": {},
     "output_type": "display_data"
    },
    {
     "data": {
      "text/plain": "80.5888092374625"
     },
     "metadata": {},
     "output_type": "display_data"
    },
    {
     "data": {
      "text/plain": "80.60281620272204"
     },
     "metadata": {},
     "output_type": "display_data"
    },
    {
     "data": {
      "text/plain": "80.61554221995061"
     },
     "metadata": {},
     "output_type": "display_data"
    },
    {
     "data": {
      "text/plain": "80.6313641215499"
     },
     "metadata": {},
     "output_type": "display_data"
    },
    {
     "data": {
      "text/plain": "80.64173770342097"
     },
     "metadata": {},
     "output_type": "display_data"
    },
    {
     "data": {
      "text/plain": "80.65478120405129"
     },
     "metadata": {},
     "output_type": "display_data"
    },
    {
     "data": {
      "text/plain": "80.66720155880186"
     },
     "metadata": {},
     "output_type": "display_data"
    },
    {
     "data": {
      "text/plain": "80.68013762526577"
     },
     "metadata": {},
     "output_type": "display_data"
    },
    {
     "data": {
      "text/plain": "80.69300938322303"
     },
     "metadata": {},
     "output_type": "display_data"
    },
    {
     "data": {
      "text/plain": "80.70692293691634"
     },
     "metadata": {},
     "output_type": "display_data"
    },
    {
     "data": {
      "text/plain": "80.71680111524557"
     },
     "metadata": {},
     "output_type": "display_data"
    },
    {
     "data": {
      "text/plain": "80.7330802521017"
     },
     "metadata": {},
     "output_type": "display_data"
    },
    {
     "data": {
      "text/plain": "80.7439513920832"
     },
     "metadata": {},
     "output_type": "display_data"
    },
    {
     "data": {
      "text/plain": "80.75444879333706"
     },
     "metadata": {},
     "output_type": "display_data"
    },
    {
     "data": {
      "text/plain": "80.771992072136"
     },
     "metadata": {},
     "output_type": "display_data"
    },
    {
     "data": {
      "text/plain": "80.78250797562968"
     },
     "metadata": {},
     "output_type": "display_data"
    },
    {
     "data": {
      "text/plain": "80.79749151602701"
     },
     "metadata": {},
     "output_type": "display_data"
    },
    {
     "data": {
      "text/plain": "80.8089633816068"
     },
     "metadata": {},
     "output_type": "display_data"
    },
    {
     "data": {
      "text/plain": "80.82312499566754"
     },
     "metadata": {},
     "output_type": "display_data"
    },
    {
     "data": {
      "text/plain": "80.83251848579303"
     },
     "metadata": {},
     "output_type": "display_data"
    },
    {
     "data": {
      "text/plain": "80.84636233775626"
     },
     "metadata": {},
     "output_type": "display_data"
    },
    {
     "data": {
      "text/plain": "80.85635012183742"
     },
     "metadata": {},
     "output_type": "display_data"
    },
    {
     "data": {
      "text/plain": "80.86973210244507"
     },
     "metadata": {},
     "output_type": "display_data"
    },
    {
     "data": {
      "text/plain": "80.88091904782405"
     },
     "metadata": {},
     "output_type": "display_data"
    },
    {
     "data": {
      "text/plain": "80.8950730271228"
     },
     "metadata": {},
     "output_type": "display_data"
    },
    {
     "data": {
      "text/plain": "80.90562099137867"
     },
     "metadata": {},
     "output_type": "display_data"
    },
    {
     "data": {
      "text/plain": "80.91955638915725"
     },
     "metadata": {},
     "output_type": "display_data"
    },
    {
     "data": {
      "text/plain": "80.93061443219452"
     },
     "metadata": {},
     "output_type": "display_data"
    },
    {
     "data": {
      "text/plain": "80.94497615785853"
     },
     "metadata": {},
     "output_type": "display_data"
    },
    {
     "data": {
      "text/plain": "80.9561013663306"
     },
     "metadata": {},
     "output_type": "display_data"
    },
    {
     "data": {
      "text/plain": "80.99873525241497"
     },
     "metadata": {},
     "output_type": "display_data"
    },
    {
     "data": {
      "text/plain": "81.0109951001235"
     },
     "metadata": {},
     "output_type": "display_data"
    },
    {
     "data": {
      "text/plain": "81.02078276428507"
     },
     "metadata": {},
     "output_type": "display_data"
    },
    {
     "data": {
      "text/plain": "80.5386508374329"
     },
     "metadata": {},
     "output_type": "display_data"
    },
    {
     "data": {
      "text/plain": "80.54995031728555"
     },
     "metadata": {},
     "output_type": "display_data"
    },
    {
     "data": {
      "text/plain": "80.56224141610087"
     },
     "metadata": {},
     "output_type": "display_data"
    },
    {
     "data": {
      "text/plain": "80.57203433468388"
     },
     "metadata": {},
     "output_type": "display_data"
    },
    {
     "data": {
      "text/plain": "80.58381940525081"
     },
     "metadata": {},
     "output_type": "display_data"
    },
    {
     "data": {
      "text/plain": "80.59733803629706"
     },
     "metadata": {},
     "output_type": "display_data"
    },
    {
     "data": {
      "text/plain": "80.61064156587597"
     },
     "metadata": {},
     "output_type": "display_data"
    },
    {
     "data": {
      "text/plain": "80.62447955776099"
     },
     "metadata": {},
     "output_type": "display_data"
    },
    {
     "data": {
      "text/plain": "80.63665975285377"
     },
     "metadata": {},
     "output_type": "display_data"
    },
    {
     "data": {
      "text/plain": "80.6447511654655"
     },
     "metadata": {},
     "output_type": "display_data"
    },
    {
     "data": {
      "text/plain": "80.66030440484337"
     },
     "metadata": {},
     "output_type": "display_data"
    },
    {
     "data": {
      "text/plain": "80.67107190356967"
     },
     "metadata": {},
     "output_type": "display_data"
    },
    {
     "data": {
      "text/plain": "80.68235267278556"
     },
     "metadata": {},
     "output_type": "display_data"
    },
    {
     "data": {
      "text/plain": "80.69734980622601"
     },
     "metadata": {},
     "output_type": "display_data"
    },
    {
     "data": {
      "text/plain": "80.70590638817922"
     },
     "metadata": {},
     "output_type": "display_data"
    },
    {
     "data": {
      "text/plain": "80.72015855353803"
     },
     "metadata": {},
     "output_type": "display_data"
    },
    {
     "data": {
      "text/plain": "80.73176867480049"
     },
     "metadata": {},
     "output_type": "display_data"
    },
    {
     "data": {
      "text/plain": "80.74717451387932"
     },
     "metadata": {},
     "output_type": "display_data"
    },
    {
     "data": {
      "text/plain": "80.75610148955157"
     },
     "metadata": {},
     "output_type": "display_data"
    },
    {
     "data": {
      "text/plain": "80.76750490009408"
     },
     "metadata": {},
     "output_type": "display_data"
    },
    {
     "data": {
      "text/plain": "80.78157446533693"
     },
     "metadata": {},
     "output_type": "display_data"
    },
    {
     "data": {
      "text/plain": "80.79376566530374"
     },
     "metadata": {},
     "output_type": "display_data"
    },
    {
     "data": {
      "text/plain": "80.80809474804931"
     },
     "metadata": {},
     "output_type": "display_data"
    },
    {
     "data": {
      "text/plain": "80.81763428822018"
     },
     "metadata": {},
     "output_type": "display_data"
    },
    {
     "data": {
      "text/plain": "80.82856252194101"
     },
     "metadata": {},
     "output_type": "display_data"
    },
    {
     "data": {
      "text/plain": "80.8411610369648"
     },
     "metadata": {},
     "output_type": "display_data"
    },
    {
     "data": {
      "text/plain": "80.85408288170663"
     },
     "metadata": {},
     "output_type": "display_data"
    },
    {
     "data": {
      "text/plain": "80.87002994123982"
     },
     "metadata": {},
     "output_type": "display_data"
    },
    {
     "data": {
      "text/plain": "80.88064849903854"
     },
     "metadata": {},
     "output_type": "display_data"
    },
    {
     "data": {
      "text/plain": "80.89419777320803"
     },
     "metadata": {},
     "output_type": "display_data"
    },
    {
     "data": {
      "text/plain": "80.90546379548513"
     },
     "metadata": {},
     "output_type": "display_data"
    },
    {
     "data": {
      "text/plain": "80.91643244152401"
     },
     "metadata": {},
     "output_type": "display_data"
    },
    {
     "data": {
      "text/plain": "80.96211574633168"
     },
     "metadata": {},
     "output_type": "display_data"
    },
    {
     "data": {
      "text/plain": "80.9725740734043"
     },
     "metadata": {},
     "output_type": "display_data"
    },
    {
     "data": {
      "text/plain": "81.0146903693738"
     },
     "metadata": {},
     "output_type": "display_data"
    },
    {
     "data": {
      "text/plain": "80.50426064158069"
     },
     "metadata": {},
     "output_type": "display_data"
    },
    {
     "data": {
      "text/plain": "80.51477970058667"
     },
     "metadata": {},
     "output_type": "display_data"
    },
    {
     "data": {
      "text/plain": "80.5233683898513"
     },
     "metadata": {},
     "output_type": "display_data"
    },
    {
     "data": {
      "text/plain": "80.5361577007883"
     },
     "metadata": {},
     "output_type": "display_data"
    },
    {
     "data": {
      "text/plain": "80.5521276253961"
     },
     "metadata": {},
     "output_type": "display_data"
    },
    {
     "data": {
      "text/plain": "80.56444028680774"
     },
     "metadata": {},
     "output_type": "display_data"
    },
    {
     "data": {
      "text/plain": "80.57561770896558"
     },
     "metadata": {},
     "output_type": "display_data"
    },
    {
     "data": {
      "text/plain": "80.58644381603253"
     },
     "metadata": {},
     "output_type": "display_data"
    },
    {
     "data": {
      "text/plain": "80.60030894303767"
     },
     "metadata": {},
     "output_type": "display_data"
    },
    {
     "data": {
      "text/plain": "80.6106676495587"
     },
     "metadata": {},
     "output_type": "display_data"
    },
    {
     "data": {
      "text/plain": "80.62314966173619"
     },
     "metadata": {},
     "output_type": "display_data"
    },
    {
     "data": {
      "text/plain": "80.6390434184817"
     },
     "metadata": {},
     "output_type": "display_data"
    },
    {
     "data": {
      "text/plain": "80.65048836461987"
     },
     "metadata": {},
     "output_type": "display_data"
    },
    {
     "data": {
      "text/plain": "80.6635260346077"
     },
     "metadata": {},
     "output_type": "display_data"
    },
    {
     "data": {
      "text/plain": "80.67510165741358"
     },
     "metadata": {},
     "output_type": "display_data"
    },
    {
     "data": {
      "text/plain": "80.68641876166505"
     },
     "metadata": {},
     "output_type": "display_data"
    },
    {
     "data": {
      "text/plain": "80.7012489172333"
     },
     "metadata": {},
     "output_type": "display_data"
    },
    {
     "data": {
      "text/plain": "80.71114682712569"
     },
     "metadata": {},
     "output_type": "display_data"
    },
    {
     "data": {
      "text/plain": "80.72280113063644"
     },
     "metadata": {},
     "output_type": "display_data"
    },
    {
     "data": {
      "text/plain": "80.73875420781255"
     },
     "metadata": {},
     "output_type": "display_data"
    },
    {
     "data": {
      "text/plain": "80.75086411248853"
     },
     "metadata": {},
     "output_type": "display_data"
    },
    {
     "data": {
      "text/plain": "80.7629367499143"
     },
     "metadata": {},
     "output_type": "display_data"
    },
    {
     "data": {
      "text/plain": "80.77565222763306"
     },
     "metadata": {},
     "output_type": "display_data"
    },
    {
     "data": {
      "text/plain": "80.78856318523123"
     },
     "metadata": {},
     "output_type": "display_data"
    },
    {
     "data": {
      "text/plain": "80.80008086962843"
     },
     "metadata": {},
     "output_type": "display_data"
    },
    {
     "data": {
      "text/plain": "80.8142963885748"
     },
     "metadata": {},
     "output_type": "display_data"
    },
    {
     "data": {
      "text/plain": "80.82660810318285"
     },
     "metadata": {},
     "output_type": "display_data"
    },
    {
     "data": {
      "text/plain": "80.8423856618282"
     },
     "metadata": {},
     "output_type": "display_data"
    },
    {
     "data": {
      "text/plain": "80.85187977458234"
     },
     "metadata": {},
     "output_type": "display_data"
    },
    {
     "data": {
      "text/plain": "80.86451491345329"
     },
     "metadata": {},
     "output_type": "display_data"
    },
    {
     "data": {
      "text/plain": "80.87938494845947"
     },
     "metadata": {},
     "output_type": "display_data"
    },
    {
     "data": {
      "text/plain": "80.88903408341447"
     },
     "metadata": {},
     "output_type": "display_data"
    },
    {
     "data": {
      "text/plain": "80.90404913415642"
     },
     "metadata": {},
     "output_type": "display_data"
    },
    {
     "data": {
      "text/plain": "80.94629147505125"
     },
     "metadata": {},
     "output_type": "display_data"
    },
    {
     "data": {
      "text/plain": "80.4568370161063"
     },
     "metadata": {},
     "output_type": "display_data"
    },
    {
     "data": {
      "text/plain": "80.47167283641816"
     },
     "metadata": {},
     "output_type": "display_data"
    },
    {
     "data": {
      "text/plain": "80.48219975567703"
     },
     "metadata": {},
     "output_type": "display_data"
    },
    {
     "data": {
      "text/plain": "80.50180120160012"
     },
     "metadata": {},
     "output_type": "display_data"
    },
    {
     "data": {
      "text/plain": "81.83689632497823"
     },
     "metadata": {},
     "output_type": "display_data"
    },
    {
     "data": {
      "text/plain": "81.83876205306223"
     },
     "metadata": {},
     "output_type": "display_data"
    },
    {
     "data": {
      "text/plain": "81.84010381047827"
     },
     "metadata": {},
     "output_type": "display_data"
    },
    {
     "data": {
      "text/plain": "81.84039570960701"
     },
     "metadata": {},
     "output_type": "display_data"
    },
    {
     "data": {
      "text/plain": "81.83915387576513"
     },
     "metadata": {},
     "output_type": "display_data"
    },
    {
     "data": {
      "text/plain": "81.83937923279947"
     },
     "metadata": {},
     "output_type": "display_data"
    },
    {
     "data": {
      "text/plain": "81.84075112871737"
     },
     "metadata": {},
     "output_type": "display_data"
    },
    {
     "data": {
      "text/plain": "81.83744578531075"
     },
     "metadata": {},
     "output_type": "display_data"
    },
    {
     "data": {
      "text/plain": "81.83940112504516"
     },
     "metadata": {},
     "output_type": "display_data"
    },
    {
     "data": {
      "text/plain": "81.83620140176023"
     },
     "metadata": {},
     "output_type": "display_data"
    },
    {
     "data": {
      "text/plain": "81.84178016860952"
     },
     "metadata": {},
     "output_type": "display_data"
    },
    {
     "data": {
      "text/plain": "81.84045865469581"
     },
     "metadata": {},
     "output_type": "display_data"
    },
    {
     "data": {
      "text/plain": "81.83940996574623"
     },
     "metadata": {},
     "output_type": "display_data"
    },
    {
     "data": {
      "text/plain": "81.8431017941724"
     },
     "metadata": {},
     "output_type": "display_data"
    },
    {
     "data": {
      "text/plain": "81.84052597427973"
     },
     "metadata": {},
     "output_type": "display_data"
    },
    {
     "data": {
      "text/plain": "81.84239677804682"
     },
     "metadata": {},
     "output_type": "display_data"
    },
    {
     "data": {
      "text/plain": "81.83948926997043"
     },
     "metadata": {},
     "output_type": "display_data"
    },
    {
     "data": {
      "text/plain": "81.84209792075156"
     },
     "metadata": {},
     "output_type": "display_data"
    },
    {
     "data": {
      "text/plain": "81.84054740842856"
     },
     "metadata": {},
     "output_type": "display_data"
    },
    {
     "data": {
      "text/plain": "81.84319231439551"
     },
     "metadata": {},
     "output_type": "display_data"
    },
    {
     "data": {
      "text/plain": "81.84049026769159"
     },
     "metadata": {},
     "output_type": "display_data"
    },
    {
     "data": {
      "text/plain": "81.842088046995"
     },
     "metadata": {},
     "output_type": "display_data"
    },
    {
     "data": {
      "text/plain": "81.83797248776136"
     },
     "metadata": {},
     "output_type": "display_data"
    },
    {
     "data": {
      "text/plain": "81.84076101761617"
     },
     "metadata": {},
     "output_type": "display_data"
    },
    {
     "data": {
      "text/plain": "81.83736535759704"
     },
     "metadata": {},
     "output_type": "display_data"
    },
    {
     "data": {
      "text/plain": "81.8396146550336"
     },
     "metadata": {},
     "output_type": "display_data"
    },
    {
     "data": {
      "text/plain": "81.84201392376156"
     },
     "metadata": {},
     "output_type": "display_data"
    },
    {
     "data": {
      "text/plain": "81.8432476925548"
     },
     "metadata": {},
     "output_type": "display_data"
    },
    {
     "data": {
      "text/plain": "81.84021072684803"
     },
     "metadata": {},
     "output_type": "display_data"
    },
    {
     "data": {
      "text/plain": "81.84134224485388"
     },
     "metadata": {},
     "output_type": "display_data"
    },
    {
     "data": {
      "text/plain": "81.84072587516232"
     },
     "metadata": {},
     "output_type": "display_data"
    },
    {
     "data": {
      "text/plain": "81.83915315637901"
     },
     "metadata": {},
     "output_type": "display_data"
    },
    {
     "data": {
      "text/plain": "81.83655674841208"
     },
     "metadata": {},
     "output_type": "display_data"
    },
    {
     "data": {
      "text/plain": "81.83880172259987"
     },
     "metadata": {},
     "output_type": "display_data"
    },
    {
     "data": {
      "text/plain": "81.83693382150494"
     },
     "metadata": {},
     "output_type": "display_data"
    },
    {
     "data": {
      "text/plain": "81.83968322086534"
     },
     "metadata": {},
     "output_type": "display_data"
    },
    {
     "data": {
      "text/plain": "81.84222307973079"
     },
     "metadata": {},
     "output_type": "display_data"
    },
    {
     "data": {
      "text/plain": "81.84088355821166"
     },
     "metadata": {},
     "output_type": "display_data"
    },
    {
     "data": {
      "text/plain": "81.8416802141407"
     },
     "metadata": {},
     "output_type": "display_data"
    },
    {
     "data": {
      "text/plain": "81.84307730493845"
     },
     "metadata": {},
     "output_type": "display_data"
    },
    {
     "data": {
      "text/plain": "81.84291224413599"
     },
     "metadata": {},
     "output_type": "display_data"
    },
    {
     "data": {
      "text/plain": "81.84221511734575"
     },
     "metadata": {},
     "output_type": "display_data"
    },
    {
     "data": {
      "text/plain": "81.84078928770853"
     },
     "metadata": {},
     "output_type": "display_data"
    },
    {
     "data": {
      "text/plain": "81.84216603156133"
     },
     "metadata": {},
     "output_type": "display_data"
    },
    {
     "data": {
      "text/plain": "81.84358028049175"
     },
     "metadata": {},
     "output_type": "display_data"
    },
    {
     "data": {
      "text/plain": "81.83913312287515"
     },
     "metadata": {},
     "output_type": "display_data"
    },
    {
     "data": {
      "text/plain": "81.84258038700801"
     },
     "metadata": {},
     "output_type": "display_data"
    },
    {
     "data": {
      "text/plain": "81.84100456681782"
     },
     "metadata": {},
     "output_type": "display_data"
    },
    {
     "data": {
      "text/plain": "81.84120899871607"
     },
     "metadata": {},
     "output_type": "display_data"
    },
    {
     "data": {
      "text/plain": "81.84203355783785"
     },
     "metadata": {},
     "output_type": "display_data"
    },
    {
     "data": {
      "text/plain": "81.83993427365276"
     },
     "metadata": {},
     "output_type": "display_data"
    },
    {
     "data": {
      "text/plain": "81.83937485734307"
     },
     "metadata": {},
     "output_type": "display_data"
    },
    {
     "data": {
      "text/plain": "81.84141418543344"
     },
     "metadata": {},
     "output_type": "display_data"
    },
    {
     "data": {
      "text/plain": "81.8415495724931"
     },
     "metadata": {},
     "output_type": "display_data"
    },
    {
     "data": {
      "text/plain": "81.84163339997332"
     },
     "metadata": {},
     "output_type": "display_data"
    },
    {
     "data": {
      "text/plain": "81.84101358628882"
     },
     "metadata": {},
     "output_type": "display_data"
    },
    {
     "data": {
      "text/plain": "81.84175267499906"
     },
     "metadata": {},
     "output_type": "display_data"
    },
    {
     "data": {
      "text/plain": "<Figure size 432x288 with 1 Axes>",
      "image/png": "[encoded data removed]"
     },
     "metadata": {},
     "output_type": "display_data"
    }
   ],
   "source": [
    "list= {}\n",
    "for i in range(600):\n",
    "\n",
    "    y=strip_background(series.iloc[i,:][(  'coordinates',                'coordinate_y')])\n",
    "    y=linestripe_df(y)\n",
    "    display(y.iloc[0,0]-y.iloc[0,-1])\n",
    "    list[i]= y.iloc[0, 0] - y.iloc[0, -1]\n",
    "plt.plot(list.keys(),list.values())\n",
    "plt.show()"
   ],
   "metadata": {
    "collapsed": false,
    "pycharm": {
     "name": "#%%\n"
    }
   }
  },
  {
   "cell_type": "code",
   "execution_count": 40,
   "outputs": [
    {
     "data": {
      "text/plain": "<matplotlib.colorbar.Colorbar at 0x21601cef490>"
     },
     "execution_count": 40,
     "metadata": {},
     "output_type": "execute_result"
    },
    {
     "data": {
      "text/plain": "<Figure size 928x288 with 2 Axes>",
      "image/png": "[encoded data removed]"
     },
     "metadata": {},
     "output_type": "display_data"
    },
    {
     "data": {
      "text/plain": "<Figure size 928x288 with 2 Axes>",
      "image/png": "[encoded data removed]"
     },
     "metadata": {},
     "output_type": "display_data"
    }
   ],
   "source": [
    "disp=series.iloc[525,:][('displacements', 'displacement_y')]\n",
    "dp=plt.matshow(disp)\n",
    "plt.colorbar(dp)\n",
    "strain=series.iloc[525,:][('strains', 'strain_yy')]\n",
    "sn=plt.matshow(strain)\n",
    "plt.colorbar(sn)"
   ],
   "metadata": {
    "collapsed": false,
    "pycharm": {
     "name": "#%%\n"
    }
   }
  },
  {
   "cell_type": "code",
   "execution_count": 42,
   "outputs": [
    {
     "data": {
      "text/plain": "<matplotlib.colorbar.Colorbar at 0x2160318b130>"
     },
     "execution_count": 42,
     "metadata": {},
     "output_type": "execute_result"
    },
    {
     "data": {
      "text/plain": "<Figure size 928x288 with 2 Axes>",
      "image/png": "[encoded data removed]"
     },
     "metadata": {},
     "output_type": "display_data"
    }
   ],
   "source": [
    "deltal=np.multiply(disp,strain)\n",
    "dn=plt.matshow(deltal)\n",
    "plt.colorbar(dn)"
   ],
   "metadata": {
    "collapsed": false,
    "pycharm": {
     "name": "#%%\n"
    }
   }
  },
  {
   "cell_type": "code",
   "execution_count": 67,
   "outputs": [
    {
     "data": {
      "text/plain": "0     0.045394\n1     0.044936\n2     0.045335\n3     0.045137\n4     0.044763\n5     0.044666\n6     0.044719\n7     0.044820\n8     0.044534\n9     0.044282\n10    0.044028\n11    0.044255\n12    0.045214\n13    0.044990\n14    0.045082\n15    0.044509\ndtype: float64"
     },
     "metadata": {},
     "output_type": "display_data"
    },
    {
     "data": {
      "text/plain": "<Figure size 1152x144 with 1 Axes>",
      "image/png": "[encoded data removed]"
     },
     "metadata": {},
     "output_type": "display_data"
    },
    {
     "data": {
      "text/plain": "<Figure size 928x288 with 1 Axes>",
      "image/png": "[encoded data removed]"
     },
     "metadata": {},
     "output_type": "display_data"
    }
   ],
   "source": [
    "after=strip_background(deltal)\n",
    "result=linestripe_df(after)\n",
    "plt.matshow(result)\n",
    "plt.matshow(series.iloc[525,:][('strains', 'strain_yy')])\n",
    "fun=strip_background(series.iloc[525,:][('strains', 'strain_yy')])\n",
    "fun=linestripe_df(fun)\n",
    "display(fun.mean(axis=1))"
   ],
   "metadata": {
    "collapsed": false,
    "pycharm": {
     "name": "#%%\n"
    }
   }
  },
  {
   "cell_type": "code",
   "execution_count": 76,
   "outputs": [
    {
     "name": "stderr",
     "output_type": "stream",
     "text": [
      "<ipython-input-76-03999d772d72>:6: FutureWarning: Calling a ufunc on non-aligned DataFrames (or DataFrame/Series combination). Currently, the indices are ignored and the result takes the index/columns of the first DataFrame. In the future , the DataFrames/Series will be aligned before applying the ufunc.\n",
      "Convert one of the arguments to a NumPy array (eg 'ufunc(df1, np.asarray(df2)') to keep the current behaviour, or align manually (eg 'df1, df2 = df1.align(df2)') before passing to the ufunc to obtain the future behaviour and silence this warning.\n",
      "  res=plt.matshow(np.subtract(_525,_520))\n"
     ]
    },
    {
     "data": {
      "text/plain": "<matplotlib.colorbar.Colorbar at 0x21604cebf70>"
     },
     "execution_count": 76,
     "metadata": {},
     "output_type": "execute_result"
    },
    {
     "data": {
      "text/plain": "<Figure size 1152x144 with 1 Axes>",
      "image/png": "[encoded data removed]"
     },
     "metadata": {},
     "output_type": "display_data"
    },
    {
     "data": {
      "text/plain": "<Figure size 1152x144 with 1 Axes>",
      "image/png": "[encoded data removed]"
     },
     "metadata": {},
     "output_type": "display_data"
    },
    {
     "data": {
      "text/plain": "<Figure size 1152x144 with 2 Axes>",
      "image/png": "[encoded data removed]"
     },
     "metadata": {},
     "output_type": "display_data"
    }
   ],
   "source": [
    "_520=strip_background(series.iloc[450,:][('strains', 'strain_yy')]).iloc[:,:-1]\n",
    "_525=strip_background(series.iloc[500,:][('strains', 'strain_yy')]).iloc[:,:]\n",
    "#display(_520,_525)\n",
    "plt.matshow(_520)\n",
    "plt.matshow(_525)\n",
    "res=plt.matshow(np.subtract(_525,_520))\n",
    "plt.colorbar(res)"
   ],
   "metadata": {
    "collapsed": false,
    "pycharm": {
     "name": "#%%\n"
    }
   }
  },
  {
   "cell_type": "code",
   "execution_count": null,
   "outputs": [],
   "source": [
    "\n",
    "display('good message')"
   ],
   "metadata": {
    "collapsed": false,
    "pycharm": {
     "name": "#%%\n"
    }
   }
  }
 ],
 "metadata": {
  "kernelspec": {
   "display_name": "Python 3",
   "language": "python",
   "name": "python3"
  },
  "language_info": {
   "codemirror_mode": {
    "name": "ipython",
    "version": 2
   },
   "file_extension": ".py",
   "mimetype": "text/x-python",
   "name": "python",
   "nbconvert_exporter": "python",
   "pygments_lexer": "ipython2",
   "version": "2.7.6"
  }
 },
 "nbformat": 4,
 "nbformat_minor": 0
}