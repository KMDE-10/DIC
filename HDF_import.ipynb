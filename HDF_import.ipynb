{
 "cells": [
  {
   "cell_type": "code",
   "execution_count": 1,
   "metadata": {
    "collapsed": true
   },
   "outputs": [],
   "source": [
    "import pandas as pd\n",
    "import numpy as np\n",
    "import matplotlib.pyplot as plt\n",
    "from IPython.display import display\n",
    "import os\n",
    "import h5py as hdf\n",
    "import scipy as scp\n",
    "\n",
    "plt.rcParams['figure.facecolor'] = 'white'"
   ]
  },
  {
   "cell_type": "code",
   "execution_count": 14,
   "outputs": [
    {
     "data": {
      "text/plain": "[]"
     },
     "metadata": {},
     "output_type": "display_data"
    },
    {
     "data": {
      "text/plain": "['MC_A_6xi',\n 'MC_A_6xiii',\n 'MC_A_6yi',\n 'MC_A_6yii',\n 'MC_A_6yiii',\n 'MC_A_8xi',\n 'MC_A_8xii',\n 'MC_A_8xiii',\n 'MC_A_8yi',\n 'MC_A_8yii',\n 'MC_B_6xi',\n 'MC_B_6xii',\n 'MC_B_6xiii',\n 'MC_B_6yi',\n 'MC_B_6yii',\n 'MC_B_6yiii',\n 'MC_B_8xi',\n 'MC_B_8xii',\n 'MC_B_8xiii',\n 'MC_B_8yi',\n 'MC_B_8yii',\n 'MC_B_8yiii',\n 'MC_GW_6xi',\n 'MC_GW_6xii',\n 'MC_GW_6xiii',\n 'MC_GW_6yi',\n 'MC_GW_6yii',\n 'MC_GW_6yiii',\n 'MC_GW_8xi',\n 'MC_GW_8xii',\n 'MC_GW_8yi',\n 'MC_GW_8yii',\n 'MC_GW_8yiii',\n 'QL_A_6xi',\n 'QL_A_6xii',\n 'QL_A_6xiii',\n 'QL_A_6yi',\n 'QL_A_6yii',\n 'QL_A_6yiii',\n 'QL_A_8xi',\n 'QL_A_8xii',\n 'QL_A_8yi',\n 'QL_A_8yiii',\n 'QL_B_6xii',\n 'QL_B_6xiii',\n 'QL_B_6yi',\n 'QL_B_6yii',\n 'QL_B_8xi',\n 'QL_B_8xii',\n 'QL_B_8xiii',\n 'QL_B_8yi',\n 'QL_B_8yiii',\n 'QL_GW_6xi',\n 'QL_GW_6xii',\n 'QL_GW_6xiii',\n 'QL_GW_6yi',\n 'QL_GW_6yii',\n 'QL_GW_6yiii',\n 'QL_GW_8xi',\n 'QL_GW_8xii',\n 'QL_GW_8xiii',\n 'QL_GW_8yi',\n 'QL_GW_8yii']"
     },
     "metadata": {},
     "output_type": "display_data"
    },
    {
     "data": {
      "text/plain": "                                                        path data\nMC_A_6xi        Y:\\Istra Repositories\\ch-gr_exports\\MC_A_6xi  NaN\nMC_A_6xiii    Y:\\Istra Repositories\\ch-gr_exports\\MC_A_6xiii  NaN\nMC_A_6yi        Y:\\Istra Repositories\\ch-gr_exports\\MC_A_6yi  NaN\nMC_A_6yii      Y:\\Istra Repositories\\ch-gr_exports\\MC_A_6yii  NaN\nMC_A_6yiii    Y:\\Istra Repositories\\ch-gr_exports\\MC_A_6yiii  NaN\n...                                                      ...  ...\nQL_GW_8xi      Y:\\Istra Repositories\\ch-gr_exports\\QL_GW_8xi  NaN\nQL_GW_8xii    Y:\\Istra Repositories\\ch-gr_exports\\QL_GW_8xii  NaN\nQL_GW_8xiii  Y:\\Istra Repositories\\ch-gr_exports\\QL_GW_8xiii  NaN\nQL_GW_8yi      Y:\\Istra Repositories\\ch-gr_exports\\QL_GW_8yi  NaN\nQL_GW_8yii    Y:\\Istra Repositories\\ch-gr_exports\\QL_GW_8yii  NaN\n\n[63 rows x 2 columns]",
      "text/html": "<div>\n<style scoped>\n    .dataframe tbody tr th:only-of-type {\n        vertical-align: middle;\n    }\n\n    .dataframe tbody tr th {\n        vertical-align: top;\n    }\n\n    .dataframe thead th {\n        text-align: right;\n    }\n</style>\n<table border=\"1\" class=\"dataframe\">\n  <thead>\n    <tr style=\"text-align: right;\">\n      <th></th>\n      <th>path</th>\n      <th>data</th>\n    </tr>\n  </thead>\n  <tbody>\n    <tr>\n      <th>MC_A_6xi</th>\n      <td>Y:\\Istra Repositories\\ch-gr_exports\\MC_A_6xi</td>\n      <td>NaN</td>\n    </tr>\n    <tr>\n      <th>MC_A_6xiii</th>\n      <td>Y:\\Istra Repositories\\ch-gr_exports\\MC_A_6xiii</td>\n      <td>NaN</td>\n    </tr>\n    <tr>\n      <th>MC_A_6yi</th>\n      <td>Y:\\Istra Repositories\\ch-gr_exports\\MC_A_6yi</td>\n      <td>NaN</td>\n    </tr>\n    <tr>\n      <th>MC_A_6yii</th>\n      <td>Y:\\Istra Repositories\\ch-gr_exports\\MC_A_6yii</td>\n      <td>NaN</td>\n    </tr>\n    <tr>\n      <th>MC_A_6yiii</th>\n      <td>Y:\\Istra Repositories\\ch-gr_exports\\MC_A_6yiii</td>\n      <td>NaN</td>\n    </tr>\n    <tr>\n      <th>...</th>\n      <td>...</td>\n      <td>...</td>\n    </tr>\n    <tr>\n      <th>QL_GW_8xi</th>\n      <td>Y:\\Istra Repositories\\ch-gr_exports\\QL_GW_8xi</td>\n      <td>NaN</td>\n    </tr>\n    <tr>\n      <th>QL_GW_8xii</th>\n      <td>Y:\\Istra Repositories\\ch-gr_exports\\QL_GW_8xii</td>\n      <td>NaN</td>\n    </tr>\n    <tr>\n      <th>QL_GW_8xiii</th>\n      <td>Y:\\Istra Repositories\\ch-gr_exports\\QL_GW_8xiii</td>\n      <td>NaN</td>\n    </tr>\n    <tr>\n      <th>QL_GW_8yi</th>\n      <td>Y:\\Istra Repositories\\ch-gr_exports\\QL_GW_8yi</td>\n      <td>NaN</td>\n    </tr>\n    <tr>\n      <th>QL_GW_8yii</th>\n      <td>Y:\\Istra Repositories\\ch-gr_exports\\QL_GW_8yii</td>\n      <td>NaN</td>\n    </tr>\n  </tbody>\n</table>\n<p>63 rows × 2 columns</p>\n</div>"
     },
     "metadata": {},
     "output_type": "display_data"
    }
   ],
   "source": [
    "def gather_universal(path: str,filetype: str)-> list:\n",
    "    \"\"\"\n",
    "    :param path:\n",
    "    :param filetype:\n",
    "    :return:\n",
    "    \"\"\"\n",
    "    subdir=path\n",
    "\n",
    "    data=[]\n",
    "    for path, subdirs, files in os.walk(subdir):\n",
    "        for name in files:\n",
    "            if name.endswith(filetype) and name[-5]!='t'  :\n",
    "\n",
    "                b=(str(os.path.join(path, name)))\n",
    "                data.append(b)\n",
    "    return data\n",
    "\n",
    "def gather_subdirs(paths: str)-> list:\n",
    "    subdir=paths\n",
    "\n",
    "    data=[]\n",
    "    for path, subdirs, files in os.walk(subdir):\n",
    "        for dir in subdirs:\n",
    "            data.append(dir)\n",
    "    return data\n",
    "\n",
    "def sort_on_last(list:list)->list:\n",
    "    df=pd.DataFrame({'list': list})\n",
    "    df['nums']=df['list'].apply(lambda x:x.split('_')[-1].split('.')[0])\n",
    "    df['nums']=df.nums.astype(int)\n",
    "    df.sort_values(by='nums',inplace=True)\n",
    "    #display(df)\n",
    "    return(np.array(df['list']))\n",
    "path='data/hdf/'\n",
    "display(gather_universal(path,'.hdf5'))\n",
    "\n",
    "def get_hdf_main_groups(path) -> list:\n",
    "    with hdf.File(path,'r') as r:\n",
    "        #display([str(i) for i in r.keys()])\n",
    "        return [str(i) for i in r.keys()]\n",
    "\n",
    "def get_hdf_group_datasets(path,groupkey) -> list:\n",
    "    with hdf.File(path,'r') as r:\n",
    "        #display([str(i) for i in r[groupkey].keys()])\n",
    "        return [str(i) for i in r[groupkey].keys()]\n",
    "\n",
    "def get_df_columns(path)-> pd.DataFrame:\n",
    "    groups=get_hdf_main_groups(path)\n",
    "    cols=[]\n",
    "    for key in groups:\n",
    "       cols=cols+ list(zip(list(np.full(len(get_hdf_group_datasets(path,key)),key)),\n",
    "                 get_hdf_group_datasets(path,key)))\n",
    "\n",
    "    #display(cols)\n",
    "    columns=pd.MultiIndex.from_tuples(cols, names=('group', 'dataset'))\n",
    "    #display(pd.DataFrame(columns=columns))\n",
    "    return columns\n",
    "def zero_to_nan(array):\n",
    "    array[array==0.]=np.nan\n",
    "    return(array)\n",
    "def steps_to_df(seriespath,examplefilepath)->pd.DataFrame:\n",
    "    path=seriespath\n",
    "    series=pd.DataFrame(index=sort_on_last(gather_universal(path,'.hdf5')),columns=get_df_columns(examplefilepath))\n",
    "\n",
    "    for file in series.index:\n",
    "        with hdf.File(str(file),'r') as r:\n",
    "            for location in series.columns:\n",
    "                series.loc[file,location]=r[location[0]][location[1]][:]\n",
    "    return series\n",
    "#series=steps_to_df('Y:\\Istra Repositories\\ch-gr_exports\\MC_A_8yi','data/hdf/series_step_115.hdf5')\n",
    "display(gather_subdirs('Y:\\Istra Repositories\\ch-gr_exports'))\n",
    "bases=pd.DataFrame(index=gather_subdirs('Y:\\Istra Repositories\\ch-gr_exports'),columns=['path','data'])\n",
    "bases['path']='Y:\\\\Istra Repositories\\\\ch-gr_exports\\\\'+bases.index\n",
    "display(bases)"
   ],
   "metadata": {
    "collapsed": false,
    "pycharm": {
     "name": "#%%\n"
    }
   }
  },
  {
   "cell_type": "code",
   "execution_count": 15,
   "outputs": [],
   "source": [
    "def isnotnan(num):\n",
    "    return num == num\n",
    "def linefit(x,y):\n",
    "    coeffs=np.polyfit(x,y,1)\n",
    "    poly=np.poly1d(coeffs)\n",
    "    newy=poly(x)\n",
    "    return newy\n",
    "\n",
    "def strip_background(array):\n",
    "    df=pd.DataFrame(array)\n",
    "    #before=array\n",
    "    #bf=plt.matshow(before)\n",
    "    #plt.colorbar(bf)\n",
    "\n",
    "    after=df.copy()\n",
    "    after[after==0.]=np.nan\n",
    "    #display(after)\n",
    "\n",
    "    after.dropna(how='all',axis=0,inplace=True)\n",
    "    after.dropna(how='all',axis=1,inplace=True)\n",
    "    #display(after)\n",
    "    \"\"\"af=plt.matshow(after.dropna(how='all',axis=0))\n",
    "    plt.colorbar(af)\"\"\"\n",
    "    #display(after)\n",
    "    return(after)\n",
    "\n",
    "def get_line(df):\n",
    "    afters=df.copy()\n",
    "    for column in afters.columns:\n",
    "        for row in afters.index:\n",
    "            if isnotnan(afters.loc[row,column]) :\n",
    "                afters.loc[row,column]=row\n",
    "    coeffs=np.polyfit(afters.columns,afters.mean(axis=0,skipna=True),1)\n",
    "    return coeffs\n",
    "\n",
    "def get_scan_range(df,slope):\n",
    "    xmin=df.columns.min()\n",
    "    xmax=df.columns.max()\n",
    "    ymin=df.index.min()\n",
    "    ymax=df.index.max()\n",
    "    pairs=[(xmin,ymin),(xmin,ymax),(xmax,ymin),(xmax,ymax)]\n",
    "    #display(pairs)\n",
    "    ts=[pair[1]-(slope*pair[0]) for pair in pairs]\n",
    "    return (round(min(ts)),round(max(ts)))\n",
    "\n",
    "def create_striper(stripped_background:pd.DataFrame):\n",
    "    after=stripped_background\n",
    "    scan_range=get_scan_range(after,get_line(after)[0])\n",
    "    scan_range=range(*scan_range,1)\n",
    "    res=pd.DataFrame(columns=after.columns,index=scan_range)\n",
    "    #display(res)\n",
    "    m=get_line(after)[0]\n",
    "    for t in res.index:\n",
    "        for x in res.columns:\n",
    "            res.loc[t,x]=math.ceil((m*x)+t)\n",
    "        #display(res.loc[t,:].dtypes)\n",
    "    for column in res:\n",
    "        res[column]=res[column].astype(int)\n",
    "    return res\n",
    "def apply_striper(striper,original_array):\n",
    "    array=original_array\n",
    "    res=striper\n",
    "\n",
    "    #res.reset_index(inplace=True,drop=True)\n",
    "\n",
    "    #display(min(after.index),max(after.index))\n",
    "    striped=res.loc[range(min(after.index),max(after.index)+1),:].copy()\n",
    "    #display(striped,after.index)\n",
    "\n",
    "    #display(striped)\n",
    "    array=pd.DataFrame(array)\n",
    "    #display(array)\n",
    "    for column in striped.columns:\n",
    "\n",
    "        for index in striped.index:\n",
    "\n",
    "            striped.loc[index,column]=array.loc[striped.loc[index,column],column]\n",
    "    #display(striped)\n",
    "    striped[striped == 0.]=np.nan\n",
    "    return striped"
   ],
   "metadata": {
    "collapsed": false,
    "pycharm": {
     "name": "#%%\n"
    }
   }
  },
  {
   "cell_type": "code",
   "execution_count": 16,
   "outputs": [],
   "source": [
    "import scipy as scipy\n",
    "import scipy.signal as sgy\n",
    "def sgolay2d ( z, window_size, order, derivative=None):\n",
    "    \"\"\"\n",
    "    \"\"\"\n",
    "    # number of terms in the polynomial expression\n",
    "    n_terms = ( order + 1 ) * ( order + 2)  / 2.0\n",
    "\n",
    "    if  window_size % 2 == 0:\n",
    "        window_size=window_size+1\n",
    "        #raise ValueError('window_size must be odd')\n",
    "\n",
    "    if window_size**2 < n_terms:\n",
    "        raise ValueError('order is too high for the window size')\n",
    "\n",
    "    half_size = window_size // 2\n",
    "\n",
    "    # exponents of the polynomial.\n",
    "    # p(x,y) = a0 + a1*x + a2*y + a3*x^2 + a4*y^2 + a5*x*y + ...\n",
    "    # this line gives a list of two item tuple. Each tuple contains\n",
    "    # the exponents of the k-th term. First element of tuple is for x\n",
    "    # second element for y.\n",
    "    # Ex. exps = [(0,0), (1,0), (0,1), (2,0), (1,1), (0,2), ...]\n",
    "    exps = [ (k-n, n) for k in range(order+1) for n in range(k+1) ]\n",
    "\n",
    "    # coordinates of points\n",
    "    ind = np.arange(-half_size, half_size+1, dtype=np.float64)\n",
    "    dx = np.repeat( ind, window_size )\n",
    "    dy = np.tile( ind, [window_size, 1]).reshape(window_size**2, )\n",
    "\n",
    "    # build matrix of system of equation\n",
    "    A = np.empty( (window_size**2, len(exps)) )\n",
    "    for i, exp in enumerate( exps ):\n",
    "        A[:,i] = (dx**exp[0]) * (dy**exp[1])\n",
    "\n",
    "    # pad input array with appropriate values at the four borders\n",
    "    new_shape = z.shape[0] + 2*half_size, z.shape[1] + 2*half_size\n",
    "    Z = np.zeros( (new_shape) )\n",
    "    # top band\n",
    "    band = z[0, :]\n",
    "    Z[:half_size, half_size:-half_size] =  band -  np.abs( np.flipud( z[1:half_size+1, :] ) - band )\n",
    "    # bottom band\n",
    "    band = z[-1, :]\n",
    "    Z[-half_size:, half_size:-half_size] = band  + np.abs( np.flipud( z[-half_size-1:-1, :] )  -band )\n",
    "    # left band\n",
    "    band = np.tile( z[:,0].reshape(-1,1), [1,half_size])\n",
    "    Z[half_size:-half_size, :half_size] = band - np.abs( np.fliplr( z[:, 1:half_size+1] ) - band )\n",
    "    # right band\n",
    "    band = np.tile( z[:,-1].reshape(-1,1), [1,half_size] )\n",
    "    Z[half_size:-half_size, -half_size:] =  band + np.abs( np.fliplr( z[:, -half_size-1:-1] ) - band )\n",
    "    # central band\n",
    "    Z[half_size:-half_size, half_size:-half_size] = z\n",
    "\n",
    "    # top left corner\n",
    "    band = z[0,0]\n",
    "    Z[:half_size,:half_size] = band - np.abs( np.flipud(np.fliplr(z[1:half_size+1,1:half_size+1]) ) - band )\n",
    "    # bottom right corner\n",
    "    band = z[-1,-1]\n",
    "    Z[-half_size:,-half_size:] = band + np.abs( np.flipud(np.fliplr(z[-half_size-1:-1,-half_size-1:-1]) ) - band )\n",
    "\n",
    "    # top right corner\n",
    "    band = Z[half_size,-half_size:]\n",
    "    Z[:half_size,-half_size:] = band - np.abs( np.flipud(Z[half_size+1:2*half_size+1,-half_size:]) - band )\n",
    "    # bottom left corner\n",
    "    band = Z[-half_size:,half_size].reshape(-1,1)\n",
    "    Z[-half_size:,:half_size] = band - np.abs( np.fliplr(Z[-half_size:, half_size+1:2*half_size+1]) - band )\n",
    "\n",
    "    # solve system and convolve\n",
    "    if derivative == None:\n",
    "        m = np.linalg.pinv(A)[0].reshape((window_size, -1))\n",
    "        \"\"\"d1=pd.DataFrame(np.linalg.pinv(A)[1].reshape((window_size, -1)))\n",
    "        d2=pd.DataFrame(np.linalg.pinv(A)[2].reshape((window_size, -1)))\n",
    "        p=pd.DataFrame(m)\n",
    "        display(p,p.shape,d1,d1.shape)\n",
    "        fig,[a,b,c]=plt.subplots(1,3,figsize=(20,15))\n",
    "        a.matshow(p, label='strain')\n",
    "        b.matshow(d1,label='strain')\n",
    "        c.matshow(d2,label='strain')\n",
    "\n",
    "        X,Y=np.meshgrid(p.columns,p.index)\n",
    "        fig = plt.figure(figsize=[20,15])\n",
    "        ax = fig.gca(projection='3d')\n",
    "        axis = ax.plot_surface(X,Y,p, cmap=cm.viridis,linewidth=5, antialiased=False)\n",
    "        ax.view_init(30,-50)\n",
    "        plt.colorbar(axis)\"\"\"\n",
    "\n",
    "        return scipy.signal.fftconvolve(Z, m, mode='valid')\n",
    "    elif derivative == 'col':\n",
    "        c = np.linalg.pinv(A)[1].reshape((window_size, -1))\n",
    "        return scipy.signal.fftconvolve(Z, -c, mode='valid')\n",
    "    elif derivative == 'row':\n",
    "        r = np.linalg.pinv(A)[2].reshape((window_size, -1))\n",
    "        return scipy.signal.fftconvolve(Z, -r, mode='valid')\n",
    "    elif derivative == 'both':\n",
    "        c = np.linalg.pinv(A)[1].reshape((window_size, -1))\n",
    "        r = np.linalg.pinv(A)[2].reshape((window_size, -1))\n",
    "        return scipy.signal.fftconvolve(Z, -r, mode='valid'), scipy.signal.fftconvolve(Z, -c, mode='valid')"
   ],
   "metadata": {
    "collapsed": false,
    "pycharm": {
     "name": "#%%\n"
    }
   }
  },
  {
   "cell_type": "code",
   "execution_count": 17,
   "outputs": [],
   "source": [
    "def perform_display(array):\n",
    "    after=strip_background(array)\n",
    "    res=create_striper(after)\n",
    "    striped=apply_striper(res,array)\n",
    "    \"\"\"plt.matshow(striped)\n",
    "    imf=plt.matshow((sgolay2d(striped.fillna(0).values,5,3)),cmap='plasma')\n",
    "\n",
    "    plt.colorbar(imf)\"\"\"\n",
    "    display(striped.shape)\n",
    "    return striped.fillna(0)\n",
    "\n",
    "def get_endsize(df):\n",
    "    after=strip_background(df)\n",
    "    #display(after)\n",
    "    return (after.index[0],after.index[-1]),(after.columns[0],after.columns[-1])\n",
    "def get_measure_length(df,col1,col2):\n",
    "    mean_col1=df.loc[:,col1].mean()\n",
    "    mean_col2=df.loc[:,col2].mean()\n",
    "    return mean_col2-mean_col1\n",
    "\n",
    "def get_macro_strain(current_df,reference_df):\n",
    "    size=get_endsize(current_df)\n",
    "    l_0=get_measure_length(reference_df,size[1][0],size[1][1])\n",
    "    l=get_measure_length(current_df,size[1][0],size[1][1])\n",
    "    dl=l-l_0\n",
    "    return dl/l_0\n",
    "\n",
    "\n",
    "def counter(df,sections):\n",
    "    df=df.unstack().reset_index()\n",
    "    df.columns=['X','Y','Z']\n",
    "    resdict={}\n",
    "    for i in range(len(sections)-1):\n",
    "        resdict[sections[i]]=len(df[(df['Z']<=sections[i+1]) & (df['Z']>=sections[i])])\n",
    "    #display(resdict)\n",
    "    return(resdict)\n"
   ],
   "metadata": {
    "collapsed": false,
    "pycharm": {
     "name": "#%%\n"
    }
   }
  },
  {
   "cell_type": "code",
   "execution_count": 18,
   "outputs": [],
   "source": [
    "#tryase=steps_to_df('Y:\\Istra Repositories\\ch-gr_exports\\MC_GW_8xi','Y:\\Istra Repositories\\ch-gr_exports\\MC_GW_8xi/series_step_115.hdf5')"
   ],
   "metadata": {
    "collapsed": false,
    "pycharm": {
     "name": "#%%\n"
    }
   }
  },
  {
   "cell_type": "code",
   "execution_count": 19,
   "outputs": [
    {
     "data": {
      "text/plain": "\"#display(tryase)\\nbases.at['MC_GW_8xi','data']=tryase\\ndisplay(bases.loc[:,'data'])\""
     },
     "execution_count": 19,
     "metadata": {},
     "output_type": "execute_result"
    }
   ],
   "source": [
    "\"\"\"#display(tryase)\n",
    "bases.at['MC_GW_8xi','data']=tryase\n",
    "display(bases.loc[:,'data'])\"\"\""
   ],
   "metadata": {
    "collapsed": false,
    "pycharm": {
     "name": "#%%\n"
    }
   }
  },
  {
   "cell_type": "code",
   "execution_count": 20,
   "outputs": [],
   "source": [
    "def create_spaced (num):\n",
    "    return [round(x) for x in np.linspace(0,num,10)]\n",
    "\n"
   ],
   "metadata": {
    "collapsed": false,
    "pycharm": {
     "name": "#%%\n"
    }
   }
  },
  {
   "cell_type": "code",
   "execution_count": 21,
   "outputs": [],
   "source": [
    "from matplotlib.ticker import (MultipleLocator, AutoMinorLocator)\n",
    "\n",
    "def mean_var_plot(ax,df):\n",
    "    mean=[np.nanmean(val.values) for val in df]\n",
    "    var=[np.nanvar(val.values) for val in df]\n",
    "    ax.plot(var)\n",
    "    #plt.errorbar(range(len(mean)),mean,yerr=var)\n",
    "    plt.show()\n",
    "def create_multiplot (bases,basename):\n",
    "    typdf=bases.loc[basename,'data']\n",
    "    print(type(typdf))\n",
    "    locs=create_spaced(len(typdf.index)-1)\n",
    "    cm=1/2.54\n",
    "    fig,axs=plt.subplots(12,figsize=(16*cm,25*cm))\n",
    "    fig.suptitle(basename, fontsize=18)\n",
    "    variance=[]\n",
    "    for i,loc in enumerate(locs):\n",
    "        #display(type(strip_background(typdf.iloc[loc,:][('strains','strain_p1')])))\n",
    "        axs[i].imshow(strip_background(typdf.iloc[loc,:][('strains','strain_p1')]),extent=(\n",
    "            int(strip_background(typdf.iloc[loc,:][('strains','strain_p1')]).columns[0]),\n",
    "            int(strip_background(typdf.iloc[loc,:][('strains','strain_p1')]).columns[-1]),\n",
    "            int(strip_background(typdf.iloc[loc,:][('strains','strain_p1')]).index[0]),\n",
    "            int(strip_background(typdf.iloc[loc,:][('strains','strain_p1')]).index[-1])\n",
    "\n",
    "\n",
    "        ))\n",
    "        variance.append(np.nanmean(strip_background(typdf.iloc[loc,:][('strains','strain_p1')])))\n",
    "    axs[11].plot(range(len(typdf.index)),typdf[('add_data','analog_channels')])\n",
    "    axs[10].plot(range(len(variance)),variance)\n",
    "    for ax in axs:\n",
    "        ax.xaxis.set_minor_locator(MultipleLocator(2.5))\n",
    "\n",
    "    #fig.subplots_adjust(left=None, bottom=0, right=None, top=1.5, wspace=None, hspace=None)\n",
    "    plt.show()\n",
    "    expname=basename+'.png'\n",
    "    fig.savefig(expname,dpi=500)\n",
    "\n"
   ],
   "metadata": {
    "collapsed": false,
    "pycharm": {
     "name": "#%%\n"
    }
   }
  },
  {
   "cell_type": "code",
   "execution_count": 22,
   "outputs": [
    {
     "data": {
      "text/plain": "\"display(bases)\\nfirst_few_bases=bases.iloc[:10,:]\\ndisplay(first_few_bases)\\n\\n\\n\\nfirst_few_bases['data']=first_few_bases.path.apply(lambda x:steps_to_df(x,x+'\\\\series_step_0.hdf5'))\\ndisplay(first_few_bases.columns)\\n\\n\\n#display(first_few_bases)\\nfor index in first_few_bases.index:\\n    create_multiplot(first_few_bases,index)\\n\""
     },
     "execution_count": 22,
     "metadata": {},
     "output_type": "execute_result"
    }
   ],
   "source": [
    "\"\"\"display(bases)\n",
    "first_few_bases=bases.iloc[:10,:]\n",
    "display(first_few_bases)\n",
    "\n",
    "\n",
    "\n",
    "first_few_bases['data']=first_few_bases.path.apply(lambda x:steps_to_df(x,x+'\\\\series_step_0.hdf5'))\n",
    "display(first_few_bases.columns)\n",
    "\n",
    "\n",
    "#display(first_few_bases)\n",
    "for index in first_few_bases.index:\n",
    "    create_multiplot(first_few_bases,index)\n",
    "\"\"\""
   ],
   "metadata": {
    "collapsed": false,
    "pycharm": {
     "name": "#%%\n"
    }
   }
  },
  {
   "cell_type": "code",
   "execution_count": 23,
   "outputs": [
    {
     "data": {
      "text/plain": "\"display(first_few_bases.iloc[0,0])\\n\\n\\n#display(bases)\\nfirst_few_bases=bases.iloc[31:36,:]\\ndisplay(first_few_bases)\\n\\n\\nfirst_few_bases['data']=first_few_bases.path.apply(lambda x:steps_to_df(x,x+'\\\\series_step_0.hdf5'))\\n\\n\\ndisplay(first_few_bases)\\nfor index in first_few_bases.index:\\n    create_multiplot(first_few_bases,index)\""
     },
     "execution_count": 23,
     "metadata": {},
     "output_type": "execute_result"
    }
   ],
   "source": [
    "\"\"\"display(first_few_bases.iloc[0,0])\n",
    "\n",
    "\n",
    "#display(bases)\n",
    "first_few_bases=bases.iloc[31:36,:]\n",
    "display(first_few_bases)\n",
    "\n",
    "\n",
    "first_few_bases['data']=first_few_bases.path.apply(lambda x:steps_to_df(x,x+'\\\\series_step_0.hdf5'))\n",
    "\n",
    "\n",
    "display(first_few_bases)\n",
    "for index in first_few_bases.index:\n",
    "    create_multiplot(first_few_bases,index)\"\"\"\n",
    "\n",
    "\n",
    "\n"
   ],
   "metadata": {
    "collapsed": false,
    "pycharm": {
     "name": "#%%\n"
    }
   }
  },
  {
   "cell_type": "code",
   "execution_count": 24,
   "outputs": [
    {
     "data": {
      "text/plain": "                                                        path data\nMC_A_6xi        Y:\\Istra Repositories\\ch-gr_exports\\MC_A_6xi  NaN\nMC_A_6xiii    Y:\\Istra Repositories\\ch-gr_exports\\MC_A_6xiii  NaN\nMC_A_6yi        Y:\\Istra Repositories\\ch-gr_exports\\MC_A_6yi  NaN\nMC_A_6yii      Y:\\Istra Repositories\\ch-gr_exports\\MC_A_6yii  NaN\nMC_A_6yiii    Y:\\Istra Repositories\\ch-gr_exports\\MC_A_6yiii  NaN\n...                                                      ...  ...\nQL_GW_8xi      Y:\\Istra Repositories\\ch-gr_exports\\QL_GW_8xi  NaN\nQL_GW_8xii    Y:\\Istra Repositories\\ch-gr_exports\\QL_GW_8xii  NaN\nQL_GW_8xiii  Y:\\Istra Repositories\\ch-gr_exports\\QL_GW_8xiii  NaN\nQL_GW_8yi      Y:\\Istra Repositories\\ch-gr_exports\\QL_GW_8yi  NaN\nQL_GW_8yii    Y:\\Istra Repositories\\ch-gr_exports\\QL_GW_8yii  NaN\n\n[63 rows x 2 columns]",
      "text/html": "<div>\n<style scoped>\n    .dataframe tbody tr th:only-of-type {\n        vertical-align: middle;\n    }\n\n    .dataframe tbody tr th {\n        vertical-align: top;\n    }\n\n    .dataframe thead th {\n        text-align: right;\n    }\n</style>\n<table border=\"1\" class=\"dataframe\">\n  <thead>\n    <tr style=\"text-align: right;\">\n      <th></th>\n      <th>path</th>\n      <th>data</th>\n    </tr>\n  </thead>\n  <tbody>\n    <tr>\n      <th>MC_A_6xi</th>\n      <td>Y:\\Istra Repositories\\ch-gr_exports\\MC_A_6xi</td>\n      <td>NaN</td>\n    </tr>\n    <tr>\n      <th>MC_A_6xiii</th>\n      <td>Y:\\Istra Repositories\\ch-gr_exports\\MC_A_6xiii</td>\n      <td>NaN</td>\n    </tr>\n    <tr>\n      <th>MC_A_6yi</th>\n      <td>Y:\\Istra Repositories\\ch-gr_exports\\MC_A_6yi</td>\n      <td>NaN</td>\n    </tr>\n    <tr>\n      <th>MC_A_6yii</th>\n      <td>Y:\\Istra Repositories\\ch-gr_exports\\MC_A_6yii</td>\n      <td>NaN</td>\n    </tr>\n    <tr>\n      <th>MC_A_6yiii</th>\n      <td>Y:\\Istra Repositories\\ch-gr_exports\\MC_A_6yiii</td>\n      <td>NaN</td>\n    </tr>\n    <tr>\n      <th>...</th>\n      <td>...</td>\n      <td>...</td>\n    </tr>\n    <tr>\n      <th>QL_GW_8xi</th>\n      <td>Y:\\Istra Repositories\\ch-gr_exports\\QL_GW_8xi</td>\n      <td>NaN</td>\n    </tr>\n    <tr>\n      <th>QL_GW_8xii</th>\n      <td>Y:\\Istra Repositories\\ch-gr_exports\\QL_GW_8xii</td>\n      <td>NaN</td>\n    </tr>\n    <tr>\n      <th>QL_GW_8xiii</th>\n      <td>Y:\\Istra Repositories\\ch-gr_exports\\QL_GW_8xiii</td>\n      <td>NaN</td>\n    </tr>\n    <tr>\n      <th>QL_GW_8yi</th>\n      <td>Y:\\Istra Repositories\\ch-gr_exports\\QL_GW_8yi</td>\n      <td>NaN</td>\n    </tr>\n    <tr>\n      <th>QL_GW_8yii</th>\n      <td>Y:\\Istra Repositories\\ch-gr_exports\\QL_GW_8yii</td>\n      <td>NaN</td>\n    </tr>\n  </tbody>\n</table>\n<p>63 rows × 2 columns</p>\n</div>"
     },
     "metadata": {},
     "output_type": "display_data"
    },
    {
     "data": {
      "text/plain": "                                                        path data\nMC_A_6xi        Y:\\Istra Repositories\\ch-gr_exports\\MC_A_6xi  NaN\nMC_A_6xiii    Y:\\Istra Repositories\\ch-gr_exports\\MC_A_6xiii  NaN\nMC_A_6yi        Y:\\Istra Repositories\\ch-gr_exports\\MC_A_6yi  NaN\nMC_A_6yii      Y:\\Istra Repositories\\ch-gr_exports\\MC_A_6yii  NaN\nMC_A_6yiii    Y:\\Istra Repositories\\ch-gr_exports\\MC_A_6yiii  NaN\n...                                                      ...  ...\nQL_GW_8xi      Y:\\Istra Repositories\\ch-gr_exports\\QL_GW_8xi  NaN\nQL_GW_8xii    Y:\\Istra Repositories\\ch-gr_exports\\QL_GW_8xii  NaN\nQL_GW_8xiii  Y:\\Istra Repositories\\ch-gr_exports\\QL_GW_8xiii  NaN\nQL_GW_8yi      Y:\\Istra Repositories\\ch-gr_exports\\QL_GW_8yi  NaN\nQL_GW_8yii    Y:\\Istra Repositories\\ch-gr_exports\\QL_GW_8yii  NaN\n\n[63 rows x 2 columns]",
      "text/html": "<div>\n<style scoped>\n    .dataframe tbody tr th:only-of-type {\n        vertical-align: middle;\n    }\n\n    .dataframe tbody tr th {\n        vertical-align: top;\n    }\n\n    .dataframe thead th {\n        text-align: right;\n    }\n</style>\n<table border=\"1\" class=\"dataframe\">\n  <thead>\n    <tr style=\"text-align: right;\">\n      <th></th>\n      <th>path</th>\n      <th>data</th>\n    </tr>\n  </thead>\n  <tbody>\n    <tr>\n      <th>MC_A_6xi</th>\n      <td>Y:\\Istra Repositories\\ch-gr_exports\\MC_A_6xi</td>\n      <td>NaN</td>\n    </tr>\n    <tr>\n      <th>MC_A_6xiii</th>\n      <td>Y:\\Istra Repositories\\ch-gr_exports\\MC_A_6xiii</td>\n      <td>NaN</td>\n    </tr>\n    <tr>\n      <th>MC_A_6yi</th>\n      <td>Y:\\Istra Repositories\\ch-gr_exports\\MC_A_6yi</td>\n      <td>NaN</td>\n    </tr>\n    <tr>\n      <th>MC_A_6yii</th>\n      <td>Y:\\Istra Repositories\\ch-gr_exports\\MC_A_6yii</td>\n      <td>NaN</td>\n    </tr>\n    <tr>\n      <th>MC_A_6yiii</th>\n      <td>Y:\\Istra Repositories\\ch-gr_exports\\MC_A_6yiii</td>\n      <td>NaN</td>\n    </tr>\n    <tr>\n      <th>...</th>\n      <td>...</td>\n      <td>...</td>\n    </tr>\n    <tr>\n      <th>QL_GW_8xi</th>\n      <td>Y:\\Istra Repositories\\ch-gr_exports\\QL_GW_8xi</td>\n      <td>NaN</td>\n    </tr>\n    <tr>\n      <th>QL_GW_8xii</th>\n      <td>Y:\\Istra Repositories\\ch-gr_exports\\QL_GW_8xii</td>\n      <td>NaN</td>\n    </tr>\n    <tr>\n      <th>QL_GW_8xiii</th>\n      <td>Y:\\Istra Repositories\\ch-gr_exports\\QL_GW_8xiii</td>\n      <td>NaN</td>\n    </tr>\n    <tr>\n      <th>QL_GW_8yi</th>\n      <td>Y:\\Istra Repositories\\ch-gr_exports\\QL_GW_8yi</td>\n      <td>NaN</td>\n    </tr>\n    <tr>\n      <th>QL_GW_8yii</th>\n      <td>Y:\\Istra Repositories\\ch-gr_exports\\QL_GW_8yii</td>\n      <td>NaN</td>\n    </tr>\n  </tbody>\n</table>\n<p>63 rows × 2 columns</p>\n</div>"
     },
     "metadata": {},
     "output_type": "display_data"
    }
   ],
   "source": [
    "display(bases)\n",
    "first_few_bases=bases.iloc[:,:]\n",
    "display(first_few_bases)"
   ],
   "metadata": {
    "collapsed": false,
    "pycharm": {
     "name": "#%%\n"
    }
   }
  },
  {
   "cell_type": "code",
   "execution_count": null,
   "outputs": [],
   "source": [
    "first_few_bases['data']=first_few_bases.path.apply(lambda x:steps_to_df(x,x+'\\\\series_step_0.hdf5'))\n",
    "display(first_few_bases.columns)"
   ],
   "metadata": {
    "collapsed": false,
    "pycharm": {
     "name": "#%%\n",
     "is_executing": true
    }
   }
  },
  {
   "cell_type": "code",
   "execution_count": null,
   "outputs": [],
   "source": [
    "#display(first_few_bases)\n",
    "for index in first_few_bases.index:\n",
    "    create_multiplot(first_few_bases,index)"
   ],
   "metadata": {
    "collapsed": false,
    "pycharm": {
     "name": "#%%\n",
     "is_executing": true
    }
   }
  },
  {
   "cell_type": "code",
   "execution_count": null,
   "outputs": [],
   "source": [
    "print(first_few_bases.index)"
   ],
   "metadata": {
    "collapsed": false,
    "pycharm": {
     "name": "#%%\n",
     "is_executing": true
    }
   }
  },
  {
   "cell_type": "code",
   "execution_count": null,
   "outputs": [],
   "source": [
    "print([type(bases.loc[i,'data']) for i in bases.index])"
   ],
   "metadata": {
    "collapsed": false,
    "pycharm": {
     "name": "#%%\n"
    }
   }
  },
  {
   "cell_type": "code",
   "execution_count": null,
   "outputs": [],
   "source": [
    "#bases.to_pickle('result',compression='zip')"
   ],
   "metadata": {
    "collapsed": false,
    "pycharm": {
     "name": "#%%\n"
    }
   }
  },
  {
   "cell_type": "code",
   "execution_count": null,
   "outputs": [],
   "source": [
    "#topt=pd.read_pickle('result',compression ='zip')"
   ],
   "metadata": {
    "collapsed": false,
    "pycharm": {
     "name": "#%%\n"
    }
   }
  },
  {
   "cell_type": "code",
   "execution_count": null,
   "outputs": [],
   "source": [
    "#display(topt.columns)"
   ],
   "metadata": {
    "collapsed": false,
    "pycharm": {
     "name": "#%%\n"
    }
   }
  },
  {
   "cell_type": "code",
   "execution_count": null,
   "outputs": [],
   "source": [],
   "metadata": {
    "collapsed": false,
    "pycharm": {
     "name": "#%%\n"
    }
   }
  }
 ],
 "metadata": {
  "kernelspec": {
   "display_name": "Python 3",
   "language": "python",
   "name": "python3"
  },
  "language_info": {
   "codemirror_mode": {
    "name": "ipython",
    "version": 2
   },
   "file_extension": ".py",
   "mimetype": "text/x-python",
   "name": "python",
   "nbconvert_exporter": "python",
   "pygments_lexer": "ipython2",
   "version": "2.7.6"
  }
 },
 "nbformat": 4,
 "nbformat_minor": 0
}