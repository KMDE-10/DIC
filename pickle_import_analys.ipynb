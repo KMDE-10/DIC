{
 "cells": [
  {
   "cell_type": "code",
   "execution_count": 1,
   "metadata": {
    "collapsed": true
   },
   "outputs": [],
   "source": [
    "import pandas as pd\n",
    "import numpy as np\n",
    "import matplotlib.pyplot as plt\n",
    "from IPython.display import display\n",
    "import os\n",
    "import h5py as hdf\n",
    "import scipy as scp\n",
    "\n",
    "plt.rcParams['figure.facecolor'] = 'white'"
   ]
  },
  {
   "cell_type": "code",
   "execution_count": 9,
   "outputs": [
    {
     "data": {
      "text/plain": "                                ok  crack    pos  left_12-5  step_start  \\\nname                                                                      \nMC_A_6xi_clipped_cut_lined     1.0  135.0  143.0      123.0       110.0   \nMC_A_6xiii_clipped_cut_lined   1.0  115.0  119.0       99.0        45.0   \nMC_A_6yi_clipped_cut_lined     2.0  114.0  117.0       97.0         NaN   \nMC_A_6yii_clipped_cut_lined    2.0   47.0   50.0       30.0         NaN   \nMC_A_6yiii_clipped_cut_lined   2.0  100.0   95.0       75.0         NaN   \n...                            ...    ...    ...        ...         ...   \nQL_GW_8xi_clipped_cut_lined    3.0    NaN    NaN      -20.0        40.0   \nQL_GW_8xii_clipped_cut_lined   1.0  125.0  125.0      105.0       247.5   \nQL_GW_8xiii_clipped_cut_lined  3.0    NaN    NaN      -20.0         NaN   \nQL_GW_8yi_clipped_cut_lined    3.0    NaN    NaN      -20.0        16.0   \nQL_GW_8yii_clipped_cut_lined   2.0   35.0   35.0       15.0        17.5   \n\n                               step_stop  \nname                                      \nMC_A_6xi_clipped_cut_lined         230.0  \nMC_A_6xiii_clipped_cut_lined       187.5  \nMC_A_6yi_clipped_cut_lined           NaN  \nMC_A_6yii_clipped_cut_lined          NaN  \nMC_A_6yiii_clipped_cut_lined         NaN  \n...                                  ...  \nQL_GW_8xi_clipped_cut_lined        387.5  \nQL_GW_8xii_clipped_cut_lined       580.0  \nQL_GW_8xiii_clipped_cut_lined        NaN  \nQL_GW_8yi_clipped_cut_lined        161.0  \nQL_GW_8yii_clipped_cut_lined       367.5  \n\n[63 rows x 6 columns]",
      "text/html": "<div>\n<style scoped>\n    .dataframe tbody tr th:only-of-type {\n        vertical-align: middle;\n    }\n\n    .dataframe tbody tr th {\n        vertical-align: top;\n    }\n\n    .dataframe thead th {\n        text-align: right;\n    }\n</style>\n<table border=\"1\" class=\"dataframe\">\n  <thead>\n    <tr style=\"text-align: right;\">\n      <th></th>\n      <th>ok</th>\n      <th>crack</th>\n      <th>pos</th>\n      <th>left_12-5</th>\n      <th>step_start</th>\n      <th>step_stop</th>\n    </tr>\n    <tr>\n      <th>name</th>\n      <th></th>\n      <th></th>\n      <th></th>\n      <th></th>\n      <th></th>\n      <th></th>\n    </tr>\n  </thead>\n  <tbody>\n    <tr>\n      <th>MC_A_6xi_clipped_cut_lined</th>\n      <td>1.0</td>\n      <td>135.0</td>\n      <td>143.0</td>\n      <td>123.0</td>\n      <td>110.0</td>\n      <td>230.0</td>\n    </tr>\n    <tr>\n      <th>MC_A_6xiii_clipped_cut_lined</th>\n      <td>1.0</td>\n      <td>115.0</td>\n      <td>119.0</td>\n      <td>99.0</td>\n      <td>45.0</td>\n      <td>187.5</td>\n    </tr>\n    <tr>\n      <th>MC_A_6yi_clipped_cut_lined</th>\n      <td>2.0</td>\n      <td>114.0</td>\n      <td>117.0</td>\n      <td>97.0</td>\n      <td>NaN</td>\n      <td>NaN</td>\n    </tr>\n    <tr>\n      <th>MC_A_6yii_clipped_cut_lined</th>\n      <td>2.0</td>\n      <td>47.0</td>\n      <td>50.0</td>\n      <td>30.0</td>\n      <td>NaN</td>\n      <td>NaN</td>\n    </tr>\n    <tr>\n      <th>MC_A_6yiii_clipped_cut_lined</th>\n      <td>2.0</td>\n      <td>100.0</td>\n      <td>95.0</td>\n      <td>75.0</td>\n      <td>NaN</td>\n      <td>NaN</td>\n    </tr>\n    <tr>\n      <th>...</th>\n      <td>...</td>\n      <td>...</td>\n      <td>...</td>\n      <td>...</td>\n      <td>...</td>\n      <td>...</td>\n    </tr>\n    <tr>\n      <th>QL_GW_8xi_clipped_cut_lined</th>\n      <td>3.0</td>\n      <td>NaN</td>\n      <td>NaN</td>\n      <td>-20.0</td>\n      <td>40.0</td>\n      <td>387.5</td>\n    </tr>\n    <tr>\n      <th>QL_GW_8xii_clipped_cut_lined</th>\n      <td>1.0</td>\n      <td>125.0</td>\n      <td>125.0</td>\n      <td>105.0</td>\n      <td>247.5</td>\n      <td>580.0</td>\n    </tr>\n    <tr>\n      <th>QL_GW_8xiii_clipped_cut_lined</th>\n      <td>3.0</td>\n      <td>NaN</td>\n      <td>NaN</td>\n      <td>-20.0</td>\n      <td>NaN</td>\n      <td>NaN</td>\n    </tr>\n    <tr>\n      <th>QL_GW_8yi_clipped_cut_lined</th>\n      <td>3.0</td>\n      <td>NaN</td>\n      <td>NaN</td>\n      <td>-20.0</td>\n      <td>16.0</td>\n      <td>161.0</td>\n    </tr>\n    <tr>\n      <th>QL_GW_8yii_clipped_cut_lined</th>\n      <td>2.0</td>\n      <td>35.0</td>\n      <td>35.0</td>\n      <td>15.0</td>\n      <td>17.5</td>\n      <td>367.5</td>\n    </tr>\n  </tbody>\n</table>\n<p>63 rows × 6 columns</p>\n</div>"
     },
     "metadata": {},
     "output_type": "display_data"
    }
   ],
   "source": [
    "positions=pd.read_excel('Y:\\\\Istra Repositories\\\\ch-gr_exports\\\\Querzug_overview.xlsx')\n",
    "positions.name=positions.name+'_clipped_cut_lined'\n",
    "positions=positions.iloc[:,1:].set_index('name')\n",
    "display(positions)"
   ],
   "metadata": {
    "collapsed": false,
    "pycharm": {
     "name": "#%%\n"
    }
   }
  },
  {
   "cell_type": "code",
   "execution_count": 10,
   "outputs": [
    {
     "data": {
      "text/plain": "['Y:\\\\Istra Repositories\\\\ch-gr_exports\\\\MC_A_6xiii_clipped_cut_lined.pickle',\n 'Y:\\\\Istra Repositories\\\\ch-gr_exports\\\\MC_A_6xi_clipped_cut_lined.pickle',\n 'Y:\\\\Istra Repositories\\\\ch-gr_exports\\\\MC_A_8xiii_clipped_cut_lined.pickle',\n 'Y:\\\\Istra Repositories\\\\ch-gr_exports\\\\MC_B_6xiii_clipped_cut_lined.pickle',\n 'Y:\\\\Istra Repositories\\\\ch-gr_exports\\\\MC_B_6xii_clipped_cut_lined.pickle',\n 'Y:\\\\Istra Repositories\\\\ch-gr_exports\\\\MC_B_6xi_clipped_cut_lined.pickle',\n 'Y:\\\\Istra Repositories\\\\ch-gr_exports\\\\MC_B_8xiii_clipped_cut_lined.pickle',\n 'Y:\\\\Istra Repositories\\\\ch-gr_exports\\\\MC_B_8xi_clipped_cut_lined.pickle',\n 'Y:\\\\Istra Repositories\\\\ch-gr_exports\\\\MC_B_8yi_clipped_cut_lined.pickle',\n 'Y:\\\\Istra Repositories\\\\ch-gr_exports\\\\MC_GW_6xiii_clipped_cut_lined.pickle',\n 'Y:\\\\Istra Repositories\\\\ch-gr_exports\\\\MC_GW_6xi_clipped_cut_lined.pickle',\n 'Y:\\\\Istra Repositories\\\\ch-gr_exports\\\\MC_GW_6yiii_clipped_cut_lined.pickle',\n 'Y:\\\\Istra Repositories\\\\ch-gr_exports\\\\MC_GW_6yii_clipped_cut_lined.pickle',\n 'Y:\\\\Istra Repositories\\\\ch-gr_exports\\\\MC_GW_6yi_clipped_cut_lined.pickle',\n 'Y:\\\\Istra Repositories\\\\ch-gr_exports\\\\MC_GW_8xi_clipped_cut_lined.pickle',\n 'Y:\\\\Istra Repositories\\\\ch-gr_exports\\\\MC_GW_8yiii_clipped_cut_lined.pickle',\n 'Y:\\\\Istra Repositories\\\\ch-gr_exports\\\\MC_GW_8yii_clipped_cut_lined.pickle',\n 'Y:\\\\Istra Repositories\\\\ch-gr_exports\\\\QL_A_6xiii_clipped_cut_lined.pickle',\n 'Y:\\\\Istra Repositories\\\\ch-gr_exports\\\\QL_A_6xii_clipped_cut_lined.pickle',\n 'Y:\\\\Istra Repositories\\\\ch-gr_exports\\\\QL_A_6xi_clipped_cut_lined.pickle',\n 'Y:\\\\Istra Repositories\\\\ch-gr_exports\\\\QL_A_8xii_clipped_cut_lined.pickle',\n 'Y:\\\\Istra Repositories\\\\ch-gr_exports\\\\QL_A_8xi_clipped_cut_lined.pickle',\n 'Y:\\\\Istra Repositories\\\\ch-gr_exports\\\\QL_A_8yiii_clipped_cut_lined.pickle',\n 'Y:\\\\Istra Repositories\\\\ch-gr_exports\\\\QL_A_8yi_clipped_cut_lined.pickle',\n 'Y:\\\\Istra Repositories\\\\ch-gr_exports\\\\QL_B_6xiii_clipped_cut_lined.pickle',\n 'Y:\\\\Istra Repositories\\\\ch-gr_exports\\\\QL_B_8xiii_clipped_cut_lined.pickle',\n 'Y:\\\\Istra Repositories\\\\ch-gr_exports\\\\QL_B_8xii_clipped_cut_lined.pickle',\n 'Y:\\\\Istra Repositories\\\\ch-gr_exports\\\\QL_B_8yiii_clipped_cut_lined.pickle',\n 'Y:\\\\Istra Repositories\\\\ch-gr_exports\\\\QL_B_8yi_clipped_cut_lined.pickle',\n 'Y:\\\\Istra Repositories\\\\ch-gr_exports\\\\QL_GW_6xiii_clipped_cut_lined.pickle',\n 'Y:\\\\Istra Repositories\\\\ch-gr_exports\\\\QL_GW_6xi_clipped_cut_lined.pickle',\n 'Y:\\\\Istra Repositories\\\\ch-gr_exports\\\\QL_GW_6yiii_clipped_cut_lined.pickle',\n 'Y:\\\\Istra Repositories\\\\ch-gr_exports\\\\QL_GW_6yii_clipped_cut_lined.pickle',\n 'Y:\\\\Istra Repositories\\\\ch-gr_exports\\\\QL_GW_8xii_clipped_cut_lined.pickle',\n 'Y:\\\\Istra Repositories\\\\ch-gr_exports\\\\QL_GW_8yii_clipped_cut_lined.pickle']"
     },
     "metadata": {},
     "output_type": "display_data"
    }
   ],
   "source": [
    "import os\n",
    "import re\n",
    "\n",
    "def gather_files_regex(dir: str,regex)->list:\n",
    "    '''\n",
    "    Gathers all files below a directory that match the provided regular expression\n",
    "    Traverses into sub-directories\n",
    "\n",
    "    dir -- the directory\n",
    "\n",
    "    regex -- A regular expression to match filenames\n",
    "    '''\n",
    "    subdir=dir\n",
    "    p = re.compile(regex)\n",
    "    data=[]\n",
    "    for dir, _, files in os.walk(subdir):\n",
    "        for name in files:\n",
    "            if p.match(name):\n",
    "                b=(str(os.path.join(dir, name)))\n",
    "                data.append(b)\n",
    "    return data\n",
    "\n",
    "files=gather_files_regex('Y:\\\\Istra Repositories\\\\ch-gr_exports',r'\\w+ned.pickle\\Z')\n",
    "display(files)"
   ],
   "metadata": {
    "collapsed": false,
    "pycharm": {
     "name": "#%%\n"
    }
   }
  },
  {
   "cell_type": "code",
   "execution_count": 11,
   "outputs": [],
   "source": [
    "sample='MC_A_8xiii_clipped_cut'\n",
    "samplelocation='Y:\\\\Istra Repositories\\\\ch-gr_exports\\\\'+sample+'.pickle'\n",
    "lookup=pd.read_pickle(samplelocation,compression='zip')"
   ],
   "metadata": {
    "collapsed": false,
    "pycharm": {
     "name": "#%%\n"
    }
   }
  },
  {
   "cell_type": "code",
   "execution_count": 12,
   "outputs": [
    {
     "data": {
      "text/plain": "                                                                          paths  \\\nMC_A_6xiii_clipped_cut_lined  Y:\\Istra Repositories\\ch-gr_exports\\MC_A_6xiii...   \nMC_A_6xi_clipped_cut_lined    Y:\\Istra Repositories\\ch-gr_exports\\MC_A_6xi_c...   \nMC_A_8xiii_clipped_cut_lined  Y:\\Istra Repositories\\ch-gr_exports\\MC_A_8xiii...   \nMC_B_6xiii_clipped_cut_lined  Y:\\Istra Repositories\\ch-gr_exports\\MC_B_6xiii...   \nMC_B_6xii_clipped_cut_lined   Y:\\Istra Repositories\\ch-gr_exports\\MC_B_6xii_...   \n\n                               ok  crack    pos  left_12-5  step_start  \\\nMC_A_6xiii_clipped_cut_lined  1.0  115.0  119.0       99.0        45.0   \nMC_A_6xi_clipped_cut_lined    1.0  135.0  143.0      123.0       110.0   \nMC_A_8xiii_clipped_cut_lined  1.0  170.0  117.5       97.5        32.5   \nMC_B_6xiii_clipped_cut_lined  1.0   90.0   90.0       70.0        37.5   \nMC_B_6xii_clipped_cut_lined   1.0  122.0  121.0      101.0        27.5   \n\n                              step_stop                         index  \\\nMC_A_6xiii_clipped_cut_lined      187.5  MC_A_6xiii_clipped_cut_lined   \nMC_A_6xi_clipped_cut_lined        230.0    MC_A_6xi_clipped_cut_lined   \nMC_A_8xiii_clipped_cut_lined      355.0  MC_A_8xiii_clipped_cut_lined   \nMC_B_6xiii_clipped_cut_lined      172.5  MC_B_6xiii_clipped_cut_lined   \nMC_B_6xii_clipped_cut_lined       160.0   MC_B_6xii_clipped_cut_lined   \n\n                             material senergie/GW plate_thickness testspeed  \\\nMC_A_6xiii_clipped_cut_lined       MC           A               6         x   \nMC_A_6xi_clipped_cut_lined         MC           A               6         x   \nMC_A_8xiii_clipped_cut_lined       MC           A               8         x   \nMC_B_6xiii_clipped_cut_lined       MC           B               6         x   \nMC_B_6xii_clipped_cut_lined        MC           B               6         x   \n\n                             running_number  \\\nMC_A_6xiii_clipped_cut_lined            iii   \nMC_A_6xi_clipped_cut_lined                i   \nMC_A_8xiii_clipped_cut_lined            iii   \nMC_B_6xiii_clipped_cut_lined            iii   \nMC_B_6xii_clipped_cut_lined              ii   \n\n                                                                           data  \nMC_A_6xiii_clipped_cut_lined  group                                         ...  \nMC_A_6xi_clipped_cut_lined    group                                         ...  \nMC_A_8xiii_clipped_cut_lined  group                                         ...  \nMC_B_6xiii_clipped_cut_lined  group                                         ...  \nMC_B_6xii_clipped_cut_lined   group                                         ...  ",
      "text/html": "<div>\n<style scoped>\n    .dataframe tbody tr th:only-of-type {\n        vertical-align: middle;\n    }\n\n    .dataframe tbody tr th {\n        vertical-align: top;\n    }\n\n    .dataframe thead th {\n        text-align: right;\n    }\n</style>\n<table border=\"1\" class=\"dataframe\">\n  <thead>\n    <tr style=\"text-align: right;\">\n      <th></th>\n      <th>paths</th>\n      <th>ok</th>\n      <th>crack</th>\n      <th>pos</th>\n      <th>left_12-5</th>\n      <th>step_start</th>\n      <th>step_stop</th>\n      <th>index</th>\n      <th>material</th>\n      <th>senergie/GW</th>\n      <th>plate_thickness</th>\n      <th>testspeed</th>\n      <th>running_number</th>\n      <th>data</th>\n    </tr>\n  </thead>\n  <tbody>\n    <tr>\n      <th>MC_A_6xiii_clipped_cut_lined</th>\n      <td>Y:\\Istra Repositories\\ch-gr_exports\\MC_A_6xiii...</td>\n      <td>1.0</td>\n      <td>115.0</td>\n      <td>119.0</td>\n      <td>99.0</td>\n      <td>45.0</td>\n      <td>187.5</td>\n      <td>MC_A_6xiii_clipped_cut_lined</td>\n      <td>MC</td>\n      <td>A</td>\n      <td>6</td>\n      <td>x</td>\n      <td>iii</td>\n      <td>group                                         ...</td>\n    </tr>\n    <tr>\n      <th>MC_A_6xi_clipped_cut_lined</th>\n      <td>Y:\\Istra Repositories\\ch-gr_exports\\MC_A_6xi_c...</td>\n      <td>1.0</td>\n      <td>135.0</td>\n      <td>143.0</td>\n      <td>123.0</td>\n      <td>110.0</td>\n      <td>230.0</td>\n      <td>MC_A_6xi_clipped_cut_lined</td>\n      <td>MC</td>\n      <td>A</td>\n      <td>6</td>\n      <td>x</td>\n      <td>i</td>\n      <td>group                                         ...</td>\n    </tr>\n    <tr>\n      <th>MC_A_8xiii_clipped_cut_lined</th>\n      <td>Y:\\Istra Repositories\\ch-gr_exports\\MC_A_8xiii...</td>\n      <td>1.0</td>\n      <td>170.0</td>\n      <td>117.5</td>\n      <td>97.5</td>\n      <td>32.5</td>\n      <td>355.0</td>\n      <td>MC_A_8xiii_clipped_cut_lined</td>\n      <td>MC</td>\n      <td>A</td>\n      <td>8</td>\n      <td>x</td>\n      <td>iii</td>\n      <td>group                                         ...</td>\n    </tr>\n    <tr>\n      <th>MC_B_6xiii_clipped_cut_lined</th>\n      <td>Y:\\Istra Repositories\\ch-gr_exports\\MC_B_6xiii...</td>\n      <td>1.0</td>\n      <td>90.0</td>\n      <td>90.0</td>\n      <td>70.0</td>\n      <td>37.5</td>\n      <td>172.5</td>\n      <td>MC_B_6xiii_clipped_cut_lined</td>\n      <td>MC</td>\n      <td>B</td>\n      <td>6</td>\n      <td>x</td>\n      <td>iii</td>\n      <td>group                                         ...</td>\n    </tr>\n    <tr>\n      <th>MC_B_6xii_clipped_cut_lined</th>\n      <td>Y:\\Istra Repositories\\ch-gr_exports\\MC_B_6xii_...</td>\n      <td>1.0</td>\n      <td>122.0</td>\n      <td>121.0</td>\n      <td>101.0</td>\n      <td>27.5</td>\n      <td>160.0</td>\n      <td>MC_B_6xii_clipped_cut_lined</td>\n      <td>MC</td>\n      <td>B</td>\n      <td>6</td>\n      <td>x</td>\n      <td>ii</td>\n      <td>group                                         ...</td>\n    </tr>\n  </tbody>\n</table>\n</div>"
     },
     "metadata": {},
     "output_type": "display_data"
    }
   ],
   "source": [
    "over_df_index=[x.split('\\\\')[-1].split('.')[0] for x in files]\n",
    "tests_df=pd.DataFrame(index=over_df_index)\n",
    "tests_df['paths']=files\n",
    "tests_df=tests_df.join(positions,how='left')\n",
    "tests_df['index']=tests_df.index\n",
    "tests_df['material']=tests_df['index'].apply(lambda x: x.split('_')[0])\n",
    "tests_df['senergie/GW']=tests_df['index'].apply(lambda x: x.split('_')[1])\n",
    "tests_df['plate_thickness']=tests_df['index'].apply(lambda x: x.split('_')[2][0])\n",
    "tests_df['testspeed']=tests_df['index'].apply(lambda x: x.split('_')[2][1])\n",
    "tests_df['running_number']=tests_df['index'].apply(lambda x: x.split('_')[2][2:])\n",
    "tests_df['data']=[pd.read_pickle(x, compression='zip') for x in tests_df['paths']]\n",
    "display(tests_df.head(5))\n",
    "#plt.plot(tests_df.crack)"
   ],
   "metadata": {
    "collapsed": false,
    "pycharm": {
     "name": "#%%\n"
    }
   }
  },
  {
   "cell_type": "code",
   "execution_count": 6,
   "outputs": [],
   "source": [
    "#display(test.data)"
   ],
   "metadata": {
    "collapsed": false,
    "pycharm": {
     "name": "#%%\n"
    }
   }
  },
  {
   "cell_type": "code",
   "execution_count": 7,
   "outputs": [
    {
     "ename": "IndexingError",
     "evalue": "Too many indexers",
     "output_type": "error",
     "traceback": [
      "\u001B[1;31m---------------------------------------------------------------------------\u001B[0m",
      "\u001B[1;31mIndexingError\u001B[0m                             Traceback (most recent call last)",
      "\u001B[1;32mc:\\temp\\TEMP_U~1/ipykernel_28952/3545950855.py\u001B[0m in \u001B[0;36m<module>\u001B[1;34m\u001B[0m\n\u001B[0;32m      7\u001B[0m     \u001B[0mafter\u001B[0m\u001B[1;33m=\u001B[0m\u001B[0mnp\u001B[0m\u001B[1;33m.\u001B[0m\u001B[0mdivide\u001B[0m\u001B[1;33m(\u001B[0m\u001B[0mafter\u001B[0m\u001B[1;33m,\u001B[0m\u001B[0mafter\u001B[0m\u001B[1;33m)\u001B[0m\u001B[1;33m\u001B[0m\u001B[1;33m\u001B[0m\u001B[0m\n\u001B[0;32m      8\u001B[0m     \u001B[1;32mreturn\u001B[0m\u001B[1;33m(\u001B[0m\u001B[0mafter\u001B[0m\u001B[1;33m)\u001B[0m\u001B[1;33m\u001B[0m\u001B[1;33m\u001B[0m\u001B[0m\n\u001B[1;32m----> 9\u001B[1;33m \u001B[0mmask\u001B[0m\u001B[1;33m=\u001B[0m\u001B[0marray_get_mask\u001B[0m\u001B[1;33m(\u001B[0m\u001B[0mtest\u001B[0m\u001B[1;33m.\u001B[0m\u001B[0miloc\u001B[0m\u001B[1;33m[\u001B[0m\u001B[1;36m10\u001B[0m\u001B[1;33m,\u001B[0m\u001B[1;33m:\u001B[0m\u001B[1;33m]\u001B[0m\u001B[1;33m[\u001B[0m\u001B[1;33m(\u001B[0m\u001B[1;34m'strains'\u001B[0m\u001B[1;33m,\u001B[0m\u001B[1;34m'strain_p1'\u001B[0m\u001B[1;33m)\u001B[0m\u001B[1;33m]\u001B[0m\u001B[1;33m)\u001B[0m\u001B[1;33m\u001B[0m\u001B[1;33m\u001B[0m\u001B[0m\n\u001B[0m\u001B[0;32m     10\u001B[0m \u001B[0mplt\u001B[0m\u001B[1;33m.\u001B[0m\u001B[0mmatshow\u001B[0m\u001B[1;33m(\u001B[0m\u001B[0mmask\u001B[0m\u001B[1;33m)\u001B[0m\u001B[1;33m\u001B[0m\u001B[1;33m\u001B[0m\u001B[0m\n\u001B[0;32m     11\u001B[0m \u001B[1;32mdef\u001B[0m \u001B[0mdf_apply_mask\u001B[0m\u001B[1;33m(\u001B[0m\u001B[0marr\u001B[0m\u001B[1;33m:\u001B[0m\u001B[0mnp\u001B[0m\u001B[1;33m.\u001B[0m\u001B[0mndarray\u001B[0m\u001B[1;33m,\u001B[0m\u001B[0mmask\u001B[0m\u001B[1;33m:\u001B[0m\u001B[0mnp\u001B[0m\u001B[1;33m.\u001B[0m\u001B[0mndarray\u001B[0m\u001B[1;33m)\u001B[0m\u001B[1;33m->\u001B[0m \u001B[0mpd\u001B[0m\u001B[1;33m.\u001B[0m\u001B[0mDataFrame\u001B[0m\u001B[1;33m:\u001B[0m\u001B[1;33m\u001B[0m\u001B[1;33m\u001B[0m\u001B[0m\n",
      "\u001B[1;32m~\\Anaconda3\\envs\\pythonProject1\\lib\\site-packages\\pandas\\core\\indexing.py\u001B[0m in \u001B[0;36m__getitem__\u001B[1;34m(self, key)\u001B[0m\n\u001B[0;32m    923\u001B[0m                 \u001B[1;32mwith\u001B[0m \u001B[0msuppress\u001B[0m\u001B[1;33m(\u001B[0m\u001B[0mKeyError\u001B[0m\u001B[1;33m,\u001B[0m \u001B[0mIndexError\u001B[0m\u001B[1;33m)\u001B[0m\u001B[1;33m:\u001B[0m\u001B[1;33m\u001B[0m\u001B[1;33m\u001B[0m\u001B[0m\n\u001B[0;32m    924\u001B[0m                     \u001B[1;32mreturn\u001B[0m \u001B[0mself\u001B[0m\u001B[1;33m.\u001B[0m\u001B[0mobj\u001B[0m\u001B[1;33m.\u001B[0m\u001B[0m_get_value\u001B[0m\u001B[1;33m(\u001B[0m\u001B[1;33m*\u001B[0m\u001B[0mkey\u001B[0m\u001B[1;33m,\u001B[0m \u001B[0mtakeable\u001B[0m\u001B[1;33m=\u001B[0m\u001B[0mself\u001B[0m\u001B[1;33m.\u001B[0m\u001B[0m_takeable\u001B[0m\u001B[1;33m)\u001B[0m\u001B[1;33m\u001B[0m\u001B[1;33m\u001B[0m\u001B[0m\n\u001B[1;32m--> 925\u001B[1;33m             \u001B[1;32mreturn\u001B[0m \u001B[0mself\u001B[0m\u001B[1;33m.\u001B[0m\u001B[0m_getitem_tuple\u001B[0m\u001B[1;33m(\u001B[0m\u001B[0mkey\u001B[0m\u001B[1;33m)\u001B[0m\u001B[1;33m\u001B[0m\u001B[1;33m\u001B[0m\u001B[0m\n\u001B[0m\u001B[0;32m    926\u001B[0m         \u001B[1;32melse\u001B[0m\u001B[1;33m:\u001B[0m\u001B[1;33m\u001B[0m\u001B[1;33m\u001B[0m\u001B[0m\n\u001B[0;32m    927\u001B[0m             \u001B[1;31m# we by definition only have the 0th axis\u001B[0m\u001B[1;33m\u001B[0m\u001B[1;33m\u001B[0m\u001B[1;33m\u001B[0m\u001B[0m\n",
      "\u001B[1;32m~\\Anaconda3\\envs\\pythonProject1\\lib\\site-packages\\pandas\\core\\indexing.py\u001B[0m in \u001B[0;36m_getitem_tuple\u001B[1;34m(self, tup)\u001B[0m\n\u001B[0;32m   1504\u001B[0m     \u001B[1;32mdef\u001B[0m \u001B[0m_getitem_tuple\u001B[0m\u001B[1;33m(\u001B[0m\u001B[0mself\u001B[0m\u001B[1;33m,\u001B[0m \u001B[0mtup\u001B[0m\u001B[1;33m:\u001B[0m \u001B[0mtuple\u001B[0m\u001B[1;33m)\u001B[0m\u001B[1;33m:\u001B[0m\u001B[1;33m\u001B[0m\u001B[1;33m\u001B[0m\u001B[0m\n\u001B[0;32m   1505\u001B[0m \u001B[1;33m\u001B[0m\u001B[0m\n\u001B[1;32m-> 1506\u001B[1;33m         \u001B[0mself\u001B[0m\u001B[1;33m.\u001B[0m\u001B[0m_has_valid_tuple\u001B[0m\u001B[1;33m(\u001B[0m\u001B[0mtup\u001B[0m\u001B[1;33m)\u001B[0m\u001B[1;33m\u001B[0m\u001B[1;33m\u001B[0m\u001B[0m\n\u001B[0m\u001B[0;32m   1507\u001B[0m         \u001B[1;32mwith\u001B[0m \u001B[0msuppress\u001B[0m\u001B[1;33m(\u001B[0m\u001B[0mIndexingError\u001B[0m\u001B[1;33m)\u001B[0m\u001B[1;33m:\u001B[0m\u001B[1;33m\u001B[0m\u001B[1;33m\u001B[0m\u001B[0m\n\u001B[0;32m   1508\u001B[0m             \u001B[1;32mreturn\u001B[0m \u001B[0mself\u001B[0m\u001B[1;33m.\u001B[0m\u001B[0m_getitem_lowerdim\u001B[0m\u001B[1;33m(\u001B[0m\u001B[0mtup\u001B[0m\u001B[1;33m)\u001B[0m\u001B[1;33m\u001B[0m\u001B[1;33m\u001B[0m\u001B[0m\n",
      "\u001B[1;32m~\\Anaconda3\\envs\\pythonProject1\\lib\\site-packages\\pandas\\core\\indexing.py\u001B[0m in \u001B[0;36m_has_valid_tuple\u001B[1;34m(self, key)\u001B[0m\n\u001B[0;32m    749\u001B[0m         \u001B[0mCheck\u001B[0m \u001B[0mthe\u001B[0m \u001B[0mkey\u001B[0m \u001B[1;32mfor\u001B[0m \u001B[0mvalid\u001B[0m \u001B[0mkeys\u001B[0m \u001B[0macross\u001B[0m \u001B[0mmy\u001B[0m \u001B[0mindexer\u001B[0m\u001B[1;33m.\u001B[0m\u001B[1;33m\u001B[0m\u001B[1;33m\u001B[0m\u001B[0m\n\u001B[0;32m    750\u001B[0m         \"\"\"\n\u001B[1;32m--> 751\u001B[1;33m         \u001B[0mself\u001B[0m\u001B[1;33m.\u001B[0m\u001B[0m_validate_key_length\u001B[0m\u001B[1;33m(\u001B[0m\u001B[0mkey\u001B[0m\u001B[1;33m)\u001B[0m\u001B[1;33m\u001B[0m\u001B[1;33m\u001B[0m\u001B[0m\n\u001B[0m\u001B[0;32m    752\u001B[0m         \u001B[1;32mfor\u001B[0m \u001B[0mi\u001B[0m\u001B[1;33m,\u001B[0m \u001B[0mk\u001B[0m \u001B[1;32min\u001B[0m \u001B[0menumerate\u001B[0m\u001B[1;33m(\u001B[0m\u001B[0mkey\u001B[0m\u001B[1;33m)\u001B[0m\u001B[1;33m:\u001B[0m\u001B[1;33m\u001B[0m\u001B[1;33m\u001B[0m\u001B[0m\n\u001B[0;32m    753\u001B[0m             \u001B[1;32mtry\u001B[0m\u001B[1;33m:\u001B[0m\u001B[1;33m\u001B[0m\u001B[1;33m\u001B[0m\u001B[0m\n",
      "\u001B[1;32m~\\Anaconda3\\envs\\pythonProject1\\lib\\site-packages\\pandas\\core\\indexing.py\u001B[0m in \u001B[0;36m_validate_key_length\u001B[1;34m(self, key)\u001B[0m\n\u001B[0;32m    790\u001B[0m     \u001B[1;32mdef\u001B[0m \u001B[0m_validate_key_length\u001B[0m\u001B[1;33m(\u001B[0m\u001B[0mself\u001B[0m\u001B[1;33m,\u001B[0m \u001B[0mkey\u001B[0m\u001B[1;33m:\u001B[0m \u001B[0mSequence\u001B[0m\u001B[1;33m[\u001B[0m\u001B[0mAny\u001B[0m\u001B[1;33m]\u001B[0m\u001B[1;33m)\u001B[0m \u001B[1;33m->\u001B[0m \u001B[1;32mNone\u001B[0m\u001B[1;33m:\u001B[0m\u001B[1;33m\u001B[0m\u001B[1;33m\u001B[0m\u001B[0m\n\u001B[0;32m    791\u001B[0m         \u001B[1;32mif\u001B[0m \u001B[0mlen\u001B[0m\u001B[1;33m(\u001B[0m\u001B[0mkey\u001B[0m\u001B[1;33m)\u001B[0m \u001B[1;33m>\u001B[0m \u001B[0mself\u001B[0m\u001B[1;33m.\u001B[0m\u001B[0mndim\u001B[0m\u001B[1;33m:\u001B[0m\u001B[1;33m\u001B[0m\u001B[1;33m\u001B[0m\u001B[0m\n\u001B[1;32m--> 792\u001B[1;33m             \u001B[1;32mraise\u001B[0m \u001B[0mIndexingError\u001B[0m\u001B[1;33m(\u001B[0m\u001B[1;34m\"Too many indexers\"\u001B[0m\u001B[1;33m)\u001B[0m\u001B[1;33m\u001B[0m\u001B[1;33m\u001B[0m\u001B[0m\n\u001B[0m\u001B[0;32m    793\u001B[0m \u001B[1;33m\u001B[0m\u001B[0m\n\u001B[0;32m    794\u001B[0m     \u001B[1;32mdef\u001B[0m \u001B[0m_getitem_tuple_same_dim\u001B[0m\u001B[1;33m(\u001B[0m\u001B[0mself\u001B[0m\u001B[1;33m,\u001B[0m \u001B[0mtup\u001B[0m\u001B[1;33m:\u001B[0m \u001B[0mtuple\u001B[0m\u001B[1;33m)\u001B[0m\u001B[1;33m:\u001B[0m\u001B[1;33m\u001B[0m\u001B[1;33m\u001B[0m\u001B[0m\n",
      "\u001B[1;31mIndexingError\u001B[0m: Too many indexers"
     ]
    }
   ],
   "source": [
    "test=test\n",
    "sample='MC_A_6xiii_clipped_cut'\n",
    "def array_get_mask(array:np.ndarray)->pd.DataFrame:\n",
    "    df=pd.DataFrame(array)\n",
    "    after=df.copy()\n",
    "    after[after==0.]=np.nan\n",
    "    after=np.divide(after,after)\n",
    "    return(after)\n",
    "#mask=array_get_mask(test.iloc[10,:][('strains','strain_p1')])\n",
    "#plt.matshow(mask)\n",
    "def df_apply_mask(arr:np.ndarray,mask:np.ndarray)-> pd.DataFrame:\n",
    "    after=np.multiply(arr,mask)\n",
    "    after=pd.DataFrame(after)\n",
    "    after.dropna(how='all',axis=0,inplace=True)\n",
    "    after.dropna(how='all',axis=1,inplace=True)\n",
    "    return(after)\n",
    "plt.matshow(df_apply_mask(array_get_mask(test.iloc[10,:][('strains','strain_p1')]),mask))\n",
    "def df_strip_nans(df):\n",
    "    after=df.copy()\n",
    "    after.dropna(how='all',axis=0,inplace=True)\n",
    "    after.dropna(how='all',axis=1,inplace=True)\n",
    "    return(after)\n",
    "def df_get_idx_from_mm(sample:str,data:pd.DataFrame,sdix,cdix,left:int,right:int):\n",
    "    mask=array_get_mask(data.iloc[10,:][('strains','strain_p1')])\n",
    "    horizontal_measured_mm=df_apply_mask(data.iloc[10,:][('coordinates','coordinate_y')],mask)\n",
    "    measurement_dict={col:np.nanmean(horizontal_measured_mm.loc[:,col]) for col in horizontal_measured_mm.columns}\n",
    "    measurement_lookup_df=pd.DataFrame(data=measurement_dict.values(), index=measurement_dict.keys(),columns=['mm'])\n",
    "    #display(measurement_lookup_df)\n",
    "    crack_idx=int(cdix)\n",
    "    seam_idx=int(sdix)\n",
    "\n",
    "    seam_pos_y_mm=measurement_lookup_df.loc[seam_idx,'mm']\n",
    "    left_pos_y_mm=seam_pos_y_mm-left\n",
    "    right_pos_y_mm=seam_pos_y_mm-right\n",
    "\n",
    "    left_pos_y_idx=measurement_lookup_df.iloc[(measurement_lookup_df['mm']-left_pos_y_mm).abs().argsort()[:1]].index.tolist()[0]\n",
    "    right_pos_y_idx=measurement_lookup_df.iloc[(measurement_lookup_df['mm']-right_pos_y_mm).abs().argsort()[:1]].index.tolist()[0]\n",
    "\n",
    "    \"\"\"fig,ax=plt.subplots(figsize=(20,5))\n",
    "    ax.matshow(df_apply_mask(data.iloc[150,:][('strains','strain_p1')],mask))\n",
    "    ax.axvline(left_pos_y_idx,c='red')\n",
    "    ax.axvline(right_pos_y_idx,c='yellow')\n",
    "    plt.show()\"\"\"\n",
    "    return(seam_idx,left_pos_y_idx,right_pos_y_idx)\n",
    "def df_extract_roi_on_idx(roi_base,left,right):\n",
    "    roi_base=pd.DataFrame(roi_base).copy()\n",
    "\n",
    "    roi_base.loc[:,:left]=np.nan\n",
    "    roi_base.loc[:,right:]=np.nan\n",
    "    return(roi_base)\n",
    "#df_get_idx_from_mm(sample,lookup,positions,-20,-18)\n",
    "borders=df_get_idx_from_mm(sample,test,119.0,115.0,-0,8)\n",
    "plt.matshow(df_strip_nans(df_extract_roi_on_idx(df_apply_mask(array_get_mask(test.iloc[130,:][('strains','strain_p1')]),mask),borders[1],borders[2])))"
   ],
   "metadata": {
    "collapsed": false,
    "pycharm": {
     "name": "#%%\n"
    }
   }
  },
  {
   "cell_type": "code",
   "execution_count": null,
   "outputs": [],
   "source": [
    "display(test.iloc[0,3])"
   ],
   "metadata": {
    "collapsed": false,
    "pycharm": {
     "name": "#%%\n"
    }
   }
  },
  {
   "cell_type": "code",
   "execution_count": null,
   "outputs": [],
   "source": [
    "tests_df['-35_-33_idxs']  = tests_df['index'].apply(lambda x:df_get_idx_from_mm(x,tests_df.loc[x,'data'],tests_df.loc[x,'pos'],tests_df.loc[x,'crack'],-35,-33))\n",
    "display(tests_df.head())\n",
    "\"\"\"\n",
    "tests_df['-33_-31']  =\n",
    "tests_df['-31_-29']  =\n",
    "tests_df['-29_-27']  =\n",
    "tests_df['-27_-25']  =\n",
    "tests_df['-25_-23']  =\n",
    "tests_df['-23_-21']  =\n",
    "tests_df['-21_-19']  =\n",
    "tests_df['-19_-17']  =\n",
    "tests_df['-17_-15']  =\n",
    "tests_df['-15_-13']  =\n",
    "tests_df['-13_-11']  =\n",
    "tests_df['-11_-9']   =\n",
    "tests_df['-9_-7']    =\n",
    "tests_df['-7_-5']    =\n",
    "tests_df['-5_-3']    =\n",
    "tests_df['-3_-1']    =\n",
    "tests_df['-1_1']     =\n",
    "tests_df['1_3']      =\n",
    "tests_df['3_5']      =\n",
    "tests_df['5_7']      =\n",
    "tests_df['7_9']      =\n",
    "tests_df['9_11']     =\n",
    "tests_df['11_13']    =\n",
    "tests_df['13_15']    =\n",
    "tests_df['15_17']    =\n",
    "tests_df['17_19']    =\n",
    "tests_df['19_21']    =\n",
    "tests_df['21_23']    =\n",
    "tests_df['23_25']    =\n",
    "tests_df['25_27']    =\n",
    "tests_df['27_29']    =\n",
    "tests_df['29_31']    =\n",
    "tests_df['31_33']    =\n",
    "tests_df['33_35']    =\n",
    "\n",
    "\"\"\"\n",
    "\n",
    "\n"
   ],
   "metadata": {
    "collapsed": false,
    "pycharm": {
     "name": "#%%\n"
    }
   }
  },
  {
   "cell_type": "code",
   "execution_count": null,
   "outputs": [],
   "source": [],
   "metadata": {
    "collapsed": false,
    "pycharm": {
     "name": "#%%\n"
    }
   }
  },
  {
   "cell_type": "code",
   "execution_count": null,
   "outputs": [],
   "source": [],
   "metadata": {
    "collapsed": false,
    "pycharm": {
     "name": "#%%\n"
    }
   }
  }
 ],
 "metadata": {
  "kernelspec": {
   "display_name": "Python 3",
   "language": "python",
   "name": "python3"
  },
  "language_info": {
   "codemirror_mode": {
    "name": "ipython",
    "version": 2
   },
   "file_extension": ".py",
   "mimetype": "text/x-python",
   "name": "python",
   "nbconvert_exporter": "python",
   "pygments_lexer": "ipython2",
   "version": "2.7.6"
  }
 },
 "nbformat": 4,
 "nbformat_minor": 0
}