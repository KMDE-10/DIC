{
 "cells": [
  {
   "cell_type": "code",
   "execution_count": 1,
   "metadata": {
    "collapsed": true
   },
   "outputs": [],
   "source": [
    "import pandas as pd\n",
    "import numpy as np\n",
    "import matplotlib.pyplot as plt\n",
    "from IPython.display import display\n",
    "import os\n",
    "import h5py as hdf\n",
    "import scipy as scp\n",
    "\n",
    "plt.rcParams['figure.facecolor'] = 'white'"
   ]
  },
  {
   "cell_type": "code",
   "execution_count": 2,
   "outputs": [
    {
     "data": {
      "text/plain": "                               ok  crack    pos  left_12-5  step_start  \\\nname                                                                     \nMC_A_6xi_clipped_cut_lined    1.0  135.0  143.0      123.0       110.0   \nMC_A_6xiii_clipped_cut_lined  1.0  115.0  119.0       99.0        45.0   \nMC_A_6yi_clipped_cut_lined    2.0  114.0  117.0       97.0         NaN   \nMC_A_6yii_clipped_cut_lined   2.0   47.0   50.0       30.0         NaN   \nMC_A_6yiii_clipped_cut_lined  2.0  100.0   95.0       75.0         NaN   \n...                           ...    ...    ...        ...         ...   \nQL_A_8yv_clipped_cut_lined    1.0  125.0  135.0      115.0        45.0   \nQL_A_8yvi_clipped_cut_lined   1.0  138.0  133.0      113.0        35.0   \nQL_B_8yiv_clipped_cut_lined   1.0  145.0  135.0      115.0       100.0   \nQL_B_8yv_clipped_cut_lined    1.0  125.0  135.0      115.0        42.0   \nQL_B_8yvi_clipped_cut_lined   1.0  125.0  133.0      113.0        40.0   \n\n                              step_stop  \nname                                     \nMC_A_6xi_clipped_cut_lined        230.0  \nMC_A_6xiii_clipped_cut_lined      187.5  \nMC_A_6yi_clipped_cut_lined          NaN  \nMC_A_6yii_clipped_cut_lined         NaN  \nMC_A_6yiii_clipped_cut_lined        NaN  \n...                                 ...  \nQL_A_8yv_clipped_cut_lined        325.0  \nQL_A_8yvi_clipped_cut_lined       315.0  \nQL_B_8yiv_clipped_cut_lined       390.0  \nQL_B_8yv_clipped_cut_lined        320.0  \nQL_B_8yvi_clipped_cut_lined       300.0  \n\n[69 rows x 6 columns]",
      "text/html": "<div>\n<style scoped>\n    .dataframe tbody tr th:only-of-type {\n        vertical-align: middle;\n    }\n\n    .dataframe tbody tr th {\n        vertical-align: top;\n    }\n\n    .dataframe thead th {\n        text-align: right;\n    }\n</style>\n<table border=\"1\" class=\"dataframe\">\n  <thead>\n    <tr style=\"text-align: right;\">\n      <th></th>\n      <th>ok</th>\n      <th>crack</th>\n      <th>pos</th>\n      <th>left_12-5</th>\n      <th>step_start</th>\n      <th>step_stop</th>\n    </tr>\n    <tr>\n      <th>name</th>\n      <th></th>\n      <th></th>\n      <th></th>\n      <th></th>\n      <th></th>\n      <th></th>\n    </tr>\n  </thead>\n  <tbody>\n    <tr>\n      <th>MC_A_6xi_clipped_cut_lined</th>\n      <td>1.0</td>\n      <td>135.0</td>\n      <td>143.0</td>\n      <td>123.0</td>\n      <td>110.0</td>\n      <td>230.0</td>\n    </tr>\n    <tr>\n      <th>MC_A_6xiii_clipped_cut_lined</th>\n      <td>1.0</td>\n      <td>115.0</td>\n      <td>119.0</td>\n      <td>99.0</td>\n      <td>45.0</td>\n      <td>187.5</td>\n    </tr>\n    <tr>\n      <th>MC_A_6yi_clipped_cut_lined</th>\n      <td>2.0</td>\n      <td>114.0</td>\n      <td>117.0</td>\n      <td>97.0</td>\n      <td>NaN</td>\n      <td>NaN</td>\n    </tr>\n    <tr>\n      <th>MC_A_6yii_clipped_cut_lined</th>\n      <td>2.0</td>\n      <td>47.0</td>\n      <td>50.0</td>\n      <td>30.0</td>\n      <td>NaN</td>\n      <td>NaN</td>\n    </tr>\n    <tr>\n      <th>MC_A_6yiii_clipped_cut_lined</th>\n      <td>2.0</td>\n      <td>100.0</td>\n      <td>95.0</td>\n      <td>75.0</td>\n      <td>NaN</td>\n      <td>NaN</td>\n    </tr>\n    <tr>\n      <th>...</th>\n      <td>...</td>\n      <td>...</td>\n      <td>...</td>\n      <td>...</td>\n      <td>...</td>\n      <td>...</td>\n    </tr>\n    <tr>\n      <th>QL_A_8yv_clipped_cut_lined</th>\n      <td>1.0</td>\n      <td>125.0</td>\n      <td>135.0</td>\n      <td>115.0</td>\n      <td>45.0</td>\n      <td>325.0</td>\n    </tr>\n    <tr>\n      <th>QL_A_8yvi_clipped_cut_lined</th>\n      <td>1.0</td>\n      <td>138.0</td>\n      <td>133.0</td>\n      <td>113.0</td>\n      <td>35.0</td>\n      <td>315.0</td>\n    </tr>\n    <tr>\n      <th>QL_B_8yiv_clipped_cut_lined</th>\n      <td>1.0</td>\n      <td>145.0</td>\n      <td>135.0</td>\n      <td>115.0</td>\n      <td>100.0</td>\n      <td>390.0</td>\n    </tr>\n    <tr>\n      <th>QL_B_8yv_clipped_cut_lined</th>\n      <td>1.0</td>\n      <td>125.0</td>\n      <td>135.0</td>\n      <td>115.0</td>\n      <td>42.0</td>\n      <td>320.0</td>\n    </tr>\n    <tr>\n      <th>QL_B_8yvi_clipped_cut_lined</th>\n      <td>1.0</td>\n      <td>125.0</td>\n      <td>133.0</td>\n      <td>113.0</td>\n      <td>40.0</td>\n      <td>300.0</td>\n    </tr>\n  </tbody>\n</table>\n<p>69 rows × 6 columns</p>\n</div>"
     },
     "metadata": {},
     "output_type": "display_data"
    }
   ],
   "source": [
    "positions=pd.read_excel('Y:\\\\Istra Repositories\\\\ch-gr_exports\\\\Querzug_overview.xlsx')\n",
    "positions.name=positions.name+'_clipped_cut_lined'\n",
    "positions=positions.iloc[:,1:].set_index('name')\n",
    "display(positions)"
   ],
   "metadata": {
    "collapsed": false,
    "pycharm": {
     "name": "#%%\n"
    }
   }
  },
  {
   "cell_type": "code",
   "execution_count": 3,
   "outputs": [
    {
     "data": {
      "text/plain": "['Y:\\\\Istra Repositories\\\\ch-gr_exports\\\\MC_A_6xiii_clipped_cut_lined.pickle',\n 'Y:\\\\Istra Repositories\\\\ch-gr_exports\\\\MC_A_6xi_clipped_cut_lined.pickle',\n 'Y:\\\\Istra Repositories\\\\ch-gr_exports\\\\MC_A_8xiii_clipped_cut_lined.pickle',\n 'Y:\\\\Istra Repositories\\\\ch-gr_exports\\\\MC_B_6xiii_clipped_cut_lined.pickle',\n 'Y:\\\\Istra Repositories\\\\ch-gr_exports\\\\MC_B_6xii_clipped_cut_lined.pickle',\n 'Y:\\\\Istra Repositories\\\\ch-gr_exports\\\\MC_B_6xi_clipped_cut_lined.pickle',\n 'Y:\\\\Istra Repositories\\\\ch-gr_exports\\\\MC_B_8xiii_clipped_cut_lined.pickle',\n 'Y:\\\\Istra Repositories\\\\ch-gr_exports\\\\MC_B_8xi_clipped_cut_lined.pickle',\n 'Y:\\\\Istra Repositories\\\\ch-gr_exports\\\\MC_B_8yi_clipped_cut_lined.pickle',\n 'Y:\\\\Istra Repositories\\\\ch-gr_exports\\\\MC_GW_6xiii_clipped_cut_lined.pickle',\n 'Y:\\\\Istra Repositories\\\\ch-gr_exports\\\\MC_GW_6xi_clipped_cut_lined.pickle',\n 'Y:\\\\Istra Repositories\\\\ch-gr_exports\\\\MC_GW_6yiii_clipped_cut_lined.pickle',\n 'Y:\\\\Istra Repositories\\\\ch-gr_exports\\\\MC_GW_6yii_clipped_cut_lined.pickle',\n 'Y:\\\\Istra Repositories\\\\ch-gr_exports\\\\MC_GW_6yi_clipped_cut_lined.pickle',\n 'Y:\\\\Istra Repositories\\\\ch-gr_exports\\\\MC_GW_8xi_clipped_cut_lined.pickle',\n 'Y:\\\\Istra Repositories\\\\ch-gr_exports\\\\MC_GW_8yiii_clipped_cut_lined.pickle',\n 'Y:\\\\Istra Repositories\\\\ch-gr_exports\\\\MC_GW_8yii_clipped_cut_lined.pickle',\n 'Y:\\\\Istra Repositories\\\\ch-gr_exports\\\\QL_A_6xiii_clipped_cut_lined.pickle',\n 'Y:\\\\Istra Repositories\\\\ch-gr_exports\\\\QL_A_6xii_clipped_cut_lined.pickle',\n 'Y:\\\\Istra Repositories\\\\ch-gr_exports\\\\QL_A_6xi_clipped_cut_lined.pickle',\n 'Y:\\\\Istra Repositories\\\\ch-gr_exports\\\\QL_A_8xii_clipped_cut_lined.pickle',\n 'Y:\\\\Istra Repositories\\\\ch-gr_exports\\\\QL_A_8xi_clipped_cut_lined.pickle',\n 'Y:\\\\Istra Repositories\\\\ch-gr_exports\\\\QL_A_8yiii_clipped_cut_lined.pickle',\n 'Y:\\\\Istra Repositories\\\\ch-gr_exports\\\\QL_A_8yiv_clipped_cut_lined.pickle',\n 'Y:\\\\Istra Repositories\\\\ch-gr_exports\\\\QL_A_8yi_clipped_cut_lined.pickle',\n 'Y:\\\\Istra Repositories\\\\ch-gr_exports\\\\QL_A_8yvi_clipped_cut_lined.pickle',\n 'Y:\\\\Istra Repositories\\\\ch-gr_exports\\\\QL_A_8yv_clipped_cut_lined.pickle',\n 'Y:\\\\Istra Repositories\\\\ch-gr_exports\\\\QL_B_6xiii_clipped_cut_lined.pickle',\n 'Y:\\\\Istra Repositories\\\\ch-gr_exports\\\\QL_B_8xiii_clipped_cut_lined.pickle',\n 'Y:\\\\Istra Repositories\\\\ch-gr_exports\\\\QL_B_8xii_clipped_cut_lined.pickle',\n 'Y:\\\\Istra Repositories\\\\ch-gr_exports\\\\QL_B_8yiii_clipped_cut_lined.pickle',\n 'Y:\\\\Istra Repositories\\\\ch-gr_exports\\\\QL_B_8yiv_clipped_cut_lined.pickle',\n 'Y:\\\\Istra Repositories\\\\ch-gr_exports\\\\QL_B_8yi_clipped_cut_lined.pickle',\n 'Y:\\\\Istra Repositories\\\\ch-gr_exports\\\\QL_B_8yvi_clipped_cut_lined.pickle',\n 'Y:\\\\Istra Repositories\\\\ch-gr_exports\\\\QL_B_8yv_clipped_cut_lined.pickle',\n 'Y:\\\\Istra Repositories\\\\ch-gr_exports\\\\QL_GW_6xiii_clipped_cut_lined.pickle',\n 'Y:\\\\Istra Repositories\\\\ch-gr_exports\\\\QL_GW_6xi_clipped_cut_lined.pickle',\n 'Y:\\\\Istra Repositories\\\\ch-gr_exports\\\\QL_GW_6yiii_clipped_cut_lined.pickle',\n 'Y:\\\\Istra Repositories\\\\ch-gr_exports\\\\QL_GW_6yii_clipped_cut_lined.pickle',\n 'Y:\\\\Istra Repositories\\\\ch-gr_exports\\\\QL_GW_8xii_clipped_cut_lined.pickle',\n 'Y:\\\\Istra Repositories\\\\ch-gr_exports\\\\QL_GW_8yii_clipped_cut_lined.pickle']"
     },
     "metadata": {},
     "output_type": "display_data"
    }
   ],
   "source": [
    "import os\n",
    "import re\n",
    "\n",
    "def gather_files_regex(dir: str,regex)->list:\n",
    "    '''\n",
    "    Gathers all files below a directory that match the provided regular expression\n",
    "    Traverses into sub-directories\n",
    "\n",
    "    dir -- the directory\n",
    "\n",
    "    regex -- A regular expression to match filenames\n",
    "    '''\n",
    "    subdir=dir\n",
    "    p = re.compile(regex)\n",
    "    data=[]\n",
    "    for dir, _, files in os.walk(subdir):\n",
    "        for name in files:\n",
    "            if p.match(name):\n",
    "                b=(str(os.path.join(dir, name)))\n",
    "                data.append(b)\n",
    "    return data\n",
    "\n",
    "files=gather_files_regex('Y:\\\\Istra Repositories\\\\ch-gr_exports',r'\\w+ned.pickle\\Z')\n",
    "display(files)"
   ],
   "metadata": {
    "collapsed": false,
    "pycharm": {
     "name": "#%%\n"
    }
   }
  },
  {
   "cell_type": "code",
   "execution_count": 4,
   "outputs": [],
   "source": [
    "sample='MC_A_8xiii_clipped_cut'\n",
    "samplelocation='Y:\\\\Istra Repositories\\\\ch-gr_exports\\\\'+sample+'.pickle'\n",
    "lookup=pd.read_pickle(samplelocation,compression='zip')"
   ],
   "metadata": {
    "collapsed": false,
    "pycharm": {
     "name": "#%%\n"
    }
   }
  },
  {
   "cell_type": "code",
   "execution_count": 5,
   "outputs": [
    {
     "data": {
      "text/plain": "                                                                          paths  \\\nMC_A_6xiii_clipped_cut_lined  Y:\\Istra Repositories\\ch-gr_exports\\MC_A_6xiii...   \nMC_A_6xi_clipped_cut_lined    Y:\\Istra Repositories\\ch-gr_exports\\MC_A_6xi_c...   \nMC_A_8xiii_clipped_cut_lined  Y:\\Istra Repositories\\ch-gr_exports\\MC_A_8xiii...   \nMC_B_6xiii_clipped_cut_lined  Y:\\Istra Repositories\\ch-gr_exports\\MC_B_6xiii...   \nMC_B_6xii_clipped_cut_lined   Y:\\Istra Repositories\\ch-gr_exports\\MC_B_6xii_...   \n\n                               ok  crack    pos  left_12-5  step_start  \\\nMC_A_6xiii_clipped_cut_lined  1.0  115.0  119.0       99.0        45.0   \nMC_A_6xi_clipped_cut_lined    1.0  135.0  143.0      123.0       110.0   \nMC_A_8xiii_clipped_cut_lined  1.0  170.0  117.5       97.5        32.5   \nMC_B_6xiii_clipped_cut_lined  1.0   90.0   90.0       70.0        37.5   \nMC_B_6xii_clipped_cut_lined   1.0  122.0  121.0      101.0        27.5   \n\n                              step_stop                         index  \\\nMC_A_6xiii_clipped_cut_lined      187.5  MC_A_6xiii_clipped_cut_lined   \nMC_A_6xi_clipped_cut_lined        230.0    MC_A_6xi_clipped_cut_lined   \nMC_A_8xiii_clipped_cut_lined      355.0  MC_A_8xiii_clipped_cut_lined   \nMC_B_6xiii_clipped_cut_lined      172.5  MC_B_6xiii_clipped_cut_lined   \nMC_B_6xii_clipped_cut_lined       160.0   MC_B_6xii_clipped_cut_lined   \n\n                             material senergie/GW plate_thickness testspeed  \\\nMC_A_6xiii_clipped_cut_lined       MC           A               6         x   \nMC_A_6xi_clipped_cut_lined         MC           A               6         x   \nMC_A_8xiii_clipped_cut_lined       MC           A               8         x   \nMC_B_6xiii_clipped_cut_lined       MC           B               6         x   \nMC_B_6xii_clipped_cut_lined        MC           B               6         x   \n\n                             running_number  \\\nMC_A_6xiii_clipped_cut_lined            iii   \nMC_A_6xi_clipped_cut_lined                i   \nMC_A_8xiii_clipped_cut_lined            iii   \nMC_B_6xiii_clipped_cut_lined            iii   \nMC_B_6xii_clipped_cut_lined              ii   \n\n                                                                           data  \nMC_A_6xiii_clipped_cut_lined  group                                         ...  \nMC_A_6xi_clipped_cut_lined    group                                         ...  \nMC_A_8xiii_clipped_cut_lined  group                                         ...  \nMC_B_6xiii_clipped_cut_lined  group                                         ...  \nMC_B_6xii_clipped_cut_lined   group                                         ...  ",
      "text/html": "<div>\n<style scoped>\n    .dataframe tbody tr th:only-of-type {\n        vertical-align: middle;\n    }\n\n    .dataframe tbody tr th {\n        vertical-align: top;\n    }\n\n    .dataframe thead th {\n        text-align: right;\n    }\n</style>\n<table border=\"1\" class=\"dataframe\">\n  <thead>\n    <tr style=\"text-align: right;\">\n      <th></th>\n      <th>paths</th>\n      <th>ok</th>\n      <th>crack</th>\n      <th>pos</th>\n      <th>left_12-5</th>\n      <th>step_start</th>\n      <th>step_stop</th>\n      <th>index</th>\n      <th>material</th>\n      <th>senergie/GW</th>\n      <th>plate_thickness</th>\n      <th>testspeed</th>\n      <th>running_number</th>\n      <th>data</th>\n    </tr>\n  </thead>\n  <tbody>\n    <tr>\n      <th>MC_A_6xiii_clipped_cut_lined</th>\n      <td>Y:\\Istra Repositories\\ch-gr_exports\\MC_A_6xiii...</td>\n      <td>1.0</td>\n      <td>115.0</td>\n      <td>119.0</td>\n      <td>99.0</td>\n      <td>45.0</td>\n      <td>187.5</td>\n      <td>MC_A_6xiii_clipped_cut_lined</td>\n      <td>MC</td>\n      <td>A</td>\n      <td>6</td>\n      <td>x</td>\n      <td>iii</td>\n      <td>group                                         ...</td>\n    </tr>\n    <tr>\n      <th>MC_A_6xi_clipped_cut_lined</th>\n      <td>Y:\\Istra Repositories\\ch-gr_exports\\MC_A_6xi_c...</td>\n      <td>1.0</td>\n      <td>135.0</td>\n      <td>143.0</td>\n      <td>123.0</td>\n      <td>110.0</td>\n      <td>230.0</td>\n      <td>MC_A_6xi_clipped_cut_lined</td>\n      <td>MC</td>\n      <td>A</td>\n      <td>6</td>\n      <td>x</td>\n      <td>i</td>\n      <td>group                                         ...</td>\n    </tr>\n    <tr>\n      <th>MC_A_8xiii_clipped_cut_lined</th>\n      <td>Y:\\Istra Repositories\\ch-gr_exports\\MC_A_8xiii...</td>\n      <td>1.0</td>\n      <td>170.0</td>\n      <td>117.5</td>\n      <td>97.5</td>\n      <td>32.5</td>\n      <td>355.0</td>\n      <td>MC_A_8xiii_clipped_cut_lined</td>\n      <td>MC</td>\n      <td>A</td>\n      <td>8</td>\n      <td>x</td>\n      <td>iii</td>\n      <td>group                                         ...</td>\n    </tr>\n    <tr>\n      <th>MC_B_6xiii_clipped_cut_lined</th>\n      <td>Y:\\Istra Repositories\\ch-gr_exports\\MC_B_6xiii...</td>\n      <td>1.0</td>\n      <td>90.0</td>\n      <td>90.0</td>\n      <td>70.0</td>\n      <td>37.5</td>\n      <td>172.5</td>\n      <td>MC_B_6xiii_clipped_cut_lined</td>\n      <td>MC</td>\n      <td>B</td>\n      <td>6</td>\n      <td>x</td>\n      <td>iii</td>\n      <td>group                                         ...</td>\n    </tr>\n    <tr>\n      <th>MC_B_6xii_clipped_cut_lined</th>\n      <td>Y:\\Istra Repositories\\ch-gr_exports\\MC_B_6xii_...</td>\n      <td>1.0</td>\n      <td>122.0</td>\n      <td>121.0</td>\n      <td>101.0</td>\n      <td>27.5</td>\n      <td>160.0</td>\n      <td>MC_B_6xii_clipped_cut_lined</td>\n      <td>MC</td>\n      <td>B</td>\n      <td>6</td>\n      <td>x</td>\n      <td>ii</td>\n      <td>group                                         ...</td>\n    </tr>\n  </tbody>\n</table>\n</div>"
     },
     "metadata": {},
     "output_type": "display_data"
    }
   ],
   "source": [
    "over_df_index=[x.split('\\\\')[-1].split('.')[0] for x in files]\n",
    "tests_df=pd.DataFrame(index=over_df_index)\n",
    "tests_df['paths']=files\n",
    "tests_df=tests_df.join(positions,how='left')\n",
    "tests_df['index']=tests_df.index\n",
    "tests_df['material']=tests_df['index'].apply(lambda x: x.split('_')[0])\n",
    "tests_df['senergie/GW']=tests_df['index'].apply(lambda x: x.split('_')[1])\n",
    "tests_df['plate_thickness']=tests_df['index'].apply(lambda x: x.split('_')[2][0])\n",
    "tests_df['testspeed']=tests_df['index'].apply(lambda x: x.split('_')[2][1])\n",
    "tests_df['running_number']=tests_df['index'].apply(lambda x: x.split('_')[2][2:])\n",
    "tests_df['data']=[pd.read_pickle(x, compression='zip') for x in tests_df['paths']]\n",
    "display(tests_df.head(5))\n",
    "#plt.plot(tests_df.crack)"
   ],
   "metadata": {
    "collapsed": false,
    "pycharm": {
     "name": "#%%\n"
    }
   }
  },
  {
   "cell_type": "code",
   "execution_count": 6,
   "outputs": [],
   "source": [
    "#display(test.data)"
   ],
   "metadata": {
    "collapsed": false,
    "pycharm": {
     "name": "#%%\n"
    }
   }
  },
  {
   "cell_type": "code",
   "execution_count": 7,
   "outputs": [
    {
     "data": {
      "text/plain": "<Figure size 432x288 with 1 Axes>",
      "image/png": "[encoded data removed]"
     },
     "metadata": {},
     "output_type": "display_data"
    }
   ],
   "source": [
    "test=tests_df.data[0]\n",
    "sample=tests_df['index'][0]\n",
    "def array_get_mask(array:np.ndarray)->pd.DataFrame:\n",
    "    df=pd.DataFrame(array)\n",
    "    after=df.copy()\n",
    "    after[after==0.]=np.nan\n",
    "    after=np.divide(after,after)\n",
    "    return(after)\n",
    "#mask=array_get_mask(test.iloc[10,:][('strains','strain_p1')])\n",
    "#plt.matshow(mask)\n",
    "def df_apply_mask(arr:np.ndarray,mask:np.ndarray)-> pd.DataFrame:\n",
    "    after=np.multiply(arr,mask)\n",
    "    after=pd.DataFrame(after)\n",
    "    after.dropna(how='all',axis=0,inplace=True)\n",
    "    after.dropna(how='all',axis=1,inplace=True)\n",
    "    return(after)\n",
    "#plt.matshow(df_apply_mask(array_get_mask(test.iloc[10,:][('strains','strain_p1')]),mask))\n",
    "def df_strip_nans(df):\n",
    "    after=df.copy()\n",
    "    after.dropna(how='all',axis=0,inplace=True)\n",
    "    after.dropna(how='all',axis=1,inplace=True)\n",
    "    return(after)\n",
    "def df_get_idx_from_mm(sample:str,data:pd.DataFrame,sdix,cdix,left:int,right:int):\n",
    "    mask=array_get_mask(data.iloc[10,:][('strains','strain_p1')])\n",
    "    horizontal_measured_mm=data.iloc[10,:][('coordinates','coordinate_y')]\n",
    "    measurement_dict=horizontal_measured_mm.to_dict()\n",
    "    measurement_lookup_df=pd.DataFrame(data=measurement_dict.values(), index=measurement_dict.keys(),columns=['mm'])\n",
    "    #display(measurement_lookup_df)\n",
    "    crack_idx=int(cdix)\n",
    "    seam_idx=int(sdix)\n",
    "\n",
    "    seam_pos_y_mm=measurement_lookup_df.loc[seam_idx,'mm']\n",
    "    left_pos_y_mm=seam_pos_y_mm-left\n",
    "    right_pos_y_mm=seam_pos_y_mm-right\n",
    "\n",
    "    left_pos_y_idx=measurement_lookup_df.iloc[(measurement_lookup_df['mm']-left_pos_y_mm).abs().argsort()[:1]].index.tolist()[0]\n",
    "    right_pos_y_idx=measurement_lookup_df.iloc[(measurement_lookup_df['mm']-right_pos_y_mm).abs().argsort()[:1]].index.tolist()[0]\n",
    "\n",
    "    \"\"\"fig,ax=plt.subplots(figsize=(20,5))\n",
    "    ax.matshow(df_apply_mask(data.iloc[150,:][('strains','strain_p1')],mask))\n",
    "    ax.axvline(left_pos_y_idx,c='red')\n",
    "    ax.axvline(right_pos_y_idx,c='yellow')\n",
    "    plt.show()\"\"\"\n",
    "    return(seam_idx,left_pos_y_idx,right_pos_y_idx)\n",
    "def df_extract_roi_on_idx(roi_base,left,right):\n",
    "    roi_base=pd.DataFrame(roi_base).copy()\n",
    "\n",
    "    roi_base.loc[:,:left]=np.nan\n",
    "    roi_base.loc[:,right:]=np.nan\n",
    "    return(roi_base)\n",
    "#df_get_idx_from_mm(sample,lookup,positions,-20,-18)\n",
    "borders=df_get_idx_from_mm(sample,test,119.0,115.0,-35,-33)\n",
    "fig,ax=plt.subplots()\n",
    "ax.plot(tests_df.data[0].iloc[-10,6])#.loc[borders[1]:borders[2]])\n",
    "ax.axvline(borders[1],color='red')\n",
    "ax.axvline(borders[2],color='blue')\n",
    "ax.axvline(borders[0],color='pink')\n",
    "plt.show()\n",
    "#plt.matshow(df_strip_nans(df_extract_roi_on_idx(df_apply_mask(array_get_mask(test.iloc[130,:][('strains','strain_p1')]),mask),borders[1],borders[2])))"
   ],
   "metadata": {
    "collapsed": false,
    "pycharm": {
     "name": "#%%\n"
    }
   }
  },
  {
   "cell_type": "code",
   "execution_count": 8,
   "outputs": [
    {
     "data": {
      "text/plain": "6     -23.113460\n7     -23.174919\n8     -23.230551\n9     -23.275849\n10    -23.328638\n         ...    \n194   -15.198407\n195   -15.143376\n196   -15.103652\n197   -15.046472\n198   -15.002882\nLength: 193, dtype: float64"
     },
     "metadata": {},
     "output_type": "display_data"
    }
   ],
   "source": [
    "display(test.iloc[0,3])\n",
    "\n"
   ],
   "metadata": {
    "collapsed": false,
    "pycharm": {
     "name": "#%%\n"
    }
   }
  },
  {
   "cell_type": "code",
   "execution_count": 326,
   "outputs": [],
   "source": [],
   "metadata": {
    "collapsed": false,
    "pycharm": {
     "name": "#%%\n"
    }
   }
  },
  {
   "cell_type": "code",
   "execution_count": 9,
   "outputs": [
    {
     "data": {
      "text/plain": "                                                                          paths  \\\nMC_A_6xiii_clipped_cut_lined  Y:\\Istra Repositories\\ch-gr_exports\\MC_A_6xiii...   \nMC_A_6xi_clipped_cut_lined    Y:\\Istra Repositories\\ch-gr_exports\\MC_A_6xi_c...   \nMC_A_8xiii_clipped_cut_lined  Y:\\Istra Repositories\\ch-gr_exports\\MC_A_8xiii...   \nMC_B_6xiii_clipped_cut_lined  Y:\\Istra Repositories\\ch-gr_exports\\MC_B_6xiii...   \nMC_B_6xii_clipped_cut_lined   Y:\\Istra Repositories\\ch-gr_exports\\MC_B_6xii_...   \n\n                               ok  crack    pos  left_12-5  step_start  \\\nMC_A_6xiii_clipped_cut_lined  1.0  115.0  119.0       99.0        45.0   \nMC_A_6xi_clipped_cut_lined    1.0  135.0  143.0      123.0       110.0   \nMC_A_8xiii_clipped_cut_lined  1.0  170.0  117.5       97.5        32.5   \nMC_B_6xiii_clipped_cut_lined  1.0   90.0   90.0       70.0        37.5   \nMC_B_6xii_clipped_cut_lined   1.0  122.0  121.0      101.0        27.5   \n\n                              step_stop                         index  \\\nMC_A_6xiii_clipped_cut_lined      187.5  MC_A_6xiii_clipped_cut_lined   \nMC_A_6xi_clipped_cut_lined        230.0    MC_A_6xi_clipped_cut_lined   \nMC_A_8xiii_clipped_cut_lined      355.0  MC_A_8xiii_clipped_cut_lined   \nMC_B_6xiii_clipped_cut_lined      172.5  MC_B_6xiii_clipped_cut_lined   \nMC_B_6xii_clipped_cut_lined       160.0   MC_B_6xii_clipped_cut_lined   \n\n                             material senergie/GW  ...     15_17  _idxs  \\\nMC_A_6xiii_clipped_cut_lined       MC           A  ...  (119, 157, 162)   \nMC_A_6xi_clipped_cut_lined         MC           A  ...  (143, 180, 185)   \nMC_A_8xiii_clipped_cut_lined       MC           A  ...  (117, 154, 159)   \nMC_B_6xiii_clipped_cut_lined       MC           B  ...   (90, 126, 131)   \nMC_B_6xii_clipped_cut_lined        MC           B  ...  (121, 159, 164)   \n\n                                 17_19  _idxs     19_21  _idxs  \\\nMC_A_6xiii_clipped_cut_lined  (119, 162, 167)  (119, 167, 172)   \nMC_A_6xi_clipped_cut_lined    (143, 185, 190)  (143, 190, 195)   \nMC_A_8xiii_clipped_cut_lined  (117, 159, 163)  (117, 163, 168)   \nMC_B_6xiii_clipped_cut_lined   (90, 131, 136)   (90, 136, 141)   \nMC_B_6xii_clipped_cut_lined   (121, 164, 169)  (121, 169, 174)   \n\n                                 21_23  _idxs     23_25  _idxs  \\\nMC_A_6xiii_clipped_cut_lined  (119, 172, 177)  (119, 177, 182)   \nMC_A_6xi_clipped_cut_lined    (143, 195, 200)  (143, 200, 200)   \nMC_A_8xiii_clipped_cut_lined  (117, 168, 173)  (117, 173, 178)   \nMC_B_6xiii_clipped_cut_lined   (90, 141, 146)   (90, 146, 151)   \nMC_B_6xii_clipped_cut_lined   (121, 174, 179)  (121, 179, 184)   \n\n                                 25_27  _idxs     27_29  _idxs  \\\nMC_A_6xiii_clipped_cut_lined  (119, 182, 187)  (119, 187, 192)   \nMC_A_6xi_clipped_cut_lined    (143, 200, 200)  (143, 200, 200)   \nMC_A_8xiii_clipped_cut_lined  (117, 178, 183)  (117, 183, 188)   \nMC_B_6xiii_clipped_cut_lined   (90, 151, 156)   (90, 156, 161)   \nMC_B_6xii_clipped_cut_lined   (121, 184, 189)  (121, 189, 194)   \n\n                                 29_31  _idxs     31_33  _idxs  \\\nMC_A_6xiii_clipped_cut_lined  (119, 192, 197)  (119, 197, 198)   \nMC_A_6xi_clipped_cut_lined    (143, 200, 200)  (143, 200, 200)   \nMC_A_8xiii_clipped_cut_lined  (117, 188, 193)  (117, 193, 198)   \nMC_B_6xiii_clipped_cut_lined   (90, 161, 165)   (90, 165, 170)   \nMC_B_6xii_clipped_cut_lined   (121, 194, 199)  (121, 199, 201)   \n\n                                 33_35  _idxs  \nMC_A_6xiii_clipped_cut_lined  (119, 198, 198)  \nMC_A_6xi_clipped_cut_lined    (143, 200, 200)  \nMC_A_8xiii_clipped_cut_lined  (117, 198, 201)  \nMC_B_6xiii_clipped_cut_lined   (90, 170, 175)  \nMC_B_6xii_clipped_cut_lined   (121, 201, 201)  \n\n[5 rows x 49 columns]",
      "text/html": "<div>\n<style scoped>\n    .dataframe tbody tr th:only-of-type {\n        vertical-align: middle;\n    }\n\n    .dataframe tbody tr th {\n        vertical-align: top;\n    }\n\n    .dataframe thead th {\n        text-align: right;\n    }\n</style>\n<table border=\"1\" class=\"dataframe\">\n  <thead>\n    <tr style=\"text-align: right;\">\n      <th></th>\n      <th>paths</th>\n      <th>ok</th>\n      <th>crack</th>\n      <th>pos</th>\n      <th>left_12-5</th>\n      <th>step_start</th>\n      <th>step_stop</th>\n      <th>index</th>\n      <th>material</th>\n      <th>senergie/GW</th>\n      <th>...</th>\n      <th>15_17  _idxs</th>\n      <th>17_19  _idxs</th>\n      <th>19_21  _idxs</th>\n      <th>21_23  _idxs</th>\n      <th>23_25  _idxs</th>\n      <th>25_27  _idxs</th>\n      <th>27_29  _idxs</th>\n      <th>29_31  _idxs</th>\n      <th>31_33  _idxs</th>\n      <th>33_35  _idxs</th>\n    </tr>\n  </thead>\n  <tbody>\n    <tr>\n      <th>MC_A_6xiii_clipped_cut_lined</th>\n      <td>Y:\\Istra Repositories\\ch-gr_exports\\MC_A_6xiii...</td>\n      <td>1.0</td>\n      <td>115.0</td>\n      <td>119.0</td>\n      <td>99.0</td>\n      <td>45.0</td>\n      <td>187.5</td>\n      <td>MC_A_6xiii_clipped_cut_lined</td>\n      <td>MC</td>\n      <td>A</td>\n      <td>...</td>\n      <td>(119, 157, 162)</td>\n      <td>(119, 162, 167)</td>\n      <td>(119, 167, 172)</td>\n      <td>(119, 172, 177)</td>\n      <td>(119, 177, 182)</td>\n      <td>(119, 182, 187)</td>\n      <td>(119, 187, 192)</td>\n      <td>(119, 192, 197)</td>\n      <td>(119, 197, 198)</td>\n      <td>(119, 198, 198)</td>\n    </tr>\n    <tr>\n      <th>MC_A_6xi_clipped_cut_lined</th>\n      <td>Y:\\Istra Repositories\\ch-gr_exports\\MC_A_6xi_c...</td>\n      <td>1.0</td>\n      <td>135.0</td>\n      <td>143.0</td>\n      <td>123.0</td>\n      <td>110.0</td>\n      <td>230.0</td>\n      <td>MC_A_6xi_clipped_cut_lined</td>\n      <td>MC</td>\n      <td>A</td>\n      <td>...</td>\n      <td>(143, 180, 185)</td>\n      <td>(143, 185, 190)</td>\n      <td>(143, 190, 195)</td>\n      <td>(143, 195, 200)</td>\n      <td>(143, 200, 200)</td>\n      <td>(143, 200, 200)</td>\n      <td>(143, 200, 200)</td>\n      <td>(143, 200, 200)</td>\n      <td>(143, 200, 200)</td>\n      <td>(143, 200, 200)</td>\n    </tr>\n    <tr>\n      <th>MC_A_8xiii_clipped_cut_lined</th>\n      <td>Y:\\Istra Repositories\\ch-gr_exports\\MC_A_8xiii...</td>\n      <td>1.0</td>\n      <td>170.0</td>\n      <td>117.5</td>\n      <td>97.5</td>\n      <td>32.5</td>\n      <td>355.0</td>\n      <td>MC_A_8xiii_clipped_cut_lined</td>\n      <td>MC</td>\n      <td>A</td>\n      <td>...</td>\n      <td>(117, 154, 159)</td>\n      <td>(117, 159, 163)</td>\n      <td>(117, 163, 168)</td>\n      <td>(117, 168, 173)</td>\n      <td>(117, 173, 178)</td>\n      <td>(117, 178, 183)</td>\n      <td>(117, 183, 188)</td>\n      <td>(117, 188, 193)</td>\n      <td>(117, 193, 198)</td>\n      <td>(117, 198, 201)</td>\n    </tr>\n    <tr>\n      <th>MC_B_6xiii_clipped_cut_lined</th>\n      <td>Y:\\Istra Repositories\\ch-gr_exports\\MC_B_6xiii...</td>\n      <td>1.0</td>\n      <td>90.0</td>\n      <td>90.0</td>\n      <td>70.0</td>\n      <td>37.5</td>\n      <td>172.5</td>\n      <td>MC_B_6xiii_clipped_cut_lined</td>\n      <td>MC</td>\n      <td>B</td>\n      <td>...</td>\n      <td>(90, 126, 131)</td>\n      <td>(90, 131, 136)</td>\n      <td>(90, 136, 141)</td>\n      <td>(90, 141, 146)</td>\n      <td>(90, 146, 151)</td>\n      <td>(90, 151, 156)</td>\n      <td>(90, 156, 161)</td>\n      <td>(90, 161, 165)</td>\n      <td>(90, 165, 170)</td>\n      <td>(90, 170, 175)</td>\n    </tr>\n    <tr>\n      <th>MC_B_6xii_clipped_cut_lined</th>\n      <td>Y:\\Istra Repositories\\ch-gr_exports\\MC_B_6xii_...</td>\n      <td>1.0</td>\n      <td>122.0</td>\n      <td>121.0</td>\n      <td>101.0</td>\n      <td>27.5</td>\n      <td>160.0</td>\n      <td>MC_B_6xii_clipped_cut_lined</td>\n      <td>MC</td>\n      <td>B</td>\n      <td>...</td>\n      <td>(121, 159, 164)</td>\n      <td>(121, 164, 169)</td>\n      <td>(121, 169, 174)</td>\n      <td>(121, 174, 179)</td>\n      <td>(121, 179, 184)</td>\n      <td>(121, 184, 189)</td>\n      <td>(121, 189, 194)</td>\n      <td>(121, 194, 199)</td>\n      <td>(121, 199, 201)</td>\n      <td>(121, 201, 201)</td>\n    </tr>\n  </tbody>\n</table>\n<p>5 rows × 49 columns</p>\n</div>"
     },
     "metadata": {},
     "output_type": "display_data"
    },
    {
     "data": {
      "text/plain": "<Figure size 432x288 with 1 Axes>",
      "image/png": "[encoded data removed]"
     },
     "metadata": {},
     "output_type": "display_data"
    }
   ],
   "source": [
    "def idx_runner(tests_df):\n",
    "    tests_df['-35_-33_idxs']  =  tests_df['index'].apply(lambda x:df_get_idx_from_mm(x,tests_df.loc[x,'data'],tests_df.loc[x,'pos'],tests_df.loc[x,'crack'],-35,-33))\n",
    "    tests_df['-33_-31_idxs']  =  tests_df['index'].apply(lambda x:df_get_idx_from_mm(x,tests_df.loc[x,'data'],tests_df.loc[x,'pos'],tests_df.loc[x,'crack'],-33,-31))\n",
    "    tests_df['-31_-29_idxs']  =  tests_df['index'].apply(lambda x:df_get_idx_from_mm(x,tests_df.loc[x,'data'],tests_df.loc[x,'pos'],tests_df.loc[x,'crack'],-31,-29))\n",
    "    tests_df['-29_-27_idxs']  =  tests_df['index'].apply(lambda x:df_get_idx_from_mm(x,tests_df.loc[x,'data'],tests_df.loc[x,'pos'],tests_df.loc[x,'crack'],-29,-27))\n",
    "    tests_df['-27_-25_idxs']  =  tests_df['index'].apply(lambda x:df_get_idx_from_mm(x,tests_df.loc[x,'data'],tests_df.loc[x,'pos'],tests_df.loc[x,'crack'],-27,-25))\n",
    "    tests_df['-25_-23_idxs']  =  tests_df['index'].apply(lambda x:df_get_idx_from_mm(x,tests_df.loc[x,'data'],tests_df.loc[x,'pos'],tests_df.loc[x,'crack'],-25,-23))\n",
    "    tests_df['-23_-21_idxs']  =  tests_df['index'].apply(lambda x:df_get_idx_from_mm(x,tests_df.loc[x,'data'],tests_df.loc[x,'pos'],tests_df.loc[x,'crack'],-23,-21))\n",
    "    tests_df['-21_-19_idxs']  =  tests_df['index'].apply(lambda x:df_get_idx_from_mm(x,tests_df.loc[x,'data'],tests_df.loc[x,'pos'],tests_df.loc[x,'crack'],-21,-19))\n",
    "    tests_df['-19_-17_idxs']  =  tests_df['index'].apply(lambda x:df_get_idx_from_mm(x,tests_df.loc[x,'data'],tests_df.loc[x,'pos'],tests_df.loc[x,'crack'],-19,-17))\n",
    "    tests_df['-17_-15_idxs']  =  tests_df['index'].apply(lambda x:df_get_idx_from_mm(x,tests_df.loc[x,'data'],tests_df.loc[x,'pos'],tests_df.loc[x,'crack'],-17,-15))\n",
    "    tests_df['-15_-13_idxs']  =  tests_df['index'].apply(lambda x:df_get_idx_from_mm(x,tests_df.loc[x,'data'],tests_df.loc[x,'pos'],tests_df.loc[x,'crack'],-15,-13))\n",
    "    tests_df['-13_-11_idxs']  =  tests_df['index'].apply(lambda x:df_get_idx_from_mm(x,tests_df.loc[x,'data'],tests_df.loc[x,'pos'],tests_df.loc[x,'crack'],-13,-11))\n",
    "    tests_df['-11_-9 _idxs']  =  tests_df['index'].apply(lambda x:df_get_idx_from_mm(x,tests_df.loc[x,'data'],tests_df.loc[x,'pos'],tests_df.loc[x,'crack'],-11,-9))\n",
    "    tests_df['-9_-7  _idxs']  =  tests_df['index'].apply(lambda x:df_get_idx_from_mm(x,tests_df.loc[x,'data'],tests_df.loc[x,'pos'],tests_df.loc[x,'crack'],-9,-7))\n",
    "    tests_df['-7_-5  _idxs']  =  tests_df['index'].apply(lambda x:df_get_idx_from_mm(x,tests_df.loc[x,'data'],tests_df.loc[x,'pos'],tests_df.loc[x,'crack'],-7,-5))\n",
    "    tests_df['-5_-3  _idxs']  =  tests_df['index'].apply(lambda x:df_get_idx_from_mm(x,tests_df.loc[x,'data'],tests_df.loc[x,'pos'],tests_df.loc[x,'crack'],-5,-3))\n",
    "    tests_df['-3_-1  _idxs']  =  tests_df['index'].apply(lambda x:df_get_idx_from_mm(x,tests_df.loc[x,'data'],tests_df.loc[x,'pos'],tests_df.loc[x,'crack'],-3,-1))\n",
    "    tests_df['-1_1   _idxs']  =  tests_df['index'].apply(lambda x:df_get_idx_from_mm(x,tests_df.loc[x,'data'],tests_df.loc[x,'pos'],tests_df.loc[x,'crack'],-1,1))\n",
    "    tests_df['1_3    _idxs']  =  tests_df['index'].apply(lambda x:df_get_idx_from_mm(x,tests_df.loc[x,'data'],tests_df.loc[x,'pos'],tests_df.loc[x,'crack'],1,3))\n",
    "    tests_df['3_5    _idxs']  =  tests_df['index'].apply(lambda x:df_get_idx_from_mm(x,tests_df.loc[x,'data'],tests_df.loc[x,'pos'],tests_df.loc[x,'crack'],3,5))\n",
    "    tests_df['5_7    _idxs']  =  tests_df['index'].apply(lambda x:df_get_idx_from_mm(x,tests_df.loc[x,'data'],tests_df.loc[x,'pos'],tests_df.loc[x,'crack'],5,7))\n",
    "    tests_df['7_9    _idxs']  =  tests_df['index'].apply(lambda x:df_get_idx_from_mm(x,tests_df.loc[x,'data'],tests_df.loc[x,'pos'],tests_df.loc[x,'crack'],7,9))\n",
    "    tests_df['9_11   _idxs']  =  tests_df['index'].apply(lambda x:df_get_idx_from_mm(x,tests_df.loc[x,'data'],tests_df.loc[x,'pos'],tests_df.loc[x,'crack'],9,11))\n",
    "    tests_df['11_13  _idxs']  =  tests_df['index'].apply(lambda x:df_get_idx_from_mm(x,tests_df.loc[x,'data'],tests_df.loc[x,'pos'],tests_df.loc[x,'crack'],11,13))\n",
    "    tests_df['13_15  _idxs']  =  tests_df['index'].apply(lambda x:df_get_idx_from_mm(x,tests_df.loc[x,'data'],tests_df.loc[x,'pos'],tests_df.loc[x,'crack'],13,15))\n",
    "    tests_df['15_17  _idxs']  =  tests_df['index'].apply(lambda x:df_get_idx_from_mm(x,tests_df.loc[x,'data'],tests_df.loc[x,'pos'],tests_df.loc[x,'crack'],15,17))\n",
    "    tests_df['17_19  _idxs']  =  tests_df['index'].apply(lambda x:df_get_idx_from_mm(x,tests_df.loc[x,'data'],tests_df.loc[x,'pos'],tests_df.loc[x,'crack'],17,19))\n",
    "    tests_df['19_21  _idxs']  =  tests_df['index'].apply(lambda x:df_get_idx_from_mm(x,tests_df.loc[x,'data'],tests_df.loc[x,'pos'],tests_df.loc[x,'crack'],19,21))\n",
    "    tests_df['21_23  _idxs']  =  tests_df['index'].apply(lambda x:df_get_idx_from_mm(x,tests_df.loc[x,'data'],tests_df.loc[x,'pos'],tests_df.loc[x,'crack'],21,23))\n",
    "    tests_df['23_25  _idxs']  =  tests_df['index'].apply(lambda x:df_get_idx_from_mm(x,tests_df.loc[x,'data'],tests_df.loc[x,'pos'],tests_df.loc[x,'crack'],23,25))\n",
    "    tests_df['25_27  _idxs']  =  tests_df['index'].apply(lambda x:df_get_idx_from_mm(x,tests_df.loc[x,'data'],tests_df.loc[x,'pos'],tests_df.loc[x,'crack'],25,27))\n",
    "    tests_df['27_29  _idxs']  =  tests_df['index'].apply(lambda x:df_get_idx_from_mm(x,tests_df.loc[x,'data'],tests_df.loc[x,'pos'],tests_df.loc[x,'crack'],27,29))\n",
    "    tests_df['29_31  _idxs']  =  tests_df['index'].apply(lambda x:df_get_idx_from_mm(x,tests_df.loc[x,'data'],tests_df.loc[x,'pos'],tests_df.loc[x,'crack'],29,31))\n",
    "    tests_df['31_33  _idxs']  =  tests_df['index'].apply(lambda x:df_get_idx_from_mm(x,tests_df.loc[x,'data'],tests_df.loc[x,'pos'],tests_df.loc[x,'crack'],31,33))\n",
    "    tests_df['33_35  _idxs']  =  tests_df['index'].apply(lambda x:df_get_idx_from_mm(x,tests_df.loc[x,'data'],tests_df.loc[x,'pos'],tests_df.loc[x,'crack'],33,35))\n",
    "    return (tests_df)\n",
    "tests_df=idx_runner(tests_df)\n",
    "display(tests_df.head())\n",
    "\n",
    "fig,ax=plt.subplots()\n",
    "ax.plot(tests_df.data[0].iloc[-10,6])\n",
    "ax.axvline(tests_df['-35_-33_idxs'][0][1],color='red')\n",
    "ax.axvline(tests_df['-35_-33_idxs'][0][2],color='blue')\n",
    "ax.axvline(tests_df['-35_-33_idxs'][0][0],color='pink')\n",
    "plt.show()\n",
    "test=tests_df"
   ],
   "metadata": {
    "collapsed": false,
    "pycharm": {
     "name": "#%%\n"
    }
   }
  },
  {
   "cell_type": "code",
   "execution_count": 10,
   "outputs": [
    {
     "data": {
      "text/plain": "Index(['paths', 'ok', 'crack', 'pos', 'left_12-5', 'step_start', 'step_stop',\n       'index', 'material', 'senergie/GW', 'plate_thickness', 'testspeed',\n       'running_number', 'data', '-35_-33_idxs', '-33_-31_idxs',\n       '-31_-29_idxs', '-29_-27_idxs', '-27_-25_idxs', '-25_-23_idxs',\n       '-23_-21_idxs', '-21_-19_idxs', '-19_-17_idxs', '-17_-15_idxs',\n       '-15_-13_idxs', '-13_-11_idxs', '-11_-9 _idxs', '-9_-7  _idxs',\n       '-7_-5  _idxs', '-5_-3  _idxs', '-3_-1  _idxs', '-1_1   _idxs',\n       '1_3    _idxs', '3_5    _idxs', '5_7    _idxs', '7_9    _idxs',\n       '9_11   _idxs', '11_13  _idxs', '13_15  _idxs', '15_17  _idxs',\n       '17_19  _idxs', '19_21  _idxs', '21_23  _idxs', '23_25  _idxs',\n       '25_27  _idxs', '27_29  _idxs', '29_31  _idxs', '31_33  _idxs',\n       '33_35  _idxs'],\n      dtype='object')"
     },
     "metadata": {},
     "output_type": "display_data"
    },
    {
     "data": {
      "text/plain": "(142, 10)"
     },
     "metadata": {},
     "output_type": "display_data"
    },
    {
     "data": {
      "text/plain": "<Figure size 432x288 with 1 Axes>",
      "image/png": "[encoded data removed]"
     },
     "metadata": {},
     "output_type": "display_data"
    }
   ],
   "source": [
    "\n",
    "def df_loc_strain(df,left,right):\n",
    "    strain_p1=[]\n",
    "    for i in df.index:\n",
    "        strain_p1.append(df.loc[i,(      'strains',          'strain_p1')].loc[left:right].mean())\n",
    "    #display(strain_p1)\n",
    "    #plt.plot(strain_p1)\n",
    "    return(strain_p1)\n",
    "\n",
    "display(tests_df.columns)\n",
    "plt.plot(df_loc_strain(tests_df.data[0],tests_df['15_17  _idxs'][0][1],tests_df['15_17  _idxs'][0][2]))\n",
    "display(tests_df.data[0].shape)"
   ],
   "metadata": {
    "collapsed": false,
    "pycharm": {
     "name": "#%%\n"
    }
   }
  },
  {
   "cell_type": "code",
   "execution_count": 11,
   "outputs": [
    {
     "data": {
      "text/plain": "Index(['paths', 'ok', 'crack', 'pos', 'left_12-5', 'step_start', 'step_stop',\n       'index', 'material', 'senergie/GW', 'plate_thickness', 'testspeed',\n       'running_number', 'data', '-35_-33_idxs', '-33_-31_idxs',\n       '-31_-29_idxs', '-29_-27_idxs', '-27_-25_idxs', '-25_-23_idxs',\n       '-23_-21_idxs', '-21_-19_idxs', '-19_-17_idxs', '-17_-15_idxs',\n       '-15_-13_idxs', '-13_-11_idxs', '-11_-9 _idxs', '-9_-7  _idxs',\n       '-7_-5  _idxs', '-5_-3  _idxs', '-3_-1  _idxs', '-1_1   _idxs',\n       '1_3    _idxs', '3_5    _idxs', '5_7    _idxs', '7_9    _idxs',\n       '9_11   _idxs', '11_13  _idxs', '13_15  _idxs', '15_17  _idxs',\n       '17_19  _idxs', '19_21  _idxs', '21_23  _idxs', '23_25  _idxs',\n       '25_27  _idxs', '27_29  _idxs', '29_31  _idxs', '31_33  _idxs',\n       '33_35  _idxs', '-35_-33_strain_p1', '-33_-31_strain_p1',\n       '-31_-29_strain_p1', '-29_-27_strain_p1', '-27_-25_strain_p1',\n       '-25_-23_strain_p1', '-23_-21_strain_p1', '-21_-19_strain_p1',\n       '-19_-17_strain_p1', '-17_-15_strain_p1', '-15_-13_strain_p1',\n       '-13_-11_strain_p1', '-11_-9 _strain_p1', '-9_-7  _strain_p1',\n       '-7_-5  _strain_p1', '-5_-3  _strain_p1', '-3_-1  _strain_p1',\n       '-1_1   _strain_p1', '1_3    _strain_p1', '3_5    _strain_p1',\n       '5_7    _strain_p1', '7_9    _strain_p1', '9_11   _strain_p1',\n       '11_13  _strain_p1', '13_15  _strain_p1', '15_17  _strain_p1',\n       '17_19  _strain_p1', '19_21  _strain_p1', '21_23  _strain_p1',\n       '23_25  _strain_p1', '25_27  _strain_p1', '27_29  _strain_p1',\n       '29_31  _strain_p1', '31_33  _strain_p1', '33_35  _strain_p1'],\n      dtype='object')"
     },
     "metadata": {},
     "output_type": "display_data"
    },
    {
     "data": {
      "text/plain": "[<matplotlib.lines.Line2D at 0x20f03c141c0>]"
     },
     "execution_count": 11,
     "metadata": {},
     "output_type": "execute_result"
    },
    {
     "data": {
      "text/plain": "<Figure size 432x288 with 1 Axes>",
      "image/png": "[encoded data removed]"
     },
     "metadata": {},
     "output_type": "display_data"
    }
   ],
   "source": [
    "tests_df['-35_-33_strain_p1']  = [ df_loc_strain(tests_df.loc[i,'data'],tests_df.loc[i,'-35_-33_idxs'][1],tests_df.loc[i,'-35_-33_idxs'][2]) for i in tests_df.index]\n",
    "tests_df['-33_-31_strain_p1']  = [ df_loc_strain(tests_df.loc[i,'data'],tests_df.loc[i,'-33_-31_idxs'][1],tests_df.loc[i,'-33_-31_idxs'][2]) for i in tests_df.index]\n",
    "tests_df['-31_-29_strain_p1']  = [ df_loc_strain(tests_df.loc[i,'data'],tests_df.loc[i,'-31_-29_idxs'][1],tests_df.loc[i,'-31_-29_idxs'][2]) for i in tests_df.index]\n",
    "tests_df['-29_-27_strain_p1']  = [ df_loc_strain(tests_df.loc[i,'data'],tests_df.loc[i,'-29_-27_idxs'][1],tests_df.loc[i,'-29_-27_idxs'][2]) for i in tests_df.index]\n",
    "tests_df['-27_-25_strain_p1']  = [ df_loc_strain(tests_df.loc[i,'data'],tests_df.loc[i,'-27_-25_idxs'][1],tests_df.loc[i,'-27_-25_idxs'][2]) for i in tests_df.index]\n",
    "tests_df['-25_-23_strain_p1']  = [ df_loc_strain(tests_df.loc[i,'data'],tests_df.loc[i,'-25_-23_idxs'][1],tests_df.loc[i,'-25_-23_idxs'][2]) for i in tests_df.index]\n",
    "tests_df['-23_-21_strain_p1']  = [ df_loc_strain(tests_df.loc[i,'data'],tests_df.loc[i,'-23_-21_idxs'][1],tests_df.loc[i,'-23_-21_idxs'][2]) for i in tests_df.index]\n",
    "tests_df['-21_-19_strain_p1']  = [ df_loc_strain(tests_df.loc[i,'data'],tests_df.loc[i,'-21_-19_idxs'][1],tests_df.loc[i,'-21_-19_idxs'][2]) for i in tests_df.index]\n",
    "tests_df['-19_-17_strain_p1']  = [ df_loc_strain(tests_df.loc[i,'data'],tests_df.loc[i,'-19_-17_idxs'][1],tests_df.loc[i,'-19_-17_idxs'][2]) for i in tests_df.index]\n",
    "tests_df['-17_-15_strain_p1']  = [ df_loc_strain(tests_df.loc[i,'data'],tests_df.loc[i,'-17_-15_idxs'][1],tests_df.loc[i,'-17_-15_idxs'][2]) for i in tests_df.index]\n",
    "tests_df['-15_-13_strain_p1']  = [ df_loc_strain(tests_df.loc[i,'data'],tests_df.loc[i,'-15_-13_idxs'][1],tests_df.loc[i,'-15_-13_idxs'][2]) for i in tests_df.index]\n",
    "tests_df['-13_-11_strain_p1']  = [ df_loc_strain(tests_df.loc[i,'data'],tests_df.loc[i,'-13_-11_idxs'][1],tests_df.loc[i,'-13_-11_idxs'][2]) for i in tests_df.index]\n",
    "tests_df['-11_-9 _strain_p1']  = [ df_loc_strain(tests_df.loc[i,'data'],tests_df.loc[i,'-11_-9 _idxs'][1],tests_df.loc[i,'-11_-9 _idxs'][2]) for i in tests_df.index]\n",
    "tests_df['-9_-7  _strain_p1']  = [ df_loc_strain(tests_df.loc[i,'data'],tests_df.loc[i,'-9_-7  _idxs'][1],tests_df.loc[i,'-9_-7  _idxs'][2]) for i in tests_df.index]\n",
    "tests_df['-7_-5  _strain_p1']  = [ df_loc_strain(tests_df.loc[i,'data'],tests_df.loc[i,'-7_-5  _idxs'][1],tests_df.loc[i,'-7_-5  _idxs'][2]) for i in tests_df.index]\n",
    "tests_df['-5_-3  _strain_p1']  = [ df_loc_strain(tests_df.loc[i,'data'],tests_df.loc[i,'-5_-3  _idxs'][1],tests_df.loc[i,'-5_-3  _idxs'][2]) for i in tests_df.index]\n",
    "tests_df['-3_-1  _strain_p1']  = [ df_loc_strain(tests_df.loc[i,'data'],tests_df.loc[i,'-3_-1  _idxs'][1],tests_df.loc[i,'-3_-1  _idxs'][2]) for i in tests_df.index]\n",
    "tests_df['-1_1   _strain_p1']  = [ df_loc_strain(tests_df.loc[i,'data'],tests_df.loc[i,'-1_1   _idxs'][1],tests_df.loc[i,'-1_1   _idxs'][2]) for i in tests_df.index]\n",
    "tests_df['1_3    _strain_p1']  = [ df_loc_strain(tests_df.loc[i,'data'],tests_df.loc[i,'1_3    _idxs'][1],tests_df.loc[i,'1_3    _idxs'][2]) for i in tests_df.index]\n",
    "tests_df['3_5    _strain_p1']  = [ df_loc_strain(tests_df.loc[i,'data'],tests_df.loc[i,'3_5    _idxs'][1],tests_df.loc[i,'3_5    _idxs'][2]) for i in tests_df.index]\n",
    "tests_df['5_7    _strain_p1']  = [ df_loc_strain(tests_df.loc[i,'data'],tests_df.loc[i,'5_7    _idxs'][1],tests_df.loc[i,'5_7    _idxs'][2]) for i in tests_df.index]\n",
    "tests_df['7_9    _strain_p1']  = [ df_loc_strain(tests_df.loc[i,'data'],tests_df.loc[i,'7_9    _idxs'][1],tests_df.loc[i,'7_9    _idxs'][2]) for i in tests_df.index]\n",
    "tests_df['9_11   _strain_p1']  = [ df_loc_strain(tests_df.loc[i,'data'],tests_df.loc[i,'9_11   _idxs'][1],tests_df.loc[i,'9_11   _idxs'][2]) for i in tests_df.index]\n",
    "tests_df['11_13  _strain_p1']  = [ df_loc_strain(tests_df.loc[i,'data'],tests_df.loc[i,'11_13  _idxs'][1],tests_df.loc[i,'11_13  _idxs'][2]) for i in tests_df.index]\n",
    "tests_df['13_15  _strain_p1']  = [ df_loc_strain(tests_df.loc[i,'data'],tests_df.loc[i,'13_15  _idxs'][1],tests_df.loc[i,'13_15  _idxs'][2]) for i in tests_df.index]\n",
    "tests_df['15_17  _strain_p1']  = [ df_loc_strain(tests_df.loc[i,'data'],tests_df.loc[i,'15_17  _idxs'][1],tests_df.loc[i,'15_17  _idxs'][2]) for i in tests_df.index]\n",
    "tests_df['17_19  _strain_p1']  = [ df_loc_strain(tests_df.loc[i,'data'],tests_df.loc[i,'17_19  _idxs'][1],tests_df.loc[i,'17_19  _idxs'][2]) for i in tests_df.index]\n",
    "tests_df['19_21  _strain_p1']  = [ df_loc_strain(tests_df.loc[i,'data'],tests_df.loc[i,'19_21  _idxs'][1],tests_df.loc[i,'19_21  _idxs'][2]) for i in tests_df.index]\n",
    "tests_df['21_23  _strain_p1']  = [ df_loc_strain(tests_df.loc[i,'data'],tests_df.loc[i,'21_23  _idxs'][1],tests_df.loc[i,'21_23  _idxs'][2]) for i in tests_df.index]\n",
    "tests_df['23_25  _strain_p1']  = [ df_loc_strain(tests_df.loc[i,'data'],tests_df.loc[i,'23_25  _idxs'][1],tests_df.loc[i,'23_25  _idxs'][2]) for i in tests_df.index]\n",
    "tests_df['25_27  _strain_p1']  = [ df_loc_strain(tests_df.loc[i,'data'],tests_df.loc[i,'25_27  _idxs'][1],tests_df.loc[i,'25_27  _idxs'][2]) for i in tests_df.index]\n",
    "tests_df['27_29  _strain_p1']  = [ df_loc_strain(tests_df.loc[i,'data'],tests_df.loc[i,'27_29  _idxs'][1],tests_df.loc[i,'27_29  _idxs'][2]) for i in tests_df.index]\n",
    "tests_df['29_31  _strain_p1']  = [ df_loc_strain(tests_df.loc[i,'data'],tests_df.loc[i,'29_31  _idxs'][1],tests_df.loc[i,'29_31  _idxs'][2]) for i in tests_df.index]\n",
    "tests_df['31_33  _strain_p1']  = [ df_loc_strain(tests_df.loc[i,'data'],tests_df.loc[i,'31_33  _idxs'][1],tests_df.loc[i,'31_33  _idxs'][2]) for i in tests_df.index]\n",
    "tests_df['33_35  _strain_p1']  = [ df_loc_strain(tests_df.loc[i,'data'],tests_df.loc[i,'33_35  _idxs'][1],tests_df.loc[i,'33_35  _idxs'][2]) for i in tests_df.index]\n",
    "display(tests_df.columns)\n",
    "plt.plot(tests_df['9_11   _strain_p1'][0])\n"
   ],
   "metadata": {
    "collapsed": false,
    "pycharm": {
     "name": "#%%\n"
    }
   }
  },
  {
   "cell_type": "code",
   "execution_count": 12,
   "outputs": [
    {
     "data": {
      "text/plain": "<Figure size 432x288 with 1 Axes>",
      "image/png": "[encoded data removed]"
     },
     "metadata": {},
     "output_type": "display_data"
    }
   ],
   "source": [
    "def force_extractor(series):\n",
    "    series=series.copy()\n",
    "    force=[]\n",
    "    for i in series.index:\n",
    "        series[i]=series[i][0][0]\n",
    "\n",
    "    return(series)\n",
    "#display(force_extractor(tests_df.loc['MC_A_6xiii_clipped_cut_lined','data'][(     'add_data',    'analog_channels')]))\n",
    "tests_df['force']= [force_extractor(tests_df.loc[i,'data'][(     'add_data',    'analog_channels')]*60000) for i in tests_df.index]\n",
    "mapper={8:25,6:20}##Martin nach genauen Maßen fragen\n",
    "tests_df['plate_width']=tests_df.plate_thickness.astype(int).map(mapper)\n",
    "tests_df['sample_crossection']=tests_df['plate_width']*tests_df.plate_thickness.astype(int)\n",
    "tests_df['stress']=[[f/tests_df.loc[i,'sample_crossection']for f in tests_df.loc[i,'force']] for i in tests_df.index]\n",
    "plt.plot(tests_df.stress[0])\n",
    "#plt.plot(tests_df.force[0])\n",
    "#plt.plot(tests_df.plate_width)\n",
    "from scipy.signal import savgol_filter as savgol\n",
    "#plt.plot(savgol(tests_df['25_27  _strain_p1'][0],51,4),tests_df['stress'][0])\n",
    "#plt.plot(tests_df['25_27  _strain_p1'][0],tests_df['stress'][0])"
   ],
   "metadata": {
    "collapsed": false,
    "pycharm": {
     "name": "#%%\n"
    }
   }
  },
  {
   "cell_type": "code",
   "execution_count": 13,
   "outputs": [
    {
     "data": {
      "text/plain": "[<matplotlib.lines.Line2D at 0x20f05b85d30>]"
     },
     "execution_count": 13,
     "metadata": {},
     "output_type": "execute_result"
    },
    {
     "data": {
      "text/plain": "<Figure size 432x288 with 1 Axes>",
      "image/png": "[encoded data removed]"
     },
     "metadata": {},
     "output_type": "display_data"
    }
   ],
   "source": [
    "tests_df['data_len']=[len(tests_df.loc[i,'data']) for i in tests_df.index]\n",
    "plt.plot(tests_df.data_len)"
   ],
   "metadata": {
    "collapsed": false,
    "pycharm": {
     "name": "#%%\n"
    }
   }
  },
  {
   "cell_type": "code",
   "execution_count": 14,
   "outputs": [
    {
     "data": {
      "text/plain": "Index(['paths', 'ok', 'crack', 'pos', 'left_12-5', 'step_start', 'step_stop',\n       'index', 'material', 'senergie/GW', 'plate_thickness', 'testspeed',\n       'running_number', 'data', '-35_-33_idxs', '-33_-31_idxs',\n       '-31_-29_idxs', '-29_-27_idxs', '-27_-25_idxs', '-25_-23_idxs',\n       '-23_-21_idxs', '-21_-19_idxs', '-19_-17_idxs', '-17_-15_idxs',\n       '-15_-13_idxs', '-13_-11_idxs', '-11_-9 _idxs', '-9_-7  _idxs',\n       '-7_-5  _idxs', '-5_-3  _idxs', '-3_-1  _idxs', '-1_1   _idxs',\n       '1_3    _idxs', '3_5    _idxs', '5_7    _idxs', '7_9    _idxs',\n       '9_11   _idxs', '11_13  _idxs', '13_15  _idxs', '15_17  _idxs',\n       '17_19  _idxs', '19_21  _idxs', '21_23  _idxs', '23_25  _idxs',\n       '25_27  _idxs', '27_29  _idxs', '29_31  _idxs', '31_33  _idxs',\n       '33_35  _idxs', '-35_-33_strain_p1', '-33_-31_strain_p1',\n       '-31_-29_strain_p1', '-29_-27_strain_p1', '-27_-25_strain_p1',\n       '-25_-23_strain_p1', '-23_-21_strain_p1', '-21_-19_strain_p1',\n       '-19_-17_strain_p1', '-17_-15_strain_p1', '-15_-13_strain_p1',\n       '-13_-11_strain_p1', '-11_-9 _strain_p1', '-9_-7  _strain_p1',\n       '-7_-5  _strain_p1', '-5_-3  _strain_p1', '-3_-1  _strain_p1',\n       '-1_1   _strain_p1', '1_3    _strain_p1', '3_5    _strain_p1',\n       '5_7    _strain_p1', '7_9    _strain_p1', '9_11   _strain_p1',\n       '11_13  _strain_p1', '13_15  _strain_p1', '15_17  _strain_p1',\n       '17_19  _strain_p1', '19_21  _strain_p1', '21_23  _strain_p1',\n       '23_25  _strain_p1', '25_27  _strain_p1', '27_29  _strain_p1',\n       '29_31  _strain_p1', '31_33  _strain_p1', '33_35  _strain_p1', 'force',\n       'plate_width', 'sample_crossection', 'stress', 'data_len'],\n      dtype='object')"
     },
     "metadata": {},
     "output_type": "display_data"
    }
   ],
   "source": [
    "display(tests_df.columns)\n"
   ],
   "metadata": {
    "collapsed": false,
    "pycharm": {
     "name": "#%%\n"
    }
   }
  },
  {
   "cell_type": "code",
   "execution_count": 15,
   "outputs": [
    {
     "data": {
      "text/plain": "<Figure size 432x288 with 1 Axes>",
      "image/png": "[encoded data removed]"
     },
     "metadata": {},
     "output_type": "display_data"
    },
    {
     "name": "stderr",
     "output_type": "stream",
     "text": [
      "c:\\temp\\TEMP_U~1/ipykernel_30424/3489956054.py:69: PerformanceWarning: DataFrame is highly fragmented.  This is usually the result of calling `frame.insert` many times, which has poor performance.  Consider joining all columns at once using pd.concat(axis=1) instead.  To get a de-fragmented frame, use `newframe = frame.copy()`\n",
      "  tests_df['-3_-1  _Emod']  = [emod(5,int(len(tests_df.loc[i,'stress'])*0.3),tests_df.loc[i,'stress'],smoothing(tests_df.loc[i,'-3_-1  _strain_p1']))[0] for i in tests_df.index]\n",
      "c:\\temp\\TEMP_U~1/ipykernel_30424/3489956054.py:70: PerformanceWarning: DataFrame is highly fragmented.  This is usually the result of calling `frame.insert` many times, which has poor performance.  Consider joining all columns at once using pd.concat(axis=1) instead.  To get a de-fragmented frame, use `newframe = frame.copy()`\n",
      "  tests_df['-1_1   _Emod']  = [emod(5,int(len(tests_df.loc[i,'stress'])*0.3),tests_df.loc[i,'stress'],smoothing(tests_df.loc[i,'-1_1   _strain_p1']))[0] for i in tests_df.index]\n",
      "c:\\temp\\TEMP_U~1/ipykernel_30424/3489956054.py:71: PerformanceWarning: DataFrame is highly fragmented.  This is usually the result of calling `frame.insert` many times, which has poor performance.  Consider joining all columns at once using pd.concat(axis=1) instead.  To get a de-fragmented frame, use `newframe = frame.copy()`\n",
      "  tests_df['1_3    _Emod']  = [emod(5,int(len(tests_df.loc[i,'stress'])*0.3),tests_df.loc[i,'stress'],smoothing(tests_df.loc[i,'1_3    _strain_p1']))[0] for i in tests_df.index]\n",
      "c:\\temp\\TEMP_U~1/ipykernel_30424/3489956054.py:72: PerformanceWarning: DataFrame is highly fragmented.  This is usually the result of calling `frame.insert` many times, which has poor performance.  Consider joining all columns at once using pd.concat(axis=1) instead.  To get a de-fragmented frame, use `newframe = frame.copy()`\n",
      "  tests_df['3_5    _Emod']  = [emod(5,int(len(tests_df.loc[i,'stress'])*0.3),tests_df.loc[i,'stress'],smoothing(tests_df.loc[i,'3_5    _strain_p1']))[0] for i in tests_df.index]\n",
      "c:\\temp\\TEMP_U~1/ipykernel_30424/3489956054.py:73: PerformanceWarning: DataFrame is highly fragmented.  This is usually the result of calling `frame.insert` many times, which has poor performance.  Consider joining all columns at once using pd.concat(axis=1) instead.  To get a de-fragmented frame, use `newframe = frame.copy()`\n",
      "  tests_df['5_7    _Emod']  = [emod(5,int(len(tests_df.loc[i,'stress'])*0.3),tests_df.loc[i,'stress'],smoothing(tests_df.loc[i,'5_7    _strain_p1']))[0] for i in tests_df.index]\n",
      "c:\\temp\\TEMP_U~1/ipykernel_30424/3489956054.py:74: PerformanceWarning: DataFrame is highly fragmented.  This is usually the result of calling `frame.insert` many times, which has poor performance.  Consider joining all columns at once using pd.concat(axis=1) instead.  To get a de-fragmented frame, use `newframe = frame.copy()`\n",
      "  tests_df['7_9    _Emod']  = [emod(5,int(len(tests_df.loc[i,'stress'])*0.3),tests_df.loc[i,'stress'],smoothing(tests_df.loc[i,'7_9    _strain_p1']))[0] for i in tests_df.index]\n",
      "c:\\temp\\TEMP_U~1/ipykernel_30424/3489956054.py:75: PerformanceWarning: DataFrame is highly fragmented.  This is usually the result of calling `frame.insert` many times, which has poor performance.  Consider joining all columns at once using pd.concat(axis=1) instead.  To get a de-fragmented frame, use `newframe = frame.copy()`\n",
      "  tests_df['9_11   _Emod']  = [emod(5,int(len(tests_df.loc[i,'stress'])*0.3),tests_df.loc[i,'stress'],smoothing(tests_df.loc[i,'9_11   _strain_p1']))[0] for i in tests_df.index]\n",
      "c:\\temp\\TEMP_U~1/ipykernel_30424/3489956054.py:76: PerformanceWarning: DataFrame is highly fragmented.  This is usually the result of calling `frame.insert` many times, which has poor performance.  Consider joining all columns at once using pd.concat(axis=1) instead.  To get a de-fragmented frame, use `newframe = frame.copy()`\n",
      "  tests_df['11_13  _Emod']  = [emod(5,int(len(tests_df.loc[i,'stress'])*0.3),tests_df.loc[i,'stress'],smoothing(tests_df.loc[i,'11_13  _strain_p1']))[0] for i in tests_df.index]\n",
      "c:\\temp\\TEMP_U~1/ipykernel_30424/3489956054.py:77: PerformanceWarning: DataFrame is highly fragmented.  This is usually the result of calling `frame.insert` many times, which has poor performance.  Consider joining all columns at once using pd.concat(axis=1) instead.  To get a de-fragmented frame, use `newframe = frame.copy()`\n",
      "  tests_df['13_15  _Emod']  = [emod(5,int(len(tests_df.loc[i,'stress'])*0.3),tests_df.loc[i,'stress'],smoothing(tests_df.loc[i,'13_15  _strain_p1']))[0] for i in tests_df.index]\n",
      "c:\\temp\\TEMP_U~1/ipykernel_30424/3489956054.py:78: PerformanceWarning: DataFrame is highly fragmented.  This is usually the result of calling `frame.insert` many times, which has poor performance.  Consider joining all columns at once using pd.concat(axis=1) instead.  To get a de-fragmented frame, use `newframe = frame.copy()`\n",
      "  tests_df['15_17  _Emod']  = [emod(5,int(len(tests_df.loc[i,'stress'])*0.3),tests_df.loc[i,'stress'],smoothing(tests_df.loc[i,'15_17  _strain_p1']))[0] for i in tests_df.index]\n",
      "c:\\temp\\TEMP_U~1/ipykernel_30424/3489956054.py:79: PerformanceWarning: DataFrame is highly fragmented.  This is usually the result of calling `frame.insert` many times, which has poor performance.  Consider joining all columns at once using pd.concat(axis=1) instead.  To get a de-fragmented frame, use `newframe = frame.copy()`\n",
      "  tests_df['17_19  _Emod']  = [emod(5,int(len(tests_df.loc[i,'stress'])*0.3),tests_df.loc[i,'stress'],smoothing(tests_df.loc[i,'17_19  _strain_p1']))[0] for i in tests_df.index]\n",
      "c:\\temp\\TEMP_U~1/ipykernel_30424/3489956054.py:80: PerformanceWarning: DataFrame is highly fragmented.  This is usually the result of calling `frame.insert` many times, which has poor performance.  Consider joining all columns at once using pd.concat(axis=1) instead.  To get a de-fragmented frame, use `newframe = frame.copy()`\n",
      "  tests_df['19_21  _Emod']  = [emod(5,int(len(tests_df.loc[i,'stress'])*0.3),tests_df.loc[i,'stress'],smoothing(tests_df.loc[i,'19_21  _strain_p1']))[0] for i in tests_df.index]\n",
      "c:\\temp\\TEMP_U~1/ipykernel_30424/3489956054.py:81: PerformanceWarning: DataFrame is highly fragmented.  This is usually the result of calling `frame.insert` many times, which has poor performance.  Consider joining all columns at once using pd.concat(axis=1) instead.  To get a de-fragmented frame, use `newframe = frame.copy()`\n",
      "  tests_df['21_23  _Emod']  = [emod(5,int(len(tests_df.loc[i,'stress'])*0.3),tests_df.loc[i,'stress'],smoothing(tests_df.loc[i,'21_23  _strain_p1']))[0] for i in tests_df.index]\n",
      "c:\\temp\\TEMP_U~1/ipykernel_30424/3489956054.py:82: PerformanceWarning: DataFrame is highly fragmented.  This is usually the result of calling `frame.insert` many times, which has poor performance.  Consider joining all columns at once using pd.concat(axis=1) instead.  To get a de-fragmented frame, use `newframe = frame.copy()`\n",
      "  tests_df['23_25  _Emod']  = [emod(5,int(len(tests_df.loc[i,'stress'])*0.3),tests_df.loc[i,'stress'],smoothing(tests_df.loc[i,'23_25  _strain_p1']))[0] for i in tests_df.index]\n",
      "c:\\temp\\TEMP_U~1/ipykernel_30424/3489956054.py:83: PerformanceWarning: DataFrame is highly fragmented.  This is usually the result of calling `frame.insert` many times, which has poor performance.  Consider joining all columns at once using pd.concat(axis=1) instead.  To get a de-fragmented frame, use `newframe = frame.copy()`\n",
      "  tests_df['25_27  _Emod']  = [emod(5,int(len(tests_df.loc[i,'stress'])*0.3),tests_df.loc[i,'stress'],smoothing(tests_df.loc[i,'25_27  _strain_p1']))[0] for i in tests_df.index]\n",
      "c:\\temp\\TEMP_U~1/ipykernel_30424/3489956054.py:84: PerformanceWarning: DataFrame is highly fragmented.  This is usually the result of calling `frame.insert` many times, which has poor performance.  Consider joining all columns at once using pd.concat(axis=1) instead.  To get a de-fragmented frame, use `newframe = frame.copy()`\n",
      "  tests_df['27_29  _Emod']  = [emod(5,int(len(tests_df.loc[i,'stress'])*0.3),tests_df.loc[i,'stress'],smoothing(tests_df.loc[i,'27_29  _strain_p1']))[0] for i in tests_df.index]\n",
      "c:\\temp\\TEMP_U~1/ipykernel_30424/3489956054.py:85: PerformanceWarning: DataFrame is highly fragmented.  This is usually the result of calling `frame.insert` many times, which has poor performance.  Consider joining all columns at once using pd.concat(axis=1) instead.  To get a de-fragmented frame, use `newframe = frame.copy()`\n",
      "  tests_df['29_31  _Emod']  = [emod(5,int(len(tests_df.loc[i,'stress'])*0.3),tests_df.loc[i,'stress'],smoothing(tests_df.loc[i,'29_31  _strain_p1']))[0] for i in tests_df.index]\n",
      "c:\\temp\\TEMP_U~1/ipykernel_30424/3489956054.py:86: PerformanceWarning: DataFrame is highly fragmented.  This is usually the result of calling `frame.insert` many times, which has poor performance.  Consider joining all columns at once using pd.concat(axis=1) instead.  To get a de-fragmented frame, use `newframe = frame.copy()`\n",
      "  tests_df['31_33  _Emod']  = [emod(5,int(len(tests_df.loc[i,'stress'])*0.3),tests_df.loc[i,'stress'],smoothing(tests_df.loc[i,'31_33  _strain_p1']))[0] for i in tests_df.index]\n",
      "c:\\temp\\TEMP_U~1/ipykernel_30424/3489956054.py:87: PerformanceWarning: DataFrame is highly fragmented.  This is usually the result of calling `frame.insert` many times, which has poor performance.  Consider joining all columns at once using pd.concat(axis=1) instead.  To get a de-fragmented frame, use `newframe = frame.copy()`\n",
      "  tests_df['33_35  _Emod']  = [emod(5,int(len(tests_df.loc[i,'stress'])*0.3),tests_df.loc[i,'stress'],smoothing(tests_df.loc[i,'33_35  _strain_p1']))[0] for i in tests_df.index]\n"
     ]
    },
    {
     "data": {
      "text/plain": "MC_A_6xiii_clipped_cut_lined      [427073.7643967283, -2200.3614753409815]\nMC_A_6xi_clipped_cut_lined       [491704.28304005344, -2910.7556987261332]\nMC_A_8xiii_clipped_cut_lined       [133120.0355083282, -164.1044848582177]\nMC_B_6xiii_clipped_cut_lined     [347203.55059837643, -1461.7671010312138]\nMC_B_6xii_clipped_cut_lined        [422709.9094760347, -2319.038439164081]\nMC_B_6xi_clipped_cut_lined         [895875.4772664716, -5690.201599176763]\nMC_B_8xiii_clipped_cut_lined          [337989.44029977, -1357.30680101446]\nMC_B_8xi_clipped_cut_lined        [316045.8291329083, -1512.4648280855681]\nMC_B_8yi_clipped_cut_lined       [-2310.672276842705, -28.428842326131168]\nMC_GW_6xiii_clipped_cut_lined      [169320.830049105, -1240.6302610595194]\nMC_GW_6xi_clipped_cut_lined       [118622.70919097074, -857.6866853258347]\nMC_GW_6yiii_clipped_cut_lined      [841896.0707981827, -6685.074951260679]\nMC_GW_6yii_clipped_cut_lined       [488253.9019949104, -711.0003351903969]\nMC_GW_6yi_clipped_cut_lined         [396798.7660149222, 72.25905687430205]\nMC_GW_8xi_clipped_cut_lined      [295653.58522931836, -2443.5466449862256]\nMC_GW_8yiii_clipped_cut_lined     [264742.77892918774, 1152.5155198933132]\nMC_GW_8yii_clipped_cut_lined       [103410.17731020755, 2193.767457600819]\nQL_A_6xiii_clipped_cut_lined     [249348.45253838674, -357.67463367278566]\nQL_A_6xii_clipped_cut_lined       [419106.2395538665, -1008.6820105191935]\nQL_A_6xi_clipped_cut_lined         [314383.1073083976, -782.5852943707416]\nQL_A_8xii_clipped_cut_lined       [327907.57746544527, -717.8830810796513]\nQL_A_8xi_clipped_cut_lined        [568627.6689646232, -1510.3058668350504]\nQL_A_8yiii_clipped_cut_lined      [356804.42298602837, -974.9611323284281]\nQL_A_8yiv_clipped_cut_lined        [398.2972762531655, -805.9645450055839]\nQL_A_8yi_clipped_cut_lined        [369482.44571161846, -990.0086909406343]\nQL_A_8yvi_clipped_cut_lined         [392.6133386679177, -837.093345390215]\nQL_A_8yv_clipped_cut_lined         [373.3565050752345, -720.8938964840108]\nQL_B_6xiii_clipped_cut_lined      [110376.30135181647, 139.63373610967685]\nQL_B_8xiii_clipped_cut_lined        [264253.8933792632, -592.810241044067]\nQL_B_8xii_clipped_cut_lined       [254053.29543869174, -578.1363068736663]\nQL_B_8yiii_clipped_cut_lined       [407266.7130421596, -983.0106579448857]\nQL_B_8yiv_clipped_cut_lined       [301.65018328978726, -656.7063300145988]\nQL_B_8yi_clipped_cut_lined        [545396.9398246802, -1539.4260876809922]\nQL_B_8yvi_clipped_cut_lined       [390.18556839921183, -840.7686741409368]\nQL_B_8yv_clipped_cut_lined        [398.44599351267414, -839.5984609362245]\nQL_GW_6xiii_clipped_cut_lined     [175962.07925023494, -321.1028668375175]\nQL_GW_6xi_clipped_cut_lined        [185763.619262126, -139.58038594411323]\nQL_GW_6yiii_clipped_cut_lined                                  [180000, 5]\nQL_GW_6yii_clipped_cut_lined                                   [180000, 5]\nQL_GW_8xii_clipped_cut_lined        [229818.706014115, -483.7289454460034]\nQL_GW_8yii_clipped_cut_lined                                   [180000, 5]\nName: 5_7    _Emod, dtype: object"
     },
     "metadata": {},
     "output_type": "display_data"
    },
    {
     "data": {
      "text/plain": "MC_A_6xiii_clipped_cut_lined     1.232911e+03\nMC_A_6xi_clipped_cut_lined       1.043972e+03\nMC_A_8xiii_clipped_cut_lined     1.211430e+03\nMC_B_6xiii_clipped_cut_lined     9.712339e+02\nMC_B_6xii_clipped_cut_lined      9.385936e+02\nMC_B_6xi_clipped_cut_lined       1.029910e+03\nMC_B_8xiii_clipped_cut_lined     9.910834e+02\nMC_B_8xi_clipped_cut_lined       9.962223e+02\nMC_B_8yi_clipped_cut_lined      -4.527189e+01\nMC_GW_6xiii_clipped_cut_lined    1.053247e+03\nMC_GW_6xi_clipped_cut_lined      2.222467e+03\nMC_GW_6yiii_clipped_cut_lined    1.667084e+03\nMC_GW_6yii_clipped_cut_lined     4.932035e+03\nMC_GW_6yi_clipped_cut_lined      4.998184e+03\nMC_GW_8xi_clipped_cut_lined      1.172509e+03\nMC_GW_8yiii_clipped_cut_lined    2.950772e+03\nMC_GW_8yii_clipped_cut_lined     3.048839e+03\nQL_A_6xiii_clipped_cut_lined     1.003796e+03\nQL_A_6xii_clipped_cut_lined      9.372448e+02\nQL_A_6xi_clipped_cut_lined       1.151453e+03\nQL_A_8xii_clipped_cut_lined      1.167754e+03\nQL_A_8xi_clipped_cut_lined       1.039538e+03\nQL_A_8yiii_clipped_cut_lined     1.122799e+03\nQL_A_8yiv_clipped_cut_lined      1.066893e+06\nQL_A_8yi_clipped_cut_lined       1.033355e+03\nQL_A_8yvi_clipped_cut_lined      1.053005e+06\nQL_A_8yv_clipped_cut_lined       1.128229e+06\nQL_B_6xiii_clipped_cut_lined     8.536343e+02\nQL_B_8xiii_clipped_cut_lined     8.587151e+02\nQL_B_8xii_clipped_cut_lined      9.389716e+02\nQL_B_8yiii_clipped_cut_lined     1.035875e+03\nQL_B_8yiv_clipped_cut_lined      1.202783e+06\nQL_B_8yi_clipped_cut_lined       9.967466e+02\nQL_B_8yvi_clipped_cut_lined      1.158501e+06\nQL_B_8yv_clipped_cut_lined       1.174648e+06\nQL_GW_6xiii_clipped_cut_lined    1.281314e+03\nQL_GW_6xi_clipped_cut_lined      1.342031e+03\nQL_GW_6yiii_clipped_cut_lined             NaN\nQL_GW_6yii_clipped_cut_lined              NaN\nQL_GW_8xii_clipped_cut_lined     1.263663e+03\nQL_GW_8yii_clipped_cut_lined              NaN\nName: 5_7    _rp02, dtype: float64"
     },
     "metadata": {},
     "output_type": "display_data"
    },
    {
     "data": {
      "text/plain": "MC_A_6xiii_clipped_cut_lined      65\nMC_A_6xi_clipped_cut_lined        60\nMC_A_8xiii_clipped_cut_lined      89\nMC_B_6xiii_clipped_cut_lined      58\nMC_B_6xii_clipped_cut_lined       56\nMC_B_6xi_clipped_cut_lined        54\nMC_B_8xiii_clipped_cut_lined      80\nMC_B_8xi_clipped_cut_lined        75\nMC_B_8yi_clipped_cut_lined       204\nMC_GW_6xiii_clipped_cut_lined     15\nMC_GW_6xi_clipped_cut_lined       34\nMC_GW_6yiii_clipped_cut_lined     10\nMC_GW_6yii_clipped_cut_lined     114\nMC_GW_6yi_clipped_cut_lined      235\nMC_GW_8xi_clipped_cut_lined       61\nMC_GW_8yiii_clipped_cut_lined    121\nMC_GW_8yii_clipped_cut_lined     121\nQL_A_6xiii_clipped_cut_lined      58\nQL_A_6xii_clipped_cut_lined       59\nQL_A_6xi_clipped_cut_lined        61\nQL_A_8xii_clipped_cut_lined       86\nQL_A_8xi_clipped_cut_lined        95\nQL_A_8yiii_clipped_cut_lined     165\nQL_A_8yiv_clipped_cut_lined        0\nQL_A_8yi_clipped_cut_lined       164\nQL_A_8yvi_clipped_cut_lined        0\nQL_A_8yv_clipped_cut_lined         0\nQL_B_6xiii_clipped_cut_lined      53\nQL_B_8xiii_clipped_cut_lined      71\nQL_B_8xii_clipped_cut_lined       74\nQL_B_8yiii_clipped_cut_lined     160\nQL_B_8yiv_clipped_cut_lined        7\nQL_B_8yi_clipped_cut_lined       150\nQL_B_8yvi_clipped_cut_lined        0\nQL_B_8yv_clipped_cut_lined         0\nQL_GW_6xiii_clipped_cut_lined     79\nQL_GW_6xi_clipped_cut_lined       88\nQL_GW_6yiii_clipped_cut_lined    258\nQL_GW_6yii_clipped_cut_lined     281\nQL_GW_8xii_clipped_cut_lined     111\nQL_GW_8yii_clipped_cut_lined     349\nName: 5_7    _rp02_idx, dtype: int64"
     },
     "metadata": {},
     "output_type": "display_data"
    }
   ],
   "source": [
    "def emod(start,end,stress,strain):\n",
    "    #print(start,end)\n",
    "    #print(type(stress),type(strain))\n",
    "    strain=np.array(strain)\n",
    "    strainc=strain[range(start,end)]\n",
    "    stress=np.array(stress)\n",
    "    stressc=np.array(stress[range(start,end)])\n",
    "    #plt.plot((strainc),(stressc))\n",
    "    try:\n",
    "        z=np.polyfit(list(strainc), list(stressc), 1)\n",
    "        p=np.poly1d(z)\n",
    "        emod=z\n",
    "        n=[p(x) for x in strainc]\n",
    "        return(emod,n)\n",
    "    except:\n",
    "        return ([[180000,5]])\n",
    "def rp02 (emod,stress,strain):\n",
    "    df=pd.DataFrame()\n",
    "    df['stress']=stress\n",
    "    df['strain']=strain\n",
    "    df['rpcurve']=(df.strain*emod[0]+emod[1])-(0.002*emod[0])\n",
    "    idx=df.iloc[(df['stress']-df['rpcurve']).abs().argsort()[:1]].index.tolist()[0]\n",
    "    #print(idx,df.loc[idx,'stress'],df.loc[idx,'rpcurve'])\n",
    "    return (df.loc[idx,'rpcurve'],idx)\n",
    "\n",
    "def smoothing(strain):\n",
    "    try:\n",
    "        return(savgol(strain,51,4))\n",
    "    except:\n",
    "        return strain\n",
    "\n",
    "E=emod(0,int(len(tests_df['stress'][0])*0.3),tests_df['stress'][0],savgol(tests_df['25_27  _strain_p1'][0],51,4))[0]\n",
    "rp=(rp02(E,tests_df['stress'][0],savgol(tests_df['25_27  _strain_p1'][0],51,4))[0])\n",
    "fig,ax=plt.subplots()\n",
    "ax.plot(savgol(tests_df['25_27  _strain_p1'][0],51,4),\n",
    "         [x*E[0]+E[1] for x in savgol(tests_df['25_27  _strain_p1'][0],51,4)]\n",
    "\n",
    "         )\n",
    "ax.plot(savgol(tests_df['25_27  _strain_p1'][0],51,4),\n",
    "         tests_df['stress'][0]\n",
    "\n",
    "         )\n",
    "ax.plot(savgol(tests_df['25_27  _strain_p1'][0],51,4),\n",
    "         [abs((x*E[0]+E[1])-(0.002*E[0])) for x in savgol(tests_df['25_27  _strain_p1'][0],51,4)]\n",
    "\n",
    "         )\n",
    "ax.axhline(rp)\n",
    "plt.show()\n",
    "\n",
    "#for i in test.index[:-3]:\n",
    "#    print(i)\n",
    "#    plt.plot(savgol(tests_df.loc[i,'-33_-31_strain_p1'],41,4))\n",
    "tests_df['-35_-33_Emod']  = [emod(5,int(len(tests_df.loc[i,'stress'])*0.3),tests_df.loc[i,'stress'],smoothing(tests_df.loc[i,'-35_-33_strain_p1']))[0] for i in tests_df.index]\n",
    "tests_df['-33_-31_Emod']  = [emod(5,int(len(tests_df.loc[i,'stress'])*0.3),tests_df.loc[i,'stress'],smoothing(tests_df.loc[i,'-33_-31_strain_p1']))[0] for i in tests_df.index]\n",
    "tests_df['-31_-29_Emod']  = [emod(5,int(len(tests_df.loc[i,'stress'])*0.3),tests_df.loc[i,'stress'],smoothing(tests_df.loc[i,'-31_-29_strain_p1']))[0] for i in tests_df.index]\n",
    "tests_df['-29_-27_Emod']  = [emod(5,int(len(tests_df.loc[i,'stress'])*0.3),tests_df.loc[i,'stress'],smoothing(tests_df.loc[i,'-29_-27_strain_p1']))[0] for i in tests_df.index]\n",
    "tests_df['-27_-25_Emod']  = [emod(5,int(len(tests_df.loc[i,'stress'])*0.3),tests_df.loc[i,'stress'],smoothing(tests_df.loc[i,'-27_-25_strain_p1']))[0] for i in tests_df.index]\n",
    "tests_df['-25_-23_Emod']  = [emod(5,int(len(tests_df.loc[i,'stress'])*0.3),tests_df.loc[i,'stress'],smoothing(tests_df.loc[i,'-25_-23_strain_p1']))[0] for i in tests_df.index]\n",
    "tests_df['-23_-21_Emod']  = [emod(5,int(len(tests_df.loc[i,'stress'])*0.3),tests_df.loc[i,'stress'],smoothing(tests_df.loc[i,'-23_-21_strain_p1']))[0] for i in tests_df.index]\n",
    "tests_df['-21_-19_Emod']  = [emod(5,int(len(tests_df.loc[i,'stress'])*0.3),tests_df.loc[i,'stress'],smoothing(tests_df.loc[i,'-21_-19_strain_p1']))[0] for i in tests_df.index]\n",
    "tests_df['-19_-17_Emod']  = [emod(5,int(len(tests_df.loc[i,'stress'])*0.3),tests_df.loc[i,'stress'],smoothing(tests_df.loc[i,'-19_-17_strain_p1']))[0] for i in tests_df.index]\n",
    "tests_df['-17_-15_Emod']  = [emod(5,int(len(tests_df.loc[i,'stress'])*0.3),tests_df.loc[i,'stress'],smoothing(tests_df.loc[i,'-17_-15_strain_p1']))[0] for i in tests_df.index]\n",
    "tests_df['-15_-13_Emod']  = [emod(5,int(len(tests_df.loc[i,'stress'])*0.3),tests_df.loc[i,'stress'],smoothing(tests_df.loc[i,'-15_-13_strain_p1']))[0] for i in tests_df.index]\n",
    "tests_df['-13_-11_Emod']  = [emod(5,int(len(tests_df.loc[i,'stress'])*0.3),tests_df.loc[i,'stress'],smoothing(tests_df.loc[i,'-13_-11_strain_p1']))[0] for i in tests_df.index]\n",
    "tests_df['-11_-9 _Emod']  = [emod(5,int(len(tests_df.loc[i,'stress'])*0.3),tests_df.loc[i,'stress'],smoothing(tests_df.loc[i,'-11_-9 _strain_p1']))[0] for i in tests_df.index]\n",
    "tests_df['-9_-7  _Emod']  = [emod(5,int(len(tests_df.loc[i,'stress'])*0.3),tests_df.loc[i,'stress'],smoothing(tests_df.loc[i,'-9_-7  _strain_p1']))[0] for i in tests_df.index]\n",
    "tests_df['-7_-5  _Emod']  = [emod(5,int(len(tests_df.loc[i,'stress'])*0.3),tests_df.loc[i,'stress'],smoothing(tests_df.loc[i,'-7_-5  _strain_p1']))[0] for i in tests_df.index]\n",
    "tests_df['-5_-3  _Emod']  = [emod(5,int(len(tests_df.loc[i,'stress'])*0.3),tests_df.loc[i,'stress'],smoothing(tests_df.loc[i,'-5_-3  _strain_p1']))[0] for i in tests_df.index]\n",
    "tests_df['-3_-1  _Emod']  = [emod(5,int(len(tests_df.loc[i,'stress'])*0.3),tests_df.loc[i,'stress'],smoothing(tests_df.loc[i,'-3_-1  _strain_p1']))[0] for i in tests_df.index]\n",
    "tests_df['-1_1   _Emod']  = [emod(5,int(len(tests_df.loc[i,'stress'])*0.3),tests_df.loc[i,'stress'],smoothing(tests_df.loc[i,'-1_1   _strain_p1']))[0] for i in tests_df.index]\n",
    "tests_df['1_3    _Emod']  = [emod(5,int(len(tests_df.loc[i,'stress'])*0.3),tests_df.loc[i,'stress'],smoothing(tests_df.loc[i,'1_3    _strain_p1']))[0] for i in tests_df.index]\n",
    "tests_df['3_5    _Emod']  = [emod(5,int(len(tests_df.loc[i,'stress'])*0.3),tests_df.loc[i,'stress'],smoothing(tests_df.loc[i,'3_5    _strain_p1']))[0] for i in tests_df.index]\n",
    "tests_df['5_7    _Emod']  = [emod(5,int(len(tests_df.loc[i,'stress'])*0.3),tests_df.loc[i,'stress'],smoothing(tests_df.loc[i,'5_7    _strain_p1']))[0] for i in tests_df.index]\n",
    "tests_df['7_9    _Emod']  = [emod(5,int(len(tests_df.loc[i,'stress'])*0.3),tests_df.loc[i,'stress'],smoothing(tests_df.loc[i,'7_9    _strain_p1']))[0] for i in tests_df.index]\n",
    "tests_df['9_11   _Emod']  = [emod(5,int(len(tests_df.loc[i,'stress'])*0.3),tests_df.loc[i,'stress'],smoothing(tests_df.loc[i,'9_11   _strain_p1']))[0] for i in tests_df.index]\n",
    "tests_df['11_13  _Emod']  = [emod(5,int(len(tests_df.loc[i,'stress'])*0.3),tests_df.loc[i,'stress'],smoothing(tests_df.loc[i,'11_13  _strain_p1']))[0] for i in tests_df.index]\n",
    "tests_df['13_15  _Emod']  = [emod(5,int(len(tests_df.loc[i,'stress'])*0.3),tests_df.loc[i,'stress'],smoothing(tests_df.loc[i,'13_15  _strain_p1']))[0] for i in tests_df.index]\n",
    "tests_df['15_17  _Emod']  = [emod(5,int(len(tests_df.loc[i,'stress'])*0.3),tests_df.loc[i,'stress'],smoothing(tests_df.loc[i,'15_17  _strain_p1']))[0] for i in tests_df.index]\n",
    "tests_df['17_19  _Emod']  = [emod(5,int(len(tests_df.loc[i,'stress'])*0.3),tests_df.loc[i,'stress'],smoothing(tests_df.loc[i,'17_19  _strain_p1']))[0] for i in tests_df.index]\n",
    "tests_df['19_21  _Emod']  = [emod(5,int(len(tests_df.loc[i,'stress'])*0.3),tests_df.loc[i,'stress'],smoothing(tests_df.loc[i,'19_21  _strain_p1']))[0] for i in tests_df.index]\n",
    "tests_df['21_23  _Emod']  = [emod(5,int(len(tests_df.loc[i,'stress'])*0.3),tests_df.loc[i,'stress'],smoothing(tests_df.loc[i,'21_23  _strain_p1']))[0] for i in tests_df.index]\n",
    "tests_df['23_25  _Emod']  = [emod(5,int(len(tests_df.loc[i,'stress'])*0.3),tests_df.loc[i,'stress'],smoothing(tests_df.loc[i,'23_25  _strain_p1']))[0] for i in tests_df.index]\n",
    "tests_df['25_27  _Emod']  = [emod(5,int(len(tests_df.loc[i,'stress'])*0.3),tests_df.loc[i,'stress'],smoothing(tests_df.loc[i,'25_27  _strain_p1']))[0] for i in tests_df.index]\n",
    "tests_df['27_29  _Emod']  = [emod(5,int(len(tests_df.loc[i,'stress'])*0.3),tests_df.loc[i,'stress'],smoothing(tests_df.loc[i,'27_29  _strain_p1']))[0] for i in tests_df.index]\n",
    "tests_df['29_31  _Emod']  = [emod(5,int(len(tests_df.loc[i,'stress'])*0.3),tests_df.loc[i,'stress'],smoothing(tests_df.loc[i,'29_31  _strain_p1']))[0] for i in tests_df.index]\n",
    "tests_df['31_33  _Emod']  = [emod(5,int(len(tests_df.loc[i,'stress'])*0.3),tests_df.loc[i,'stress'],smoothing(tests_df.loc[i,'31_33  _strain_p1']))[0] for i in tests_df.index]\n",
    "tests_df['33_35  _Emod']  = [emod(5,int(len(tests_df.loc[i,'stress'])*0.3),tests_df.loc[i,'stress'],smoothing(tests_df.loc[i,'33_35  _strain_p1']))[0] for i in tests_df.index]\n",
    "\n",
    "display(tests_df['5_7    _Emod'])\n",
    "tests_df=tests_df.copy()\n",
    "tests_df['-35_-33_rp02']  = [rp02(E,tests_df.loc[i,'stress'],smoothing(tests_df.loc[i,'-35_-33_strain_p1']))[0] for i in tests_df.index]\n",
    "tests_df['-33_-31_rp02']  = [rp02(E,tests_df.loc[i,'stress'],smoothing(tests_df.loc[i,'-33_-31_strain_p1']))[0] for i in tests_df.index]\n",
    "tests_df['-31_-29_rp02']  = [rp02(E,tests_df.loc[i,'stress'],smoothing(tests_df.loc[i,'-31_-29_strain_p1']))[0] for i in tests_df.index]\n",
    "tests_df['-29_-27_rp02']  = [rp02(E,tests_df.loc[i,'stress'],smoothing(tests_df.loc[i,'-29_-27_strain_p1']))[0] for i in tests_df.index]\n",
    "tests_df['-27_-25_rp02']  = [rp02(E,tests_df.loc[i,'stress'],smoothing(tests_df.loc[i,'-27_-25_strain_p1']))[0] for i in tests_df.index]\n",
    "tests_df['-25_-23_rp02']  = [rp02(E,tests_df.loc[i,'stress'],smoothing(tests_df.loc[i,'-25_-23_strain_p1']))[0] for i in tests_df.index]\n",
    "tests_df['-23_-21_rp02']  = [rp02(E,tests_df.loc[i,'stress'],smoothing(tests_df.loc[i,'-23_-21_strain_p1']))[0] for i in tests_df.index]\n",
    "tests_df['-21_-19_rp02']  = [rp02(E,tests_df.loc[i,'stress'],smoothing(tests_df.loc[i,'-21_-19_strain_p1']))[0] for i in tests_df.index]\n",
    "tests_df['-19_-17_rp02']  = [rp02(E,tests_df.loc[i,'stress'],smoothing(tests_df.loc[i,'-19_-17_strain_p1']))[0] for i in tests_df.index]\n",
    "tests_df['-17_-15_rp02']  = [rp02(E,tests_df.loc[i,'stress'],smoothing(tests_df.loc[i,'-17_-15_strain_p1']))[0] for i in tests_df.index]\n",
    "tests_df['-15_-13_rp02']  = [rp02(E,tests_df.loc[i,'stress'],smoothing(tests_df.loc[i,'-15_-13_strain_p1']))[0] for i in tests_df.index]\n",
    "tests_df['-13_-11_rp02']  = [rp02(E,tests_df.loc[i,'stress'],smoothing(tests_df.loc[i,'-13_-11_strain_p1']))[0] for i in tests_df.index]\n",
    "tests_df['-11_-9 _rp02']  = [rp02(E,tests_df.loc[i,'stress'],smoothing(tests_df.loc[i,'-11_-9 _strain_p1']))[0] for i in tests_df.index]\n",
    "tests_df['-9_-7  _rp02']  = [rp02(E,tests_df.loc[i,'stress'],smoothing(tests_df.loc[i,'-9_-7  _strain_p1']))[0] for i in tests_df.index]\n",
    "tests_df['-7_-5  _rp02']  = [rp02(E,tests_df.loc[i,'stress'],smoothing(tests_df.loc[i,'-7_-5  _strain_p1']))[0] for i in tests_df.index]\n",
    "tests_df['-5_-3  _rp02']  = [rp02(E,tests_df.loc[i,'stress'],smoothing(tests_df.loc[i,'-5_-3  _strain_p1']))[0] for i in tests_df.index]\n",
    "tests_df['-3_-1  _rp02']  = [rp02(E,tests_df.loc[i,'stress'],smoothing(tests_df.loc[i,'-3_-1  _strain_p1']))[0] for i in tests_df.index]\n",
    "tests_df['-1_1   _rp02']  = [rp02(E,tests_df.loc[i,'stress'],smoothing(tests_df.loc[i,'-1_1   _strain_p1']))[0] for i in tests_df.index]\n",
    "tests_df['1_3    _rp02']  = [rp02(E,tests_df.loc[i,'stress'],smoothing(tests_df.loc[i,'1_3    _strain_p1']))[0] for i in tests_df.index]\n",
    "tests_df['3_5    _rp02']  = [rp02(E,tests_df.loc[i,'stress'],smoothing(tests_df.loc[i,'3_5    _strain_p1']))[0] for i in tests_df.index]\n",
    "tests_df['5_7    _rp02']  = [rp02(E,tests_df.loc[i,'stress'],smoothing(tests_df.loc[i,'5_7    _strain_p1']))[0] for i in tests_df.index]\n",
    "tests_df['7_9    _rp02']  = [rp02(E,tests_df.loc[i,'stress'],smoothing(tests_df.loc[i,'7_9    _strain_p1']))[0] for i in tests_df.index]\n",
    "tests_df['9_11   _rp02']  = [rp02(E,tests_df.loc[i,'stress'],smoothing(tests_df.loc[i,'9_11   _strain_p1']))[0] for i in tests_df.index]\n",
    "tests_df['11_13  _rp02']  = [rp02(E,tests_df.loc[i,'stress'],smoothing(tests_df.loc[i,'11_13  _strain_p1']))[0] for i in tests_df.index]\n",
    "tests_df['13_15  _rp02']  = [rp02(E,tests_df.loc[i,'stress'],smoothing(tests_df.loc[i,'13_15  _strain_p1']))[0] for i in tests_df.index]\n",
    "tests_df['15_17  _rp02']  = [rp02(E,tests_df.loc[i,'stress'],smoothing(tests_df.loc[i,'15_17  _strain_p1']))[0] for i in tests_df.index]\n",
    "tests_df['17_19  _rp02']  = [rp02(E,tests_df.loc[i,'stress'],smoothing(tests_df.loc[i,'17_19  _strain_p1']))[0] for i in tests_df.index]\n",
    "tests_df['19_21  _rp02']  = [rp02(E,tests_df.loc[i,'stress'],smoothing(tests_df.loc[i,'19_21  _strain_p1']))[0] for i in tests_df.index]\n",
    "tests_df['21_23  _rp02']  = [rp02(E,tests_df.loc[i,'stress'],smoothing(tests_df.loc[i,'21_23  _strain_p1']))[0] for i in tests_df.index]\n",
    "tests_df['23_25  _rp02']  = [rp02(E,tests_df.loc[i,'stress'],smoothing(tests_df.loc[i,'23_25  _strain_p1']))[0] for i in tests_df.index]\n",
    "tests_df['25_27  _rp02']  = [rp02(E,tests_df.loc[i,'stress'],smoothing(tests_df.loc[i,'25_27  _strain_p1']))[0] for i in tests_df.index]\n",
    "tests_df['27_29  _rp02']  = [rp02(E,tests_df.loc[i,'stress'],smoothing(tests_df.loc[i,'27_29  _strain_p1']))[0] for i in tests_df.index]\n",
    "tests_df['29_31  _rp02']  = [rp02(E,tests_df.loc[i,'stress'],smoothing(tests_df.loc[i,'29_31  _strain_p1']))[0] for i in tests_df.index]\n",
    "tests_df['31_33  _rp02']  = [rp02(E,tests_df.loc[i,'stress'],smoothing(tests_df.loc[i,'31_33  _strain_p1']))[0] for i in tests_df.index]\n",
    "tests_df['33_35  _rp02']  = [rp02(E,tests_df.loc[i,'stress'],smoothing(tests_df.loc[i,'33_35  _strain_p1']))[0] for i in tests_df.index]\n",
    "tests_df=tests_df.copy()\n",
    "display(tests_df['5_7    _rp02'])\n",
    "def rp02_idx(tests_df):\n",
    "    tests_df['-35_-33_rp02_idx']  = [rp02(E,tests_df.loc[i,'stress'],smoothing(tests_df.loc[i,'-35_-33_strain_p1']))[1] for i in tests_df.index]\n",
    "    tests_df['-33_-31_rp02_idx']  = [rp02(E,tests_df.loc[i,'stress'],smoothing(tests_df.loc[i,'-33_-31_strain_p1']))[1] for i in tests_df.index]\n",
    "    tests_df['-31_-29_rp02_idx']  = [rp02(E,tests_df.loc[i,'stress'],smoothing(tests_df.loc[i,'-31_-29_strain_p1']))[1] for i in tests_df.index]\n",
    "    tests_df['-29_-27_rp02_idx']  = [rp02(E,tests_df.loc[i,'stress'],smoothing(tests_df.loc[i,'-29_-27_strain_p1']))[1] for i in tests_df.index]\n",
    "    tests_df['-27_-25_rp02_idx']  = [rp02(E,tests_df.loc[i,'stress'],smoothing(tests_df.loc[i,'-27_-25_strain_p1']))[1] for i in tests_df.index]\n",
    "    tests_df['-25_-23_rp02_idx']  = [rp02(E,tests_df.loc[i,'stress'],smoothing(tests_df.loc[i,'-25_-23_strain_p1']))[1] for i in tests_df.index]\n",
    "    tests_df['-23_-21_rp02_idx']  = [rp02(E,tests_df.loc[i,'stress'],smoothing(tests_df.loc[i,'-23_-21_strain_p1']))[1] for i in tests_df.index]\n",
    "    tests_df['-21_-19_rp02_idx']  = [rp02(E,tests_df.loc[i,'stress'],smoothing(tests_df.loc[i,'-21_-19_strain_p1']))[1] for i in tests_df.index]\n",
    "    tests_df['-19_-17_rp02_idx']  = [rp02(E,tests_df.loc[i,'stress'],smoothing(tests_df.loc[i,'-19_-17_strain_p1']))[1] for i in tests_df.index]\n",
    "    tests_df['-17_-15_rp02_idx']  = [rp02(E,tests_df.loc[i,'stress'],smoothing(tests_df.loc[i,'-17_-15_strain_p1']))[1] for i in tests_df.index]\n",
    "    tests_df['-15_-13_rp02_idx']  = [rp02(E,tests_df.loc[i,'stress'],smoothing(tests_df.loc[i,'-15_-13_strain_p1']))[1] for i in tests_df.index]\n",
    "    tests_df['-13_-11_rp02_idx']  = [rp02(E,tests_df.loc[i,'stress'],smoothing(tests_df.loc[i,'-13_-11_strain_p1']))[1] for i in tests_df.index]\n",
    "    tests_df['-11_-9 _rp02_idx']  = [rp02(E,tests_df.loc[i,'stress'],smoothing(tests_df.loc[i,'-11_-9 _strain_p1']))[1] for i in tests_df.index]\n",
    "    tests_df['-9_-7  _rp02_idx']  = [rp02(E,tests_df.loc[i,'stress'],smoothing(tests_df.loc[i,'-9_-7  _strain_p1']))[1] for i in tests_df.index]\n",
    "    tests_df['-7_-5  _rp02_idx']  = [rp02(E,tests_df.loc[i,'stress'],smoothing(tests_df.loc[i,'-7_-5  _strain_p1']))[1] for i in tests_df.index]\n",
    "    tests_df['-5_-3  _rp02_idx']  = [rp02(E,tests_df.loc[i,'stress'],smoothing(tests_df.loc[i,'-5_-3  _strain_p1']))[1] for i in tests_df.index]\n",
    "    tests_df['-3_-1  _rp02_idx']  = [rp02(E,tests_df.loc[i,'stress'],smoothing(tests_df.loc[i,'-3_-1  _strain_p1']))[1] for i in tests_df.index]\n",
    "    tests_df['-1_1   _rp02_idx']  = [rp02(E,tests_df.loc[i,'stress'],smoothing(tests_df.loc[i,'-1_1   _strain_p1']))[1] for i in tests_df.index]\n",
    "    tests_df['1_3    _rp02_idx']  = [rp02(E,tests_df.loc[i,'stress'],smoothing(tests_df.loc[i,'1_3    _strain_p1']))[1] for i in tests_df.index]\n",
    "    tests_df['3_5    _rp02_idx']  = [rp02(E,tests_df.loc[i,'stress'],smoothing(tests_df.loc[i,'3_5    _strain_p1']))[1] for i in tests_df.index]\n",
    "    tests_df['5_7    _rp02_idx']  = [rp02(E,tests_df.loc[i,'stress'],smoothing(tests_df.loc[i,'5_7    _strain_p1']))[1] for i in tests_df.index]\n",
    "    tests_df['7_9    _rp02_idx']  = [rp02(E,tests_df.loc[i,'stress'],smoothing(tests_df.loc[i,'7_9    _strain_p1']))[1] for i in tests_df.index]\n",
    "    tests_df['9_11   _rp02_idx']  = [rp02(E,tests_df.loc[i,'stress'],smoothing(tests_df.loc[i,'9_11   _strain_p1']))[1] for i in tests_df.index]\n",
    "    tests_df['11_13  _rp02_idx']  = [rp02(E,tests_df.loc[i,'stress'],smoothing(tests_df.loc[i,'11_13  _strain_p1']))[1] for i in tests_df.index]\n",
    "    tests_df['13_15  _rp02_idx']  = [rp02(E,tests_df.loc[i,'stress'],smoothing(tests_df.loc[i,'13_15  _strain_p1']))[1] for i in tests_df.index]\n",
    "    tests_df['15_17  _rp02_idx']  = [rp02(E,tests_df.loc[i,'stress'],smoothing(tests_df.loc[i,'15_17  _strain_p1']))[1] for i in tests_df.index]\n",
    "    tests_df['17_19  _rp02_idx']  = [rp02(E,tests_df.loc[i,'stress'],smoothing(tests_df.loc[i,'17_19  _strain_p1']))[1] for i in tests_df.index]\n",
    "    tests_df['19_21  _rp02_idx']  = [rp02(E,tests_df.loc[i,'stress'],smoothing(tests_df.loc[i,'19_21  _strain_p1']))[1] for i in tests_df.index]\n",
    "    tests_df['21_23  _rp02_idx']  = [rp02(E,tests_df.loc[i,'stress'],smoothing(tests_df.loc[i,'21_23  _strain_p1']))[1] for i in tests_df.index]\n",
    "    tests_df['23_25  _rp02_idx']  = [rp02(E,tests_df.loc[i,'stress'],smoothing(tests_df.loc[i,'23_25  _strain_p1']))[1] for i in tests_df.index]\n",
    "    tests_df['25_27  _rp02_idx']  = [rp02(E,tests_df.loc[i,'stress'],smoothing(tests_df.loc[i,'25_27  _strain_p1']))[1] for i in tests_df.index]\n",
    "    tests_df['27_29  _rp02_idx']  = [rp02(E,tests_df.loc[i,'stress'],smoothing(tests_df.loc[i,'27_29  _strain_p1']))[1] for i in tests_df.index]\n",
    "    tests_df['29_31  _rp02_idx']  = [rp02(E,tests_df.loc[i,'stress'],smoothing(tests_df.loc[i,'29_31  _strain_p1']))[1] for i in tests_df.index]\n",
    "    tests_df['31_33  _rp02_idx']  = [rp02(E,tests_df.loc[i,'stress'],smoothing(tests_df.loc[i,'31_33  _strain_p1']))[1] for i in tests_df.index]\n",
    "    tests_df['33_35  _rp02_idx']  = [rp02(E,tests_df.loc[i,'stress'],smoothing(tests_df.loc[i,'33_35  _strain_p1']))[1] for i in tests_df.index]\n",
    "    tests_df=tests_df.copy()\n",
    "    display(tests_df['5_7    _rp02_idx'])\n",
    "    return(tests_df)\n",
    "tests_df=rp02_idx(tests_df)\n",
    "#def meaner (series):\n",
    "#    means=[]\n",
    "#    for"
   ],
   "metadata": {
    "collapsed": false,
    "pycharm": {
     "name": "#%%\n"
    }
   }
  },
  {
   "cell_type": "code",
   "execution_count": 24,
   "outputs": [
    {
     "data": {
      "text/plain": "'paths'"
     },
     "metadata": {},
     "output_type": "display_data"
    },
    {
     "data": {
      "text/plain": "'Y:\\\\Istra Repositories\\\\ch-gr_exports\\\\QL_B_8yiv_clipped_cut_lined.pickle'"
     },
     "metadata": {},
     "output_type": "display_data"
    },
    {
     "data": {
      "text/plain": "'ok'"
     },
     "metadata": {},
     "output_type": "display_data"
    },
    {
     "data": {
      "text/plain": "1.0"
     },
     "metadata": {},
     "output_type": "display_data"
    },
    {
     "data": {
      "text/plain": "'crack'"
     },
     "metadata": {},
     "output_type": "display_data"
    },
    {
     "data": {
      "text/plain": "145.0"
     },
     "metadata": {},
     "output_type": "display_data"
    },
    {
     "data": {
      "text/plain": "'pos'"
     },
     "metadata": {},
     "output_type": "display_data"
    },
    {
     "data": {
      "text/plain": "135.0"
     },
     "metadata": {},
     "output_type": "display_data"
    },
    {
     "data": {
      "text/plain": "'left_12-5'"
     },
     "metadata": {},
     "output_type": "display_data"
    },
    {
     "data": {
      "text/plain": "115.0"
     },
     "metadata": {},
     "output_type": "display_data"
    },
    {
     "data": {
      "text/plain": "'step_start'"
     },
     "metadata": {},
     "output_type": "display_data"
    },
    {
     "data": {
      "text/plain": "100.0"
     },
     "metadata": {},
     "output_type": "display_data"
    },
    {
     "data": {
      "text/plain": "'step_stop'"
     },
     "metadata": {},
     "output_type": "display_data"
    },
    {
     "data": {
      "text/plain": "390.0"
     },
     "metadata": {},
     "output_type": "display_data"
    },
    {
     "data": {
      "text/plain": "'index'"
     },
     "metadata": {},
     "output_type": "display_data"
    },
    {
     "data": {
      "text/plain": "'QL_B_8yiv_clipped_cut_lined'"
     },
     "metadata": {},
     "output_type": "display_data"
    },
    {
     "data": {
      "text/plain": "'material'"
     },
     "metadata": {},
     "output_type": "display_data"
    },
    {
     "data": {
      "text/plain": "'QL'"
     },
     "metadata": {},
     "output_type": "display_data"
    },
    {
     "data": {
      "text/plain": "'senergie/GW'"
     },
     "metadata": {},
     "output_type": "display_data"
    },
    {
     "data": {
      "text/plain": "'B'"
     },
     "metadata": {},
     "output_type": "display_data"
    },
    {
     "data": {
      "text/plain": "'plate_thickness'"
     },
     "metadata": {},
     "output_type": "display_data"
    },
    {
     "data": {
      "text/plain": "'8'"
     },
     "metadata": {},
     "output_type": "display_data"
    },
    {
     "data": {
      "text/plain": "'testspeed'"
     },
     "metadata": {},
     "output_type": "display_data"
    },
    {
     "data": {
      "text/plain": "'y'"
     },
     "metadata": {},
     "output_type": "display_data"
    },
    {
     "data": {
      "text/plain": "'running_number'"
     },
     "metadata": {},
     "output_type": "display_data"
    },
    {
     "data": {
      "text/plain": "'iv'"
     },
     "metadata": {},
     "output_type": "display_data"
    },
    {
     "data": {
      "text/plain": "'data'"
     },
     "metadata": {},
     "output_type": "display_data"
    },
    {
     "data": {
      "text/plain": "group                                                              add_data  \\\ndataset                                                     analog_channels   \nY:\\Istra Repositories\\ch-gr_exports\\QL_B_8yiv\\s...  [[0.10637512404247841]]   \nY:\\Istra Repositories\\ch-gr_exports\\QL_B_8yiv\\s...  [[0.11985606834534716]]   \nY:\\Istra Repositories\\ch-gr_exports\\QL_B_8yiv\\s...   [[0.1330082092059294]]   \nY:\\Istra Repositories\\ch-gr_exports\\QL_B_8yiv\\s...  [[0.14550274309557784]]   \nY:\\Istra Repositories\\ch-gr_exports\\QL_B_8yiv\\s...   [[0.1593124911621832]]   \n...                                                                     ...   \nY:\\Istra Repositories\\ch-gr_exports\\QL_B_8yiv\\s...   [[3.7136865224980413]]   \nY:\\Istra Repositories\\ch-gr_exports\\QL_B_8yiv\\s...   [[3.7110560789194054]]   \nY:\\Istra Repositories\\ch-gr_exports\\QL_B_8yiv\\s...    [[3.709083246248234]]   \nY:\\Istra Repositories\\ch-gr_exports\\QL_B_8yiv\\s...    [[3.706781608145733]]   \nY:\\Istra Repositories\\ch-gr_exports\\QL_B_8yiv\\s...   [[3.7054663863795767]]   \n\ngroup                                                                                     coordinates  \\\ndataset                                                                                  coordinate_x   \nY:\\Istra Repositories\\ch-gr_exports\\QL_B_8yiv\\s...  2     -2.032726\n3     -2.055891\n4     -2.07932...   \nY:\\Istra Repositories\\ch-gr_exports\\QL_B_8yiv\\s...  2     -2.033182\n3     -2.056119\n4     -2.07959...   \nY:\\Istra Repositories\\ch-gr_exports\\QL_B_8yiv\\s...  2     -2.033273\n3     -2.056319\n4     -2.07967...   \nY:\\Istra Repositories\\ch-gr_exports\\QL_B_8yiv\\s...  2     -2.032717\n3     -2.055824\n4     -2.07908...   \nY:\\Istra Repositories\\ch-gr_exports\\QL_B_8yiv\\s...  2     -2.033140\n3     -2.056232\n4     -2.07935...   \n...                                                                                               ...   \nY:\\Istra Repositories\\ch-gr_exports\\QL_B_8yiv\\s...  2      0.000000\n3      0.000000\n4      0.00000...   \nY:\\Istra Repositories\\ch-gr_exports\\QL_B_8yiv\\s...  2      0.000000\n3      0.000000\n4      0.00000...   \nY:\\Istra Repositories\\ch-gr_exports\\QL_B_8yiv\\s...  2      0.000000\n3      0.000000\n4      0.00000...   \nY:\\Istra Repositories\\ch-gr_exports\\QL_B_8yiv\\s...  2      0.000000\n3      0.000000\n4      0.00000...   \nY:\\Istra Repositories\\ch-gr_exports\\QL_B_8yiv\\s...  2      0.000000\n3      0.000000\n4      0.00000...   \n\ngroup                                                                                                  \\\ndataset                                                                                  coordinate_y   \nY:\\Istra Repositories\\ch-gr_exports\\QL_B_8yiv\\s...  2      56.389032\n3      55.954140\n4      55.51...   \nY:\\Istra Repositories\\ch-gr_exports\\QL_B_8yiv\\s...  2      56.398970\n3      55.964299\n4      55.52...   \nY:\\Istra Repositories\\ch-gr_exports\\QL_B_8yiv\\s...  2      56.408561\n3      55.973012\n4      55.53...   \nY:\\Istra Repositories\\ch-gr_exports\\QL_B_8yiv\\s...  2      56.418988\n3      55.983306\n4      55.54...   \nY:\\Istra Repositories\\ch-gr_exports\\QL_B_8yiv\\s...  2      56.428071\n3      55.992558\n4      55.55...   \n...                                                                                               ...   \nY:\\Istra Repositories\\ch-gr_exports\\QL_B_8yiv\\s...  2       0.000000\n3       0.000000\n4       0.00...   \nY:\\Istra Repositories\\ch-gr_exports\\QL_B_8yiv\\s...  2       0.000000\n3       0.000000\n4       0.00...   \nY:\\Istra Repositories\\ch-gr_exports\\QL_B_8yiv\\s...  2       0.000000\n3       0.000000\n4       0.00...   \nY:\\Istra Repositories\\ch-gr_exports\\QL_B_8yiv\\s...  2       0.000000\n3       0.000000\n4       0.00...   \nY:\\Istra Repositories\\ch-gr_exports\\QL_B_8yiv\\s...  2       0.000000\n3       0.000000\n4       0.00...   \n\ngroup                                                                                                  \\\ndataset                                                                                  coordinate_z   \nY:\\Istra Repositories\\ch-gr_exports\\QL_B_8yiv\\s...  2     -1.044457\n3     -1.189876\n4     -1.32368...   \nY:\\Istra Repositories\\ch-gr_exports\\QL_B_8yiv\\s...  2     -1.041931\n3     -1.188829\n4     -1.32206...   \nY:\\Istra Repositories\\ch-gr_exports\\QL_B_8yiv\\s...  2     -1.046890\n3     -1.188106\n4     -1.32430...   \nY:\\Istra Repositories\\ch-gr_exports\\QL_B_8yiv\\s...  2     -1.055054\n3     -1.195548\n4     -1.33212...   \nY:\\Istra Repositories\\ch-gr_exports\\QL_B_8yiv\\s...  2     -1.051815\n3     -1.194660\n4     -1.33365...   \n...                                                                                               ...   \nY:\\Istra Repositories\\ch-gr_exports\\QL_B_8yiv\\s...  2      0.000000\n3      0.000000\n4      0.00000...   \nY:\\Istra Repositories\\ch-gr_exports\\QL_B_8yiv\\s...  2      0.000000\n3      0.000000\n4      0.00000...   \nY:\\Istra Repositories\\ch-gr_exports\\QL_B_8yiv\\s...  2      0.000000\n3      0.000000\n4      0.00000...   \nY:\\Istra Repositories\\ch-gr_exports\\QL_B_8yiv\\s...  2      0.000000\n3      0.000000\n4      0.00000...   \nY:\\Istra Repositories\\ch-gr_exports\\QL_B_8yiv\\s...  2      0.000000\n3      0.000000\n4      0.00000...   \n\ngroup                                                                                   displacements  \\\ndataset                                                                            displacement_total   \nY:\\Istra Repositories\\ch-gr_exports\\QL_B_8yiv\\s...  2      0.069505\n3      0.070323\n4      0.06915...   \nY:\\Istra Repositories\\ch-gr_exports\\QL_B_8yiv\\s...  2      0.079650\n3      0.080431\n4      0.07932...   \nY:\\Istra Repositories\\ch-gr_exports\\QL_B_8yiv\\s...  2      0.089176\n3      0.088749\n4      0.08835...   \nY:\\Istra Repositories\\ch-gr_exports\\QL_B_8yiv\\s...  2      0.100586\n3      0.099665\n4      0.09977...   \nY:\\Istra Repositories\\ch-gr_exports\\QL_B_8yiv\\s...  2      0.108787\n3      0.108546\n4      0.10846...   \n...                                                                                               ...   \nY:\\Istra Repositories\\ch-gr_exports\\QL_B_8yiv\\s...  2      0.000000\n3      0.000000\n4      0.00000...   \nY:\\Istra Repositories\\ch-gr_exports\\QL_B_8yiv\\s...  2      0.000000\n3      0.000000\n4      0.00000...   \nY:\\Istra Repositories\\ch-gr_exports\\QL_B_8yiv\\s...  2      0.000000\n3      0.000000\n4      0.00000...   \nY:\\Istra Repositories\\ch-gr_exports\\QL_B_8yiv\\s...  2      0.000000\n3      0.000000\n4      0.00000...   \nY:\\Istra Repositories\\ch-gr_exports\\QL_B_8yiv\\s...  2      0.000000\n3      0.000000\n4      0.00000...   \n\ngroup                                                                                         strains  \\\ndataset                                                                                     strain_p1   \nY:\\Istra Repositories\\ch-gr_exports\\QL_B_8yiv\\s...  2      4.316305\n3      5.383584\n4      3.81618...   \nY:\\Istra Repositories\\ch-gr_exports\\QL_B_8yiv\\s...  2      4.075442\n3      3.509372\n4      4.79483...   \nY:\\Istra Repositories\\ch-gr_exports\\QL_B_8yiv\\s...  2      2.744315\n3      3.770051\n4      4.18500...   \nY:\\Istra Repositories\\ch-gr_exports\\QL_B_8yiv\\s...  2      2.742046\n3      3.083787\n4      4.22614...   \nY:\\Istra Repositories\\ch-gr_exports\\QL_B_8yiv\\s...  2      4.594683\n3      4.209283\n4      5.36718...   \n...                                                                                               ...   \nY:\\Istra Repositories\\ch-gr_exports\\QL_B_8yiv\\s...  2      0.000000\n3      0.000000\n4      0.00000...   \nY:\\Istra Repositories\\ch-gr_exports\\QL_B_8yiv\\s...  2      0.000000\n3      0.000000\n4      0.00000...   \nY:\\Istra Repositories\\ch-gr_exports\\QL_B_8yiv\\s...  2      0.000000\n3      0.000000\n4      0.00000...   \nY:\\Istra Repositories\\ch-gr_exports\\QL_B_8yiv\\s...  2      0.000000\n3      0.000000\n4      0.00000...   \nY:\\Istra Repositories\\ch-gr_exports\\QL_B_8yiv\\s...  2      0.000000\n3      0.000000\n4      0.00000...   \n\ngroup                                                                                                  \\\ndataset                                                                                     strain_p2   \nY:\\Istra Repositories\\ch-gr_exports\\QL_B_8yiv\\s...  2     -4.373300\n3     -3.509788\n4     -3.26399...   \nY:\\Istra Repositories\\ch-gr_exports\\QL_B_8yiv\\s...  2     -4.070070\n3     -4.081952\n4     -3.92161...   \nY:\\Istra Repositories\\ch-gr_exports\\QL_B_8yiv\\s...  2     -5.729670\n3     -3.708555\n4     -3.05043...   \nY:\\Istra Repositories\\ch-gr_exports\\QL_B_8yiv\\s...  2     -3.861342\n3     -3.563641\n4     -2.57400...   \nY:\\Istra Repositories\\ch-gr_exports\\QL_B_8yiv\\s...  2     -4.582276\n3     -2.896274\n4     -1.66358...   \n...                                                                                               ...   \nY:\\Istra Repositories\\ch-gr_exports\\QL_B_8yiv\\s...  2      0.000000\n3      0.000000\n4      0.00000...   \nY:\\Istra Repositories\\ch-gr_exports\\QL_B_8yiv\\s...  2      0.000000\n3      0.000000\n4      0.00000...   \nY:\\Istra Repositories\\ch-gr_exports\\QL_B_8yiv\\s...  2      0.000000\n3      0.000000\n4      0.00000...   \nY:\\Istra Repositories\\ch-gr_exports\\QL_B_8yiv\\s...  2      0.000000\n3      0.000000\n4      0.00000...   \nY:\\Istra Repositories\\ch-gr_exports\\QL_B_8yiv\\s...  2      0.000000\n3      0.000000\n4      0.00000...   \n\ngroup                                                                                                  \\\ndataset                                                                                     strain_xx   \nY:\\Istra Repositories\\ch-gr_exports\\QL_B_8yiv\\s...  2     -0.216446\n3     -0.091590\n4      0.26246...   \nY:\\Istra Repositories\\ch-gr_exports\\QL_B_8yiv\\s...  2     -0.743384\n3     -0.355803\n4      0.36769...   \nY:\\Istra Repositories\\ch-gr_exports\\QL_B_8yiv\\s...  2     -0.308857\n3      0.002406\n4      0.20639...   \nY:\\Istra Repositories\\ch-gr_exports\\QL_B_8yiv\\s...  2     -0.261907\n3     -0.372222\n4      0.17591...   \nY:\\Istra Repositories\\ch-gr_exports\\QL_B_8yiv\\s...  2     -0.016747\n3     -0.667133\n4      0.06958...   \n...                                                                                               ...   \nY:\\Istra Repositories\\ch-gr_exports\\QL_B_8yiv\\s...  2      0.000000\n3      0.000000\n4      0.00000...   \nY:\\Istra Repositories\\ch-gr_exports\\QL_B_8yiv\\s...  2      0.000000\n3      0.000000\n4      0.00000...   \nY:\\Istra Repositories\\ch-gr_exports\\QL_B_8yiv\\s...  2      0.000000\n3      0.000000\n4      0.00000...   \nY:\\Istra Repositories\\ch-gr_exports\\QL_B_8yiv\\s...  2      0.000000\n3      0.000000\n4      0.00000...   \nY:\\Istra Repositories\\ch-gr_exports\\QL_B_8yiv\\s...  2      0.000000\n3      0.000000\n4      0.00000...   \n\ngroup                                                                                                  \\\ndataset                                                                                     strain_xy   \nY:\\Istra Repositories\\ch-gr_exports\\QL_B_8yiv\\s...  2     -0.353044\n3      0.231008\n4      0.39715...   \nY:\\Istra Repositories\\ch-gr_exports\\QL_B_8yiv\\s...  2      0.130414\n3     -0.579916\n4      0.54754...   \nY:\\Istra Repositories\\ch-gr_exports\\QL_B_8yiv\\s...  2     -0.104899\n3     -1.373139\n4      0.06183...   \nY:\\Istra Repositories\\ch-gr_exports\\QL_B_8yiv\\s...  2     -0.492018\n3     -0.911573\n4      0.46923...   \nY:\\Istra Repositories\\ch-gr_exports\\QL_B_8yiv\\s...  2     -0.394488\n3     -0.613395\n4      0.10372...   \n...                                                                                               ...   \nY:\\Istra Repositories\\ch-gr_exports\\QL_B_8yiv\\s...  2      0.000000\n3      0.000000\n4      0.00000...   \nY:\\Istra Repositories\\ch-gr_exports\\QL_B_8yiv\\s...  2      0.000000\n3      0.000000\n4      0.00000...   \nY:\\Istra Repositories\\ch-gr_exports\\QL_B_8yiv\\s...  2      0.000000\n3      0.000000\n4      0.00000...   \nY:\\Istra Repositories\\ch-gr_exports\\QL_B_8yiv\\s...  2      0.000000\n3      0.000000\n4      0.00000...   \nY:\\Istra Repositories\\ch-gr_exports\\QL_B_8yiv\\s...  2      0.000000\n3      0.000000\n4      0.00000...   \n\ngroup                                                                                                  \ndataset                                                                                     strain_yy  \nY:\\Istra Repositories\\ch-gr_exports\\QL_B_8yiv\\s...  2      0.159450\n3      1.965388\n4      0.28972...  \nY:\\Istra Repositories\\ch-gr_exports\\QL_B_8yiv\\s...  2      0.748756\n3     -0.216775\n4      0.50553...  \nY:\\Istra Repositories\\ch-gr_exports\\QL_B_8yiv\\s...  2     -2.676498\n3      0.059091\n4      0.92817...  \nY:\\Istra Repositories\\ch-gr_exports\\QL_B_8yiv\\s...  2     -0.857388\n3     -0.107632\n4      1.47622...  \nY:\\Istra Repositories\\ch-gr_exports\\QL_B_8yiv\\s...  2      0.029155\n3      1.980141\n4      3.63401...  \n...                                                                                               ...  \nY:\\Istra Repositories\\ch-gr_exports\\QL_B_8yiv\\s...  2      0.000000\n3      0.000000\n4      0.00000...  \nY:\\Istra Repositories\\ch-gr_exports\\QL_B_8yiv\\s...  2      0.000000\n3      0.000000\n4      0.00000...  \nY:\\Istra Repositories\\ch-gr_exports\\QL_B_8yiv\\s...  2      0.000000\n3      0.000000\n4      0.00000...  \nY:\\Istra Repositories\\ch-gr_exports\\QL_B_8yiv\\s...  2      0.000000\n3      0.000000\n4      0.00000...  \nY:\\Istra Repositories\\ch-gr_exports\\QL_B_8yiv\\s...  2      0.000000\n3      0.000000\n4      0.00000...  \n\n[290 rows x 10 columns]",
      "text/html": "<div>\n<style scoped>\n    .dataframe tbody tr th:only-of-type {\n        vertical-align: middle;\n    }\n\n    .dataframe tbody tr th {\n        vertical-align: top;\n    }\n\n    .dataframe thead tr th {\n        text-align: left;\n    }\n</style>\n<table border=\"1\" class=\"dataframe\">\n  <thead>\n    <tr>\n      <th>group</th>\n      <th>add_data</th>\n      <th colspan=\"3\" halign=\"left\">coordinates</th>\n      <th>displacements</th>\n      <th colspan=\"5\" halign=\"left\">strains</th>\n    </tr>\n    <tr>\n      <th>dataset</th>\n      <th>analog_channels</th>\n      <th>coordinate_x</th>\n      <th>coordinate_y</th>\n      <th>coordinate_z</th>\n      <th>displacement_total</th>\n      <th>strain_p1</th>\n      <th>strain_p2</th>\n      <th>strain_xx</th>\n      <th>strain_xy</th>\n      <th>strain_yy</th>\n    </tr>\n  </thead>\n  <tbody>\n    <tr>\n      <th>Y:\\Istra Repositories\\ch-gr_exports\\QL_B_8yiv\\series_step_100.hdf5</th>\n      <td>[[0.10637512404247841]]</td>\n      <td>2     -2.032726\n3     -2.055891\n4     -2.07932...</td>\n      <td>2      56.389032\n3      55.954140\n4      55.51...</td>\n      <td>2     -1.044457\n3     -1.189876\n4     -1.32368...</td>\n      <td>2      0.069505\n3      0.070323\n4      0.06915...</td>\n      <td>2      4.316305\n3      5.383584\n4      3.81618...</td>\n      <td>2     -4.373300\n3     -3.509788\n4     -3.26399...</td>\n      <td>2     -0.216446\n3     -0.091590\n4      0.26246...</td>\n      <td>2     -0.353044\n3      0.231008\n4      0.39715...</td>\n      <td>2      0.159450\n3      1.965388\n4      0.28972...</td>\n    </tr>\n    <tr>\n      <th>Y:\\Istra Repositories\\ch-gr_exports\\QL_B_8yiv\\series_step_101.hdf5</th>\n      <td>[[0.11985606834534716]]</td>\n      <td>2     -2.033182\n3     -2.056119\n4     -2.07959...</td>\n      <td>2      56.398970\n3      55.964299\n4      55.52...</td>\n      <td>2     -1.041931\n3     -1.188829\n4     -1.32206...</td>\n      <td>2      0.079650\n3      0.080431\n4      0.07932...</td>\n      <td>2      4.075442\n3      3.509372\n4      4.79483...</td>\n      <td>2     -4.070070\n3     -4.081952\n4     -3.92161...</td>\n      <td>2     -0.743384\n3     -0.355803\n4      0.36769...</td>\n      <td>2      0.130414\n3     -0.579916\n4      0.54754...</td>\n      <td>2      0.748756\n3     -0.216775\n4      0.50553...</td>\n    </tr>\n    <tr>\n      <th>Y:\\Istra Repositories\\ch-gr_exports\\QL_B_8yiv\\series_step_102.hdf5</th>\n      <td>[[0.1330082092059294]]</td>\n      <td>2     -2.033273\n3     -2.056319\n4     -2.07967...</td>\n      <td>2      56.408561\n3      55.973012\n4      55.53...</td>\n      <td>2     -1.046890\n3     -1.188106\n4     -1.32430...</td>\n      <td>2      0.089176\n3      0.088749\n4      0.08835...</td>\n      <td>2      2.744315\n3      3.770051\n4      4.18500...</td>\n      <td>2     -5.729670\n3     -3.708555\n4     -3.05043...</td>\n      <td>2     -0.308857\n3      0.002406\n4      0.20639...</td>\n      <td>2     -0.104899\n3     -1.373139\n4      0.06183...</td>\n      <td>2     -2.676498\n3      0.059091\n4      0.92817...</td>\n    </tr>\n    <tr>\n      <th>Y:\\Istra Repositories\\ch-gr_exports\\QL_B_8yiv\\series_step_103.hdf5</th>\n      <td>[[0.14550274309557784]]</td>\n      <td>2     -2.032717\n3     -2.055824\n4     -2.07908...</td>\n      <td>2      56.418988\n3      55.983306\n4      55.54...</td>\n      <td>2     -1.055054\n3     -1.195548\n4     -1.33212...</td>\n      <td>2      0.100586\n3      0.099665\n4      0.09977...</td>\n      <td>2      2.742046\n3      3.083787\n4      4.22614...</td>\n      <td>2     -3.861342\n3     -3.563641\n4     -2.57400...</td>\n      <td>2     -0.261907\n3     -0.372222\n4      0.17591...</td>\n      <td>2     -0.492018\n3     -0.911573\n4      0.46923...</td>\n      <td>2     -0.857388\n3     -0.107632\n4      1.47622...</td>\n    </tr>\n    <tr>\n      <th>Y:\\Istra Repositories\\ch-gr_exports\\QL_B_8yiv\\series_step_104.hdf5</th>\n      <td>[[0.1593124911621832]]</td>\n      <td>2     -2.033140\n3     -2.056232\n4     -2.07935...</td>\n      <td>2      56.428071\n3      55.992558\n4      55.55...</td>\n      <td>2     -1.051815\n3     -1.194660\n4     -1.33365...</td>\n      <td>2      0.108787\n3      0.108546\n4      0.10846...</td>\n      <td>2      4.594683\n3      4.209283\n4      5.36718...</td>\n      <td>2     -4.582276\n3     -2.896274\n4     -1.66358...</td>\n      <td>2     -0.016747\n3     -0.667133\n4      0.06958...</td>\n      <td>2     -0.394488\n3     -0.613395\n4      0.10372...</td>\n      <td>2      0.029155\n3      1.980141\n4      3.63401...</td>\n    </tr>\n    <tr>\n      <th>...</th>\n      <td>...</td>\n      <td>...</td>\n      <td>...</td>\n      <td>...</td>\n      <td>...</td>\n      <td>...</td>\n      <td>...</td>\n      <td>...</td>\n      <td>...</td>\n      <td>...</td>\n    </tr>\n    <tr>\n      <th>Y:\\Istra Repositories\\ch-gr_exports\\QL_B_8yiv\\series_step_385.hdf5</th>\n      <td>[[3.7136865224980413]]</td>\n      <td>2      0.000000\n3      0.000000\n4      0.00000...</td>\n      <td>2       0.000000\n3       0.000000\n4       0.00...</td>\n      <td>2      0.000000\n3      0.000000\n4      0.00000...</td>\n      <td>2      0.000000\n3      0.000000\n4      0.00000...</td>\n      <td>2      0.000000\n3      0.000000\n4      0.00000...</td>\n      <td>2      0.000000\n3      0.000000\n4      0.00000...</td>\n      <td>2      0.000000\n3      0.000000\n4      0.00000...</td>\n      <td>2      0.000000\n3      0.000000\n4      0.00000...</td>\n      <td>2      0.000000\n3      0.000000\n4      0.00000...</td>\n    </tr>\n    <tr>\n      <th>Y:\\Istra Repositories\\ch-gr_exports\\QL_B_8yiv\\series_step_386.hdf5</th>\n      <td>[[3.7110560789194054]]</td>\n      <td>2      0.000000\n3      0.000000\n4      0.00000...</td>\n      <td>2       0.000000\n3       0.000000\n4       0.00...</td>\n      <td>2      0.000000\n3      0.000000\n4      0.00000...</td>\n      <td>2      0.000000\n3      0.000000\n4      0.00000...</td>\n      <td>2      0.000000\n3      0.000000\n4      0.00000...</td>\n      <td>2      0.000000\n3      0.000000\n4      0.00000...</td>\n      <td>2      0.000000\n3      0.000000\n4      0.00000...</td>\n      <td>2      0.000000\n3      0.000000\n4      0.00000...</td>\n      <td>2      0.000000\n3      0.000000\n4      0.00000...</td>\n    </tr>\n    <tr>\n      <th>Y:\\Istra Repositories\\ch-gr_exports\\QL_B_8yiv\\series_step_387.hdf5</th>\n      <td>[[3.709083246248234]]</td>\n      <td>2      0.000000\n3      0.000000\n4      0.00000...</td>\n      <td>2       0.000000\n3       0.000000\n4       0.00...</td>\n      <td>2      0.000000\n3      0.000000\n4      0.00000...</td>\n      <td>2      0.000000\n3      0.000000\n4      0.00000...</td>\n      <td>2      0.000000\n3      0.000000\n4      0.00000...</td>\n      <td>2      0.000000\n3      0.000000\n4      0.00000...</td>\n      <td>2      0.000000\n3      0.000000\n4      0.00000...</td>\n      <td>2      0.000000\n3      0.000000\n4      0.00000...</td>\n      <td>2      0.000000\n3      0.000000\n4      0.00000...</td>\n    </tr>\n    <tr>\n      <th>Y:\\Istra Repositories\\ch-gr_exports\\QL_B_8yiv\\series_step_388.hdf5</th>\n      <td>[[3.706781608145733]]</td>\n      <td>2      0.000000\n3      0.000000\n4      0.00000...</td>\n      <td>2       0.000000\n3       0.000000\n4       0.00...</td>\n      <td>2      0.000000\n3      0.000000\n4      0.00000...</td>\n      <td>2      0.000000\n3      0.000000\n4      0.00000...</td>\n      <td>2      0.000000\n3      0.000000\n4      0.00000...</td>\n      <td>2      0.000000\n3      0.000000\n4      0.00000...</td>\n      <td>2      0.000000\n3      0.000000\n4      0.00000...</td>\n      <td>2      0.000000\n3      0.000000\n4      0.00000...</td>\n      <td>2      0.000000\n3      0.000000\n4      0.00000...</td>\n    </tr>\n    <tr>\n      <th>Y:\\Istra Repositories\\ch-gr_exports\\QL_B_8yiv\\series_step_389.hdf5</th>\n      <td>[[3.7054663863795767]]</td>\n      <td>2      0.000000\n3      0.000000\n4      0.00000...</td>\n      <td>2       0.000000\n3       0.000000\n4       0.00...</td>\n      <td>2      0.000000\n3      0.000000\n4      0.00000...</td>\n      <td>2      0.000000\n3      0.000000\n4      0.00000...</td>\n      <td>2      0.000000\n3      0.000000\n4      0.00000...</td>\n      <td>2      0.000000\n3      0.000000\n4      0.00000...</td>\n      <td>2      0.000000\n3      0.000000\n4      0.00000...</td>\n      <td>2      0.000000\n3      0.000000\n4      0.00000...</td>\n      <td>2      0.000000\n3      0.000000\n4      0.00000...</td>\n    </tr>\n  </tbody>\n</table>\n<p>290 rows × 10 columns</p>\n</div>"
     },
     "metadata": {},
     "output_type": "display_data"
    },
    {
     "data": {
      "text/plain": "'-35_-33_idxs'"
     },
     "metadata": {},
     "output_type": "display_data"
    },
    {
     "data": {
      "text/plain": "(135, 58, 63)"
     },
     "metadata": {},
     "output_type": "display_data"
    },
    {
     "data": {
      "text/plain": "'-33_-31_idxs'"
     },
     "metadata": {},
     "output_type": "display_data"
    },
    {
     "data": {
      "text/plain": "(135, 63, 67)"
     },
     "metadata": {},
     "output_type": "display_data"
    },
    {
     "data": {
      "text/plain": "'-31_-29_idxs'"
     },
     "metadata": {},
     "output_type": "display_data"
    },
    {
     "data": {
      "text/plain": "(135, 67, 71)"
     },
     "metadata": {},
     "output_type": "display_data"
    },
    {
     "data": {
      "text/plain": "'-29_-27_idxs'"
     },
     "metadata": {},
     "output_type": "display_data"
    },
    {
     "data": {
      "text/plain": "(135, 71, 76)"
     },
     "metadata": {},
     "output_type": "display_data"
    },
    {
     "data": {
      "text/plain": "'-27_-25_idxs'"
     },
     "metadata": {},
     "output_type": "display_data"
    },
    {
     "data": {
      "text/plain": "(135, 76, 80)"
     },
     "metadata": {},
     "output_type": "display_data"
    },
    {
     "data": {
      "text/plain": "'-25_-23_idxs'"
     },
     "metadata": {},
     "output_type": "display_data"
    },
    {
     "data": {
      "text/plain": "(135, 80, 84)"
     },
     "metadata": {},
     "output_type": "display_data"
    },
    {
     "data": {
      "text/plain": "'-23_-21_idxs'"
     },
     "metadata": {},
     "output_type": "display_data"
    },
    {
     "data": {
      "text/plain": "(135, 84, 89)"
     },
     "metadata": {},
     "output_type": "display_data"
    },
    {
     "data": {
      "text/plain": "'-21_-19_idxs'"
     },
     "metadata": {},
     "output_type": "display_data"
    },
    {
     "data": {
      "text/plain": "(135, 89, 93)"
     },
     "metadata": {},
     "output_type": "display_data"
    },
    {
     "data": {
      "text/plain": "'-19_-17_idxs'"
     },
     "metadata": {},
     "output_type": "display_data"
    },
    {
     "data": {
      "text/plain": "(135, 93, 98)"
     },
     "metadata": {},
     "output_type": "display_data"
    },
    {
     "data": {
      "text/plain": "'-17_-15_idxs'"
     },
     "metadata": {},
     "output_type": "display_data"
    },
    {
     "data": {
      "text/plain": "(135, 98, 102)"
     },
     "metadata": {},
     "output_type": "display_data"
    },
    {
     "data": {
      "text/plain": "'-15_-13_idxs'"
     },
     "metadata": {},
     "output_type": "display_data"
    },
    {
     "data": {
      "text/plain": "(135, 102, 106)"
     },
     "metadata": {},
     "output_type": "display_data"
    },
    {
     "data": {
      "text/plain": "'-13_-11_idxs'"
     },
     "metadata": {},
     "output_type": "display_data"
    },
    {
     "data": {
      "text/plain": "(135, 106, 111)"
     },
     "metadata": {},
     "output_type": "display_data"
    },
    {
     "data": {
      "text/plain": "'-11_-9 _idxs'"
     },
     "metadata": {},
     "output_type": "display_data"
    },
    {
     "data": {
      "text/plain": "(135, 111, 115)"
     },
     "metadata": {},
     "output_type": "display_data"
    },
    {
     "data": {
      "text/plain": "'-9_-7  _idxs'"
     },
     "metadata": {},
     "output_type": "display_data"
    },
    {
     "data": {
      "text/plain": "(135, 115, 120)"
     },
     "metadata": {},
     "output_type": "display_data"
    },
    {
     "data": {
      "text/plain": "'-7_-5  _idxs'"
     },
     "metadata": {},
     "output_type": "display_data"
    },
    {
     "data": {
      "text/plain": "(135, 120, 124)"
     },
     "metadata": {},
     "output_type": "display_data"
    },
    {
     "data": {
      "text/plain": "'-5_-3  _idxs'"
     },
     "metadata": {},
     "output_type": "display_data"
    },
    {
     "data": {
      "text/plain": "(135, 124, 128)"
     },
     "metadata": {},
     "output_type": "display_data"
    },
    {
     "data": {
      "text/plain": "'-3_-1  _idxs'"
     },
     "metadata": {},
     "output_type": "display_data"
    },
    {
     "data": {
      "text/plain": "(135, 128, 133)"
     },
     "metadata": {},
     "output_type": "display_data"
    },
    {
     "data": {
      "text/plain": "'-1_1   _idxs'"
     },
     "metadata": {},
     "output_type": "display_data"
    },
    {
     "data": {
      "text/plain": "(135, 133, 137)"
     },
     "metadata": {},
     "output_type": "display_data"
    },
    {
     "data": {
      "text/plain": "'1_3    _idxs'"
     },
     "metadata": {},
     "output_type": "display_data"
    },
    {
     "data": {
      "text/plain": "(135, 137, 142)"
     },
     "metadata": {},
     "output_type": "display_data"
    },
    {
     "data": {
      "text/plain": "'3_5    _idxs'"
     },
     "metadata": {},
     "output_type": "display_data"
    },
    {
     "data": {
      "text/plain": "(135, 142, 146)"
     },
     "metadata": {},
     "output_type": "display_data"
    },
    {
     "data": {
      "text/plain": "'5_7    _idxs'"
     },
     "metadata": {},
     "output_type": "display_data"
    },
    {
     "data": {
      "text/plain": "(135, 146, 150)"
     },
     "metadata": {},
     "output_type": "display_data"
    },
    {
     "data": {
      "text/plain": "'7_9    _idxs'"
     },
     "metadata": {},
     "output_type": "display_data"
    },
    {
     "data": {
      "text/plain": "(135, 150, 155)"
     },
     "metadata": {},
     "output_type": "display_data"
    },
    {
     "data": {
      "text/plain": "'9_11   _idxs'"
     },
     "metadata": {},
     "output_type": "display_data"
    },
    {
     "data": {
      "text/plain": "(135, 155, 159)"
     },
     "metadata": {},
     "output_type": "display_data"
    },
    {
     "data": {
      "text/plain": "'11_13  _idxs'"
     },
     "metadata": {},
     "output_type": "display_data"
    },
    {
     "data": {
      "text/plain": "(135, 159, 164)"
     },
     "metadata": {},
     "output_type": "display_data"
    },
    {
     "data": {
      "text/plain": "'13_15  _idxs'"
     },
     "metadata": {},
     "output_type": "display_data"
    },
    {
     "data": {
      "text/plain": "(135, 164, 168)"
     },
     "metadata": {},
     "output_type": "display_data"
    },
    {
     "data": {
      "text/plain": "'15_17  _idxs'"
     },
     "metadata": {},
     "output_type": "display_data"
    },
    {
     "data": {
      "text/plain": "(135, 168, 173)"
     },
     "metadata": {},
     "output_type": "display_data"
    },
    {
     "data": {
      "text/plain": "'17_19  _idxs'"
     },
     "metadata": {},
     "output_type": "display_data"
    },
    {
     "data": {
      "text/plain": "(135, 173, 177)"
     },
     "metadata": {},
     "output_type": "display_data"
    },
    {
     "data": {
      "text/plain": "'19_21  _idxs'"
     },
     "metadata": {},
     "output_type": "display_data"
    },
    {
     "data": {
      "text/plain": "(135, 177, 181)"
     },
     "metadata": {},
     "output_type": "display_data"
    },
    {
     "data": {
      "text/plain": "'21_23  _idxs'"
     },
     "metadata": {},
     "output_type": "display_data"
    },
    {
     "data": {
      "text/plain": "(135, 181, 186)"
     },
     "metadata": {},
     "output_type": "display_data"
    },
    {
     "data": {
      "text/plain": "'23_25  _idxs'"
     },
     "metadata": {},
     "output_type": "display_data"
    },
    {
     "data": {
      "text/plain": "(135, 186, 190)"
     },
     "metadata": {},
     "output_type": "display_data"
    },
    {
     "data": {
      "text/plain": "'25_27  _idxs'"
     },
     "metadata": {},
     "output_type": "display_data"
    },
    {
     "data": {
      "text/plain": "(135, 190, 195)"
     },
     "metadata": {},
     "output_type": "display_data"
    },
    {
     "data": {
      "text/plain": "'27_29  _idxs'"
     },
     "metadata": {},
     "output_type": "display_data"
    },
    {
     "data": {
      "text/plain": "(135, 195, 199)"
     },
     "metadata": {},
     "output_type": "display_data"
    },
    {
     "data": {
      "text/plain": "'29_31  _idxs'"
     },
     "metadata": {},
     "output_type": "display_data"
    },
    {
     "data": {
      "text/plain": "(135, 199, 199)"
     },
     "metadata": {},
     "output_type": "display_data"
    },
    {
     "data": {
      "text/plain": "'31_33  _idxs'"
     },
     "metadata": {},
     "output_type": "display_data"
    },
    {
     "data": {
      "text/plain": "(135, 199, 199)"
     },
     "metadata": {},
     "output_type": "display_data"
    },
    {
     "data": {
      "text/plain": "'33_35  _idxs'"
     },
     "metadata": {},
     "output_type": "display_data"
    },
    {
     "data": {
      "text/plain": "(135, 199, 199)"
     },
     "metadata": {},
     "output_type": "display_data"
    },
    {
     "data": {
      "text/plain": "'-35_-33_strain_p1'"
     },
     "metadata": {},
     "output_type": "display_data"
    },
    {
     "data": {
      "text/plain": "[2.1819589138031006,\n 2.214233636856079,\n 2.4509119987487793,\n 2.4141809940338135,\n 2.3979411125183105,\n 2.1600921154022217,\n 2.295853614807129,\n 2.2159230709075928,\n 2.520782470703125,\n 2.492932081222534,\n 2.20389986038208,\n 2.5740957260131836,\n 2.2980191707611084,\n 2.2701361179351807,\n 2.4202988147735596,\n 2.434894323348999,\n 2.479445695877075,\n 2.3501102924346924,\n 2.664525270462036,\n 2.5518147945404053,\n 2.461761474609375,\n 2.7145309448242188,\n 2.485318183898926,\n 2.711357831954956,\n 2.682415008544922,\n 2.4231226444244385,\n 2.850933074951172,\n 2.530900716781616,\n 2.700620651245117,\n 2.5416605472564697,\n 2.610570192337036,\n 2.4918711185455322,\n 2.502861976623535,\n 2.7955331802368164,\n 2.8068058490753174,\n 2.8288958072662354,\n 2.500540018081665,\n 2.6008076667785645,\n 2.8121097087860107,\n 2.7593748569488525,\n 2.603001356124878,\n 2.755131959915161,\n 2.8535354137420654,\n 2.8806846141815186,\n 2.7187020778656006,\n 3.239811897277832,\n 3.2266314029693604,\n 2.9359352588653564,\n 3.1581294536590576,\n 2.770883321762085,\n 3.0553932189941406,\n 2.772860288619995,\n 3.1662681102752686,\n 3.0738353729248047,\n 2.925727128982544,\n 2.865933656692505,\n 3.2157561779022217,\n 3.137011766433716,\n 3.710801362991333,\n 3.3667047023773193,\n 3.2653119564056396,\n 3.2066118717193604,\n 3.106306791305542,\n 3.127671003341675,\n 3.1124019622802734,\n 3.863194227218628,\n 3.4535627365112305,\n 3.118713140487671,\n 3.494581937789917,\n 3.431215286254883,\n 3.1963579654693604,\n 3.444520950317383,\n 3.6453025341033936,\n 3.3615715503692627,\n 3.6910641193389893,\n 3.386564016342163,\n 3.6047210693359375,\n 3.587890625,\n 3.53076434135437,\n 3.8228261470794678,\n 3.9647319316864014,\n 3.536541223526001,\n 3.5580174922943115,\n 3.6087911128997803,\n 3.741469383239746,\n 3.758781671524048,\n 3.9991023540496826,\n 4.057342052459717,\n 4.112851619720459,\n 3.4507179260253906,\n 3.6531765460968018,\n 4.265302658081055,\n 4.6223883628845215,\n 4.058948040008545,\n 3.842719316482544,\n 3.933687925338745,\n 4.034759044647217,\n 4.006601333618164,\n 3.834089994430542,\n 3.832080602645874,\n 4.066036224365234,\n 3.828892946243286,\n 4.115478992462158,\n 4.039988994598389,\n 3.872332811355591,\n 4.590056419372559,\n 4.012771129608154,\n 4.293156623840332,\n 4.1184515953063965,\n 4.169906139373779,\n 4.160233020782471,\n 4.314260005950928,\n 4.39790678024292,\n 4.781163692474365,\n 4.422359943389893,\n 4.631948471069336,\n 4.7028117179870605,\n 4.532217502593994,\n 5.063395977020264,\n 4.706565856933594,\n 4.3179450035095215,\n 4.60906457901001,\n 4.641382217407227,\n 4.912847995758057,\n 4.581305980682373,\n 5.010416507720947,\n 4.965668201446533,\n 4.649867534637451,\n 4.486237049102783,\n 5.188720226287842,\n 4.9579758644104,\n 4.6685709953308105,\n 4.639389991760254,\n 4.646579265594482,\n 4.645686149597168,\n 4.679234504699707,\n 4.931911945343018,\n 4.755524158477783,\n 4.92164421081543,\n 4.613824367523193,\n 4.804800987243652,\n 4.8390960693359375,\n 5.103495121002197,\n 4.902767181396484,\n 4.688192844390869,\n 4.885571479797363,\n 5.03446102142334,\n 5.361778736114502,\n 5.310293674468994,\n 5.1217942237854,\n 4.9318413734436035,\n 5.282146453857422,\n 5.222039699554443,\n 5.52943229675293,\n 5.186241626739502,\n 5.252633571624756,\n 4.968897342681885,\n 4.952263355255127,\n 5.376462936401367,\n 5.1462931632995605,\n 5.835011959075928,\n 5.417382717132568,\n 4.795576095581055,\n 5.731884002685547,\n 5.143304347991943,\n 5.587707996368408,\n 5.461809158325195,\n 5.66340970993042,\n 5.31464147567749,\n 5.406649112701416,\n 5.6486029624938965,\n 5.187398433685303,\n 5.682260513305664,\n 5.418987274169922,\n 5.697916507720947,\n 5.691009998321533,\n 5.5134758949279785,\n 6.044208526611328,\n 5.615194320678711,\n 6.302361965179443,\n 6.2754974365234375,\n 5.7368245124816895,\n 5.79937744140625,\n 5.980693340301514,\n 6.04146146774292,\n 5.907994747161865,\n 5.806657314300537,\n 6.1228108406066895,\n 6.303892612457275,\n 5.9324631690979,\n 5.8479156494140625,\n 5.582117557525635,\n 6.106025695800781,\n 6.022005558013916,\n 5.912199020385742,\n 5.870525360107422,\n 5.98944616317749,\n 5.874120235443115,\n 6.048553943634033,\n 6.459819793701172,\n 5.971103668212891,\n 5.849179744720459,\n 6.256307601928711,\n 6.055038928985596,\n 6.334131717681885,\n 5.985412120819092,\n 6.10409688949585,\n 6.445313930511475,\n 5.746142864227295,\n 5.985055446624756,\n 5.9645209312438965,\n 6.280524730682373,\n 6.338679790496826,\n 5.961018085479736,\n 6.166418552398682,\n 6.069093704223633,\n 6.079965114593506,\n 6.414601802825928,\n 6.1979498863220215,\n 6.182212829589844,\n 6.140132427215576,\n 6.09330415725708,\n 6.45692777633667,\n 6.4108757972717285,\n 6.231662750244141,\n 6.598543643951416,\n 6.414387226104736,\n 6.559567928314209,\n 6.183139324188232,\n 6.396205425262451,\n 6.363809585571289,\n 5.9984259605407715,\n 6.298879623413086,\n 6.543790817260742,\n 6.3750481605529785,\n 6.60991096496582,\n 6.712182521820068,\n 6.551595211029053,\n 6.614704132080078,\n 6.0808424949646,\n 6.7840046882629395,\n 6.62741231918335,\n 6.446841716766357,\n 5.945611476898193,\n 6.385277271270752,\n 6.487614154815674,\n 6.7407050132751465,\n 6.923081874847412,\n 6.49268102645874,\n 6.4844651222229,\n 6.470755100250244,\n 6.4457244873046875,\n 6.392602443695068,\n 6.457920551300049,\n 6.894861221313477,\n 6.473930835723877,\n 6.224104404449463,\n 6.217256546020508,\n 6.723215579986572,\n 6.484076023101807,\n 6.416928768157959,\n 6.7073283195495605,\n 6.7864532470703125,\n 6.48219108581543,\n 6.603224277496338,\n 6.3963942527771,\n 6.910648822784424,\n 6.5553879737854,\n 6.135395526885986,\n 6.168638229370117,\n 6.539440631866455,\n 6.551769733428955,\n 6.405698776245117,\n 6.533781051635742,\n 6.45989465713501,\n 6.705944061279297,\n 6.381649494171143,\n 6.311197280883789,\n 6.726956844329834,\n 6.604160785675049,\n 6.690155506134033,\n 6.706195831298828,\n 7.0649566650390625,\n 6.4954833984375,\n 6.630951404571533,\n 6.180827617645264,\n 6.118709087371826,\n 6.679379940032959,\n 6.517950534820557,\n 6.420623302459717]"
     },
     "metadata": {},
     "output_type": "display_data"
    },
    {
     "data": {
      "text/plain": "'-33_-31_strain_p1'"
     },
     "metadata": {},
     "output_type": "display_data"
    },
    {
     "data": {
      "text/plain": "[2.068028450012207,\n 2.1711294651031494,\n 2.4863736629486084,\n 1.9233375787734985,\n 2.1901469230651855,\n 1.9883339405059814,\n 2.2201220989227295,\n 2.0922720432281494,\n 2.286468744277954,\n 2.4554038047790527,\n 2.202895164489746,\n 2.151660203933716,\n 2.0570566654205322,\n 2.1466078758239746,\n 2.366240978240967,\n 2.617645263671875,\n 2.3652195930480957,\n 2.187464952468872,\n 2.4515652656555176,\n 2.377861738204956,\n 2.521484375,\n 2.5021417140960693,\n 2.5824482440948486,\n 2.406282663345337,\n 3.0086026191711426,\n 2.6354198455810547,\n 2.888174533843994,\n 2.707017421722412,\n 2.4403913021087646,\n 2.667546510696411,\n 2.666163444519043,\n 2.4048094749450684,\n 2.5539534091949463,\n 2.6806235313415527,\n 2.799590587615967,\n 2.6502013206481934,\n 2.5446927547454834,\n 2.6045730113983154,\n 2.6432719230651855,\n 2.8669745922088623,\n 2.800997495651245,\n 2.557405471801758,\n 2.376138687133789,\n 2.871865749359131,\n 2.7347357273101807,\n 2.933166742324829,\n 3.053968906402588,\n 3.0200436115264893,\n 2.728546619415283,\n 2.853342294692993,\n 2.9119668006896973,\n 2.9824869632720947,\n 3.1552021503448486,\n 3.370938539505005,\n 2.705446720123291,\n 2.844454526901245,\n 2.6146159172058105,\n 3.1635866165161133,\n 3.2657229900360107,\n 3.0860140323638916,\n 3.206089735031128,\n 2.9893131256103516,\n 3.2304065227508545,\n 3.343320369720459,\n 3.4261646270751953,\n 3.23402738571167,\n 3.061807870864868,\n 3.2851836681365967,\n 3.4356510639190674,\n 3.2592175006866455,\n 3.1334800720214844,\n 3.222639799118042,\n 3.3008792400360107,\n 3.3796069622039795,\n 3.1804873943328857,\n 2.9185714721679688,\n 3.788975477218628,\n 3.2430686950683594,\n 3.6169700622558594,\n 3.241527557373047,\n 3.6947150230407715,\n 3.512316942214966,\n 3.409147262573242,\n 3.1238343715667725,\n 3.5793304443359375,\n 3.9262211322784424,\n 3.482332706451416,\n 3.6923012733459473,\n 3.3259308338165283,\n 4.007323741912842,\n 3.7773361206054688,\n 3.694936752319336,\n 3.9844436645507812,\n 3.304161787033081,\n 3.714926242828369,\n 3.9514899253845215,\n 4.088910102844238,\n 3.885007858276367,\n 4.086209297180176,\n 3.7740378379821777,\n 3.683283567428589,\n 3.725851058959961,\n 3.943944215774536,\n 4.042660713195801,\n 4.0706377029418945,\n 4.230640888214111,\n 4.295485496520996,\n 4.524806976318359,\n 4.3186936378479,\n 4.1089019775390625,\n 4.02213191986084,\n 4.548978805541992,\n 4.257262229919434,\n 4.325604438781738,\n 4.1335129737854,\n 4.258918762207031,\n 4.1508684158325195,\n 4.2801337242126465,\n 4.990487098693848,\n 4.620957851409912,\n 4.379090309143066,\n 4.617337226867676,\n 4.32918643951416,\n 4.492591381072998,\n 4.658528804779053,\n 4.488942623138428,\n 4.631518363952637,\n 4.3265461921691895,\n 4.231902122497559,\n 4.528858661651611,\n 5.11368465423584,\n 4.1453118324279785,\n 4.5331902503967285,\n 4.84942102432251,\n 4.763541221618652,\n 4.508819580078125,\n 4.39483118057251,\n 4.761532783508301,\n 4.543477535247803,\n 4.685656547546387,\n 4.460524559020996,\n 4.611105918884277,\n 5.083527565002441,\n 4.949971675872803,\n 5.0004682540893555,\n 4.882960319519043,\n 4.37496280670166,\n 4.8464250564575195,\n 4.842097282409668,\n 5.111712455749512,\n 4.575263023376465,\n 4.851365089416504,\n 5.106518745422363,\n 4.946353912353516,\n 4.908905982971191,\n 5.279821395874023,\n 5.053866386413574,\n 4.884189128875732,\n 4.99121618270874,\n 4.916302680969238,\n 5.23419189453125,\n 5.274449825286865,\n 5.070979595184326,\n 5.335920333862305,\n 5.181387424468994,\n 5.111702919006348,\n 5.401815891265869,\n 5.052536964416504,\n 5.17772912979126,\n 5.368978977203369,\n 5.407591819763184,\n 5.129828453063965,\n 5.445412635803223,\n 5.190296649932861,\n 5.113101959228516,\n 5.783589839935303,\n 5.651005268096924,\n 5.431512355804443,\n 5.714285850524902,\n 5.349846363067627,\n 5.98172664642334,\n 5.486069679260254,\n 5.804080009460449,\n 5.640233516693115,\n 5.702298164367676,\n 5.639572620391846,\n 5.868185997009277,\n 5.841143608093262,\n 5.550572395324707,\n 5.837763786315918,\n 6.009572982788086,\n 5.724569797515869,\n 5.461573600769043,\n 5.941076755523682,\n 5.667006492614746,\n 6.259247779846191,\n 5.783395290374756,\n 5.486464977264404,\n 5.961236476898193,\n 6.0861735343933105,\n 5.608310699462891,\n 5.666714668273926,\n 5.750153064727783,\n 5.65808629989624,\n 5.64766788482666,\n 6.086690902709961,\n 5.739163875579834,\n 5.822357654571533,\n 6.1305999755859375,\n 6.171509742736816,\n 5.600902557373047,\n 5.995583534240723,\n 5.8895063400268555,\n 5.531966209411621,\n 5.901550769805908,\n 5.8847503662109375,\n 5.457581996917725,\n 5.9280571937561035,\n 5.736733913421631,\n 5.803478240966797,\n 6.01163387298584,\n 5.999057769775391,\n 6.139620304107666,\n 5.879159450531006,\n 6.148068904876709,\n 5.7549872398376465,\n 6.149781227111816,\n 5.905465126037598,\n 5.7857666015625,\n 6.1602983474731445,\n 5.696751117706299,\n 5.66881799697876,\n 5.874414920806885,\n 5.929762840270996,\n 6.155709266662598,\n 6.017939567565918,\n 6.097372055053711,\n 6.025204658508301,\n 6.2858405113220215,\n 5.983916282653809,\n 6.087080955505371,\n 6.216121196746826,\n 5.8531174659729,\n 5.927340030670166,\n 6.018637180328369,\n 6.080810546875,\n 6.4720611572265625,\n 6.086477756500244,\n 6.057211399078369,\n 6.007220268249512,\n 6.251794338226318,\n 6.283144474029541,\n 5.998175144195557,\n 6.2525954246521,\n 6.220337867736816,\n 6.335710048675537,\n 6.634433746337891,\n 5.96544075012207,\n 6.125466823577881,\n 6.488111972808838,\n 6.346818447113037,\n 6.849937438964844,\n 6.086971759796143,\n 6.6333441734313965,\n 6.336968898773193,\n 6.1855645179748535,\n 6.605856895446777,\n 6.102171897888184,\n 5.945210933685303,\n 6.391787052154541,\n 6.25806188583374,\n 6.368203163146973,\n 6.1989946365356445,\n 6.0448503494262695,\n 6.330915927886963,\n 6.607512474060059,\n 6.519545078277588,\n 5.976656913757324,\n 6.311172962188721,\n 6.599202632904053,\n 6.495919704437256,\n 6.000231742858887,\n 6.330426216125488,\n 6.567175388336182,\n 5.951213836669922,\n 6.1283674240112305,\n 6.442578315734863,\n 6.281564235687256,\n 6.5944952964782715,\n 6.2008161544799805]"
     },
     "metadata": {},
     "output_type": "display_data"
    },
    {
     "data": {
      "text/plain": "'-31_-29_strain_p1'"
     },
     "metadata": {},
     "output_type": "display_data"
    },
    {
     "data": {
      "text/plain": "[1.918752670288086,\n 1.9278862476348877,\n 1.9248602390289307,\n 2.0725302696228027,\n 2.2626607418060303,\n 1.6201629638671875,\n 1.922753930091858,\n 2.0301780700683594,\n 2.09883189201355,\n 2.1322927474975586,\n 2.362666368484497,\n 2.156066417694092,\n 2.070573329925537,\n 2.209693431854248,\n 2.2035975456237793,\n 2.0115630626678467,\n 2.676891803741455,\n 2.2516651153564453,\n 2.330228328704834,\n 2.240455150604248,\n 2.59850811958313,\n 2.4828941822052,\n 2.218663215637207,\n 2.3907053470611572,\n 2.8638782501220703,\n 2.5437026023864746,\n 2.5817577838897705,\n 2.837916851043701,\n 2.658339023590088,\n 2.904567003250122,\n 2.902773380279541,\n 2.930878162384033,\n 2.963636636734009,\n 2.7337870597839355,\n 2.626988172531128,\n 2.547759532928467,\n 2.7207212448120117,\n 2.782029867172241,\n 2.432279109954834,\n 2.817535400390625,\n 2.817939043045044,\n 2.425544500350952,\n 2.2281692028045654,\n 2.8853297233581543,\n 2.655238389968872,\n 2.459777355194092,\n 3.2728965282440186,\n 3.1319804191589355,\n 2.9142215251922607,\n 2.5895113945007324,\n 2.8359034061431885,\n 2.9969677925109863,\n 3.067772626876831,\n 2.812972068786621,\n 3.0497021675109863,\n 2.598980665206909,\n 2.924562931060791,\n 3.075634479522705,\n 3.1429107189178467,\n 3.226107120513916,\n 3.0439469814300537,\n 3.182206630706787,\n 2.7273855209350586,\n 3.563037157058716,\n 3.331251859664917,\n 3.316822052001953,\n 3.169772148132324,\n 3.25935435295105,\n 3.3479182720184326,\n 3.0235886573791504,\n 3.4855358600616455,\n 3.588376522064209,\n 3.612075090408325,\n 3.7103705406188965,\n 3.469142436981201,\n 3.390619993209839,\n 3.3531622886657715,\n 3.3376624584198,\n 3.519397735595703,\n 3.428800582885742,\n 3.7699520587921143,\n 3.478731155395508,\n 3.4018616676330566,\n 3.7406864166259766,\n 3.768723249435425,\n 3.652853488922119,\n 3.3916573524475098,\n 3.5421504974365234,\n 3.686868190765381,\n 3.9741458892822266,\n 3.608184814453125,\n 3.8209614753723145,\n 3.523512601852417,\n 3.7393620014190674,\n 3.976909637451172,\n 4.291886806488037,\n 3.690229892730713,\n 4.041412353515625,\n 3.9845683574676514,\n 3.5881309509277344,\n 4.051097393035889,\n 4.516039848327637,\n 4.031215190887451,\n 4.115651607513428,\n 4.005181789398193,\n 3.7979016304016113,\n 4.309284210205078,\n 4.278031349182129,\n 4.322327613830566,\n 4.348509311676025,\n 4.3375749588012695,\n 4.016181945800781,\n 4.541632652282715,\n 3.9724724292755127,\n 4.360340118408203,\n 4.456876754760742,\n 4.5701093673706055,\n 4.258981227874756,\n 4.542323112487793,\n 4.528975963592529,\n 4.932032585144043,\n 4.569403648376465,\n 4.6346893310546875,\n 4.252254486083984,\n 4.401537895202637,\n 4.782212734222412,\n 5.0768537521362305,\n 4.975979804992676,\n 4.673018455505371,\n 4.9121198654174805,\n 4.992325305938721,\n 4.840109825134277,\n 4.790553092956543,\n 5.531338691711426,\n 5.344778537750244,\n 4.475648403167725,\n 4.591677188873291,\n 5.199519157409668,\n 4.711492538452148,\n 5.1003594398498535,\n 5.122799873352051,\n 4.858688831329346,\n 4.903761863708496,\n 4.91642427444458,\n 5.665798187255859,\n 5.285636901855469,\n 5.317455291748047,\n 4.922886848449707,\n 5.304468631744385,\n 4.886284828186035,\n 5.237624168395996,\n 5.375665664672852,\n 5.3434977531433105,\n 4.92266845703125,\n 4.981517314910889,\n 5.561246395111084,\n 5.475489616394043,\n 5.588630199432373,\n 5.725036144256592,\n 5.28644323348999,\n 5.4920148849487305,\n 5.1433539390563965,\n 5.744702339172363,\n 5.4409050941467285,\n 5.611894130706787,\n 5.579179286956787,\n 5.575051307678223,\n 5.578591823577881,\n 5.441954612731934,\n 5.542563438415527,\n 5.666322708129883,\n 5.4966630935668945,\n 5.767505645751953,\n 5.713747501373291,\n 5.480864524841309,\n 5.438841819763184,\n 5.8015642166137695,\n 5.883488655090332,\n 5.855440616607666,\n 5.522474765777588,\n 5.851740837097168,\n 5.907637596130371,\n 6.373286247253418,\n 5.882177829742432,\n 5.516252040863037,\n 5.733041763305664,\n 6.071032524108887,\n 6.0930562019348145,\n 5.8438191413879395,\n 5.73776388168335,\n 5.491999626159668,\n 5.769198417663574,\n 6.330592155456543,\n 5.784573554992676,\n 6.008285999298096,\n 6.069890022277832,\n 5.985177040100098,\n 5.7085981369018555,\n 5.935612678527832,\n 6.445527076721191,\n 6.174610137939453,\n 5.957070350646973,\n 5.586796760559082,\n 6.0795769691467285,\n 5.978936672210693,\n 6.197269439697266,\n 6.507521152496338,\n 6.251599311828613,\n 6.558533668518066,\n 6.3173699378967285,\n 5.8072028160095215,\n 6.396431922912598,\n 6.545497894287109,\n 5.9691948890686035,\n 6.0143232345581055,\n 6.277411937713623,\n 6.488099575042725,\n 5.975490570068359,\n 6.03837776184082,\n 6.693224906921387,\n 6.589526176452637,\n 6.152107238769531,\n 6.022690773010254,\n 6.6201171875,\n 6.782525539398193,\n 6.110367774963379,\n 6.3196797370910645,\n 6.376668453216553,\n 6.2563676834106445,\n 6.304583549499512,\n 6.1944732666015625,\n 6.249143123626709,\n 6.194995880126953,\n 5.867994785308838,\n 6.259329319000244,\n 6.616636753082275,\n 6.348196983337402,\n 6.346330165863037,\n 6.085831165313721,\n 6.520225524902344,\n 6.39465856552124,\n 6.23649263381958,\n 6.650752067565918,\n 6.681687355041504,\n 6.13602352142334,\n 6.800463676452637,\n 6.54132604598999,\n 6.367375373840332,\n 6.384006023406982,\n 6.677138328552246,\n 6.4610276222229,\n 5.882174491882324,\n 6.362562656402588,\n 6.722689151763916,\n 6.30588436126709,\n 6.273983001708984,\n 6.339194297790527,\n 6.286791801452637,\n 6.055970668792725,\n 6.854939937591553,\n 6.401280403137207,\n 6.529317378997803,\n 6.2881340980529785,\n 6.499204158782959,\n 6.021302223205566,\n 6.082819938659668,\n 6.580972194671631,\n 6.572274684906006,\n 6.268813610076904,\n 6.263731479644775,\n 6.469830513000488,\n 6.098989009857178,\n 6.7411088943481445,\n 6.721706390380859,\n 6.210641384124756,\n 6.394024848937988,\n 6.600559234619141,\n 6.32027006149292,\n 6.386850833892822,\n 6.419861793518066,\n 6.248812198638916,\n 6.1862077713012695,\n 6.477919578552246,\n 6.239166259765625,\n 6.246506690979004,\n 6.35772705078125,\n 6.5892333984375,\n 6.580936431884766,\n 5.8691816329956055,\n 6.15008020401001]"
     },
     "metadata": {},
     "output_type": "display_data"
    },
    {
     "data": {
      "text/plain": "'-29_-27_strain_p1'"
     },
     "metadata": {},
     "output_type": "display_data"
    },
    {
     "data": {
      "text/plain": "[1.6281976699829102,\n 1.786412239074707,\n 1.7442482709884644,\n 2.0956850051879883,\n 2.2109811305999756,\n 2.0590627193450928,\n 2.164386510848999,\n 1.8446398973464966,\n 2.143228769302368,\n 1.7346230745315552,\n 2.1572234630584717,\n 2.2584192752838135,\n 2.2278823852539062,\n 2.1153059005737305,\n 2.2464239597320557,\n 2.2522923946380615,\n 2.1148521900177,\n 2.373201608657837,\n 1.9790643453598022,\n 2.4899799823760986,\n 2.346514940261841,\n 2.3301732540130615,\n 2.1570301055908203,\n 2.589960813522339,\n 2.396467685699463,\n 2.0061416625976562,\n 2.2265641689300537,\n 2.1770870685577393,\n 2.385807752609253,\n 2.251450538635254,\n 2.5835177898406982,\n 2.7564468383789062,\n 2.648347854614258,\n 2.365429639816284,\n 2.349872589111328,\n 2.4121105670928955,\n 2.094581365585327,\n 2.694930076599121,\n 2.577690839767456,\n 2.637319803237915,\n 2.711247444152832,\n 2.572603225708008,\n 2.718205213546753,\n 2.783512830734253,\n 2.6317050457000732,\n 2.4060211181640625,\n 2.5831096172332764,\n 2.7755439281463623,\n 2.8985977172851562,\n 2.502549648284912,\n 2.4593186378479004,\n 2.878809690475464,\n 2.8356456756591797,\n 2.6810829639434814,\n 2.827197790145874,\n 2.866893768310547,\n 2.7044785022735596,\n 2.8817789554595947,\n 2.8972246646881104,\n 2.9392127990722656,\n 2.896182060241699,\n 3.1048126220703125,\n 2.7588698863983154,\n 2.888819694519043,\n 2.9751243591308594,\n 3.006850242614746,\n 3.0905513763427734,\n 3.552633285522461,\n 3.3585946559906006,\n 2.810350179672241,\n 3.108783721923828,\n 3.297187566757202,\n 3.4985244274139404,\n 3.368079423904419,\n 3.2383203506469727,\n 3.2631170749664307,\n 3.3543026447296143,\n 3.3571970462799072,\n 3.129117012023926,\n 3.2007710933685303,\n 3.719644784927368,\n 3.677543878555298,\n 3.3444604873657227,\n 3.5953800678253174,\n 3.282263994216919,\n 3.4526360034942627,\n 3.5132977962493896,\n 3.6012439727783203,\n 3.6582727432250977,\n 3.456831693649292,\n 3.3943912982940674,\n 3.5470831394195557,\n 3.4312431812286377,\n 3.4700677394866943,\n 3.3634212017059326,\n 3.707132577896118,\n 3.616697072982788,\n 3.7295191287994385,\n 3.714925527572632,\n 3.572331666946411,\n 3.9192698001861572,\n 3.9109232425689697,\n 3.92410945892334,\n 3.734306573867798,\n 3.6213626861572266,\n 3.916421890258789,\n 3.9572904109954834,\n 4.09980583190918,\n 4.200973987579346,\n 3.8478450775146484,\n 4.351118087768555,\n 3.9326465129852295,\n 4.07634973526001,\n 3.9856650829315186,\n 4.208538055419922,\n 4.794179439544678,\n 4.072746753692627,\n 4.21944522857666,\n 4.2640509605407715,\n 3.9245402812957764,\n 4.276217937469482,\n 4.6158013343811035,\n 4.443645000457764,\n 4.187887668609619,\n 4.225022792816162,\n 4.684781551361084,\n 4.364902973175049,\n 4.612360954284668,\n 4.814798355102539,\n 4.8002848625183105,\n 4.484704971313477,\n 4.602772235870361,\n 4.613563060760498,\n 4.794703006744385,\n 4.68821907043457,\n 4.554728984832764,\n 4.3564534187316895,\n 4.607274055480957,\n 4.831710338592529,\n 5.004849433898926,\n 4.87022590637207,\n 5.052263259887695,\n 4.72653341293335,\n 4.544623851776123,\n 5.266051769256592,\n 4.927685260772705,\n 5.534593105316162,\n 5.121272563934326,\n 4.75770902633667,\n 4.886598587036133,\n 5.099691390991211,\n 5.137136459350586,\n 5.210560321807861,\n 5.149106979370117,\n 4.715878963470459,\n 5.275172710418701,\n 5.180593013763428,\n 5.34224271774292,\n 5.326022624969482,\n 5.050317287445068,\n 5.126715183258057,\n 5.0309624671936035,\n 5.03443717956543,\n 5.067211627960205,\n 5.350553512573242,\n 5.1856913566589355,\n 5.222057342529297,\n 5.307291507720947,\n 5.574541091918945,\n 5.220411777496338,\n 5.202104091644287,\n 5.3333611488342285,\n 5.61354398727417,\n 5.398866653442383,\n 5.574865818023682,\n 5.0889153480529785,\n 5.43999719619751,\n 5.846845626831055,\n 5.38299036026001,\n 5.212868690490723,\n 5.655879497528076,\n 5.387069225311279,\n 5.580390453338623,\n 5.594907760620117,\n 5.6924662590026855,\n 5.451129913330078,\n 6.021921634674072,\n 5.919513702392578,\n 5.64580774307251,\n 5.627871990203857,\n 5.246728420257568,\n 5.852781772613525,\n 5.765207767486572,\n 5.817877292633057,\n 5.668535232543945,\n 5.481569766998291,\n 5.892944812774658,\n 5.516071796417236,\n 5.737403392791748,\n 5.416229248046875,\n 5.701894283294678,\n 5.96475076675415,\n 5.522373199462891,\n 5.669392108917236,\n 5.99971342086792,\n 5.953456878662109,\n 5.854875087738037,\n 5.8559112548828125,\n 6.1501336097717285,\n 6.14069128036499,\n 5.966407775878906,\n 6.309558391571045,\n 5.891826152801514,\n 6.06264066696167,\n 5.980121612548828,\n 6.438846111297607,\n 6.200983047485352,\n 6.032085418701172,\n 5.763916492462158,\n 6.303432464599609,\n 6.059049606323242,\n 6.096590518951416,\n 6.163007736206055,\n 6.0916266441345215,\n 5.802268981933594,\n 6.020732879638672,\n 5.7562384605407715,\n 5.858251571655273,\n 6.172624588012695,\n 6.2950263023376465,\n 6.077169418334961,\n 5.8843841552734375,\n 5.984886646270752,\n 6.1387810707092285,\n 6.736616134643555,\n 6.129235744476318,\n 6.3817572593688965,\n 6.232765197753906,\n 6.096403121948242,\n 6.175461292266846,\n 6.16412878036499,\n 6.209506988525391,\n 6.169848918914795,\n 6.413553237915039,\n 6.082094669342041,\n 6.008006572723389,\n 6.426536560058594,\n 6.510594844818115,\n 6.241575717926025,\n 6.319950580596924,\n 6.31041955947876,\n 6.223001480102539,\n 5.7618088722229,\n 6.084995746612549,\n 6.118862628936768,\n 6.139490604400635,\n 6.332229137420654,\n 6.041627407073975,\n 6.071540355682373,\n 6.505598068237305,\n 6.033224582672119,\n 5.80985689163208,\n 6.485136032104492,\n 6.406652927398682,\n 5.9300217628479,\n 6.058091640472412,\n 6.39828634262085,\n 6.033523082733154,\n 6.210172176361084,\n 6.4015727043151855,\n 6.203908920288086,\n 5.881198883056641,\n 6.309011459350586,\n 6.2173943519592285,\n 6.08636999130249,\n 6.015731334686279,\n 6.641315937042236,\n 6.567027568817139,\n 6.53019380569458,\n 6.386157989501953,\n 6.094187259674072,\n 6.104270935058594,\n 6.130051136016846,\n 6.584245204925537,\n 6.297826290130615,\n 6.205638885498047,\n 6.110443115234375,\n 6.327639102935791,\n 6.18974494934082,\n 6.0391411781311035]"
     },
     "metadata": {},
     "output_type": "display_data"
    },
    {
     "data": {
      "text/plain": "'-27_-25_strain_p1'"
     },
     "metadata": {},
     "output_type": "display_data"
    },
    {
     "data": {
      "text/plain": "[2.532012462615967,\n 1.9506438970565796,\n 2.4496264457702637,\n 2.51008939743042,\n 1.8442386388778687,\n 2.5028493404388428,\n 2.525195837020874,\n 2.28218412399292,\n 2.3325467109680176,\n 2.5061397552490234,\n 2.1308414936065674,\n 2.5164594650268555,\n 2.089447498321533,\n 2.4375290870666504,\n 2.7411415576934814,\n 2.7496373653411865,\n 2.311906337738037,\n 2.3786094188690186,\n 2.019681215286255,\n 2.2764620780944824,\n 2.299316644668579,\n 2.7512869834899902,\n 2.594735622406006,\n 2.663756847381592,\n 2.3698372840881348,\n 2.2811737060546875,\n 2.7227699756622314,\n 2.437429666519165,\n 2.432999849319458,\n 2.813913345336914,\n 2.7140088081359863,\n 2.7409324645996094,\n 2.6316394805908203,\n 2.9618823528289795,\n 2.7199130058288574,\n 2.6640048027038574,\n 2.586007833480835,\n 2.6866612434387207,\n 2.7621347904205322,\n 3.1441588401794434,\n 2.804612636566162,\n 3.1700170040130615,\n 3.2344467639923096,\n 3.4188015460968018,\n 3.134326219558716,\n 2.6748557090759277,\n 3.1576924324035645,\n 2.9731392860412598,\n 2.827493190765381,\n 2.9866151809692383,\n 3.1942451000213623,\n 2.794692277908325,\n 2.988128662109375,\n 3.3738746643066406,\n 2.684798002243042,\n 2.856194019317627,\n 2.95805025100708,\n 3.1528801918029785,\n 3.0568766593933105,\n 3.4395599365234375,\n 3.2408041954040527,\n 3.188009262084961,\n 3.130383014678955,\n 3.1734862327575684,\n 3.4137649536132812,\n 3.2319507598876953,\n 3.1409249305725098,\n 2.9772143363952637,\n 3.102609395980835,\n 3.1397693157196045,\n 3.3959903717041016,\n 3.7557196617126465,\n 3.5130019187927246,\n 3.2912678718566895,\n 3.8166561126708984,\n 3.4972801208496094,\n 3.7284512519836426,\n 3.688340425491333,\n 3.6558547019958496,\n 3.180424690246582,\n 3.7603516578674316,\n 3.6367061138153076,\n 3.50722074508667,\n 3.8516335487365723,\n 3.928513765335083,\n 3.865255832672119,\n 3.6245925426483154,\n 3.235718250274658,\n 3.4813029766082764,\n 4.166033744812012,\n 4.2413787841796875,\n 3.593926191329956,\n 3.73633074760437,\n 3.87750244140625,\n 3.5183589458465576,\n 4.316988468170166,\n 4.008710861206055,\n 4.227814674377441,\n 3.727346420288086,\n 3.75213360786438,\n 3.8522160053253174,\n 3.781289577484131,\n 4.197009563446045,\n 4.299078941345215,\n 3.8927321434020996,\n 4.003421783447266,\n 4.691996097564697,\n 4.181305885314941,\n 4.321932315826416,\n 3.9386024475097656,\n 4.525888442993164,\n 3.9833614826202393,\n 3.940293550491333,\n 3.924180507659912,\n 4.374493598937988,\n 4.876387596130371,\n 4.470888614654541,\n 4.544419288635254,\n 4.407076835632324,\n 4.288723945617676,\n 4.418064594268799,\n 4.770323276519775,\n 4.456401348114014,\n 4.47037410736084,\n 4.718776226043701,\n 4.7629194259643555,\n 4.5737409591674805,\n 4.834184169769287,\n 4.797570705413818,\n 4.5927815437316895,\n 4.579742431640625,\n 4.449547290802002,\n 4.948705673217773,\n 4.95104455947876,\n 4.963859558105469,\n 4.979525566101074,\n 4.48600435256958,\n 5.047085285186768,\n 5.492892742156982,\n 5.16083288192749,\n 5.075217247009277,\n 5.258819580078125,\n 4.938912391662598,\n 5.151513576507568,\n 5.156277656555176,\n 5.354262351989746,\n 5.325551509857178,\n 5.331038475036621,\n 5.107110500335693,\n 5.483811378479004,\n 5.509456157684326,\n 5.524181842803955,\n 5.7717790603637695,\n 5.540634632110596,\n 5.2473955154418945,\n 5.492710590362549,\n 4.983548641204834,\n 5.916018009185791,\n 5.7867045402526855,\n 5.849785804748535,\n 5.401455879211426,\n 5.705535411834717,\n 5.874284744262695,\n 5.721879005432129,\n 5.962843894958496,\n 5.73272180557251,\n 5.742158889770508,\n 5.3655476570129395,\n 6.004413604736328,\n 5.680210590362549,\n 5.884823799133301,\n 5.722796440124512,\n 5.401368618011475,\n 6.005804538726807,\n 6.049973487854004,\n 5.96052885055542,\n 6.073902606964111,\n 5.825680255889893,\n 6.5003767013549805,\n 6.2397003173828125,\n 5.90984582901001,\n 6.022963047027588,\n 6.187503814697266,\n 6.180013656616211,\n 6.0336713790893555,\n 5.788196563720703,\n 6.110245704650879,\n 6.339191436767578,\n 6.221312522888184,\n 5.968969345092773,\n 6.131781101226807,\n 6.434945106506348,\n 6.332176208496094,\n 6.575972557067871,\n 6.345533847808838,\n 5.96408748626709,\n 6.599047660827637,\n 6.572949409484863,\n 5.865742206573486,\n 6.200918674468994,\n 6.623217582702637,\n 6.497862339019775,\n 6.098266124725342,\n 6.439227104187012,\n 6.916089057922363,\n 6.449812412261963,\n 6.139139175415039,\n 6.593977451324463,\n 6.451432704925537,\n 6.786837577819824,\n 6.491311073303223,\n 6.243443489074707,\n 6.822695255279541,\n 6.218289852142334,\n 6.797218322753906,\n 6.617400169372559,\n 6.723183631896973,\n 6.725344657897949,\n 6.587315559387207,\n 6.187367916107178,\n 6.998928070068359,\n 6.872518062591553,\n 6.494520664215088,\n 6.465806484222412,\n 6.340866565704346,\n 6.591705322265625,\n 6.661412239074707,\n 6.350710868835449,\n 6.6786603927612305,\n 6.778555393218994,\n 6.619149684906006,\n 6.936591148376465,\n 6.720372200012207,\n 7.038397312164307,\n 6.509416103363037,\n 6.764848232269287,\n 7.105714321136475,\n 6.513190269470215,\n 6.739488124847412,\n 6.836935997009277,\n 6.827063083648682,\n 6.744645118713379,\n 6.7971601486206055,\n 6.7486138343811035,\n 6.659081935882568,\n 6.911186218261719,\n 7.157437801361084,\n 7.181016445159912,\n 6.895888328552246,\n 7.157896518707275,\n 7.192573547363281,\n 6.893682956695557,\n 6.68935489654541,\n 6.902121067047119,\n 7.1781721115112305,\n 7.147472381591797,\n 7.123356819152832,\n 6.541694641113281,\n 7.1716790199279785,\n 6.950716972351074,\n 6.994912624359131,\n 6.938844203948975,\n 7.298498630523682,\n 6.937420845031738,\n 6.890636444091797,\n 7.069732666015625,\n 6.780085563659668,\n 6.710661888122559,\n 7.064852714538574,\n 6.5718183517456055,\n 6.938218593597412,\n 6.916419982910156,\n 7.408543586730957,\n 6.746982574462891,\n 6.9770660400390625,\n 7.071661472320557,\n 7.219262599945068,\n 6.968330383300781,\n 7.333671569824219,\n 7.07427978515625,\n 6.858907222747803,\n 6.963311672210693,\n 6.842044830322266,\n 6.906883239746094,\n 7.041606903076172,\n 6.696130275726318,\n 7.013205051422119,\n 6.910951137542725,\n 6.760497093200684,\n 7.004619598388672]"
     },
     "metadata": {},
     "output_type": "display_data"
    },
    {
     "data": {
      "text/plain": "'-25_-23_strain_p1'"
     },
     "metadata": {},
     "output_type": "display_data"
    },
    {
     "data": {
      "text/plain": "[1.986321210861206,\n 1.4829038381576538,\n 2.0648698806762695,\n 2.1900782585144043,\n 2.1344096660614014,\n 2.305424213409424,\n 2.473723888397217,\n 2.3033363819122314,\n 2.245291233062744,\n 2.6321654319763184,\n 2.480057954788208,\n 2.3483853340148926,\n 2.440680980682373,\n 2.4456536769866943,\n 2.218949794769287,\n 2.411529541015625,\n 2.741483449935913,\n 2.2722113132476807,\n 2.2061946392059326,\n 2.236386775970459,\n 2.064910888671875,\n 2.364154100418091,\n 2.480067253112793,\n 2.2465908527374268,\n 2.168347120285034,\n 2.3972420692443848,\n 2.534255027770996,\n 2.650470018386841,\n 2.569920063018799,\n 2.8412678241729736,\n 2.2528276443481445,\n 2.614262104034424,\n 2.57132625579834,\n 2.9007067680358887,\n 2.6903152465820312,\n 2.768523931503296,\n 2.230879783630371,\n 2.476860523223877,\n 2.783503770828247,\n 2.71046781539917,\n 2.3936476707458496,\n 2.577824115753174,\n 2.581305980682373,\n 2.784325122833252,\n 2.685515880584717,\n 2.617525577545166,\n 3.059115409851074,\n 2.7961552143096924,\n 2.677769184112549,\n 2.928748607635498,\n 2.7205443382263184,\n 3.064809560775757,\n 3.1510021686553955,\n 3.156329870223999,\n 2.597102403640747,\n 2.804685592651367,\n 2.7130391597747803,\n 2.947859287261963,\n 2.9020915031433105,\n 3.02955961227417,\n 3.117926597595215,\n 2.8252434730529785,\n 3.3036675453186035,\n 3.1371922492980957,\n 3.1146225929260254,\n 3.125464677810669,\n 3.294207811355591,\n 3.2912228107452393,\n 3.0758049488067627,\n 3.0681509971618652,\n 3.098975896835327,\n 3.4557831287384033,\n 3.0207359790802,\n 3.388258457183838,\n 3.1640686988830566,\n 3.6040008068084717,\n 3.4888699054718018,\n 3.0994653701782227,\n 3.5417227745056152,\n 3.5828118324279785,\n 3.444603681564331,\n 3.51226544380188,\n 3.3805243968963623,\n 4.062675476074219,\n 3.7797691822052,\n 3.7010726928710938,\n 3.160036563873291,\n 3.3098392486572266,\n 3.4573898315429688,\n 3.740842342376709,\n 3.887694835662842,\n 3.809598207473755,\n 3.122012138366699,\n 3.6143622398376465,\n 3.7515602111816406,\n 3.7776286602020264,\n 3.950653076171875,\n 3.7733070850372314,\n 3.809877872467041,\n 3.724534273147583,\n 3.5761466026306152,\n 3.6837477684020996,\n 4.150155067443848,\n 4.2270050048828125,\n 4.0749053955078125,\n 4.067600250244141,\n 4.174012184143066,\n 4.147889614105225,\n 3.752472400665283,\n 4.3211798667907715,\n 3.9573333263397217,\n 3.897841691970825,\n 3.6392688751220703,\n 4.169355869293213,\n 4.058252811431885,\n 4.428318977355957,\n 4.334235191345215,\n 4.25942325592041,\n 4.001392841339111,\n 4.156530857086182,\n 4.716372489929199,\n 4.273058891296387,\n 4.483105659484863,\n 4.718645095825195,\n 4.190369129180908,\n 4.643858909606934,\n 3.9756698608398438,\n 4.4586286544799805,\n 4.745473384857178,\n 4.756359577178955,\n 4.750235557556152,\n 4.69639778137207,\n 4.809701442718506,\n 4.8413987159729,\n 4.802680969238281,\n 4.901236534118652,\n 4.7025299072265625,\n 4.580627918243408,\n 4.906476020812988,\n 4.857924461364746,\n 5.044201374053955,\n 5.334862232208252,\n 4.752243518829346,\n 5.4545745849609375,\n 4.682684898376465,\n 5.076578140258789,\n 5.174123764038086,\n 5.040143966674805,\n 5.123788356781006,\n 4.838189601898193,\n 5.073453903198242,\n 5.2570648193359375,\n 5.581784248352051,\n 5.506588935852051,\n 5.317368507385254,\n 5.201781272888184,\n 4.869022369384766,\n 5.63742208480835,\n 5.5615644454956055,\n 5.693812847137451,\n 5.599980354309082,\n 5.120506286621094,\n 5.536036491394043,\n 5.6432600021362305,\n 5.624445915222168,\n 5.706784248352051,\n 5.557305812835693,\n 5.381249904632568,\n 5.636469841003418,\n 5.969002723693848,\n 5.782153129577637,\n 5.57379150390625,\n 5.649288177490234,\n 5.512767791748047,\n 5.622425079345703,\n 5.81894063949585,\n 5.672884464263916,\n 5.407081127166748,\n 5.612979412078857,\n 6.051520347595215,\n 6.127108573913574,\n 5.7255730628967285,\n 5.606410026550293,\n 5.938216209411621,\n 5.9741926193237305,\n 5.914872646331787,\n 5.813260078430176,\n 6.080605506896973,\n 6.158968448638916,\n 5.864497184753418,\n 5.779088020324707,\n 5.8809814453125,\n 6.5877275466918945,\n 5.636594295501709,\n 6.4623565673828125,\n 5.716536998748779,\n 6.043512344360352,\n 6.377496719360352,\n 6.198158264160156,\n 6.2345757484436035,\n 6.174586296081543,\n 6.532330513000488,\n 6.357232570648193,\n 6.312961578369141,\n 5.941619396209717,\n 6.464973449707031,\n 6.340842247009277,\n 6.722037315368652,\n 6.1476545333862305,\n 6.355413913726807,\n 6.878533840179443,\n 6.23244047164917,\n 6.107081890106201,\n 6.472240447998047,\n 6.500657081604004,\n 6.209228515625,\n 6.135649681091309,\n 6.423825740814209,\n 6.415299415588379,\n 6.263319969177246,\n 6.3325514793396,\n 7.046525001525879,\n 6.693307399749756,\n 6.502835750579834,\n 6.52646017074585,\n 6.914585113525391,\n 6.017146110534668,\n 6.153916358947754,\n 6.218456268310547,\n 6.201916694641113,\n 6.414277076721191,\n 5.90564489364624,\n 6.265268802642822,\n 6.914590358734131,\n 6.422154903411865,\n 6.162629127502441,\n 6.799094200134277,\n 6.611395359039307,\n 6.701879978179932,\n 6.184989929199219,\n 6.904112815856934,\n 6.563748836517334,\n 6.123843193054199,\n 6.426583290100098,\n 6.536900520324707,\n 6.613101005554199,\n 6.333754062652588,\n 6.511837959289551,\n 6.906216621398926,\n 6.427268981933594,\n 6.199212074279785,\n 6.523996829986572,\n 6.209682941436768,\n 6.399129867553711,\n 6.608709812164307,\n 6.46737813949585,\n 6.409167289733887,\n 6.700143337249756,\n 6.5472822189331055,\n 6.708277225494385,\n 6.515026092529297,\n 6.571678161621094,\n 6.878680229187012,\n 6.478065490722656,\n 6.084311485290527,\n 7.3000898361206055,\n 6.705479621887207,\n 6.7031378746032715,\n 6.560904502868652,\n 6.399806976318359,\n 6.4786200523376465,\n 6.682133674621582,\n 6.917393684387207,\n 6.461758613586426,\n 6.359510898590088,\n 6.9058122634887695,\n 6.687802791595459,\n 6.558633327484131,\n 6.581510066986084,\n 7.17240047454834,\n 6.431325435638428,\n 6.567050933837891,\n 6.866527557373047,\n 6.798399448394775,\n 6.646231651306152,\n 6.645201206207275,\n 6.825880527496338,\n 6.731330871582031,\n 6.604804992675781,\n 6.327627658843994]"
     },
     "metadata": {},
     "output_type": "display_data"
    },
    {
     "data": {
      "text/plain": "'-23_-21_strain_p1'"
     },
     "metadata": {},
     "output_type": "display_data"
    },
    {
     "data": {
      "text/plain": "[2.3046369552612305,\n 2.0232009887695312,\n 2.445706367492676,\n 2.6193339824676514,\n 2.340857744216919,\n 2.2485897541046143,\n 2.3582863807678223,\n 2.244203567504883,\n 2.5775959491729736,\n 2.261967420578003,\n 2.146608352661133,\n 2.46627140045166,\n 2.35589599609375,\n 2.2259697914123535,\n 2.326366424560547,\n 2.623809576034546,\n 2.450558662414551,\n 2.3926336765289307,\n 2.0540060997009277,\n 2.373573064804077,\n 2.3498754501342773,\n 2.147066354751587,\n 2.1355414390563965,\n 2.5063095092773438,\n 2.0595359802246094,\n 2.371392250061035,\n 2.563213348388672,\n 2.50732684135437,\n 2.5313260555267334,\n 2.555307626724243,\n 2.5894575119018555,\n 2.3318607807159424,\n 2.6791698932647705,\n 2.6365597248077393,\n 2.3324406147003174,\n 2.5131676197052,\n 2.66152024269104,\n 2.57531476020813,\n 2.857428789138794,\n 2.7806241512298584,\n 2.614271879196167,\n 3.0563948154449463,\n 2.5059444904327393,\n 2.7709531784057617,\n 2.8609039783477783,\n 2.713636636734009,\n 2.95780873298645,\n 2.831636667251587,\n 2.9077701568603516,\n 2.7958309650421143,\n 2.9076998233795166,\n 3.3944828510284424,\n 3.204177141189575,\n 2.9365532398223877,\n 3.0712976455688477,\n 2.620748281478882,\n 2.678760528564453,\n 3.1586382389068604,\n 3.0802135467529297,\n 3.133587121963501,\n 3.0358972549438477,\n 2.844358444213867,\n 2.9242191314697266,\n 2.7403552532196045,\n 3.051097869873047,\n 3.088094711303711,\n 3.0371549129486084,\n 3.3336257934570312,\n 3.0239837169647217,\n 3.2649123668670654,\n 3.209014654159546,\n 3.436363458633423,\n 3.444800615310669,\n 3.4252941608428955,\n 3.2582509517669678,\n 3.421433687210083,\n 3.3755624294281006,\n 3.725999593734741,\n 3.514319658279419,\n 3.3804101943969727,\n 3.2980029582977295,\n 3.5751583576202393,\n 3.6283864974975586,\n 3.4832370281219482,\n 3.7313125133514404,\n 3.7941067218780518,\n 3.90022873878479,\n 3.68399977684021,\n 3.699878454208374,\n 3.9872934818267822,\n 3.6978070735931396,\n 3.6690664291381836,\n 3.3942573070526123,\n 3.7480084896087646,\n 3.6068665981292725,\n 3.8650758266448975,\n 4.250789165496826,\n 4.317863941192627,\n 3.9874229431152344,\n 3.8335187435150146,\n 3.641209363937378,\n 4.074061870574951,\n 4.305243492126465,\n 4.169408798217773,\n 4.0570244789123535,\n 3.9221298694610596,\n 4.205018997192383,\n 4.021956920623779,\n 4.301057815551758,\n 4.525473594665527,\n 4.2278265953063965,\n 3.8648881912231445,\n 3.9778430461883545,\n 3.7311830520629883,\n 4.46235990524292,\n 4.614716053009033,\n 4.375487804412842,\n 4.508447170257568,\n 4.00572395324707,\n 4.344489097595215,\n 4.578825950622559,\n 4.402373790740967,\n 4.783809661865234,\n 4.43970251083374,\n 4.324512004852295,\n 4.638309478759766,\n 4.3088698387146,\n 4.720971584320068,\n 4.668957710266113,\n 4.6234588623046875,\n 4.42206335067749,\n 4.513840198516846,\n 4.295957565307617,\n 4.592177867889404,\n 4.421130657196045,\n 4.7747883796691895,\n 4.920162677764893,\n 4.60835599899292,\n 4.895750999450684,\n 4.726251602172852,\n 4.782227993011475,\n 5.382296085357666,\n 4.871933460235596,\n 4.973495960235596,\n 4.417378902435303,\n 4.596279621124268,\n 4.878278732299805,\n 5.191209316253662,\n 5.522750377655029,\n 4.853333950042725,\n 5.038666248321533,\n 5.1440019607543945,\n 5.532044887542725,\n 4.9223103523254395,\n 5.6110453605651855,\n 5.415905475616455,\n 5.256678104400635,\n 5.325599670410156,\n 5.336831569671631,\n 5.433055400848389,\n 5.856029510498047,\n 5.107015132904053,\n 5.220659255981445,\n 5.4686279296875,\n 4.9970011711120605,\n 5.716024875640869,\n 5.598176956176758,\n 5.613284587860107,\n 5.637794494628906,\n 5.973106861114502,\n 5.817682266235352,\n 5.873088836669922,\n 5.845983505249023,\n 5.612145900726318,\n 6.133749008178711,\n 5.738460063934326,\n 5.8825836181640625,\n 5.91348123550415,\n 5.88327169418335,\n 5.843180179595947,\n 6.015201568603516,\n 5.794676303863525,\n 5.45531702041626,\n 5.627095699310303,\n 6.271303653717041,\n 5.933243274688721,\n 6.103857517242432,\n 5.792881488800049,\n 6.051795959472656,\n 6.122801303863525,\n 5.975938320159912,\n 6.011514663696289,\n 6.153360843658447,\n 6.2571492195129395,\n 6.4559712409973145,\n 5.914058685302734,\n 6.193704605102539,\n 6.051361083984375,\n 6.229678630828857,\n 6.443736553192139,\n 6.246723175048828,\n 6.412724018096924,\n 6.769322872161865,\n 6.559673309326172,\n 6.515793323516846,\n 6.295740127563477,\n 6.489590167999268,\n 7.025884628295898,\n 6.723084926605225,\n 6.394046783447266,\n 6.853658676147461,\n 6.604008197784424,\n 6.641071796417236,\n 6.649000644683838,\n 6.637471675872803,\n 6.890998840332031,\n 6.921512603759766,\n 6.740457534790039,\n 6.4676055908203125,\n 6.916793346405029,\n 6.621899127960205,\n 6.545019626617432,\n 6.698476314544678,\n 6.587360382080078,\n 6.708735942840576,\n 6.9828619956970215,\n 6.51685094833374,\n 6.909744739532471,\n 6.856113433837891,\n 6.673662185668945,\n 7.1339898109436035,\n 6.776113986968994,\n 7.095985412597656,\n 6.835961818695068,\n 6.930409908294678,\n 7.137386322021484,\n 7.248596668243408,\n 6.764441967010498,\n 6.743659496307373,\n 6.875518321990967,\n 6.769712448120117,\n 6.910308837890625,\n 6.752048015594482,\n 7.323598861694336,\n 6.853461742401123,\n 6.786309719085693,\n 7.222304821014404,\n 6.825463771820068,\n 6.782550811767578,\n 6.632959842681885,\n 6.7838134765625,\n 7.285373687744141,\n 6.538248062133789,\n 6.771704196929932,\n 7.028749465942383,\n 7.0191192626953125,\n 6.749719619750977,\n 6.677004337310791,\n 6.761898040771484,\n 6.897348403930664,\n 6.8788743019104,\n 7.170748233795166,\n 6.885202884674072,\n 7.129491329193115,\n 6.671329021453857,\n 7.656717777252197,\n 6.707417011260986,\n 6.760313034057617,\n 6.433494567871094,\n 6.967721462249756,\n 6.821272373199463,\n 7.079248905181885,\n 6.886131286621094,\n 6.7201457023620605,\n 7.1085991859436035,\n 7.1760172843933105,\n 6.908733367919922,\n 6.769956111907959,\n 7.033329486846924,\n 6.949280261993408,\n 6.952993869781494,\n 7.376028537750244,\n 6.91746187210083,\n 7.060627460479736,\n 7.08603048324585,\n 7.31840705871582,\n 6.78863000869751,\n 6.9873199462890625,\n 6.993415832519531,\n 6.701595783233643]"
     },
     "metadata": {},
     "output_type": "display_data"
    },
    {
     "data": {
      "text/plain": "'-21_-19_strain_p1'"
     },
     "metadata": {},
     "output_type": "display_data"
    },
    {
     "data": {
      "text/plain": "[2.0522875785827637,\n 2.2586634159088135,\n 2.2749578952789307,\n 2.5074896812438965,\n 2.5735771656036377,\n 1.7680599689483643,\n 2.100269079208374,\n 2.025339126586914,\n 2.3857076168060303,\n 2.364379405975342,\n 2.272580862045288,\n 2.0383636951446533,\n 2.2169594764709473,\n 2.0259549617767334,\n 2.0281803607940674,\n 2.57603120803833,\n 2.316004753112793,\n 2.427130699157715,\n 1.992640495300293,\n 2.406628370285034,\n 1.9548803567886353,\n 2.2564544677734375,\n 2.477618455886841,\n 2.163693904876709,\n 2.02632474899292,\n 2.453528642654419,\n 2.234931230545044,\n 2.321282148361206,\n 2.4609782695770264,\n 2.6063292026519775,\n 2.6467502117156982,\n 2.4336743354797363,\n 2.5374886989593506,\n 2.415989398956299,\n 2.7157859802246094,\n 2.5884430408477783,\n 2.8846969604492188,\n 2.6121907234191895,\n 2.0523605346679688,\n 2.49593186378479,\n 2.3417880535125732,\n 2.729529857635498,\n 2.676302909851074,\n 2.6406681537628174,\n 2.7149176597595215,\n 2.7290050983428955,\n 2.855513334274292,\n 2.6762287616729736,\n 2.9302306175231934,\n 2.653681516647339,\n 2.2195205688476562,\n 2.7989022731781006,\n 3.1216301918029785,\n 2.835737466812134,\n 3.325993776321411,\n 3.1033504009246826,\n 2.664968967437744,\n 2.9588959217071533,\n 2.879087448120117,\n 3.110837459564209,\n 2.8072891235351562,\n 3.0871825218200684,\n 2.8761887550354004,\n 3.1508426666259766,\n 3.3694610595703125,\n 2.9539642333984375,\n 3.1205501556396484,\n 3.03031587600708,\n 3.1229519844055176,\n 3.172423839569092,\n 3.4446167945861816,\n 3.1524651050567627,\n 3.0160717964172363,\n 3.261275053024292,\n 3.610201597213745,\n 3.515761613845825,\n 3.616962432861328,\n 3.0452916622161865,\n 3.6063408851623535,\n 3.7144904136657715,\n 3.153439998626709,\n 3.751251220703125,\n 3.4711310863494873,\n 3.3270981311798096,\n 3.4196670055389404,\n 3.8203110694885254,\n 3.885861873626709,\n 3.9057579040527344,\n 3.6357178688049316,\n 3.4718596935272217,\n 3.9883933067321777,\n 3.66947865486145,\n 3.9557204246520996,\n 3.722759246826172,\n 3.3180110454559326,\n 3.6263763904571533,\n 3.656167507171631,\n 3.9526543617248535,\n 4.309744834899902,\n 4.237762451171875,\n 3.8742949962615967,\n 3.464783191680908,\n 3.608355760574341,\n 4.066359519958496,\n 3.9053635597229004,\n 3.9012820720672607,\n 3.9882686138153076,\n 3.9965789318084717,\n 3.603522777557373,\n 4.2663373947143555,\n 4.592668056488037,\n 4.386592864990234,\n 4.608548641204834,\n 4.139868259429932,\n 4.201961517333984,\n 4.296856880187988,\n 4.410998344421387,\n 4.345566749572754,\n 4.3594160079956055,\n 4.3406548500061035,\n 4.456949234008789,\n 3.8352408409118652,\n 4.418538570404053,\n 4.376856327056885,\n 4.4984025955200195,\n 4.538500785827637,\n 4.387568950653076,\n 4.678582668304443,\n 4.429401874542236,\n 4.440958023071289,\n 4.893351078033447,\n 4.95045280456543,\n 4.452040195465088,\n 4.3642168045043945,\n 4.628086566925049,\n 4.79927921295166,\n 5.040782928466797,\n 5.029778003692627,\n 5.114602565765381,\n 4.610217094421387,\n 4.4556074142456055,\n 4.770005702972412,\n 4.619935989379883,\n 4.870927333831787,\n 4.859135627746582,\n 5.15601921081543,\n 4.671277046203613,\n 4.970983028411865,\n 5.130375385284424,\n 5.5332136154174805,\n 5.4148430824279785,\n 5.108070373535156,\n 5.294181823730469,\n 4.942747592926025,\n 5.232908248901367,\n 5.417270183563232,\n 5.052112579345703,\n 5.00214958190918,\n 5.183970928192139,\n 5.292294502258301,\n 5.489001274108887,\n 5.402087211608887,\n 5.455542087554932,\n 5.458624839782715,\n 5.416322231292725,\n 5.6025614738464355,\n 5.896148681640625,\n 5.707837104797363,\n 5.221369743347168,\n 5.459166049957275,\n 5.879103660583496,\n 5.749903678894043,\n 6.148795127868652,\n 5.702447891235352,\n 5.5978803634643555,\n 5.8797831535339355,\n 5.944159507751465,\n 6.039521217346191,\n 5.974861145019531,\n 5.6888251304626465,\n 6.078206539154053,\n 6.3149614334106445,\n 6.252870559692383,\n 6.041441917419434,\n 5.996794700622559,\n 6.2923455238342285,\n 6.24135684967041,\n 6.243170738220215,\n 5.777836799621582,\n 5.888975620269775,\n 6.241027355194092,\n 6.5807390213012695,\n 5.908430576324463,\n 6.226934432983398,\n 5.995709419250488,\n 6.62527322769165,\n 6.644425392150879,\n 6.394993782043457,\n 6.643373012542725,\n 6.544025421142578,\n 6.922327518463135,\n 6.654022216796875,\n 6.7280778884887695,\n 6.944986820220947,\n 7.111907958984375,\n 6.683846950531006,\n 6.5577569007873535,\n 7.060585975646973,\n 6.7412004470825195,\n 6.738297462463379,\n 6.7448225021362305,\n 6.676506996154785,\n 6.794528961181641,\n 6.4129228591918945,\n 6.928502559661865,\n 6.814642429351807,\n 6.953858375549316,\n 6.658701419830322,\n 6.463993072509766,\n 6.742568016052246,\n 7.247525691986084,\n 7.078347682952881,\n 6.765486717224121,\n 7.1740875244140625,\n 6.858745574951172,\n 7.050886631011963,\n 6.961983680725098,\n 7.153739929199219,\n 6.938669681549072,\n 7.008721828460693,\n 7.184205532073975,\n 7.013374328613281,\n 7.076999664306641,\n 7.186033725738525,\n 7.236666202545166,\n 7.076524257659912,\n 7.833956241607666,\n 7.160635948181152,\n 6.883114814758301,\n 7.256748199462891,\n 7.613335609436035,\n 7.4217376708984375,\n 7.222115993499756,\n 7.456593990325928,\n 7.268196105957031,\n 7.323370456695557,\n 7.584290981292725,\n 7.6877546310424805,\n 7.323904991149902,\n 7.599771022796631,\n 7.672205924987793,\n 7.405523777008057,\n 7.343116760253906,\n 7.432729244232178,\n 7.413865566253662,\n 7.579742431640625,\n 7.3075408935546875,\n 7.436944484710693,\n 7.783524990081787,\n 7.631458282470703,\n 7.6239118576049805,\n 7.656222343444824,\n 7.6653032302856445,\n 7.653428554534912,\n 7.925660610198975,\n 7.9444427490234375,\n 7.355874538421631,\n 7.80191707611084,\n 8.063573837280273,\n 7.633683204650879,\n 7.745916843414307,\n 7.6992597579956055,\n 7.464489936828613,\n 7.11514139175415,\n 7.846452236175537,\n 7.79556941986084,\n 7.803125858306885,\n 7.697103977203369,\n 7.842716217041016,\n 7.870657920837402,\n 7.6686272621154785,\n 7.938011169433594,\n 7.684615135192871,\n 8.069604873657227,\n 8.191441535949707,\n 7.650426387786865,\n 7.633706569671631,\n 8.164469718933105,\n 7.7896928787231445,\n 7.620718955993652]"
     },
     "metadata": {},
     "output_type": "display_data"
    },
    {
     "data": {
      "text/plain": "'-19_-17_strain_p1'"
     },
     "metadata": {},
     "output_type": "display_data"
    },
    {
     "data": {
      "text/plain": "[1.8233904838562012,\n 2.1051056385040283,\n 2.3901214599609375,\n 2.0767221450805664,\n 1.9118391275405884,\n 1.8565565347671509,\n 2.167057752609253,\n 2.015301465988159,\n 2.3629791736602783,\n 2.292091131210327,\n 2.4811789989471436,\n 2.0322368144989014,\n 2.240647554397583,\n 2.1023831367492676,\n 2.108464241027832,\n 2.534062623977661,\n 2.373474597930908,\n 2.4187443256378174,\n 2.220609188079834,\n 2.2460086345672607,\n 2.372220993041992,\n 2.55659556388855,\n 2.319537401199341,\n 2.640281915664673,\n 2.3260109424591064,\n 2.2326481342315674,\n 2.011605739593506,\n 2.6786928176879883,\n 2.5093390941619873,\n 2.7384135723114014,\n 2.660750389099121,\n 2.221207857131958,\n 2.4772307872772217,\n 2.367866277694702,\n 2.6774046421051025,\n 2.5423436164855957,\n 2.8059370517730713,\n 2.0679914951324463,\n 2.389448642730713,\n 2.44004487991333,\n 2.933624029159546,\n 2.5772602558135986,\n 2.6677448749542236,\n 2.778712272644043,\n 2.4009034633636475,\n 2.806790590286255,\n 2.8253285884857178,\n 2.7016189098358154,\n 2.8004043102264404,\n 2.7580058574676514,\n 2.38930606842041,\n 2.8943376541137695,\n 2.4024155139923096,\n 3.2869656085968018,\n 3.3978679180145264,\n 2.9146814346313477,\n 2.7995223999023438,\n 2.7561676502227783,\n 3.04217791557312,\n 3.101635694503784,\n 3.306807279586792,\n 3.4058942794799805,\n 3.1361706256866455,\n 3.179288864135742,\n 2.7292051315307617,\n 2.9631588459014893,\n 3.319485664367676,\n 3.632188558578491,\n 3.068293571472168,\n 3.1369006633758545,\n 3.406883955001831,\n 3.4503719806671143,\n 3.6572654247283936,\n 3.4646427631378174,\n 3.426104784011841,\n 3.1972739696502686,\n 3.321248769760132,\n 3.3497869968414307,\n 3.389087438583374,\n 3.7633273601531982,\n 3.878096580505371,\n 3.8594253063201904,\n 3.638223886489868,\n 3.521782636642456,\n 3.249225616455078,\n 3.8643505573272705,\n 3.692857027053833,\n 3.894657850265503,\n 3.552656412124634,\n 3.4191787242889404,\n 3.5567777156829834,\n 3.666193723678589,\n 3.8291425704956055,\n 3.948972463607788,\n 3.586517333984375,\n 3.667184591293335,\n 3.785170555114746,\n 3.689390182495117,\n 4.1515398025512695,\n 4.002089023590088,\n 3.760843276977539,\n 3.5039567947387695,\n 3.5726640224456787,\n 4.046313762664795,\n 4.0510783195495605,\n 4.4792375564575195,\n 3.7197179794311523,\n 3.9503746032714844,\n 3.871142625808716,\n 4.1775288581848145,\n 4.224685192108154,\n 4.533340930938721,\n 4.560641765594482,\n 4.338408470153809,\n 3.9523894786834717,\n 3.994656801223755,\n 4.127015113830566,\n 4.421850681304932,\n 4.588344097137451,\n 4.524026393890381,\n 4.446733474731445,\n 4.18804407119751,\n 4.51350736618042,\n 4.226799964904785,\n 4.853845119476318,\n 4.529876232147217,\n 4.991026401519775,\n 4.471315383911133,\n 4.539355754852295,\n 5.054967403411865,\n 4.779531955718994,\n 5.1960577964782715,\n 4.983349800109863,\n 4.966778755187988,\n 4.331677436828613,\n 5.020294189453125,\n 5.076582431793213,\n 5.238399028778076,\n 5.056176662445068,\n 4.921541690826416,\n 4.865298748016357,\n 4.6679911613464355,\n 5.111109256744385,\n 5.424549102783203,\n 5.188394069671631,\n 4.951459884643555,\n 5.0407891273498535,\n 4.79535436630249,\n 5.0990214347839355,\n 5.263708591461182,\n 5.3130998611450195,\n 5.351118087768555,\n 5.337342739105225,\n 4.963710308074951,\n 5.212498188018799,\n 5.313711166381836,\n 5.8678297996521,\n 5.306772708892822,\n 5.103854656219482,\n 5.2661213874816895,\n 5.671854496002197,\n 5.866199970245361,\n 5.828158855438232,\n 5.227733612060547,\n 5.788749694824219,\n 5.987943172454834,\n 5.9476799964904785,\n 5.966410160064697,\n 6.044328212738037,\n 5.590118408203125,\n 5.743289470672607,\n 6.073354721069336,\n 6.0988945960998535,\n 5.988865375518799,\n 5.98634147644043,\n 6.216179370880127,\n 6.3810505867004395,\n 6.323307037353516,\n 6.340570449829102,\n 5.628490924835205,\n 5.938509464263916,\n 6.297197341918945,\n 6.165185928344727,\n 6.299523830413818,\n 6.089945316314697,\n 6.117158889770508,\n 6.735432147979736,\n 6.393260955810547,\n 6.3950982093811035,\n 6.12252950668335,\n 6.151400089263916,\n 6.55884313583374,\n 6.67659330368042,\n 6.706460952758789,\n 6.566552639007568,\n 6.9436421394348145,\n 7.0738525390625,\n 6.44035005569458,\n 6.426364421844482,\n 7.1867804527282715,\n 6.749645709991455,\n 6.572698593139648,\n 7.043828964233398,\n 7.144886493682861,\n 7.444585800170898,\n 6.948525905609131,\n 6.158271789550781,\n 6.916631698608398,\n 7.014551162719727,\n 7.111776828765869,\n 6.939368724822998,\n 7.0251312255859375,\n 7.571559906005859,\n 7.389959335327148,\n 7.124528408050537,\n 7.219828128814697,\n 7.574060916900635,\n 7.274783611297607,\n 7.035913944244385,\n 7.814401626586914,\n 7.8006463050842285,\n 7.4893317222595215,\n 7.360954284667969,\n 7.560033798217773,\n 8.163182258605957,\n 7.652749538421631,\n 7.666236400604248,\n 7.925272464752197,\n 7.96570348739624,\n 7.818340301513672,\n 7.9503560066223145,\n 7.808068752288818,\n 7.918699741363525,\n 8.009923934936523,\n 8.158333778381348,\n 8.260594367980957,\n 8.268097877502441,\n 8.224906921386719,\n 8.288437843322754,\n 8.399930000305176,\n 8.604751586914062,\n 8.437973022460938,\n 8.182526588439941,\n 9.171412467956543,\n 8.53880786895752,\n 8.535372734069824,\n 8.65662956237793,\n 9.159263610839844,\n 8.786722183227539,\n 8.660798072814941,\n 9.343696594238281,\n 8.91779613494873,\n 9.265969276428223,\n 9.076447486877441,\n 9.019124031066895,\n 9.206357955932617,\n 8.947498321533203,\n 9.411847114562988,\n 9.602046012878418,\n 9.228644371032715,\n 9.416707992553711,\n 9.764446258544922,\n 9.457547187805176,\n 9.406742095947266,\n 9.416611671447754,\n 9.5728120803833,\n 9.70445442199707,\n 9.605643272399902,\n 9.374275207519531,\n 9.561148643493652,\n 9.751056671142578,\n 9.391400337219238,\n 9.83191204071045,\n 9.49148941040039,\n 9.566667556762695,\n 9.947918891906738,\n 9.571313858032227,\n 9.708203315734863,\n 9.985840797424316,\n 9.887592315673828,\n 9.826144218444824,\n 10.360513687133789,\n 9.49395751953125,\n 9.68618392944336,\n 10.0560302734375,\n 9.861454963684082,\n 10.013655662536621,\n 9.83489990234375,\n 10.061216354370117,\n 9.997672080993652]"
     },
     "metadata": {},
     "output_type": "display_data"
    },
    {
     "data": {
      "text/plain": "'-17_-15_strain_p1'"
     },
     "metadata": {},
     "output_type": "display_data"
    },
    {
     "data": {
      "text/plain": "[2.39874005317688,\n 2.1930832862854004,\n 2.600917339324951,\n 2.633495569229126,\n 2.5374372005462646,\n 2.4004580974578857,\n 2.5492429733276367,\n 2.283297538757324,\n 2.57940673828125,\n 2.653480052947998,\n 2.534503936767578,\n 2.366299867630005,\n 2.7223191261291504,\n 2.621391534805298,\n 2.790363311767578,\n 2.71537184715271,\n 2.894622325897217,\n 2.9367830753326416,\n 2.505112886428833,\n 2.76676607131958,\n 2.612637519836426,\n 2.8705649375915527,\n 2.815359115600586,\n 2.8465142250061035,\n 2.7224419116973877,\n 2.4427361488342285,\n 2.7659733295440674,\n 2.5584962368011475,\n 2.828151226043701,\n 2.9666128158569336,\n 3.011784553527832,\n 2.7744483947753906,\n 3.295724868774414,\n 2.614729404449463,\n 3.0660152435302734,\n 3.324789524078369,\n 3.0985708236694336,\n 3.080622673034668,\n 3.069152593612671,\n 3.2538483142852783,\n 3.256932497024536,\n 3.166778087615967,\n 2.9558188915252686,\n 3.019369602203369,\n 2.852707624435425,\n 2.9918484687805176,\n 3.12302303314209,\n 3.328190565109253,\n 3.3693175315856934,\n 3.448071002960205,\n 3.0878021717071533,\n 2.9804186820983887,\n 3.1520771980285645,\n 3.2170073986053467,\n 3.4988605976104736,\n 3.5146775245666504,\n 3.446929454803467,\n 3.0278353691101074,\n 3.51811146736145,\n 3.7481980323791504,\n 3.350825548171997,\n 3.448726177215576,\n 3.8742146492004395,\n 3.260890245437622,\n 3.2857747077941895,\n 3.309375047683716,\n 3.887059450149536,\n 3.5328094959259033,\n 3.6599128246307373,\n 3.976818561553955,\n 3.65464448928833,\n 3.476879835128784,\n 3.9846978187561035,\n 3.929386615753174,\n 3.833944320678711,\n 3.4731082916259766,\n 4.03998327255249,\n 3.992130994796753,\n 3.918184995651245,\n 4.051695823669434,\n 4.083461284637451,\n 4.094923973083496,\n 3.6855835914611816,\n 4.07413911819458,\n 4.236075401306152,\n 3.8937137126922607,\n 4.179137706756592,\n 4.102080345153809,\n 4.2747483253479,\n 4.372119903564453,\n 4.20230770111084,\n 4.135110855102539,\n 4.36134672164917,\n 4.412032127380371,\n 4.425622463226318,\n 4.722264289855957,\n 4.175523281097412,\n 4.195168495178223,\n 4.651124954223633,\n 4.437866687774658,\n 4.786357879638672,\n 4.545689582824707,\n 4.436343193054199,\n 4.218926906585693,\n 4.611414909362793,\n 4.506996154785156,\n 4.49847936630249,\n 4.322336196899414,\n 4.582884788513184,\n 4.953126907348633,\n 4.780959606170654,\n 4.60105037689209,\n 4.9260053634643555,\n 5.284571170806885,\n 4.954087734222412,\n 4.879803657531738,\n 4.684749126434326,\n 5.310204029083252,\n 5.322575092315674,\n 5.27199125289917,\n 5.335756778717041,\n 5.296307563781738,\n 5.324105262756348,\n 4.9299445152282715,\n 5.408974647521973,\n 5.385499954223633,\n 4.901240825653076,\n 5.259207725524902,\n 5.303412437438965,\n 5.202087879180908,\n 5.769986629486084,\n 5.793609619140625,\n 5.560906410217285,\n 5.639763832092285,\n 5.911169528961182,\n 5.706021308898926,\n 5.394435405731201,\n 5.8067193031311035,\n 5.976773262023926,\n 5.39873743057251,\n 5.98715877532959,\n 5.794534206390381,\n 5.917842864990234,\n 5.7002458572387695,\n 6.276790618896484,\n 5.953850746154785,\n 5.976268768310547,\n 5.793749809265137,\n 5.76711368560791,\n 6.04669189453125,\n 5.860569953918457,\n 6.19614315032959,\n 6.226410865783691,\n 6.315419673919678,\n 6.279879570007324,\n 6.273550510406494,\n 6.1948957443237305,\n 6.647450923919678,\n 6.725333213806152,\n 6.122750282287598,\n 6.39321756362915,\n 6.693830966949463,\n 6.742063999176025,\n 6.6302490234375,\n 6.771231174468994,\n 6.764364719390869,\n 6.468317985534668,\n 6.706931114196777,\n 7.0040082931518555,\n 6.8271331787109375,\n 6.478078365325928,\n 6.976708889007568,\n 6.944451808929443,\n 7.383650302886963,\n 7.3765764236450195,\n 7.070514678955078,\n 7.067623138427734,\n 7.453422546386719,\n 7.667077541351318,\n 7.173764705657959,\n 7.075921535491943,\n 6.780892372131348,\n 7.281459808349609,\n 7.713522911071777,\n 7.441054344177246,\n 7.18196964263916,\n 7.518550872802734,\n 7.692334175109863,\n 7.877253532409668,\n 7.760687828063965,\n 7.582960605621338,\n 7.942257881164551,\n 8.392732620239258,\n 8.321672439575195,\n 7.88348913192749,\n 7.9360761642456055,\n 8.40027141571045,\n 8.598161697387695,\n 8.299752235412598,\n 8.233468055725098,\n 8.136919975280762,\n 9.00901985168457,\n 9.276288032531738,\n 8.57438850402832,\n 9.046247482299805,\n 9.130653381347656,\n 9.090510368347168,\n 8.450066566467285,\n 9.087644577026367,\n 9.232973098754883,\n 9.05640697479248,\n 8.833608627319336,\n 8.806736946105957,\n 9.380478858947754,\n 9.535306930541992,\n 9.248116493225098,\n 9.23025131225586,\n 9.816433906555176,\n 9.897781372070312,\n 10.05115795135498,\n 9.892915725708008,\n 10.337457656860352,\n 10.757019996643066,\n 9.956900596618652,\n 10.383569717407227,\n 10.830891609191895,\n 10.858064651489258,\n 10.49101448059082,\n 11.13845443725586,\n 11.031973838806152,\n 11.276476860046387,\n 10.658961296081543,\n 10.906538963317871,\n 11.563238143920898,\n 11.789651870727539,\n 11.50278091430664,\n 11.740055084228516,\n 12.173014640808105,\n 12.261392593383789,\n 11.793784141540527,\n 12.012507438659668,\n 12.793614387512207,\n 12.209939956665039,\n 12.516148567199707,\n 12.90771770477295,\n 13.029767036437988,\n 12.755622863769531,\n 12.525861740112305,\n 12.988714218139648,\n 12.631505966186523,\n 12.381271362304688,\n 12.886489868164062,\n 13.288180351257324,\n 13.029142379760742,\n 13.172389030456543,\n 13.626646041870117,\n 13.50721549987793,\n 12.988329887390137,\n 13.577532768249512,\n 13.941476821899414,\n 13.50920295715332,\n 13.83161735534668,\n 13.931318283081055,\n 14.217361450195312,\n 13.47260570526123,\n 14.059735298156738,\n 14.22693920135498,\n 13.665308952331543,\n 13.79443073272705,\n 14.137689590454102,\n 13.923067092895508,\n 14.033297538757324,\n 14.306161880493164,\n 14.388748168945312,\n 14.321542739868164,\n 14.206161499023438,\n 14.669622421264648,\n 14.60503101348877,\n 14.341891288757324,\n 14.437271118164062,\n 14.673266410827637,\n 14.33198356628418,\n 14.410049438476562,\n 14.637933731079102,\n 14.669520378112793,\n 14.29356861114502,\n 15.238973617553711,\n 14.617120742797852,\n 14.720126152038574,\n 14.960026741027832]"
     },
     "metadata": {},
     "output_type": "display_data"
    },
    {
     "data": {
      "text/plain": "'-15_-13_strain_p1'"
     },
     "metadata": {},
     "output_type": "display_data"
    },
    {
     "data": {
      "text/plain": "[2.036369562149048,\n 2.208474636077881,\n 2.21108341217041,\n 2.286811113357544,\n 2.6119611263275146,\n 2.130580186843872,\n 2.2182793617248535,\n 2.318828582763672,\n 2.315133571624756,\n 2.054551362991333,\n 2.325117588043213,\n 2.3020405769348145,\n 2.327552080154419,\n 2.210960626602173,\n 1.8598248958587646,\n 2.3188459873199463,\n 2.1982321739196777,\n 2.3298370838165283,\n 2.1646759510040283,\n 2.289813280105591,\n 2.27128267288208,\n 2.329470634460449,\n 2.420748472213745,\n 2.6528077125549316,\n 2.4236624240875244,\n 2.2770676612854004,\n 2.538355588912964,\n 2.5120010375976562,\n 2.386221408843994,\n 2.617281675338745,\n 2.623014450073242,\n 2.568270206451416,\n 2.64786696434021,\n 1.900031328201294,\n 2.448517322540283,\n 3.1664321422576904,\n 2.8352506160736084,\n 2.4543511867523193,\n 2.464707612991333,\n 3.0803322792053223,\n 2.707925319671631,\n 2.8157379627227783,\n 2.5984463691711426,\n 2.8376073837280273,\n 2.5992400646209717,\n 2.674706220626831,\n 2.700636148452759,\n 2.884638786315918,\n 2.397352695465088,\n 3.100092887878418,\n 2.6452529430389404,\n 2.6772284507751465,\n 3.011878490447998,\n 2.9781761169433594,\n 2.7979207038879395,\n 3.103991746902466,\n 2.5506863594055176,\n 3.064882755279541,\n 3.151625633239746,\n 3.109408378601074,\n 3.1631858348846436,\n 3.317500352859497,\n 3.0434536933898926,\n 2.816833019256592,\n 3.009953260421753,\n 3.0947604179382324,\n 3.1156668663024902,\n 3.317962169647217,\n 2.996866464614868,\n 3.0557689666748047,\n 3.205186367034912,\n 2.945173740386963,\n 2.985267162322998,\n 3.833218812942505,\n 3.145414113998413,\n 3.217599868774414,\n 3.1227617263793945,\n 3.1803042888641357,\n 3.289839267730713,\n 3.273857831954956,\n 3.2412326335906982,\n 3.3305554389953613,\n 3.5540223121643066,\n 3.2403435707092285,\n 3.3633251190185547,\n 3.3371829986572266,\n 3.5319466590881348,\n 3.3713016510009766,\n 3.718945264816284,\n 3.4666390419006348,\n 3.6191585063934326,\n 3.621613025665283,\n 3.883013963699341,\n 3.6431498527526855,\n 3.816174030303955,\n 3.444396495819092,\n 3.538982391357422,\n 3.8471591472625732,\n 4.272630214691162,\n 4.046497821807861,\n 4.340317726135254,\n 3.862438201904297,\n 4.0347208976745605,\n 3.717381000518799,\n 3.9225127696990967,\n 3.9646430015563965,\n 3.965174913406372,\n 4.157657146453857,\n 3.9794299602508545,\n 4.185235023498535,\n 4.176508903503418,\n 4.150801658630371,\n 4.2462992668151855,\n 4.474978446960449,\n 4.290667533874512,\n 4.442181587219238,\n 3.93572735786438,\n 4.272584438323975,\n 4.608330726623535,\n 4.742849826812744,\n 4.212242126464844,\n 4.762667655944824,\n 4.453315258026123,\n 4.059574127197266,\n 4.621674537658691,\n 4.406476020812988,\n 4.649865627288818,\n 4.43523645401001,\n 4.594374656677246,\n 4.902196407318115,\n 4.792967796325684,\n 4.45407247543335,\n 5.133695125579834,\n 4.949349880218506,\n 5.213528633117676,\n 4.739164352416992,\n 4.637025833129883,\n 4.930948734283447,\n 4.999928951263428,\n 4.925435543060303,\n 5.055460453033447,\n 5.149079322814941,\n 4.879443168640137,\n 5.1422119140625,\n 5.81971549987793,\n 5.456297874450684,\n 5.984923362731934,\n 5.191338539123535,\n 4.944893836975098,\n 5.151599407196045,\n 5.093038082122803,\n 5.494462490081787,\n 5.6729888916015625,\n 5.669482231140137,\n 5.475429534912109,\n 5.312254905700684,\n 5.740958213806152,\n 5.998597621917725,\n 5.703183174133301,\n 5.599184989929199,\n 5.77274227142334,\n 5.616996765136719,\n 6.020185470581055,\n 5.9313273429870605,\n 6.456850528717041,\n 5.795890808105469,\n 5.8886613845825195,\n 6.167832374572754,\n 6.353501319885254,\n 6.498635292053223,\n 6.468897342681885,\n 6.245186805725098,\n 6.332386493682861,\n 6.2054643630981445,\n 6.827120304107666,\n 6.780309200286865,\n 6.403651237487793,\n 6.688681602478027,\n 7.149855136871338,\n 7.324735164642334,\n 7.281846046447754,\n 6.966719150543213,\n 7.219918727874756,\n 7.584256649017334,\n 7.787746429443359,\n 7.453530311584473,\n 7.128308296203613,\n 7.444358825683594,\n 7.827392578125,\n 8.019476890563965,\n 7.9523186683654785,\n 7.8766374588012695,\n 8.218942642211914,\n 8.986818313598633,\n 8.464612007141113,\n 8.664664268493652,\n 8.323623657226562,\n 9.030466079711914,\n 9.216949462890625,\n 8.905101776123047,\n 8.739656448364258,\n 9.00814437866211,\n 9.67412281036377,\n 9.887374877929688,\n 9.333063125610352,\n 9.612922668457031,\n 10.378843307495117,\n 10.128872871398926,\n 10.165552139282227,\n 9.947065353393555,\n 10.578140258789062,\n 10.599199295043945,\n 10.719545364379883,\n 10.404634475708008,\n 10.772577285766602,\n 12.008528709411621,\n 11.334989547729492,\n 11.217735290527344,\n 11.791973114013672,\n 11.654261589050293,\n 12.236241340637207,\n 11.822281837463379,\n 12.636762619018555,\n 12.8316068649292,\n 12.876413345336914,\n 12.500913619995117,\n 12.87267780303955,\n 13.210772514343262,\n 13.251660346984863,\n 13.268171310424805,\n 13.708704948425293,\n 14.496464729309082,\n 14.0377197265625,\n 14.182711601257324,\n 13.911218643188477,\n 14.780613899230957,\n 14.510104179382324,\n 14.81257438659668,\n 14.9912748336792,\n 15.680755615234375,\n 15.38103199005127,\n 15.512285232543945,\n 15.613454818725586,\n 15.718707084655762,\n 15.650744438171387,\n 16.1058292388916,\n 16.654438018798828,\n 16.427322387695312,\n 16.66824722290039,\n 16.764331817626953,\n 17.21266746520996,\n 16.81318473815918,\n 17.146831512451172,\n 17.49289321899414,\n 17.749927520751953,\n 17.238548278808594,\n 17.603496551513672,\n 17.98467254638672,\n 17.75460433959961,\n 18.181900024414062,\n 18.462322235107422,\n 18.463184356689453,\n 18.354806900024414,\n 18.893753051757812,\n 19.189502716064453,\n 19.081790924072266,\n 19.038463592529297,\n 19.350006103515625,\n 19.052143096923828,\n 19.35031509399414,\n 19.522403717041016,\n 20.072336196899414,\n 20.23102378845215,\n 19.422870635986328,\n 20.218135833740234,\n 20.080596923828125,\n 19.92487907409668,\n 20.014305114746094,\n 20.2351016998291,\n 20.362377166748047,\n 20.80894660949707,\n 20.375120162963867,\n 20.571949005126953,\n 20.842296600341797,\n 20.939067840576172,\n 20.81061553955078,\n 21.125534057617188,\n 21.380064010620117,\n 21.365568161010742,\n 21.362838745117188]"
     },
     "metadata": {},
     "output_type": "display_data"
    },
    {
     "data": {
      "text/plain": "'-13_-11_strain_p1'"
     },
     "metadata": {},
     "output_type": "display_data"
    },
    {
     "data": {
      "text/plain": "[2.0968992710113525,\n 2.01896071434021,\n 2.313192367553711,\n 2.1988377571105957,\n 2.1345114707946777,\n 1.9240431785583496,\n 1.7171660661697388,\n 2.359323263168335,\n 1.974666953086853,\n 2.0926902294158936,\n 2.0713934898376465,\n 1.9850162267684937,\n 2.208456516265869,\n 2.1842286586761475,\n 1.9766288995742798,\n 2.2607574462890625,\n 2.1676669120788574,\n 2.1710431575775146,\n 2.331132173538208,\n 1.8691209554672241,\n 2.0990164279937744,\n 2.1826601028442383,\n 2.5509445667266846,\n 2.46479868888855,\n 2.3907105922698975,\n 2.433114767074585,\n 2.51428484916687,\n 2.4814202785491943,\n 2.1984357833862305,\n 2.8409197330474854,\n 2.480379819869995,\n 2.510953187942505,\n 2.3276565074920654,\n 2.168966054916382,\n 2.6881420612335205,\n 3.003253698348999,\n 2.4831016063690186,\n 2.1761276721954346,\n 2.325035810470581,\n 2.705251455307007,\n 2.4264259338378906,\n 2.33581805229187,\n 2.478808879852295,\n 2.5999252796173096,\n 2.432147979736328,\n 2.2828800678253174,\n 2.54441237449646,\n 2.740431785583496,\n 2.641411304473877,\n 3.0996644496917725,\n 2.84912371635437,\n 2.5981884002685547,\n 2.597149610519409,\n 2.876492738723755,\n 2.6494767665863037,\n 2.9385550022125244,\n 2.801896333694458,\n 2.7804555892944336,\n 2.9453389644622803,\n 2.9221935272216797,\n 3.0288915634155273,\n 3.332484245300293,\n 3.1073501110076904,\n 2.9998857975006104,\n 2.9454081058502197,\n 3.085899591445923,\n 3.2805941104888916,\n 3.30483078956604,\n 3.2157223224639893,\n 3.564272165298462,\n 3.4344260692596436,\n 3.074904680252075,\n 3.1249053478240967,\n 3.412663459777832,\n 3.61108136177063,\n 3.2974853515625,\n 3.4034464359283447,\n 3.357515335083008,\n 3.19526743888855,\n 3.3783223628997803,\n 3.5450003147125244,\n 3.5287978649139404,\n 3.338212728500366,\n 3.181636095046997,\n 3.274049758911133,\n 3.6053764820098877,\n 3.560530424118042,\n 3.51457142829895,\n 3.8168346881866455,\n 3.4988880157470703,\n 3.4226551055908203,\n 3.6928837299346924,\n 3.8454458713531494,\n 3.883134126663208,\n 3.387840986251831,\n 3.6492068767547607,\n 3.6156890392303467,\n 3.467564821243286,\n 4.034900188446045,\n 3.536468744277954,\n 3.8957645893096924,\n 3.749823808670044,\n 4.05491828918457,\n 4.0585784912109375,\n 3.991551637649536,\n 4.426909923553467,\n 4.228318214416504,\n 4.2329511642456055,\n 4.129552364349365,\n 4.13058614730835,\n 4.234002113342285,\n 4.4647417068481445,\n 4.433786869049072,\n 4.230113506317139,\n 4.429426670074463,\n 4.219001770019531,\n 4.2200140953063965,\n 4.4646830558776855,\n 4.2101593017578125,\n 4.660838603973389,\n 4.890408992767334,\n 5.222028732299805,\n 4.6978631019592285,\n 4.46535587310791,\n 4.5508551597595215,\n 4.67122220993042,\n 4.708418369293213,\n 4.737590312957764,\n 4.976857662200928,\n 4.6758599281311035,\n 4.741912364959717,\n 4.688502788543701,\n 5.317010879516602,\n 5.033290386199951,\n 5.281208515167236,\n 5.1344170570373535,\n 4.954319000244141,\n 5.067171096801758,\n 5.1947340965271,\n 5.454710483551025,\n 5.507887363433838,\n 5.177056789398193,\n 5.332945346832275,\n 5.4170684814453125,\n 5.422459125518799,\n 5.864191055297852,\n 5.769481182098389,\n 5.75963830947876,\n 5.5760817527771,\n 5.496222972869873,\n 5.501979351043701,\n 5.667080402374268,\n 5.97537088394165,\n 6.214071273803711,\n 5.72039794921875,\n 6.09920072555542,\n 5.884378433227539,\n 5.966615676879883,\n 6.0082244873046875,\n 6.643009662628174,\n 6.391676425933838,\n 6.223106861114502,\n 6.128469944000244,\n 6.479804992675781,\n 6.57236909866333,\n 7.019125461578369,\n 6.542369842529297,\n 6.348733901977539,\n 6.974865436553955,\n 6.860452175140381,\n 7.020252227783203,\n 6.785255432128906,\n 6.94423246383667,\n 7.136155605316162,\n 7.382999420166016,\n 8.038843154907227,\n 7.869548797607422,\n 8.2665433883667,\n 7.8049139976501465,\n 8.061314582824707,\n 8.705521583557129,\n 8.718195915222168,\n 8.810860633850098,\n 8.655633926391602,\n 8.835039138793945,\n 9.513090133666992,\n 9.249046325683594,\n 9.55957317352295,\n 9.255084037780762,\n 9.719381332397461,\n 9.855856895446777,\n 10.184922218322754,\n 10.24780559539795,\n 10.315229415893555,\n 10.858540534973145,\n 11.481791496276855,\n 11.354964256286621,\n 11.316680908203125,\n 11.510520935058594,\n 12.268906593322754,\n 12.148612022399902,\n 12.222701072692871,\n 12.527145385742188,\n 13.292506217956543,\n 13.121808052062988,\n 13.574873924255371,\n 13.685726165771484,\n 14.020604133605957,\n 14.39990234375,\n 14.446449279785156,\n 15.044964790344238,\n 14.974617958068848,\n 15.375500679016113,\n 15.650382995605469,\n 15.69758129119873,\n 16.4510498046875,\n 16.849109649658203,\n 16.647809982299805,\n 17.07436180114746,\n 17.472013473510742,\n 17.480567932128906,\n 17.834455490112305,\n 18.083511352539062,\n 18.69908905029297,\n 18.723539352416992,\n 19.3623104095459,\n 19.235166549682617,\n 19.62139892578125,\n 20.08129119873047,\n 20.41969871520996,\n 20.903783798217773,\n 21.202138900756836,\n 22.053146362304688,\n 21.999113082885742,\n 22.009923934936523,\n 22.133642196655273,\n 23.290822982788086,\n 23.16668701171875,\n 23.42008399963379,\n 23.864416122436523,\n 24.412771224975586,\n 24.6003475189209,\n 24.867177963256836,\n 24.830711364746094,\n 25.805479049682617,\n 25.4949893951416,\n 25.616857528686523,\n 26.326444625854492,\n 26.568344116210938,\n 27.021947860717773,\n 26.9666748046875,\n 27.949995040893555,\n 28.0266056060791,\n 28.259279251098633,\n 28.661638259887695,\n 29.157934188842773,\n 29.134119033813477,\n 29.50078773498535,\n 29.800302505493164,\n 30.721254348754883,\n 30.4825382232666,\n 30.80779266357422,\n 31.496734619140625,\n 31.51799774169922,\n 31.707590103149414,\n 32.07842254638672,\n 32.696598052978516,\n 32.920833587646484,\n 33.09355545043945,\n 33.268802642822266,\n 33.93438720703125,\n 33.686344146728516,\n 34.45960235595703,\n 34.607879638671875,\n 34.88257598876953,\n 35.259498596191406,\n 35.22771072387695,\n 35.6493034362793,\n 36.003265380859375,\n 36.18490219116211,\n 36.760406494140625,\n 36.97530746459961,\n 37.159446716308594,\n 37.50741195678711,\n 38.09292221069336,\n 37.96354675292969,\n 37.7151985168457,\n 38.16194534301758,\n 38.69113540649414,\n 38.72877502441406]"
     },
     "metadata": {},
     "output_type": "display_data"
    },
    {
     "data": {
      "text/plain": "'-11_-9 _strain_p1'"
     },
     "metadata": {},
     "output_type": "display_data"
    },
    {
     "data": {
      "text/plain": "[2.3425230979919434,\n 2.1926450729370117,\n 2.346222400665283,\n 2.4459426403045654,\n 2.564053773880005,\n 2.1068954467773438,\n 2.0826964378356934,\n 2.6119163036346436,\n 2.350979804992676,\n 2.2384657859802246,\n 2.330054759979248,\n 2.464448928833008,\n 2.2845544815063477,\n 2.4101290702819824,\n 2.3681304454803467,\n 2.6390140056610107,\n 2.2609481811523438,\n 2.4701411724090576,\n 2.2046456336975098,\n 2.3451924324035645,\n 2.6474006175994873,\n 2.378603458404541,\n 2.615309000015259,\n 2.5799527168273926,\n 2.5649046897888184,\n 2.7312119007110596,\n 2.2450244426727295,\n 2.522332191467285,\n 2.7149055004119873,\n 2.8982601165771484,\n 2.6389174461364746,\n 2.759505271911621,\n 2.857168674468994,\n 2.4697518348693848,\n 2.8770506381988525,\n 2.7006092071533203,\n 2.6794593334198,\n 2.783435106277466,\n 2.6431527137756348,\n 3.0867791175842285,\n 2.6734778881073,\n 2.886103391647339,\n 3.2936489582061768,\n 2.8688790798187256,\n 3.0435221195220947,\n 2.711064338684082,\n 2.9114694595336914,\n 3.270540952682495,\n 2.7282090187072754,\n 3.3016319274902344,\n 2.8275108337402344,\n 2.9797472953796387,\n 3.0195465087890625,\n 3.3601348400115967,\n 3.054385185241699,\n 3.421328067779541,\n 2.9789528846740723,\n 3.1875345706939697,\n 3.407809019088745,\n 2.8222522735595703,\n 3.081423044204712,\n 3.2946617603302,\n 3.1163697242736816,\n 3.247684955596924,\n 3.519016981124878,\n 3.0521254539489746,\n 3.3080475330352783,\n 3.5853271484375,\n 3.321410655975342,\n 3.427825927734375,\n 3.4897429943084717,\n 3.3400051593780518,\n 3.3325934410095215,\n 3.4359607696533203,\n 3.6760380268096924,\n 3.7919793128967285,\n 3.772357940673828,\n 3.730231761932373,\n 3.7026641368865967,\n 3.622502565383911,\n 4.191376209259033,\n 4.062888145446777,\n 3.5180816650390625,\n 4.024855613708496,\n 3.570230484008789,\n 3.8187060356140137,\n 3.863597869873047,\n 3.8316588401794434,\n 3.8737175464630127,\n 4.210709571838379,\n 3.799509048461914,\n 3.830979108810425,\n 3.7541892528533936,\n 4.337693214416504,\n 4.1800689697265625,\n 4.10237455368042,\n 3.9737274646759033,\n 4.12062406539917,\n 4.357351303100586,\n 4.285272598266602,\n 4.465667247772217,\n 4.489037990570068,\n 4.3635993003845215,\n 4.356606960296631,\n 4.175751686096191,\n 4.533158302307129,\n 4.484959602355957,\n 4.385272979736328,\n 4.660025119781494,\n 4.815062046051025,\n 4.417316436767578,\n 4.72470760345459,\n 4.838964939117432,\n 4.57311487197876,\n 4.641815662384033,\n 5.0447893142700195,\n 4.515540599822998,\n 4.886817932128906,\n 4.663265705108643,\n 4.656363487243652,\n 5.181427001953125,\n 5.227380752563477,\n 4.795177459716797,\n 5.272398948669434,\n 5.0853400230407715,\n 4.92741584777832,\n 5.360101222991943,\n 5.019460201263428,\n 5.381645202636719,\n 5.450350284576416,\n 4.9248247146606445,\n 5.086434364318848,\n 5.394959449768066,\n 5.290616512298584,\n 5.776865482330322,\n 5.472352027893066,\n 5.855745792388916,\n 5.490887641906738,\n 5.352537631988525,\n 5.744633674621582,\n 5.6709184646606445,\n 5.710594177246094,\n 6.128350734710693,\n 5.589920997619629,\n 5.929928302764893,\n 5.748002052307129,\n 6.376736640930176,\n 6.421388149261475,\n 6.053158760070801,\n 6.5172295570373535,\n 6.402390956878662,\n 6.313116550445557,\n 6.553297519683838,\n 6.84591007232666,\n 6.6625075340271,\n 7.04578161239624,\n 6.610943794250488,\n 6.595491886138916,\n 6.843195915222168,\n 7.2130913734436035,\n 7.213719367980957,\n 7.276812553405762,\n 6.9488420486450195,\n 7.27004861831665,\n 7.221622467041016,\n 7.773659706115723,\n 7.846138000488281,\n 8.276748657226562,\n 7.955407619476318,\n 7.84999942779541,\n 8.077380180358887,\n 8.820683479309082,\n 8.56603717803955,\n 9.002686500549316,\n 9.119658470153809,\n 9.070854187011719,\n 9.795763969421387,\n 10.348579406738281,\n 10.13730525970459,\n 9.916545867919922,\n 10.212474822998047,\n 10.713815689086914,\n 11.168353080749512,\n 10.994608879089355,\n 11.206573486328125,\n 11.539839744567871,\n 11.242569923400879,\n 12.275408744812012,\n 12.531957626342773,\n 12.664995193481445,\n 12.840677261352539,\n 13.577909469604492,\n 14.076306343078613,\n 13.932714462280273,\n 14.129476547241211,\n 14.6015625,\n 15.421455383300781,\n 16.183490753173828,\n 16.02181625366211,\n 16.385602951049805,\n 16.87594223022461,\n 17.043575286865234,\n 17.69113540649414,\n 17.986759185791016,\n 18.357410430908203,\n 18.895511627197266,\n 19.612449645996094,\n 19.65700912475586,\n 20.072708129882812,\n 20.392040252685547,\n 21.215259552001953,\n 21.407751083374023,\n 21.724428176879883,\n 22.23906898498535,\n 22.535573959350586,\n 23.25787353515625,\n 23.818973541259766,\n 24.0021915435791,\n 24.418811798095703,\n 25.442646026611328,\n 25.833276748657227,\n 26.09151268005371,\n 26.156118392944336,\n 27.15793228149414,\n 27.693613052368164,\n 28.1439208984375,\n 28.56331443786621,\n 29.32724380493164,\n 29.829936981201172,\n 30.239307403564453,\n 30.698501586914062,\n 31.054553985595703,\n 32.16313934326172,\n 32.59565734863281,\n 33.10364532470703,\n 33.18961715698242,\n 34.2791862487793,\n 34.41537094116211,\n 35.325103759765625,\n 35.70696258544922,\n 36.618614196777344,\n 36.90513610839844,\n 37.31958770751953,\n 38.003719329833984,\n 38.63782501220703,\n 39.569419860839844,\n 40.313011169433594,\n 40.46648025512695,\n 41.19526290893555,\n 42.0838508605957,\n 42.20136260986328,\n 42.572479248046875,\n 43.52759552001953,\n 43.731327056884766,\n 44.785396575927734,\n 45.46735382080078,\n 46.10933303833008,\n 46.545318603515625,\n 47.140594482421875,\n 48.14959716796875,\n 48.608280181884766,\n 49.18890380859375,\n 49.940250396728516,\n 50.482643127441406,\n 50.87803268432617,\n 51.49433517456055,\n 52.3189811706543,\n 53.067718505859375,\n 53.36760711669922,\n 54.32969284057617,\n 55.094520568847656,\n 55.28261184692383,\n 56.3181037902832,\n 57.314056396484375,\n 57.78843307495117,\n 58.0999641418457,\n 58.658287048339844,\n 59.66010284423828,\n 60.52604293823242,\n 60.93091583251953,\n 61.726036071777344,\n 62.43265914916992,\n 62.986061096191406,\n 63.708763122558594,\n 64.25531005859375,\n 64.55682373046875,\n 65.38802337646484,\n 66.04283142089844,\n 66.92472839355469,\n 67.38485717773438]"
     },
     "metadata": {},
     "output_type": "display_data"
    },
    {
     "data": {
      "text/plain": "'-9_-7  _strain_p1'"
     },
     "metadata": {},
     "output_type": "display_data"
    },
    {
     "data": {
      "text/plain": "[2.143355131149292,\n 1.956274390220642,\n 2.086172342300415,\n 2.2165496349334717,\n 2.0061261653900146,\n 2.0025393962860107,\n 2.08225417137146,\n 2.1864476203918457,\n 2.2026607990264893,\n 2.0383787155151367,\n 1.9687390327453613,\n 2.3678410053253174,\n 2.4682657718658447,\n 2.3784897327423096,\n 2.152243137359619,\n 2.258931875228882,\n 2.3704864978790283,\n 2.596723794937134,\n 2.1484835147857666,\n 2.480886459350586,\n 2.185389518737793,\n 2.304189443588257,\n 2.5163211822509766,\n 2.6722259521484375,\n 2.2410218715667725,\n 2.5749905109405518,\n 2.4292685985565186,\n 2.2400853633880615,\n 2.275799512863159,\n 2.705949068069458,\n 2.618037700653076,\n 2.3846633434295654,\n 2.3554046154022217,\n 2.6761014461517334,\n 2.502626657485962,\n 2.6168975830078125,\n 2.730252981185913,\n 2.6471197605133057,\n 2.428941488265991,\n 2.759021520614624,\n 2.6815860271453857,\n 2.7178220748901367,\n 3.054471254348755,\n 2.6303141117095947,\n 2.716567277908325,\n 2.625507354736328,\n 2.701078176498413,\n 2.9637317657470703,\n 2.985872983932495,\n 2.955732583999634,\n 2.8137381076812744,\n 2.90704345703125,\n 2.928215980529785,\n 2.8000190258026123,\n 2.9295852184295654,\n 3.146118402481079,\n 2.9859211444854736,\n 2.7321624755859375,\n 2.88996958732605,\n 2.941805124282837,\n 3.201503038406372,\n 2.901520013809204,\n 3.0445175170898438,\n 3.057405471801758,\n 3.4195423126220703,\n 3.0432727336883545,\n 3.3079662322998047,\n 3.2275733947753906,\n 3.5658371448516846,\n 3.3636467456817627,\n 3.030156373977661,\n 2.9563684463500977,\n 3.410106897354126,\n 3.364644765853882,\n 3.5084800720214844,\n 3.7554376125335693,\n 3.5861380100250244,\n 3.1015756130218506,\n 3.294674873352051,\n 3.4568121433258057,\n 3.5490646362304688,\n 3.9925851821899414,\n 3.526529550552368,\n 3.567996025085449,\n 3.615748405456543,\n 3.389612913131714,\n 3.7132937908172607,\n 3.7178080081939697,\n 3.8790481090545654,\n 3.840925931930542,\n 3.72347354888916,\n 3.5381650924682617,\n 3.849480628967285,\n 3.7787177562713623,\n 3.8982131481170654,\n 3.8495404720306396,\n 3.762476921081543,\n 3.6244442462921143,\n 3.7052571773529053,\n 4.156367301940918,\n 4.2608723640441895,\n 3.8964500427246094,\n 4.02488899230957,\n 4.037543296813965,\n 3.93579363822937,\n 3.8443565368652344,\n 3.793609619140625,\n 4.451690196990967,\n 4.7277140617370605,\n 3.9905645847320557,\n 3.9282093048095703,\n 4.007307052612305,\n 3.9724652767181396,\n 4.305764675140381,\n 4.581881999969482,\n 4.236104488372803,\n 4.106212139129639,\n 4.78102445602417,\n 4.469529151916504,\n 4.354494571685791,\n 4.656727313995361,\n 4.840357303619385,\n 4.800709247589111,\n 4.845292568206787,\n 4.625396251678467,\n 4.23901891708374,\n 4.874721527099609,\n 4.783006191253662,\n 5.039989471435547,\n 4.869250774383545,\n 4.686787128448486,\n 4.792075157165527,\n 4.838894367218018,\n 5.05402135848999,\n 5.384992599487305,\n 5.506679534912109,\n 5.077768325805664,\n 4.972392559051514,\n 5.185243129730225,\n 5.686253070831299,\n 5.837564945220947,\n 6.179629802703857,\n 5.694797039031982,\n 5.662377834320068,\n 5.806480884552002,\n 5.732533931732178,\n 5.840728759765625,\n 6.026068210601807,\n 6.11379861831665,\n 6.374942302703857,\n 6.028488636016846,\n 6.107723712921143,\n 6.608728885650635,\n 6.781137943267822,\n 7.455599308013916,\n 7.013162136077881,\n 6.83183479309082,\n 6.95685338973999,\n 6.805662631988525,\n 7.300039768218994,\n 7.902350902557373,\n 7.781980991363525,\n 7.494649887084961,\n 7.494396209716797,\n 8.269278526306152,\n 8.710868835449219,\n 8.995308876037598,\n 8.976744651794434,\n 8.83213996887207,\n 8.972396850585938,\n 9.613898277282715,\n 10.398603439331055,\n 10.656153678894043,\n 10.384689331054688,\n 10.511919021606445,\n 11.168002128601074,\n 11.491061210632324,\n 12.158820152282715,\n 12.5386381149292,\n 12.091788291931152,\n 12.309860229492188,\n 12.84273624420166,\n 13.329373359680176,\n 13.674877166748047,\n 14.1881103515625,\n 14.119095802307129,\n 14.244197845458984,\n 15.006163597106934,\n 15.92947006225586,\n 16.255491256713867,\n 16.276147842407227,\n 16.83778953552246,\n 17.395261764526367,\n 17.88749885559082,\n 18.340423583984375,\n 18.721479415893555,\n 19.390438079833984,\n 19.95602035522461,\n 20.80790901184082,\n 21.092050552368164,\n 21.38096046447754,\n 22.022783279418945,\n 22.666147232055664,\n 23.291994094848633,\n 23.792020797729492,\n 23.813425064086914,\n 24.84703826904297,\n 25.534805297851562,\n 26.342134475708008,\n 26.34905433654785,\n 26.505340576171875,\n 27.614599227905273,\n 28.46074676513672,\n 29.333166122436523,\n 29.42281150817871,\n 29.87144660949707,\n 30.739259719848633,\n 31.35808753967285,\n 32.19679641723633,\n 32.703025817871094,\n 33.0360221862793,\n 33.80154037475586,\n 34.03756332397461,\n 34.97880172729492,\n 35.70139694213867,\n 36.325321197509766,\n 36.80442428588867,\n 37.47553253173828,\n 38.33129119873047,\n 39.61677169799805,\n 39.82627868652344,\n 40.55713653564453,\n 40.83671569824219,\n 41.94302749633789,\n 42.77043151855469,\n 43.52486038208008,\n 43.88687515258789,\n 44.7637939453125,\n 45.71271896362305,\n 46.73796081542969,\n 47.52573013305664,\n 48.26704788208008,\n 48.67051315307617,\n 49.794864654541016,\n 50.53639221191406,\n 51.18380355834961,\n 52.23570251464844,\n 53.26862716674805,\n 54.0789909362793,\n 54.81303405761719,\n 55.584835052490234,\n 56.75411605834961,\n 57.15591812133789,\n 58.06254196166992,\n 58.98210525512695,\n 60.252960205078125,\n 60.98703384399414,\n 61.634517669677734,\n 62.73612594604492,\n 64.107177734375,\n 64.6159896850586,\n 65.71163940429688,\n 66.93157958984375,\n 67.56853485107422,\n 68.83611297607422,\n 69.98869323730469,\n 70.6425552368164,\n 71.36205291748047,\n 72.80007934570312,\n 73.4328842163086,\n 74.94307708740234,\n 76.1076431274414,\n 77.00106048583984,\n 78.0215072631836,\n 79.14556121826172,\n 80.42724609375,\n 81.55807495117188,\n 82.66413879394531,\n 83.91155242919922,\n 84.96826171875,\n 86.1781997680664,\n 87.13854217529297,\n 88.5779037475586,\n 89.71607208251953,\n 90.88824462890625,\n 92.03958129882812,\n 93.24584197998047,\n 94.49166107177734,\n 95.96659088134766,\n 96.79256439208984]"
     },
     "metadata": {},
     "output_type": "display_data"
    },
    {
     "data": {
      "text/plain": "'-7_-5  _strain_p1'"
     },
     "metadata": {},
     "output_type": "display_data"
    },
    {
     "data": {
      "text/plain": "[2.6345467567443848,\n 2.484506368637085,\n 2.1225712299346924,\n 2.4435513019561768,\n 2.199540138244629,\n 2.5330424308776855,\n 2.3942275047302246,\n 2.502237319946289,\n 2.208102226257324,\n 2.19097900390625,\n 2.561384677886963,\n 2.4267890453338623,\n 2.4110004901885986,\n 2.625072956085205,\n 2.8241467475891113,\n 2.470133066177368,\n 2.387279987335205,\n 2.4474902153015137,\n 2.808302164077759,\n 2.6073901653289795,\n 2.721442461013794,\n 2.6610608100891113,\n 3.027194023132324,\n 2.4733293056488037,\n 2.7671923637390137,\n 2.5176477432250977,\n 2.904224157333374,\n 2.77854323387146,\n 2.918328285217285,\n 2.651768684387207,\n 3.1793084144592285,\n 2.705977201461792,\n 2.735975742340088,\n 2.7117228507995605,\n 2.600651264190674,\n 3.1080121994018555,\n 2.833178758621216,\n 3.099916934967041,\n 3.049889087677002,\n 2.801053524017334,\n 2.737366199493408,\n 3.132575273513794,\n 3.0168004035949707,\n 3.087506055831909,\n 3.138983726501465,\n 3.0400230884552,\n 2.9945361614227295,\n 3.1422677040100098,\n 3.3628830909729004,\n 2.7213406562805176,\n 3.426551342010498,\n 3.269912004470825,\n 3.2949881553649902,\n 2.7520909309387207,\n 3.6409859657287598,\n 3.254438877105713,\n 3.3212802410125732,\n 3.3281025886535645,\n 3.2584571838378906,\n 3.3914401531219482,\n 3.7248458862304688,\n 3.5284900665283203,\n 3.7564074993133545,\n 3.4417660236358643,\n 3.6721434593200684,\n 3.5384674072265625,\n 3.357090711593628,\n 3.530435085296631,\n 3.6478543281555176,\n 3.169952392578125,\n 3.5012283325195312,\n 3.3682003021240234,\n 3.493635654449463,\n 3.58058500289917,\n 3.1676292419433594,\n 4.101168155670166,\n 3.752547025680542,\n 3.4116649627685547,\n 3.850968599319458,\n 3.8138065338134766,\n 3.944683074951172,\n 4.054050445556641,\n 4.243468284606934,\n 3.8220012187957764,\n 4.024298667907715,\n 3.7494823932647705,\n 4.343738555908203,\n 4.4807024002075195,\n 4.302664279937744,\n 4.474327564239502,\n 4.2472429275512695,\n 3.8812949657440186,\n 4.129000663757324,\n 4.053761959075928,\n 3.8399338722229004,\n 3.979032039642334,\n 4.3177008628845215,\n 4.20985221862793,\n 3.829383134841919,\n 4.1724443435668945,\n 4.336765289306641,\n 4.674022197723389,\n 4.3379011154174805,\n 4.4478044509887695,\n 4.046298980712891,\n 4.171581268310547,\n 4.438603401184082,\n 5.081989288330078,\n 4.854960918426514,\n 4.586686611175537,\n 4.439355850219727,\n 4.571394443511963,\n 4.529934883117676,\n 4.684627056121826,\n 4.936239242553711,\n 5.210399627685547,\n 5.114655017852783,\n 5.133530616760254,\n 4.8892364501953125,\n 4.830289363861084,\n 4.983996391296387,\n 5.600032806396484,\n 5.179199695587158,\n 4.982834815979004,\n 5.292935371398926,\n 5.157741546630859,\n 5.026092529296875,\n 5.282681941986084,\n 5.621343612670898,\n 5.720728397369385,\n 5.691076278686523,\n 5.36767053604126,\n 5.3994832038879395,\n 5.698222637176514,\n 5.656322479248047,\n 5.837573051452637,\n 5.962632656097412,\n 5.291717529296875,\n 5.9043450355529785,\n 5.507973670959473,\n 6.076916694641113,\n 6.193012714385986,\n 6.239508628845215,\n 6.881274223327637,\n 6.286929607391357,\n 6.431421756744385,\n 6.2647271156311035,\n 6.80828332901001,\n 7.140277862548828,\n 6.955309867858887,\n 7.224822998046875,\n 6.837947845458984,\n 6.927615165710449,\n 7.3016862869262695,\n 7.384877681732178,\n 7.537137031555176,\n 7.655040740966797,\n 8.05540657043457,\n 7.7573561668396,\n 7.819324493408203,\n 8.707258224487305,\n 8.175374031066895,\n 9.214078903198242,\n 8.855365753173828,\n 8.717615127563477,\n 9.036776542663574,\n 9.81727409362793,\n 10.203923225402832,\n 10.001077651977539,\n 10.126222610473633,\n 10.54947280883789,\n 10.469982147216797,\n 11.159062385559082,\n 11.906146049499512,\n 11.7311372756958,\n 12.094099044799805,\n 11.719189643859863,\n 12.082773208618164,\n 13.205734252929688,\n 13.614659309387207,\n 13.870722770690918,\n 13.044958114624023,\n 13.387229919433594,\n 14.234102249145508,\n 15.249900817871094,\n 15.590444564819336,\n 15.39525032043457,\n 15.207338333129883,\n 15.786653518676758,\n 16.593461990356445,\n 16.89055824279785,\n 17.33504867553711,\n 17.253002166748047,\n 17.7285213470459,\n 18.181974411010742,\n 18.85049819946289,\n 19.5983943939209,\n 19.6624813079834,\n 19.86521339416504,\n 20.573652267456055,\n 20.88809585571289,\n 21.19906997680664,\n 22.32815170288086,\n 22.060741424560547,\n 22.619342803955078,\n 23.215747833251953,\n 23.350311279296875,\n 23.697021484375,\n 24.462310791015625,\n 25.00985336303711,\n 25.29669761657715,\n 25.53055191040039,\n 26.311786651611328,\n 26.882373809814453,\n 27.35959815979004,\n 28.103897094726562,\n 28.84364891052246,\n 28.8189697265625,\n 29.417104721069336,\n 29.935871124267578,\n 30.529678344726562,\n 31.168212890625,\n 31.47576332092285,\n 31.779027938842773,\n 32.91713333129883,\n 33.44916915893555,\n 34.012203216552734,\n 34.415992736816406,\n 34.68323516845703,\n 35.794410705566406,\n 36.25700759887695,\n 36.86750411987305,\n 37.531494140625,\n 37.835487365722656,\n 38.944313049316406,\n 39.07722091674805,\n 40.19239044189453,\n 40.50475311279297,\n 41.38835906982422,\n 41.931495666503906,\n 42.669700622558594,\n 43.019439697265625,\n 43.55128860473633,\n 44.64625549316406,\n 45.39949417114258,\n 46.29087448120117,\n 46.94443893432617,\n 47.6291618347168,\n 48.440277099609375,\n 49.08320236206055,\n 49.88019561767578,\n 50.443138122558594,\n 51.22551345825195,\n 52.30033493041992,\n 53.2974739074707,\n 53.928565979003906,\n 54.48286819458008,\n 55.4585075378418,\n 56.34528350830078,\n 57.302406311035156,\n 57.98673629760742,\n 59.074607849121094,\n 59.239166259765625,\n 60.3985595703125,\n 61.6211051940918,\n 62.888023376464844,\n 63.7757682800293,\n 64.11064910888672,\n 65.34437561035156,\n 66.36783599853516,\n 67.55632019042969,\n 68.09812927246094,\n 68.82261657714844,\n 70.0914077758789,\n 70.82670593261719,\n 71.91399383544922,\n 73.08921813964844,\n 74.36955261230469,\n 75.09938049316406,\n 76.4738540649414,\n 77.44831848144531,\n 78.18578338623047,\n 79.6429443359375,\n 80.3511734008789,\n 81.16006469726562,\n 82.22004699707031,\n 83.29896545410156,\n 85.2624740600586,\n 86.17420959472656,\n 86.89178466796875]"
     },
     "metadata": {},
     "output_type": "display_data"
    },
    {
     "data": {
      "text/plain": "'-5_-3  _strain_p1'"
     },
     "metadata": {},
     "output_type": "display_data"
    },
    {
     "data": {
      "text/plain": "[2.26168155670166,\n 1.9735491275787354,\n 2.3265140056610107,\n 1.9941370487213135,\n 2.436983346939087,\n 2.1919760704040527,\n 2.4070215225219727,\n 2.6408324241638184,\n 2.663222551345825,\n 2.3933823108673096,\n 2.477602005004883,\n 2.5097484588623047,\n 2.2665598392486572,\n 2.4346039295196533,\n 2.6229207515716553,\n 2.6024813652038574,\n 2.659745693206787,\n 2.450709581375122,\n 2.3949294090270996,\n 2.642195701599121,\n 2.7287895679473877,\n 2.779832601547241,\n 3.0045604705810547,\n 2.749119520187378,\n 2.531846761703491,\n 2.6070733070373535,\n 2.7929842472076416,\n 2.369178295135498,\n 2.5901219844818115,\n 2.5789794921875,\n 2.9365878105163574,\n 3.0204901695251465,\n 2.8840155601501465,\n 3.1125576496124268,\n 2.947831869125366,\n 3.305413007736206,\n 2.7732207775115967,\n 3.4524898529052734,\n 2.763899087905884,\n 2.8247230052948,\n 2.8899118900299072,\n 3.2304718494415283,\n 3.138979434967041,\n 3.1215927600860596,\n 2.8724820613861084,\n 2.930626630783081,\n 3.233264923095703,\n 3.275862216949463,\n 3.6074490547180176,\n 3.3693442344665527,\n 3.2892773151397705,\n 3.035612106323242,\n 3.3958256244659424,\n 2.9830551147460938,\n 3.3242297172546387,\n 3.3215928077697754,\n 3.0610618591308594,\n 2.9296882152557373,\n 3.160752534866333,\n 3.505007266998291,\n 3.543628215789795,\n 3.216744899749756,\n 3.359339952468872,\n 3.243152141571045,\n 3.5684752464294434,\n 3.381211519241333,\n 3.3162403106689453,\n 3.0406107902526855,\n 3.4496796131134033,\n 3.4379513263702393,\n 3.275913715362549,\n 2.8749239444732666,\n 3.6246280670166016,\n 3.7744641304016113,\n 3.49509859085083,\n 3.906118392944336,\n 4.020039081573486,\n 3.866179943084717,\n 3.872234344482422,\n 3.359448194503784,\n 3.8498997688293457,\n 3.6168243885040283,\n 3.829782009124756,\n 4.282671928405762,\n 3.8975391387939453,\n 3.9456984996795654,\n 4.08157205581665,\n 3.7596359252929688,\n 4.478466987609863,\n 4.085516452789307,\n 4.1534318923950195,\n 3.867199420928955,\n 3.9617843627929688,\n 3.9431896209716797,\n 3.9689018726348877,\n 4.360642433166504,\n 4.461239814758301,\n 4.079721927642822,\n 4.085914611816406,\n 3.9673595428466797,\n 4.1486310958862305,\n 4.6981306076049805,\n 4.443429946899414,\n 4.438342094421387,\n 4.412369728088379,\n 4.389030456542969,\n 4.3387064933776855,\n 4.543996334075928,\n 4.842663764953613,\n 5.036846160888672,\n 4.946908473968506,\n 4.592917442321777,\n 4.261996269226074,\n 4.724557876586914,\n 4.8307037353515625,\n 4.963761329650879,\n 5.207687854766846,\n 5.1554274559021,\n 4.4532575607299805,\n 4.8338623046875,\n 4.939748287200928,\n 5.303092956542969,\n 5.104714870452881,\n 4.833651542663574,\n 5.620555877685547,\n 4.942150115966797,\n 4.800107002258301,\n 5.299229621887207,\n 5.54266881942749,\n 5.752649784088135,\n 5.875901699066162,\n 5.311549663543701,\n 5.421581745147705,\n 5.314761161804199,\n 5.704929351806641,\n 5.675882339477539,\n 5.815770149230957,\n 5.844985008239746,\n 5.714195251464844,\n 5.846283912658691,\n 5.847411155700684,\n 6.2156662940979,\n 6.858746528625488,\n 6.532487392425537,\n 6.2578582763671875,\n 6.8283796310424805,\n 6.492227077484131,\n 6.493450164794922,\n 6.569693088531494,\n 7.194406032562256,\n 7.067659854888916,\n 6.798066139221191,\n 6.907598972320557,\n 6.888628959655762,\n 7.287606716156006,\n 7.24529504776001,\n 8.102120399475098,\n 7.7595062255859375,\n 7.38839864730835,\n 7.533465385437012,\n 8.270599365234375,\n 8.200238227844238,\n 8.218355178833008,\n 8.93999195098877,\n 8.52287769317627,\n 8.141348838806152,\n 8.853321075439453,\n 9.042352676391602,\n 9.80554485321045,\n 10.14634895324707,\n 10.088376998901367,\n 9.976680755615234,\n 9.690462112426758,\n 10.584554672241211,\n 10.736702919006348,\n 11.058401107788086,\n 11.093255996704102,\n 11.040925979614258,\n 10.913774490356445,\n 11.018440246582031,\n 12.287252426147461,\n 12.340932846069336,\n 12.633115768432617,\n 12.593355178833008,\n 12.779033660888672,\n 12.936978340148926,\n 13.654806137084961,\n 14.103378295898438,\n 14.411849975585938,\n 14.162759780883789,\n 13.895838737487793,\n 14.567937850952148,\n 14.718831062316895,\n 15.757533073425293,\n 15.911023139953613,\n 16.12308692932129,\n 16.018314361572266,\n 16.249910354614258,\n 16.45901107788086,\n 17.093036651611328,\n 17.208284378051758,\n 17.660457611083984,\n 18.15611457824707,\n 18.198822021484375,\n 18.712987899780273,\n 19.441720962524414,\n 20.110376358032227,\n 19.61427116394043,\n 20.262226104736328,\n 20.18222427368164,\n 20.764690399169922,\n 21.772138595581055,\n 22.07736587524414,\n 22.0872745513916,\n 22.63199234008789,\n 22.308727264404297,\n 23.094205856323242,\n 23.97446060180664,\n 24.38595962524414,\n 24.392873764038086,\n 24.599355697631836,\n 25.113100051879883,\n 25.83414649963379,\n 26.73419761657715,\n 27.044185638427734,\n 26.869665145874023,\n 27.2557430267334,\n 28.190250396728516,\n 28.71160888671875,\n 29.633834838867188,\n 29.621246337890625,\n 30.45969009399414,\n 30.413564682006836,\n 31.001544952392578,\n 31.8704833984375,\n 32.659423828125,\n 32.88249588012695,\n 33.376670837402344,\n 33.52859878540039,\n 34.36143493652344,\n 35.228607177734375,\n 35.49407958984375,\n 36.12907791137695,\n 36.52983856201172,\n 37.34025573730469,\n 38.07775115966797,\n 38.54719543457031,\n 39.039772033691406,\n 39.608760833740234,\n 40.09819793701172,\n 40.56120681762695,\n 41.236209869384766,\n 42.03865432739258,\n 42.80885696411133,\n 43.11006164550781,\n 43.968963623046875,\n 44.72014617919922,\n 45.38762664794922,\n 45.974388122558594,\n 46.97136306762695,\n 47.5390625,\n 47.93510055541992,\n 48.59599685668945,\n 49.28014373779297,\n 50.044647216796875,\n 50.85942459106445,\n 51.88441848754883,\n 52.490745544433594,\n 53.10358810424805,\n 53.60334396362305,\n 54.49802780151367,\n 55.271018981933594,\n 56.04732131958008,\n 56.67116165161133,\n 57.1082878112793,\n 58.07215118408203,\n 59.040504455566406,\n 59.86151885986328,\n 60.740684509277344,\n 61.186729431152344,\n 61.95123291015625,\n 62.84352493286133,\n 64.22576904296875,\n 64.83673095703125,\n 65.36771392822266,\n 66.18201446533203,\n 67.43302917480469,\n 67.9787368774414,\n 69.08204650878906,\n 69.97154998779297]"
     },
     "metadata": {},
     "output_type": "display_data"
    },
    {
     "data": {
      "text/plain": "'-3_-1  _strain_p1'"
     },
     "metadata": {},
     "output_type": "display_data"
    },
    {
     "data": {
      "text/plain": "[2.257878541946411,\n 2.428680181503296,\n 2.3269269466400146,\n 2.4008970260620117,\n 2.3656842708587646,\n 2.3744959831237793,\n 2.3706581592559814,\n 2.4461824893951416,\n 2.213265895843506,\n 2.5997507572174072,\n 2.5829732418060303,\n 2.487644910812378,\n 2.516772747039795,\n 2.4846444129943848,\n 2.47527813911438,\n 2.6234185695648193,\n 2.554398775100708,\n 2.6355655193328857,\n 2.6861331462860107,\n 3.0434341430664062,\n 2.5001370906829834,\n 2.738926649093628,\n 2.6659486293792725,\n 3.1668918132781982,\n 2.7195093631744385,\n 2.9261882305145264,\n 2.864299774169922,\n 2.642314910888672,\n 2.5954368114471436,\n 2.782599449157715,\n 2.7185306549072266,\n 3.0664422512054443,\n 3.0328328609466553,\n 2.9807322025299072,\n 3.046356201171875,\n 3.2162675857543945,\n 2.4176480770111084,\n 2.9519355297088623,\n 2.9527499675750732,\n 2.9588747024536133,\n 3.1630449295043945,\n 2.9110820293426514,\n 3.067939043045044,\n 2.796738624572754,\n 2.967042922973633,\n 3.0359771251678467,\n 3.3135197162628174,\n 3.373000144958496,\n 3.1305506229400635,\n 3.310638666152954,\n 3.2724883556365967,\n 3.169360399246216,\n 3.4639108180999756,\n 3.262242555618286,\n 3.5377893447875977,\n 3.717564582824707,\n 3.4398295879364014,\n 3.3671836853027344,\n 3.5637683868408203,\n 3.5123186111450195,\n 3.7944672107696533,\n 3.73813533782959,\n 3.6627113819122314,\n 3.763511896133423,\n 3.6376497745513916,\n 3.426814079284668,\n 3.7830302715301514,\n 3.721177101135254,\n 3.774275064468384,\n 3.5517730712890625,\n 3.4897549152374268,\n 3.560809850692749,\n 3.6824514865875244,\n 3.9675827026367188,\n 3.7611005306243896,\n 3.653871536254883,\n 3.645662546157837,\n 3.9472134113311768,\n 3.687093734741211,\n 3.9782302379608154,\n 3.9024407863616943,\n 4.290454387664795,\n 4.528820514678955,\n 4.1337714195251465,\n 3.9179515838623047,\n 3.848605155944824,\n 4.041244029998779,\n 4.417816638946533,\n 4.74162483215332,\n 4.430596828460693,\n 4.347994804382324,\n 3.8687188625335693,\n 4.34135103225708,\n 4.492647171020508,\n 4.797579765319824,\n 4.823829174041748,\n 4.685985088348389,\n 4.480979919433594,\n 4.659736633300781,\n 4.272946834564209,\n 4.899177074432373,\n 4.668176174163818,\n 4.715874195098877,\n 4.559699058532715,\n 4.89654016494751,\n 4.304447650909424,\n 4.294013977050781,\n 4.483638286590576,\n 5.164653301239014,\n 5.036384105682373,\n 4.8417744636535645,\n 4.808712005615234,\n 4.7689619064331055,\n 4.964221000671387,\n 5.25361967086792,\n 5.1111650466918945,\n 5.566608428955078,\n 5.3248491287231445,\n 4.905179500579834,\n 5.426645755767822,\n 5.541568279266357,\n 5.7545390129089355,\n 5.288851737976074,\n 5.693103313446045,\n 5.954291820526123,\n 5.220085620880127,\n 5.487114429473877,\n 5.592296600341797,\n 6.024064540863037,\n 6.264657974243164,\n 6.283342361450195,\n 6.096858501434326,\n 5.893751621246338,\n 6.027121067047119,\n 6.142825603485107,\n 6.122962951660156,\n 6.087439060211182,\n 6.506001949310303,\n 6.376546382904053,\n 6.316644191741943,\n 6.040069103240967,\n 6.25275993347168,\n 7.080846309661865,\n 7.201704025268555,\n 6.849293231964111,\n 6.821168899536133,\n 6.960485458374023,\n 7.069705963134766,\n 7.074130535125732,\n 7.246082305908203,\n 7.377470016479492,\n 7.487786769866943,\n 7.346627712249756,\n 7.384885311126709,\n 7.620021343231201,\n 7.644748210906982,\n 8.11044979095459,\n 8.11479377746582,\n 8.484528541564941,\n 8.18098258972168,\n 8.137198448181152,\n 8.232900619506836,\n 8.566119194030762,\n 8.896538734436035,\n 9.37686824798584,\n 8.925453186035156,\n 8.65406322479248,\n 8.736682891845703,\n 9.022404670715332,\n 9.57386302947998,\n 9.877823829650879,\n 9.928757667541504,\n 9.611547470092773,\n 9.237537384033203,\n 9.8477144241333,\n 10.19147777557373,\n 10.851847648620605,\n 10.820025444030762,\n 10.543384552001953,\n 10.682616233825684,\n 10.755660057067871,\n 11.141768455505371,\n 11.490540504455566,\n 12.285645484924316,\n 12.1061372756958,\n 12.281567573547363,\n 11.958720207214355,\n 12.265275001525879,\n 12.628018379211426,\n 13.275657653808594,\n 13.123059272766113,\n 13.29996109008789,\n 13.444750785827637,\n 13.77878475189209,\n 14.04664134979248,\n 14.522526741027832,\n 14.061065673828125,\n 14.858600616455078,\n 14.937053680419922,\n 15.19543170928955,\n 15.348278999328613,\n 15.595168113708496,\n 16.274213790893555,\n 16.104618072509766,\n 16.531686782836914,\n 16.883441925048828,\n 17.30325698852539,\n 17.583585739135742,\n 17.78261375427246,\n 17.58034324645996,\n 17.943632125854492,\n 18.601911544799805,\n 18.71525001525879,\n 19.0943603515625,\n 19.515182495117188,\n 19.846874237060547,\n 19.73906898498535,\n 20.79631805419922,\n 20.889719009399414,\n 21.463918685913086,\n 21.706541061401367,\n 21.89177703857422,\n 22.30670166015625,\n 22.540536880493164,\n 23.181123733520508,\n 23.800949096679688,\n 23.91815948486328,\n 24.18286895751953,\n 24.418121337890625,\n 25.08717155456543,\n 25.324216842651367,\n 25.699617385864258,\n 26.11793327331543,\n 26.745500564575195,\n 26.7651309967041,\n 27.401885986328125,\n 27.56779670715332,\n 28.17930793762207,\n 28.95595359802246,\n 29.297119140625,\n 29.433462142944336,\n 29.855880737304688,\n 30.350950241088867,\n 31.045743942260742,\n 31.580549240112305,\n 31.96137237548828,\n 32.3228874206543,\n 32.68381881713867,\n 33.20932388305664,\n 33.54478454589844,\n 34.39670944213867,\n 34.62479019165039,\n 35.04270553588867,\n 35.345062255859375,\n 36.06143569946289,\n 36.77460861206055,\n 37.14061737060547,\n 37.50315856933594,\n 38.1515998840332,\n 38.29328918457031,\n 39.35145568847656,\n 39.9112663269043,\n 40.203460693359375,\n 40.76584243774414,\n 41.6500244140625,\n 42.00087356567383,\n 42.29775619506836,\n 43.109405517578125,\n 43.037105560302734,\n 44.02743148803711,\n 44.71096420288086,\n 45.42495346069336,\n 45.396846771240234,\n 46.3626594543457,\n 46.529571533203125,\n 47.70583724975586,\n 48.18745803833008,\n 48.964569091796875,\n 49.36116027832031,\n 49.52378463745117,\n 50.424312591552734,\n 50.93172836303711,\n 51.61680603027344,\n 52.32020950317383,\n 52.573970794677734,\n 53.43527603149414,\n 54.3036994934082,\n 54.80802917480469,\n 55.16324996948242,\n 56.188446044921875]"
     },
     "metadata": {},
     "output_type": "display_data"
    },
    {
     "data": {
      "text/plain": "'-1_1   _strain_p1'"
     },
     "metadata": {},
     "output_type": "display_data"
    },
    {
     "data": {
      "text/plain": "[2.481840133666992,\n 2.444061756134033,\n 2.3617453575134277,\n 2.2921156883239746,\n 2.2708866596221924,\n 2.2407495975494385,\n 2.404289722442627,\n 2.1093108654022217,\n 2.1751151084899902,\n 2.3437705039978027,\n 2.3687851428985596,\n 2.2061848640441895,\n 2.3397340774536133,\n 2.376152992248535,\n 2.3115997314453125,\n 2.293687105178833,\n 2.224179983139038,\n 1.985481858253479,\n 2.346541166305542,\n 2.4762306213378906,\n 2.118710994720459,\n 2.385530471801758,\n 2.5863330364227295,\n 2.3243567943573,\n 2.5317764282226562,\n 2.5207462310791016,\n 2.7193329334259033,\n 2.566096782684326,\n 2.417065382003784,\n 2.665147542953491,\n 2.3986575603485107,\n 2.6580207347869873,\n 2.868086338043213,\n 2.7480392456054688,\n 2.9343819618225098,\n 2.962663173675537,\n 2.805828094482422,\n 2.8065149784088135,\n 2.8189244270324707,\n 2.797581195831299,\n 3.158754825592041,\n 2.9197778701782227,\n 2.643209218978882,\n 2.5485353469848633,\n 2.642122983932495,\n 2.794584035873413,\n 3.0217175483703613,\n 2.8199918270111084,\n 3.033057928085327,\n 2.994577169418335,\n 2.6514954566955566,\n 2.4646387100219727,\n 3.166053295135498,\n 2.992373466491699,\n 3.2596099376678467,\n 3.041203260421753,\n 3.222127914428711,\n 3.07499361038208,\n 3.1134226322174072,\n 3.176363706588745,\n 3.3807740211486816,\n 3.238431453704834,\n 3.6363842487335205,\n 3.1760952472686768,\n 3.281810760498047,\n 3.211095094680786,\n 3.584780216217041,\n 3.3628315925598145,\n 3.454547882080078,\n 3.5120766162872314,\n 3.414738893508911,\n 3.390108585357666,\n 3.730903148651123,\n 3.454219341278076,\n 3.5015854835510254,\n 3.7761878967285156,\n 3.335683822631836,\n 3.5747551918029785,\n 3.4893956184387207,\n 3.5339717864990234,\n 3.8333301544189453,\n 3.5807278156280518,\n 4.187123775482178,\n 3.7430858612060547,\n 3.8689117431640625,\n 3.4339687824249268,\n 3.884216785430908,\n 3.6978797912597656,\n 4.058432579040527,\n 4.0256500244140625,\n 4.734248161315918,\n 3.9807190895080566,\n 3.7255706787109375,\n 4.159600734710693,\n 3.9332289695739746,\n 4.437215328216553,\n 4.404772758483887,\n 4.305546760559082,\n 3.960212230682373,\n 4.1804094314575195,\n 4.297488212585449,\n 4.408602237701416,\n 4.64436674118042,\n 4.577764511108398,\n 4.51944637298584,\n 4.493063449859619,\n 4.317990779876709,\n 4.753776550292969,\n 4.917201042175293,\n 4.917888641357422,\n 4.8568115234375,\n 4.591393947601318,\n 4.548360347747803,\n 4.678997993469238,\n 4.968844413757324,\n 4.873550891876221,\n 5.349684238433838,\n 5.073861598968506,\n 4.893421173095703,\n 4.948179721832275,\n 4.939886569976807,\n 5.26222562789917,\n 5.3820624351501465,\n 5.987069606781006,\n 5.6815314292907715,\n 5.247694492340088,\n 5.430572986602783,\n 5.208249568939209,\n 5.318846225738525,\n 6.063606262207031,\n 5.89902400970459,\n 5.703210830688477,\n 5.491285800933838,\n 5.677358150482178,\n 6.054025173187256,\n 6.157416820526123,\n 6.256626605987549,\n 6.463962554931641,\n 6.272842884063721,\n 6.000720024108887,\n 6.5721282958984375,\n 6.214709281921387,\n 6.631815433502197,\n 6.739344120025635,\n 7.279547691345215,\n 7.057890892028809,\n 6.85494327545166,\n 6.374236106872559,\n 6.814836025238037,\n 6.992938995361328,\n 7.861018180847168,\n 7.690927982330322,\n 7.4508819580078125,\n 7.369769096374512,\n 7.577738285064697,\n 7.2510881423950195,\n 8.103452682495117,\n 8.070359230041504,\n 8.478490829467773,\n 8.514208793640137,\n 8.41508674621582,\n 8.045991897583008,\n 8.4370698928833,\n 8.650495529174805,\n 9.504981994628906,\n 9.597650527954102,\n 9.342510223388672,\n 9.16685676574707,\n 9.441368103027344,\n 9.125391960144043,\n 9.930292129516602,\n 10.103288650512695,\n 10.373503684997559,\n 10.052809715270996,\n 10.596362113952637,\n 10.73122787475586,\n 10.789785385131836,\n 11.18995189666748,\n 11.008528709411621,\n 11.166255950927734,\n 11.685699462890625,\n 11.64173698425293,\n 12.39439582824707,\n 12.344090461730957,\n 12.706247329711914,\n 12.809659004211426,\n 12.65773868560791,\n 12.925291061401367,\n 13.355219841003418,\n 14.076385498046875,\n 13.51733684539795,\n 13.921951293945312,\n 14.04374885559082,\n 14.42437744140625,\n 14.937167167663574,\n 15.088830947875977,\n 15.395540237426758,\n 15.460372924804688,\n 15.823824882507324,\n 16.38816261291504,\n 16.27004051208496,\n 16.757152557373047,\n 17.253847122192383,\n 17.3537654876709,\n 17.72129249572754,\n 17.910728454589844,\n 18.25869369506836,\n 18.57781982421875,\n 18.637134552001953,\n 18.909114837646484,\n 19.202722549438477,\n 19.741933822631836,\n 19.87661361694336,\n 20.158220291137695,\n 20.85129165649414,\n 20.86149787902832,\n 21.23545265197754,\n 21.908931732177734,\n 22.01157569885254,\n 22.746662139892578,\n 22.71592903137207,\n 23.257892608642578,\n 23.23392105102539,\n 23.981414794921875,\n 23.93448257446289,\n 24.551851272583008,\n 25.444345474243164,\n 25.087032318115234,\n 25.5930118560791,\n 26.002578735351562,\n 26.714757919311523,\n 26.583751678466797,\n 27.546274185180664,\n 27.974807739257812,\n 27.911304473876953,\n 28.63399887084961,\n 28.597797393798828,\n 29.45379066467285,\n 29.689586639404297,\n 30.177410125732422,\n 30.51461410522461,\n 31.20290756225586,\n 31.8955020904541,\n 31.79239273071289,\n 32.632041931152344,\n 32.72498321533203,\n 32.9835319519043,\n 34.01966094970703,\n 34.31267547607422,\n 34.65296173095703,\n 34.814517974853516,\n 35.527000427246094,\n 36.064937591552734,\n 36.0294303894043,\n 36.84851837158203,\n 37.47563934326172,\n 38.09187698364258,\n 38.383941650390625,\n 38.44643783569336,\n 39.326717376708984,\n 39.432525634765625,\n 40.384239196777344,\n 40.86345291137695,\n 41.63572311401367,\n 41.971580505371094,\n 42.37084197998047,\n 42.48799514770508,\n 43.01557540893555,\n 43.858543395996094,\n 44.237274169921875,\n 45.075775146484375,\n 45.608009338378906,\n 46.06890106201172,\n 47.025978088378906,\n 47.184146881103516,\n 47.88459396362305,\n 48.171180725097656,\n 48.50556945800781,\n 49.15535354614258,\n 49.78786087036133,\n 50.45088195800781,\n 51.2376594543457,\n 51.7039909362793,\n 52.21083450317383,\n 52.264076232910156,\n 53.38325881958008,\n 54.3527717590332,\n 54.70586395263672,\n 55.474388122558594,\n 55.4918327331543]"
     },
     "metadata": {},
     "output_type": "display_data"
    },
    {
     "data": {
      "text/plain": "'1_3    _strain_p1'"
     },
     "metadata": {},
     "output_type": "display_data"
    },
    {
     "data": {
      "text/plain": "[2.9830493927001953,\n 2.3127708435058594,\n 2.521026611328125,\n 2.862748384475708,\n 2.750173807144165,\n 2.552217721939087,\n 2.564523458480835,\n 2.5925662517547607,\n 2.3720004558563232,\n 3.010806083679199,\n 2.51918888092041,\n 2.3871352672576904,\n 2.610172748565674,\n 2.524582624435425,\n 2.9261229038238525,\n 2.688579797744751,\n 2.8948066234588623,\n 2.2307112216949463,\n 2.402719736099243,\n 2.6347339153289795,\n 2.524477481842041,\n 2.987879991531372,\n 2.9855880737304688,\n 2.7325494289398193,\n 2.494281768798828,\n 2.8846731185913086,\n 3.1402080059051514,\n 2.7353146076202393,\n 2.7409706115722656,\n 2.996002197265625,\n 2.750877618789673,\n 3.0949909687042236,\n 3.454470634460449,\n 3.1170833110809326,\n 3.1353347301483154,\n 2.859239339828491,\n 3.5387790203094482,\n 2.9465620517730713,\n 2.964938163757324,\n 3.1194820404052734,\n 3.261807680130005,\n 3.331610918045044,\n 2.8813316822052,\n 3.061041831970215,\n 3.0757715702056885,\n 3.020400285720825,\n 3.320504903793335,\n 3.2471511363983154,\n 3.605092763900757,\n 3.3432095050811768,\n 3.3288819789886475,\n 3.12554931640625,\n 3.2451107501983643,\n 3.2761802673339844,\n 3.2397186756134033,\n 3.457991361618042,\n 3.371734619140625,\n 3.50765061378479,\n 3.791247606277466,\n 4.243698596954346,\n 3.61627197265625,\n 3.516814947128296,\n 3.835871934890747,\n 3.865072011947632,\n 3.5290634632110596,\n 3.7596607208251953,\n 3.567922353744507,\n 3.5489537715911865,\n 3.6645724773406982,\n 3.7503480911254883,\n 3.8739707469940186,\n 3.8402750492095947,\n 3.930539131164551,\n 3.589526414871216,\n 3.5552480220794678,\n 3.92431902885437,\n 3.6828174591064453,\n 4.067216396331787,\n 3.793532609939575,\n 3.7298946380615234,\n 3.9506542682647705,\n 4.315432071685791,\n 3.919451951980591,\n 3.8736255168914795,\n 4.322501182556152,\n 4.268435955047607,\n 4.259654521942139,\n 4.3088154792785645,\n 4.5736260414123535,\n 4.607583522796631,\n 4.142906188964844,\n 4.623735427856445,\n 4.482828617095947,\n 4.747174263000488,\n 4.379388332366943,\n 4.616749286651611,\n 4.749405384063721,\n 4.821043014526367,\n 4.362884521484375,\n 4.6537628173828125,\n 4.982560634613037,\n 4.645651817321777,\n 4.779165744781494,\n 4.856447219848633,\n 4.833165168762207,\n 4.8616251945495605,\n 5.069471836090088,\n 5.258659362792969,\n 5.024512767791748,\n 5.240593433380127,\n 4.872085094451904,\n 5.497671604156494,\n 5.517677307128906,\n 5.08052396774292,\n 5.257900714874268,\n 5.060077667236328,\n 5.667807102203369,\n 5.39033317565918,\n 5.177685737609863,\n 5.494552135467529,\n 5.4836907386779785,\n 5.331017971038818,\n 5.84949254989624,\n 5.672436237335205,\n 5.878910541534424,\n 5.797290802001953,\n 5.920915603637695,\n 5.91473913192749,\n 6.045124530792236,\n 5.952041149139404,\n 5.82914400100708,\n 6.144787311553955,\n 5.714478015899658,\n 6.131101131439209,\n 6.013195037841797,\n 6.413407802581787,\n 6.733485698699951,\n 6.6366658210754395,\n 6.79553747177124,\n 6.9293599128723145,\n 6.500059127807617,\n 6.509491443634033,\n 6.9457268714904785,\n 7.048329830169678,\n 7.415027618408203,\n 6.989464282989502,\n 7.35938024520874,\n 7.399163722991943,\n 7.340400695800781,\n 7.462828159332275,\n 8.044878959655762,\n 7.947267055511475,\n 8.25041675567627,\n 7.776691436767578,\n 8.104948997497559,\n 7.595296382904053,\n 8.684683799743652,\n 8.53164005279541,\n 9.086647987365723,\n 9.570022583007812,\n 9.175313949584961,\n 8.88198471069336,\n 9.104321479797363,\n 9.396538734436035,\n 9.868632316589355,\n 10.100358963012695,\n 10.64186954498291,\n 10.802501678466797,\n 10.926196098327637,\n 10.613303184509277,\n 10.926321983337402,\n 11.290575981140137,\n 11.379878997802734,\n 12.173968315124512,\n 12.211174964904785,\n 12.120627403259277,\n 12.367188453674316,\n 12.781386375427246,\n 12.687882423400879,\n 13.381834983825684,\n 13.429107666015625,\n 13.786177635192871,\n 14.3434476852417,\n 14.49120044708252,\n 14.72443675994873,\n 15.108637809753418,\n 15.282989501953125,\n 15.789780616760254,\n 15.913414001464844,\n 16.205751419067383,\n 16.26498031616211,\n 17.204721450805664,\n 16.80707359313965,\n 17.43681526184082,\n 18.09307289123535,\n 18.218584060668945,\n 18.275957107543945,\n 18.936277389526367,\n 19.31311798095703,\n 19.982458114624023,\n 20.107248306274414,\n 20.916669845581055,\n 20.74578285217285,\n 21.176408767700195,\n 21.692228317260742,\n 22.069730758666992,\n 22.553665161132812,\n 22.783447265625,\n 23.145769119262695,\n 23.809255599975586,\n 23.72664451599121,\n 24.360977172851562,\n 24.70878791809082,\n 25.283090591430664,\n 25.783239364624023,\n 25.877187728881836,\n 26.423301696777344,\n 26.985504150390625,\n 27.538625717163086,\n 27.30546760559082,\n 28.21038055419922,\n 28.88652801513672,\n 29.264694213867188,\n 30.224023818969727,\n 29.792211532592773,\n 30.530920028686523,\n 31.41978645324707,\n 31.638978958129883,\n 32.05771255493164,\n 32.522064208984375,\n 33.19563674926758,\n 33.2530403137207,\n 34.26580810546875,\n 34.13992691040039,\n 35.19424057006836,\n 35.54323959350586,\n 35.642967224121094,\n 36.39971160888672,\n 36.90106201171875,\n 37.436519622802734,\n 38.15116500854492,\n 38.72918701171875,\n 39.78337478637695,\n 39.58195877075195,\n 40.5196418762207,\n 40.80389404296875,\n 41.68040084838867,\n 41.84565353393555,\n 42.70864486694336,\n 43.5712890625,\n 43.77230453491211,\n 44.21063232421875,\n 44.66019058227539,\n 45.34535598754883,\n 45.69659423828125,\n 46.7114372253418,\n 47.09245300292969,\n 47.65476608276367,\n 48.1005973815918,\n 48.78757095336914,\n 49.560970306396484,\n 50.15237808227539,\n 50.9011116027832,\n 51.763118743896484,\n 51.843994140625,\n 52.67717361450195,\n 53.0798454284668,\n 54.16413497924805,\n 54.25938034057617,\n 55.09635543823242,\n 55.65140914916992,\n 55.79185485839844,\n 57.04762268066406,\n 57.52961730957031,\n 58.40802001953125,\n 59.610782623291016,\n 59.34075927734375,\n 59.96543502807617,\n 60.775543212890625,\n 61.59260177612305,\n 61.739376068115234,\n 63.31184005737305,\n 63.66939926147461,\n 64.59012603759766,\n 64.76412963867188,\n 65.6924819946289,\n 66.60161590576172,\n 67.45580291748047,\n 68.13628387451172,\n 68.00043487548828]"
     },
     "metadata": {},
     "output_type": "display_data"
    },
    {
     "data": {
      "text/plain": "'3_5    _strain_p1'"
     },
     "metadata": {},
     "output_type": "display_data"
    },
    {
     "data": {
      "text/plain": "[3.3693649768829346,\n 2.867520809173584,\n 2.8148951530456543,\n 3.3114047050476074,\n 2.5775628089904785,\n 2.293179512023926,\n 2.7015116214752197,\n 2.5245232582092285,\n 2.4564406871795654,\n 2.617189645767212,\n 2.6183831691741943,\n 2.897080421447754,\n 2.724240779876709,\n 2.6079437732696533,\n 2.386873483657837,\n 3.062572956085205,\n 2.589658498764038,\n 2.7666208744049072,\n 2.800947666168213,\n 2.6611151695251465,\n 3.080778121948242,\n 2.6846823692321777,\n 2.762730598449707,\n 2.3859100341796875,\n 2.826150894165039,\n 3.1256320476531982,\n 2.8231749534606934,\n 2.9225869178771973,\n 3.2132821083068848,\n 3.270050048828125,\n 2.975592851638794,\n 2.826117992401123,\n 3.5040106773376465,\n 3.064223051071167,\n 2.825920581817627,\n 3.6089484691619873,\n 3.5368831157684326,\n 2.9499011039733887,\n 2.8113086223602295,\n 2.664520263671875,\n 3.288949489593506,\n 3.630329132080078,\n 3.4782919883728027,\n 3.669994354248047,\n 3.2846481800079346,\n 3.290560245513916,\n 3.2539150714874268,\n 3.9454402923583984,\n 3.065011978149414,\n 3.2378716468811035,\n 3.5997626781463623,\n 3.3385555744171143,\n 3.315354585647583,\n 3.4641451835632324,\n 3.3868911266326904,\n 3.38637113571167,\n 3.5702872276306152,\n 3.2491328716278076,\n 3.1702194213867188,\n 3.8675148487091064,\n 3.9398720264434814,\n 3.8360435962677,\n 3.7852625846862793,\n 3.711108446121216,\n 3.320068359375,\n 3.485973358154297,\n 3.6063194274902344,\n 3.2917466163635254,\n 3.96406626701355,\n 3.6657321453094482,\n 3.6734707355499268,\n 3.7597289085388184,\n 4.106509208679199,\n 3.954799175262451,\n 3.8125526905059814,\n 4.019018650054932,\n 3.5852208137512207,\n 4.267740726470947,\n 4.068280220031738,\n 4.003809928894043,\n 3.9271934032440186,\n 4.424118995666504,\n 4.660774230957031,\n 3.973120927810669,\n 4.396069526672363,\n 4.273756504058838,\n 4.062943458557129,\n 3.9178242683410645,\n 4.230413436889648,\n 4.69699764251709,\n 4.576502799987793,\n 4.39065408706665,\n 4.591683387756348,\n 4.541284561157227,\n 4.708658695220947,\n 5.783768177032471,\n 4.797109603881836,\n 4.690153121948242,\n 4.521529674530029,\n 4.6316819190979,\n 4.540439605712891,\n 4.16910982131958,\n 4.9665961265563965,\n 4.539890766143799,\n 4.646175384521484,\n 4.965180397033691,\n 5.252443790435791,\n 5.404962062835693,\n 5.044390678405762,\n 4.6087799072265625,\n 5.219510078430176,\n 5.020534515380859,\n 4.891054153442383,\n 5.249692440032959,\n 5.127387046813965,\n 5.35756778717041,\n 4.930543422698975,\n 5.5598859786987305,\n 5.27047872543335,\n 5.553178787231445,\n 5.240521430969238,\n 5.788142204284668,\n 5.520012855529785,\n 5.551602840423584,\n 5.842813014984131,\n 6.124410629272461,\n 5.407227516174316,\n 6.554314613342285,\n 5.95542049407959,\n 5.615877628326416,\n 6.1666107177734375,\n 5.813841342926025,\n 5.6090898513793945,\n 5.435667991638184,\n 5.5181684494018555,\n 6.418810844421387,\n 6.105197429656982,\n 6.310710906982422,\n 6.744912147521973,\n 6.51763916015625,\n 5.981285095214844,\n 6.308100700378418,\n 6.4239091873168945,\n 6.55257511138916,\n 6.967304229736328,\n 7.163449764251709,\n 7.215550899505615,\n 6.354913234710693,\n 6.65755558013916,\n 7.284276485443115,\n 7.848964691162109,\n 7.348670959472656,\n 7.869753360748291,\n 7.9213666915893555,\n 7.858348846435547,\n 7.284797668457031,\n 8.05713176727295,\n 8.076184272766113,\n 8.954687118530273,\n 9.25455379486084,\n 9.109455108642578,\n 9.454087257385254,\n 9.131631851196289,\n 9.7001314163208,\n 9.475685119628906,\n 10.104252815246582,\n 10.886136054992676,\n 11.291938781738281,\n 11.317110061645508,\n 11.155343055725098,\n 11.262353897094727,\n 12.229650497436523,\n 11.904934883117676,\n 12.720674514770508,\n 13.114018440246582,\n 13.261198043823242,\n 14.101641654968262,\n 14.252581596374512,\n 14.765118598937988,\n 14.47776985168457,\n 14.85027027130127,\n 14.933049201965332,\n 15.637919425964355,\n 16.68717384338379,\n 16.713586807250977,\n 17.182064056396484,\n 17.430816650390625,\n 17.903995513916016,\n 18.54960823059082,\n 18.729459762573242,\n 18.999465942382812,\n 19.685077667236328,\n 20.612323760986328,\n 20.911386489868164,\n 20.992904663085938,\n 21.518835067749023,\n 21.953235626220703,\n 22.984880447387695,\n 22.91898536682129,\n 23.866668701171875,\n 24.35891342163086,\n 24.70163345336914,\n 25.262720108032227,\n 26.245229721069336,\n 26.849050521850586,\n 27.25766372680664,\n 27.69388771057129,\n 27.973384857177734,\n 28.443958282470703,\n 28.912551879882812,\n 29.35250473022461,\n 30.920101165771484,\n 30.765949249267578,\n 31.69658851623535,\n 32.427955627441406,\n 32.47992706298828,\n 33.21746063232422,\n 33.69009780883789,\n 34.522159576416016,\n 34.862876892089844,\n 36.008602142333984,\n 36.48769760131836,\n 36.882896423339844,\n 38.283443450927734,\n 38.681007385253906,\n 39.18225860595703,\n 39.912479400634766,\n 40.2150993347168,\n 41.52190399169922,\n 42.40190505981445,\n 42.92609786987305,\n 43.742252349853516,\n 44.85215377807617,\n 45.37835693359375,\n 46.09600067138672,\n 46.86971664428711,\n 47.360191345214844,\n 47.727821350097656,\n 49.37456512451172,\n 49.613250732421875,\n 50.93955612182617,\n 51.68068313598633,\n 52.206214904785156,\n 52.90422439575195,\n 54.4586296081543,\n 54.91289138793945,\n 55.7337646484375,\n 56.7143440246582,\n 57.503440856933594,\n 58.24460983276367,\n 58.93809127807617,\n 60.148834228515625,\n 60.21100997924805,\n 61.86417770385742,\n 62.567771911621094,\n 63.376686096191406,\n 64.68131256103516,\n 65.12724304199219,\n 66.64643096923828,\n 67.39886474609375,\n 68.27252197265625,\n 69.59212493896484,\n 70.40263366699219,\n 71.80101013183594,\n 72.27335357666016,\n 73.57176208496094,\n 74.57157897949219,\n 75.62705993652344,\n 77.07740783691406,\n 77.76766967773438,\n 78.10728454589844,\n 79.01942443847656,\n 80.65269470214844,\n 81.6773452758789,\n 83.5108413696289,\n 83.66116333007812,\n 85.23860931396484,\n 86.11773681640625,\n 86.90538787841797,\n 88.2809066772461,\n 89.72335815429688,\n 90.48789978027344,\n 91.88172149658203,\n 92.90657043457031,\n 93.8006591796875,\n 94.904296875,\n 96.35016632080078,\n 96.77669525146484,\n 97.83077239990234,\n 98.85237884521484]"
     },
     "metadata": {},
     "output_type": "display_data"
    },
    {
     "data": {
      "text/plain": "'5_7    _strain_p1'"
     },
     "metadata": {},
     "output_type": "display_data"
    },
    {
     "data": {
      "text/plain": "[2.4756274223327637,\n 2.767963409423828,\n 2.4387550354003906,\n 2.3723273277282715,\n 2.51497220993042,\n 2.442108631134033,\n 2.6606078147888184,\n 2.254039764404297,\n 2.4593186378479004,\n 2.2393174171447754,\n 1.9539566040039062,\n 3.0000545978546143,\n 2.711381196975708,\n 2.1491336822509766,\n 2.2313404083251953,\n 2.4394524097442627,\n 2.189502716064453,\n 2.6956825256347656,\n 2.8505420684814453,\n 2.914231300354004,\n 2.6781442165374756,\n 2.6798148155212402,\n 2.51774001121521,\n 2.7831902503967285,\n 2.527489423751831,\n 3.2962708473205566,\n 3.444287061691284,\n 3.064804792404175,\n 2.8049044609069824,\n 2.9347500801086426,\n 2.7678558826446533,\n 2.6135354042053223,\n 2.9868292808532715,\n 2.8097739219665527,\n 2.354480743408203,\n 3.1826610565185547,\n 3.3232288360595703,\n 2.82318377494812,\n 2.5664620399475098,\n 3.316448926925659,\n 2.760749101638794,\n 2.792802095413208,\n 2.790393590927124,\n 3.2211050987243652,\n 3.291050672531128,\n 3.3187267780303955,\n 3.4866809844970703,\n 3.0419700145721436,\n 3.0325820446014404,\n 3.7345352172851562,\n 3.0431408882141113,\n 3.256211519241333,\n 3.7486655712127686,\n 3.2148609161376953,\n 3.5316805839538574,\n 3.5182998180389404,\n 3.4064865112304688,\n 3.3421826362609863,\n 3.663069248199463,\n 3.4150238037109375,\n 3.4006810188293457,\n 3.548766613006592,\n 3.340848922729492,\n 3.7339446544647217,\n 3.740802049636841,\n 3.501528263092041,\n 3.99101185798645,\n 4.062953948974609,\n 3.294377088546753,\n 3.7642204761505127,\n 3.444629669189453,\n 3.602398633956909,\n 3.925872802734375,\n 3.7842063903808594,\n 3.739640712738037,\n 4.323488712310791,\n 3.9538025856018066,\n 4.1291608810424805,\n 3.7351131439208984,\n 3.608830690383911,\n 3.7424283027648926,\n 4.186056613922119,\n 4.060334205627441,\n 3.813176393508911,\n 3.962879180908203,\n 3.9058098793029785,\n 3.9707751274108887,\n 4.222969055175781,\n 4.768097877502441,\n 4.018268585205078,\n 3.9664409160614014,\n 4.291226387023926,\n 4.333986759185791,\n 5.028494358062744,\n 4.409915924072266,\n 4.386798858642578,\n 4.389542102813721,\n 4.078948020935059,\n 4.060729503631592,\n 4.558189868927002,\n 4.6803083419799805,\n 4.807644844055176,\n 4.375880718231201,\n 4.35459041595459,\n 4.4563093185424805,\n 4.566166400909424,\n 4.4882025718688965,\n 5.0710883140563965,\n 4.845170021057129,\n 4.776659965515137,\n 4.883152961730957,\n 4.382177829742432,\n 4.54991340637207,\n 5.096307754516602,\n 5.0652265548706055,\n 5.546212196350098,\n 4.754824638366699,\n 5.115176677703857,\n 5.072866916656494,\n 4.845175266265869,\n 5.01520299911499,\n 5.240025043487549,\n 5.7501044273376465,\n 5.801887512207031,\n 4.987986087799072,\n 5.043484687805176,\n 5.033190727233887,\n 5.592173099517822,\n 5.492972373962402,\n 5.964748382568359,\n 5.938683986663818,\n 5.8620805740356445,\n 5.62943172454834,\n 5.353326320648193,\n 5.205025672912598,\n 6.121412754058838,\n 6.025341987609863,\n 5.914857387542725,\n 6.318902492523193,\n 6.120143890380859,\n 6.174349308013916,\n 5.539609432220459,\n 6.218247413635254,\n 6.076236248016357,\n 7.002418518066406,\n 6.462075710296631,\n 6.010681629180908,\n 6.32665491104126,\n 5.732962608337402,\n 6.161924362182617,\n 6.492148399353027,\n 6.440992832183838,\n 7.279879093170166,\n 7.145005702972412,\n 6.936008453369141,\n 6.848152160644531,\n 7.065499305725098,\n 6.8348236083984375,\n 7.6916069984436035,\n 7.748284816741943,\n 8.165281295776367,\n 8.168252944946289,\n 8.09436321258545,\n 7.599118232727051,\n 7.896143436431885,\n 8.216464042663574,\n 8.890250205993652,\n 9.233248710632324,\n 9.902377128601074,\n 10.179502487182617,\n 9.876996994018555,\n 10.109099388122559,\n 9.865507125854492,\n 10.503030776977539,\n 11.042167663574219,\n 11.164430618286133,\n 11.81143569946289,\n 12.522923469543457,\n 12.60705852508545,\n 12.407444953918457,\n 12.659679412841797,\n 12.831082344055176,\n 13.520031929016113,\n 14.370384216308594,\n 14.635345458984375,\n 15.520225524902344,\n 15.571856498718262,\n 16.024381637573242,\n 16.18798828125,\n 16.354291915893555,\n 17.050582885742188,\n 17.045995712280273,\n 17.833820343017578,\n 18.047359466552734,\n 18.704317092895508,\n 19.726346969604492,\n 19.727840423583984,\n 20.669940948486328,\n 20.477886199951172,\n 20.916715621948242,\n 21.46057891845703,\n 21.9764404296875,\n 22.600811004638672,\n 23.261089324951172,\n 23.914913177490234,\n 24.83338737487793,\n 24.93588638305664,\n 25.20975112915039,\n 25.718883514404297,\n 26.191543579101562,\n 27.031530380249023,\n 27.349496841430664,\n 27.86345863342285,\n 28.853351593017578,\n 29.215167999267578,\n 30.204586029052734,\n 31.28106117248535,\n 31.406686782836914,\n 31.66422462463379,\n 32.63604736328125,\n 33.17794418334961,\n 33.508262634277344,\n 34.64434814453125,\n 34.85918045043945,\n 36.175254821777344,\n 36.44712829589844,\n 37.562965393066406,\n 38.3123893737793,\n 39.25693893432617,\n 39.4613151550293,\n 40.408287048339844,\n 41.297218322753906,\n 42.413604736328125,\n 42.64143753051758,\n 43.65121078491211,\n 44.39909362792969,\n 44.84331512451172,\n 45.568729400634766,\n 46.50380325317383,\n 46.89244842529297,\n 48.10040283203125,\n 48.14531326293945,\n 49.68498992919922,\n 50.12156295776367,\n 52.02534103393555,\n 52.32978439331055,\n 52.93896484375,\n 54.46006393432617,\n 54.32954788208008,\n 54.9950065612793,\n 56.7486572265625,\n 57.715667724609375,\n 57.9742431640625,\n 58.715728759765625,\n 60.0714225769043,\n 60.617774963378906,\n 62.44533157348633,\n 62.97551727294922,\n 63.71913528442383,\n 64.94401550292969,\n 65.8168716430664,\n 67.30307006835938,\n 67.93443298339844,\n 68.4505844116211,\n 69.7505874633789,\n 71.02403259277344,\n 71.28595733642578,\n 73.43162536621094,\n 74.33731842041016,\n 75.29338073730469,\n 76.56196594238281,\n 77.41645812988281,\n 78.56086730957031,\n 80.09579467773438,\n 80.84843444824219,\n 82.59374237060547,\n 83.21137237548828,\n 84.49186706542969,\n 85.79450225830078,\n 87.00956726074219,\n 88.54423522949219,\n 88.90502166748047,\n 90.77554321289062,\n 91.53142547607422,\n 93.1982421875,\n 93.44139099121094,\n 94.59976959228516,\n 96.59519958496094,\n 97.267578125,\n 99.08409118652344]"
     },
     "metadata": {},
     "output_type": "display_data"
    },
    {
     "data": {
      "text/plain": "'7_9    _strain_p1'"
     },
     "metadata": {},
     "output_type": "display_data"
    },
    {
     "data": {
      "text/plain": "[2.571406364440918,\n 2.6160647869110107,\n 2.669599771499634,\n 2.594707727432251,\n 2.8826420307159424,\n 2.9507617950439453,\n 2.4410810470581055,\n 2.484527349472046,\n 3.1160659790039062,\n 2.615034818649292,\n 3.23919415473938,\n 2.600658893585205,\n 3.1520321369171143,\n 3.1331708431243896,\n 3.0204355716705322,\n 2.4019758701324463,\n 2.8386642932891846,\n 2.761667490005493,\n 3.223034143447876,\n 2.9508860111236572,\n 3.097080945968628,\n 3.1778793334960938,\n 2.977435827255249,\n 3.0066487789154053,\n 3.033282518386841,\n 3.516207456588745,\n 3.379453659057617,\n 3.1285018920898438,\n 3.1547415256500244,\n 3.208787202835083,\n 2.9573538303375244,\n 3.3635547161102295,\n 3.1228692531585693,\n 3.194101333618164,\n 3.2114028930664062,\n 2.9229888916015625,\n 3.1900405883789062,\n 3.415511131286621,\n 3.332583427429199,\n 3.6117541790008545,\n 3.3100340366363525,\n 3.9304869174957275,\n 3.388819694519043,\n 3.2237727642059326,\n 3.6072683334350586,\n 3.897747278213501,\n 3.7069642543792725,\n 3.4648334980010986,\n 3.6813602447509766,\n 3.6485984325408936,\n 3.2099010944366455,\n 3.330185651779175,\n 3.7311573028564453,\n 3.5323352813720703,\n 3.664771795272827,\n 3.8140554428100586,\n 3.881591558456421,\n 3.5627193450927734,\n 3.8025548458099365,\n 3.470486879348755,\n 3.59216046333313,\n 3.4710824489593506,\n 3.9907443523406982,\n 3.795098066329956,\n 3.7944700717926025,\n 3.8479442596435547,\n 4.2247772216796875,\n 3.953399419784546,\n 3.7829883098602295,\n 4.212771892547607,\n 3.9577322006225586,\n 4.149265766143799,\n 4.231048107147217,\n 3.9831955432891846,\n 4.267064571380615,\n 4.189846992492676,\n 4.27998685836792,\n 4.476146697998047,\n 4.047914028167725,\n 3.9862568378448486,\n 4.149795055389404,\n 3.8748910427093506,\n 4.113852500915527,\n 4.557556629180908,\n 4.795627117156982,\n 4.579607963562012,\n 4.048989772796631,\n 4.067972660064697,\n 4.202587127685547,\n 4.341495990753174,\n 4.145442962646484,\n 4.580160140991211,\n 4.427815914154053,\n 4.698174953460693,\n 4.458946228027344,\n 4.825706958770752,\n 4.404788494110107,\n 4.3794264793396,\n 4.854615688323975,\n 4.794241428375244,\n 4.9129767417907715,\n 4.669589042663574,\n 4.470825672149658,\n 5.148820877075195,\n 4.798849582672119,\n 4.885834217071533,\n 5.070615291595459,\n 4.923040866851807,\n 5.149774074554443,\n 4.6945719718933105,\n 5.006566524505615,\n 4.806494235992432,\n 4.750184059143066,\n 5.177893161773682,\n 5.533697605133057,\n 5.294390678405762,\n 5.285292148590088,\n 5.081399440765381,\n 5.240986347198486,\n 5.035130977630615,\n 5.110496997833252,\n 5.637054920196533,\n 5.398296356201172,\n 5.459805965423584,\n 5.775928974151611,\n 5.639640808105469,\n 5.312661170959473,\n 5.768160343170166,\n 5.756280899047852,\n 5.829043865203857,\n 5.993480682373047,\n 5.622091293334961,\n 5.5247368812561035,\n 5.4788665771484375,\n 5.972529888153076,\n 5.887662887573242,\n 6.258598327636719,\n 5.7549214363098145,\n 5.899715423583984,\n 6.066864490509033,\n 5.925037384033203,\n 6.0399603843688965,\n 5.961446285247803,\n 6.641783237457275,\n 6.846022129058838,\n 6.965373992919922,\n 6.615564823150635,\n 6.207294940948486,\n 6.2707648277282715,\n 6.659706115722656,\n 7.084516525268555,\n 7.213717937469482,\n 7.362924098968506,\n 7.187440395355225,\n 7.168904781341553,\n 6.801309585571289,\n 6.833890914916992,\n 7.314765930175781,\n 6.925996780395508,\n 7.772952556610107,\n 7.885217189788818,\n 7.871901988983154,\n 8.292496681213379,\n 7.975667953491211,\n 7.9781365394592285,\n 7.7058868408203125,\n 8.385973930358887,\n 8.73351764678955,\n 9.2620210647583,\n 9.807111740112305,\n 9.624375343322754,\n 9.644542694091797,\n 9.526957511901855,\n 9.802952766418457,\n 9.790497779846191,\n 9.932243347167969,\n 10.920677185058594,\n 11.489293098449707,\n 12.013526916503906,\n 11.792289733886719,\n 11.979338645935059,\n 11.960783958435059,\n 12.200577735900879,\n 12.611069679260254,\n 12.77858829498291,\n 13.20740795135498,\n 13.973793983459473,\n 15.09597110748291,\n 14.98630428314209,\n 14.77890396118164,\n 15.179664611816406,\n 15.666507720947266,\n 15.661834716796875,\n 16.06089210510254,\n 16.871055603027344,\n 16.986310958862305,\n 17.776887893676758,\n 18.381715774536133,\n 18.805849075317383,\n 19.201276779174805,\n 19.521549224853516,\n 19.86087417602539,\n 20.143659591674805,\n 20.81482696533203,\n 21.127042770385742,\n 21.427574157714844,\n 21.98143768310547,\n 22.510324478149414,\n 23.342605590820312,\n 23.7744140625,\n 24.540403366088867,\n 24.647382736206055,\n 25.64885139465332,\n 25.827272415161133,\n 26.71564483642578,\n 26.784196853637695,\n 27.06879234313965,\n 27.775678634643555,\n 28.12160301208496,\n 29.06595802307129,\n 29.71685791015625,\n 30.528732299804688,\n 31.172021865844727,\n 31.46980857849121,\n 31.86644172668457,\n 32.72743225097656,\n 33.164188385009766,\n 33.37282180786133,\n 34.3337516784668,\n 34.6771125793457,\n 35.77516555786133,\n 36.07296371459961,\n 36.91264724731445,\n 37.07936096191406,\n 37.86518096923828,\n 38.4039421081543,\n 39.089420318603516,\n 39.395328521728516,\n 40.016380310058594,\n 40.73630905151367,\n 41.56748962402344,\n 41.82957077026367,\n 43.0831298828125,\n 43.46445846557617,\n 44.572845458984375,\n 45.32882308959961,\n 45.72465896606445,\n 46.5269660949707,\n 47.27219772338867,\n 48.093021392822266,\n 48.83137893676758,\n 49.879638671875,\n 49.983612060546875,\n 51.3153076171875,\n 51.4763069152832,\n 52.805816650390625,\n 53.35163497924805,\n 53.5443000793457,\n 54.19853591918945,\n 55.42892837524414,\n 55.84682083129883,\n 56.79067611694336,\n 57.552978515625,\n 58.31282424926758,\n 58.76914978027344,\n 59.46370315551758,\n 60.5270881652832,\n 61.24812698364258,\n 62.147705078125,\n 62.94679641723633,\n 64.14478302001953,\n 64.59916687011719,\n 65.85480499267578,\n 66.77467346191406,\n 67.0581283569336,\n 68.20828247070312,\n 68.93082427978516,\n 69.7740249633789,\n 71.09261322021484,\n 71.29170989990234,\n 72.4063491821289,\n 72.64392852783203,\n 74.0986099243164,\n 75.68131256103516,\n 75.97171783447266,\n 76.51163482666016,\n 77.31941986083984,\n 78.00395965576172,\n 78.9623031616211,\n 79.92089080810547]"
     },
     "metadata": {},
     "output_type": "display_data"
    },
    {
     "data": {
      "text/plain": "'9_11   _strain_p1'"
     },
     "metadata": {},
     "output_type": "display_data"
    },
    {
     "data": {
      "text/plain": "[1.967217206954956,\n 1.9359214305877686,\n 2.304670810699463,\n 2.47841215133667,\n 2.026850938796997,\n 2.169448137283325,\n 2.2048614025115967,\n 2.165100336074829,\n 1.9411840438842773,\n 2.2076404094696045,\n 2.0138769149780273,\n 2.2414536476135254,\n 2.5410895347595215,\n 2.2559990882873535,\n 2.0903515815734863,\n 2.2106099128723145,\n 2.28574800491333,\n 2.2882680892944336,\n 2.528891086578369,\n 2.3247339725494385,\n 2.569187641143799,\n 2.5207583904266357,\n 2.638057231903076,\n 2.387268304824829,\n 2.292755126953125,\n 2.573997974395752,\n 2.5044143199920654,\n 2.4386610984802246,\n 2.592978000640869,\n 2.9193649291992188,\n 2.877037525177002,\n 2.4677116870880127,\n 2.246288776397705,\n 2.3743929862976074,\n 2.425827741622925,\n 2.473712921142578,\n 2.606534481048584,\n 2.534420967102051,\n 2.5165622234344482,\n 2.748133659362793,\n 2.4667770862579346,\n 2.8168296813964844,\n 2.6962971687316895,\n 2.759376049041748,\n 2.8550729751586914,\n 2.7953972816467285,\n 2.681690216064453,\n 2.761512279510498,\n 3.068790912628174,\n 2.9768409729003906,\n 2.743685007095337,\n 2.8533687591552734,\n 3.1026179790496826,\n 3.281996965408325,\n 3.1220169067382812,\n 2.575695037841797,\n 3.3441193103790283,\n 2.969413995742798,\n 3.2019152641296387,\n 3.380322217941284,\n 2.8839852809906006,\n 3.0230162143707275,\n 2.939570903778076,\n 3.4148807525634766,\n 3.4502341747283936,\n 3.3672690391540527,\n 3.5728347301483154,\n 3.070258617401123,\n 3.1794021129608154,\n 3.0901551246643066,\n 3.2526938915252686,\n 3.343092441558838,\n 3.6741645336151123,\n 3.0697481632232666,\n 3.340057373046875,\n 3.647780656814575,\n 3.6870384216308594,\n 3.6507339477539062,\n 3.5165767669677734,\n 3.6437289714813232,\n 3.591171979904175,\n 3.2738311290740967,\n 3.4089577198028564,\n 3.831256151199341,\n 3.5350162982940674,\n 4.096863746643066,\n 3.6400322914123535,\n 3.476425886154175,\n 3.667375087738037,\n 3.8352150917053223,\n 3.781116485595703,\n 4.305554389953613,\n 4.160261631011963,\n 4.021846771240234,\n 3.7566661834716797,\n 3.588993549346924,\n 4.07663631439209,\n 3.8295254707336426,\n 3.9047932624816895,\n 3.8754444122314453,\n 4.01121711730957,\n 4.462001800537109,\n 4.271328926086426,\n 3.81591796875,\n 4.3099541664123535,\n 4.166568279266357,\n 4.117926597595215,\n 4.5743632316589355,\n 4.074902057647705,\n 4.185596942901611,\n 4.349350929260254,\n 4.355227470397949,\n 4.215628147125244,\n 4.381257057189941,\n 4.497746467590332,\n 4.50711727142334,\n 4.69818115234375,\n 4.4560866355896,\n 4.43127965927124,\n 4.456879615783691,\n 4.60478401184082,\n 4.5592780113220215,\n 4.335558891296387,\n 4.740631103515625,\n 4.991930961608887,\n 4.974455833435059,\n 4.701341152191162,\n 4.9113078117370605,\n 4.880976676940918,\n 4.875924110412598,\n 4.544873237609863,\n 4.805772304534912,\n 4.771935939788818,\n 5.164900779724121,\n 5.18354606628418,\n 5.44736909866333,\n 5.7480387687683105,\n 5.241484642028809,\n 5.1425909996032715,\n 5.481720924377441,\n 5.393799781799316,\n 5.420744895935059,\n 5.289748191833496,\n 5.567208766937256,\n 6.033886432647705,\n 5.589144706726074,\n 5.511743068695068,\n 5.948055744171143,\n 5.550252914428711,\n 5.601308345794678,\n 6.265168190002441,\n 6.100497245788574,\n 6.4240875244140625,\n 6.042560577392578,\n 5.658298492431641,\n 6.2276611328125,\n 6.265714645385742,\n 6.52758264541626,\n 6.640576362609863,\n 6.1933112144470215,\n 6.74608850479126,\n 6.429745674133301,\n 6.690305233001709,\n 6.6988091468811035,\n 6.7972092628479,\n 6.577298164367676,\n 7.163006782531738,\n 7.609262943267822,\n 7.7230939865112305,\n 7.348390102386475,\n 7.7495245933532715,\n 8.269098281860352,\n 8.11074161529541,\n 7.897786617279053,\n 7.9582672119140625,\n 8.068366050720215,\n 8.077323913574219,\n 8.772401809692383,\n 9.675195693969727,\n 9.266960144042969,\n 9.686332702636719,\n 9.417757987976074,\n 9.539767265319824,\n 9.562636375427246,\n 9.39095687866211,\n 9.485796928405762,\n 10.620553970336914,\n 10.988153457641602,\n 11.507255554199219,\n 11.555891036987305,\n 11.858424186706543,\n 11.64210319519043,\n 12.06405258178711,\n 12.034990310668945,\n 12.12902545928955,\n 12.530447959899902,\n 12.7843599319458,\n 12.8178129196167,\n 13.564950942993164,\n 14.09931755065918,\n 14.371333122253418,\n 15.36988639831543,\n 15.358064651489258,\n 15.517109870910645,\n 16.144577026367188,\n 15.801544189453125,\n 15.532426834106445,\n 16.214563369750977,\n 16.22416877746582,\n 16.823917388916016,\n 17.47762107849121,\n 18.053646087646484,\n 18.20344352722168,\n 19.08115005493164,\n 19.973506927490234,\n 20.25379180908203,\n 20.10769271850586,\n 20.654346466064453,\n 20.710895538330078,\n 21.12438201904297,\n 21.57326316833496,\n 21.514476776123047,\n 21.768014907836914,\n 22.539791107177734,\n 22.29142189025879,\n 22.195999145507812,\n 23.061412811279297,\n 23.438922882080078,\n 24.175989151000977,\n 25.11441421508789,\n 25.16207504272461,\n 26.065479278564453,\n 26.97509765625,\n 27.175918579101562,\n 27.370220184326172,\n 28.08688735961914,\n 27.924062728881836,\n 28.32705307006836,\n 29.238372802734375,\n 29.21027183532715,\n 30.016077041625977,\n 29.784860610961914,\n 30.265478134155273,\n 30.595911026000977,\n 31.11801528930664,\n 32.01651382446289,\n 31.79598617553711,\n 32.29358673095703,\n 33.05558395385742,\n 33.209869384765625,\n 33.694114685058594,\n 34.89318084716797,\n 34.42266845703125,\n 35.37163162231445,\n 35.80297088623047,\n 36.22835159301758,\n 37.04335403442383,\n 36.97050476074219,\n 37.449066162109375,\n 37.74666213989258,\n 38.646018981933594,\n 38.86870193481445,\n 39.0823860168457,\n 40.0258903503418,\n 40.45714569091797,\n 40.325538635253906,\n 41.11659622192383,\n 41.843528747558594,\n 42.481040954589844,\n 42.607276916503906,\n 43.10953140258789,\n 43.20785903930664,\n 43.5767936706543,\n 44.54020690917969,\n 44.860328674316406,\n 45.58567810058594,\n 45.873016357421875,\n 46.73149871826172,\n 46.866493225097656,\n 47.177188873291016,\n 48.02851104736328,\n 47.99678039550781,\n 48.413658142089844,\n 48.52378463745117,\n 50.01250076293945,\n 49.74448776245117,\n 50.291656494140625,\n 51.35810470581055,\n 51.667869567871094,\n 52.2982063293457]"
     },
     "metadata": {},
     "output_type": "display_data"
    },
    {
     "data": {
      "text/plain": "'11_13  _strain_p1'"
     },
     "metadata": {},
     "output_type": "display_data"
    },
    {
     "data": {
      "text/plain": "[2.410936117172241,\n 2.0164878368377686,\n 2.2231907844543457,\n 2.134143829345703,\n 2.0749237537384033,\n 2.165060520172119,\n 2.4963839054107666,\n 2.832826614379883,\n 1.9214612245559692,\n 2.331130266189575,\n 2.267982244491577,\n 2.1296300888061523,\n 2.3452961444854736,\n 2.5134594440460205,\n 2.2086732387542725,\n 2.412348985671997,\n 2.376013994216919,\n 2.5145761966705322,\n 2.4814913272857666,\n 2.521845579147339,\n 2.567333221435547,\n 2.2436110973358154,\n 2.2842726707458496,\n 2.397160768508911,\n 2.729360580444336,\n 2.245054006576538,\n 2.731933355331421,\n 2.453097105026245,\n 2.630357027053833,\n 2.5466115474700928,\n 2.5539581775665283,\n 2.9005491733551025,\n 3.0508787631988525,\n 2.7462165355682373,\n 2.926532030105591,\n 2.7318055629730225,\n 2.96297550201416,\n 2.5446557998657227,\n 2.9913036823272705,\n 2.923402786254883,\n 2.930959701538086,\n 2.8779067993164062,\n 2.4790303707122803,\n 3.3065710067749023,\n 2.7050914764404297,\n 2.961038589477539,\n 2.9476006031036377,\n 3.0708580017089844,\n 2.9747378826141357,\n 3.00457763671875,\n 3.0125627517700195,\n 2.8528289794921875,\n 2.957019805908203,\n 3.2844579219818115,\n 3.1565210819244385,\n 2.8590030670166016,\n 3.08229923248291,\n 3.062607526779175,\n 3.5501654148101807,\n 3.3834619522094727,\n 2.8250820636749268,\n 3.126422882080078,\n 3.337470054626465,\n 3.5422964096069336,\n 3.2044010162353516,\n 3.1519927978515625,\n 3.160496950149536,\n 3.2402257919311523,\n 3.1762726306915283,\n 3.1034669876098633,\n 3.6578190326690674,\n 3.2668540477752686,\n 3.5548534393310547,\n 3.8007094860076904,\n 3.58075213432312,\n 3.478907346725464,\n 3.884845495223999,\n 3.396421194076538,\n 3.584416389465332,\n 3.8460333347320557,\n 3.855151414871216,\n 3.491163492202759,\n 3.932157278060913,\n 3.781400680541992,\n 3.4932076930999756,\n 3.814349889755249,\n 3.8032188415527344,\n 4.026831150054932,\n 3.695420503616333,\n 3.7364284992218018,\n 3.878904342651367,\n 3.9755659103393555,\n 4.257571220397949,\n 4.165710926055908,\n 4.064354419708252,\n 4.429778575897217,\n 4.040323734283447,\n 4.062389373779297,\n 3.807887077331543,\n 4.071981430053711,\n 4.010988712310791,\n 4.2491865158081055,\n 4.118201732635498,\n 4.1445183753967285,\n 3.9732086658477783,\n 4.290430068969727,\n 4.4153289794921875,\n 4.3558669090271,\n 4.336935520172119,\n 4.410012722015381,\n 4.342573642730713,\n 4.1004228591918945,\n 4.353815078735352,\n 4.379499435424805,\n 4.425130844116211,\n 4.5158514976501465,\n 4.590764999389648,\n 4.519361972808838,\n 4.671392917633057,\n 4.402068614959717,\n 4.91241979598999,\n 4.596646785736084,\n 5.245528697967529,\n 5.2846999168396,\n 5.289216995239258,\n 5.013589382171631,\n 5.066220760345459,\n 4.980068206787109,\n 4.908779621124268,\n 4.902393341064453,\n 5.021127700805664,\n 5.173938751220703,\n 5.092413902282715,\n 5.281101226806641,\n 5.1942572593688965,\n 5.1273884773254395,\n 5.114545822143555,\n 5.243675708770752,\n 4.9872145652771,\n 4.998870372772217,\n 5.363340854644775,\n 5.471282958984375,\n 5.566132068634033,\n 5.433114528656006,\n 5.4181694984436035,\n 5.766932010650635,\n 5.471436023712158,\n 5.962045192718506,\n 5.6238274574279785,\n 5.7293243408203125,\n 5.868835926055908,\n 5.667377471923828,\n 6.002495288848877,\n 6.198378086090088,\n 5.978237152099609,\n 6.269505023956299,\n 6.1733269691467285,\n 6.302223205566406,\n 6.55987548828125,\n 6.079881191253662,\n 6.22900915145874,\n 6.214827060699463,\n 6.382286548614502,\n 6.081954479217529,\n 6.757168292999268,\n 6.43184232711792,\n 6.6486968994140625,\n 6.697420120239258,\n 6.6890130043029785,\n 6.938873291015625,\n 6.928615093231201,\n 7.020143032073975,\n 6.789146423339844,\n 7.024155139923096,\n 7.196369647979736,\n 7.086597919464111,\n 7.479776859283447,\n 7.422827243804932,\n 7.7562031745910645,\n 7.977413177490234,\n 7.8144211769104,\n 7.753378391265869,\n 7.752430438995361,\n 7.989963531494141,\n 8.348746299743652,\n 8.339873313903809,\n 8.745498657226562,\n 8.682391166687012,\n 9.004765510559082,\n 9.353476524353027,\n 9.152831077575684,\n 9.184309005737305,\n 8.99145221710205,\n 9.177982330322266,\n 9.5809965133667,\n 9.536598205566406,\n 9.798039436340332,\n 9.778122901916504,\n 10.000102043151855,\n 10.012749671936035,\n 10.482423782348633,\n 10.63354206085205,\n 11.221623420715332,\n 10.928059577941895,\n 11.459999084472656,\n 11.290969848632812,\n 11.079146385192871,\n 11.787152290344238,\n 12.040703773498535,\n 11.817044258117676,\n 11.872001647949219,\n 12.643996238708496,\n 12.703991889953613,\n 12.649352073669434,\n 12.660799980163574,\n 13.14597225189209,\n 13.311884880065918,\n 13.715426445007324,\n 14.020675659179688,\n 14.040371894836426,\n 14.309008598327637,\n 14.709948539733887,\n 14.873278617858887,\n 15.257796287536621,\n 15.427989959716797,\n 15.339256286621094,\n 15.602818489074707,\n 15.581371307373047,\n 15.890332221984863,\n 15.870087623596191,\n 16.35430335998535,\n 16.185598373413086,\n 16.81731605529785,\n 16.677400588989258,\n 17.189781188964844,\n 17.383193969726562,\n 17.87321662902832,\n 17.623456954956055,\n 18.180551528930664,\n 18.35814094543457,\n 18.709632873535156,\n 18.956106185913086,\n 18.77768898010254,\n 18.97873878479004,\n 19.996816635131836,\n 19.991342544555664,\n 20.51323699951172,\n 20.226207733154297,\n 20.70310401916504,\n 21.07493019104004,\n 21.145307540893555,\n 21.648836135864258,\n 21.56280517578125,\n 21.771568298339844,\n 22.304391860961914,\n 22.334129333496094,\n 22.491111755371094,\n 22.68311882019043,\n 22.867006301879883,\n 22.850976943969727,\n 23.425634384155273,\n 23.550697326660156,\n 23.468427658081055,\n 23.80039405822754,\n 24.03777503967285,\n 23.944808959960938,\n 24.2293758392334,\n 24.387496948242188,\n 25.12532615661621,\n 24.75911521911621,\n 25.126676559448242,\n 25.26329231262207,\n 25.717384338378906,\n 25.49933624267578,\n 25.96338653564453,\n 25.750160217285156,\n 26.400442123413086,\n 26.658353805541992,\n 27.01444435119629,\n 26.896987915039062,\n 27.450393676757812,\n 27.765396118164062,\n 27.29648780822754,\n 27.442415237426758,\n 27.67433738708496,\n 27.846879959106445,\n 28.346574783325195,\n 28.412124633789062,\n 28.593320846557617,\n 29.298524856567383]"
     },
     "metadata": {},
     "output_type": "display_data"
    },
    {
     "data": {
      "text/plain": "'13_15  _strain_p1'"
     },
     "metadata": {},
     "output_type": "display_data"
    },
    {
     "data": {
      "text/plain": "[2.736691951751709,\n 2.6550793647766113,\n 2.9265406131744385,\n 2.837963581085205,\n 2.9596238136291504,\n 2.6276180744171143,\n 2.35129976272583,\n 2.8511903285980225,\n 2.568673849105835,\n 2.805403470993042,\n 2.8228330612182617,\n 2.52946138381958,\n 2.8139774799346924,\n 2.899296283721924,\n 2.5361850261688232,\n 2.719879150390625,\n 2.939030408859253,\n 3.220024824142456,\n 2.4781172275543213,\n 3.1040279865264893,\n 3.1719040870666504,\n 3.177996873855591,\n 3.0645499229431152,\n 3.188661813735962,\n 3.44276762008667,\n 2.971609354019165,\n 3.1765799522399902,\n 2.9905028343200684,\n 3.2980151176452637,\n 3.142108201980591,\n 3.045187473297119,\n 2.9261457920074463,\n 3.048213481903076,\n 2.8372185230255127,\n 3.1830859184265137,\n 3.356088638305664,\n 3.1709277629852295,\n 3.356396198272705,\n 3.6917946338653564,\n 3.4912612438201904,\n 3.2842555046081543,\n 3.143296957015991,\n 3.1656761169433594,\n 3.256152391433716,\n 3.442694902420044,\n 3.914905548095703,\n 3.5917258262634277,\n 3.8897335529327393,\n 3.3212265968322754,\n 3.537402629852295,\n 3.581258773803711,\n 3.3213112354278564,\n 3.7402331829071045,\n 3.377049207687378,\n 3.372231960296631,\n 3.229938507080078,\n 3.7689807415008545,\n 3.433303117752075,\n 3.6102867126464844,\n 3.635319232940674,\n 3.420135021209717,\n 3.5055248737335205,\n 3.500563859939575,\n 3.719005584716797,\n 3.610373020172119,\n 3.649890184402466,\n 3.728269100189209,\n 3.7507476806640625,\n 3.615422487258911,\n 3.5380821228027344,\n 4.198410511016846,\n 3.8402438163757324,\n 4.170807838439941,\n 3.945011615753174,\n 4.184725284576416,\n 3.925065279006958,\n 3.997438430786133,\n 3.9644248485565186,\n 3.780580520629883,\n 3.9929585456848145,\n 3.760714054107666,\n 4.266294002532959,\n 4.21441650390625,\n 4.18408203125,\n 4.037862300872803,\n 4.290804386138916,\n 4.254363536834717,\n 4.2853779792785645,\n 4.402766227722168,\n 4.195151329040527,\n 4.447720527648926,\n 4.239951133728027,\n 4.548941612243652,\n 4.5608229637146,\n 4.484644412994385,\n 4.562744140625,\n 4.675336837768555,\n 4.223946571350098,\n 4.352643013000488,\n 4.769724369049072,\n 4.357786655426025,\n 4.753471374511719,\n 4.491864204406738,\n 4.916336536407471,\n 4.39169979095459,\n 5.073291301727295,\n 5.1396613121032715,\n 4.941376686096191,\n 4.80090856552124,\n 4.834589004516602,\n 4.9993133544921875,\n 4.9413323402404785,\n 4.774832725524902,\n 4.642826557159424,\n 4.742510795593262,\n 4.823557376861572,\n 4.989437103271484,\n 5.245007514953613,\n 5.122531890869141,\n 4.883330345153809,\n 5.250359058380127,\n 5.046534061431885,\n 5.055955410003662,\n 4.918924808502197,\n 4.980656147003174,\n 5.110218048095703,\n 5.603255271911621,\n 5.267602443695068,\n 5.367279529571533,\n 5.02994441986084,\n 5.457463264465332,\n 5.299420356750488,\n 5.868960380554199,\n 5.950435161590576,\n 5.511131286621094,\n 5.746148109436035,\n 5.516802787780762,\n 5.991477966308594,\n 5.287081241607666,\n 5.774384021759033,\n 5.8447041511535645,\n 5.910837650299072,\n 6.213025093078613,\n 6.0802903175354,\n 5.687929630279541,\n 5.9976043701171875,\n 5.794227600097656,\n 5.759913444519043,\n 5.892257213592529,\n 6.182116508483887,\n 6.167300224304199,\n 6.464382171630859,\n 6.066812038421631,\n 6.29648494720459,\n 6.210787773132324,\n 6.06641960144043,\n 6.24851131439209,\n 6.669031620025635,\n 6.5126519203186035,\n 6.372830390930176,\n 6.402462959289551,\n 6.735774993896484,\n 6.374907970428467,\n 6.362860202789307,\n 6.117488384246826,\n 6.3845062255859375,\n 6.575182914733887,\n 7.0894012451171875,\n 7.45260763168335,\n 7.012269020080566,\n 6.560822486877441,\n 6.4779534339904785,\n 6.7518157958984375,\n 6.770923614501953,\n 6.763346195220947,\n 6.770600318908691,\n 7.065072536468506,\n 7.152682304382324,\n 7.3081374168396,\n 7.624636650085449,\n 6.99875545501709,\n 7.151040554046631,\n 7.654314994812012,\n 7.371212959289551,\n 7.3483452796936035,\n 7.286599159240723,\n 7.6399078369140625,\n 7.631717681884766,\n 7.9544267654418945,\n 7.9623212814331055,\n 8.336840629577637,\n 8.34773063659668,\n 8.57182502746582,\n 8.093626022338867,\n 8.316777229309082,\n 8.485593795776367,\n 8.178657531738281,\n 7.995818138122559,\n 8.251341819763184,\n 8.533939361572266,\n 8.316410064697266,\n 8.561541557312012,\n 8.526744842529297,\n 8.907208442687988,\n 9.000434875488281,\n 9.362311363220215,\n 9.178415298461914,\n 9.850797653198242,\n 9.627813339233398,\n 9.337267875671387,\n 9.587725639343262,\n 9.941325187683105,\n 9.963850975036621,\n 9.767927169799805,\n 9.589816093444824,\n 9.786901473999023,\n 10.013020515441895,\n 9.906026840209961,\n 9.696916580200195,\n 9.627617835998535,\n 10.20429801940918,\n 10.375101089477539,\n 10.431673049926758,\n 10.78548526763916,\n 11.319038391113281,\n 11.243291854858398,\n 11.03963851928711,\n 11.232687950134277,\n 11.559819221496582,\n 11.795341491699219,\n 11.859079360961914,\n 11.75479507446289,\n 11.942998886108398,\n 11.829920768737793,\n 12.350875854492188,\n 12.204509735107422,\n 12.441362380981445,\n 12.331677436828613,\n 12.337836265563965,\n 12.630790710449219,\n 12.9713716506958,\n 12.726487159729004,\n 12.606695175170898,\n 13.259332656860352,\n 12.93256664276123,\n 13.146328926086426,\n 13.124259948730469,\n 13.091924667358398,\n 13.025492668151855,\n 13.663780212402344,\n 13.33898639678955,\n 13.67286491394043,\n 13.672691345214844,\n 13.296598434448242,\n 13.977163314819336,\n 14.006414413452148,\n 13.918024063110352,\n 14.431257247924805,\n 14.534500122070312,\n 14.122703552246094,\n 13.77110481262207,\n 14.648561477661133,\n 14.411214828491211,\n 14.72456169128418,\n 14.515653610229492,\n 14.685293197631836,\n 14.475166320800781,\n 14.66325855255127,\n 14.833093643188477,\n 15.227198600769043,\n 14.827993392944336,\n 15.62359619140625,\n 15.110916137695312,\n 14.981106758117676,\n 15.292927742004395,\n 15.288785934448242,\n 15.831631660461426,\n 15.560157775878906,\n 15.647809028625488,\n 15.863909721374512,\n 15.859067916870117,\n 16.105709075927734,\n 16.106639862060547,\n 15.911966323852539,\n 15.8222074508667,\n 16.13676643371582,\n 16.378511428833008,\n 16.26231575012207,\n 16.418100357055664,\n 16.598825454711914]"
     },
     "metadata": {},
     "output_type": "display_data"
    },
    {
     "data": {
      "text/plain": "'15_17  _strain_p1'"
     },
     "metadata": {},
     "output_type": "display_data"
    },
    {
     "data": {
      "text/plain": "[2.5278913974761963,\n 2.314692258834839,\n 2.1632742881774902,\n 2.424828290939331,\n 2.2080438137054443,\n 2.365307092666626,\n 2.357457160949707,\n 2.3130314350128174,\n 2.2074077129364014,\n 2.1477749347686768,\n 2.4363253116607666,\n 2.2534396648406982,\n 2.1218864917755127,\n 2.4029946327209473,\n 2.388566493988037,\n 2.184058427810669,\n 2.4164235591888428,\n 2.302164077758789,\n 2.343356132507324,\n 2.4959914684295654,\n 2.5832698345184326,\n 2.391988754272461,\n 2.552666664123535,\n 2.6877918243408203,\n 2.648695707321167,\n 2.362595319747925,\n 2.803032636642456,\n 2.518643379211426,\n 2.61365008354187,\n 2.5751330852508545,\n 2.596405506134033,\n 2.373084306716919,\n 2.9501991271972656,\n 2.676162004470825,\n 2.5789716243743896,\n 2.808708906173706,\n 2.806929349899292,\n 2.811353921890259,\n 2.8607804775238037,\n 2.59486722946167,\n 2.59236741065979,\n 2.541511297225952,\n 2.808245897293091,\n 3.106621026992798,\n 2.622319221496582,\n 2.985393524169922,\n 2.71335506439209,\n 3.035919427871704,\n 3.282752275466919,\n 3.3782787322998047,\n 2.8860979080200195,\n 3.108304977416992,\n 3.1219892501831055,\n 2.9041950702667236,\n 3.0958688259124756,\n 2.9679110050201416,\n 2.8065826892852783,\n 3.4664905071258545,\n 3.0939066410064697,\n 3.1440088748931885,\n 2.953033685684204,\n 2.844472885131836,\n 3.023702621459961,\n 3.155202627182007,\n 3.054811477661133,\n 3.3418922424316406,\n 3.4480745792388916,\n 3.4646692276000977,\n 3.494776487350464,\n 3.194697380065918,\n 3.4072697162628174,\n 3.796052932739258,\n 3.4158926010131836,\n 3.0216848850250244,\n 3.693000555038452,\n 3.2259838581085205,\n 3.818345785140991,\n 3.699298620223999,\n 3.549837350845337,\n 3.56101131439209,\n 3.378620147705078,\n 3.7989094257354736,\n 3.696380615234375,\n 3.4778850078582764,\n 3.423921585083008,\n 3.4440667629241943,\n 3.695692777633667,\n 3.8775956630706787,\n 3.9162681102752686,\n 4.338230133056641,\n 3.8896703720092773,\n 3.892184019088745,\n 3.7339212894439697,\n 4.052669525146484,\n 3.8227880001068115,\n 4.000838756561279,\n 4.288598537445068,\n 4.235601902008057,\n 3.7070188522338867,\n 3.9544456005096436,\n 3.9563722610473633,\n 4.128229141235352,\n 3.94657826423645,\n 4.178676605224609,\n 3.9395110607147217,\n 3.7285244464874268,\n 4.364600658416748,\n 4.099644660949707,\n 4.333926677703857,\n 4.403345108032227,\n 4.358184337615967,\n 4.362281799316406,\n 4.315464496612549,\n 4.09743070602417,\n 4.310702323913574,\n 4.209240436553955,\n 4.615599155426025,\n 4.497890949249268,\n 4.583140850067139,\n 4.531253337860107,\n 4.296699523925781,\n 4.285340785980225,\n 4.409413814544678,\n 4.494675159454346,\n 4.425702095031738,\n 4.878030300140381,\n 5.3543524742126465,\n 4.960392475128174,\n 4.742075443267822,\n 4.36322546005249,\n 4.594768524169922,\n 4.338565349578857,\n 4.8257670402526855,\n 4.952594757080078,\n 5.1406636238098145,\n 4.883974552154541,\n 5.040733814239502,\n 4.9290337562561035,\n 4.75706148147583,\n 5.103174686431885,\n 5.277591705322266,\n 5.082794189453125,\n 5.5710673332214355,\n 5.125754356384277,\n 5.012760162353516,\n 5.368884563446045,\n 5.111062049865723,\n 5.0172247886657715,\n 5.432579517364502,\n 5.222724437713623,\n 5.368380069732666,\n 5.627686977386475,\n 5.585608005523682,\n 5.483121871948242,\n 5.380054950714111,\n 5.794735431671143,\n 5.783715724945068,\n 5.783439636230469,\n 6.081307888031006,\n 5.998699188232422,\n 5.76307487487793,\n 5.944199085235596,\n 5.523775100708008,\n 5.568897724151611,\n 5.656264781951904,\n 5.7306060791015625,\n 5.653202533721924,\n 5.808394908905029,\n 6.310295104980469,\n 6.038907527923584,\n 6.35864782333374,\n 5.923667907714844,\n 6.036831378936768,\n 6.049646854400635,\n 6.047595977783203,\n 6.003013610839844,\n 6.1827712059021,\n 6.476638317108154,\n 6.554931163787842,\n 6.912903308868408,\n 6.344066619873047,\n 6.196080684661865,\n 6.156806945800781,\n 6.22573709487915,\n 6.513396739959717,\n 6.385976791381836,\n 6.395759582519531,\n 6.508900165557861,\n 6.541265487670898,\n 6.5631561279296875,\n 6.634992599487305,\n 6.692926406860352,\n 6.87382698059082,\n 6.7546210289001465,\n 6.972933292388916,\n 7.001598358154297,\n 7.0787529945373535,\n 6.805413722991943,\n 6.816844940185547,\n 6.850311756134033,\n 6.7013092041015625,\n 6.7546868324279785,\n 6.807739734649658,\n 6.789924144744873,\n 7.14154577255249,\n 7.333752155303955,\n 7.71763801574707,\n 7.55908203125,\n 7.956303119659424,\n 7.811201095581055,\n 7.844335556030273,\n 7.917692184448242,\n 7.728897571563721,\n 7.566938877105713,\n 7.529801845550537,\n 7.979417324066162,\n 7.886922359466553,\n 7.797344207763672,\n 7.481170177459717,\n 7.707570552825928,\n 8.134557723999023,\n 7.7125468254089355,\n 7.823371410369873,\n 8.191546440124512,\n 8.238945960998535,\n 8.10704231262207,\n 8.170130729675293,\n 8.437220573425293,\n 8.42623233795166,\n 8.813492774963379,\n 8.879874229431152,\n 8.57946491241455,\n 8.60367488861084,\n 8.875155448913574,\n 9.12636661529541,\n 9.102906227111816,\n 9.480253219604492,\n 9.408679008483887,\n 9.331521034240723,\n 9.183687210083008,\n 9.421167373657227,\n 9.13730525970459,\n 9.230448722839355,\n 9.314471244812012,\n 9.080788612365723,\n 9.42813777923584,\n 9.621024131774902,\n 9.609631538391113,\n 9.410107612609863,\n 9.737570762634277,\n 9.576863288879395,\n 9.660902976989746,\n 9.66256046295166,\n 9.434107780456543,\n 9.83878231048584,\n 9.976356506347656,\n 9.781723976135254,\n 10.072876930236816,\n 10.14209270477295,\n 9.85532283782959,\n 10.054705619812012,\n 9.92169189453125,\n 10.144309997558594,\n 10.076446533203125,\n 9.917378425598145,\n 9.788301467895508,\n 10.143895149230957,\n 10.227937698364258,\n 10.396136283874512,\n 10.459559440612793,\n 10.13759708404541,\n 10.448653221130371,\n 10.278903007507324,\n 10.338557243347168,\n 10.44136905670166,\n 10.353912353515625,\n 10.498881340026855,\n 10.424304008483887,\n 10.530411720275879,\n 10.531818389892578,\n 10.572083473205566,\n 10.890851020812988,\n 10.733664512634277,\n 11.053256034851074,\n 10.995780944824219,\n 10.628212928771973,\n 10.665013313293457,\n 10.74805736541748,\n 10.559215545654297,\n 10.738456726074219]"
     },
     "metadata": {},
     "output_type": "display_data"
    },
    {
     "data": {
      "text/plain": "'17_19  _strain_p1'"
     },
     "metadata": {},
     "output_type": "display_data"
    },
    {
     "data": {
      "text/plain": "[1.8445374965667725,\n 1.7702668905258179,\n 2.0312743186950684,\n 1.753877878189087,\n 1.7333465814590454,\n 2.060748338699341,\n 2.019073724746704,\n 2.288320779800415,\n 2.2541470527648926,\n 2.1506104469299316,\n 1.9108574390411377,\n 1.9659042358398438,\n 1.9992055892944336,\n 2.299182415008545,\n 2.043452262878418,\n 2.3477234840393066,\n 1.7906465530395508,\n 2.1477882862091064,\n 2.313960552215576,\n 2.186645984649658,\n 2.363379955291748,\n 2.1930654048919678,\n 2.1932599544525146,\n 2.4587574005126953,\n 2.518401622772217,\n 2.1480414867401123,\n 2.3637068271636963,\n 2.3486642837524414,\n 2.201813220977783,\n 2.0220751762390137,\n 2.0838868618011475,\n 2.221559762954712,\n 2.4553849697113037,\n 2.191066265106201,\n 2.0345072746276855,\n 2.521538019180298,\n 2.644307851791382,\n 2.3480169773101807,\n 2.4675776958465576,\n 2.0164685249328613,\n 2.604088544845581,\n 2.4557273387908936,\n 2.3926055431365967,\n 2.4064295291900635,\n 2.6247761249542236,\n 2.487107753753662,\n 2.529156446456909,\n 2.711101531982422,\n 2.6393675804138184,\n 2.720457077026367,\n 2.704240083694458,\n 2.6116020679473877,\n 2.751648187637329,\n 2.2871124744415283,\n 2.800245761871338,\n 2.906682252883911,\n 2.2108397483825684,\n 2.6620116233825684,\n 2.6527743339538574,\n 2.9664647579193115,\n 2.8829033374786377,\n 2.462791919708252,\n 2.7930588722229004,\n 2.720381498336792,\n 2.751112699508667,\n 3.1500935554504395,\n 2.5865936279296875,\n 2.93267560005188,\n 3.2916877269744873,\n 2.9525222778320312,\n 2.9397780895233154,\n 3.271120071411133,\n 3.0737838745117188,\n 2.8467226028442383,\n 3.3651585578918457,\n 3.2805075645446777,\n 3.3957905769348145,\n 3.196981430053711,\n 3.3623061180114746,\n 3.1584601402282715,\n 2.8704943656921387,\n 2.926814556121826,\n 3.275080919265747,\n 3.2192206382751465,\n 3.1377673149108887,\n 3.308075428009033,\n 3.5900115966796875,\n 3.471785306930542,\n 3.3978469371795654,\n 3.647665023803711,\n 3.530137538909912,\n 2.8312325477600098,\n 3.5210564136505127,\n 3.3492729663848877,\n 3.411161422729492,\n 3.6282176971435547,\n 3.6138463020324707,\n 3.6979451179504395,\n 3.356562852859497,\n 3.5265955924987793,\n 3.897156238555908,\n 3.7293636798858643,\n 3.4980483055114746,\n 3.44578218460083,\n 3.978114366531372,\n 3.5361762046813965,\n 3.803475856781006,\n 3.957862138748169,\n 4.022481918334961,\n 3.87750506401062,\n 4.00937032699585,\n 3.8524513244628906,\n 4.26954984664917,\n 3.8335540294647217,\n 3.789172649383545,\n 4.006139755249023,\n 3.7875027656555176,\n 4.167901039123535,\n 4.390476226806641,\n 4.390034198760986,\n 4.3523054122924805,\n 4.032843589782715,\n 4.243252754211426,\n 4.12086820602417,\n 4.441389560699463,\n 4.116291046142578,\n 4.320478916168213,\n 4.574916839599609,\n 4.048253536224365,\n 4.130703926086426,\n 4.364125728607178,\n 4.2707061767578125,\n 4.262130260467529,\n 4.469980716705322,\n 4.488934516906738,\n 4.336825370788574,\n 4.634766578674316,\n 4.446863174438477,\n 4.563679218292236,\n 4.4840850830078125,\n 4.496560573577881,\n 4.386690139770508,\n 4.632750034332275,\n 4.782309055328369,\n 4.696657180786133,\n 4.731791019439697,\n 4.838720798492432,\n 4.9633684158325195,\n 4.626720428466797,\n 4.7725019454956055,\n 5.095346927642822,\n 4.767542362213135,\n 5.3877272605896,\n 5.236935615539551,\n 4.822575092315674,\n 5.115736484527588,\n 5.013036727905273,\n 4.832213878631592,\n 5.173453330993652,\n 4.866786956787109,\n 5.0906147956848145,\n 5.251589775085449,\n 5.40001916885376,\n 5.118514060974121,\n 4.878167152404785,\n 5.465851306915283,\n 5.047809600830078,\n 5.074909687042236,\n 4.998303413391113,\n 5.304958343505859,\n 5.457127571105957,\n 5.6335906982421875,\n 5.709673881530762,\n 5.500334739685059,\n 5.194606304168701,\n 5.39890718460083,\n 5.553559303283691,\n 5.6485395431518555,\n 5.363844871520996,\n 5.952479362487793,\n 5.398447513580322,\n 5.6295485496521,\n 6.127445220947266,\n 5.966945648193359,\n 6.014126777648926,\n 5.603949546813965,\n 5.768689155578613,\n 6.028631687164307,\n 6.037152290344238,\n 5.906633377075195,\n 6.041945457458496,\n 5.807712078094482,\n 5.943156719207764,\n 6.024277687072754,\n 6.052402496337891,\n 6.120151519775391,\n 6.075467586517334,\n 6.276832103729248,\n 6.2119550704956055,\n 6.186709403991699,\n 6.358377933502197,\n 6.213076591491699,\n 6.362363338470459,\n 6.321252346038818,\n 6.451670169830322,\n 6.32200813293457,\n 6.399894714355469,\n 6.467888832092285,\n 6.727040767669678,\n 6.64646053314209,\n 6.42519474029541,\n 6.692910671234131,\n 6.771327018737793,\n 6.741392612457275,\n 6.470267295837402,\n 6.781252861022949,\n 6.993752479553223,\n 6.8195672035217285,\n 7.029370307922363,\n 6.945652008056641,\n 6.685807704925537,\n 6.908901214599609,\n 6.780803680419922,\n 6.8436150550842285,\n 6.886525630950928,\n 6.838742256164551,\n 6.789299011230469,\n 7.113600254058838,\n 6.9643354415893555,\n 6.986203670501709,\n 6.911740779876709,\n 6.617440700531006,\n 7.191953182220459,\n 7.265938758850098,\n 7.5809736251831055,\n 7.452822685241699,\n 7.710412502288818,\n 7.30306339263916,\n 7.784097194671631,\n 7.3307785987854,\n 7.423579216003418,\n 7.561805725097656,\n 7.430113315582275,\n 7.449616432189941,\n 7.413565635681152,\n 7.654449462890625,\n 7.79751443862915,\n 7.7796807289123535,\n 7.786097049713135,\n 7.766268253326416,\n 7.64968729019165,\n 8.209726333618164,\n 7.280329704284668,\n 7.879021644592285,\n 8.146787643432617,\n 8.022810935974121,\n 7.557600498199463,\n 8.06421184539795,\n 8.346700668334961,\n 7.9605889320373535,\n 7.790057182312012,\n 7.990580081939697,\n 7.666761875152588,\n 8.04990005493164,\n 7.920286655426025,\n 7.97757625579834,\n 7.911612510681152,\n 7.860539436340332,\n 8.05816650390625,\n 7.949169158935547,\n 7.7198309898376465,\n 7.9205002784729,\n 7.9227752685546875,\n 7.9412946701049805,\n 7.8935956954956055,\n 7.932986259460449,\n 8.250618934631348,\n 7.950874328613281,\n 8.164534568786621,\n 8.346487045288086,\n 8.252450942993164,\n 7.9904608726501465,\n 8.291769027709961,\n 7.968550205230713,\n 8.394136428833008,\n 8.041155815124512,\n 8.082959175109863,\n 7.923448085784912,\n 8.119162559509277,\n 8.044337272644043]"
     },
     "metadata": {},
     "output_type": "display_data"
    },
    {
     "data": {
      "text/plain": "'19_21  _strain_p1'"
     },
     "metadata": {},
     "output_type": "display_data"
    },
    {
     "data": {
      "text/plain": "[2.2022042274475098,\n 2.2317943572998047,\n 2.598900318145752,\n 2.2010607719421387,\n 2.31327748298645,\n 2.1997923851013184,\n 1.9762134552001953,\n 2.0763211250305176,\n 2.319645643234253,\n 2.2982983589172363,\n 1.9979267120361328,\n 2.3188209533691406,\n 2.3978686332702637,\n 2.4266884326934814,\n 2.446537733078003,\n 2.5553619861602783,\n 2.0891566276550293,\n 2.1462771892547607,\n 2.457334041595459,\n 2.124495029449463,\n 2.4623489379882812,\n 2.4155547618865967,\n 2.3276734352111816,\n 2.6318886280059814,\n 2.3510818481445312,\n 2.462406873703003,\n 2.26690673828125,\n 2.4450290203094482,\n 2.6934733390808105,\n 2.5220422744750977,\n 2.685107707977295,\n 2.2180397510528564,\n 2.1123337745666504,\n 2.53704571723938,\n 2.754974365234375,\n 2.216681718826294,\n 2.764878511428833,\n 2.7288928031921387,\n 2.370161771774292,\n 2.449713945388794,\n 2.6616599559783936,\n 2.4101479053497314,\n 2.570464611053467,\n 2.3698596954345703,\n 2.602627754211426,\n 2.7008864879608154,\n 2.359652280807495,\n 2.5956168174743652,\n 2.627849578857422,\n 2.625952959060669,\n 3.1147122383117676,\n 2.8907628059387207,\n 2.7739882469177246,\n 2.94328236579895,\n 2.9891324043273926,\n 3.0694310665130615,\n 3.1571850776672363,\n 2.5950043201446533,\n 3.3060715198516846,\n 3.1818134784698486,\n 2.8823657035827637,\n 3.190500020980835,\n 2.988185405731201,\n 2.822948932647705,\n 2.9187216758728027,\n 3.4045262336730957,\n 2.806730031967163,\n 2.711728572845459,\n 3.5935802459716797,\n 3.0010437965393066,\n 3.284870147705078,\n 3.502037525177002,\n 3.292013645172119,\n 3.4411232471466064,\n 3.560436248779297,\n 3.2956759929656982,\n 2.9996044635772705,\n 3.4237799644470215,\n 3.4706053733825684,\n 3.3563594818115234,\n 3.5220794677734375,\n 3.407240390777588,\n 3.6471855640411377,\n 3.8405556678771973,\n 3.5987982749938965,\n 3.509134292602539,\n 3.4357428550720215,\n 3.8055710792541504,\n 3.5521597862243652,\n 3.3361217975616455,\n 3.6142418384552,\n 3.491849422454834,\n 3.608922243118286,\n 3.7425575256347656,\n 3.865645170211792,\n 3.981523036956787,\n 3.6479315757751465,\n 3.6658921241760254,\n 3.822859525680542,\n 3.746448516845703,\n 3.8371357917785645,\n 3.6760566234588623,\n 4.120523929595947,\n 3.710683822631836,\n 3.9658215045928955,\n 4.009145259857178,\n 4.145849704742432,\n 3.9729385375976562,\n 3.960486888885498,\n 3.9348320960998535,\n 3.9743785858154297,\n 4.6126179695129395,\n 4.289829730987549,\n 4.377196311950684,\n 4.036652565002441,\n 4.4970808029174805,\n 4.315830230712891,\n 3.9655556678771973,\n 4.263472080230713,\n 4.524308681488037,\n 4.436280250549316,\n 4.397490978240967,\n 4.371346950531006,\n 4.472531318664551,\n 4.557964324951172,\n 4.56281042098999,\n 4.7322845458984375,\n 4.759826183319092,\n 4.310995578765869,\n 4.598110198974609,\n 4.416013717651367,\n 4.495742321014404,\n 4.5946946144104,\n 4.659933567047119,\n 4.5452656745910645,\n 4.6151509284973145,\n 5.011399269104004,\n 4.790664196014404,\n 4.612247467041016,\n 4.886094570159912,\n 4.351719856262207,\n 4.627241134643555,\n 4.523249626159668,\n 5.0670390129089355,\n 4.9752678871154785,\n 4.745239734649658,\n 5.179337501525879,\n 5.422600746154785,\n 4.785890102386475,\n 5.1918511390686035,\n 5.6333513259887695,\n 5.089138031005859,\n 4.808722496032715,\n 4.972970008850098,\n 5.026862144470215,\n 5.2700676918029785,\n 5.230114936828613,\n 5.253108978271484,\n 5.16703987121582,\n 5.21738338470459,\n 5.409201145172119,\n 5.248671531677246,\n 5.10469388961792,\n 5.424805641174316,\n 5.152033805847168,\n 5.279040336608887,\n 5.308444023132324,\n 5.7261738777160645,\n 5.272968292236328,\n 5.505051612854004,\n 5.580435752868652,\n 5.68972635269165,\n 6.09557580947876,\n 5.654675006866455,\n 5.539993762969971,\n 5.6516008377075195,\n 5.825143337249756,\n 6.250031471252441,\n 5.634902000427246,\n 5.765389919281006,\n 6.024729251861572,\n 5.779083728790283,\n 6.173247337341309,\n 6.04664421081543,\n 6.137542247772217,\n 5.737236499786377,\n 6.172247886657715,\n 6.059665679931641,\n 6.113865852355957,\n 6.373214244842529,\n 6.277812957763672,\n 6.075692176818848,\n 5.878117561340332,\n 6.0074896812438965,\n 6.271302700042725,\n 5.951624870300293,\n 6.317139625549316,\n 6.37488317489624,\n 6.243105888366699,\n 6.492063999176025,\n 6.600504398345947,\n 6.289624214172363,\n 6.406406402587891,\n 6.415917873382568,\n 6.483689785003662,\n 6.6569108963012695,\n 6.569636344909668,\n 6.646453857421875,\n 6.445957183837891,\n 6.17220401763916,\n 6.339902877807617,\n 6.340424537658691,\n 6.4494500160217285,\n 6.924973487854004,\n 6.102771282196045,\n 6.547172546386719,\n 6.352116584777832,\n 6.692984580993652,\n 6.826751708984375,\n 6.777413845062256,\n 7.069497108459473,\n 6.870522975921631,\n 7.005284786224365,\n 6.862570285797119,\n 6.680599212646484,\n 6.812108039855957,\n 7.2240729331970215,\n 6.842165946960449,\n 6.898870944976807,\n 7.156044006347656,\n 6.753759860992432,\n 6.9602484703063965,\n 6.8607354164123535,\n 6.810650825500488,\n 7.086956977844238,\n 7.192081451416016,\n 7.053155422210693,\n 6.915031433105469,\n 6.629631042480469,\n 7.14835262298584,\n 6.834253787994385,\n 6.848349094390869,\n 6.775691986083984,\n 7.2697272300720215,\n 6.87017822265625,\n 6.8576226234436035,\n 6.8382720947265625,\n 6.977166652679443,\n 6.8998260498046875,\n 7.146248817443848,\n 7.328732490539551,\n 7.316572666168213,\n 7.124981880187988,\n 6.772698402404785,\n 7.23394250869751,\n 6.950828552246094,\n 7.2448272705078125,\n 7.3062872886657715,\n 7.509768009185791,\n 6.971121788024902,\n 7.321439266204834,\n 7.135185241699219,\n 7.282099723815918,\n 7.318046569824219,\n 7.1659111976623535,\n 7.093815803527832,\n 7.171126365661621,\n 7.2704176902771,\n 6.939126014709473,\n 7.2827019691467285,\n 7.439820289611816,\n 6.992236137390137,\n 7.531186580657959,\n 7.343031883239746,\n 7.491848945617676,\n 7.367628574371338,\n 7.08840799331665,\n 7.330428123474121,\n 7.082968235015869,\n 7.396900177001953,\n 7.427717685699463,\n 7.505134582519531,\n 7.319332122802734,\n 7.485833644866943,\n 7.2802839279174805,\n 7.294334411621094,\n 7.227293491363525,\n 7.3451828956604,\n 7.201502799987793,\n 7.2701215744018555]"
     },
     "metadata": {},
     "output_type": "display_data"
    },
    {
     "data": {
      "text/plain": "'21_23  _strain_p1'"
     },
     "metadata": {},
     "output_type": "display_data"
    },
    {
     "data": {
      "text/plain": "[2.227017641067505,\n 2.3682312965393066,\n 2.2735583782196045,\n 2.019641637802124,\n 2.185349702835083,\n 2.4406111240386963,\n 2.7241580486297607,\n 2.326367139816284,\n 2.5070438385009766,\n 2.2925190925598145,\n 2.3680710792541504,\n 2.3833343982696533,\n 2.4630117416381836,\n 2.394174337387085,\n 2.614377737045288,\n 2.361971855163574,\n 2.432140350341797,\n 2.4476377964019775,\n 2.589867353439331,\n 2.3871922492980957,\n 2.2611258029937744,\n 2.4950554370880127,\n 2.6630613803863525,\n 2.2961297035217285,\n 2.656492233276367,\n 2.3570101261138916,\n 2.498748779296875,\n 2.5663936138153076,\n 2.79748797416687,\n 2.5072853565216064,\n 2.837040662765503,\n 2.6625077724456787,\n 2.3654427528381348,\n 2.7376463413238525,\n 2.718601942062378,\n 2.362912654876709,\n 2.8515989780426025,\n 2.6829464435577393,\n 2.4194090366363525,\n 2.6707894802093506,\n 2.653412342071533,\n 2.6354100704193115,\n 2.8092429637908936,\n 2.913682222366333,\n 3.1256284713745117,\n 3.0712497234344482,\n 2.681640863418579,\n 2.6424520015716553,\n 3.1902010440826416,\n 2.800954818725586,\n 3.220243453979492,\n 2.876878023147583,\n 3.0686428546905518,\n 3.1515815258026123,\n 3.090850830078125,\n 2.80961537361145,\n 3.180760622024536,\n 2.8298466205596924,\n 2.937366485595703,\n 3.549259901046753,\n 3.2118237018585205,\n 3.42852783203125,\n 3.143773317337036,\n 3.2377710342407227,\n 3.183519124984741,\n 3.011711359024048,\n 3.1630709171295166,\n 3.2738380432128906,\n 3.4812088012695312,\n 3.5386197566986084,\n 3.518728017807007,\n 3.4003307819366455,\n 3.2595770359039307,\n 3.17220139503479,\n 3.63132643699646,\n 3.41626238822937,\n 3.4644267559051514,\n 3.4344451427459717,\n 3.437089204788208,\n 3.6229279041290283,\n 3.4881536960601807,\n 3.5988075733184814,\n 3.8469457626342773,\n 3.7980892658233643,\n 3.7406129837036133,\n 3.3233251571655273,\n 3.7622063159942627,\n 3.490840196609497,\n 3.862872362136841,\n 3.7600231170654297,\n 4.0583086013793945,\n 3.9780824184417725,\n 3.6790220737457275,\n 3.941786050796509,\n 3.946743965148926,\n 3.841393232345581,\n 4.000207901000977,\n 4.018218994140625,\n 3.940119743347168,\n 3.8513009548187256,\n 3.719538927078247,\n 3.92999267578125,\n 3.7643280029296875,\n 4.068477630615234,\n 3.936845064163208,\n 4.087460517883301,\n 4.184418201446533,\n 3.7344095706939697,\n 4.231574535369873,\n 4.015834808349609,\n 4.174225807189941,\n 4.110235691070557,\n 4.278989791870117,\n 4.228190898895264,\n 4.167827606201172,\n 4.308341026306152,\n 4.177013874053955,\n 4.221217632293701,\n 4.191816329956055,\n 4.426559925079346,\n 4.452874660491943,\n 4.422390460968018,\n 4.368077754974365,\n 4.539211750030518,\n 4.154691696166992,\n 4.442685604095459,\n 4.536206245422363,\n 4.641241550445557,\n 4.428434371948242,\n 4.32887601852417,\n 4.924939155578613,\n 4.780941009521484,\n 4.6636810302734375,\n 4.791541576385498,\n 4.566371917724609,\n 4.496078968048096,\n 4.825284957885742,\n 5.028626918792725,\n 4.666544437408447,\n 4.842657566070557,\n 4.453455448150635,\n 4.578161716461182,\n 4.679419994354248,\n 5.12606954574585,\n 5.026378154754639,\n 5.297048091888428,\n 4.828470230102539,\n 4.906479835510254,\n 4.9325175285339355,\n 4.767770290374756,\n 5.42598295211792,\n 4.873504161834717,\n 5.070011138916016,\n 5.369062423706055,\n 5.415333271026611,\n 5.565225124359131,\n 5.357785701751709,\n 5.281190395355225,\n 4.961910724639893,\n 5.430973052978516,\n 5.516703128814697,\n 5.53504753112793,\n 5.35434103012085,\n 5.545080184936523,\n 5.733336925506592,\n 5.380089282989502,\n 5.634109020233154,\n 5.486839294433594,\n 5.240757465362549,\n 5.593448638916016,\n 5.638932704925537,\n 5.384222030639648,\n 5.697875499725342,\n 5.73768424987793,\n 5.7353291511535645,\n 5.955976963043213,\n 5.803157329559326,\n 5.647054195404053,\n 5.519705295562744,\n 5.97221565246582,\n 5.821638107299805,\n 5.756398677825928,\n 6.223062038421631,\n 6.030248641967773,\n 6.0806050300598145,\n 5.956876277923584,\n 6.345454692840576,\n 6.246949672698975,\n 6.166902542114258,\n 6.13766622543335,\n 5.835277080535889,\n 6.013741970062256,\n 6.001163482666016,\n 5.970409393310547,\n 6.088864803314209,\n 6.197072982788086,\n 6.214006423950195,\n 6.550816059112549,\n 6.043245792388916,\n 6.320287227630615,\n 6.206037998199463,\n 6.28271484375,\n 6.21572732925415,\n 6.509170055389404,\n 6.429757595062256,\n 6.540700912475586,\n 6.602355480194092,\n 6.356584548950195,\n 6.390352725982666,\n 6.4536452293396,\n 6.503608703613281,\n 6.167015075683594,\n 6.114458084106445,\n 6.273105144500732,\n 6.191930294036865,\n 6.525450229644775,\n 6.297110080718994,\n 6.428245544433594,\n 6.394432544708252,\n 6.406074047088623,\n 6.791534900665283,\n 6.4445271492004395,\n 6.762094020843506,\n 6.4328484535217285,\n 6.479306697845459,\n 6.784059047698975,\n 6.439741134643555,\n 6.367066860198975,\n 6.8410964012146,\n 6.391757488250732,\n 6.784393787384033,\n 6.892049312591553,\n 6.727158069610596,\n 6.641775131225586,\n 6.618471622467041,\n 6.842977523803711,\n 6.771233081817627,\n 6.5738525390625,\n 6.507678985595703,\n 6.8409271240234375,\n 6.7251296043396,\n 6.5059638023376465,\n 6.482814311981201,\n 6.670890808105469,\n 6.739326477050781,\n 6.318794250488281,\n 6.5881571769714355,\n 6.432475566864014,\n 6.637886047363281,\n 6.815493106842041,\n 6.535308837890625,\n 6.601165771484375,\n 6.7586846351623535,\n 6.612548351287842,\n 6.9022440910339355,\n 6.648579120635986,\n 6.685434341430664,\n 6.40111780166626,\n 6.83769416809082,\n 6.629422664642334,\n 6.8546013832092285,\n 6.647217273712158,\n 6.8522725105285645,\n 6.993312835693359,\n 6.841024875640869,\n 6.99042272567749,\n 7.123420238494873,\n 6.950416088104248,\n 6.851957321166992,\n 6.943119525909424,\n 6.801052093505859,\n 6.730411052703857,\n 6.9792046546936035,\n 6.995434284210205,\n 7.094770431518555,\n 7.072031497955322,\n 6.615621566772461,\n 6.807039737701416,\n 6.806583404541016,\n 7.265097141265869,\n 6.800680637359619,\n 6.9163498878479,\n 6.92872428894043,\n 6.902753829956055,\n 6.749763011932373,\n 6.96385383605957,\n 6.521678924560547,\n 7.099576473236084,\n 6.915503978729248,\n 6.7873053550720215]"
     },
     "metadata": {},
     "output_type": "display_data"
    },
    {
     "data": {
      "text/plain": "'23_25  _strain_p1'"
     },
     "metadata": {},
     "output_type": "display_data"
    },
    {
     "data": {
      "text/plain": "[2.221372127532959,\n 2.1141133308410645,\n 2.04807186126709,\n 2.3467226028442383,\n 2.5667333602905273,\n 2.3816699981689453,\n 2.6858913898468018,\n 2.5573108196258545,\n 2.598667621612549,\n 2.6126229763031006,\n 2.3618152141571045,\n 2.106010913848877,\n 2.5044033527374268,\n 2.550589084625244,\n 2.5296082496643066,\n 2.3698434829711914,\n 2.460446834564209,\n 2.3483150005340576,\n 2.78147292137146,\n 2.3869082927703857,\n 2.425320863723755,\n 2.3838231563568115,\n 2.6693758964538574,\n 2.217076539993286,\n 2.630419969558716,\n 2.5161349773406982,\n 2.57023286819458,\n 2.0319504737854004,\n 2.7845358848571777,\n 2.6993327140808105,\n 2.4859585762023926,\n 3.034381866455078,\n 2.5120489597320557,\n 2.80942440032959,\n 2.356557846069336,\n 2.88940167427063,\n 2.6267848014831543,\n 2.421192169189453,\n 2.409921169281006,\n 2.8125243186950684,\n 2.726637363433838,\n 2.9013915061950684,\n 3.2992615699768066,\n 2.9534637928009033,\n 2.923574447631836,\n 3.157806873321533,\n 3.1874911785125732,\n 2.6051418781280518,\n 3.174574375152588,\n 3.1922202110290527,\n 2.989548683166504,\n 3.192720890045166,\n 3.2916131019592285,\n 2.933245897293091,\n 3.278428554534912,\n 3.289189577102661,\n 2.9637973308563232,\n 3.1625304222106934,\n 3.313748598098755,\n 3.6851673126220703,\n 3.197493553161621,\n 3.088395833969116,\n 3.3857712745666504,\n 3.162888765335083,\n 3.1606814861297607,\n 3.1174368858337402,\n 3.573077440261841,\n 3.54402232170105,\n 3.6126911640167236,\n 3.4187121391296387,\n 3.328343629837036,\n 3.6073811054229736,\n 3.60587739944458,\n 3.5016753673553467,\n 3.4531466960906982,\n 3.674992322921753,\n 4.047154426574707,\n 3.6133971214294434,\n 3.661780595779419,\n 3.5541129112243652,\n 3.5247859954833984,\n 3.9301352500915527,\n 3.8871700763702393,\n 3.5994606018066406,\n 4.053346157073975,\n 3.5830554962158203,\n 3.6877217292785645,\n 3.6711182594299316,\n 4.1966962814331055,\n 3.7865586280822754,\n 3.9083340167999268,\n 4.340332984924316,\n 3.7335352897644043,\n 4.184854984283447,\n 4.094429969787598,\n 3.984546661376953,\n 3.987184524536133,\n 3.976527452468872,\n 4.0363240242004395,\n 3.7140746116638184,\n 3.8813586235046387,\n 3.9171829223632812,\n 4.245658874511719,\n 3.9244837760925293,\n 3.950951099395752,\n 4.053719520568848,\n 4.298653602600098,\n 4.220210075378418,\n 4.029662132263184,\n 4.511249542236328,\n 3.973576307296753,\n 4.525733947753906,\n 4.507406234741211,\n 4.194765567779541,\n 4.200747013092041,\n 4.476285934448242,\n 4.335068225860596,\n 4.2356977462768555,\n 4.383788108825684,\n 4.3654561042785645,\n 4.259159088134766,\n 4.650930404663086,\n 4.313655853271484,\n 4.438701629638672,\n 4.345507621765137,\n 4.444216251373291,\n 4.463845252990723,\n 4.72084903717041,\n 4.78334379196167,\n 4.870264053344727,\n 4.808309555053711,\n 4.742628574371338,\n 4.56919002532959,\n 4.712819576263428,\n 4.524945259094238,\n 4.561192512512207,\n 4.764123439788818,\n 5.096628189086914,\n 4.97574520111084,\n 4.68026065826416,\n 4.7188310623168945,\n 4.609960079193115,\n 5.034979820251465,\n 4.874307155609131,\n 5.083315849304199,\n 5.317087173461914,\n 4.997857093811035,\n 5.288527011871338,\n 4.998059272766113,\n 5.398989677429199,\n 5.103726387023926,\n 5.101255416870117,\n 5.167470455169678,\n 5.154372215270996,\n 5.565590858459473,\n 5.52620792388916,\n 5.542289733886719,\n 5.525909900665283,\n 4.8889899253845215,\n 5.4405083656311035,\n 5.319326400756836,\n 5.349180221557617,\n 5.346159934997559,\n 5.435572624206543,\n 5.452103614807129,\n 5.848923683166504,\n 5.675694942474365,\n 5.450146675109863,\n 5.555863380432129,\n 5.495798587799072,\n 5.700181007385254,\n 5.696596622467041,\n 5.593667507171631,\n 5.725864410400391,\n 5.677165985107422,\n 5.9018707275390625,\n 5.595602989196777,\n 5.548737525939941,\n 5.421074867248535,\n 6.146503448486328,\n 5.705073356628418,\n 5.539217948913574,\n 5.780828952789307,\n 5.271751403808594,\n 5.799590110778809,\n 6.064233303070068,\n 6.1019368171691895,\n 6.087123870849609,\n 6.004079341888428,\n 6.339837074279785,\n 6.171296119689941,\n 6.257777214050293,\n 6.151517391204834,\n 5.643328666687012,\n 6.144698619842529,\n 6.174224376678467,\n 6.047137260437012,\n 6.197396278381348,\n 5.6078691482543945,\n 6.379760265350342,\n 6.18337345123291,\n 6.317094802856445,\n 6.5055389404296875,\n 6.4202070236206055,\n 6.389571666717529,\n 6.333827018737793,\n 6.099399566650391,\n 6.492581367492676,\n 6.430388450622559,\n 6.382546424865723,\n 6.1929030418396,\n 6.106982707977295,\n 6.021721839904785,\n 6.630794525146484,\n 5.886504650115967,\n 6.200466156005859,\n 6.445639133453369,\n 6.197251319885254,\n 6.077988624572754,\n 6.6829938888549805,\n 6.392831325531006,\n 6.547202110290527,\n 6.3883185386657715,\n 6.672184944152832,\n 6.5994696617126465,\n 6.517350673675537,\n 6.418609619140625,\n 6.6810102462768555,\n 6.429203987121582,\n 6.444451332092285,\n 6.509664058685303,\n 6.731998443603516,\n 6.515783786773682,\n 6.3307318687438965,\n 6.8082990646362305,\n 6.969346046447754,\n 6.874744415283203,\n 6.308207988739014,\n 6.5895562171936035,\n 6.5669097900390625,\n 6.586550235748291,\n 6.600172996520996,\n 6.576333045959473,\n 6.817198276519775,\n 6.551784515380859,\n 6.571122646331787,\n 6.354306697845459,\n 6.809072971343994,\n 6.539546966552734,\n 6.470794677734375,\n 6.783316135406494,\n 6.380693435668945,\n 6.883673191070557,\n 6.704848289489746,\n 6.733442783355713,\n 6.580221652984619,\n 6.704541206359863,\n 6.375981330871582,\n 6.887438774108887,\n 6.668893337249756,\n 6.423037052154541,\n 6.436301231384277,\n 6.283699035644531,\n 6.8852128982543945,\n 6.916748046875,\n 6.919098854064941,\n 6.652066230773926,\n 6.647749423980713,\n 6.8132476806640625,\n 6.672873020172119,\n 6.840625762939453,\n 6.726703643798828,\n 6.624991416931152,\n 6.485251426696777,\n 6.771186828613281,\n 6.747430324554443,\n 6.353736400604248,\n 6.706345558166504,\n 6.6770734786987305,\n 6.801318168640137,\n 6.725859642028809,\n 6.828099250793457,\n 6.911085605621338,\n 6.792881965637207,\n 7.121377468109131,\n 6.774192810058594,\n 6.400296688079834,\n 6.763474941253662,\n 6.81711483001709,\n 6.907988548278809]"
     },
     "metadata": {},
     "output_type": "display_data"
    },
    {
     "data": {
      "text/plain": "'25_27  _strain_p1'"
     },
     "metadata": {},
     "output_type": "display_data"
    },
    {
     "data": {
      "text/plain": "[2.512493848800659,\n 2.3238871097564697,\n 2.222999334335327,\n 2.5333592891693115,\n 2.573927164077759,\n 2.398571491241455,\n 1.9884294271469116,\n 2.168821334838867,\n 2.5050790309906006,\n 2.2284352779388428,\n 2.4732418060302734,\n 2.4674437046051025,\n 2.4791347980499268,\n 2.4361588954925537,\n 2.2846181392669678,\n 2.3592278957366943,\n 2.631873607635498,\n 2.6703765392303467,\n 2.528444528579712,\n 2.614396810531616,\n 2.7088279724121094,\n 2.652021646499634,\n 2.3529622554779053,\n 2.3464643955230713,\n 2.5472424030303955,\n 2.2459213733673096,\n 2.507709264755249,\n 2.179996967315674,\n 2.7737109661102295,\n 2.583462953567505,\n 2.5721962451934814,\n 2.830653429031372,\n 2.6994035243988037,\n 2.951218843460083,\n 2.602210760116577,\n 2.881643533706665,\n 2.9189417362213135,\n 3.013293981552124,\n 2.9092235565185547,\n 2.958721876144409,\n 3.117291212081909,\n 3.076631784439087,\n 2.8650734424591064,\n 2.69976806640625,\n 2.9909026622772217,\n 2.929870367050171,\n 3.0626060962677,\n 3.1886260509490967,\n 3.1319005489349365,\n 3.3829376697540283,\n 2.9565255641937256,\n 3.1223504543304443,\n 3.1133649349212646,\n 2.92832350730896,\n 2.9809653759002686,\n 3.317922830581665,\n 3.3327629566192627,\n 3.047060251235962,\n 3.5239694118499756,\n 3.436642646789551,\n 3.3628416061401367,\n 3.4415464401245117,\n 3.1140410900115967,\n 3.6032822132110596,\n 3.4101858139038086,\n 3.699525833129883,\n 3.42160964012146,\n 3.545940399169922,\n 3.7052345275878906,\n 3.250901460647583,\n 3.3850038051605225,\n 3.2755162715911865,\n 3.569765329360962,\n 3.655085325241089,\n 3.3711254596710205,\n 3.8008015155792236,\n 3.665940284729004,\n 3.4759624004364014,\n 3.851217269897461,\n 3.5034573078155518,\n 3.875619649887085,\n 3.609834671020508,\n 4.0891547203063965,\n 3.563007354736328,\n 3.6915199756622314,\n 3.7577438354492188,\n 3.71183705329895,\n 3.9368374347686768,\n 3.9162991046905518,\n 3.802170753479004,\n 3.9415814876556396,\n 3.8862669467926025,\n 3.7984163761138916,\n 4.079087257385254,\n 3.8308982849121094,\n 4.02700662612915,\n 4.018118381500244,\n 3.84037184715271,\n 4.188628673553467,\n 4.421431064605713,\n 4.190856456756592,\n 4.327308654785156,\n 4.416006565093994,\n 3.8841354846954346,\n 4.444713592529297,\n 4.365708827972412,\n 4.140248775482178,\n 4.352734565734863,\n 4.08472204208374,\n 4.518040180206299,\n 4.392658710479736,\n 4.420039653778076,\n 4.571411609649658,\n 4.569741725921631,\n 4.350371837615967,\n 4.801490783691406,\n 4.4819416999816895,\n 4.42502498626709,\n 4.5978312492370605,\n 4.616968631744385,\n 4.6382317543029785,\n 4.68226957321167,\n 4.926621913909912,\n 4.739573001861572,\n 4.469172477722168,\n 4.876091480255127,\n 4.895153522491455,\n 4.659460067749023,\n 4.768133640289307,\n 5.008436679840088,\n 4.538120746612549,\n 5.2180094718933105,\n 4.930553436279297,\n 4.693997859954834,\n 4.862337112426758,\n 4.856698989868164,\n 4.653682231903076,\n 5.012691020965576,\n 4.878146648406982,\n 4.923668384552002,\n 5.173388957977295,\n 4.7197394371032715,\n 5.1338019371032715,\n 5.07910680770874,\n 5.474308490753174,\n 5.182718753814697,\n 5.195286273956299,\n 5.331130027770996,\n 5.356239318847656,\n 5.549945831298828,\n 5.128510475158691,\n 5.244359493255615,\n 5.371768951416016,\n 5.28164005279541,\n 5.3468499183654785,\n 5.783491134643555,\n 5.801242351531982,\n 5.583885192871094,\n 5.502195358276367,\n 5.790668487548828,\n 5.518917083740234,\n 5.792128086090088,\n 5.801677703857422,\n 5.969341278076172,\n 5.435932636260986,\n 5.707630157470703,\n 5.778223514556885,\n 5.754674434661865,\n 5.581225872039795,\n 5.676662921905518,\n 5.687577724456787,\n 5.4736247062683105,\n 5.549978733062744,\n 5.739134311676025,\n 6.039079189300537,\n 5.969423770904541,\n 5.710273265838623,\n 5.926316738128662,\n 5.832730770111084,\n 5.859731197357178,\n 5.971643924713135,\n 6.0492777824401855,\n 6.034402847290039,\n 5.945913791656494,\n 6.178097248077393,\n 5.9938740730285645,\n 6.04864501953125,\n 6.182016849517822,\n 6.069156169891357,\n 6.307762145996094,\n 6.163448333740234,\n 6.498353958129883,\n 6.374776840209961,\n 5.992683410644531,\n 6.31111478805542,\n 6.445573806762695,\n 6.123206615447998,\n 6.091115951538086,\n 6.046574115753174,\n 6.108314037322998,\n 6.2315850257873535,\n 6.220945835113525,\n 6.222207546234131,\n 6.056587219238281,\n 6.223569393157959,\n 6.21930456161499,\n 6.265944957733154,\n 6.242835521697998,\n 6.417103290557861,\n 6.627120494842529,\n 6.361877918243408,\n 6.4413323402404785,\n 6.162261486053467,\n 6.427652835845947,\n 6.286994457244873,\n 6.2145676612854,\n 6.263460636138916,\n 6.2569193840026855,\n 6.338710308074951,\n 6.413934230804443,\n 6.494476318359375,\n 6.390756130218506,\n 6.507011413574219,\n 6.578824520111084,\n 6.5937347412109375,\n 6.4737467765808105,\n 6.760037899017334,\n 6.7045512199401855,\n 6.468313694000244,\n 6.551555633544922,\n 6.37006139755249,\n 6.536147594451904,\n 6.819018840789795,\n 6.681382656097412,\n 6.572628498077393,\n 6.563160419464111,\n 6.608572483062744,\n 6.584513187408447,\n 6.441995143890381,\n 6.34884786605835,\n 6.7343621253967285,\n 6.500852584838867,\n 6.76433801651001,\n 6.969838619232178,\n 6.5479865074157715,\n 6.677653789520264,\n 6.322993755340576,\n 6.438983917236328,\n 6.250455379486084,\n 6.6603240966796875,\n 6.822495937347412,\n 6.657980442047119,\n 6.567535877227783,\n 6.8311333656311035,\n 6.753345489501953,\n 6.619436740875244,\n 6.606317043304443,\n 6.913515567779541,\n 6.295776844024658,\n 6.899115085601807,\n 6.512436389923096,\n 6.5049662590026855,\n 6.423320293426514,\n 6.721652507781982,\n 6.672647476196289,\n 6.840267658233643,\n 6.76553201675415,\n 6.4505615234375,\n 6.604161739349365,\n 6.625779628753662,\n 6.430713653564453,\n 6.446238040924072,\n 6.775125026702881,\n 6.457557201385498,\n 6.579038143157959,\n 6.562436580657959,\n 6.552448272705078,\n 6.6398773193359375,\n 6.423557758331299,\n 6.518205165863037,\n 6.72313928604126,\n 7.004122257232666,\n 6.490348815917969,\n 6.5424675941467285,\n 6.566341400146484,\n 6.656721591949463,\n 6.526856899261475,\n 6.332677841186523,\n 6.522622585296631,\n 6.332295894622803]"
     },
     "metadata": {},
     "output_type": "display_data"
    },
    {
     "data": {
      "text/plain": "'27_29  _strain_p1'"
     },
     "metadata": {},
     "output_type": "display_data"
    },
    {
     "data": {
      "text/plain": "[2.712893486022949,\n 2.1556217670440674,\n 2.258690357208252,\n 2.4078009128570557,\n 2.6532559394836426,\n 2.395165205001831,\n 2.454338550567627,\n 2.5204856395721436,\n 2.339268445968628,\n 2.4403488636016846,\n 2.5967981815338135,\n 2.3695778846740723,\n 2.3574700355529785,\n 2.4203455448150635,\n 2.411057710647583,\n 2.5144925117492676,\n 2.8203349113464355,\n 2.28016996383667,\n 2.660304307937622,\n 2.4992690086364746,\n 2.596156597137451,\n 2.4776740074157715,\n 2.561297655105591,\n 2.4336347579956055,\n 2.5540554523468018,\n 2.4572830200195312,\n 2.791133165359497,\n 2.3157896995544434,\n 2.4951579570770264,\n 2.5698294639587402,\n 2.64607572555542,\n 2.6777045726776123,\n 2.6680593490600586,\n 2.93878436088562,\n 2.8613038063049316,\n 2.7409064769744873,\n 2.5596675872802734,\n 2.966984510421753,\n 3.0597383975982666,\n 3.1205978393554688,\n 2.9076197147369385,\n 3.2245891094207764,\n 2.9043893814086914,\n 2.903661012649536,\n 3.1943109035491943,\n 3.070107936859131,\n 3.04915189743042,\n 3.060551881790161,\n 3.144160747528076,\n 3.170707941055298,\n 3.125204563140869,\n 3.3948447704315186,\n 3.10457181930542,\n 3.368713855743408,\n 3.2555606365203857,\n 3.2247397899627686,\n 3.1750004291534424,\n 2.914508104324341,\n 3.009427547454834,\n 3.1173298358917236,\n 3.581042528152466,\n 3.432833194732666,\n 3.174337863922119,\n 3.3032028675079346,\n 3.522759199142456,\n 3.777205228805542,\n 3.698775053024292,\n 3.77880597114563,\n 3.733644962310791,\n 3.4789187908172607,\n 3.782147169113159,\n 3.3357882499694824,\n 3.6621856689453125,\n 3.8143997192382812,\n 3.6038951873779297,\n 3.8784801959991455,\n 3.9341721534729004,\n 3.815194606781006,\n 3.8819899559020996,\n 3.695474147796631,\n 3.7099952697753906,\n 3.802380323410034,\n 3.8697922229766846,\n 3.636455535888672,\n 3.8606033325195312,\n 3.7652084827423096,\n 3.934077501296997,\n 3.7185943126678467,\n 3.2128570079803467,\n 3.73573637008667,\n 3.926309108734131,\n 3.813599109649658,\n 3.927926540374756,\n 3.9917304515838623,\n 3.7275471687316895,\n 3.8678600788116455,\n 4.168777942657471,\n 3.811122179031372,\n 3.9511795043945312,\n 4.711724758148193,\n 4.334582328796387,\n 4.185429573059082,\n 4.471363544464111,\n 4.278785705566406,\n 3.8336822986602783,\n 4.2811198234558105,\n 4.377737522125244,\n 4.3588762283325195,\n 4.270902633666992,\n 4.454550743103027,\n 4.576350688934326,\n 4.577130317687988,\n 4.535340785980225,\n 4.235086917877197,\n 4.370510101318359,\n 4.734267234802246,\n 4.905671119689941,\n 4.656184196472168,\n 4.310420036315918,\n 4.684393882751465,\n 4.586965560913086,\n 4.683774948120117,\n 4.860867500305176,\n 4.593846321105957,\n 4.709247589111328,\n 4.958163261413574,\n 4.626429080963135,\n 4.5811662673950195,\n 4.89805269241333,\n 4.950509071350098,\n 4.6768341064453125,\n 4.822601318359375,\n 4.956634044647217,\n 4.96311092376709,\n 5.118281364440918,\n 4.7811102867126465,\n 5.1026716232299805,\n 5.092492580413818,\n 5.046614170074463,\n 5.393543243408203,\n 5.716099739074707,\n 5.529946327209473,\n 5.231231689453125,\n 5.034907817840576,\n 5.185624122619629,\n 5.189680099487305,\n 5.446225643157959,\n 5.218289375305176,\n 5.299930095672607,\n 5.718418121337891,\n 5.387982368469238,\n 5.2666754722595215,\n 5.336985111236572,\n 5.409955024719238,\n 5.48935604095459,\n 5.710599422454834,\n 5.417261600494385,\n 5.664707183837891,\n 5.608537673950195,\n 5.737961292266846,\n 6.065420627593994,\n 5.540581703186035,\n 5.340453147888184,\n 6.05643367767334,\n 5.636261940002441,\n 5.526198387145996,\n 5.856480598449707,\n 5.872654914855957,\n 5.7955780029296875,\n 6.17490291595459,\n 6.522181510925293,\n 5.880663871765137,\n 5.717457294464111,\n 5.768445014953613,\n 6.097393035888672,\n 6.096088409423828,\n 5.759558200836182,\n 5.883498191833496,\n 5.819264888763428,\n 5.777354717254639,\n 6.184239387512207,\n 6.053986072540283,\n 6.236504554748535,\n 6.325563430786133,\n 6.389886856079102,\n 5.8873796463012695,\n 6.300583362579346,\n 5.846862316131592,\n 6.3353271484375,\n 6.106851577758789,\n 6.354086875915527,\n 6.1942033767700195,\n 6.241039752960205,\n 6.4646406173706055,\n 6.269591331481934,\n 6.558408260345459,\n 6.472271919250488,\n 6.393745422363281,\n 6.29238224029541,\n 6.390618324279785,\n 6.191540718078613,\n 6.026159763336182,\n 6.258251667022705,\n 6.493887424468994,\n 6.418321132659912,\n 6.424003601074219,\n 6.4931488037109375,\n 6.265845775604248,\n 6.322050094604492,\n 6.563555717468262,\n 6.091913223266602,\n 6.97961950302124,\n 6.347297668457031,\n 6.305540561676025,\n 6.913792610168457,\n 6.4343695640563965,\n 6.614495754241943,\n 6.235379695892334,\n 6.538047790527344,\n 6.594341278076172,\n 6.525635719299316,\n 6.8017988204956055,\n 6.610226631164551,\n 6.205923080444336,\n 6.317627906799316,\n 6.525943756103516,\n 6.087136268615723,\n 7.001333713531494,\n 6.527062892913818,\n 6.425392150878906,\n 6.5092363357543945,\n 6.712669372558594,\n 6.472189426422119,\n 6.844291687011719,\n 6.132559299468994,\n 6.777162075042725,\n 6.69719934463501,\n 6.560756683349609,\n 6.543205261230469,\n 6.524391174316406,\n 6.6744256019592285,\n 6.761383056640625,\n 6.9347944259643555,\n 6.576029300689697,\n 7.006674766540527,\n 6.411513328552246,\n 6.176699638366699,\n 6.63909387588501,\n 6.4833664894104,\n 6.491617679595947,\n 6.880331516265869,\n 6.8561553955078125,\n 6.605233192443848,\n 6.7749505043029785,\n 6.498531341552734,\n 6.470739841461182,\n 6.789370536804199,\n 6.6799116134643555,\n 6.5246686935424805,\n 6.302122116088867,\n 6.7183637619018555,\n 6.574162483215332,\n 6.581984519958496,\n 6.908835411071777,\n 6.3182244300842285,\n 6.597009181976318,\n 6.914529323577881,\n 6.804172515869141,\n 6.743137359619141,\n 6.650595664978027,\n 6.875924587249756,\n 6.606849670410156,\n 6.664834499359131,\n 6.6947431564331055,\n 6.656854152679443,\n 6.903511047363281,\n 6.4128522872924805,\n 6.585193634033203,\n 6.7598090171813965,\n 6.649755001068115,\n 6.6905198097229,\n 7.061348915100098,\n 6.556423187255859,\n 6.509644508361816,\n 6.596332550048828,\n 6.636993408203125,\n 6.6168532371521,\n 7.06744384765625,\n 6.8745551109313965,\n 6.30519437789917]"
     },
     "metadata": {},
     "output_type": "display_data"
    },
    {
     "data": {
      "text/plain": "'29_31  _strain_p1'"
     },
     "metadata": {},
     "output_type": "display_data"
    },
    {
     "data": {
      "text/plain": "[2.7769410610198975,\n 1.7285304069519043,\n 1.7194411754608154,\n 1.7531927824020386,\n 1.9014679193496704,\n 2.4957659244537354,\n 2.555145740509033,\n 2.219791889190674,\n 1.9425506591796875,\n 2.4322469234466553,\n 2.4206173419952393,\n 1.9488792419433594,\n 2.1792731285095215,\n 1.8740819692611694,\n 3.033059597015381,\n 2.4972970485687256,\n 2.915632724761963,\n 1.4205780029296875,\n 1.8822112083435059,\n 1.557383418083191,\n 1.5493872165679932,\n 2.130811929702759,\n 2.961758852005005,\n 2.020193099975586,\n 2.339583158493042,\n 1.6559700965881348,\n 2.143705129623413,\n 2.1740877628326416,\n 3.0346479415893555,\n 2.5718798637390137,\n 2.190720558166504,\n 2.7185726165771484,\n 2.5599708557128906,\n 1.6385667324066162,\n 2.9907913208007812,\n 2.877936840057373,\n 2.284130334854126,\n 3.0359439849853516,\n 2.341371774673462,\n 2.4756522178649902,\n 2.1830837726593018,\n 2.0839905738830566,\n 2.717588424682617,\n 2.7950539588928223,\n 2.920443534851074,\n 2.787421226501465,\n 2.4216580390930176,\n 2.514354705810547,\n 2.4979896545410156,\n 2.3650588989257812,\n 2.3554556369781494,\n 3.783165454864502,\n 2.1065077781677246,\n 2.484936237335205,\n 3.8862290382385254,\n 3.309438705444336,\n 2.8684957027435303,\n 3.121086359024048,\n 2.6679623126983643,\n 3.1514859199523926,\n 3.88727068901062,\n 3.935866355895996,\n 3.338477849960327,\n 2.782602310180664,\n 2.7866270542144775,\n 2.7343757152557373,\n 3.7400968074798584,\n 2.3635993003845215,\n 2.97410249710083,\n 2.8482420444488525,\n 3.2571840286254883,\n 3.27714204788208,\n 2.7939093112945557,\n 3.420642852783203,\n 2.8985042572021484,\n 3.662405014038086,\n 2.8861496448516846,\n 4.173920631408691,\n 2.756606101989746,\n 2.629879951477051,\n 3.552456855773926,\n 3.590427875518799,\n 2.474067449569702,\n 3.327077865600586,\n 3.128281593322754,\n 2.478733777999878,\n 2.8490421772003174,\n 3.1659247875213623,\n 2.691023588180542,\n 3.77099347114563,\n 3.636770725250244,\n 3.0113980770111084,\n 3.3856658935546875,\n 3.52974534034729,\n 3.7676589488983154,\n 3.522285223007202,\n 3.8233776092529297,\n 3.0491440296173096,\n 3.074861526489258,\n 3.521225929260254,\n 3.5853588581085205,\n 3.936819553375244,\n 3.512195587158203,\n 4.156115531921387,\n 2.6926584243774414,\n 3.2667369842529297,\n 4.071751594543457,\n 3.1874923706054688,\n 3.3487532138824463,\n 3.8649485111236572,\n 3.897592544555664,\n 4.14838981628418,\n 4.779870986938477,\n 2.902311325073242,\n 2.605950117111206,\n 3.6899468898773193,\n 4.2319464683532715,\n 5.101764678955078,\n 4.456928253173828,\n 4.7140092849731445,\n 4.877017974853516,\n 3.398832321166992,\n 5.30016565322876,\n 4.410876274108887,\n 3.748609781265259,\n 4.974781513214111,\n 5.010178089141846,\n 3.617611885070801,\n 3.6879467964172363,\n 4.360937118530273,\n 3.8504419326782227,\n 4.419570446014404,\n 4.636741638183594,\n 5.268543243408203,\n 4.976205348968506,\n 4.168415069580078,\n 4.45572566986084,\n 4.511157989501953,\n 4.406744956970215,\n 5.173318862915039,\n 5.228246212005615,\n 6.158452033996582,\n 4.461353778839111,\n 4.317255020141602,\n 4.560035705566406,\n 4.454516887664795,\n 4.42854118347168,\n 4.882411003112793,\n 4.930485248565674,\n 4.065976142883301,\n 4.624746322631836,\n 4.0558061599731445,\n 4.420895576477051,\n 4.849407196044922,\n 4.8971405029296875,\n 4.811223983764648,\n 5.152575492858887,\n 5.3379292488098145,\n 5.75547981262207,\n 4.336278438568115,\n 6.6423492431640625,\n 5.791677951812744,\n 4.381881237030029,\n 5.607452392578125,\n 4.666602611541748,\n 4.4357709884643555,\n 4.639808654785156,\n 5.254924297332764,\n 4.539633274078369,\n 5.797729015350342,\n 5.294747829437256,\n 4.848934173583984,\n 5.479475498199463,\n 4.9600114822387695,\n 5.073769569396973,\n 5.235366344451904,\n 5.024663925170898,\n 5.413633823394775,\n 4.499346733093262,\n 5.667613506317139,\n 7.228471755981445,\n 5.98943567276001,\n 6.485391139984131,\n 5.587141513824463,\n 6.925394535064697,\n 4.490771293640137,\n 5.254369258880615,\n 4.874248504638672,\n 5.84852933883667,\n 5.556371212005615,\n 5.1653594970703125,\n 5.495819091796875,\n 5.8070220947265625,\n 7.543395042419434,\n 5.9875311851501465,\n 5.83120584487915,\n 5.929399490356445,\n 6.503846645355225,\n 5.523194789886475,\n 5.109840393066406,\n 5.994828224182129,\n 5.012506484985352,\n 5.409189224243164,\n 5.864428997039795,\n 5.263373374938965,\n 5.193878173828125,\n 6.498053073883057,\n 4.966442108154297,\n 4.843988418579102,\n 5.3955888748168945,\n 5.537439823150635,\n 7.224670886993408,\n 6.511345863342285,\n 6.2308478355407715,\n 6.970966339111328,\n 6.199306011199951,\n 6.591075897216797,\n 5.50642728805542,\n 5.79499626159668,\n 5.980445384979248,\n 6.105610370635986,\n 6.37479829788208,\n 7.099655628204346,\n 5.416839599609375,\n 6.452409744262695,\n 6.8042378425598145,\n 5.13002347946167,\n 7.02294397354126,\n 5.821599960327148,\n 6.6534810066223145,\n 5.647251129150391,\n 6.064272403717041,\n 6.3465399742126465,\n 6.134725093841553,\n 4.471695423126221,\n 6.063182830810547,\n 6.227478504180908,\n 5.902292728424072,\n 6.062870025634766,\n 6.31840181350708,\n 6.142609596252441,\n 6.60504674911499,\n 6.230270862579346,\n 5.593287467956543,\n 6.515835762023926,\n 5.910772800445557,\n 5.686308860778809,\n 7.602803707122803,\n 4.708713531494141,\n 5.504664421081543,\n 6.465694427490234,\n 6.4750590324401855,\n 5.911959648132324,\n 6.618185043334961,\n 5.759798049926758,\n 6.026660442352295,\n 5.595974445343018,\n 5.934393405914307,\n 6.664936542510986,\n 6.082570552825928,\n 6.651369571685791,\n 6.060912609100342,\n 5.973425388336182,\n 6.938034534454346,\n 6.121300220489502,\n 6.083355903625488,\n 6.651355266571045,\n 5.478067874908447,\n 6.124263286590576,\n 6.075611114501953,\n 7.202428817749023,\n 7.06391716003418,\n 5.423603534698486,\n 6.086505889892578,\n 6.503492832183838,\n 5.714785099029541,\n 5.140102386474609,\n 5.610828399658203,\n 6.17385721206665,\n 6.624359130859375,\n 5.504695892333984,\n 5.878378868103027,\n 6.249475955963135,\n 5.8027119636535645,\n 5.720620632171631,\n 5.807138919830322,\n 5.282717227935791,\n 5.647836685180664,\n 6.72059440612793,\n 5.462975025177002]"
     },
     "metadata": {},
     "output_type": "display_data"
    },
    {
     "data": {
      "text/plain": "'31_33  _strain_p1'"
     },
     "metadata": {},
     "output_type": "display_data"
    },
    {
     "data": {
      "text/plain": "[2.7769410610198975,\n 1.7285304069519043,\n 1.7194411754608154,\n 1.7531927824020386,\n 1.9014679193496704,\n 2.4957659244537354,\n 2.555145740509033,\n 2.219791889190674,\n 1.9425506591796875,\n 2.4322469234466553,\n 2.4206173419952393,\n 1.9488792419433594,\n 2.1792731285095215,\n 1.8740819692611694,\n 3.033059597015381,\n 2.4972970485687256,\n 2.915632724761963,\n 1.4205780029296875,\n 1.8822112083435059,\n 1.557383418083191,\n 1.5493872165679932,\n 2.130811929702759,\n 2.961758852005005,\n 2.020193099975586,\n 2.339583158493042,\n 1.6559700965881348,\n 2.143705129623413,\n 2.1740877628326416,\n 3.0346479415893555,\n 2.5718798637390137,\n 2.190720558166504,\n 2.7185726165771484,\n 2.5599708557128906,\n 1.6385667324066162,\n 2.9907913208007812,\n 2.877936840057373,\n 2.284130334854126,\n 3.0359439849853516,\n 2.341371774673462,\n 2.4756522178649902,\n 2.1830837726593018,\n 2.0839905738830566,\n 2.717588424682617,\n 2.7950539588928223,\n 2.920443534851074,\n 2.787421226501465,\n 2.4216580390930176,\n 2.514354705810547,\n 2.4979896545410156,\n 2.3650588989257812,\n 2.3554556369781494,\n 3.783165454864502,\n 2.1065077781677246,\n 2.484936237335205,\n 3.8862290382385254,\n 3.309438705444336,\n 2.8684957027435303,\n 3.121086359024048,\n 2.6679623126983643,\n 3.1514859199523926,\n 3.88727068901062,\n 3.935866355895996,\n 3.338477849960327,\n 2.782602310180664,\n 2.7866270542144775,\n 2.7343757152557373,\n 3.7400968074798584,\n 2.3635993003845215,\n 2.97410249710083,\n 2.8482420444488525,\n 3.2571840286254883,\n 3.27714204788208,\n 2.7939093112945557,\n 3.420642852783203,\n 2.8985042572021484,\n 3.662405014038086,\n 2.8861496448516846,\n 4.173920631408691,\n 2.756606101989746,\n 2.629879951477051,\n 3.552456855773926,\n 3.590427875518799,\n 2.474067449569702,\n 3.327077865600586,\n 3.128281593322754,\n 2.478733777999878,\n 2.8490421772003174,\n 3.1659247875213623,\n 2.691023588180542,\n 3.77099347114563,\n 3.636770725250244,\n 3.0113980770111084,\n 3.3856658935546875,\n 3.52974534034729,\n 3.7676589488983154,\n 3.522285223007202,\n 3.8233776092529297,\n 3.0491440296173096,\n 3.074861526489258,\n 3.521225929260254,\n 3.5853588581085205,\n 3.936819553375244,\n 3.512195587158203,\n 4.156115531921387,\n 2.6926584243774414,\n 3.2667369842529297,\n 4.071751594543457,\n 3.1874923706054688,\n 3.3487532138824463,\n 3.8649485111236572,\n 3.897592544555664,\n 4.14838981628418,\n 4.779870986938477,\n 2.902311325073242,\n 2.605950117111206,\n 3.6899468898773193,\n 4.2319464683532715,\n 5.101764678955078,\n 4.456928253173828,\n 4.7140092849731445,\n 4.877017974853516,\n 3.398832321166992,\n 5.30016565322876,\n 4.410876274108887,\n 3.748609781265259,\n 4.974781513214111,\n 5.010178089141846,\n 3.617611885070801,\n 3.6879467964172363,\n 4.360937118530273,\n 3.8504419326782227,\n 4.419570446014404,\n 4.636741638183594,\n 5.268543243408203,\n 4.976205348968506,\n 4.168415069580078,\n 4.45572566986084,\n 4.511157989501953,\n 4.406744956970215,\n 5.173318862915039,\n 5.228246212005615,\n 6.158452033996582,\n 4.461353778839111,\n 4.317255020141602,\n 4.560035705566406,\n 4.454516887664795,\n 4.42854118347168,\n 4.882411003112793,\n 4.930485248565674,\n 4.065976142883301,\n 4.624746322631836,\n 4.0558061599731445,\n 4.420895576477051,\n 4.849407196044922,\n 4.8971405029296875,\n 4.811223983764648,\n 5.152575492858887,\n 5.3379292488098145,\n 5.75547981262207,\n 4.336278438568115,\n 6.6423492431640625,\n 5.791677951812744,\n 4.381881237030029,\n 5.607452392578125,\n 4.666602611541748,\n 4.4357709884643555,\n 4.639808654785156,\n 5.254924297332764,\n 4.539633274078369,\n 5.797729015350342,\n 5.294747829437256,\n 4.848934173583984,\n 5.479475498199463,\n 4.9600114822387695,\n 5.073769569396973,\n 5.235366344451904,\n 5.024663925170898,\n 5.413633823394775,\n 4.499346733093262,\n 5.667613506317139,\n 7.228471755981445,\n 5.98943567276001,\n 6.485391139984131,\n 5.587141513824463,\n 6.925394535064697,\n 4.490771293640137,\n 5.254369258880615,\n 4.874248504638672,\n 5.84852933883667,\n 5.556371212005615,\n 5.1653594970703125,\n 5.495819091796875,\n 5.8070220947265625,\n 7.543395042419434,\n 5.9875311851501465,\n 5.83120584487915,\n 5.929399490356445,\n 6.503846645355225,\n 5.523194789886475,\n 5.109840393066406,\n 5.994828224182129,\n 5.012506484985352,\n 5.409189224243164,\n 5.864428997039795,\n 5.263373374938965,\n 5.193878173828125,\n 6.498053073883057,\n 4.966442108154297,\n 4.843988418579102,\n 5.3955888748168945,\n 5.537439823150635,\n 7.224670886993408,\n 6.511345863342285,\n 6.2308478355407715,\n 6.970966339111328,\n 6.199306011199951,\n 6.591075897216797,\n 5.50642728805542,\n 5.79499626159668,\n 5.980445384979248,\n 6.105610370635986,\n 6.37479829788208,\n 7.099655628204346,\n 5.416839599609375,\n 6.452409744262695,\n 6.8042378425598145,\n 5.13002347946167,\n 7.02294397354126,\n 5.821599960327148,\n 6.6534810066223145,\n 5.647251129150391,\n 6.064272403717041,\n 6.3465399742126465,\n 6.134725093841553,\n 4.471695423126221,\n 6.063182830810547,\n 6.227478504180908,\n 5.902292728424072,\n 6.062870025634766,\n 6.31840181350708,\n 6.142609596252441,\n 6.60504674911499,\n 6.230270862579346,\n 5.593287467956543,\n 6.515835762023926,\n 5.910772800445557,\n 5.686308860778809,\n 7.602803707122803,\n 4.708713531494141,\n 5.504664421081543,\n 6.465694427490234,\n 6.4750590324401855,\n 5.911959648132324,\n 6.618185043334961,\n 5.759798049926758,\n 6.026660442352295,\n 5.595974445343018,\n 5.934393405914307,\n 6.664936542510986,\n 6.082570552825928,\n 6.651369571685791,\n 6.060912609100342,\n 5.973425388336182,\n 6.938034534454346,\n 6.121300220489502,\n 6.083355903625488,\n 6.651355266571045,\n 5.478067874908447,\n 6.124263286590576,\n 6.075611114501953,\n 7.202428817749023,\n 7.06391716003418,\n 5.423603534698486,\n 6.086505889892578,\n 6.503492832183838,\n 5.714785099029541,\n 5.140102386474609,\n 5.610828399658203,\n 6.17385721206665,\n 6.624359130859375,\n 5.504695892333984,\n 5.878378868103027,\n 6.249475955963135,\n 5.8027119636535645,\n 5.720620632171631,\n 5.807138919830322,\n 5.282717227935791,\n 5.647836685180664,\n 6.72059440612793,\n 5.462975025177002]"
     },
     "metadata": {},
     "output_type": "display_data"
    },
    {
     "data": {
      "text/plain": "'33_35  _strain_p1'"
     },
     "metadata": {},
     "output_type": "display_data"
    },
    {
     "data": {
      "text/plain": "[2.7769410610198975,\n 1.7285304069519043,\n 1.7194411754608154,\n 1.7531927824020386,\n 1.9014679193496704,\n 2.4957659244537354,\n 2.555145740509033,\n 2.219791889190674,\n 1.9425506591796875,\n 2.4322469234466553,\n 2.4206173419952393,\n 1.9488792419433594,\n 2.1792731285095215,\n 1.8740819692611694,\n 3.033059597015381,\n 2.4972970485687256,\n 2.915632724761963,\n 1.4205780029296875,\n 1.8822112083435059,\n 1.557383418083191,\n 1.5493872165679932,\n 2.130811929702759,\n 2.961758852005005,\n 2.020193099975586,\n 2.339583158493042,\n 1.6559700965881348,\n 2.143705129623413,\n 2.1740877628326416,\n 3.0346479415893555,\n 2.5718798637390137,\n 2.190720558166504,\n 2.7185726165771484,\n 2.5599708557128906,\n 1.6385667324066162,\n 2.9907913208007812,\n 2.877936840057373,\n 2.284130334854126,\n 3.0359439849853516,\n 2.341371774673462,\n 2.4756522178649902,\n 2.1830837726593018,\n 2.0839905738830566,\n 2.717588424682617,\n 2.7950539588928223,\n 2.920443534851074,\n 2.787421226501465,\n 2.4216580390930176,\n 2.514354705810547,\n 2.4979896545410156,\n 2.3650588989257812,\n 2.3554556369781494,\n 3.783165454864502,\n 2.1065077781677246,\n 2.484936237335205,\n 3.8862290382385254,\n 3.309438705444336,\n 2.8684957027435303,\n 3.121086359024048,\n 2.6679623126983643,\n 3.1514859199523926,\n 3.88727068901062,\n 3.935866355895996,\n 3.338477849960327,\n 2.782602310180664,\n 2.7866270542144775,\n 2.7343757152557373,\n 3.7400968074798584,\n 2.3635993003845215,\n 2.97410249710083,\n 2.8482420444488525,\n 3.2571840286254883,\n 3.27714204788208,\n 2.7939093112945557,\n 3.420642852783203,\n 2.8985042572021484,\n 3.662405014038086,\n 2.8861496448516846,\n 4.173920631408691,\n 2.756606101989746,\n 2.629879951477051,\n 3.552456855773926,\n 3.590427875518799,\n 2.474067449569702,\n 3.327077865600586,\n 3.128281593322754,\n 2.478733777999878,\n 2.8490421772003174,\n 3.1659247875213623,\n 2.691023588180542,\n 3.77099347114563,\n 3.636770725250244,\n 3.0113980770111084,\n 3.3856658935546875,\n 3.52974534034729,\n 3.7676589488983154,\n 3.522285223007202,\n 3.8233776092529297,\n 3.0491440296173096,\n 3.074861526489258,\n 3.521225929260254,\n 3.5853588581085205,\n 3.936819553375244,\n 3.512195587158203,\n 4.156115531921387,\n 2.6926584243774414,\n 3.2667369842529297,\n 4.071751594543457,\n 3.1874923706054688,\n 3.3487532138824463,\n 3.8649485111236572,\n 3.897592544555664,\n 4.14838981628418,\n 4.779870986938477,\n 2.902311325073242,\n 2.605950117111206,\n 3.6899468898773193,\n 4.2319464683532715,\n 5.101764678955078,\n 4.456928253173828,\n 4.7140092849731445,\n 4.877017974853516,\n 3.398832321166992,\n 5.30016565322876,\n 4.410876274108887,\n 3.748609781265259,\n 4.974781513214111,\n 5.010178089141846,\n 3.617611885070801,\n 3.6879467964172363,\n 4.360937118530273,\n 3.8504419326782227,\n 4.419570446014404,\n 4.636741638183594,\n 5.268543243408203,\n 4.976205348968506,\n 4.168415069580078,\n 4.45572566986084,\n 4.511157989501953,\n 4.406744956970215,\n 5.173318862915039,\n 5.228246212005615,\n 6.158452033996582,\n 4.461353778839111,\n 4.317255020141602,\n 4.560035705566406,\n 4.454516887664795,\n 4.42854118347168,\n 4.882411003112793,\n 4.930485248565674,\n 4.065976142883301,\n 4.624746322631836,\n 4.0558061599731445,\n 4.420895576477051,\n 4.849407196044922,\n 4.8971405029296875,\n 4.811223983764648,\n 5.152575492858887,\n 5.3379292488098145,\n 5.75547981262207,\n 4.336278438568115,\n 6.6423492431640625,\n 5.791677951812744,\n 4.381881237030029,\n 5.607452392578125,\n 4.666602611541748,\n 4.4357709884643555,\n 4.639808654785156,\n 5.254924297332764,\n 4.539633274078369,\n 5.797729015350342,\n 5.294747829437256,\n 4.848934173583984,\n 5.479475498199463,\n 4.9600114822387695,\n 5.073769569396973,\n 5.235366344451904,\n 5.024663925170898,\n 5.413633823394775,\n 4.499346733093262,\n 5.667613506317139,\n 7.228471755981445,\n 5.98943567276001,\n 6.485391139984131,\n 5.587141513824463,\n 6.925394535064697,\n 4.490771293640137,\n 5.254369258880615,\n 4.874248504638672,\n 5.84852933883667,\n 5.556371212005615,\n 5.1653594970703125,\n 5.495819091796875,\n 5.8070220947265625,\n 7.543395042419434,\n 5.9875311851501465,\n 5.83120584487915,\n 5.929399490356445,\n 6.503846645355225,\n 5.523194789886475,\n 5.109840393066406,\n 5.994828224182129,\n 5.012506484985352,\n 5.409189224243164,\n 5.864428997039795,\n 5.263373374938965,\n 5.193878173828125,\n 6.498053073883057,\n 4.966442108154297,\n 4.843988418579102,\n 5.3955888748168945,\n 5.537439823150635,\n 7.224670886993408,\n 6.511345863342285,\n 6.2308478355407715,\n 6.970966339111328,\n 6.199306011199951,\n 6.591075897216797,\n 5.50642728805542,\n 5.79499626159668,\n 5.980445384979248,\n 6.105610370635986,\n 6.37479829788208,\n 7.099655628204346,\n 5.416839599609375,\n 6.452409744262695,\n 6.8042378425598145,\n 5.13002347946167,\n 7.02294397354126,\n 5.821599960327148,\n 6.6534810066223145,\n 5.647251129150391,\n 6.064272403717041,\n 6.3465399742126465,\n 6.134725093841553,\n 4.471695423126221,\n 6.063182830810547,\n 6.227478504180908,\n 5.902292728424072,\n 6.062870025634766,\n 6.31840181350708,\n 6.142609596252441,\n 6.60504674911499,\n 6.230270862579346,\n 5.593287467956543,\n 6.515835762023926,\n 5.910772800445557,\n 5.686308860778809,\n 7.602803707122803,\n 4.708713531494141,\n 5.504664421081543,\n 6.465694427490234,\n 6.4750590324401855,\n 5.911959648132324,\n 6.618185043334961,\n 5.759798049926758,\n 6.026660442352295,\n 5.595974445343018,\n 5.934393405914307,\n 6.664936542510986,\n 6.082570552825928,\n 6.651369571685791,\n 6.060912609100342,\n 5.973425388336182,\n 6.938034534454346,\n 6.121300220489502,\n 6.083355903625488,\n 6.651355266571045,\n 5.478067874908447,\n 6.124263286590576,\n 6.075611114501953,\n 7.202428817749023,\n 7.06391716003418,\n 5.423603534698486,\n 6.086505889892578,\n 6.503492832183838,\n 5.714785099029541,\n 5.140102386474609,\n 5.610828399658203,\n 6.17385721206665,\n 6.624359130859375,\n 5.504695892333984,\n 5.878378868103027,\n 6.249475955963135,\n 5.8027119636535645,\n 5.720620632171631,\n 5.807138919830322,\n 5.282717227935791,\n 5.647836685180664,\n 6.72059440612793,\n 5.462975025177002]"
     },
     "metadata": {},
     "output_type": "display_data"
    },
    {
     "data": {
      "text/plain": "'force'"
     },
     "metadata": {},
     "output_type": "display_data"
    },
    {
     "data": {
      "text/plain": "Y:\\Istra Repositories\\ch-gr_exports\\QL_B_8yiv\\series_step_100.hdf5      6382.507443\nY:\\Istra Repositories\\ch-gr_exports\\QL_B_8yiv\\series_step_101.hdf5      7191.364101\nY:\\Istra Repositories\\ch-gr_exports\\QL_B_8yiv\\series_step_102.hdf5      7980.492552\nY:\\Istra Repositories\\ch-gr_exports\\QL_B_8yiv\\series_step_103.hdf5      8730.164586\nY:\\Istra Repositories\\ch-gr_exports\\QL_B_8yiv\\series_step_104.hdf5       9558.74947\n                                                                          ...      \nY:\\Istra Repositories\\ch-gr_exports\\QL_B_8yiv\\series_step_385.hdf5     222821.19135\nY:\\Istra Repositories\\ch-gr_exports\\QL_B_8yiv\\series_step_386.hdf5    222663.364735\nY:\\Istra Repositories\\ch-gr_exports\\QL_B_8yiv\\series_step_387.hdf5    222544.994775\nY:\\Istra Repositories\\ch-gr_exports\\QL_B_8yiv\\series_step_388.hdf5    222406.896489\nY:\\Istra Repositories\\ch-gr_exports\\QL_B_8yiv\\series_step_389.hdf5    222327.983183\nName: (add_data, analog_channels), Length: 290, dtype: object"
     },
     "metadata": {},
     "output_type": "display_data"
    },
    {
     "data": {
      "text/plain": "'plate_width'"
     },
     "metadata": {},
     "output_type": "display_data"
    },
    {
     "data": {
      "text/plain": "25"
     },
     "metadata": {},
     "output_type": "display_data"
    },
    {
     "data": {
      "text/plain": "'sample_crossection'"
     },
     "metadata": {},
     "output_type": "display_data"
    },
    {
     "data": {
      "text/plain": "200"
     },
     "metadata": {},
     "output_type": "display_data"
    },
    {
     "data": {
      "text/plain": "'stress'"
     },
     "metadata": {},
     "output_type": "display_data"
    },
    {
     "data": {
      "text/plain": "[31.912537212743523,\n 35.95682050360415,\n 39.90246276177882,\n 43.65082292867335,\n 47.79374734865496,\n 52.035312853971675,\n 56.770083684411475,\n 61.899418791843345,\n 67.52195924834804,\n 73.0458586966535,\n 78.76704032423854,\n 84.38958094624053,\n 90.80125014718413,\n 96.91699622603555,\n 102.93410130917431,\n 109.34577073836407,\n 115.4615170401553,\n 121.87318663271635,\n 128.38349738442844,\n 134.69652607921878,\n 141.00955486161,\n 147.81578911788782,\n 154.03017700987238,\n 160.34320607205996,\n 167.05079955490342,\n 173.16654664943576,\n 180.17006359758219,\n 186.58173415192894,\n 193.38796916417326,\n 199.8982810289865,\n 206.50723409876312,\n 213.31346947422415,\n 219.7251405977093,\n 226.33409403112765,\n 233.14032978774694,\n 239.55200127647723,\n 246.1609550926573,\n 252.76990904067353,\n 259.67478644292106,\n 266.4810228848891,\n 272.89269502963526,\n 279.3043673065518,\n 286.40652752376934,\n 292.9168412030237,\n 299.72307838374655,\n 306.3320334786038,\n 312.9409887246392,\n 319.549944123977,\n 326.35618193651914,\n 333.35970217902394,\n 339.7713757978184,\n 346.6762552500927,\n 353.48249374267766,\n 360.0914501289108,\n 366.9963301153992,\n 373.90121028819294,\n 380.6088083510303,\n 387.2177654422347,\n 394.02400501988217,\n 400.7316036303387,\n 407.5378435879691,\n 414.34408374044165,\n 421.34760642201513,\n 427.75928230160866,\n 434.0723171887284,\n 440.87855812295936,\n 447.783440440875,\n 454.195117071089,\n 460.80407625491927,\n 467.31439445325,\n 474.021995227203,\n 480.433672635044,\n 487.14127382425215,\n 493.4543104345281,\n 500.06327084253894,\n 506.67223146400255,\n 512.9852686768344,\n 519.4955885105475,\n 525.7099849143013,\n 532.3189463842072,\n 538.5333431943759,\n 544.945022652251,\n 551.0607786426699,\n 557.275176060358,\n 562.9963675149731,\n 569.0134828544822,\n 574.9319571494386,\n 580.850431634876,\n 586.3743413278198,\n 592.3914574351281,\n 598.0140087339071,\n 603.7352014655214,\n 609.3577531233118,\n 614.9803049610207,\n 620.7014982450714,\n 626.6199742550838,\n 632.3411679251416,\n 638.2596443374218,\n 643.882197120619,\n 649.4061088099436,\n 655.7191509643313,\n 661.6376282023853,\n 667.5561056532722,\n 673.4745833185174,\n 679.3930611996468,\n 685.4101806016791,\n 691.3286589228161,\n 697.24713746444,\n 703.1656162280763,\n 709.2813778520242,\n 714.9039331054325,\n 720.8224125404715,\n 726.6422508740044,\n 732.3634480962313,\n 738.1832868714175,\n 744.1017672124121,\n 749.5270410639293,\n 755.4455218549389,\n 760.8707961215383,\n 766.789277368168,\n 772.2145520549878,\n 778.0343923990587,\n 783.4596675075163,\n 789.1808669351453,\n 794.8034252170254,\n 800.0314182055445,\n 805.5553355361917,\n 810.8819703112106,\n 816.4058880706959,\n 821.6338818672551,\n 827.0591586582184,\n 832.2871528598735,\n 837.5151472619227,\n 842.9404246846028,\n 848.0697780847979,\n 853.396414515501,\n 859.3148996877053,\n 863.0632737664444,\n 868.1926279410986,\n 873.6179066125644,\n 878.2540540189593,\n 883.4820502282372,\n 888.5127637605967,\n 893.2475531465769,\n 898.278267060317,\n 902.8157738972881,\n 907.649205271007,\n 912.0880709805783,\n 916.7242197771768,\n 921.5576516833139,\n 926.0951593568648,\n 930.435384242632,\n 935.0715337200345,\n 939.2144759532925,\n 943.7519842734367,\n 947.7962853089275,\n 952.3337939470971,\n 956.1808122727953,\n 960.3237552215377,\n 964.0721322975204,\n 968.3137170241948,\n 972.2593773696364,\n 976.2050378452595,\n 980.0520569347634,\n 983.5045100698812,\n 987.1542463507463,\n 989.5216429175697,\n 994.2564361940452,\n 997.6102482137858,\n 1001.161343398322,\n 1004.3178725420075,\n 1007.6716848510441,\n 1011.0254972570679,\n 1013.9847435784416,\n 1017.3385561677828,\n 1020.1991611006604,\n 1023.1584076579949,\n 1026.3149374034838,\n 1028.7809763278642,\n 1031.7402231075946,\n 1034.4035452752332,\n 1037.1655090707138,\n 1040.026114501409,\n 1042.2948705841984,\n 1044.6622682845236,\n 1047.6215154800454,\n 1049.8902717161486,\n 1052.4549527340741,\n 1054.6250674875364,\n 1056.6965407006935,\n 1059.2612218751594,\n 1061.431336761336,\n 1063.4041685128948,\n 1065.7715666611762,\n 1067.6457568978665,\n 1069.7172303544094,\n 1072.873761410744,\n 1073.5642525913988,\n 1075.3398013615986,\n 1077.3126333622117,\n 1078.8908989882989,\n 1080.567806240981,\n 1082.3433551248356,\n 1084.6121120740681,\n 1085.5985281536994,\n 1087.2754355096115,\n 1088.7550596686833,\n 1090.4319670733664,\n 1091.7143080474027,\n 1092.9966490366353,\n 1094.57491489042,\n 1096.0545391492963,\n 1097.0409553331574,\n 1098.5205796258824,\n 1099.605637453474,\n 1100.7893369142425,\n 1102.0716780114592,\n 1103.2553774994115,\n 1104.2417937493533,\n 1105.524134887855,\n 1106.3132679037988,\n 1107.2010425536946,\n 1108.3847420983589,\n 1109.1738751354235,\n 1110.0616498090953,\n 1110.949424490157,\n 1111.0480661218428,\n 1112.6263322412315,\n 1113.3168236758218,\n 1114.1059567494124,\n 1114.8950898288604,\n 1115.3882980064914,\n 1116.1774310954652,\n 1116.7692809160453,\n 1117.459772377562,\n 1117.854338929019,\n 1118.4461887589578,\n 1119.2353218706855,\n 1119.4326051495361,\n 1120.024454988294,\n 1119.8271717083405,\n 1120.714946471029,\n 1121.1095130346152,\n 1121.3067963169603,\n 1121.6027212411689,\n 1121.9972878080684,\n 1122.0959294500237,\n 1122.3918543764414,\n 1122.490496018765,\n 1122.5891376611805,\n 1122.8850625889804,\n 1123.082345874641,\n 1123.1809875176095,\n 1122.983704231765,\n 1123.1809875176095,\n 1123.082345874641,\n 1122.8850625889804,\n 1123.1809875176095,\n 1122.983704231765,\n 1123.082345874641,\n 1123.082345874641,\n 1122.8850625889804,\n 1122.490496018765,\n 1122.0959294500237,\n 1122.490496018765,\n 1122.1945710920706,\n 1121.9972878080684,\n 1121.8000045244344,\n 1121.5040795996738,\n 1121.3067963169603,\n 1120.024454988294,\n 1120.5176631897878,\n 1120.2217382686158,\n 1119.7285300685016,\n 1119.4326051495361,\n 1119.0380385922024,\n 1118.5448303976023,\n 1117.5584140152887,\n 1117.5584140152887,\n 1117.2624891023845,\n 1116.571997642152,\n 1116.1774310954652,\n 1115.7828645502452,\n 1115.1910147351641,\n 1114.5005232884039,\n 1114.1059567494124,\n 1113.3168236758218,\n 1112.7249738744702,\n 1112.03448244372,\n 1111.639915913873]"
     },
     "metadata": {},
     "output_type": "display_data"
    },
    {
     "data": {
      "text/plain": "'data_len'"
     },
     "metadata": {},
     "output_type": "display_data"
    },
    {
     "data": {
      "text/plain": "290"
     },
     "metadata": {},
     "output_type": "display_data"
    },
    {
     "data": {
      "text/plain": "'-35_-33_Emod'"
     },
     "metadata": {},
     "output_type": "display_data"
    },
    {
     "data": {
      "text/plain": "array([ 344.91597372, -716.38333181])"
     },
     "metadata": {},
     "output_type": "display_data"
    },
    {
     "data": {
      "text/plain": "'-33_-31_Emod'"
     },
     "metadata": {},
     "output_type": "display_data"
    },
    {
     "data": {
      "text/plain": "array([ 385.38483083, -793.98546329])"
     },
     "metadata": {},
     "output_type": "display_data"
    },
    {
     "data": {
      "text/plain": "'-31_-29_Emod'"
     },
     "metadata": {},
     "output_type": "display_data"
    },
    {
     "data": {
      "text/plain": "array([ 332.72575423, -644.48635645])"
     },
     "metadata": {},
     "output_type": "display_data"
    },
    {
     "data": {
      "text/plain": "'-29_-27_Emod'"
     },
     "metadata": {},
     "output_type": "display_data"
    },
    {
     "data": {
      "text/plain": "array([ 354.14667307, -651.17535266])"
     },
     "metadata": {},
     "output_type": "display_data"
    },
    {
     "data": {
      "text/plain": "'-27_-25_Emod'"
     },
     "metadata": {},
     "output_type": "display_data"
    },
    {
     "data": {
      "text/plain": "array([ 358.53906774, -749.78273323])"
     },
     "metadata": {},
     "output_type": "display_data"
    },
    {
     "data": {
      "text/plain": "'-25_-23_Emod'"
     },
     "metadata": {},
     "output_type": "display_data"
    },
    {
     "data": {
      "text/plain": "array([ 390.52300297, -793.0786812 ])"
     },
     "metadata": {},
     "output_type": "display_data"
    },
    {
     "data": {
      "text/plain": "'-23_-21_Emod'"
     },
     "metadata": {},
     "output_type": "display_data"
    },
    {
     "data": {
      "text/plain": "array([ 361.44435962, -716.0231899 ])"
     },
     "metadata": {},
     "output_type": "display_data"
    },
    {
     "data": {
      "text/plain": "'-21_-19_Emod'"
     },
     "metadata": {},
     "output_type": "display_data"
    },
    {
     "data": {
      "text/plain": "array([ 340.22451773, -632.34640984])"
     },
     "metadata": {},
     "output_type": "display_data"
    },
    {
     "data": {
      "text/plain": "'-19_-17_Emod'"
     },
     "metadata": {},
     "output_type": "display_data"
    },
    {
     "data": {
      "text/plain": "array([ 328.27855817, -612.83629392])"
     },
     "metadata": {},
     "output_type": "display_data"
    },
    {
     "data": {
      "text/plain": "'-17_-15_Emod'"
     },
     "metadata": {},
     "output_type": "display_data"
    },
    {
     "data": {
      "text/plain": "array([ 328.80449531, -750.23849434])"
     },
     "metadata": {},
     "output_type": "display_data"
    },
    {
     "data": {
      "text/plain": "'-15_-13_Emod'"
     },
     "metadata": {},
     "output_type": "display_data"
    },
    {
     "data": {
      "text/plain": "array([ 415.59807087, -842.14159772])"
     },
     "metadata": {},
     "output_type": "display_data"
    },
    {
     "data": {
      "text/plain": "'-13_-11_Emod'"
     },
     "metadata": {},
     "output_type": "display_data"
    },
    {
     "data": {
      "text/plain": "array([ 332.19101131, -594.7701187 ])"
     },
     "metadata": {},
     "output_type": "display_data"
    },
    {
     "data": {
      "text/plain": "'-11_-9 _Emod'"
     },
     "metadata": {},
     "output_type": "display_data"
    },
    {
     "data": {
      "text/plain": "array([ 329.13038486, -674.15019383])"
     },
     "metadata": {},
     "output_type": "display_data"
    },
    {
     "data": {
      "text/plain": "'-9_-7  _Emod'"
     },
     "metadata": {},
     "output_type": "display_data"
    },
    {
     "data": {
      "text/plain": "array([ 346.00566644, -667.18287135])"
     },
     "metadata": {},
     "output_type": "display_data"
    },
    {
     "data": {
      "text/plain": "'-7_-5  _Emod'"
     },
     "metadata": {},
     "output_type": "display_data"
    },
    {
     "data": {
      "text/plain": "array([ 325.99439576, -708.86978434])"
     },
     "metadata": {},
     "output_type": "display_data"
    },
    {
     "data": {
      "text/plain": "'-5_-3  _Emod'"
     },
     "metadata": {},
     "output_type": "display_data"
    },
    {
     "data": {
      "text/plain": "array([ 351.45272608, -781.42336228])"
     },
     "metadata": {},
     "output_type": "display_data"
    },
    {
     "data": {
      "text/plain": "'-3_-1  _Emod'"
     },
     "metadata": {},
     "output_type": "display_data"
    },
    {
     "data": {
      "text/plain": "array([ 302.53980165, -662.15514845])"
     },
     "metadata": {},
     "output_type": "display_data"
    },
    {
     "data": {
      "text/plain": "'-1_1   _Emod'"
     },
     "metadata": {},
     "output_type": "display_data"
    },
    {
     "data": {
      "text/plain": "array([ 313.36841642, -611.5205249 ])"
     },
     "metadata": {},
     "output_type": "display_data"
    },
    {
     "data": {
      "text/plain": "'1_3    _Emod'"
     },
     "metadata": {},
     "output_type": "display_data"
    },
    {
     "data": {
      "text/plain": "array([ 317.69213143, -730.3634632 ])"
     },
     "metadata": {},
     "output_type": "display_data"
    },
    {
     "data": {
      "text/plain": "'3_5    _Emod'"
     },
     "metadata": {},
     "output_type": "display_data"
    },
    {
     "data": {
      "text/plain": "array([ 313.47940848, -735.83850047])"
     },
     "metadata": {},
     "output_type": "display_data"
    },
    {
     "data": {
      "text/plain": "'5_7    _Emod'"
     },
     "metadata": {},
     "output_type": "display_data"
    },
    {
     "data": {
      "text/plain": "array([ 301.65018329, -656.70633001])"
     },
     "metadata": {},
     "output_type": "display_data"
    },
    {
     "data": {
      "text/plain": "'7_9    _Emod'"
     },
     "metadata": {},
     "output_type": "display_data"
    },
    {
     "data": {
      "text/plain": "array([ 333.70628505, -864.51566106])"
     },
     "metadata": {},
     "output_type": "display_data"
    },
    {
     "data": {
      "text/plain": "'9_11   _Emod'"
     },
     "metadata": {},
     "output_type": "display_data"
    },
    {
     "data": {
      "text/plain": "array([ 334.06877565, -646.1165051 ])"
     },
     "metadata": {},
     "output_type": "display_data"
    },
    {
     "data": {
      "text/plain": "'11_13  _Emod'"
     },
     "metadata": {},
     "output_type": "display_data"
    },
    {
     "data": {
      "text/plain": "array([ 336.09802549, -685.78325679])"
     },
     "metadata": {},
     "output_type": "display_data"
    },
    {
     "data": {
      "text/plain": "'13_15  _Emod'"
     },
     "metadata": {},
     "output_type": "display_data"
    },
    {
     "data": {
      "text/plain": "array([ 360.80836298, -921.60179921])"
     },
     "metadata": {},
     "output_type": "display_data"
    },
    {
     "data": {
      "text/plain": "'15_17  _Emod'"
     },
     "metadata": {},
     "output_type": "display_data"
    },
    {
     "data": {
      "text/plain": "array([ 351.2361641, -716.2818033])"
     },
     "metadata": {},
     "output_type": "display_data"
    },
    {
     "data": {
      "text/plain": "'17_19  _Emod'"
     },
     "metadata": {},
     "output_type": "display_data"
    },
    {
     "data": {
      "text/plain": "array([ 392.03737777, -704.37717609])"
     },
     "metadata": {},
     "output_type": "display_data"
    },
    {
     "data": {
      "text/plain": "'19_21  _Emod'"
     },
     "metadata": {},
     "output_type": "display_data"
    },
    {
     "data": {
      "text/plain": "array([ 360.3930657 , -690.88690791])"
     },
     "metadata": {},
     "output_type": "display_data"
    },
    {
     "data": {
      "text/plain": "'21_23  _Emod'"
     },
     "metadata": {},
     "output_type": "display_data"
    },
    {
     "data": {
      "text/plain": "array([ 370.0635905 , -771.30994886])"
     },
     "metadata": {},
     "output_type": "display_data"
    },
    {
     "data": {
      "text/plain": "'23_25  _Emod'"
     },
     "metadata": {},
     "output_type": "display_data"
    },
    {
     "data": {
      "text/plain": "array([ 329.78271548, -680.87208249])"
     },
     "metadata": {},
     "output_type": "display_data"
    },
    {
     "data": {
      "text/plain": "'25_27  _Emod'"
     },
     "metadata": {},
     "output_type": "display_data"
    },
    {
     "data": {
      "text/plain": "array([ 336.97959039, -709.72775589])"
     },
     "metadata": {},
     "output_type": "display_data"
    },
    {
     "data": {
      "text/plain": "'27_29  _Emod'"
     },
     "metadata": {},
     "output_type": "display_data"
    },
    {
     "data": {
      "text/plain": "array([ 320.84916663, -674.90529534])"
     },
     "metadata": {},
     "output_type": "display_data"
    },
    {
     "data": {
      "text/plain": "'29_31  _Emod'"
     },
     "metadata": {},
     "output_type": "display_data"
    },
    {
     "data": {
      "text/plain": "array([ 377.73087616, -704.81812396])"
     },
     "metadata": {},
     "output_type": "display_data"
    },
    {
     "data": {
      "text/plain": "'31_33  _Emod'"
     },
     "metadata": {},
     "output_type": "display_data"
    },
    {
     "data": {
      "text/plain": "array([ 377.73087616, -704.81812396])"
     },
     "metadata": {},
     "output_type": "display_data"
    },
    {
     "data": {
      "text/plain": "'33_35  _Emod'"
     },
     "metadata": {},
     "output_type": "display_data"
    },
    {
     "data": {
      "text/plain": "array([ 377.73087616, -704.81812396])"
     },
     "metadata": {},
     "output_type": "display_data"
    },
    {
     "data": {
      "text/plain": "'-35_-33_rp02'"
     },
     "metadata": {},
     "output_type": "display_data"
    },
    {
     "data": {
      "text/plain": "1143927.2984126778"
     },
     "metadata": {},
     "output_type": "display_data"
    },
    {
     "data": {
      "text/plain": "'-33_-31_rp02'"
     },
     "metadata": {},
     "output_type": "display_data"
    },
    {
     "data": {
      "text/plain": "1078836.3266023705"
     },
     "metadata": {},
     "output_type": "display_data"
    },
    {
     "data": {
      "text/plain": "'-31_-29_rp02'"
     },
     "metadata": {},
     "output_type": "display_data"
    },
    {
     "data": {
      "text/plain": "985000.7442666232"
     },
     "metadata": {},
     "output_type": "display_data"
    },
    {
     "data": {
      "text/plain": "'-29_-27_rp02'"
     },
     "metadata": {},
     "output_type": "display_data"
    },
    {
     "data": {
      "text/plain": "865799.628295509"
     },
     "metadata": {},
     "output_type": "display_data"
    },
    {
     "data": {
      "text/plain": "'-27_-25_rp02'"
     },
     "metadata": {},
     "output_type": "display_data"
    },
    {
     "data": {
      "text/plain": "1148102.6537135066"
     },
     "metadata": {},
     "output_type": "display_data"
    },
    {
     "data": {
      "text/plain": "'-25_-23_rp02'"
     },
     "metadata": {},
     "output_type": "display_data"
    },
    {
     "data": {
      "text/plain": "926465.8813307666"
     },
     "metadata": {},
     "output_type": "display_data"
    },
    {
     "data": {
      "text/plain": "'-23_-21_rp02'"
     },
     "metadata": {},
     "output_type": "display_data"
    },
    {
     "data": {
      "text/plain": "1152159.0576931494"
     },
     "metadata": {},
     "output_type": "display_data"
    },
    {
     "data": {
      "text/plain": "'-21_-19_rp02'"
     },
     "metadata": {},
     "output_type": "display_data"
    },
    {
     "data": {
      "text/plain": "1114988.8878737965"
     },
     "metadata": {},
     "output_type": "display_data"
    },
    {
     "data": {
      "text/plain": "'-19_-17_rp02'"
     },
     "metadata": {},
     "output_type": "display_data"
    },
    {
     "data": {
      "text/plain": "992717.0957809868"
     },
     "metadata": {},
     "output_type": "display_data"
    },
    {
     "data": {
      "text/plain": "'-17_-15_rp02'"
     },
     "metadata": {},
     "output_type": "display_data"
    },
    {
     "data": {
      "text/plain": "1200503.15216678"
     },
     "metadata": {},
     "output_type": "display_data"
    },
    {
     "data": {
      "text/plain": "'-15_-13_rp02'"
     },
     "metadata": {},
     "output_type": "display_data"
    },
    {
     "data": {
      "text/plain": "1122189.6904770741"
     },
     "metadata": {},
     "output_type": "display_data"
    },
    {
     "data": {
      "text/plain": "'-13_-11_rp02'"
     },
     "metadata": {},
     "output_type": "display_data"
    },
    {
     "data": {
      "text/plain": "1012186.4673900289"
     },
     "metadata": {},
     "output_type": "display_data"
    },
    {
     "data": {
      "text/plain": "'-11_-9 _rp02'"
     },
     "metadata": {},
     "output_type": "display_data"
    },
    {
     "data": {
      "text/plain": "1173829.6650019994"
     },
     "metadata": {},
     "output_type": "display_data"
    },
    {
     "data": {
      "text/plain": "'-9_-7  _rp02'"
     },
     "metadata": {},
     "output_type": "display_data"
    },
    {
     "data": {
      "text/plain": "1024351.3840213447"
     },
     "metadata": {},
     "output_type": "display_data"
    },
    {
     "data": {
      "text/plain": "'-7_-5  _rp02'"
     },
     "metadata": {},
     "output_type": "display_data"
    },
    {
     "data": {
      "text/plain": "1202122.2137651064"
     },
     "metadata": {},
     "output_type": "display_data"
    },
    {
     "data": {
      "text/plain": "'-5_-3  _rp02'"
     },
     "metadata": {},
     "output_type": "display_data"
    },
    {
     "data": {
      "text/plain": "1078889.932938366"
     },
     "metadata": {},
     "output_type": "display_data"
    },
    {
     "data": {
      "text/plain": "'-3_-1  _rp02'"
     },
     "metadata": {},
     "output_type": "display_data"
    },
    {
     "data": {
      "text/plain": "1182729.1095774996"
     },
     "metadata": {},
     "output_type": "display_data"
    },
    {
     "data": {
      "text/plain": "'-1_1   _rp02'"
     },
     "metadata": {},
     "output_type": "display_data"
    },
    {
     "data": {
      "text/plain": "1127267.2701084868"
     },
     "metadata": {},
     "output_type": "display_data"
    },
    {
     "data": {
      "text/plain": "'1_3    _rp02'"
     },
     "metadata": {},
     "output_type": "display_data"
    },
    {
     "data": {
      "text/plain": "1294116.2281152802"
     },
     "metadata": {},
     "output_type": "display_data"
    },
    {
     "data": {
      "text/plain": "'3_5    _rp02'"
     },
     "metadata": {},
     "output_type": "display_data"
    },
    {
     "data": {
      "text/plain": "1311401.806823087"
     },
     "metadata": {},
     "output_type": "display_data"
    },
    {
     "data": {
      "text/plain": "'5_7    _rp02'"
     },
     "metadata": {},
     "output_type": "display_data"
    },
    {
     "data": {
      "text/plain": "1202783.35699925"
     },
     "metadata": {},
     "output_type": "display_data"
    },
    {
     "data": {
      "text/plain": "'7_9    _rp02'"
     },
     "metadata": {},
     "output_type": "display_data"
    },
    {
     "data": {
      "text/plain": "1286051.367211152"
     },
     "metadata": {},
     "output_type": "display_data"
    },
    {
     "data": {
      "text/plain": "'9_11   _rp02'"
     },
     "metadata": {},
     "output_type": "display_data"
    },
    {
     "data": {
      "text/plain": "1062150.5770458498"
     },
     "metadata": {},
     "output_type": "display_data"
    },
    {
     "data": {
      "text/plain": "'11_13  _rp02'"
     },
     "metadata": {},
     "output_type": "display_data"
    },
    {
     "data": {
      "text/plain": "1117682.9557286676"
     },
     "metadata": {},
     "output_type": "display_data"
    },
    {
     "data": {
      "text/plain": "'13_15  _rp02'"
     },
     "metadata": {},
     "output_type": "display_data"
    },
    {
     "data": {
      "text/plain": "1368526.9218551388"
     },
     "metadata": {},
     "output_type": "display_data"
    },
    {
     "data": {
      "text/plain": "'15_17  _rp02'"
     },
     "metadata": {},
     "output_type": "display_data"
    },
    {
     "data": {
      "text/plain": "1135507.7381514"
     },
     "metadata": {},
     "output_type": "display_data"
    },
    {
     "data": {
      "text/plain": "'17_19  _rp02'"
     },
     "metadata": {},
     "output_type": "display_data"
    },
    {
     "data": {
      "text/plain": "909758.908154213"
     },
     "metadata": {},
     "output_type": "display_data"
    },
    {
     "data": {
      "text/plain": "'19_21  _rp02'"
     },
     "metadata": {},
     "output_type": "display_data"
    },
    {
     "data": {
      "text/plain": "1117069.3943380576"
     },
     "metadata": {},
     "output_type": "display_data"
    },
    {
     "data": {
      "text/plain": "'21_23  _rp02'"
     },
     "metadata": {},
     "output_type": "display_data"
    },
    {
     "data": {
      "text/plain": "1129767.168687893"
     },
     "metadata": {},
     "output_type": "display_data"
    },
    {
     "data": {
      "text/plain": "'23_25  _rp02'"
     },
     "metadata": {},
     "output_type": "display_data"
    },
    {
     "data": {
      "text/plain": "1084422.5634517015"
     },
     "metadata": {},
     "output_type": "display_data"
    },
    {
     "data": {
      "text/plain": "'25_27  _rp02'"
     },
     "metadata": {},
     "output_type": "display_data"
    },
    {
     "data": {
      "text/plain": "1198304.8409662447"
     },
     "metadata": {},
     "output_type": "display_data"
    },
    {
     "data": {
      "text/plain": "'27_29  _rp02'"
     },
     "metadata": {},
     "output_type": "display_data"
    },
    {
     "data": {
      "text/plain": "1210526.874358049"
     },
     "metadata": {},
     "output_type": "display_data"
    },
    {
     "data": {
      "text/plain": "'29_31  _rp02'"
     },
     "metadata": {},
     "output_type": "display_data"
    },
    {
     "data": {
      "text/plain": "1043830.9481634395"
     },
     "metadata": {},
     "output_type": "display_data"
    },
    {
     "data": {
      "text/plain": "'31_33  _rp02'"
     },
     "metadata": {},
     "output_type": "display_data"
    },
    {
     "data": {
      "text/plain": "1043830.9481634395"
     },
     "metadata": {},
     "output_type": "display_data"
    },
    {
     "data": {
      "text/plain": "'33_35  _rp02'"
     },
     "metadata": {},
     "output_type": "display_data"
    },
    {
     "data": {
      "text/plain": "1043830.9481634395"
     },
     "metadata": {},
     "output_type": "display_data"
    },
    {
     "data": {
      "text/plain": "'-35_-33_rp02_idx'"
     },
     "metadata": {},
     "output_type": "display_data"
    },
    {
     "data": {
      "text/plain": "0"
     },
     "metadata": {},
     "output_type": "display_data"
    },
    {
     "data": {
      "text/plain": "'-33_-31_rp02_idx'"
     },
     "metadata": {},
     "output_type": "display_data"
    },
    {
     "data": {
      "text/plain": "4"
     },
     "metadata": {},
     "output_type": "display_data"
    },
    {
     "data": {
      "text/plain": "'-31_-29_rp02_idx'"
     },
     "metadata": {},
     "output_type": "display_data"
    },
    {
     "data": {
      "text/plain": "3"
     },
     "metadata": {},
     "output_type": "display_data"
    },
    {
     "data": {
      "text/plain": "'-29_-27_rp02_idx'"
     },
     "metadata": {},
     "output_type": "display_data"
    },
    {
     "data": {
      "text/plain": "0"
     },
     "metadata": {},
     "output_type": "display_data"
    },
    {
     "data": {
      "text/plain": "'-27_-25_rp02_idx'"
     },
     "metadata": {},
     "output_type": "display_data"
    },
    {
     "data": {
      "text/plain": "0"
     },
     "metadata": {},
     "output_type": "display_data"
    },
    {
     "data": {
      "text/plain": "'-25_-23_rp02_idx'"
     },
     "metadata": {},
     "output_type": "display_data"
    },
    {
     "data": {
      "text/plain": "0"
     },
     "metadata": {},
     "output_type": "display_data"
    },
    {
     "data": {
      "text/plain": "'-23_-21_rp02_idx'"
     },
     "metadata": {},
     "output_type": "display_data"
    },
    {
     "data": {
      "text/plain": "0"
     },
     "metadata": {},
     "output_type": "display_data"
    },
    {
     "data": {
      "text/plain": "'-21_-19_rp02_idx'"
     },
     "metadata": {},
     "output_type": "display_data"
    },
    {
     "data": {
      "text/plain": "12"
     },
     "metadata": {},
     "output_type": "display_data"
    },
    {
     "data": {
      "text/plain": "'-19_-17_rp02_idx'"
     },
     "metadata": {},
     "output_type": "display_data"
    },
    {
     "data": {
      "text/plain": "0"
     },
     "metadata": {},
     "output_type": "display_data"
    },
    {
     "data": {
      "text/plain": "'-17_-15_rp02_idx'"
     },
     "metadata": {},
     "output_type": "display_data"
    },
    {
     "data": {
      "text/plain": "0"
     },
     "metadata": {},
     "output_type": "display_data"
    },
    {
     "data": {
      "text/plain": "'-15_-13_rp02_idx'"
     },
     "metadata": {},
     "output_type": "display_data"
    },
    {
     "data": {
      "text/plain": "0"
     },
     "metadata": {},
     "output_type": "display_data"
    },
    {
     "data": {
      "text/plain": "'-13_-11_rp02_idx'"
     },
     "metadata": {},
     "output_type": "display_data"
    },
    {
     "data": {
      "text/plain": "7"
     },
     "metadata": {},
     "output_type": "display_data"
    },
    {
     "data": {
      "text/plain": "'-11_-9 _rp02_idx'"
     },
     "metadata": {},
     "output_type": "display_data"
    },
    {
     "data": {
      "text/plain": "0"
     },
     "metadata": {},
     "output_type": "display_data"
    },
    {
     "data": {
      "text/plain": "'-9_-7  _rp02_idx'"
     },
     "metadata": {},
     "output_type": "display_data"
    },
    {
     "data": {
      "text/plain": "0"
     },
     "metadata": {},
     "output_type": "display_data"
    },
    {
     "data": {
      "text/plain": "'-7_-5  _rp02_idx'"
     },
     "metadata": {},
     "output_type": "display_data"
    },
    {
     "data": {
      "text/plain": "5"
     },
     "metadata": {},
     "output_type": "display_data"
    },
    {
     "data": {
      "text/plain": "'-5_-3  _rp02_idx'"
     },
     "metadata": {},
     "output_type": "display_data"
    },
    {
     "data": {
      "text/plain": "0"
     },
     "metadata": {},
     "output_type": "display_data"
    },
    {
     "data": {
      "text/plain": "'-3_-1  _rp02_idx'"
     },
     "metadata": {},
     "output_type": "display_data"
    },
    {
     "data": {
      "text/plain": "1"
     },
     "metadata": {},
     "output_type": "display_data"
    },
    {
     "data": {
      "text/plain": "'-1_1   _rp02_idx'"
     },
     "metadata": {},
     "output_type": "display_data"
    },
    {
     "data": {
      "text/plain": "10"
     },
     "metadata": {},
     "output_type": "display_data"
    },
    {
     "data": {
      "text/plain": "'1_3    _rp02_idx'"
     },
     "metadata": {},
     "output_type": "display_data"
    },
    {
     "data": {
      "text/plain": "9"
     },
     "metadata": {},
     "output_type": "display_data"
    },
    {
     "data": {
      "text/plain": "'3_5    _rp02_idx'"
     },
     "metadata": {},
     "output_type": "display_data"
    },
    {
     "data": {
      "text/plain": "11"
     },
     "metadata": {},
     "output_type": "display_data"
    },
    {
     "data": {
      "text/plain": "'5_7    _rp02_idx'"
     },
     "metadata": {},
     "output_type": "display_data"
    },
    {
     "data": {
      "text/plain": "7"
     },
     "metadata": {},
     "output_type": "display_data"
    },
    {
     "data": {
      "text/plain": "'7_9    _rp02_idx'"
     },
     "metadata": {},
     "output_type": "display_data"
    },
    {
     "data": {
      "text/plain": "0"
     },
     "metadata": {},
     "output_type": "display_data"
    },
    {
     "data": {
      "text/plain": "'9_11   _rp02_idx'"
     },
     "metadata": {},
     "output_type": "display_data"
    },
    {
     "data": {
      "text/plain": "1"
     },
     "metadata": {},
     "output_type": "display_data"
    },
    {
     "data": {
      "text/plain": "'11_13  _rp02_idx'"
     },
     "metadata": {},
     "output_type": "display_data"
    },
    {
     "data": {
      "text/plain": "0"
     },
     "metadata": {},
     "output_type": "display_data"
    },
    {
     "data": {
      "text/plain": "'13_15  _rp02_idx'"
     },
     "metadata": {},
     "output_type": "display_data"
    },
    {
     "data": {
      "text/plain": "5"
     },
     "metadata": {},
     "output_type": "display_data"
    },
    {
     "data": {
      "text/plain": "'15_17  _rp02_idx'"
     },
     "metadata": {},
     "output_type": "display_data"
    },
    {
     "data": {
      "text/plain": "7"
     },
     "metadata": {},
     "output_type": "display_data"
    },
    {
     "data": {
      "text/plain": "'17_19  _rp02_idx'"
     },
     "metadata": {},
     "output_type": "display_data"
    },
    {
     "data": {
      "text/plain": "0"
     },
     "metadata": {},
     "output_type": "display_data"
    },
    {
     "data": {
      "text/plain": "'19_21  _rp02_idx'"
     },
     "metadata": {},
     "output_type": "display_data"
    },
    {
     "data": {
      "text/plain": "6"
     },
     "metadata": {},
     "output_type": "display_data"
    },
    {
     "data": {
      "text/plain": "'21_23  _rp02_idx'"
     },
     "metadata": {},
     "output_type": "display_data"
    },
    {
     "data": {
      "text/plain": "0"
     },
     "metadata": {},
     "output_type": "display_data"
    },
    {
     "data": {
      "text/plain": "'23_25  _rp02_idx'"
     },
     "metadata": {},
     "output_type": "display_data"
    },
    {
     "data": {
      "text/plain": "0"
     },
     "metadata": {},
     "output_type": "display_data"
    },
    {
     "data": {
      "text/plain": "'25_27  _rp02_idx'"
     },
     "metadata": {},
     "output_type": "display_data"
    },
    {
     "data": {
      "text/plain": "0"
     },
     "metadata": {},
     "output_type": "display_data"
    },
    {
     "data": {
      "text/plain": "'27_29  _rp02_idx'"
     },
     "metadata": {},
     "output_type": "display_data"
    },
    {
     "data": {
      "text/plain": "0"
     },
     "metadata": {},
     "output_type": "display_data"
    },
    {
     "data": {
      "text/plain": "'29_31  _rp02_idx'"
     },
     "metadata": {},
     "output_type": "display_data"
    },
    {
     "data": {
      "text/plain": "0"
     },
     "metadata": {},
     "output_type": "display_data"
    },
    {
     "data": {
      "text/plain": "'31_33  _rp02_idx'"
     },
     "metadata": {},
     "output_type": "display_data"
    },
    {
     "data": {
      "text/plain": "0"
     },
     "metadata": {},
     "output_type": "display_data"
    },
    {
     "data": {
      "text/plain": "'33_35  _rp02_idx'"
     },
     "metadata": {},
     "output_type": "display_data"
    },
    {
     "data": {
      "text/plain": "0"
     },
     "metadata": {},
     "output_type": "display_data"
    },
    {
     "data": {
      "text/plain": "'Rp'"
     },
     "metadata": {},
     "output_type": "display_data"
    },
    {
     "data": {
      "text/plain": "[1143927.2984126778,\n 1078836.3266023705,\n 985000.7442666232,\n 865799.628295509,\n 1148102.6537135066,\n 926465.8813307666,\n 1152159.0576931494,\n 1114988.8878737965,\n 992717.0957809868,\n 1200503.15216678,\n 1122189.6904770741,\n 1012186.4673900289,\n 1173829.6650019994,\n 1024351.3840213447,\n 1202122.2137651064,\n 1078889.932938366,\n 1182729.1095774996,\n 1127267.2701084868,\n 1294116.2281152802,\n 1311401.806823087,\n 1202783.35699925,\n 1286051.367211152,\n 1062150.5770458498,\n 1117682.9557286676,\n 1368526.9218551388,\n 1135507.7381514,\n 909758.908154213,\n 1117069.3943380576,\n 1129767.168687893,\n 1084422.5634517015,\n 1198304.8409662447,\n 1210526.874358049,\n 1043830.9481634395,\n 1043830.9481634395,\n 1043830.9481634395]"
     },
     "metadata": {},
     "output_type": "display_data"
    },
    {
     "data": {
      "text/plain": "'Rpatsteps'"
     },
     "metadata": {},
     "output_type": "display_data"
    },
    {
     "data": {
      "text/plain": "[0,\n 4,\n 3,\n 0,\n 0,\n 0,\n 0,\n 12,\n 0,\n 0,\n 0,\n 7,\n 0,\n 0,\n 5,\n 0,\n 1,\n 10,\n 9,\n 11,\n 7,\n 0,\n 1,\n 0,\n 5,\n 7,\n 0,\n 6,\n 0,\n 0,\n 0,\n 0,\n 0,\n 0,\n 0]"
     },
     "metadata": {},
     "output_type": "display_data"
    },
    {
     "data": {
      "text/plain": "'Rpinclposstep'"
     },
     "metadata": {},
     "output_type": "display_data"
    },
    {
     "data": {
      "text/plain": "['1143927.2984126778_-34.0_0',\n '1078836.3266023705_-32.0_4',\n '985000.7442666232_-30.0_3',\n '865799.628295509_-28.0_0',\n '1148102.6537135066_-26.0_0',\n '926465.8813307666_-24.0_0',\n '1152159.0576931494_-22.0_0',\n '1114988.8878737965_-20.0_12',\n '992717.0957809868_-18.0_0',\n '1200503.15216678_-16.0_0',\n '1122189.6904770741_-14.0_0',\n '1012186.4673900289_-12.0_7',\n '1173829.6650019994_-10.0_0',\n '1024351.3840213447_-8.0_0',\n '1202122.2137651064_-6.0_5',\n '1078889.932938366_-4.0_0',\n '1182729.1095774996_-2.0_1',\n '1127267.2701084868_0.0_10',\n '1294116.2281152802_2.0_9',\n '1311401.806823087_4.0_11',\n '1202783.35699925_6.0_7',\n '1286051.367211152_8.0_0',\n '1062150.5770458498_10.0_1',\n '1117682.9557286676_12.0_0',\n '1368526.9218551388_14.0_5',\n '1135507.7381514_16.0_7',\n '909758.908154213_18.0_0',\n '1117069.3943380576_20.0_6',\n '1129767.168687893_22.0_0',\n '1084422.5634517015_24.0_0',\n '1198304.8409662447_26.0_0',\n '1210526.874358049_28.0_0',\n '1043830.9481634395_30.0_0',\n '1043830.9481634395_32.0_0',\n '1043830.9481634395_34.0_0']"
     },
     "metadata": {},
     "output_type": "display_data"
    },
    {
     "data": {
      "text/plain": "'post'"
     },
     "metadata": {},
     "output_type": "display_data"
    },
    {
     "data": {
      "text/plain": "[1143927.2984126778,\n 1078836.3266023705,\n 985000.7442666232,\n 865799.628295509,\n 1148102.6537135066,\n 926465.8813307666,\n 1152159.0576931494,\n 1114988.8878737965,\n 992717.0957809868,\n 1200503.15216678,\n 1122189.6904770741,\n 1012186.4673900289,\n 1173829.6650019994,\n 1024351.3840213447,\n 1202122.2137651064,\n 1078889.932938366,\n 1182729.1095774996,\n 1127267.2701084868,\n 1294116.2281152802,\n 1311401.806823087,\n 1202783.35699925,\n 1286051.367211152,\n 1062150.5770458498,\n 1117682.9557286676,\n 1368526.9218551388,\n 1135507.7381514,\n 909758.908154213,\n 1117069.3943380576,\n 1129767.168687893,\n 1084422.5634517015,\n 1198304.8409662447,\n 1210526.874358049,\n 1043830.9481634395,\n 1043830.9481634395,\n 1043830.9481634395]"
     },
     "metadata": {},
     "output_type": "display_data"
    }
   ],
   "source": [
    "for i in tests_df.columns:\n",
    "\n",
    "    display(i,tests_df.loc['QL_B_8yiv_clipped_cut_lined',i])\n"
   ],
   "metadata": {
    "collapsed": false,
    "pycharm": {
     "name": "#%%\n"
    }
   }
  },
  {
   "cell_type": "code",
   "execution_count": 32,
   "outputs": [
    {
     "data": {
      "text/plain": "                                                                          paths  \\\nMC_A_6xiii_clipped_cut_lined  Y:\\Istra Repositories\\ch-gr_exports\\MC_A_6xiii...   \nMC_A_6xi_clipped_cut_lined    Y:\\Istra Repositories\\ch-gr_exports\\MC_A_6xi_c...   \nMC_A_8xiii_clipped_cut_lined  Y:\\Istra Repositories\\ch-gr_exports\\MC_A_8xiii...   \nMC_B_6xiii_clipped_cut_lined  Y:\\Istra Repositories\\ch-gr_exports\\MC_B_6xiii...   \nMC_B_6xii_clipped_cut_lined   Y:\\Istra Repositories\\ch-gr_exports\\MC_B_6xii_...   \n\n                               ok  crack    pos  left_12-5  step_start  \\\nMC_A_6xiii_clipped_cut_lined  1.0  115.0  119.0       99.0        45.0   \nMC_A_6xi_clipped_cut_lined    1.0  135.0  143.0      123.0       110.0   \nMC_A_8xiii_clipped_cut_lined  1.0  170.0  117.5       97.5        32.5   \nMC_B_6xiii_clipped_cut_lined  1.0   90.0   90.0       70.0        37.5   \nMC_B_6xii_clipped_cut_lined   1.0  122.0  121.0      101.0        27.5   \n\n                              step_stop                         index  \\\nMC_A_6xiii_clipped_cut_lined      187.5  MC_A_6xiii_clipped_cut_lined   \nMC_A_6xi_clipped_cut_lined        230.0    MC_A_6xi_clipped_cut_lined   \nMC_A_8xiii_clipped_cut_lined      355.0  MC_A_8xiii_clipped_cut_lined   \nMC_B_6xiii_clipped_cut_lined      172.5  MC_B_6xiii_clipped_cut_lined   \nMC_B_6xii_clipped_cut_lined       160.0   MC_B_6xii_clipped_cut_lined   \n\n                             material senergie/GW  ... 23_25  _rp02_idx  \\\nMC_A_6xiii_clipped_cut_lined       MC           A  ...              115   \nMC_A_6xi_clipped_cut_lined         MC           A  ...               93   \nMC_A_8xiii_clipped_cut_lined       MC           A  ...              108   \nMC_B_6xiii_clipped_cut_lined       MC           B  ...               84   \nMC_B_6xii_clipped_cut_lined        MC           B  ...              126   \n\n                             25_27  _rp02_idx 27_29  _rp02_idx  \\\nMC_A_6xiii_clipped_cut_lined              128              105   \nMC_A_6xi_clipped_cut_lined                 93               93   \nMC_A_8xiii_clipped_cut_lined              109              112   \nMC_B_6xiii_clipped_cut_lined               49              106   \nMC_B_6xii_clipped_cut_lined               122              112   \n\n                             29_31  _rp02_idx 31_33  _rp02_idx  \\\nMC_A_6xiii_clipped_cut_lined              106              121   \nMC_A_6xi_clipped_cut_lined                 93               93   \nMC_A_8xiii_clipped_cut_lined              113              117   \nMC_B_6xiii_clipped_cut_lined               95              123   \nMC_B_6xii_clipped_cut_lined               100              130   \n\n                             33_35  _rp02_idx  \\\nMC_A_6xiii_clipped_cut_lined               98   \nMC_A_6xi_clipped_cut_lined                 93   \nMC_A_8xiii_clipped_cut_lined              121   \nMC_B_6xiii_clipped_cut_lined              121   \nMC_B_6xii_clipped_cut_lined               132   \n\n                                                                             Rp  \\\nMC_A_6xiii_clipped_cut_lined  [1204.4481996886757, 1128.5487458455787, 1188....   \nMC_A_6xi_clipped_cut_lined    [1203.8424897133077, 1181.0288628405992, 1217....   \nMC_A_8xiii_clipped_cut_lined  [1219.270807317664, 1188.6837439676333, 1187.9...   \nMC_B_6xiii_clipped_cut_lined  [-1000.4206839485282, -436.549963555648, -268....   \nMC_B_6xii_clipped_cut_lined   [743.6838599003045, 913.5642766552933, 1029.94...   \n\n                                                                      Rpatsteps  \\\nMC_A_6xiii_clipped_cut_lined  [104, 139, 97, 99, 102, 95, 94, 95, 85, 78, 60...   \nMC_A_6xi_clipped_cut_lined    [99, 92, 90, 91, 93, 92, 91, 83, 72, 65, 62, 6...   \nMC_A_8xiii_clipped_cut_lined  [132, 127, 126, 124, 121, 115, 111, 107, 103, ...   \nMC_B_6xiii_clipped_cut_lined  [4, 58, 134, 134, 134, 100, 100, 134, 92, 124,...   \nMC_B_6xii_clipped_cut_lined   [59, 78, 130, 130, 132, 132, 82, 84, 132, 69, ...   \n\n                                                                  Rpinclposstep  \\\nMC_A_6xiii_clipped_cut_lined  [1204.4481996886757_-34.0_104, 1128.5487458455...   \nMC_A_6xi_clipped_cut_lined    [1203.8424897133077_-34.0_99, 1181.02886284059...   \nMC_A_8xiii_clipped_cut_lined  [1219.270807317664_-34.0_132, 1188.68374396763...   \nMC_B_6xiii_clipped_cut_lined  [-1000.4206839485282_-34.0_4, -436.54996355564...   \nMC_B_6xii_clipped_cut_lined   [743.6838599003045_-34.0_59, 913.5642766552933...   \n\n                                                                           post  \nMC_A_6xiii_clipped_cut_lined  [1204.4481996886757, 1128.5487458455787, 1188....  \nMC_A_6xi_clipped_cut_lined    [1203.8424897133077, 1181.0288628405992, 1217....  \nMC_A_8xiii_clipped_cut_lined  [1219.270807317664, 1188.6837439676333, 1187.9...  \nMC_B_6xiii_clipped_cut_lined  [-1000.4206839485282, -436.549963555648, -268....  \nMC_B_6xii_clipped_cut_lined   [743.6838599003045, 913.5642766552933, 1029.94...  \n\n[5 rows x 198 columns]",
      "text/html": "<div>\n<style scoped>\n    .dataframe tbody tr th:only-of-type {\n        vertical-align: middle;\n    }\n\n    .dataframe tbody tr th {\n        vertical-align: top;\n    }\n\n    .dataframe thead th {\n        text-align: right;\n    }\n</style>\n<table border=\"1\" class=\"dataframe\">\n  <thead>\n    <tr style=\"text-align: right;\">\n      <th></th>\n      <th>paths</th>\n      <th>ok</th>\n      <th>crack</th>\n      <th>pos</th>\n      <th>left_12-5</th>\n      <th>step_start</th>\n      <th>step_stop</th>\n      <th>index</th>\n      <th>material</th>\n      <th>senergie/GW</th>\n      <th>...</th>\n      <th>23_25  _rp02_idx</th>\n      <th>25_27  _rp02_idx</th>\n      <th>27_29  _rp02_idx</th>\n      <th>29_31  _rp02_idx</th>\n      <th>31_33  _rp02_idx</th>\n      <th>33_35  _rp02_idx</th>\n      <th>Rp</th>\n      <th>Rpatsteps</th>\n      <th>Rpinclposstep</th>\n      <th>post</th>\n    </tr>\n  </thead>\n  <tbody>\n    <tr>\n      <th>MC_A_6xiii_clipped_cut_lined</th>\n      <td>Y:\\Istra Repositories\\ch-gr_exports\\MC_A_6xiii...</td>\n      <td>1.0</td>\n      <td>115.0</td>\n      <td>119.0</td>\n      <td>99.0</td>\n      <td>45.0</td>\n      <td>187.5</td>\n      <td>MC_A_6xiii_clipped_cut_lined</td>\n      <td>MC</td>\n      <td>A</td>\n      <td>...</td>\n      <td>115</td>\n      <td>128</td>\n      <td>105</td>\n      <td>106</td>\n      <td>121</td>\n      <td>98</td>\n      <td>[1204.4481996886757, 1128.5487458455787, 1188....</td>\n      <td>[104, 139, 97, 99, 102, 95, 94, 95, 85, 78, 60...</td>\n      <td>[1204.4481996886757_-34.0_104, 1128.5487458455...</td>\n      <td>[1204.4481996886757, 1128.5487458455787, 1188....</td>\n    </tr>\n    <tr>\n      <th>MC_A_6xi_clipped_cut_lined</th>\n      <td>Y:\\Istra Repositories\\ch-gr_exports\\MC_A_6xi_c...</td>\n      <td>1.0</td>\n      <td>135.0</td>\n      <td>143.0</td>\n      <td>123.0</td>\n      <td>110.0</td>\n      <td>230.0</td>\n      <td>MC_A_6xi_clipped_cut_lined</td>\n      <td>MC</td>\n      <td>A</td>\n      <td>...</td>\n      <td>93</td>\n      <td>93</td>\n      <td>93</td>\n      <td>93</td>\n      <td>93</td>\n      <td>93</td>\n      <td>[1203.8424897133077, 1181.0288628405992, 1217....</td>\n      <td>[99, 92, 90, 91, 93, 92, 91, 83, 72, 65, 62, 6...</td>\n      <td>[1203.8424897133077_-34.0_99, 1181.02886284059...</td>\n      <td>[1203.8424897133077, 1181.0288628405992, 1217....</td>\n    </tr>\n    <tr>\n      <th>MC_A_8xiii_clipped_cut_lined</th>\n      <td>Y:\\Istra Repositories\\ch-gr_exports\\MC_A_8xiii...</td>\n      <td>1.0</td>\n      <td>170.0</td>\n      <td>117.5</td>\n      <td>97.5</td>\n      <td>32.5</td>\n      <td>355.0</td>\n      <td>MC_A_8xiii_clipped_cut_lined</td>\n      <td>MC</td>\n      <td>A</td>\n      <td>...</td>\n      <td>108</td>\n      <td>109</td>\n      <td>112</td>\n      <td>113</td>\n      <td>117</td>\n      <td>121</td>\n      <td>[1219.270807317664, 1188.6837439676333, 1187.9...</td>\n      <td>[132, 127, 126, 124, 121, 115, 111, 107, 103, ...</td>\n      <td>[1219.270807317664_-34.0_132, 1188.68374396763...</td>\n      <td>[1219.270807317664, 1188.6837439676333, 1187.9...</td>\n    </tr>\n    <tr>\n      <th>MC_B_6xiii_clipped_cut_lined</th>\n      <td>Y:\\Istra Repositories\\ch-gr_exports\\MC_B_6xiii...</td>\n      <td>1.0</td>\n      <td>90.0</td>\n      <td>90.0</td>\n      <td>70.0</td>\n      <td>37.5</td>\n      <td>172.5</td>\n      <td>MC_B_6xiii_clipped_cut_lined</td>\n      <td>MC</td>\n      <td>B</td>\n      <td>...</td>\n      <td>84</td>\n      <td>49</td>\n      <td>106</td>\n      <td>95</td>\n      <td>123</td>\n      <td>121</td>\n      <td>[-1000.4206839485282, -436.549963555648, -268....</td>\n      <td>[4, 58, 134, 134, 134, 100, 100, 134, 92, 124,...</td>\n      <td>[-1000.4206839485282_-34.0_4, -436.54996355564...</td>\n      <td>[-1000.4206839485282, -436.549963555648, -268....</td>\n    </tr>\n    <tr>\n      <th>MC_B_6xii_clipped_cut_lined</th>\n      <td>Y:\\Istra Repositories\\ch-gr_exports\\MC_B_6xii_...</td>\n      <td>1.0</td>\n      <td>122.0</td>\n      <td>121.0</td>\n      <td>101.0</td>\n      <td>27.5</td>\n      <td>160.0</td>\n      <td>MC_B_6xii_clipped_cut_lined</td>\n      <td>MC</td>\n      <td>B</td>\n      <td>...</td>\n      <td>126</td>\n      <td>122</td>\n      <td>112</td>\n      <td>100</td>\n      <td>130</td>\n      <td>132</td>\n      <td>[743.6838599003045, 913.5642766552933, 1029.94...</td>\n      <td>[59, 78, 130, 130, 132, 132, 82, 84, 132, 69, ...</td>\n      <td>[743.6838599003045_-34.0_59, 913.5642766552933...</td>\n      <td>[743.6838599003045, 913.5642766552933, 1029.94...</td>\n    </tr>\n  </tbody>\n</table>\n<p>5 rows × 198 columns</p>\n</div>"
     },
     "metadata": {},
     "output_type": "display_data"
    },
    {
     "data": {
      "text/plain": "Index(['MC_A_6xiii_clipped_cut_lined', 'MC_A_6xi_clipped_cut_lined',\n       'MC_A_8xiii_clipped_cut_lined', 'MC_B_6xiii_clipped_cut_lined',\n       'MC_B_6xii_clipped_cut_lined', 'MC_B_6xi_clipped_cut_lined',\n       'MC_B_8xiii_clipped_cut_lined', 'MC_B_8xi_clipped_cut_lined',\n       'MC_B_8yi_clipped_cut_lined', 'MC_GW_6xiii_clipped_cut_lined',\n       'MC_GW_6xi_clipped_cut_lined', 'MC_GW_6yiii_clipped_cut_lined',\n       'MC_GW_6yii_clipped_cut_lined', 'MC_GW_6yi_clipped_cut_lined',\n       'MC_GW_8xi_clipped_cut_lined', 'MC_GW_8yiii_clipped_cut_lined',\n       'MC_GW_8yii_clipped_cut_lined', 'QL_A_6xiii_clipped_cut_lined',\n       'QL_A_6xii_clipped_cut_lined', 'QL_A_6xi_clipped_cut_lined',\n       'QL_A_8xii_clipped_cut_lined', 'QL_A_8xi_clipped_cut_lined',\n       'QL_A_8yiii_clipped_cut_lined', 'QL_A_8yiv_clipped_cut_lined',\n       'QL_A_8yi_clipped_cut_lined', 'QL_A_8yvi_clipped_cut_lined',\n       'QL_A_8yv_clipped_cut_lined', 'QL_B_6xiii_clipped_cut_lined',\n       'QL_B_8xiii_clipped_cut_lined', 'QL_B_8xii_clipped_cut_lined',\n       'QL_B_8yiii_clipped_cut_lined', 'QL_B_8yiv_clipped_cut_lined',\n       'QL_B_8yi_clipped_cut_lined', 'QL_B_8yvi_clipped_cut_lined',\n       'QL_B_8yv_clipped_cut_lined', 'QL_GW_6xiii_clipped_cut_lined',\n       'QL_GW_6xi_clipped_cut_lined', 'QL_GW_6yiii_clipped_cut_lined',\n       'QL_GW_6yii_clipped_cut_lined', 'QL_GW_8xii_clipped_cut_lined',\n       'QL_GW_8yii_clipped_cut_lined'],\n      dtype='object')"
     },
     "metadata": {},
     "output_type": "display_data"
    }
   ],
   "source": [
    "lst=[\n",
    "'-35_-33_rp02',\n",
    "'-33_-31_rp02',\n",
    "'-31_-29_rp02',\n",
    "'-29_-27_rp02',\n",
    "'-27_-25_rp02',\n",
    "'-25_-23_rp02',\n",
    "'-23_-21_rp02',\n",
    "'-21_-19_rp02',\n",
    "'-19_-17_rp02',\n",
    "'-17_-15_rp02',\n",
    "'-15_-13_rp02',\n",
    "'-13_-11_rp02',\n",
    "'-11_-9 _rp02',\n",
    "'-9_-7  _rp02',\n",
    "'-7_-5  _rp02',\n",
    "'-5_-3  _rp02',\n",
    "'-3_-1  _rp02',\n",
    "'-1_1   _rp02',\n",
    "'1_3    _rp02',\n",
    "'3_5    _rp02',\n",
    "'5_7    _rp02',\n",
    "'7_9    _rp02',\n",
    "'9_11   _rp02',\n",
    "'11_13  _rp02',\n",
    "'13_15  _rp02',\n",
    "'15_17  _rp02',\n",
    "'17_19  _rp02',\n",
    "'19_21  _rp02',\n",
    "'21_23  _rp02',\n",
    "'23_25  _rp02',\n",
    "'25_27  _rp02',\n",
    "'27_29  _rp02',\n",
    "'29_31  _rp02',\n",
    "'31_33  _rp02',\n",
    "'33_35  _rp02'\n",
    "]\n",
    "lst1=[\n",
    "'-35_-33_rp02_idx',\n",
    "'-33_-31_rp02_idx',\n",
    "'-31_-29_rp02_idx',\n",
    "'-29_-27_rp02_idx',\n",
    "'-27_-25_rp02_idx',\n",
    "'-25_-23_rp02_idx',\n",
    "'-23_-21_rp02_idx',\n",
    "'-21_-19_rp02_idx',\n",
    "'-19_-17_rp02_idx',\n",
    "'-17_-15_rp02_idx',\n",
    "'-15_-13_rp02_idx',\n",
    "'-13_-11_rp02_idx',\n",
    "'-11_-9 _rp02_idx',\n",
    "'-9_-7  _rp02_idx',\n",
    "'-7_-5  _rp02_idx',\n",
    "'-5_-3  _rp02_idx',\n",
    "'-3_-1  _rp02_idx',\n",
    "'-1_1   _rp02_idx',\n",
    "'1_3    _rp02_idx',\n",
    "'3_5    _rp02_idx',\n",
    "'5_7    _rp02_idx',\n",
    "'7_9    _rp02_idx',\n",
    "'9_11   _rp02_idx',\n",
    "'11_13  _rp02_idx',\n",
    "'13_15  _rp02_idx',\n",
    "'15_17  _rp02_idx',\n",
    "'17_19  _rp02_idx',\n",
    "'19_21  _rp02_idx',\n",
    "'21_23  _rp02_idx',\n",
    "'23_25  _rp02_idx',\n",
    "'25_27  _rp02_idx',\n",
    "'27_29  _rp02_idx',\n",
    "'29_31  _rp02_idx',\n",
    "'31_33  _rp02_idx',\n",
    "'33_35  _rp02_idx'\n",
    "\n",
    "]\n",
    "posts=[(int(i.split('_')[1])+int(i.split('_')[0]))/2 for i in lst]\n",
    "def map_posts (rps,posts,idx):\n",
    "    res=[]\n",
    "    for i,val in enumerate(rps):\n",
    "        res.append(str(val)+'_'+str(posts[i])+'_'+str(idx[i]))\n",
    "    return(res)\n",
    "\n",
    "tests_df['Rp'] =[list(tests_df.loc[i,lst]) for i in tests_df.index]\n",
    "tests_df['Rpatsteps'] =[list(tests_df.loc[i,lst1]) for i in tests_df.index]\n",
    "display(tests_df.head())\n",
    "tests_df['Rpinclposstep']=[map_posts(tests_df.loc[i,'Rp'],posts,tests_df.loc[i,'Rpatsteps'])  for i in tests_df.index]\n",
    "#tests_df['post'] =[(int(str(tests_df.loc[i,lst].index).split('_')[1])+int(str(tests_df.loc[i,lst].index).split('_')[0].split(\"'\")[1]))/2 for i in tests_df.index]\n",
    "#display(tests_df['Rpinclpos'])\n",
    "tests_df['post']=tests_df['Rp']\n",
    "interests=[\n",
    "    'paths',\n",
    " 'ok',\n",
    " 'crack',\n",
    " 'pos',\n",
    " 'left_12-5',\n",
    " 'step_start',\n",
    " 'step_stop',\n",
    " 'index',\n",
    " 'material',\n",
    " 'senergie/GW',\n",
    " 'plate_thickness',\n",
    " 'testspeed',\n",
    " 'running_number',\n",
    " 'data',\n",
    "'Rp',\n",
    " 'post',\n",
    " 'Rpinclposstep'\n",
    "\n",
    "\n",
    "\n",
    "]\n",
    "prexplode=tests_df[interests].copy()\n",
    "display(prexplode.index)\n",
    "postexplode=prexplode.explode('Rpinclposstep').reset_index().copy()\n",
    "postexplode['Rp']=[postexplode.loc[i,'Rpinclposstep'].split('_')[0] for i in postexplode.index]\n",
    "postexplode['post']=[postexplode.loc[i,'Rpinclposstep'].split('_')[1] for i in postexplode.index]\n",
    "postexplode['step_rp02']=[postexplode.loc[i,'Rpinclposstep'].split('_')[2] for i in postexplode.index]"
   ],
   "metadata": {
    "collapsed": false,
    "pycharm": {
     "name": "#%%\n"
    }
   }
  },
  {
   "cell_type": "code",
   "execution_count": 30,
   "outputs": [
    {
     "data": {
      "text/plain": "                                                                          paths  \\\nMC_A_6xiii_clipped_cut_lined  Y:\\Istra Repositories\\ch-gr_exports\\MC_A_6xiii...   \nMC_A_6xi_clipped_cut_lined    Y:\\Istra Repositories\\ch-gr_exports\\MC_A_6xi_c...   \nMC_A_8xiii_clipped_cut_lined  Y:\\Istra Repositories\\ch-gr_exports\\MC_A_8xiii...   \nQL_A_6xiii_clipped_cut_lined  Y:\\Istra Repositories\\ch-gr_exports\\QL_A_6xiii...   \nQL_A_6xii_clipped_cut_lined   Y:\\Istra Repositories\\ch-gr_exports\\QL_A_6xii_...   \nQL_A_6xi_clipped_cut_lined    Y:\\Istra Repositories\\ch-gr_exports\\QL_A_6xi_c...   \nQL_A_8xii_clipped_cut_lined   Y:\\Istra Repositories\\ch-gr_exports\\QL_A_8xii_...   \nQL_A_8xi_clipped_cut_lined    Y:\\Istra Repositories\\ch-gr_exports\\QL_A_8xi_c...   \nQL_A_8yiii_clipped_cut_lined  Y:\\Istra Repositories\\ch-gr_exports\\QL_A_8yiii...   \nQL_A_8yiv_clipped_cut_lined   Y:\\Istra Repositories\\ch-gr_exports\\QL_A_8yiv_...   \nQL_A_8yi_clipped_cut_lined    Y:\\Istra Repositories\\ch-gr_exports\\QL_A_8yi_c...   \nQL_A_8yvi_clipped_cut_lined   Y:\\Istra Repositories\\ch-gr_exports\\QL_A_8yvi_...   \nQL_A_8yv_clipped_cut_lined    Y:\\Istra Repositories\\ch-gr_exports\\QL_A_8yv_c...   \n\n                               ok  crack    pos  left_12-5  step_start  \\\nMC_A_6xiii_clipped_cut_lined  1.0  115.0  119.0       99.0        45.0   \nMC_A_6xi_clipped_cut_lined    1.0  135.0  143.0      123.0       110.0   \nMC_A_8xiii_clipped_cut_lined  1.0  170.0  117.5       97.5        32.5   \nQL_A_6xiii_clipped_cut_lined  1.0  110.0   95.0       75.0        32.5   \nQL_A_6xii_clipped_cut_lined   1.0  110.0   92.0       72.0        32.5   \nQL_A_6xi_clipped_cut_lined    1.0   78.0   95.0       75.0        32.5   \nQL_A_8xii_clipped_cut_lined   1.0  100.0  115.0       95.0        60.0   \nQL_A_8xi_clipped_cut_lined    2.0  118.0  123.0      103.0        57.5   \nQL_A_8yiii_clipped_cut_lined  1.0  110.0  102.0       82.0        47.5   \nQL_A_8yiv_clipped_cut_lined   1.0  116.0  133.0      113.0        40.0   \nQL_A_8yi_clipped_cut_lined    1.0  125.0  110.0       90.0        85.0   \nQL_A_8yvi_clipped_cut_lined   1.0  138.0  133.0      113.0        35.0   \nQL_A_8yv_clipped_cut_lined    1.0  125.0  135.0      115.0        45.0   \n\n                              step_stop                         index  \\\nMC_A_6xiii_clipped_cut_lined      187.5  MC_A_6xiii_clipped_cut_lined   \nMC_A_6xi_clipped_cut_lined        230.0    MC_A_6xi_clipped_cut_lined   \nMC_A_8xiii_clipped_cut_lined      355.0  MC_A_8xiii_clipped_cut_lined   \nQL_A_6xiii_clipped_cut_lined      140.0  QL_A_6xiii_clipped_cut_lined   \nQL_A_6xii_clipped_cut_lined       140.0   QL_A_6xii_clipped_cut_lined   \nQL_A_6xi_clipped_cut_lined        132.5    QL_A_6xi_clipped_cut_lined   \nQL_A_8xii_clipped_cut_lined       190.0   QL_A_8xii_clipped_cut_lined   \nQL_A_8xi_clipped_cut_lined        162.0    QL_A_8xi_clipped_cut_lined   \nQL_A_8yiii_clipped_cut_lined      292.5  QL_A_8yiii_clipped_cut_lined   \nQL_A_8yiv_clipped_cut_lined       310.0   QL_A_8yiv_clipped_cut_lined   \nQL_A_8yi_clipped_cut_lined        337.5    QL_A_8yi_clipped_cut_lined   \nQL_A_8yvi_clipped_cut_lined       315.0   QL_A_8yvi_clipped_cut_lined   \nQL_A_8yv_clipped_cut_lined        325.0    QL_A_8yv_clipped_cut_lined   \n\n                             material senergie/GW  ... 23_25  _rp02_idx  \\\nMC_A_6xiii_clipped_cut_lined       MC           A  ...              115   \nMC_A_6xi_clipped_cut_lined         MC           A  ...               93   \nMC_A_8xiii_clipped_cut_lined       MC           A  ...              108   \nQL_A_6xiii_clipped_cut_lined       QL           A  ...               98   \nQL_A_6xii_clipped_cut_lined        QL           A  ...               98   \nQL_A_6xi_clipped_cut_lined         QL           A  ...               99   \nQL_A_8xii_clipped_cut_lined        QL           A  ...              125   \nQL_A_8xi_clipped_cut_lined         QL           A  ...              104   \nQL_A_8yiii_clipped_cut_lined       QL           A  ...              244   \nQL_A_8yiv_clipped_cut_lined        QL           A  ...                0   \nQL_A_8yi_clipped_cut_lined         QL           A  ...              244   \nQL_A_8yvi_clipped_cut_lined        QL           A  ...                8   \nQL_A_8yv_clipped_cut_lined         QL           A  ...                0   \n\n                             25_27  _rp02_idx 27_29  _rp02_idx  \\\nMC_A_6xiii_clipped_cut_lined              128              105   \nMC_A_6xi_clipped_cut_lined                 93               93   \nMC_A_8xiii_clipped_cut_lined              109              112   \nQL_A_6xiii_clipped_cut_lined               85              107   \nQL_A_6xii_clipped_cut_lined                98              104   \nQL_A_6xi_clipped_cut_lined                 96               94   \nQL_A_8xii_clipped_cut_lined               125              125   \nQL_A_8xi_clipped_cut_lined                104              104   \nQL_A_8yiii_clipped_cut_lined              244              237   \nQL_A_8yiv_clipped_cut_lined                 0                0   \nQL_A_8yi_clipped_cut_lined                251              251   \nQL_A_8yvi_clipped_cut_lined                 0                0   \nQL_A_8yv_clipped_cut_lined                  0                0   \n\n                             29_31  _rp02_idx 31_33  _rp02_idx  \\\nMC_A_6xiii_clipped_cut_lined              106              121   \nMC_A_6xi_clipped_cut_lined                 93               93   \nMC_A_8xiii_clipped_cut_lined              113              117   \nQL_A_6xiii_clipped_cut_lined               86               79   \nQL_A_6xii_clipped_cut_lined               107              103   \nQL_A_6xi_clipped_cut_lined                 99               84   \nQL_A_8xii_clipped_cut_lined               125              125   \nQL_A_8xi_clipped_cut_lined                104              104   \nQL_A_8yiii_clipped_cut_lined              237              237   \nQL_A_8yiv_clipped_cut_lined                18               15   \nQL_A_8yi_clipped_cut_lined                251              251   \nQL_A_8yvi_clipped_cut_lined                 0                4   \nQL_A_8yv_clipped_cut_lined                  7                7   \n\n                             33_35  _rp02_idx  \\\nMC_A_6xiii_clipped_cut_lined               98   \nMC_A_6xi_clipped_cut_lined                 93   \nMC_A_8xiii_clipped_cut_lined              121   \nQL_A_6xiii_clipped_cut_lined              100   \nQL_A_6xii_clipped_cut_lined               103   \nQL_A_6xi_clipped_cut_lined                 83   \nQL_A_8xii_clipped_cut_lined               125   \nQL_A_8xi_clipped_cut_lined                104   \nQL_A_8yiii_clipped_cut_lined              237   \nQL_A_8yiv_clipped_cut_lined                15   \nQL_A_8yi_clipped_cut_lined                251   \nQL_A_8yvi_clipped_cut_lined                 4   \nQL_A_8yv_clipped_cut_lined                  7   \n\n                                                                             Rp  \\\nMC_A_6xiii_clipped_cut_lined  [1204.4481996886757, 1128.5487458455787, 1188....   \nMC_A_6xi_clipped_cut_lined    [1203.8424897133077, 1181.0288628405992, 1217....   \nMC_A_8xiii_clipped_cut_lined  [1219.270807317664, 1188.6837439676333, 1187.9...   \nQL_A_6xiii_clipped_cut_lined  [-674.4802461628533, -495.0435621545562, -1059...   \nQL_A_6xii_clipped_cut_lined   [-590.8387881951744, -829.4734947310999, -672....   \nQL_A_6xi_clipped_cut_lined    [-858.6561626161019, -561.6253623927755, -772....   \nQL_A_8xii_clipped_cut_lined   [-386.7221421821705, -465.74452481228855, -504...   \nQL_A_8xi_clipped_cut_lined    [-665.0887322388562, -895.0616890994911, -375....   \nQL_A_8yiii_clipped_cut_lined  [-326.6876478586455, -370.1771923792894, -281....   \nQL_A_8yiv_clipped_cut_lined   [1319053.8576794213, 1336274.3643759466, 13085...   \nQL_A_8yi_clipped_cut_lined    [-264.01576184006854, -187.61860333804816, -24...   \nQL_A_8yvi_clipped_cut_lined   [1452987.19459171, 1489518.6859292977, 1300902...   \nQL_A_8yv_clipped_cut_lined    [1337225.0493673065, 1184061.4692962256, 12956...   \n\n                                                                      Rpatsteps  \\\nMC_A_6xiii_clipped_cut_lined  [104, 139, 97, 99, 102, 95, 94, 95, 85, 78, 60...   \nMC_A_6xi_clipped_cut_lined    [99, 92, 90, 91, 93, 92, 91, 83, 72, 65, 62, 6...   \nMC_A_8xiii_clipped_cut_lined  [132, 127, 126, 124, 121, 115, 111, 107, 103, ...   \nQL_A_6xiii_clipped_cut_lined  [107, 107, 107, 98, 100, 107, 107, 95, 107, 10...   \nQL_A_6xii_clipped_cut_lined   [99, 98, 107, 107, 100, 103, 107, 102, 103, 10...   \nQL_A_6xi_clipped_cut_lined    [94, 99, 99, 91, 92, 92, 97, 99, 99, 84, 74, 6...   \nQL_A_8xii_clipped_cut_lined   [122, 129, 129, 126, 129, 129, 129, 129, 121, ...   \nQL_A_8xi_clipped_cut_lined    [104, 104, 104, 104, 104, 104, 104, 104, 99, 9...   \nQL_A_8yiii_clipped_cut_lined  [235, 244, 243, 244, 237, 244, 244, 244, 244, ...   \nQL_A_8yiv_clipped_cut_lined   [9, 5, 3, 0, 2, 8, 4, 0, 0, 10, 9, 16, 0, 1, 0...   \nQL_A_8yi_clipped_cut_lined    [251, 224, 233, 251, 247, 247, 244, 251, 248, ...   \nQL_A_8yvi_clipped_cut_lined   [0, 0, 6, 11, 0, 0, 0, 8, 0, 8, 0, 0, 0, 7, 0,...   \nQL_A_8yv_clipped_cut_lined    [0, 0, 5, 0, 0, 0, 0, 5, 6, 5, 2, 4, 0, 0, 0, ...   \n\n                                                                  Rpinclposstep  \\\nMC_A_6xiii_clipped_cut_lined  [1204.4481996886757_-34.0_104, 1128.5487458455...   \nMC_A_6xi_clipped_cut_lined    [1203.8424897133077_-34.0_99, 1181.02886284059...   \nMC_A_8xiii_clipped_cut_lined  [1219.270807317664_-34.0_132, 1188.68374396763...   \nQL_A_6xiii_clipped_cut_lined  [-674.4802461628533_-34.0_107, -495.0435621545...   \nQL_A_6xii_clipped_cut_lined   [-590.8387881951744_-34.0_99, -829.47349473109...   \nQL_A_6xi_clipped_cut_lined    [-858.6561626161019_-34.0_94, -561.62536239277...   \nQL_A_8xii_clipped_cut_lined   [-386.7221421821705_-34.0_122, -465.7445248122...   \nQL_A_8xi_clipped_cut_lined    [-665.0887322388562_-34.0_104, -895.0616890994...   \nQL_A_8yiii_clipped_cut_lined  [-326.6876478586455_-34.0_235, -370.1771923792...   \nQL_A_8yiv_clipped_cut_lined   [1319053.8576794213_-34.0_9, 1336274.364375946...   \nQL_A_8yi_clipped_cut_lined    [-264.01576184006854_-34.0_251, -187.618603338...   \nQL_A_8yvi_clipped_cut_lined   [1452987.19459171_-34.0_0, 1489518.6859292977_...   \nQL_A_8yv_clipped_cut_lined    [1337225.0493673065_-34.0_0, 1184061.469296225...   \n\n                                                                           post  \nMC_A_6xiii_clipped_cut_lined  [1204.4481996886757, 1128.5487458455787, 1188....  \nMC_A_6xi_clipped_cut_lined    [1203.8424897133077, 1181.0288628405992, 1217....  \nMC_A_8xiii_clipped_cut_lined  [1219.270807317664, 1188.6837439676333, 1187.9...  \nQL_A_6xiii_clipped_cut_lined  [-674.4802461628533, -495.0435621545562, -1059...  \nQL_A_6xii_clipped_cut_lined   [-590.8387881951744, -829.4734947310999, -672....  \nQL_A_6xi_clipped_cut_lined    [-858.6561626161019, -561.6253623927755, -772....  \nQL_A_8xii_clipped_cut_lined   [-386.7221421821705, -465.74452481228855, -504...  \nQL_A_8xi_clipped_cut_lined    [-665.0887322388562, -895.0616890994911, -375....  \nQL_A_8yiii_clipped_cut_lined  [-326.6876478586455, -370.1771923792894, -281....  \nQL_A_8yiv_clipped_cut_lined   [1319053.8576794213, 1336274.3643759466, 13085...  \nQL_A_8yi_clipped_cut_lined    [-264.01576184006854, -187.61860333804816, -24...  \nQL_A_8yvi_clipped_cut_lined   [1452987.19459171, 1489518.6859292977, 1300902...  \nQL_A_8yv_clipped_cut_lined    [1337225.0493673065, 1184061.4692962256, 12956...  \n\n[13 rows x 198 columns]",
      "text/html": "<div>\n<style scoped>\n    .dataframe tbody tr th:only-of-type {\n        vertical-align: middle;\n    }\n\n    .dataframe tbody tr th {\n        vertical-align: top;\n    }\n\n    .dataframe thead th {\n        text-align: right;\n    }\n</style>\n<table border=\"1\" class=\"dataframe\">\n  <thead>\n    <tr style=\"text-align: right;\">\n      <th></th>\n      <th>paths</th>\n      <th>ok</th>\n      <th>crack</th>\n      <th>pos</th>\n      <th>left_12-5</th>\n      <th>step_start</th>\n      <th>step_stop</th>\n      <th>index</th>\n      <th>material</th>\n      <th>senergie/GW</th>\n      <th>...</th>\n      <th>23_25  _rp02_idx</th>\n      <th>25_27  _rp02_idx</th>\n      <th>27_29  _rp02_idx</th>\n      <th>29_31  _rp02_idx</th>\n      <th>31_33  _rp02_idx</th>\n      <th>33_35  _rp02_idx</th>\n      <th>Rp</th>\n      <th>Rpatsteps</th>\n      <th>Rpinclposstep</th>\n      <th>post</th>\n    </tr>\n  </thead>\n  <tbody>\n    <tr>\n      <th>MC_A_6xiii_clipped_cut_lined</th>\n      <td>Y:\\Istra Repositories\\ch-gr_exports\\MC_A_6xiii...</td>\n      <td>1.0</td>\n      <td>115.0</td>\n      <td>119.0</td>\n      <td>99.0</td>\n      <td>45.0</td>\n      <td>187.5</td>\n      <td>MC_A_6xiii_clipped_cut_lined</td>\n      <td>MC</td>\n      <td>A</td>\n      <td>...</td>\n      <td>115</td>\n      <td>128</td>\n      <td>105</td>\n      <td>106</td>\n      <td>121</td>\n      <td>98</td>\n      <td>[1204.4481996886757, 1128.5487458455787, 1188....</td>\n      <td>[104, 139, 97, 99, 102, 95, 94, 95, 85, 78, 60...</td>\n      <td>[1204.4481996886757_-34.0_104, 1128.5487458455...</td>\n      <td>[1204.4481996886757, 1128.5487458455787, 1188....</td>\n    </tr>\n    <tr>\n      <th>MC_A_6xi_clipped_cut_lined</th>\n      <td>Y:\\Istra Repositories\\ch-gr_exports\\MC_A_6xi_c...</td>\n      <td>1.0</td>\n      <td>135.0</td>\n      <td>143.0</td>\n      <td>123.0</td>\n      <td>110.0</td>\n      <td>230.0</td>\n      <td>MC_A_6xi_clipped_cut_lined</td>\n      <td>MC</td>\n      <td>A</td>\n      <td>...</td>\n      <td>93</td>\n      <td>93</td>\n      <td>93</td>\n      <td>93</td>\n      <td>93</td>\n      <td>93</td>\n      <td>[1203.8424897133077, 1181.0288628405992, 1217....</td>\n      <td>[99, 92, 90, 91, 93, 92, 91, 83, 72, 65, 62, 6...</td>\n      <td>[1203.8424897133077_-34.0_99, 1181.02886284059...</td>\n      <td>[1203.8424897133077, 1181.0288628405992, 1217....</td>\n    </tr>\n    <tr>\n      <th>MC_A_8xiii_clipped_cut_lined</th>\n      <td>Y:\\Istra Repositories\\ch-gr_exports\\MC_A_8xiii...</td>\n      <td>1.0</td>\n      <td>170.0</td>\n      <td>117.5</td>\n      <td>97.5</td>\n      <td>32.5</td>\n      <td>355.0</td>\n      <td>MC_A_8xiii_clipped_cut_lined</td>\n      <td>MC</td>\n      <td>A</td>\n      <td>...</td>\n      <td>108</td>\n      <td>109</td>\n      <td>112</td>\n      <td>113</td>\n      <td>117</td>\n      <td>121</td>\n      <td>[1219.270807317664, 1188.6837439676333, 1187.9...</td>\n      <td>[132, 127, 126, 124, 121, 115, 111, 107, 103, ...</td>\n      <td>[1219.270807317664_-34.0_132, 1188.68374396763...</td>\n      <td>[1219.270807317664, 1188.6837439676333, 1187.9...</td>\n    </tr>\n    <tr>\n      <th>QL_A_6xiii_clipped_cut_lined</th>\n      <td>Y:\\Istra Repositories\\ch-gr_exports\\QL_A_6xiii...</td>\n      <td>1.0</td>\n      <td>110.0</td>\n      <td>95.0</td>\n      <td>75.0</td>\n      <td>32.5</td>\n      <td>140.0</td>\n      <td>QL_A_6xiii_clipped_cut_lined</td>\n      <td>QL</td>\n      <td>A</td>\n      <td>...</td>\n      <td>98</td>\n      <td>85</td>\n      <td>107</td>\n      <td>86</td>\n      <td>79</td>\n      <td>100</td>\n      <td>[-674.4802461628533, -495.0435621545562, -1059...</td>\n      <td>[107, 107, 107, 98, 100, 107, 107, 95, 107, 10...</td>\n      <td>[-674.4802461628533_-34.0_107, -495.0435621545...</td>\n      <td>[-674.4802461628533, -495.0435621545562, -1059...</td>\n    </tr>\n    <tr>\n      <th>QL_A_6xii_clipped_cut_lined</th>\n      <td>Y:\\Istra Repositories\\ch-gr_exports\\QL_A_6xii_...</td>\n      <td>1.0</td>\n      <td>110.0</td>\n      <td>92.0</td>\n      <td>72.0</td>\n      <td>32.5</td>\n      <td>140.0</td>\n      <td>QL_A_6xii_clipped_cut_lined</td>\n      <td>QL</td>\n      <td>A</td>\n      <td>...</td>\n      <td>98</td>\n      <td>98</td>\n      <td>104</td>\n      <td>107</td>\n      <td>103</td>\n      <td>103</td>\n      <td>[-590.8387881951744, -829.4734947310999, -672....</td>\n      <td>[99, 98, 107, 107, 100, 103, 107, 102, 103, 10...</td>\n      <td>[-590.8387881951744_-34.0_99, -829.47349473109...</td>\n      <td>[-590.8387881951744, -829.4734947310999, -672....</td>\n    </tr>\n    <tr>\n      <th>QL_A_6xi_clipped_cut_lined</th>\n      <td>Y:\\Istra Repositories\\ch-gr_exports\\QL_A_6xi_c...</td>\n      <td>1.0</td>\n      <td>78.0</td>\n      <td>95.0</td>\n      <td>75.0</td>\n      <td>32.5</td>\n      <td>132.5</td>\n      <td>QL_A_6xi_clipped_cut_lined</td>\n      <td>QL</td>\n      <td>A</td>\n      <td>...</td>\n      <td>99</td>\n      <td>96</td>\n      <td>94</td>\n      <td>99</td>\n      <td>84</td>\n      <td>83</td>\n      <td>[-858.6561626161019, -561.6253623927755, -772....</td>\n      <td>[94, 99, 99, 91, 92, 92, 97, 99, 99, 84, 74, 6...</td>\n      <td>[-858.6561626161019_-34.0_94, -561.62536239277...</td>\n      <td>[-858.6561626161019, -561.6253623927755, -772....</td>\n    </tr>\n    <tr>\n      <th>QL_A_8xii_clipped_cut_lined</th>\n      <td>Y:\\Istra Repositories\\ch-gr_exports\\QL_A_8xii_...</td>\n      <td>1.0</td>\n      <td>100.0</td>\n      <td>115.0</td>\n      <td>95.0</td>\n      <td>60.0</td>\n      <td>190.0</td>\n      <td>QL_A_8xii_clipped_cut_lined</td>\n      <td>QL</td>\n      <td>A</td>\n      <td>...</td>\n      <td>125</td>\n      <td>125</td>\n      <td>125</td>\n      <td>125</td>\n      <td>125</td>\n      <td>125</td>\n      <td>[-386.7221421821705, -465.74452481228855, -504...</td>\n      <td>[122, 129, 129, 126, 129, 129, 129, 129, 121, ...</td>\n      <td>[-386.7221421821705_-34.0_122, -465.7445248122...</td>\n      <td>[-386.7221421821705, -465.74452481228855, -504...</td>\n    </tr>\n    <tr>\n      <th>QL_A_8xi_clipped_cut_lined</th>\n      <td>Y:\\Istra Repositories\\ch-gr_exports\\QL_A_8xi_c...</td>\n      <td>2.0</td>\n      <td>118.0</td>\n      <td>123.0</td>\n      <td>103.0</td>\n      <td>57.5</td>\n      <td>162.0</td>\n      <td>QL_A_8xi_clipped_cut_lined</td>\n      <td>QL</td>\n      <td>A</td>\n      <td>...</td>\n      <td>104</td>\n      <td>104</td>\n      <td>104</td>\n      <td>104</td>\n      <td>104</td>\n      <td>104</td>\n      <td>[-665.0887322388562, -895.0616890994911, -375....</td>\n      <td>[104, 104, 104, 104, 104, 104, 104, 104, 99, 9...</td>\n      <td>[-665.0887322388562_-34.0_104, -895.0616890994...</td>\n      <td>[-665.0887322388562, -895.0616890994911, -375....</td>\n    </tr>\n    <tr>\n      <th>QL_A_8yiii_clipped_cut_lined</th>\n      <td>Y:\\Istra Repositories\\ch-gr_exports\\QL_A_8yiii...</td>\n      <td>1.0</td>\n      <td>110.0</td>\n      <td>102.0</td>\n      <td>82.0</td>\n      <td>47.5</td>\n      <td>292.5</td>\n      <td>QL_A_8yiii_clipped_cut_lined</td>\n      <td>QL</td>\n      <td>A</td>\n      <td>...</td>\n      <td>244</td>\n      <td>244</td>\n      <td>237</td>\n      <td>237</td>\n      <td>237</td>\n      <td>237</td>\n      <td>[-326.6876478586455, -370.1771923792894, -281....</td>\n      <td>[235, 244, 243, 244, 237, 244, 244, 244, 244, ...</td>\n      <td>[-326.6876478586455_-34.0_235, -370.1771923792...</td>\n      <td>[-326.6876478586455, -370.1771923792894, -281....</td>\n    </tr>\n    <tr>\n      <th>QL_A_8yiv_clipped_cut_lined</th>\n      <td>Y:\\Istra Repositories\\ch-gr_exports\\QL_A_8yiv_...</td>\n      <td>1.0</td>\n      <td>116.0</td>\n      <td>133.0</td>\n      <td>113.0</td>\n      <td>40.0</td>\n      <td>310.0</td>\n      <td>QL_A_8yiv_clipped_cut_lined</td>\n      <td>QL</td>\n      <td>A</td>\n      <td>...</td>\n      <td>0</td>\n      <td>0</td>\n      <td>0</td>\n      <td>18</td>\n      <td>15</td>\n      <td>15</td>\n      <td>[1319053.8576794213, 1336274.3643759466, 13085...</td>\n      <td>[9, 5, 3, 0, 2, 8, 4, 0, 0, 10, 9, 16, 0, 1, 0...</td>\n      <td>[1319053.8576794213_-34.0_9, 1336274.364375946...</td>\n      <td>[1319053.8576794213, 1336274.3643759466, 13085...</td>\n    </tr>\n    <tr>\n      <th>QL_A_8yi_clipped_cut_lined</th>\n      <td>Y:\\Istra Repositories\\ch-gr_exports\\QL_A_8yi_c...</td>\n      <td>1.0</td>\n      <td>125.0</td>\n      <td>110.0</td>\n      <td>90.0</td>\n      <td>85.0</td>\n      <td>337.5</td>\n      <td>QL_A_8yi_clipped_cut_lined</td>\n      <td>QL</td>\n      <td>A</td>\n      <td>...</td>\n      <td>244</td>\n      <td>251</td>\n      <td>251</td>\n      <td>251</td>\n      <td>251</td>\n      <td>251</td>\n      <td>[-264.01576184006854, -187.61860333804816, -24...</td>\n      <td>[251, 224, 233, 251, 247, 247, 244, 251, 248, ...</td>\n      <td>[-264.01576184006854_-34.0_251, -187.618603338...</td>\n      <td>[-264.01576184006854, -187.61860333804816, -24...</td>\n    </tr>\n    <tr>\n      <th>QL_A_8yvi_clipped_cut_lined</th>\n      <td>Y:\\Istra Repositories\\ch-gr_exports\\QL_A_8yvi_...</td>\n      <td>1.0</td>\n      <td>138.0</td>\n      <td>133.0</td>\n      <td>113.0</td>\n      <td>35.0</td>\n      <td>315.0</td>\n      <td>QL_A_8yvi_clipped_cut_lined</td>\n      <td>QL</td>\n      <td>A</td>\n      <td>...</td>\n      <td>8</td>\n      <td>0</td>\n      <td>0</td>\n      <td>0</td>\n      <td>4</td>\n      <td>4</td>\n      <td>[1452987.19459171, 1489518.6859292977, 1300902...</td>\n      <td>[0, 0, 6, 11, 0, 0, 0, 8, 0, 8, 0, 0, 0, 7, 0,...</td>\n      <td>[1452987.19459171_-34.0_0, 1489518.6859292977_...</td>\n      <td>[1452987.19459171, 1489518.6859292977, 1300902...</td>\n    </tr>\n    <tr>\n      <th>QL_A_8yv_clipped_cut_lined</th>\n      <td>Y:\\Istra Repositories\\ch-gr_exports\\QL_A_8yv_c...</td>\n      <td>1.0</td>\n      <td>125.0</td>\n      <td>135.0</td>\n      <td>115.0</td>\n      <td>45.0</td>\n      <td>325.0</td>\n      <td>QL_A_8yv_clipped_cut_lined</td>\n      <td>QL</td>\n      <td>A</td>\n      <td>...</td>\n      <td>0</td>\n      <td>0</td>\n      <td>0</td>\n      <td>7</td>\n      <td>7</td>\n      <td>7</td>\n      <td>[1337225.0493673065, 1184061.4692962256, 12956...</td>\n      <td>[0, 0, 5, 0, 0, 0, 0, 5, 6, 5, 2, 4, 0, 0, 0, ...</td>\n      <td>[1337225.0493673065_-34.0_0, 1184061.469296225...</td>\n      <td>[1337225.0493673065, 1184061.4692962256, 12956...</td>\n    </tr>\n  </tbody>\n</table>\n<p>13 rows × 198 columns</p>\n</div>"
     },
     "metadata": {},
     "output_type": "display_data"
    }
   ],
   "source": [
    "display(tests_df[tests_df['senergie/GW']=='A'])"
   ],
   "metadata": {
    "collapsed": false,
    "pycharm": {
     "name": "#%%\n"
    }
   }
  },
  {
   "cell_type": "code",
   "execution_count": 49,
   "outputs": [
    {
     "data": {
      "text/plain": "'############'"
     },
     "metadata": {},
     "output_type": "display_data"
    },
    {
     "data": {
      "text/plain": "                         level_0  \\\n805  QL_A_8yiv_clipped_cut_lined   \n806  QL_A_8yiv_clipped_cut_lined   \n807  QL_A_8yiv_clipped_cut_lined   \n808  QL_A_8yiv_clipped_cut_lined   \n809  QL_A_8yiv_clipped_cut_lined   \n..                           ...   \n940   QL_A_8yv_clipped_cut_lined   \n941   QL_A_8yv_clipped_cut_lined   \n942   QL_A_8yv_clipped_cut_lined   \n943   QL_A_8yv_clipped_cut_lined   \n944   QL_A_8yv_clipped_cut_lined   \n\n                                                 paths   ok  crack    pos  \\\n805  Y:\\Istra Repositories\\ch-gr_exports\\QL_A_8yiv_...  1.0  116.0  133.0   \n806  Y:\\Istra Repositories\\ch-gr_exports\\QL_A_8yiv_...  1.0  116.0  133.0   \n807  Y:\\Istra Repositories\\ch-gr_exports\\QL_A_8yiv_...  1.0  116.0  133.0   \n808  Y:\\Istra Repositories\\ch-gr_exports\\QL_A_8yiv_...  1.0  116.0  133.0   \n809  Y:\\Istra Repositories\\ch-gr_exports\\QL_A_8yiv_...  1.0  116.0  133.0   \n..                                                 ...  ...    ...    ...   \n940  Y:\\Istra Repositories\\ch-gr_exports\\QL_A_8yv_c...  1.0  125.0  135.0   \n941  Y:\\Istra Repositories\\ch-gr_exports\\QL_A_8yv_c...  1.0  125.0  135.0   \n942  Y:\\Istra Repositories\\ch-gr_exports\\QL_A_8yv_c...  1.0  125.0  135.0   \n943  Y:\\Istra Repositories\\ch-gr_exports\\QL_A_8yv_c...  1.0  125.0  135.0   \n944  Y:\\Istra Repositories\\ch-gr_exports\\QL_A_8yv_c...  1.0  125.0  135.0   \n\n     left_12-5  step_start  step_stop                        index material  \\\n805      113.0        40.0      310.0  QL_A_8yiv_clipped_cut_lined       QL   \n806      113.0        40.0      310.0  QL_A_8yiv_clipped_cut_lined       QL   \n807      113.0        40.0      310.0  QL_A_8yiv_clipped_cut_lined       QL   \n808      113.0        40.0      310.0  QL_A_8yiv_clipped_cut_lined       QL   \n809      113.0        40.0      310.0  QL_A_8yiv_clipped_cut_lined       QL   \n..         ...         ...        ...                          ...      ...   \n940      115.0        45.0      325.0   QL_A_8yv_clipped_cut_lined       QL   \n941      115.0        45.0      325.0   QL_A_8yv_clipped_cut_lined       QL   \n942      115.0        45.0      325.0   QL_A_8yv_clipped_cut_lined       QL   \n943      115.0        45.0      325.0   QL_A_8yv_clipped_cut_lined       QL   \n944      115.0        45.0      325.0   QL_A_8yv_clipped_cut_lined       QL   \n\n    senergie/GW plate_thickness testspeed running_number  \\\n805           A               8         y             iv   \n806           A               8         y             iv   \n807           A               8         y             iv   \n808           A               8         y             iv   \n809           A               8         y             iv   \n..          ...             ...       ...            ...   \n940           A               8         y              v   \n941           A               8         y              v   \n942           A               8         y              v   \n943           A               8         y              v   \n944           A               8         y              v   \n\n                                                  data                  Rp  \\\n805  group                                         ...  1319053.8576794213   \n806  group                                         ...  1336274.3643759466   \n807  group                                         ...  1308570.0864087911   \n808  group                                         ...  1139715.0140532963   \n809  group                                         ...  1097870.0206725935   \n..                                                 ...                 ...   \n940  group                                         ...  1129596.2417406118   \n941  group                                         ...  1288469.0902760082   \n942  group                                         ...  1503790.3870261465   \n943  group                                         ...  1503790.3870261465   \n944  group                                         ...  1503790.3870261465   \n\n      post               Rpinclposstep step_rp02  \n805  -34.0  1319053.8576794213_-34.0_9         9  \n806  -32.0  1336274.3643759466_-32.0_5         5  \n807  -30.0  1308570.0864087911_-30.0_3         3  \n808  -28.0  1139715.0140532963_-28.0_0         0  \n809  -26.0  1097870.0206725935_-26.0_2         2  \n..     ...                         ...       ...  \n940   26.0   1129596.2417406118_26.0_0         0  \n941   28.0   1288469.0902760082_28.0_0         0  \n942   30.0   1503790.3870261465_30.0_7         7  \n943   32.0   1503790.3870261465_32.0_7         7  \n944   34.0   1503790.3870261465_34.0_7         7  \n\n[105 rows x 19 columns]",
      "text/html": "<div>\n<style scoped>\n    .dataframe tbody tr th:only-of-type {\n        vertical-align: middle;\n    }\n\n    .dataframe tbody tr th {\n        vertical-align: top;\n    }\n\n    .dataframe thead th {\n        text-align: right;\n    }\n</style>\n<table border=\"1\" class=\"dataframe\">\n  <thead>\n    <tr style=\"text-align: right;\">\n      <th></th>\n      <th>level_0</th>\n      <th>paths</th>\n      <th>ok</th>\n      <th>crack</th>\n      <th>pos</th>\n      <th>left_12-5</th>\n      <th>step_start</th>\n      <th>step_stop</th>\n      <th>index</th>\n      <th>material</th>\n      <th>senergie/GW</th>\n      <th>plate_thickness</th>\n      <th>testspeed</th>\n      <th>running_number</th>\n      <th>data</th>\n      <th>Rp</th>\n      <th>post</th>\n      <th>Rpinclposstep</th>\n      <th>step_rp02</th>\n    </tr>\n  </thead>\n  <tbody>\n    <tr>\n      <th>805</th>\n      <td>QL_A_8yiv_clipped_cut_lined</td>\n      <td>Y:\\Istra Repositories\\ch-gr_exports\\QL_A_8yiv_...</td>\n      <td>1.0</td>\n      <td>116.0</td>\n      <td>133.0</td>\n      <td>113.0</td>\n      <td>40.0</td>\n      <td>310.0</td>\n      <td>QL_A_8yiv_clipped_cut_lined</td>\n      <td>QL</td>\n      <td>A</td>\n      <td>8</td>\n      <td>y</td>\n      <td>iv</td>\n      <td>group                                         ...</td>\n      <td>1319053.8576794213</td>\n      <td>-34.0</td>\n      <td>1319053.8576794213_-34.0_9</td>\n      <td>9</td>\n    </tr>\n    <tr>\n      <th>806</th>\n      <td>QL_A_8yiv_clipped_cut_lined</td>\n      <td>Y:\\Istra Repositories\\ch-gr_exports\\QL_A_8yiv_...</td>\n      <td>1.0</td>\n      <td>116.0</td>\n      <td>133.0</td>\n      <td>113.0</td>\n      <td>40.0</td>\n      <td>310.0</td>\n      <td>QL_A_8yiv_clipped_cut_lined</td>\n      <td>QL</td>\n      <td>A</td>\n      <td>8</td>\n      <td>y</td>\n      <td>iv</td>\n      <td>group                                         ...</td>\n      <td>1336274.3643759466</td>\n      <td>-32.0</td>\n      <td>1336274.3643759466_-32.0_5</td>\n      <td>5</td>\n    </tr>\n    <tr>\n      <th>807</th>\n      <td>QL_A_8yiv_clipped_cut_lined</td>\n      <td>Y:\\Istra Repositories\\ch-gr_exports\\QL_A_8yiv_...</td>\n      <td>1.0</td>\n      <td>116.0</td>\n      <td>133.0</td>\n      <td>113.0</td>\n      <td>40.0</td>\n      <td>310.0</td>\n      <td>QL_A_8yiv_clipped_cut_lined</td>\n      <td>QL</td>\n      <td>A</td>\n      <td>8</td>\n      <td>y</td>\n      <td>iv</td>\n      <td>group                                         ...</td>\n      <td>1308570.0864087911</td>\n      <td>-30.0</td>\n      <td>1308570.0864087911_-30.0_3</td>\n      <td>3</td>\n    </tr>\n    <tr>\n      <th>808</th>\n      <td>QL_A_8yiv_clipped_cut_lined</td>\n      <td>Y:\\Istra Repositories\\ch-gr_exports\\QL_A_8yiv_...</td>\n      <td>1.0</td>\n      <td>116.0</td>\n      <td>133.0</td>\n      <td>113.0</td>\n      <td>40.0</td>\n      <td>310.0</td>\n      <td>QL_A_8yiv_clipped_cut_lined</td>\n      <td>QL</td>\n      <td>A</td>\n      <td>8</td>\n      <td>y</td>\n      <td>iv</td>\n      <td>group                                         ...</td>\n      <td>1139715.0140532963</td>\n      <td>-28.0</td>\n      <td>1139715.0140532963_-28.0_0</td>\n      <td>0</td>\n    </tr>\n    <tr>\n      <th>809</th>\n      <td>QL_A_8yiv_clipped_cut_lined</td>\n      <td>Y:\\Istra Repositories\\ch-gr_exports\\QL_A_8yiv_...</td>\n      <td>1.0</td>\n      <td>116.0</td>\n      <td>133.0</td>\n      <td>113.0</td>\n      <td>40.0</td>\n      <td>310.0</td>\n      <td>QL_A_8yiv_clipped_cut_lined</td>\n      <td>QL</td>\n      <td>A</td>\n      <td>8</td>\n      <td>y</td>\n      <td>iv</td>\n      <td>group                                         ...</td>\n      <td>1097870.0206725935</td>\n      <td>-26.0</td>\n      <td>1097870.0206725935_-26.0_2</td>\n      <td>2</td>\n    </tr>\n    <tr>\n      <th>...</th>\n      <td>...</td>\n      <td>...</td>\n      <td>...</td>\n      <td>...</td>\n      <td>...</td>\n      <td>...</td>\n      <td>...</td>\n      <td>...</td>\n      <td>...</td>\n      <td>...</td>\n      <td>...</td>\n      <td>...</td>\n      <td>...</td>\n      <td>...</td>\n      <td>...</td>\n      <td>...</td>\n      <td>...</td>\n      <td>...</td>\n      <td>...</td>\n    </tr>\n    <tr>\n      <th>940</th>\n      <td>QL_A_8yv_clipped_cut_lined</td>\n      <td>Y:\\Istra Repositories\\ch-gr_exports\\QL_A_8yv_c...</td>\n      <td>1.0</td>\n      <td>125.0</td>\n      <td>135.0</td>\n      <td>115.0</td>\n      <td>45.0</td>\n      <td>325.0</td>\n      <td>QL_A_8yv_clipped_cut_lined</td>\n      <td>QL</td>\n      <td>A</td>\n      <td>8</td>\n      <td>y</td>\n      <td>v</td>\n      <td>group                                         ...</td>\n      <td>1129596.2417406118</td>\n      <td>26.0</td>\n      <td>1129596.2417406118_26.0_0</td>\n      <td>0</td>\n    </tr>\n    <tr>\n      <th>941</th>\n      <td>QL_A_8yv_clipped_cut_lined</td>\n      <td>Y:\\Istra Repositories\\ch-gr_exports\\QL_A_8yv_c...</td>\n      <td>1.0</td>\n      <td>125.0</td>\n      <td>135.0</td>\n      <td>115.0</td>\n      <td>45.0</td>\n      <td>325.0</td>\n      <td>QL_A_8yv_clipped_cut_lined</td>\n      <td>QL</td>\n      <td>A</td>\n      <td>8</td>\n      <td>y</td>\n      <td>v</td>\n      <td>group                                         ...</td>\n      <td>1288469.0902760082</td>\n      <td>28.0</td>\n      <td>1288469.0902760082_28.0_0</td>\n      <td>0</td>\n    </tr>\n    <tr>\n      <th>942</th>\n      <td>QL_A_8yv_clipped_cut_lined</td>\n      <td>Y:\\Istra Repositories\\ch-gr_exports\\QL_A_8yv_c...</td>\n      <td>1.0</td>\n      <td>125.0</td>\n      <td>135.0</td>\n      <td>115.0</td>\n      <td>45.0</td>\n      <td>325.0</td>\n      <td>QL_A_8yv_clipped_cut_lined</td>\n      <td>QL</td>\n      <td>A</td>\n      <td>8</td>\n      <td>y</td>\n      <td>v</td>\n      <td>group                                         ...</td>\n      <td>1503790.3870261465</td>\n      <td>30.0</td>\n      <td>1503790.3870261465_30.0_7</td>\n      <td>7</td>\n    </tr>\n    <tr>\n      <th>943</th>\n      <td>QL_A_8yv_clipped_cut_lined</td>\n      <td>Y:\\Istra Repositories\\ch-gr_exports\\QL_A_8yv_c...</td>\n      <td>1.0</td>\n      <td>125.0</td>\n      <td>135.0</td>\n      <td>115.0</td>\n      <td>45.0</td>\n      <td>325.0</td>\n      <td>QL_A_8yv_clipped_cut_lined</td>\n      <td>QL</td>\n      <td>A</td>\n      <td>8</td>\n      <td>y</td>\n      <td>v</td>\n      <td>group                                         ...</td>\n      <td>1503790.3870261465</td>\n      <td>32.0</td>\n      <td>1503790.3870261465_32.0_7</td>\n      <td>7</td>\n    </tr>\n    <tr>\n      <th>944</th>\n      <td>QL_A_8yv_clipped_cut_lined</td>\n      <td>Y:\\Istra Repositories\\ch-gr_exports\\QL_A_8yv_c...</td>\n      <td>1.0</td>\n      <td>125.0</td>\n      <td>135.0</td>\n      <td>115.0</td>\n      <td>45.0</td>\n      <td>325.0</td>\n      <td>QL_A_8yv_clipped_cut_lined</td>\n      <td>QL</td>\n      <td>A</td>\n      <td>8</td>\n      <td>y</td>\n      <td>v</td>\n      <td>group                                         ...</td>\n      <td>1503790.3870261465</td>\n      <td>34.0</td>\n      <td>1503790.3870261465_34.0_7</td>\n      <td>7</td>\n    </tr>\n  </tbody>\n</table>\n<p>105 rows × 19 columns</p>\n</div>"
     },
     "metadata": {},
     "output_type": "display_data"
    },
    {
     "data": {
      "text/plain": "'#######'"
     },
     "metadata": {},
     "output_type": "display_data"
    },
    {
     "data": {
      "text/plain": "array(['QL_A_8yiv_clipped_cut_lined', 'QL_A_8yvi_clipped_cut_lined',\n       'QL_A_8yv_clipped_cut_lined'], dtype=object)"
     },
     "metadata": {},
     "output_type": "display_data"
    },
    {
     "data": {
      "text/plain": "array(['QL_A_8yiv_clipped_cut_lined', 'QL_A_8yvi_clipped_cut_lined',\n       'QL_A_8yv_clipped_cut_lined'], dtype=object)"
     },
     "metadata": {},
     "output_type": "display_data"
    },
    {
     "data": {
      "text/plain": "<Figure size 1800x720 with 2 Axes>",
      "image/png": "[encoded data removed]"
     },
     "metadata": {},
     "output_type": "display_data"
    }
   ],
   "source": [
    "plot=postexplode.copy()\n",
    "plot2=postexplode.copy()\n",
    "\n",
    "\n",
    "\n",
    "plot=plot[plot['material']=='QL']\n",
    "plot=plot[plot['plate_thickness']=='8']\n",
    "plot=plot[plot['running_number'].isin (['v','iv','vi'])]\n",
    "plot=plot[plot['testspeed']=='y']\n",
    "plot=plot[plot['senergie/GW']!='GW']\n",
    "plot=plot[plot['senergie/GW']=='A']\n",
    "display('############')\n",
    "display(plot[plot['senergie/GW']=='A'])\n",
    "display('#######')\n",
    "plot['Rp']=[float(x)/60000 for x in plot['Rp']]\n",
    "#plot=plot[plot['Rp'].astype(float)>700]\n",
    "#plot=plot[plot['Rp'].astype(float)<1500]\n",
    "#plot.dropna(axis=0,inplace=True)\n",
    "\n",
    "plot2=plot2[plot2['material']=='QL']\n",
    "plot2=plot2[plot2['plate_thickness']=='8']\n",
    "plot2=plot2[plot2['running_number'].isin (['v','iv','vi'])]\n",
    "plot2=plot2[plot2['testspeed']=='y']\n",
    "plot2=plot2[plot2['senergie/GW']!='GW']\n",
    "plot2=plot2[plot2['senergie/GW']=='A']\n",
    "plot2['Rp']=[float(x)/60000 for x in plot2['Rp']]\n",
    "#plot2=plot2[plot2['Rp'].astype(float)>700]\n",
    "#plot2=plot2[plot2['Rp'].astype(float)<1500]\n",
    "#plot2.dropna(axis=0,inplace=True)\n",
    "\n",
    "\n",
    "\n",
    "display(plot['level_0'].unique())\n",
    "display(plot2['level_0'].unique())\n",
    "##scatterplot\n",
    "fig,ax=plt.subplots(figsize=(25,10))\n",
    "a=ax.scatter(plot.post.astype(float),plot.Rp.astype(float),marker='s',c=plot['step_rp02'].astype(int),s=100,label='A')\n",
    "b=ax.scatter(plot2.post.astype(float),plot2.Rp.astype(float),marker='o',c=plot2['step_rp02'].astype(int),s=100,label='B')\n",
    "ax.set_xlim(-40,40)\n",
    "ax.axvline(-9,color='k')\n",
    "ax.axvline(9,color='k')\n",
    "plt.colorbar(a)\n",
    "plt.grid()\n",
    "plt.legend()\n",
    "plt.show()\n",
    "fig.savefig('MC_mm.png',dpi=500)"
   ],
   "metadata": {
    "collapsed": false,
    "pycharm": {
     "name": "#%%\n"
    }
   }
  },
  {
   "cell_type": "code",
   "execution_count": null,
   "outputs": [],
   "source": [
    "###parallel coordinatesplot\n",
    "all=pd.DataFrame()\n",
    "all['y1']=  plot.plate_thickness.astype(int)\n",
    "all['y2']=  plot.post.astype(float)\n",
    "all['y3']=  plot['senergie/GW'].map({'A':0.45,'B':0.3})\n",
    "all['y4']=  plot.Rp.astype(float)\n",
    "all['y5']=  plot['testspeed'].map({'x':10,'y':5})\n",
    "\n",
    "y1= all['y1']\n",
    "y3= all['y2']\n",
    "y2= all['y3']\n",
    "y4= all['y4']\n",
    "y5= all['y5']\n",
    "\n",
    "import plotly.express as px\n",
    "df = px.data.iris()\n",
    "fig = px.parallel_coordinates(all,\n",
    "                              color=\"y4\",\n",
    "                              labels={\"y1\": \"_plate_thickness\",\n",
    "                                      \"y2\": \"position\",\n",
    "                                      \"y3\": \"senergie\",\n",
    "                                      \"y4\": \"Rp\",\n",
    "                                      'y5':'testspeed'},\n",
    "                              color_continuous_scale=px.colors.sequential.Plasma,\n",
    "                             )\n",
    "fig.show()"
   ],
   "metadata": {
    "collapsed": false,
    "pycharm": {
     "name": "#%%\n"
    }
   }
  },
  {
   "cell_type": "code",
   "execution_count": 337,
   "outputs": [
    {
     "data": {
      "text/plain": "\"for i in tests_df.index:\\n    plt.plot(posts,tests_df.loc[i,'Rp'])\""
     },
     "execution_count": 337,
     "metadata": {},
     "output_type": "execute_result"
    }
   ],
   "source": [
    "\"\"\"for i in tests_df.index:\n",
    "    plt.plot(posts,tests_df.loc[i,'Rp'])\"\"\""
   ],
   "metadata": {
    "collapsed": false,
    "pycharm": {
     "name": "#%%\n"
    }
   }
  },
  {
   "cell_type": "code",
   "execution_count": 338,
   "outputs": [],
   "source": [
    "#display(list(tests_df.testspeed))"
   ],
   "metadata": {
    "collapsed": false,
    "pycharm": {
     "name": "#%%\n"
    }
   }
  },
  {
   "cell_type": "code",
   "execution_count": 339,
   "outputs": [
    {
     "data": {
      "text/plain": "'import matplotlib.pyplot as plt\\nfrom matplotlib.path import Path\\nimport matplotlib.patches as patches\\nimport numpy as np\\n\\nfig, host = plt.subplots()\\n\\n# create some dummy data\\nynames = [\\'thickness\\', \\'testspeed\\', \\'pos\\', \\'Rp\\']\\nN1, N2, N3 = 10, 5, 8\\nN = N1 + N2 + N3\\ncategory = np.concatenate([np.full(N1, 1), np.full(N2, 2), np.full(N3, 3)])\\ny1 = plot.plate_thickness.astype(int)\\n\\ny2 = plot.post.astype(float)\\ny3=plot.testspeed.map({\\'x\\':10,\\'y\\':5})\\ny4 = plot.Rp.astype(float)\\n#y5 = np.random.uniform(0, 800, N)\\n\\nall=pd.DataFrame({\\n    \\'y1\\':y1,\\n    \\'y2\\':y2,\\n    \\'y3\\':y3,\\n    \\'y4\\':y4\\n\\n\\n})\\ndisplay(all)\\nall.dropna(axis=0,inplace=True)\\nall=all[all[\\'y4\\']>0]\\nall=all[all[\\'y4\\']<1500]\\ndisplay(all)\\n\\ny1=all[\\'y1\\']\\ny2=all[\\'y2\\']\\ny3=all[\\'y3\\']\\ny4=all[\\'y4\\']\\n\\n# organize the data\\nys = np.dstack([y1, y2, y3, y4])[0]\\nymins = ys.min(axis=0)\\nymaxs = ys.max(axis=0)\\ndys = ymaxs - ymins\\nymins -= dys * 0.05  # add 5% padding below and above\\nymaxs += dys * 0.05\\ndys = ymaxs - ymins\\n\\n# transform all data to be compatible with the main axis\\nzs = np.zeros_like(ys)\\nzs[:, 0] = ys[:, 0]\\nzs[:, 1:] = (ys[:, 1:] - ymins[1:]) / dys[1:] * dys[0] + ymins[0]\\n\\n\\naxes = [host] + [host.twinx() for i in range(ys.shape[1] - 1)]\\nfor i, ax in enumerate(axes):\\n    ax.set_ylim(ymins[i], ymaxs[i])\\n    ax.spines[\\'top\\'].set_visible(False)\\n    ax.spines[\\'bottom\\'].set_visible(False)\\n    if ax != host:\\n        ax.spines[\\'left\\'].set_visible(False)\\n        ax.yaxis.set_ticks_position(\\'right\\')\\n        ax.spines[\"right\"].set_position((\"axes\", i / (ys.shape[1] - 1)))\\n\\nhost.set_xlim(0, ys.shape[1] - 1)\\nhost.set_xticks(range(ys.shape[1]))\\nhost.set_xticklabels(ynames, fontsize=14)\\nhost.tick_params(axis=\\'x\\', which=\\'major\\', pad=7)\\nhost.spines[\\'right\\'].set_visible(False)\\nhost.xaxis.tick_top()\\nhost.set_title(\\'Parallel Coordinates Plot\\', fontsize=18)\\n\\ncolors = plt.cm.tab10.colors\\nfor j in range(N):\\n    # to just draw straight lines between the axes:\\n    # host.plot(range(ys.shape[1]), zs[j,:], c=colors[(category[j] - 1) % len(colors) ])\\n\\n    # create bezier curves\\n    # for each axis, there will a control vertex at the point itself, one at 1/3rd towards the previous and one\\n    #   at one third towards the next axis; the first and last axis have one less control vertex\\n    # x-coordinate of the control vertices: at each integer (for the axes) and two inbetween\\n    # y-coordinate: repeat every point three times, except the first and last only twice\\n    verts = list(zip([x for x in np.linspace(0, len(ys) - 1, len(ys) * 3 - 2, endpoint=True)],\\n                     np.repeat(zs[j, :], 3)[1:-1]))\\n    # for x,y in verts: host.plot(x, y, \\'go\\') # to show the control points of the beziers\\n    codes = [Path.MOVETO] + [Path.CURVE4 for _ in range(len(verts) - 1)]\\n    path = Path(verts, codes)\\n    patch = patches.PathPatch(path, facecolor=\\'none\\', lw=1, edgecolor=colors[category[j] - 1])\\n    host.add_patch(patch)\\nplt.tight_layout()\\nplt.show()'"
     },
     "execution_count": 339,
     "metadata": {},
     "output_type": "execute_result"
    }
   ],
   "source": [
    "\"\"\"import matplotlib.pyplot as plt\n",
    "from matplotlib.path import Path\n",
    "import matplotlib.patches as patches\n",
    "import numpy as np\n",
    "\n",
    "fig, host = plt.subplots()\n",
    "\n",
    "# create some dummy data\n",
    "ynames = ['thickness', 'testspeed', 'pos', 'Rp']\n",
    "N1, N2, N3 = 10, 5, 8\n",
    "N = N1 + N2 + N3\n",
    "category = np.concatenate([np.full(N1, 1), np.full(N2, 2), np.full(N3, 3)])\n",
    "y1 = plot.plate_thickness.astype(int)\n",
    "\n",
    "y2 = plot.post.astype(float)\n",
    "y3=plot.testspeed.map({'x':10,'y':5})\n",
    "y4 = plot.Rp.astype(float)\n",
    "#y5 = np.random.uniform(0, 800, N)\n",
    "\n",
    "all=pd.DataFrame({\n",
    "    'y1':y1,\n",
    "    'y2':y2,\n",
    "    'y3':y3,\n",
    "    'y4':y4\n",
    "\n",
    "\n",
    "})\n",
    "display(all)\n",
    "all.dropna(axis=0,inplace=True)\n",
    "all=all[all['y4']>0]\n",
    "all=all[all['y4']<1500]\n",
    "display(all)\n",
    "\n",
    "y1=all['y1']\n",
    "y2=all['y2']\n",
    "y3=all['y3']\n",
    "y4=all['y4']\n",
    "\n",
    "# organize the data\n",
    "ys = np.dstack([y1, y2, y3, y4])[0]\n",
    "ymins = ys.min(axis=0)\n",
    "ymaxs = ys.max(axis=0)\n",
    "dys = ymaxs - ymins\n",
    "ymins -= dys * 0.05  # add 5% padding below and above\n",
    "ymaxs += dys * 0.05\n",
    "dys = ymaxs - ymins\n",
    "\n",
    "# transform all data to be compatible with the main axis\n",
    "zs = np.zeros_like(ys)\n",
    "zs[:, 0] = ys[:, 0]\n",
    "zs[:, 1:] = (ys[:, 1:] - ymins[1:]) / dys[1:] * dys[0] + ymins[0]\n",
    "\n",
    "\n",
    "axes = [host] + [host.twinx() for i in range(ys.shape[1] - 1)]\n",
    "for i, ax in enumerate(axes):\n",
    "    ax.set_ylim(ymins[i], ymaxs[i])\n",
    "    ax.spines['top'].set_visible(False)\n",
    "    ax.spines['bottom'].set_visible(False)\n",
    "    if ax != host:\n",
    "        ax.spines['left'].set_visible(False)\n",
    "        ax.yaxis.set_ticks_position('right')\n",
    "        ax.spines[\"right\"].set_position((\"axes\", i / (ys.shape[1] - 1)))\n",
    "\n",
    "host.set_xlim(0, ys.shape[1] - 1)\n",
    "host.set_xticks(range(ys.shape[1]))\n",
    "host.set_xticklabels(ynames, fontsize=14)\n",
    "host.tick_params(axis='x', which='major', pad=7)\n",
    "host.spines['right'].set_visible(False)\n",
    "host.xaxis.tick_top()\n",
    "host.set_title('Parallel Coordinates Plot', fontsize=18)\n",
    "\n",
    "colors = plt.cm.tab10.colors\n",
    "for j in range(N):\n",
    "    # to just draw straight lines between the axes:\n",
    "    # host.plot(range(ys.shape[1]), zs[j,:], c=colors[(category[j] - 1) % len(colors) ])\n",
    "\n",
    "    # create bezier curves\n",
    "    # for each axis, there will a control vertex at the point itself, one at 1/3rd towards the previous and one\n",
    "    #   at one third towards the next axis; the first and last axis have one less control vertex\n",
    "    # x-coordinate of the control vertices: at each integer (for the axes) and two inbetween\n",
    "    # y-coordinate: repeat every point three times, except the first and last only twice\n",
    "    verts = list(zip([x for x in np.linspace(0, len(ys) - 1, len(ys) * 3 - 2, endpoint=True)],\n",
    "                     np.repeat(zs[j, :], 3)[1:-1]))\n",
    "    # for x,y in verts: host.plot(x, y, 'go') # to show the control points of the beziers\n",
    "    codes = [Path.MOVETO] + [Path.CURVE4 for _ in range(len(verts) - 1)]\n",
    "    path = Path(verts, codes)\n",
    "    patch = patches.PathPatch(path, facecolor='none', lw=1, edgecolor=colors[category[j] - 1])\n",
    "    host.add_patch(patch)\n",
    "plt.tight_layout()\n",
    "plt.show()\"\"\""
   ],
   "metadata": {
    "collapsed": false,
    "pycharm": {
     "name": "#%%\n"
    }
   }
  },
  {
   "cell_type": "code",
   "execution_count": 340,
   "outputs": [
    {
     "data": {
      "text/plain": "['paths',\n 'ok',\n 'crack',\n 'pos',\n 'left_12-5',\n 'step_start',\n 'step_stop',\n 'index',\n 'material',\n 'senergie/GW',\n 'plate_thickness',\n 'testspeed',\n 'running_number',\n 'data',\n '-35_-33_idxs',\n '-33_-31_idxs',\n '-31_-29_idxs',\n '-29_-27_idxs',\n '-27_-25_idxs',\n '-25_-23_idxs',\n '-23_-21_idxs',\n '-21_-19_idxs',\n '-19_-17_idxs',\n '-17_-15_idxs',\n '-15_-13_idxs',\n '-13_-11_idxs',\n '-11_-9 _idxs',\n '-9_-7  _idxs',\n '-7_-5  _idxs',\n '-5_-3  _idxs',\n '-3_-1  _idxs',\n '-1_1   _idxs',\n '1_3    _idxs',\n '3_5    _idxs',\n '5_7    _idxs',\n '7_9    _idxs',\n '9_11   _idxs',\n '11_13  _idxs',\n '13_15  _idxs',\n '15_17  _idxs',\n '17_19  _idxs',\n '19_21  _idxs',\n '21_23  _idxs',\n '23_25  _idxs',\n '25_27  _idxs',\n '27_29  _idxs',\n '29_31  _idxs',\n '31_33  _idxs',\n '33_35  _idxs',\n '-35_-33_strain_p1',\n '-33_-31_strain_p1',\n '-31_-29_strain_p1',\n '-29_-27_strain_p1',\n '-27_-25_strain_p1',\n '-25_-23_strain_p1',\n '-23_-21_strain_p1',\n '-21_-19_strain_p1',\n '-19_-17_strain_p1',\n '-17_-15_strain_p1',\n '-15_-13_strain_p1',\n '-13_-11_strain_p1',\n '-11_-9 _strain_p1',\n '-9_-7  _strain_p1',\n '-7_-5  _strain_p1',\n '-5_-3  _strain_p1',\n '-3_-1  _strain_p1',\n '-1_1   _strain_p1',\n '1_3    _strain_p1',\n '3_5    _strain_p1',\n '5_7    _strain_p1',\n '7_9    _strain_p1',\n '9_11   _strain_p1',\n '11_13  _strain_p1',\n '13_15  _strain_p1',\n '15_17  _strain_p1',\n '17_19  _strain_p1',\n '19_21  _strain_p1',\n '21_23  _strain_p1',\n '23_25  _strain_p1',\n '25_27  _strain_p1',\n '27_29  _strain_p1',\n '29_31  _strain_p1',\n '31_33  _strain_p1',\n '33_35  _strain_p1',\n 'force',\n 'plate_width',\n 'sample_crossection',\n 'stress',\n 'data_len',\n '-35_-33_Emod',\n '-33_-31_Emod',\n '-31_-29_Emod',\n '-29_-27_Emod',\n '-27_-25_Emod',\n '-25_-23_Emod',\n '-23_-21_Emod',\n '-21_-19_Emod',\n '-19_-17_Emod',\n '-17_-15_Emod',\n '-15_-13_Emod',\n '-13_-11_Emod',\n '-11_-9 _Emod',\n '-9_-7  _Emod',\n '-7_-5  _Emod',\n '-5_-3  _Emod',\n '-3_-1  _Emod',\n '-1_1   _Emod',\n '1_3    _Emod',\n '3_5    _Emod',\n '5_7    _Emod',\n '7_9    _Emod',\n '9_11   _Emod',\n '11_13  _Emod',\n '13_15  _Emod',\n '15_17  _Emod',\n '17_19  _Emod',\n '19_21  _Emod',\n '21_23  _Emod',\n '23_25  _Emod',\n '25_27  _Emod',\n '27_29  _Emod',\n '29_31  _Emod',\n '31_33  _Emod',\n '33_35  _Emod',\n '-35_-33_rp02',\n '-33_-31_rp02',\n '-31_-29_rp02',\n '-29_-27_rp02',\n '-27_-25_rp02',\n '-25_-23_rp02',\n '-23_-21_rp02',\n '-21_-19_rp02',\n '-19_-17_rp02',\n '-17_-15_rp02',\n '-15_-13_rp02',\n '-13_-11_rp02',\n '-11_-9 _rp02',\n '-9_-7  _rp02',\n '-7_-5  _rp02',\n '-5_-3  _rp02',\n '-3_-1  _rp02',\n '-1_1   _rp02',\n '1_3    _rp02',\n '3_5    _rp02',\n '5_7    _rp02',\n '7_9    _rp02',\n '9_11   _rp02',\n '11_13  _rp02',\n '13_15  _rp02',\n '15_17  _rp02',\n '17_19  _rp02',\n '19_21  _rp02',\n '21_23  _rp02',\n '23_25  _rp02',\n '25_27  _rp02',\n '27_29  _rp02',\n '29_31  _rp02',\n '31_33  _rp02',\n '33_35  _rp02',\n '-35_-33_rp02_idx',\n '-33_-31_rp02_idx',\n '-31_-29_rp02_idx',\n '-29_-27_rp02_idx',\n '-27_-25_rp02_idx',\n '-25_-23_rp02_idx',\n '-23_-21_rp02_idx',\n '-21_-19_rp02_idx',\n '-19_-17_rp02_idx',\n '-17_-15_rp02_idx',\n '-15_-13_rp02_idx',\n '-13_-11_rp02_idx',\n '-11_-9 _rp02_idx',\n '-9_-7  _rp02_idx',\n '-7_-5  _rp02_idx',\n '-5_-3  _rp02_idx',\n '-3_-1  _rp02_idx',\n '-1_1   _rp02_idx',\n '1_3    _rp02_idx',\n '3_5    _rp02_idx',\n '5_7    _rp02_idx',\n '7_9    _rp02_idx',\n '9_11   _rp02_idx',\n '11_13  _rp02_idx',\n '13_15  _rp02_idx',\n '15_17  _rp02_idx',\n '17_19  _rp02_idx',\n '19_21  _rp02_idx',\n '21_23  _rp02_idx',\n '23_25  _rp02_idx',\n '25_27  _rp02_idx',\n '27_29  _rp02_idx',\n '29_31  _rp02_idx',\n '31_33  _rp02_idx',\n '33_35  _rp02_idx',\n 'Rp',\n 'Rpinclpos',\n 'post',\n 'Rpatsteps',\n 'Rpinclposstep']"
     },
     "metadata": {},
     "output_type": "display_data"
    }
   ],
   "source": [
    "display(list(tests_df.columns))"
   ],
   "metadata": {
    "collapsed": false,
    "pycharm": {
     "name": "#%%\n"
    }
   }
  },
  {
   "cell_type": "code",
   "execution_count": 341,
   "outputs": [
    {
     "data": {
      "text/plain": "\"i='QL_B_8xii_clipped_cut_lined'\\nfig,ax=plt.subplots(figsize=(15,10))\\nax.plot(posts,tests_df.loc[i,'Rp'])\""
     },
     "execution_count": 341,
     "metadata": {},
     "output_type": "execute_result"
    }
   ],
   "source": [
    "\"\"\"i='QL_B_8xii_clipped_cut_lined'\n",
    "fig,ax=plt.subplots(figsize=(15,10))\n",
    "ax.plot(posts,tests_df.loc[i,'Rp'])\"\"\""
   ],
   "metadata": {
    "collapsed": false,
    "pycharm": {
     "name": "#%%\n"
    }
   }
  },
  {
   "cell_type": "code",
   "execution_count": 342,
   "outputs": [
    {
     "data": {
      "text/plain": "<Figure size 1080x720 with 1 Axes>",
      "image/png": "[encoded data removed]"
     },
     "metadata": {},
     "output_type": "display_data"
    }
   ],
   "source": [
    "def contract():\n",
    "    i='QL_B_8xii_clipped_cut_lined'\n",
    "    fig,ax=plt.subplots(figsize=(15,10))\n",
    "    ax.plot(tests_df.loc[i,'-35_-33_strain_p1'] ,label='-35_-33_strain_p1')\n",
    "    ax.plot(tests_df.loc[i ,'-33_-31_strain_p1'],label='-33_-31_strain_p1')\n",
    "    ax.plot(tests_df.loc[i ,'-31_-29_strain_p1'],label='-31_-29_strain_p1')\n",
    "    ax.plot(tests_df.loc[i ,'-29_-27_strain_p1'],label='-29_-27_strain_p1')\n",
    "    ax.plot(tests_df.loc[i ,'-27_-25_strain_p1'],label='-27_-25_strain_p1')\n",
    "    ax.plot(tests_df.loc[i ,'-25_-23_strain_p1'],label='-25_-23_strain_p1')\n",
    "    ax.plot(tests_df.loc[i ,'-23_-21_strain_p1'],label='-23_-21_strain_p1')\n",
    "    ax.plot(tests_df.loc[i ,'-21_-19_strain_p1'],label='-21_-19_strain_p1')\n",
    "    ax.plot(tests_df.loc[i ,'-19_-17_strain_p1'],label='-19_-17_strain_p1')\n",
    "    ax.plot(tests_df.loc[i ,'-17_-15_strain_p1'],label='-17_-15_strain_p1')\n",
    "    ax.plot(tests_df.loc[i ,'-15_-13_strain_p1'],label='-15_-13_strain_p1')\n",
    "    ax.plot(tests_df.loc[i ,'-13_-11_strain_p1'],label='-13_-11_strain_p1')\n",
    "    ax.plot(tests_df.loc[i ,'-11_-9 _strain_p1'],label='-11_-9 _strain_p1')\n",
    "    ax.plot(tests_df.loc[i ,'-9_-7  _strain_p1'],label='-9_-7  _strain_p1')\n",
    "    ax.plot(tests_df.loc[i ,'-7_-5  _strain_p1'],label='-7_-5  _strain_p1')\n",
    "    ax.plot(tests_df.loc[i ,'-5_-3  _strain_p1'],label='-5_-3  _strain_p1')\n",
    "    ax.plot(tests_df.loc[i ,'-3_-1  _strain_p1'],label='-3_-1  _strain_p1')\n",
    "    ax.plot(tests_df.loc[i ,'-1_1   _strain_p1'],label='-1_1   _strain_p1')\n",
    "    ax.plot(tests_df.loc[i ,'1_3    _strain_p1'],label='1_3    _strain_p1')\n",
    "    ax.plot(tests_df.loc[i ,'3_5    _strain_p1'],label='3_5    _strain_p1')\n",
    "    ax.plot(tests_df.loc[i ,'5_7    _strain_p1'],label='5_7    _strain_p1')\n",
    "    ax.plot(tests_df.loc[i ,'7_9    _strain_p1'],label='7_9    _strain_p1')\n",
    "    ax.plot(tests_df.loc[i ,'9_11   _strain_p1'],label='9_11   _strain_p1')\n",
    "    ax.plot(tests_df.loc[i ,'11_13  _strain_p1'],label='11_13  _strain_p1')\n",
    "    ax.plot(tests_df.loc[i ,'13_15  _strain_p1'],label='13_15  _strain_p1')\n",
    "    ax.plot(tests_df.loc[i ,'15_17  _strain_p1'],label='15_17  _strain_p1')\n",
    "    ax.plot(tests_df.loc[i ,'17_19  _strain_p1'],label='17_19  _strain_p1')\n",
    "    ax.plot(tests_df.loc[i ,'19_21  _strain_p1'],label='19_21  _strain_p1')\n",
    "    ax.plot(tests_df.loc[i ,'21_23  _strain_p1'],label='21_23  _strain_p1')\n",
    "    ax.plot(tests_df.loc[i ,'23_25  _strain_p1'],label='23_25  _strain_p1')\n",
    "    ax.plot(tests_df.loc[i ,'25_27  _strain_p1'],label='25_27  _strain_p1')\n",
    "    ax.plot(tests_df.loc[i ,'27_29  _strain_p1'],label='27_29  _strain_p1')\n",
    "    ax.plot(tests_df.loc[i ,'29_31  _strain_p1'],label='29_31  _strain_p1')\n",
    "    ax.plot(tests_df.loc[i ,'31_33  _strain_p1'],label='31_33  _strain_p1')\n",
    "    ax.plot(tests_df.loc[i ,'33_35  _strain_p1'],label='33_35  _strain_p1')\n",
    "    ax.legend(loc='upper left')\n",
    "    plt.show()\n",
    "contract()"
   ],
   "metadata": {
    "collapsed": false,
    "pycharm": {
     "name": "#%%\n"
    }
   }
  },
  {
   "cell_type": "code",
   "execution_count": 343,
   "outputs": [
    {
     "data": {
      "text/plain": "'plot=plot[plot[\\'material\\']==\\'MC\\']\\nplot=plot[plot[\\'plate_thickness\\']==\\'6\\']\\nplot=plot[plot[\\'senergie/GW\\']==\\'A\\']\\ny2 = plot.post.astype(float)\\ny3=plot.testspeed.map({\\'x\\':10,\\'y\\':5})\\ny4 = plot.Rp.astype(float)\\n#y5 = np.random.uniform(0, 800, N)\\n\\nall=pd.DataFrame({\\n    \\'y1\\':y1,\\n    \\'y2\\':y2,\\n    \\'y3\\':y3,\\n    \\'y4\\':y4\\n\\n\\n})\\nimport plotly.express as px\\ndf = px.data.iris()\\nfig = px.parallel_coordinates(all, color=\"y4\", labels={\"y1\": \"plate_thickness\",\\n                \"y2\": \"position\", \"y3\": \"test_speed\",\\n                \"y4\": \"Rp\" },\\n                             color_continuous_scale=\\'viridis\\',#px.colors.qualitative.Dark24,\\n                             color_continuous_midpoint=2)\\nfig.show()'"
     },
     "execution_count": 343,
     "metadata": {},
     "output_type": "execute_result"
    }
   ],
   "source": [
    "\"\"\"plot=plot[plot['material']=='MC']\n",
    "plot=plot[plot['plate_thickness']=='6']\n",
    "plot=plot[plot['senergie/GW']=='A']\n",
    "y2 = plot.post.astype(float)\n",
    "y3=plot.testspeed.map({'x':10,'y':5})\n",
    "y4 = plot.Rp.astype(float)\n",
    "#y5 = np.random.uniform(0, 800, N)\n",
    "\n",
    "all=pd.DataFrame({\n",
    "    'y1':y1,\n",
    "    'y2':y2,\n",
    "    'y3':y3,\n",
    "    'y4':y4\n",
    "\n",
    "\n",
    "})\n",
    "import plotly.express as px\n",
    "df = px.data.iris()\n",
    "fig = px.parallel_coordinates(all, color=\"y4\", labels={\"y1\": \"plate_thickness\",\n",
    "                \"y2\": \"position\", \"y3\": \"test_speed\",\n",
    "                \"y4\": \"Rp\" },\n",
    "                             color_continuous_scale='viridis',#px.colors.qualitative.Dark24,\n",
    "                             color_continuous_midpoint=2)\n",
    "fig.show()\"\"\""
   ],
   "metadata": {
    "collapsed": false,
    "pycharm": {
     "name": "#%%\n"
    }
   }
  },
  {
   "cell_type": "code",
   "execution_count": 344,
   "outputs": [
    {
     "data": {
      "text/plain": "1096.754372965333"
     },
     "metadata": {},
     "output_type": "display_data"
    }
   ],
   "source": [
    "i='QL_B_8xii_clipped_cut_lined'\n",
    "display(tests_df.loc[i,'-15_-13_rp02'])"
   ],
   "metadata": {
    "collapsed": false,
    "pycharm": {
     "name": "#%%\n"
    }
   }
  },
  {
   "cell_type": "code",
   "execution_count": 344,
   "outputs": [],
   "source": [],
   "metadata": {
    "collapsed": false,
    "pycharm": {
     "name": "#%%\n"
    }
   }
  },
  {
   "cell_type": "code",
   "execution_count": 344,
   "outputs": [],
   "source": [],
   "metadata": {
    "collapsed": false,
    "pycharm": {
     "name": "#%%\n"
    }
   }
  },
  {
   "cell_type": "code",
   "execution_count": null,
   "outputs": [],
   "source": [],
   "metadata": {
    "collapsed": false,
    "pycharm": {
     "name": "#%%\n"
    }
   }
  }
 ],
 "metadata": {
  "kernelspec": {
   "display_name": "Python 3",
   "language": "python",
   "name": "python3"
  },
  "language_info": {
   "codemirror_mode": {
    "name": "ipython",
    "version": 2
   },
   "file_extension": ".py",
   "mimetype": "text/x-python",
   "name": "python",
   "nbconvert_exporter": "python",
   "pygments_lexer": "ipython2",
   "version": "2.7.6"
  }
 },
 "nbformat": 4,
 "nbformat_minor": 0
}