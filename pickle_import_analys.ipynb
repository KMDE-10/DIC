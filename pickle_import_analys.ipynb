{
 "cells": [
  {
   "cell_type": "code",
   "execution_count": 1,
   "metadata": {
    "collapsed": true
   },
   "outputs": [],
   "source": [
    "import pandas as pd\n",
    "import numpy as np\n",
    "import matplotlib.pyplot as plt\n",
    "from IPython.display import display\n",
    "import os\n",
    "import h5py as hdf\n",
    "import scipy as scp\n",
    "\n",
    "plt.rcParams['figure.facecolor'] = 'white'"
   ]
  },
  {
   "cell_type": "code",
   "execution_count": 9,
   "outputs": [
    {
     "data": {
      "text/plain": "                                ok  crack    pos  left_12-5  step_start  \\\nname                                                                      \nMC_A_6xi_clipped_cut_lined     1.0  135.0  143.0      123.0       110.0   \nMC_A_6xiii_clipped_cut_lined   1.0  115.0  119.0       99.0        45.0   \nMC_A_6yi_clipped_cut_lined     2.0  114.0  117.0       97.0         NaN   \nMC_A_6yii_clipped_cut_lined    2.0   47.0   50.0       30.0         NaN   \nMC_A_6yiii_clipped_cut_lined   2.0  100.0   95.0       75.0         NaN   \n...                            ...    ...    ...        ...         ...   \nQL_GW_8xi_clipped_cut_lined    3.0    NaN    NaN      -20.0        40.0   \nQL_GW_8xii_clipped_cut_lined   1.0  125.0  125.0      105.0       247.5   \nQL_GW_8xiii_clipped_cut_lined  3.0    NaN    NaN      -20.0         NaN   \nQL_GW_8yi_clipped_cut_lined    3.0    NaN    NaN      -20.0        16.0   \nQL_GW_8yii_clipped_cut_lined   2.0   35.0   35.0       15.0        17.5   \n\n                               step_stop  \nname                                      \nMC_A_6xi_clipped_cut_lined         230.0  \nMC_A_6xiii_clipped_cut_lined       187.5  \nMC_A_6yi_clipped_cut_lined           NaN  \nMC_A_6yii_clipped_cut_lined          NaN  \nMC_A_6yiii_clipped_cut_lined         NaN  \n...                                  ...  \nQL_GW_8xi_clipped_cut_lined        387.5  \nQL_GW_8xii_clipped_cut_lined       580.0  \nQL_GW_8xiii_clipped_cut_lined        NaN  \nQL_GW_8yi_clipped_cut_lined        161.0  \nQL_GW_8yii_clipped_cut_lined       367.5  \n\n[63 rows x 6 columns]",
      "text/html": "<div>\n<style scoped>\n    .dataframe tbody tr th:only-of-type {\n        vertical-align: middle;\n    }\n\n    .dataframe tbody tr th {\n        vertical-align: top;\n    }\n\n    .dataframe thead th {\n        text-align: right;\n    }\n</style>\n<table border=\"1\" class=\"dataframe\">\n  <thead>\n    <tr style=\"text-align: right;\">\n      <th></th>\n      <th>ok</th>\n      <th>crack</th>\n      <th>pos</th>\n      <th>left_12-5</th>\n      <th>step_start</th>\n      <th>step_stop</th>\n    </tr>\n    <tr>\n      <th>name</th>\n      <th></th>\n      <th></th>\n      <th></th>\n      <th></th>\n      <th></th>\n      <th></th>\n    </tr>\n  </thead>\n  <tbody>\n    <tr>\n      <th>MC_A_6xi_clipped_cut_lined</th>\n      <td>1.0</td>\n      <td>135.0</td>\n      <td>143.0</td>\n      <td>123.0</td>\n      <td>110.0</td>\n      <td>230.0</td>\n    </tr>\n    <tr>\n      <th>MC_A_6xiii_clipped_cut_lined</th>\n      <td>1.0</td>\n      <td>115.0</td>\n      <td>119.0</td>\n      <td>99.0</td>\n      <td>45.0</td>\n      <td>187.5</td>\n    </tr>\n    <tr>\n      <th>MC_A_6yi_clipped_cut_lined</th>\n      <td>2.0</td>\n      <td>114.0</td>\n      <td>117.0</td>\n      <td>97.0</td>\n      <td>NaN</td>\n      <td>NaN</td>\n    </tr>\n    <tr>\n      <th>MC_A_6yii_clipped_cut_lined</th>\n      <td>2.0</td>\n      <td>47.0</td>\n      <td>50.0</td>\n      <td>30.0</td>\n      <td>NaN</td>\n      <td>NaN</td>\n    </tr>\n    <tr>\n      <th>MC_A_6yiii_clipped_cut_lined</th>\n      <td>2.0</td>\n      <td>100.0</td>\n      <td>95.0</td>\n      <td>75.0</td>\n      <td>NaN</td>\n      <td>NaN</td>\n    </tr>\n    <tr>\n      <th>...</th>\n      <td>...</td>\n      <td>...</td>\n      <td>...</td>\n      <td>...</td>\n      <td>...</td>\n      <td>...</td>\n    </tr>\n    <tr>\n      <th>QL_GW_8xi_clipped_cut_lined</th>\n      <td>3.0</td>\n      <td>NaN</td>\n      <td>NaN</td>\n      <td>-20.0</td>\n      <td>40.0</td>\n      <td>387.5</td>\n    </tr>\n    <tr>\n      <th>QL_GW_8xii_clipped_cut_lined</th>\n      <td>1.0</td>\n      <td>125.0</td>\n      <td>125.0</td>\n      <td>105.0</td>\n      <td>247.5</td>\n      <td>580.0</td>\n    </tr>\n    <tr>\n      <th>QL_GW_8xiii_clipped_cut_lined</th>\n      <td>3.0</td>\n      <td>NaN</td>\n      <td>NaN</td>\n      <td>-20.0</td>\n      <td>NaN</td>\n      <td>NaN</td>\n    </tr>\n    <tr>\n      <th>QL_GW_8yi_clipped_cut_lined</th>\n      <td>3.0</td>\n      <td>NaN</td>\n      <td>NaN</td>\n      <td>-20.0</td>\n      <td>16.0</td>\n      <td>161.0</td>\n    </tr>\n    <tr>\n      <th>QL_GW_8yii_clipped_cut_lined</th>\n      <td>2.0</td>\n      <td>35.0</td>\n      <td>35.0</td>\n      <td>15.0</td>\n      <td>17.5</td>\n      <td>367.5</td>\n    </tr>\n  </tbody>\n</table>\n<p>63 rows × 6 columns</p>\n</div>"
     },
     "metadata": {},
     "output_type": "display_data"
    }
   ],
   "source": [
    "positions=pd.read_excel('Y:\\\\Istra Repositories\\\\ch-gr_exports\\\\Querzug_overview.xlsx')\n",
    "positions.name=positions.name+'_clipped_cut_lined'\n",
    "positions=positions.iloc[:,1:].set_index('name')\n",
    "display(positions)"
   ],
   "metadata": {
    "collapsed": false,
    "pycharm": {
     "name": "#%%\n"
    }
   }
  },
  {
   "cell_type": "code",
   "execution_count": 10,
   "outputs": [
    {
     "data": {
      "text/plain": "['Y:\\\\Istra Repositories\\\\ch-gr_exports\\\\MC_A_6xiii_clipped_cut_lined.pickle',\n 'Y:\\\\Istra Repositories\\\\ch-gr_exports\\\\MC_A_6xi_clipped_cut_lined.pickle',\n 'Y:\\\\Istra Repositories\\\\ch-gr_exports\\\\MC_A_8xiii_clipped_cut_lined.pickle',\n 'Y:\\\\Istra Repositories\\\\ch-gr_exports\\\\MC_B_6xiii_clipped_cut_lined.pickle',\n 'Y:\\\\Istra Repositories\\\\ch-gr_exports\\\\MC_B_6xii_clipped_cut_lined.pickle',\n 'Y:\\\\Istra Repositories\\\\ch-gr_exports\\\\MC_B_6xi_clipped_cut_lined.pickle',\n 'Y:\\\\Istra Repositories\\\\ch-gr_exports\\\\MC_B_8xiii_clipped_cut_lined.pickle',\n 'Y:\\\\Istra Repositories\\\\ch-gr_exports\\\\MC_B_8xi_clipped_cut_lined.pickle',\n 'Y:\\\\Istra Repositories\\\\ch-gr_exports\\\\MC_B_8yi_clipped_cut_lined.pickle',\n 'Y:\\\\Istra Repositories\\\\ch-gr_exports\\\\MC_GW_6xiii_clipped_cut_lined.pickle',\n 'Y:\\\\Istra Repositories\\\\ch-gr_exports\\\\MC_GW_6xi_clipped_cut_lined.pickle',\n 'Y:\\\\Istra Repositories\\\\ch-gr_exports\\\\MC_GW_6yiii_clipped_cut_lined.pickle',\n 'Y:\\\\Istra Repositories\\\\ch-gr_exports\\\\MC_GW_6yii_clipped_cut_lined.pickle',\n 'Y:\\\\Istra Repositories\\\\ch-gr_exports\\\\MC_GW_6yi_clipped_cut_lined.pickle',\n 'Y:\\\\Istra Repositories\\\\ch-gr_exports\\\\MC_GW_8xi_clipped_cut_lined.pickle',\n 'Y:\\\\Istra Repositories\\\\ch-gr_exports\\\\MC_GW_8yiii_clipped_cut_lined.pickle',\n 'Y:\\\\Istra Repositories\\\\ch-gr_exports\\\\MC_GW_8yii_clipped_cut_lined.pickle',\n 'Y:\\\\Istra Repositories\\\\ch-gr_exports\\\\QL_A_6xiii_clipped_cut_lined.pickle',\n 'Y:\\\\Istra Repositories\\\\ch-gr_exports\\\\QL_A_6xii_clipped_cut_lined.pickle',\n 'Y:\\\\Istra Repositories\\\\ch-gr_exports\\\\QL_A_6xi_clipped_cut_lined.pickle',\n 'Y:\\\\Istra Repositories\\\\ch-gr_exports\\\\QL_A_8xii_clipped_cut_lined.pickle',\n 'Y:\\\\Istra Repositories\\\\ch-gr_exports\\\\QL_A_8xi_clipped_cut_lined.pickle',\n 'Y:\\\\Istra Repositories\\\\ch-gr_exports\\\\QL_A_8yiii_clipped_cut_lined.pickle',\n 'Y:\\\\Istra Repositories\\\\ch-gr_exports\\\\QL_A_8yi_clipped_cut_lined.pickle',\n 'Y:\\\\Istra Repositories\\\\ch-gr_exports\\\\QL_B_6xiii_clipped_cut_lined.pickle',\n 'Y:\\\\Istra Repositories\\\\ch-gr_exports\\\\QL_B_8xiii_clipped_cut_lined.pickle',\n 'Y:\\\\Istra Repositories\\\\ch-gr_exports\\\\QL_B_8xii_clipped_cut_lined.pickle',\n 'Y:\\\\Istra Repositories\\\\ch-gr_exports\\\\QL_B_8yiii_clipped_cut_lined.pickle',\n 'Y:\\\\Istra Repositories\\\\ch-gr_exports\\\\QL_B_8yi_clipped_cut_lined.pickle',\n 'Y:\\\\Istra Repositories\\\\ch-gr_exports\\\\QL_GW_6xiii_clipped_cut_lined.pickle',\n 'Y:\\\\Istra Repositories\\\\ch-gr_exports\\\\QL_GW_6xi_clipped_cut_lined.pickle',\n 'Y:\\\\Istra Repositories\\\\ch-gr_exports\\\\QL_GW_6yiii_clipped_cut_lined.pickle',\n 'Y:\\\\Istra Repositories\\\\ch-gr_exports\\\\QL_GW_6yii_clipped_cut_lined.pickle',\n 'Y:\\\\Istra Repositories\\\\ch-gr_exports\\\\QL_GW_8xii_clipped_cut_lined.pickle',\n 'Y:\\\\Istra Repositories\\\\ch-gr_exports\\\\QL_GW_8yii_clipped_cut_lined.pickle']"
     },
     "metadata": {},
     "output_type": "display_data"
    }
   ],
   "source": [
    "import os\n",
    "import re\n",
    "\n",
    "def gather_files_regex(dir: str,regex)->list:\n",
    "    '''\n",
    "    Gathers all files below a directory that match the provided regular expression\n",
    "    Traverses into sub-directories\n",
    "\n",
    "    dir -- the directory\n",
    "\n",
    "    regex -- A regular expression to match filenames\n",
    "    '''\n",
    "    subdir=dir\n",
    "    p = re.compile(regex)\n",
    "    data=[]\n",
    "    for dir, _, files in os.walk(subdir):\n",
    "        for name in files:\n",
    "            if p.match(name):\n",
    "                b=(str(os.path.join(dir, name)))\n",
    "                data.append(b)\n",
    "    return data\n",
    "\n",
    "files=gather_files_regex('Y:\\\\Istra Repositories\\\\ch-gr_exports',r'\\w+ned.pickle\\Z')\n",
    "display(files)"
   ],
   "metadata": {
    "collapsed": false,
    "pycharm": {
     "name": "#%%\n"
    }
   }
  },
  {
   "cell_type": "code",
   "execution_count": 11,
   "outputs": [],
   "source": [
    "sample='MC_A_8xiii_clipped_cut'\n",
    "samplelocation='Y:\\\\Istra Repositories\\\\ch-gr_exports\\\\'+sample+'.pickle'\n",
    "lookup=pd.read_pickle(samplelocation,compression='zip')"
   ],
   "metadata": {
    "collapsed": false,
    "pycharm": {
     "name": "#%%\n"
    }
   }
  },
  {
   "cell_type": "code",
   "execution_count": 38,
   "outputs": [
    {
     "data": {
      "text/plain": "                                                                          paths  \\\nMC_A_6xiii_clipped_cut_lined  Y:\\Istra Repositories\\ch-gr_exports\\MC_A_6xiii...   \nMC_A_6xi_clipped_cut_lined    Y:\\Istra Repositories\\ch-gr_exports\\MC_A_6xi_c...   \nMC_A_8xiii_clipped_cut_lined  Y:\\Istra Repositories\\ch-gr_exports\\MC_A_8xiii...   \nMC_B_6xiii_clipped_cut_lined  Y:\\Istra Repositories\\ch-gr_exports\\MC_B_6xiii...   \nMC_B_6xii_clipped_cut_lined   Y:\\Istra Repositories\\ch-gr_exports\\MC_B_6xii_...   \n\n                               ok  crack    pos  left_12-5  step_start  \\\nMC_A_6xiii_clipped_cut_lined  1.0  115.0  119.0       99.0        45.0   \nMC_A_6xi_clipped_cut_lined    1.0  135.0  143.0      123.0       110.0   \nMC_A_8xiii_clipped_cut_lined  1.0  170.0  117.5       97.5        32.5   \nMC_B_6xiii_clipped_cut_lined  1.0   90.0   90.0       70.0        37.5   \nMC_B_6xii_clipped_cut_lined   1.0  122.0  121.0      101.0        27.5   \n\n                              step_stop                         index  \\\nMC_A_6xiii_clipped_cut_lined      187.5  MC_A_6xiii_clipped_cut_lined   \nMC_A_6xi_clipped_cut_lined        230.0    MC_A_6xi_clipped_cut_lined   \nMC_A_8xiii_clipped_cut_lined      355.0  MC_A_8xiii_clipped_cut_lined   \nMC_B_6xiii_clipped_cut_lined      172.5  MC_B_6xiii_clipped_cut_lined   \nMC_B_6xii_clipped_cut_lined       160.0   MC_B_6xii_clipped_cut_lined   \n\n                             material senergie/GW plate_thickness testspeed  \\\nMC_A_6xiii_clipped_cut_lined       MC           A               6         x   \nMC_A_6xi_clipped_cut_lined         MC           A               6         x   \nMC_A_8xiii_clipped_cut_lined       MC           A               8         x   \nMC_B_6xiii_clipped_cut_lined       MC           B               6         x   \nMC_B_6xii_clipped_cut_lined        MC           B               6         x   \n\n                             running_number  \\\nMC_A_6xiii_clipped_cut_lined            iii   \nMC_A_6xi_clipped_cut_lined                i   \nMC_A_8xiii_clipped_cut_lined            iii   \nMC_B_6xiii_clipped_cut_lined            iii   \nMC_B_6xii_clipped_cut_lined              ii   \n\n                                                                           data  \nMC_A_6xiii_clipped_cut_lined  group                                         ...  \nMC_A_6xi_clipped_cut_lined    group                                         ...  \nMC_A_8xiii_clipped_cut_lined  group                                         ...  \nMC_B_6xiii_clipped_cut_lined  group                                         ...  \nMC_B_6xii_clipped_cut_lined   group                                         ...  ",
      "text/html": "<div>\n<style scoped>\n    .dataframe tbody tr th:only-of-type {\n        vertical-align: middle;\n    }\n\n    .dataframe tbody tr th {\n        vertical-align: top;\n    }\n\n    .dataframe thead th {\n        text-align: right;\n    }\n</style>\n<table border=\"1\" class=\"dataframe\">\n  <thead>\n    <tr style=\"text-align: right;\">\n      <th></th>\n      <th>paths</th>\n      <th>ok</th>\n      <th>crack</th>\n      <th>pos</th>\n      <th>left_12-5</th>\n      <th>step_start</th>\n      <th>step_stop</th>\n      <th>index</th>\n      <th>material</th>\n      <th>senergie/GW</th>\n      <th>plate_thickness</th>\n      <th>testspeed</th>\n      <th>running_number</th>\n      <th>data</th>\n    </tr>\n  </thead>\n  <tbody>\n    <tr>\n      <th>MC_A_6xiii_clipped_cut_lined</th>\n      <td>Y:\\Istra Repositories\\ch-gr_exports\\MC_A_6xiii...</td>\n      <td>1.0</td>\n      <td>115.0</td>\n      <td>119.0</td>\n      <td>99.0</td>\n      <td>45.0</td>\n      <td>187.5</td>\n      <td>MC_A_6xiii_clipped_cut_lined</td>\n      <td>MC</td>\n      <td>A</td>\n      <td>6</td>\n      <td>x</td>\n      <td>iii</td>\n      <td>group                                         ...</td>\n    </tr>\n    <tr>\n      <th>MC_A_6xi_clipped_cut_lined</th>\n      <td>Y:\\Istra Repositories\\ch-gr_exports\\MC_A_6xi_c...</td>\n      <td>1.0</td>\n      <td>135.0</td>\n      <td>143.0</td>\n      <td>123.0</td>\n      <td>110.0</td>\n      <td>230.0</td>\n      <td>MC_A_6xi_clipped_cut_lined</td>\n      <td>MC</td>\n      <td>A</td>\n      <td>6</td>\n      <td>x</td>\n      <td>i</td>\n      <td>group                                         ...</td>\n    </tr>\n    <tr>\n      <th>MC_A_8xiii_clipped_cut_lined</th>\n      <td>Y:\\Istra Repositories\\ch-gr_exports\\MC_A_8xiii...</td>\n      <td>1.0</td>\n      <td>170.0</td>\n      <td>117.5</td>\n      <td>97.5</td>\n      <td>32.5</td>\n      <td>355.0</td>\n      <td>MC_A_8xiii_clipped_cut_lined</td>\n      <td>MC</td>\n      <td>A</td>\n      <td>8</td>\n      <td>x</td>\n      <td>iii</td>\n      <td>group                                         ...</td>\n    </tr>\n    <tr>\n      <th>MC_B_6xiii_clipped_cut_lined</th>\n      <td>Y:\\Istra Repositories\\ch-gr_exports\\MC_B_6xiii...</td>\n      <td>1.0</td>\n      <td>90.0</td>\n      <td>90.0</td>\n      <td>70.0</td>\n      <td>37.5</td>\n      <td>172.5</td>\n      <td>MC_B_6xiii_clipped_cut_lined</td>\n      <td>MC</td>\n      <td>B</td>\n      <td>6</td>\n      <td>x</td>\n      <td>iii</td>\n      <td>group                                         ...</td>\n    </tr>\n    <tr>\n      <th>MC_B_6xii_clipped_cut_lined</th>\n      <td>Y:\\Istra Repositories\\ch-gr_exports\\MC_B_6xii_...</td>\n      <td>1.0</td>\n      <td>122.0</td>\n      <td>121.0</td>\n      <td>101.0</td>\n      <td>27.5</td>\n      <td>160.0</td>\n      <td>MC_B_6xii_clipped_cut_lined</td>\n      <td>MC</td>\n      <td>B</td>\n      <td>6</td>\n      <td>x</td>\n      <td>ii</td>\n      <td>group                                         ...</td>\n    </tr>\n  </tbody>\n</table>\n</div>"
     },
     "metadata": {},
     "output_type": "display_data"
    }
   ],
   "source": [
    "over_df_index=[x.split('\\\\')[-1].split('.')[0] for x in files]\n",
    "tests_df=pd.DataFrame(index=over_df_index)\n",
    "tests_df['paths']=files\n",
    "tests_df=tests_df.join(positions,how='left')\n",
    "tests_df['index']=tests_df.index\n",
    "tests_df['material']=tests_df['index'].apply(lambda x: x.split('_')[0])\n",
    "tests_df['senergie/GW']=tests_df['index'].apply(lambda x: x.split('_')[1])\n",
    "tests_df['plate_thickness']=tests_df['index'].apply(lambda x: x.split('_')[2][0])\n",
    "tests_df['testspeed']=tests_df['index'].apply(lambda x: x.split('_')[2][1])\n",
    "tests_df['running_number']=tests_df['index'].apply(lambda x: x.split('_')[2][2:])\n",
    "tests_df['data']=[pd.read_pickle(x, compression='zip') for x in tests_df['paths']]\n",
    "display(tests_df.head(5))\n",
    "#plt.plot(tests_df.crack)"
   ],
   "metadata": {
    "collapsed": false,
    "pycharm": {
     "name": "#%%\n"
    }
   }
  },
  {
   "cell_type": "code",
   "execution_count": 39,
   "outputs": [],
   "source": [
    "#display(test.data)"
   ],
   "metadata": {
    "collapsed": false,
    "pycharm": {
     "name": "#%%\n"
    }
   }
  },
  {
   "cell_type": "code",
   "execution_count": 40,
   "outputs": [
    {
     "data": {
      "text/plain": "<Figure size 432x288 with 1 Axes>",
      "image/png": "[encoded data removed]"
     },
     "metadata": {},
     "output_type": "display_data"
    }
   ],
   "source": [
    "test=tests_df.data[0]\n",
    "sample=tests_df['index'][0]\n",
    "def array_get_mask(array:np.ndarray)->pd.DataFrame:\n",
    "    df=pd.DataFrame(array)\n",
    "    after=df.copy()\n",
    "    after[after==0.]=np.nan\n",
    "    after=np.divide(after,after)\n",
    "    return(after)\n",
    "#mask=array_get_mask(test.iloc[10,:][('strains','strain_p1')])\n",
    "#plt.matshow(mask)\n",
    "def df_apply_mask(arr:np.ndarray,mask:np.ndarray)-> pd.DataFrame:\n",
    "    after=np.multiply(arr,mask)\n",
    "    after=pd.DataFrame(after)\n",
    "    after.dropna(how='all',axis=0,inplace=True)\n",
    "    after.dropna(how='all',axis=1,inplace=True)\n",
    "    return(after)\n",
    "#plt.matshow(df_apply_mask(array_get_mask(test.iloc[10,:][('strains','strain_p1')]),mask))\n",
    "def df_strip_nans(df):\n",
    "    after=df.copy()\n",
    "    after.dropna(how='all',axis=0,inplace=True)\n",
    "    after.dropna(how='all',axis=1,inplace=True)\n",
    "    return(after)\n",
    "def df_get_idx_from_mm(sample:str,data:pd.DataFrame,sdix,cdix,left:int,right:int):\n",
    "    mask=array_get_mask(data.iloc[10,:][('strains','strain_p1')])\n",
    "    horizontal_measured_mm=data.iloc[10,:][('coordinates','coordinate_y')]\n",
    "    measurement_dict=horizontal_measured_mm.to_dict()\n",
    "    measurement_lookup_df=pd.DataFrame(data=measurement_dict.values(), index=measurement_dict.keys(),columns=['mm'])\n",
    "    #display(measurement_lookup_df)\n",
    "    crack_idx=int(cdix)\n",
    "    seam_idx=int(sdix)\n",
    "\n",
    "    seam_pos_y_mm=measurement_lookup_df.loc[seam_idx,'mm']\n",
    "    left_pos_y_mm=seam_pos_y_mm-left\n",
    "    right_pos_y_mm=seam_pos_y_mm-right\n",
    "\n",
    "    left_pos_y_idx=measurement_lookup_df.iloc[(measurement_lookup_df['mm']-left_pos_y_mm).abs().argsort()[:1]].index.tolist()[0]\n",
    "    right_pos_y_idx=measurement_lookup_df.iloc[(measurement_lookup_df['mm']-right_pos_y_mm).abs().argsort()[:1]].index.tolist()[0]\n",
    "\n",
    "    \"\"\"fig,ax=plt.subplots(figsize=(20,5))\n",
    "    ax.matshow(df_apply_mask(data.iloc[150,:][('strains','strain_p1')],mask))\n",
    "    ax.axvline(left_pos_y_idx,c='red')\n",
    "    ax.axvline(right_pos_y_idx,c='yellow')\n",
    "    plt.show()\"\"\"\n",
    "    return(seam_idx,left_pos_y_idx,right_pos_y_idx)\n",
    "def df_extract_roi_on_idx(roi_base,left,right):\n",
    "    roi_base=pd.DataFrame(roi_base).copy()\n",
    "\n",
    "    roi_base.loc[:,:left]=np.nan\n",
    "    roi_base.loc[:,right:]=np.nan\n",
    "    return(roi_base)\n",
    "#df_get_idx_from_mm(sample,lookup,positions,-20,-18)\n",
    "borders=df_get_idx_from_mm(sample,test,119.0,115.0,-35,-33)\n",
    "fig,ax=plt.subplots()\n",
    "ax.plot(tests_df.data[0].iloc[-10,6])#.loc[borders[1]:borders[2]])\n",
    "ax.axvline(borders[1],color='red')\n",
    "ax.axvline(borders[2],color='blue')\n",
    "ax.axvline(borders[0],color='pink')\n",
    "plt.show()\n",
    "#plt.matshow(df_strip_nans(df_extract_roi_on_idx(df_apply_mask(array_get_mask(test.iloc[130,:][('strains','strain_p1')]),mask),borders[1],borders[2])))"
   ],
   "metadata": {
    "collapsed": false,
    "pycharm": {
     "name": "#%%\n"
    }
   }
  },
  {
   "cell_type": "code",
   "execution_count": 41,
   "outputs": [
    {
     "data": {
      "text/plain": "6     -23.113460\n7     -23.174919\n8     -23.230551\n9     -23.275849\n10    -23.328638\n         ...    \n194   -15.198407\n195   -15.143376\n196   -15.103652\n197   -15.046472\n198   -15.002882\nLength: 193, dtype: float64"
     },
     "metadata": {},
     "output_type": "display_data"
    }
   ],
   "source": [
    "display(test.iloc[0,3])\n",
    "\n"
   ],
   "metadata": {
    "collapsed": false,
    "pycharm": {
     "name": "#%%\n"
    }
   }
  },
  {
   "cell_type": "code",
   "execution_count": 41,
   "outputs": [],
   "source": [],
   "metadata": {
    "collapsed": false,
    "pycharm": {
     "name": "#%%\n"
    }
   }
  },
  {
   "cell_type": "code",
   "execution_count": 42,
   "outputs": [
    {
     "data": {
      "text/plain": "                                                                          paths  \\\nMC_A_6xiii_clipped_cut_lined  Y:\\Istra Repositories\\ch-gr_exports\\MC_A_6xiii...   \nMC_A_6xi_clipped_cut_lined    Y:\\Istra Repositories\\ch-gr_exports\\MC_A_6xi_c...   \nMC_A_8xiii_clipped_cut_lined  Y:\\Istra Repositories\\ch-gr_exports\\MC_A_8xiii...   \nMC_B_6xiii_clipped_cut_lined  Y:\\Istra Repositories\\ch-gr_exports\\MC_B_6xiii...   \nMC_B_6xii_clipped_cut_lined   Y:\\Istra Repositories\\ch-gr_exports\\MC_B_6xii_...   \n\n                               ok  crack    pos  left_12-5  step_start  \\\nMC_A_6xiii_clipped_cut_lined  1.0  115.0  119.0       99.0        45.0   \nMC_A_6xi_clipped_cut_lined    1.0  135.0  143.0      123.0       110.0   \nMC_A_8xiii_clipped_cut_lined  1.0  170.0  117.5       97.5        32.5   \nMC_B_6xiii_clipped_cut_lined  1.0   90.0   90.0       70.0        37.5   \nMC_B_6xii_clipped_cut_lined   1.0  122.0  121.0      101.0        27.5   \n\n                              step_stop                         index  \\\nMC_A_6xiii_clipped_cut_lined      187.5  MC_A_6xiii_clipped_cut_lined   \nMC_A_6xi_clipped_cut_lined        230.0    MC_A_6xi_clipped_cut_lined   \nMC_A_8xiii_clipped_cut_lined      355.0  MC_A_8xiii_clipped_cut_lined   \nMC_B_6xiii_clipped_cut_lined      172.5  MC_B_6xiii_clipped_cut_lined   \nMC_B_6xii_clipped_cut_lined       160.0   MC_B_6xii_clipped_cut_lined   \n\n                             material senergie/GW  ...     15_17  _idxs  \\\nMC_A_6xiii_clipped_cut_lined       MC           A  ...  (119, 157, 162)   \nMC_A_6xi_clipped_cut_lined         MC           A  ...  (143, 180, 185)   \nMC_A_8xiii_clipped_cut_lined       MC           A  ...  (117, 154, 159)   \nMC_B_6xiii_clipped_cut_lined       MC           B  ...   (90, 126, 131)   \nMC_B_6xii_clipped_cut_lined        MC           B  ...  (121, 159, 164)   \n\n                                 17_19  _idxs     19_21  _idxs  \\\nMC_A_6xiii_clipped_cut_lined  (119, 162, 167)  (119, 167, 172)   \nMC_A_6xi_clipped_cut_lined    (143, 185, 190)  (143, 190, 195)   \nMC_A_8xiii_clipped_cut_lined  (117, 159, 163)  (117, 163, 168)   \nMC_B_6xiii_clipped_cut_lined   (90, 131, 136)   (90, 136, 141)   \nMC_B_6xii_clipped_cut_lined   (121, 164, 169)  (121, 169, 174)   \n\n                                 21_23  _idxs     23_25  _idxs  \\\nMC_A_6xiii_clipped_cut_lined  (119, 172, 177)  (119, 177, 182)   \nMC_A_6xi_clipped_cut_lined    (143, 195, 200)  (143, 200, 200)   \nMC_A_8xiii_clipped_cut_lined  (117, 168, 173)  (117, 173, 178)   \nMC_B_6xiii_clipped_cut_lined   (90, 141, 146)   (90, 146, 151)   \nMC_B_6xii_clipped_cut_lined   (121, 174, 179)  (121, 179, 184)   \n\n                                 25_27  _idxs     27_29  _idxs  \\\nMC_A_6xiii_clipped_cut_lined  (119, 182, 187)  (119, 187, 192)   \nMC_A_6xi_clipped_cut_lined    (143, 200, 200)  (143, 200, 200)   \nMC_A_8xiii_clipped_cut_lined  (117, 178, 183)  (117, 183, 188)   \nMC_B_6xiii_clipped_cut_lined   (90, 151, 156)   (90, 156, 161)   \nMC_B_6xii_clipped_cut_lined   (121, 184, 189)  (121, 189, 194)   \n\n                                 29_31  _idxs     31_33  _idxs  \\\nMC_A_6xiii_clipped_cut_lined  (119, 192, 197)  (119, 197, 198)   \nMC_A_6xi_clipped_cut_lined    (143, 200, 200)  (143, 200, 200)   \nMC_A_8xiii_clipped_cut_lined  (117, 188, 193)  (117, 193, 198)   \nMC_B_6xiii_clipped_cut_lined   (90, 161, 165)   (90, 165, 170)   \nMC_B_6xii_clipped_cut_lined   (121, 194, 199)  (121, 199, 201)   \n\n                                 33_35  _idxs  \nMC_A_6xiii_clipped_cut_lined  (119, 198, 198)  \nMC_A_6xi_clipped_cut_lined    (143, 200, 200)  \nMC_A_8xiii_clipped_cut_lined  (117, 198, 201)  \nMC_B_6xiii_clipped_cut_lined   (90, 170, 175)  \nMC_B_6xii_clipped_cut_lined   (121, 201, 201)  \n\n[5 rows x 49 columns]",
      "text/html": "<div>\n<style scoped>\n    .dataframe tbody tr th:only-of-type {\n        vertical-align: middle;\n    }\n\n    .dataframe tbody tr th {\n        vertical-align: top;\n    }\n\n    .dataframe thead th {\n        text-align: right;\n    }\n</style>\n<table border=\"1\" class=\"dataframe\">\n  <thead>\n    <tr style=\"text-align: right;\">\n      <th></th>\n      <th>paths</th>\n      <th>ok</th>\n      <th>crack</th>\n      <th>pos</th>\n      <th>left_12-5</th>\n      <th>step_start</th>\n      <th>step_stop</th>\n      <th>index</th>\n      <th>material</th>\n      <th>senergie/GW</th>\n      <th>...</th>\n      <th>15_17  _idxs</th>\n      <th>17_19  _idxs</th>\n      <th>19_21  _idxs</th>\n      <th>21_23  _idxs</th>\n      <th>23_25  _idxs</th>\n      <th>25_27  _idxs</th>\n      <th>27_29  _idxs</th>\n      <th>29_31  _idxs</th>\n      <th>31_33  _idxs</th>\n      <th>33_35  _idxs</th>\n    </tr>\n  </thead>\n  <tbody>\n    <tr>\n      <th>MC_A_6xiii_clipped_cut_lined</th>\n      <td>Y:\\Istra Repositories\\ch-gr_exports\\MC_A_6xiii...</td>\n      <td>1.0</td>\n      <td>115.0</td>\n      <td>119.0</td>\n      <td>99.0</td>\n      <td>45.0</td>\n      <td>187.5</td>\n      <td>MC_A_6xiii_clipped_cut_lined</td>\n      <td>MC</td>\n      <td>A</td>\n      <td>...</td>\n      <td>(119, 157, 162)</td>\n      <td>(119, 162, 167)</td>\n      <td>(119, 167, 172)</td>\n      <td>(119, 172, 177)</td>\n      <td>(119, 177, 182)</td>\n      <td>(119, 182, 187)</td>\n      <td>(119, 187, 192)</td>\n      <td>(119, 192, 197)</td>\n      <td>(119, 197, 198)</td>\n      <td>(119, 198, 198)</td>\n    </tr>\n    <tr>\n      <th>MC_A_6xi_clipped_cut_lined</th>\n      <td>Y:\\Istra Repositories\\ch-gr_exports\\MC_A_6xi_c...</td>\n      <td>1.0</td>\n      <td>135.0</td>\n      <td>143.0</td>\n      <td>123.0</td>\n      <td>110.0</td>\n      <td>230.0</td>\n      <td>MC_A_6xi_clipped_cut_lined</td>\n      <td>MC</td>\n      <td>A</td>\n      <td>...</td>\n      <td>(143, 180, 185)</td>\n      <td>(143, 185, 190)</td>\n      <td>(143, 190, 195)</td>\n      <td>(143, 195, 200)</td>\n      <td>(143, 200, 200)</td>\n      <td>(143, 200, 200)</td>\n      <td>(143, 200, 200)</td>\n      <td>(143, 200, 200)</td>\n      <td>(143, 200, 200)</td>\n      <td>(143, 200, 200)</td>\n    </tr>\n    <tr>\n      <th>MC_A_8xiii_clipped_cut_lined</th>\n      <td>Y:\\Istra Repositories\\ch-gr_exports\\MC_A_8xiii...</td>\n      <td>1.0</td>\n      <td>170.0</td>\n      <td>117.5</td>\n      <td>97.5</td>\n      <td>32.5</td>\n      <td>355.0</td>\n      <td>MC_A_8xiii_clipped_cut_lined</td>\n      <td>MC</td>\n      <td>A</td>\n      <td>...</td>\n      <td>(117, 154, 159)</td>\n      <td>(117, 159, 163)</td>\n      <td>(117, 163, 168)</td>\n      <td>(117, 168, 173)</td>\n      <td>(117, 173, 178)</td>\n      <td>(117, 178, 183)</td>\n      <td>(117, 183, 188)</td>\n      <td>(117, 188, 193)</td>\n      <td>(117, 193, 198)</td>\n      <td>(117, 198, 201)</td>\n    </tr>\n    <tr>\n      <th>MC_B_6xiii_clipped_cut_lined</th>\n      <td>Y:\\Istra Repositories\\ch-gr_exports\\MC_B_6xiii...</td>\n      <td>1.0</td>\n      <td>90.0</td>\n      <td>90.0</td>\n      <td>70.0</td>\n      <td>37.5</td>\n      <td>172.5</td>\n      <td>MC_B_6xiii_clipped_cut_lined</td>\n      <td>MC</td>\n      <td>B</td>\n      <td>...</td>\n      <td>(90, 126, 131)</td>\n      <td>(90, 131, 136)</td>\n      <td>(90, 136, 141)</td>\n      <td>(90, 141, 146)</td>\n      <td>(90, 146, 151)</td>\n      <td>(90, 151, 156)</td>\n      <td>(90, 156, 161)</td>\n      <td>(90, 161, 165)</td>\n      <td>(90, 165, 170)</td>\n      <td>(90, 170, 175)</td>\n    </tr>\n    <tr>\n      <th>MC_B_6xii_clipped_cut_lined</th>\n      <td>Y:\\Istra Repositories\\ch-gr_exports\\MC_B_6xii_...</td>\n      <td>1.0</td>\n      <td>122.0</td>\n      <td>121.0</td>\n      <td>101.0</td>\n      <td>27.5</td>\n      <td>160.0</td>\n      <td>MC_B_6xii_clipped_cut_lined</td>\n      <td>MC</td>\n      <td>B</td>\n      <td>...</td>\n      <td>(121, 159, 164)</td>\n      <td>(121, 164, 169)</td>\n      <td>(121, 169, 174)</td>\n      <td>(121, 174, 179)</td>\n      <td>(121, 179, 184)</td>\n      <td>(121, 184, 189)</td>\n      <td>(121, 189, 194)</td>\n      <td>(121, 194, 199)</td>\n      <td>(121, 199, 201)</td>\n      <td>(121, 201, 201)</td>\n    </tr>\n  </tbody>\n</table>\n<p>5 rows × 49 columns</p>\n</div>"
     },
     "metadata": {},
     "output_type": "display_data"
    },
    {
     "data": {
      "text/plain": "<Figure size 432x288 with 1 Axes>",
      "image/png": "[encoded data removed]"
     },
     "metadata": {},
     "output_type": "display_data"
    }
   ],
   "source": [
    "def idx_runner(tests_df):\n",
    "    tests_df['-35_-33_idxs']  =  tests_df['index'].apply(lambda x:df_get_idx_from_mm(x,tests_df.loc[x,'data'],tests_df.loc[x,'pos'],tests_df.loc[x,'crack'],-35,-33))\n",
    "    tests_df['-33_-31_idxs']  =  tests_df['index'].apply(lambda x:df_get_idx_from_mm(x,tests_df.loc[x,'data'],tests_df.loc[x,'pos'],tests_df.loc[x,'crack'],-33,-31))\n",
    "    tests_df['-31_-29_idxs']  =  tests_df['index'].apply(lambda x:df_get_idx_from_mm(x,tests_df.loc[x,'data'],tests_df.loc[x,'pos'],tests_df.loc[x,'crack'],-31,-29))\n",
    "    tests_df['-29_-27_idxs']  =  tests_df['index'].apply(lambda x:df_get_idx_from_mm(x,tests_df.loc[x,'data'],tests_df.loc[x,'pos'],tests_df.loc[x,'crack'],-29,-27))\n",
    "    tests_df['-27_-25_idxs']  =  tests_df['index'].apply(lambda x:df_get_idx_from_mm(x,tests_df.loc[x,'data'],tests_df.loc[x,'pos'],tests_df.loc[x,'crack'],-27,-25))\n",
    "    tests_df['-25_-23_idxs']  =  tests_df['index'].apply(lambda x:df_get_idx_from_mm(x,tests_df.loc[x,'data'],tests_df.loc[x,'pos'],tests_df.loc[x,'crack'],-25,-23))\n",
    "    tests_df['-23_-21_idxs']  =  tests_df['index'].apply(lambda x:df_get_idx_from_mm(x,tests_df.loc[x,'data'],tests_df.loc[x,'pos'],tests_df.loc[x,'crack'],-23,-21))\n",
    "    tests_df['-21_-19_idxs']  =  tests_df['index'].apply(lambda x:df_get_idx_from_mm(x,tests_df.loc[x,'data'],tests_df.loc[x,'pos'],tests_df.loc[x,'crack'],-21,-19))\n",
    "    tests_df['-19_-17_idxs']  =  tests_df['index'].apply(lambda x:df_get_idx_from_mm(x,tests_df.loc[x,'data'],tests_df.loc[x,'pos'],tests_df.loc[x,'crack'],-19,-17))\n",
    "    tests_df['-17_-15_idxs']  =  tests_df['index'].apply(lambda x:df_get_idx_from_mm(x,tests_df.loc[x,'data'],tests_df.loc[x,'pos'],tests_df.loc[x,'crack'],-17,-15))\n",
    "    tests_df['-15_-13_idxs']  =  tests_df['index'].apply(lambda x:df_get_idx_from_mm(x,tests_df.loc[x,'data'],tests_df.loc[x,'pos'],tests_df.loc[x,'crack'],-15,-13))\n",
    "    tests_df['-13_-11_idxs']  =  tests_df['index'].apply(lambda x:df_get_idx_from_mm(x,tests_df.loc[x,'data'],tests_df.loc[x,'pos'],tests_df.loc[x,'crack'],-13,-11))\n",
    "    tests_df['-11_-9 _idxs']  =  tests_df['index'].apply(lambda x:df_get_idx_from_mm(x,tests_df.loc[x,'data'],tests_df.loc[x,'pos'],tests_df.loc[x,'crack'],-11,-9))\n",
    "    tests_df['-9_-7  _idxs']  =  tests_df['index'].apply(lambda x:df_get_idx_from_mm(x,tests_df.loc[x,'data'],tests_df.loc[x,'pos'],tests_df.loc[x,'crack'],-9,-7))\n",
    "    tests_df['-7_-5  _idxs']  =  tests_df['index'].apply(lambda x:df_get_idx_from_mm(x,tests_df.loc[x,'data'],tests_df.loc[x,'pos'],tests_df.loc[x,'crack'],-7,-5))\n",
    "    tests_df['-5_-3  _idxs']  =  tests_df['index'].apply(lambda x:df_get_idx_from_mm(x,tests_df.loc[x,'data'],tests_df.loc[x,'pos'],tests_df.loc[x,'crack'],-5,-3))\n",
    "    tests_df['-3_-1  _idxs']  =  tests_df['index'].apply(lambda x:df_get_idx_from_mm(x,tests_df.loc[x,'data'],tests_df.loc[x,'pos'],tests_df.loc[x,'crack'],-3,-1))\n",
    "    tests_df['-1_1   _idxs']  =  tests_df['index'].apply(lambda x:df_get_idx_from_mm(x,tests_df.loc[x,'data'],tests_df.loc[x,'pos'],tests_df.loc[x,'crack'],-1,1))\n",
    "    tests_df['1_3    _idxs']  =  tests_df['index'].apply(lambda x:df_get_idx_from_mm(x,tests_df.loc[x,'data'],tests_df.loc[x,'pos'],tests_df.loc[x,'crack'],1,3))\n",
    "    tests_df['3_5    _idxs']  =  tests_df['index'].apply(lambda x:df_get_idx_from_mm(x,tests_df.loc[x,'data'],tests_df.loc[x,'pos'],tests_df.loc[x,'crack'],3,5))\n",
    "    tests_df['5_7    _idxs']  =  tests_df['index'].apply(lambda x:df_get_idx_from_mm(x,tests_df.loc[x,'data'],tests_df.loc[x,'pos'],tests_df.loc[x,'crack'],5,7))\n",
    "    tests_df['7_9    _idxs']  =  tests_df['index'].apply(lambda x:df_get_idx_from_mm(x,tests_df.loc[x,'data'],tests_df.loc[x,'pos'],tests_df.loc[x,'crack'],7,9))\n",
    "    tests_df['9_11   _idxs']  =  tests_df['index'].apply(lambda x:df_get_idx_from_mm(x,tests_df.loc[x,'data'],tests_df.loc[x,'pos'],tests_df.loc[x,'crack'],9,11))\n",
    "    tests_df['11_13  _idxs']  =  tests_df['index'].apply(lambda x:df_get_idx_from_mm(x,tests_df.loc[x,'data'],tests_df.loc[x,'pos'],tests_df.loc[x,'crack'],11,13))\n",
    "    tests_df['13_15  _idxs']  =  tests_df['index'].apply(lambda x:df_get_idx_from_mm(x,tests_df.loc[x,'data'],tests_df.loc[x,'pos'],tests_df.loc[x,'crack'],13,15))\n",
    "    tests_df['15_17  _idxs']  =  tests_df['index'].apply(lambda x:df_get_idx_from_mm(x,tests_df.loc[x,'data'],tests_df.loc[x,'pos'],tests_df.loc[x,'crack'],15,17))\n",
    "    tests_df['17_19  _idxs']  =  tests_df['index'].apply(lambda x:df_get_idx_from_mm(x,tests_df.loc[x,'data'],tests_df.loc[x,'pos'],tests_df.loc[x,'crack'],17,19))\n",
    "    tests_df['19_21  _idxs']  =  tests_df['index'].apply(lambda x:df_get_idx_from_mm(x,tests_df.loc[x,'data'],tests_df.loc[x,'pos'],tests_df.loc[x,'crack'],19,21))\n",
    "    tests_df['21_23  _idxs']  =  tests_df['index'].apply(lambda x:df_get_idx_from_mm(x,tests_df.loc[x,'data'],tests_df.loc[x,'pos'],tests_df.loc[x,'crack'],21,23))\n",
    "    tests_df['23_25  _idxs']  =  tests_df['index'].apply(lambda x:df_get_idx_from_mm(x,tests_df.loc[x,'data'],tests_df.loc[x,'pos'],tests_df.loc[x,'crack'],23,25))\n",
    "    tests_df['25_27  _idxs']  =  tests_df['index'].apply(lambda x:df_get_idx_from_mm(x,tests_df.loc[x,'data'],tests_df.loc[x,'pos'],tests_df.loc[x,'crack'],25,27))\n",
    "    tests_df['27_29  _idxs']  =  tests_df['index'].apply(lambda x:df_get_idx_from_mm(x,tests_df.loc[x,'data'],tests_df.loc[x,'pos'],tests_df.loc[x,'crack'],27,29))\n",
    "    tests_df['29_31  _idxs']  =  tests_df['index'].apply(lambda x:df_get_idx_from_mm(x,tests_df.loc[x,'data'],tests_df.loc[x,'pos'],tests_df.loc[x,'crack'],29,31))\n",
    "    tests_df['31_33  _idxs']  =  tests_df['index'].apply(lambda x:df_get_idx_from_mm(x,tests_df.loc[x,'data'],tests_df.loc[x,'pos'],tests_df.loc[x,'crack'],31,33))\n",
    "    tests_df['33_35  _idxs']  =  tests_df['index'].apply(lambda x:df_get_idx_from_mm(x,tests_df.loc[x,'data'],tests_df.loc[x,'pos'],tests_df.loc[x,'crack'],33,35))\n",
    "    return (tests_df)\n",
    "tests_df=idx_runner(tests_df)\n",
    "display(tests_df.head())\n",
    "\n",
    "fig,ax=plt.subplots()\n",
    "ax.plot(tests_df.data[0].iloc[-10,6])\n",
    "ax.axvline(tests_df['-35_-33_idxs'][0][1],color='red')\n",
    "ax.axvline(tests_df['-35_-33_idxs'][0][2],color='blue')\n",
    "ax.axvline(tests_df['-35_-33_idxs'][0][0],color='pink')\n",
    "plt.show()\n",
    "test=tests_df"
   ],
   "metadata": {
    "collapsed": false,
    "pycharm": {
     "name": "#%%\n"
    }
   }
  },
  {
   "cell_type": "code",
   "execution_count": 46,
   "outputs": [
    {
     "data": {
      "text/plain": "Index(['paths', 'ok', 'crack', 'pos', 'left_12-5', 'step_start', 'step_stop',\n       'index', 'material', 'senergie/GW', 'plate_thickness', 'testspeed',\n       'running_number', 'data', '-35_-33_idxs', '-33_-31_idxs',\n       '-31_-29_idxs', '-29_-27_idxs', '-27_-25_idxs', '-25_-23_idxs',\n       '-23_-21_idxs', '-21_-19_idxs', '-19_-17_idxs', '-17_-15_idxs',\n       '-15_-13_idxs', '-13_-11_idxs', '-11_-9 _idxs', '-9_-7  _idxs',\n       '-7_-5  _idxs', '-5_-3  _idxs', '-3_-1  _idxs', '-1_1   _idxs',\n       '1_3    _idxs', '3_5    _idxs', '5_7    _idxs', '7_9    _idxs',\n       '9_11   _idxs', '11_13  _idxs', '13_15  _idxs', '15_17  _idxs',\n       '17_19  _idxs', '19_21  _idxs', '21_23  _idxs', '23_25  _idxs',\n       '25_27  _idxs', '27_29  _idxs', '29_31  _idxs', '31_33  _idxs',\n       '33_35  _idxs'],\n      dtype='object')"
     },
     "metadata": {},
     "output_type": "display_data"
    },
    {
     "data": {
      "text/plain": "(142, 10)"
     },
     "metadata": {},
     "output_type": "display_data"
    },
    {
     "data": {
      "text/plain": "<Figure size 432x288 with 1 Axes>",
      "image/png": "[encoded data removed]"
     },
     "metadata": {},
     "output_type": "display_data"
    }
   ],
   "source": [
    "\n",
    "def df_loc_strain(df,left,right):\n",
    "    strain_p1=[]\n",
    "    for i in df.index:\n",
    "        strain_p1.append(df.loc[i,(      'strains',          'strain_p1')].loc[left:right].mean())\n",
    "    #display(strain_p1)\n",
    "    #plt.plot(strain_p1)\n",
    "    return(strain_p1)\n",
    "\n",
    "display(tests_df.columns)\n",
    "plt.plot(df_loc_strain(tests_df.data[0],tests_df['15_17  _idxs'][0][1],tests_df['15_17  _idxs'][0][2]))\n",
    "display(tests_df.data[0].shape)"
   ],
   "metadata": {
    "collapsed": false,
    "pycharm": {
     "name": "#%%\n"
    }
   }
  },
  {
   "cell_type": "code",
   "execution_count": 48,
   "outputs": [
    {
     "data": {
      "text/plain": "Index(['paths', 'ok', 'crack', 'pos', 'left_12-5', 'step_start', 'step_stop',\n       'index', 'material', 'senergie/GW', 'plate_thickness', 'testspeed',\n       'running_number', 'data', '-35_-33_idxs', '-33_-31_idxs',\n       '-31_-29_idxs', '-29_-27_idxs', '-27_-25_idxs', '-25_-23_idxs',\n       '-23_-21_idxs', '-21_-19_idxs', '-19_-17_idxs', '-17_-15_idxs',\n       '-15_-13_idxs', '-13_-11_idxs', '-11_-9 _idxs', '-9_-7  _idxs',\n       '-7_-5  _idxs', '-5_-3  _idxs', '-3_-1  _idxs', '-1_1   _idxs',\n       '1_3    _idxs', '3_5    _idxs', '5_7    _idxs', '7_9    _idxs',\n       '9_11   _idxs', '11_13  _idxs', '13_15  _idxs', '15_17  _idxs',\n       '17_19  _idxs', '19_21  _idxs', '21_23  _idxs', '23_25  _idxs',\n       '25_27  _idxs', '27_29  _idxs', '29_31  _idxs', '31_33  _idxs',\n       '33_35  _idxs', '-35_-33_strain_p1', '-33_-31_strain_p1',\n       '-31_-29_strain_p1', '-29_-27_strain_p1', '-27_-25_strain_p1',\n       '-25_-23_strain_p1', '-23_-21_strain_p1', '-21_-19_strain_p1',\n       '-19_-17_strain_p1', '-17_-15_strain_p1', '-15_-13_strain_p1',\n       '-13_-11_strain_p1', '-11_-9 _strain_p1', '-9_-7  _strain_p1',\n       '-7_-5  _strain_p1', '-5_-3  _strain_p1', '-3_-1  _strain_p1',\n       '-1_1   _strain_p1', '1_3    _strain_p1', '3_5    _strain_p1',\n       '5_7    _strain_p1', '7_9    _strain_p1', '9_11   _strain_p1',\n       '11_13  _strain_p1', '13_15  _strain_p1', '15_17  _strain_p1',\n       '17_19  _strain_p1', '19_21  _strain_p1', '21_23  _strain_p1',\n       '23_25  _strain_p1', '25_27  _strain_p1', '27_29  _strain_p1',\n       '29_31  _strain_p1', '31_33  _strain_p1', '33_35  _strain_p1'],\n      dtype='object')"
     },
     "metadata": {},
     "output_type": "display_data"
    },
    {
     "data": {
      "text/plain": "[<matplotlib.lines.Line2D at 0x2e32a61b7c0>]"
     },
     "execution_count": 48,
     "metadata": {},
     "output_type": "execute_result"
    },
    {
     "data": {
      "text/plain": "<Figure size 432x288 with 1 Axes>",
      "image/png": "[encoded data removed]"
     },
     "metadata": {},
     "output_type": "display_data"
    }
   ],
   "source": [
    "tests_df['-35_-33_strain_p1']  = [ df_loc_strain(tests_df.loc[i,'data'],tests_df.loc[i,'-35_-33_idxs'][1],tests_df.loc[i,'-35_-33_idxs'][2]) for i in tests_df.index]\n",
    "tests_df['-33_-31_strain_p1']  = [ df_loc_strain(tests_df.loc[i,'data'],tests_df.loc[i,'-33_-31_idxs'][1],tests_df.loc[i,'-33_-31_idxs'][2]) for i in tests_df.index]\n",
    "tests_df['-31_-29_strain_p1']  = [ df_loc_strain(tests_df.loc[i,'data'],tests_df.loc[i,'-31_-29_idxs'][1],tests_df.loc[i,'-31_-29_idxs'][2]) for i in tests_df.index]\n",
    "tests_df['-29_-27_strain_p1']  = [ df_loc_strain(tests_df.loc[i,'data'],tests_df.loc[i,'-29_-27_idxs'][1],tests_df.loc[i,'-29_-27_idxs'][2]) for i in tests_df.index]\n",
    "tests_df['-27_-25_strain_p1']  = [ df_loc_strain(tests_df.loc[i,'data'],tests_df.loc[i,'-27_-25_idxs'][1],tests_df.loc[i,'-27_-25_idxs'][2]) for i in tests_df.index]\n",
    "tests_df['-25_-23_strain_p1']  = [ df_loc_strain(tests_df.loc[i,'data'],tests_df.loc[i,'-25_-23_idxs'][1],tests_df.loc[i,'-25_-23_idxs'][2]) for i in tests_df.index]\n",
    "tests_df['-23_-21_strain_p1']  = [ df_loc_strain(tests_df.loc[i,'data'],tests_df.loc[i,'-23_-21_idxs'][1],tests_df.loc[i,'-23_-21_idxs'][2]) for i in tests_df.index]\n",
    "tests_df['-21_-19_strain_p1']  = [ df_loc_strain(tests_df.loc[i,'data'],tests_df.loc[i,'-21_-19_idxs'][1],tests_df.loc[i,'-21_-19_idxs'][2]) for i in tests_df.index]\n",
    "tests_df['-19_-17_strain_p1']  = [ df_loc_strain(tests_df.loc[i,'data'],tests_df.loc[i,'-19_-17_idxs'][1],tests_df.loc[i,'-19_-17_idxs'][2]) for i in tests_df.index]\n",
    "tests_df['-17_-15_strain_p1']  = [ df_loc_strain(tests_df.loc[i,'data'],tests_df.loc[i,'-17_-15_idxs'][1],tests_df.loc[i,'-17_-15_idxs'][2]) for i in tests_df.index]\n",
    "tests_df['-15_-13_strain_p1']  = [ df_loc_strain(tests_df.loc[i,'data'],tests_df.loc[i,'-15_-13_idxs'][1],tests_df.loc[i,'-15_-13_idxs'][2]) for i in tests_df.index]\n",
    "tests_df['-13_-11_strain_p1']  = [ df_loc_strain(tests_df.loc[i,'data'],tests_df.loc[i,'-13_-11_idxs'][1],tests_df.loc[i,'-13_-11_idxs'][2]) for i in tests_df.index]\n",
    "tests_df['-11_-9 _strain_p1']  = [ df_loc_strain(tests_df.loc[i,'data'],tests_df.loc[i,'-11_-9 _idxs'][1],tests_df.loc[i,'-11_-9 _idxs'][2]) for i in tests_df.index]\n",
    "tests_df['-9_-7  _strain_p1']  = [ df_loc_strain(tests_df.loc[i,'data'],tests_df.loc[i,'-9_-7  _idxs'][1],tests_df.loc[i,'-9_-7  _idxs'][2]) for i in tests_df.index]\n",
    "tests_df['-7_-5  _strain_p1']  = [ df_loc_strain(tests_df.loc[i,'data'],tests_df.loc[i,'-7_-5  _idxs'][1],tests_df.loc[i,'-7_-5  _idxs'][2]) for i in tests_df.index]\n",
    "tests_df['-5_-3  _strain_p1']  = [ df_loc_strain(tests_df.loc[i,'data'],tests_df.loc[i,'-5_-3  _idxs'][1],tests_df.loc[i,'-5_-3  _idxs'][2]) for i in tests_df.index]\n",
    "tests_df['-3_-1  _strain_p1']  = [ df_loc_strain(tests_df.loc[i,'data'],tests_df.loc[i,'-3_-1  _idxs'][1],tests_df.loc[i,'-3_-1  _idxs'][2]) for i in tests_df.index]\n",
    "tests_df['-1_1   _strain_p1']  = [ df_loc_strain(tests_df.loc[i,'data'],tests_df.loc[i,'-1_1   _idxs'][1],tests_df.loc[i,'-1_1   _idxs'][2]) for i in tests_df.index]\n",
    "tests_df['1_3    _strain_p1']  = [ df_loc_strain(tests_df.loc[i,'data'],tests_df.loc[i,'1_3    _idxs'][1],tests_df.loc[i,'1_3    _idxs'][2]) for i in tests_df.index]\n",
    "tests_df['3_5    _strain_p1']  = [ df_loc_strain(tests_df.loc[i,'data'],tests_df.loc[i,'3_5    _idxs'][1],tests_df.loc[i,'3_5    _idxs'][2]) for i in tests_df.index]\n",
    "tests_df['5_7    _strain_p1']  = [ df_loc_strain(tests_df.loc[i,'data'],tests_df.loc[i,'5_7    _idxs'][1],tests_df.loc[i,'5_7    _idxs'][2]) for i in tests_df.index]\n",
    "tests_df['7_9    _strain_p1']  = [ df_loc_strain(tests_df.loc[i,'data'],tests_df.loc[i,'7_9    _idxs'][1],tests_df.loc[i,'7_9    _idxs'][2]) for i in tests_df.index]\n",
    "tests_df['9_11   _strain_p1']  = [ df_loc_strain(tests_df.loc[i,'data'],tests_df.loc[i,'9_11   _idxs'][1],tests_df.loc[i,'9_11   _idxs'][2]) for i in tests_df.index]\n",
    "tests_df['11_13  _strain_p1']  = [ df_loc_strain(tests_df.loc[i,'data'],tests_df.loc[i,'11_13  _idxs'][1],tests_df.loc[i,'11_13  _idxs'][2]) for i in tests_df.index]\n",
    "tests_df['13_15  _strain_p1']  = [ df_loc_strain(tests_df.loc[i,'data'],tests_df.loc[i,'13_15  _idxs'][1],tests_df.loc[i,'13_15  _idxs'][2]) for i in tests_df.index]\n",
    "tests_df['15_17  _strain_p1']  = [ df_loc_strain(tests_df.loc[i,'data'],tests_df.loc[i,'15_17  _idxs'][1],tests_df.loc[i,'15_17  _idxs'][2]) for i in tests_df.index]\n",
    "tests_df['17_19  _strain_p1']  = [ df_loc_strain(tests_df.loc[i,'data'],tests_df.loc[i,'17_19  _idxs'][1],tests_df.loc[i,'17_19  _idxs'][2]) for i in tests_df.index]\n",
    "tests_df['19_21  _strain_p1']  = [ df_loc_strain(tests_df.loc[i,'data'],tests_df.loc[i,'19_21  _idxs'][1],tests_df.loc[i,'19_21  _idxs'][2]) for i in tests_df.index]\n",
    "tests_df['21_23  _strain_p1']  = [ df_loc_strain(tests_df.loc[i,'data'],tests_df.loc[i,'21_23  _idxs'][1],tests_df.loc[i,'21_23  _idxs'][2]) for i in tests_df.index]\n",
    "tests_df['23_25  _strain_p1']  = [ df_loc_strain(tests_df.loc[i,'data'],tests_df.loc[i,'23_25  _idxs'][1],tests_df.loc[i,'23_25  _idxs'][2]) for i in tests_df.index]\n",
    "tests_df['25_27  _strain_p1']  = [ df_loc_strain(tests_df.loc[i,'data'],tests_df.loc[i,'25_27  _idxs'][1],tests_df.loc[i,'25_27  _idxs'][2]) for i in tests_df.index]\n",
    "tests_df['27_29  _strain_p1']  = [ df_loc_strain(tests_df.loc[i,'data'],tests_df.loc[i,'27_29  _idxs'][1],tests_df.loc[i,'27_29  _idxs'][2]) for i in tests_df.index]\n",
    "tests_df['29_31  _strain_p1']  = [ df_loc_strain(tests_df.loc[i,'data'],tests_df.loc[i,'29_31  _idxs'][1],tests_df.loc[i,'29_31  _idxs'][2]) for i in tests_df.index]\n",
    "tests_df['31_33  _strain_p1']  = [ df_loc_strain(tests_df.loc[i,'data'],tests_df.loc[i,'31_33  _idxs'][1],tests_df.loc[i,'31_33  _idxs'][2]) for i in tests_df.index]\n",
    "tests_df['33_35  _strain_p1']  = [ df_loc_strain(tests_df.loc[i,'data'],tests_df.loc[i,'33_35  _idxs'][1],tests_df.loc[i,'33_35  _idxs'][2]) for i in tests_df.index]\n",
    "display(tests_df.columns)\n",
    "plt.plot(tests_df['9_11   _strain_p1'][0])\n"
   ],
   "metadata": {
    "collapsed": false,
    "pycharm": {
     "name": "#%%\n"
    }
   }
  },
  {
   "cell_type": "code",
   "execution_count": 85,
   "outputs": [
    {
     "data": {
      "text/plain": "[<matplotlib.lines.Line2D at 0x2e32c45e3d0>]"
     },
     "execution_count": 85,
     "metadata": {},
     "output_type": "execute_result"
    },
    {
     "data": {
      "text/plain": "<Figure size 432x288 with 1 Axes>",
      "image/png": "[encoded data removed]"
     },
     "metadata": {},
     "output_type": "display_data"
    }
   ],
   "source": [
    "def force_extractor(series):\n",
    "    series=series.copy()\n",
    "    force=[]\n",
    "    for i in series.index:\n",
    "        series[i]=series[i][0][0]\n",
    "\n",
    "    return(series)\n",
    "#display(force_extractor(tests_df.loc['MC_A_6xiii_clipped_cut_lined','data'][(     'add_data',    'analog_channels')]))\n",
    "tests_df['force']= [force_extractor(tests_df.loc[i,'data'][(     'add_data',    'analog_channels')]) for i in tests_df.index]\n",
    "mapper={8:20,6:30}##Martin nach genauen Maßen fragen\n",
    "tests_df['plate_width']=tests_df.plate_thickness.astype(int).map(mapper)\n",
    "tests_df['sample_crossection']=tests_df['plate_width']*tests_df.plate_thickness.astype(int)\n",
    "tests_df['stress']=[tests_df.loc[i,'force']*tests_df.loc[i,'sample_crossection'] for i in tests_df.index]\n",
    "#display(tests_df.sample_crossection)\n",
    "#plt.plot(tests_df.plate_width)\n",
    "from scipy.signal import savgol_filter as savgol\n",
    "plt.plot(savgol(tests_df['25_27  _strain_p1'][0],51,4),tests_df['stress'][0])\n",
    "plt.plot(tests_df['25_27  _strain_p1'][0],tests_df['stress'][0])"
   ],
   "metadata": {
    "collapsed": false,
    "pycharm": {
     "name": "#%%\n"
    }
   }
  },
  {
   "cell_type": "code",
   "execution_count": 64,
   "outputs": [
    {
     "data": {
      "text/plain": "[<matplotlib.lines.Line2D at 0x2e32c1f1e20>]"
     },
     "execution_count": 64,
     "metadata": {},
     "output_type": "execute_result"
    },
    {
     "data": {
      "text/plain": "<Figure size 432x288 with 1 Axes>",
      "image/png": "[encoded data removed]"
     },
     "metadata": {},
     "output_type": "display_data"
    }
   ],
   "source": [
    "tests_df['data_len']=[len(tests_df.loc[i,'data']) for i in tests_df.index]\n",
    "plt.plot(tests_df.data_len)"
   ],
   "metadata": {
    "collapsed": false,
    "pycharm": {
     "name": "#%%\n"
    }
   }
  },
  {
   "cell_type": "code",
   "execution_count": 65,
   "outputs": [
    {
     "data": {
      "text/plain": "Index(['paths', 'ok', 'crack', 'pos', 'left_12-5', 'step_start', 'step_stop',\n       'index', 'material', 'senergie/GW', 'plate_thickness', 'testspeed',\n       'running_number', 'data', '-35_-33_idxs', '-33_-31_idxs',\n       '-31_-29_idxs', '-29_-27_idxs', '-27_-25_idxs', '-25_-23_idxs',\n       '-23_-21_idxs', '-21_-19_idxs', '-19_-17_idxs', '-17_-15_idxs',\n       '-15_-13_idxs', '-13_-11_idxs', '-11_-9 _idxs', '-9_-7  _idxs',\n       '-7_-5  _idxs', '-5_-3  _idxs', '-3_-1  _idxs', '-1_1   _idxs',\n       '1_3    _idxs', '3_5    _idxs', '5_7    _idxs', '7_9    _idxs',\n       '9_11   _idxs', '11_13  _idxs', '13_15  _idxs', '15_17  _idxs',\n       '17_19  _idxs', '19_21  _idxs', '21_23  _idxs', '23_25  _idxs',\n       '25_27  _idxs', '27_29  _idxs', '29_31  _idxs', '31_33  _idxs',\n       '33_35  _idxs', '-35_-33_strain_p1', '-33_-31_strain_p1',\n       '-31_-29_strain_p1', '-29_-27_strain_p1', '-27_-25_strain_p1',\n       '-25_-23_strain_p1', '-23_-21_strain_p1', '-21_-19_strain_p1',\n       '-19_-17_strain_p1', '-17_-15_strain_p1', '-15_-13_strain_p1',\n       '-13_-11_strain_p1', '-11_-9 _strain_p1', '-9_-7  _strain_p1',\n       '-7_-5  _strain_p1', '-5_-3  _strain_p1', '-3_-1  _strain_p1',\n       '-1_1   _strain_p1', '1_3    _strain_p1', '3_5    _strain_p1',\n       '5_7    _strain_p1', '7_9    _strain_p1', '9_11   _strain_p1',\n       '11_13  _strain_p1', '13_15  _strain_p1', '15_17  _strain_p1',\n       '17_19  _strain_p1', '19_21  _strain_p1', '21_23  _strain_p1',\n       '23_25  _strain_p1', '25_27  _strain_p1', '27_29  _strain_p1',\n       '29_31  _strain_p1', '31_33  _strain_p1', '33_35  _strain_p1', 'stress',\n       'data_len', 'force'],\n      dtype='object')"
     },
     "metadata": {},
     "output_type": "display_data"
    }
   ],
   "source": [
    "display(tests_df.columns)\n"
   ],
   "metadata": {
    "collapsed": false,
    "pycharm": {
     "name": "#%%\n"
    }
   }
  },
  {
   "cell_type": "code",
   "execution_count": 169,
   "outputs": [
    {
     "data": {
      "text/plain": "<Figure size 432x288 with 1 Axes>",
      "image/png": "[encoded data removed]"
     },
     "metadata": {},
     "output_type": "display_data"
    },
    {
     "data": {
      "text/plain": "MC_A_6xiii_clipped_cut_lined      [153746.55518282222, -792.1301311227534]\nMC_A_6xi_clipped_cut_lined       [177013.54189441924, -1047.8720515414077]\nMC_A_8xiii_clipped_cut_lined       [70997.35227110838, -87.52239192438282]\nMC_B_6xiii_clipped_cut_lined      [124993.27821541547, -526.2361563712366]\nMC_B_6xii_clipped_cut_lined       [152175.56741137253, -834.8538380990693]\nMC_B_6xi_clipped_cut_lined         [322515.1718159298, -2048.472575703635]\nMC_B_8xiii_clipped_cut_lined      [180261.03482654397, -723.8969605410451]\nMC_B_8xi_clipped_cut_lined          [168557.7755375511, -806.647908312303]\nMC_B_8yi_clipped_cut_lined       [-1232.3585476494427, -15.16204924060329]\nMC_GW_6xiii_clipped_cut_lined      [60955.49881767779, -446.6268939814269]\nMC_GW_6xi_clipped_cut_lined       [42704.175308749465, -308.7672067173004]\nMC_GW_6yiii_clipped_cut_lined      [303082.5854873459, -2406.626982453846]\nMC_GW_6yii_clipped_cut_lined      [175771.4047181677, -255.96012066854288]\nMC_GW_6yi_clipped_cut_lined       [142847.55576537197, 26.013260474748442]\nMC_GW_8xi_clipped_cut_lined       [157681.91212230313, -1303.224877325987]\nMC_GW_8yiii_clipped_cut_lined       [141196.1487622334, 614.6749439431004]\nMC_GW_8yii_clipped_cut_lined       [55152.09456544402, 1170.0093107204366]\nQL_A_6xiii_clipped_cut_lined      [89765.44291381925, -128.76286812220286]\nQL_A_6xii_clipped_cut_lined       [150878.24623939194, -363.1255237869095]\nQL_A_6xi_clipped_cut_lined       [113177.91863102312, -281.73070597346685]\nQL_A_8xii_clipped_cut_lined        [174884.0413149041, -382.8709765758141]\nQL_A_8xi_clipped_cut_lined        [303268.09011446574, -805.4964623120267]\nQL_A_8yiii_clipped_cut_lined      [190295.69225921514, -519.9792705751619]\nQL_A_8yi_clipped_cut_lined        [197057.30437952993, -528.0046351683384]\nQL_B_6xiii_clipped_cut_lined       [39735.46848665393, 50.268144999483674]\nQL_B_8xiii_clipped_cut_lined      [140935.40980227373, -316.1654618901692]\nQL_B_8xii_clipped_cut_lined       [135495.09090063558, -308.3393636659554]\nQL_B_8yiii_clipped_cut_lined       [217208.9136224851, -524.2723509039389]\nQL_B_8yi_clipped_cut_lined         [290878.3679064962, -821.0272467631961]\nQL_GW_6xiii_clipped_cut_lined     [63346.34853008458, -115.59703206150635]\nQL_GW_6xi_clipped_cut_lined         [66874.90293436537, -50.2489389398807]\nQL_GW_6yiii_clipped_cut_lined                                  [180000, 5]\nQL_GW_6yii_clipped_cut_lined                                   [180000, 5]\nQL_GW_8xii_clipped_cut_lined      [122569.97654086135, -257.9887709045352]\nQL_GW_8yii_clipped_cut_lined                                   [180000, 5]\nName: 5_7    _Emod, dtype: object"
     },
     "metadata": {},
     "output_type": "display_data"
    },
    {
     "data": {
      "text/plain": "MC_A_6xiii_clipped_cut_lined      443.848127\nMC_A_6xi_clipped_cut_lined        375.829784\nMC_A_8xiii_clipped_cut_lined      639.745815\nMC_B_6xiii_clipped_cut_lined      349.644201\nMC_B_6xii_clipped_cut_lined       337.893691\nMC_B_6xi_clipped_cut_lined        370.767535\nMC_B_8xiii_clipped_cut_lined      571.631930\nMC_B_8xi_clipped_cut_lined        567.415679\nMC_B_8yi_clipped_cut_lined        -30.278642\nMC_GW_6xiii_clipped_cut_lined     379.168794\nMC_GW_6xi_clipped_cut_lined       800.087977\nMC_GW_6yiii_clipped_cut_lined     600.150140\nMC_GW_6yii_clipped_cut_lined     1775.532436\nMC_GW_6yi_clipped_cut_lined      1799.346208\nMC_GW_8xi_clipped_cut_lined       496.306811\nMC_GW_8yiii_clipped_cut_lined    1631.513836\nMC_GW_8yii_clipped_cut_lined     1618.419172\nQL_A_6xiii_clipped_cut_lined      361.366654\nQL_A_6xii_clipped_cut_lined       337.408117\nQL_A_6xi_clipped_cut_lined        414.523239\nQL_A_8xii_clipped_cut_lined       643.191274\nQL_A_8xi_clipped_cut_lined        598.122315\nQL_A_8yiii_clipped_cut_lined      551.556357\nQL_A_8yi_clipped_cut_lined        573.834000\nQL_B_6xiii_clipped_cut_lined      307.308356\nQL_B_8xiii_clipped_cut_lined      546.014525\nQL_B_8xii_clipped_cut_lined       566.981245\nQL_B_8yiii_clipped_cut_lined      561.310070\nQL_B_8yi_clipped_cut_lined        535.953957\nQL_GW_6xiii_clipped_cut_lined     461.273185\nQL_GW_6xi_clipped_cut_lined       483.131111\nQL_GW_6yiii_clipped_cut_lined            NaN\nQL_GW_6yii_clipped_cut_lined             NaN\nQL_GW_8xii_clipped_cut_lined      706.870492\nQL_GW_8yii_clipped_cut_lined             NaN\nName: 5_7    _rp02, dtype: float64"
     },
     "metadata": {},
     "output_type": "display_data"
    }
   ],
   "source": [
    "def emod(start,end,stress,strain):\n",
    "    #print(start,end)\n",
    "    #print(type(stress),type(strain))\n",
    "    strain=np.array(strain)\n",
    "    strainc=strain[range(start,end)]\n",
    "\n",
    "    stressc=np.array(stress[range(start,end)])\n",
    "    #plt.plot((strainc),(stressc))\n",
    "    try:\n",
    "        z=np.polyfit(list(strainc), list(stressc), 1)\n",
    "        p=np.poly1d(z)\n",
    "        emod=z\n",
    "        n=[p(x) for x in strainc]\n",
    "        return(emod,n)\n",
    "    except:\n",
    "        return ([[180000,5]])\n",
    "def rp02 (emod,stress,strain):\n",
    "    df=pd.DataFrame()\n",
    "    df['stress']=stress\n",
    "    df['strain']=strain\n",
    "    df['rpcurve']=(df.strain*emod[0]+emod[1])-(0.002*emod[0])\n",
    "    idx=df.iloc[(df['stress']-df['rpcurve']).abs().argsort()[:1]].index.tolist()[0]\n",
    "    #print(idx,df.loc[idx,'stress'],df.loc[idx,'rpcurve'])\n",
    "    return (df.loc[idx,'rpcurve'])\n",
    "\n",
    "def smoothing(strain):\n",
    "    try:\n",
    "        return(savgol(strain,51,4))\n",
    "    except:\n",
    "        return strain\n",
    "\n",
    "E=emod(0,int(len(tests_df['stress'][0])*0.3),tests_df['stress'][0],savgol(tests_df['25_27  _strain_p1'][0],51,4))[0]\n",
    "rp=(rp02(E,tests_df['stress'][0],savgol(tests_df['25_27  _strain_p1'][0],51,4)))\n",
    "fig,ax=plt.subplots()\n",
    "ax.plot(savgol(tests_df['25_27  _strain_p1'][0],51,4),\n",
    "         [x*E[0]+E[1] for x in savgol(tests_df['25_27  _strain_p1'][0],51,4)]\n",
    "\n",
    "         )\n",
    "ax.plot(savgol(tests_df['25_27  _strain_p1'][0],51,4),\n",
    "         tests_df['stress'][0]\n",
    "\n",
    "         )\n",
    "ax.plot(savgol(tests_df['25_27  _strain_p1'][0],51,4),\n",
    "         [abs((x*E[0]+E[1])-(0.002*E[0])) for x in savgol(tests_df['25_27  _strain_p1'][0],51,4)]\n",
    "\n",
    "         )\n",
    "ax.axhline(rp)\n",
    "plt.show()\n",
    "\n",
    "#for i in test.index[:-3]:\n",
    "#    print(i)\n",
    "#    plt.plot(savgol(tests_df.loc[i,'-33_-31_strain_p1'],41,4))\n",
    "tests_df['-35_-33_Emod']  = [emod(5,int(len(tests_df.loc[i,'stress'])*0.3),tests_df.loc[i,'stress'],smoothing(tests_df.loc[i,'-35_-33_strain_p1']))[0] for i in tests_df.index]\n",
    "tests_df['-33_-31_Emod']  = [emod(5,int(len(tests_df.loc[i,'stress'])*0.3),tests_df.loc[i,'stress'],smoothing(tests_df.loc[i,'-33_-31_strain_p1']))[0] for i in tests_df.index]\n",
    "tests_df['-31_-29_Emod']  = [emod(5,int(len(tests_df.loc[i,'stress'])*0.3),tests_df.loc[i,'stress'],smoothing(tests_df.loc[i,'-31_-29_strain_p1']))[0] for i in tests_df.index]\n",
    "tests_df['-29_-27_Emod']  = [emod(5,int(len(tests_df.loc[i,'stress'])*0.3),tests_df.loc[i,'stress'],smoothing(tests_df.loc[i,'-29_-27_strain_p1']))[0] for i in tests_df.index]\n",
    "tests_df['-27_-25_Emod']  = [emod(5,int(len(tests_df.loc[i,'stress'])*0.3),tests_df.loc[i,'stress'],smoothing(tests_df.loc[i,'-27_-25_strain_p1']))[0] for i in tests_df.index]\n",
    "tests_df['-25_-23_Emod']  = [emod(5,int(len(tests_df.loc[i,'stress'])*0.3),tests_df.loc[i,'stress'],smoothing(tests_df.loc[i,'-25_-23_strain_p1']))[0] for i in tests_df.index]\n",
    "tests_df['-23_-21_Emod']  = [emod(5,int(len(tests_df.loc[i,'stress'])*0.3),tests_df.loc[i,'stress'],smoothing(tests_df.loc[i,'-23_-21_strain_p1']))[0] for i in tests_df.index]\n",
    "tests_df['-21_-19_Emod']  = [emod(5,int(len(tests_df.loc[i,'stress'])*0.3),tests_df.loc[i,'stress'],smoothing(tests_df.loc[i,'-21_-19_strain_p1']))[0] for i in tests_df.index]\n",
    "tests_df['-19_-17_Emod']  = [emod(5,int(len(tests_df.loc[i,'stress'])*0.3),tests_df.loc[i,'stress'],smoothing(tests_df.loc[i,'-19_-17_strain_p1']))[0] for i in tests_df.index]\n",
    "tests_df['-17_-15_Emod']  = [emod(5,int(len(tests_df.loc[i,'stress'])*0.3),tests_df.loc[i,'stress'],smoothing(tests_df.loc[i,'-17_-15_strain_p1']))[0] for i in tests_df.index]\n",
    "tests_df['-15_-13_Emod']  = [emod(5,int(len(tests_df.loc[i,'stress'])*0.3),tests_df.loc[i,'stress'],smoothing(tests_df.loc[i,'-15_-13_strain_p1']))[0] for i in tests_df.index]\n",
    "tests_df['-13_-11_Emod']  = [emod(5,int(len(tests_df.loc[i,'stress'])*0.3),tests_df.loc[i,'stress'],smoothing(tests_df.loc[i,'-13_-11_strain_p1']))[0] for i in tests_df.index]\n",
    "tests_df['-11_-9 _Emod']  = [emod(5,int(len(tests_df.loc[i,'stress'])*0.3),tests_df.loc[i,'stress'],smoothing(tests_df.loc[i,'-11_-9 _strain_p1']))[0] for i in tests_df.index]\n",
    "tests_df['-9_-7  _Emod']  = [emod(5,int(len(tests_df.loc[i,'stress'])*0.3),tests_df.loc[i,'stress'],smoothing(tests_df.loc[i,'-9_-7  _strain_p1']))[0] for i in tests_df.index]\n",
    "tests_df['-7_-5  _Emod']  = [emod(5,int(len(tests_df.loc[i,'stress'])*0.3),tests_df.loc[i,'stress'],smoothing(tests_df.loc[i,'-7_-5  _strain_p1']))[0] for i in tests_df.index]\n",
    "tests_df['-5_-3  _Emod']  = [emod(5,int(len(tests_df.loc[i,'stress'])*0.3),tests_df.loc[i,'stress'],smoothing(tests_df.loc[i,'-5_-3  _strain_p1']))[0] for i in tests_df.index]\n",
    "tests_df['-3_-1  _Emod']  = [emod(5,int(len(tests_df.loc[i,'stress'])*0.3),tests_df.loc[i,'stress'],smoothing(tests_df.loc[i,'-3_-1  _strain_p1']))[0] for i in tests_df.index]\n",
    "tests_df['-1_1   _Emod']  = [emod(5,int(len(tests_df.loc[i,'stress'])*0.3),tests_df.loc[i,'stress'],smoothing(tests_df.loc[i,'-1_1   _strain_p1']))[0] for i in tests_df.index]\n",
    "tests_df['1_3    _Emod']  = [emod(5,int(len(tests_df.loc[i,'stress'])*0.3),tests_df.loc[i,'stress'],smoothing(tests_df.loc[i,'1_3    _strain_p1']))[0] for i in tests_df.index]\n",
    "tests_df['3_5    _Emod']  = [emod(5,int(len(tests_df.loc[i,'stress'])*0.3),tests_df.loc[i,'stress'],smoothing(tests_df.loc[i,'3_5    _strain_p1']))[0] for i in tests_df.index]\n",
    "tests_df['5_7    _Emod']  = [emod(5,int(len(tests_df.loc[i,'stress'])*0.3),tests_df.loc[i,'stress'],smoothing(tests_df.loc[i,'5_7    _strain_p1']))[0] for i in tests_df.index]\n",
    "tests_df['7_9    _Emod']  = [emod(5,int(len(tests_df.loc[i,'stress'])*0.3),tests_df.loc[i,'stress'],smoothing(tests_df.loc[i,'7_9    _strain_p1']))[0] for i in tests_df.index]\n",
    "tests_df['9_11   _Emod']  = [emod(5,int(len(tests_df.loc[i,'stress'])*0.3),tests_df.loc[i,'stress'],smoothing(tests_df.loc[i,'9_11   _strain_p1']))[0] for i in tests_df.index]\n",
    "tests_df['11_13  _Emod']  = [emod(5,int(len(tests_df.loc[i,'stress'])*0.3),tests_df.loc[i,'stress'],smoothing(tests_df.loc[i,'11_13  _strain_p1']))[0] for i in tests_df.index]\n",
    "tests_df['13_15  _Emod']  = [emod(5,int(len(tests_df.loc[i,'stress'])*0.3),tests_df.loc[i,'stress'],smoothing(tests_df.loc[i,'13_15  _strain_p1']))[0] for i in tests_df.index]\n",
    "tests_df['15_17  _Emod']  = [emod(5,int(len(tests_df.loc[i,'stress'])*0.3),tests_df.loc[i,'stress'],smoothing(tests_df.loc[i,'15_17  _strain_p1']))[0] for i in tests_df.index]\n",
    "tests_df['17_19  _Emod']  = [emod(5,int(len(tests_df.loc[i,'stress'])*0.3),tests_df.loc[i,'stress'],smoothing(tests_df.loc[i,'17_19  _strain_p1']))[0] for i in tests_df.index]\n",
    "tests_df['19_21  _Emod']  = [emod(5,int(len(tests_df.loc[i,'stress'])*0.3),tests_df.loc[i,'stress'],smoothing(tests_df.loc[i,'19_21  _strain_p1']))[0] for i in tests_df.index]\n",
    "tests_df['21_23  _Emod']  = [emod(5,int(len(tests_df.loc[i,'stress'])*0.3),tests_df.loc[i,'stress'],smoothing(tests_df.loc[i,'21_23  _strain_p1']))[0] for i in tests_df.index]\n",
    "tests_df['23_25  _Emod']  = [emod(5,int(len(tests_df.loc[i,'stress'])*0.3),tests_df.loc[i,'stress'],smoothing(tests_df.loc[i,'23_25  _strain_p1']))[0] for i in tests_df.index]\n",
    "tests_df['25_27  _Emod']  = [emod(5,int(len(tests_df.loc[i,'stress'])*0.3),tests_df.loc[i,'stress'],smoothing(tests_df.loc[i,'25_27  _strain_p1']))[0] for i in tests_df.index]\n",
    "tests_df['27_29  _Emod']  = [emod(5,int(len(tests_df.loc[i,'stress'])*0.3),tests_df.loc[i,'stress'],smoothing(tests_df.loc[i,'27_29  _strain_p1']))[0] for i in tests_df.index]\n",
    "tests_df['29_31  _Emod']  = [emod(5,int(len(tests_df.loc[i,'stress'])*0.3),tests_df.loc[i,'stress'],smoothing(tests_df.loc[i,'29_31  _strain_p1']))[0] for i in tests_df.index]\n",
    "tests_df['31_33  _Emod']  = [emod(5,int(len(tests_df.loc[i,'stress'])*0.3),tests_df.loc[i,'stress'],smoothing(tests_df.loc[i,'31_33  _strain_p1']))[0] for i in tests_df.index]\n",
    "tests_df['33_35  _Emod']  = [emod(5,int(len(tests_df.loc[i,'stress'])*0.3),tests_df.loc[i,'stress'],smoothing(tests_df.loc[i,'33_35  _strain_p1']))[0] for i in tests_df.index]\n",
    "\n",
    "display(tests_df['5_7    _Emod'])\n",
    "\n",
    "tests_df['-35_-33_rp02']  = [rp02(E,tests_df.loc[i,'stress'],smoothing(tests_df.loc[i,'-35_-33_strain_p1'])) for i in tests_df.index]\n",
    "tests_df['-33_-31_rp02']  = [rp02(E,tests_df.loc[i,'stress'],smoothing(tests_df.loc[i,'-33_-31_strain_p1'])) for i in tests_df.index]\n",
    "tests_df['-31_-29_rp02']  = [rp02(E,tests_df.loc[i,'stress'],smoothing(tests_df.loc[i,'-31_-29_strain_p1'])) for i in tests_df.index]\n",
    "tests_df['-29_-27_rp02']  = [rp02(E,tests_df.loc[i,'stress'],smoothing(tests_df.loc[i,'-29_-27_strain_p1'])) for i in tests_df.index]\n",
    "tests_df['-27_-25_rp02']  = [rp02(E,tests_df.loc[i,'stress'],smoothing(tests_df.loc[i,'-27_-25_strain_p1'])) for i in tests_df.index]\n",
    "tests_df['-25_-23_rp02']  = [rp02(E,tests_df.loc[i,'stress'],smoothing(tests_df.loc[i,'-25_-23_strain_p1'])) for i in tests_df.index]\n",
    "tests_df['-23_-21_rp02']  = [rp02(E,tests_df.loc[i,'stress'],smoothing(tests_df.loc[i,'-23_-21_strain_p1'])) for i in tests_df.index]\n",
    "tests_df['-21_-19_rp02']  = [rp02(E,tests_df.loc[i,'stress'],smoothing(tests_df.loc[i,'-21_-19_strain_p1'])) for i in tests_df.index]\n",
    "tests_df['-19_-17_rp02']  = [rp02(E,tests_df.loc[i,'stress'],smoothing(tests_df.loc[i,'-19_-17_strain_p1'])) for i in tests_df.index]\n",
    "tests_df['-17_-15_rp02']  = [rp02(E,tests_df.loc[i,'stress'],smoothing(tests_df.loc[i,'-17_-15_strain_p1'])) for i in tests_df.index]\n",
    "tests_df['-15_-13_rp02']  = [rp02(E,tests_df.loc[i,'stress'],smoothing(tests_df.loc[i,'-15_-13_strain_p1'])) for i in tests_df.index]\n",
    "tests_df['-13_-11_rp02']  = [rp02(E,tests_df.loc[i,'stress'],smoothing(tests_df.loc[i,'-13_-11_strain_p1'])) for i in tests_df.index]\n",
    "tests_df['-11_-9 _rp02']  = [rp02(E,tests_df.loc[i,'stress'],smoothing(tests_df.loc[i,'-11_-9 _strain_p1'])) for i in tests_df.index]\n",
    "tests_df['-9_-7  _rp02']  = [rp02(E,tests_df.loc[i,'stress'],smoothing(tests_df.loc[i,'-9_-7  _strain_p1'])) for i in tests_df.index]\n",
    "tests_df['-7_-5  _rp02']  = [rp02(E,tests_df.loc[i,'stress'],smoothing(tests_df.loc[i,'-7_-5  _strain_p1'])) for i in tests_df.index]\n",
    "tests_df['-5_-3  _rp02']  = [rp02(E,tests_df.loc[i,'stress'],smoothing(tests_df.loc[i,'-5_-3  _strain_p1'])) for i in tests_df.index]\n",
    "tests_df['-3_-1  _rp02']  = [rp02(E,tests_df.loc[i,'stress'],smoothing(tests_df.loc[i,'-3_-1  _strain_p1'])) for i in tests_df.index]\n",
    "tests_df['-1_1   _rp02']  = [rp02(E,tests_df.loc[i,'stress'],smoothing(tests_df.loc[i,'-1_1   _strain_p1'])) for i in tests_df.index]\n",
    "tests_df['1_3    _rp02']  = [rp02(E,tests_df.loc[i,'stress'],smoothing(tests_df.loc[i,'1_3    _strain_p1'])) for i in tests_df.index]\n",
    "tests_df['3_5    _rp02']  = [rp02(E,tests_df.loc[i,'stress'],smoothing(tests_df.loc[i,'3_5    _strain_p1'])) for i in tests_df.index]\n",
    "tests_df['5_7    _rp02']  = [rp02(E,tests_df.loc[i,'stress'],smoothing(tests_df.loc[i,'5_7    _strain_p1'])) for i in tests_df.index]\n",
    "tests_df['7_9    _rp02']  = [rp02(E,tests_df.loc[i,'stress'],smoothing(tests_df.loc[i,'7_9    _strain_p1'])) for i in tests_df.index]\n",
    "tests_df['9_11   _rp02']  = [rp02(E,tests_df.loc[i,'stress'],smoothing(tests_df.loc[i,'9_11   _strain_p1'])) for i in tests_df.index]\n",
    "tests_df['11_13  _rp02']  = [rp02(E,tests_df.loc[i,'stress'],smoothing(tests_df.loc[i,'11_13  _strain_p1'])) for i in tests_df.index]\n",
    "tests_df['13_15  _rp02']  = [rp02(E,tests_df.loc[i,'stress'],smoothing(tests_df.loc[i,'13_15  _strain_p1'])) for i in tests_df.index]\n",
    "tests_df['15_17  _rp02']  = [rp02(E,tests_df.loc[i,'stress'],smoothing(tests_df.loc[i,'15_17  _strain_p1'])) for i in tests_df.index]\n",
    "tests_df['17_19  _rp02']  = [rp02(E,tests_df.loc[i,'stress'],smoothing(tests_df.loc[i,'17_19  _strain_p1'])) for i in tests_df.index]\n",
    "tests_df['19_21  _rp02']  = [rp02(E,tests_df.loc[i,'stress'],smoothing(tests_df.loc[i,'19_21  _strain_p1'])) for i in tests_df.index]\n",
    "tests_df['21_23  _rp02']  = [rp02(E,tests_df.loc[i,'stress'],smoothing(tests_df.loc[i,'21_23  _strain_p1'])) for i in tests_df.index]\n",
    "tests_df['23_25  _rp02']  = [rp02(E,tests_df.loc[i,'stress'],smoothing(tests_df.loc[i,'23_25  _strain_p1'])) for i in tests_df.index]\n",
    "tests_df['25_27  _rp02']  = [rp02(E,tests_df.loc[i,'stress'],smoothing(tests_df.loc[i,'25_27  _strain_p1'])) for i in tests_df.index]\n",
    "tests_df['27_29  _rp02']  = [rp02(E,tests_df.loc[i,'stress'],smoothing(tests_df.loc[i,'27_29  _strain_p1'])) for i in tests_df.index]\n",
    "tests_df['29_31  _rp02']  = [rp02(E,tests_df.loc[i,'stress'],smoothing(tests_df.loc[i,'29_31  _strain_p1'])) for i in tests_df.index]\n",
    "tests_df['31_33  _rp02']  = [rp02(E,tests_df.loc[i,'stress'],smoothing(tests_df.loc[i,'31_33  _strain_p1'])) for i in tests_df.index]\n",
    "tests_df['33_35  _rp02']  = [rp02(E,tests_df.loc[i,'stress'],smoothing(tests_df.loc[i,'33_35  _strain_p1'])) for i in tests_df.index]\n",
    "\n",
    "display(tests_df['5_7    _rp02'])\n",
    "\n",
    "#def meaner (series):\n",
    "#    means=[]\n",
    "#    for"
   ],
   "metadata": {
    "collapsed": false,
    "pycharm": {
     "name": "#%%\n"
    }
   }
  },
  {
   "cell_type": "code",
   "execution_count": 253,
   "outputs": [
    {
     "data": {
      "text/plain": "MC_A_6xiii_clipped_cut_lined     [433.6013518879231_-34.0, 406.27754850440806_-...\nMC_A_6xi_clipped_cut_lined       [433.38329629679083_-34.0, 425.17039062261574_...\nMC_A_8xiii_clipped_cut_lined     [658.0338823513639_-34.0, 645.5970778766664_-3...\nMC_B_6xiii_clipped_cut_lined     [-360.15144622147045_-34.0, -157.1579868800333...\nMC_B_6xii_clipped_cut_lined      [267.7261895641093_-34.0, 328.8831395959055_-3...\nMC_B_6xi_clipped_cut_lined       [-6.084161712209607_-34.0, -34.70162022290242_...\nMC_B_8xiii_clipped_cut_lined     [-572.3625078401859_-34.0, -48.096762645485114...\nMC_B_8xi_clipped_cut_lined       [57.87159647990302_-34.0, 75.46116418350198_-3...\nMC_B_8yi_clipped_cut_lined       [-17.835681248077435_-34.0, -20.67302066650359...\nMC_GW_6xiii_clipped_cut_lined    [637.2470510216845_-34.0, 380.4481153858287_-3...\nMC_GW_6xi_clipped_cut_lined      [896.4180946730689_-34.0, 537.910448368011_-32...\nMC_GW_6yiii_clipped_cut_lined    [163.65157059267062_-34.0, 163.65157059267062_...\nMC_GW_6yii_clipped_cut_lined     [1791.116766665494_-34.0, 1791.116766665494_-3...\nMC_GW_6yi_clipped_cut_lined      [217.51175554584233_-34.0, 217.51175554584233_...\nMC_GW_8xi_clipped_cut_lined      [34.31298342422065_-34.0, 630.3290881848179_-3...\nMC_GW_8yiii_clipped_cut_lined    [-683.5843288817503_-34.0, -875.339704825569_-...\nMC_GW_8yii_clipped_cut_lined     [1587.9129052387011_-34.0, 1587.4722514433738_...\nQL_A_6xiii_clipped_cut_lined     [-242.81288861862754_-34.0, -178.2156823756404...\nQL_A_6xii_clipped_cut_lined      [-212.70196375026308_-34.0, -298.6104581031961...\nQL_A_6xi_clipped_cut_lined       [-309.116218541797_-34.0, -202.18513046139947_...\nQL_A_8xii_clipped_cut_lined      [-139.2199711855817_-34.0, -167.66802893242402...\nQL_A_8xi_clipped_cut_lined       [-239.4319436059884_-34.0, -322.222208075817_-...\nQL_A_8yiii_clipped_cut_lined     [-117.60755322911245_-34.0, -133.2637892565444...\nQL_A_8yi_clipped_cut_lined       [-95.04567426242488_-34.0, -71.39080243494186_...\nQL_B_6xiii_clipped_cut_lined     [-508.743599651513_-34.0, -552.7592136198804_-...\nQL_B_8xiii_clipped_cut_lined     [-339.36719324409364_-34.0, -357.1419031121461...\nQL_B_8xii_clipped_cut_lined      [-465.70144912393926_-34.0, -531.7719832849647...\nQL_B_8yiii_clipped_cut_lined     [-302.7200264317064_-34.0, -332.813062929783_-...\nQL_B_8yi_clipped_cut_lined       [-390.14513606660057_-34.0, -916.4162157424919...\nQL_GW_6xiii_clipped_cut_lined    [-858.4198457318805_-34.0, -858.4198457318805_...\nQL_GW_6xi_clipped_cut_lined      [523.5610801522146_-34.0, 481.3014588910139_-3...\nQL_GW_6yiii_clipped_cut_lined    [1786.1914915304608_-34.0, 1786.1914915304608_...\nQL_GW_6yii_clipped_cut_lined     [nan_-34.0, nan_-32.0, nan_-30.0, nan_-28.0, n...\nQL_GW_8xii_clipped_cut_lined     [704.095293473466_-34.0, 726.0834616438606_-32...\nQL_GW_8yii_clipped_cut_lined     [nan_-34.0, nan_-32.0, nan_-30.0, nan_-28.0, n...\nName: Rpinclpos, dtype: object"
     },
     "metadata": {},
     "output_type": "display_data"
    },
    {
     "data": {
      "text/plain": "0      6\n1      6\n2      6\n3      6\n4      6\n      ..\n485    6\n486    6\n487    6\n488    6\n489    6\nName: plate_thickness, Length: 350, dtype: object"
     },
     "metadata": {},
     "output_type": "display_data"
    }
   ],
   "source": [
    "lst=[\n",
    "'-35_-33_rp02',\n",
    "'-33_-31_rp02',\n",
    "'-31_-29_rp02',\n",
    "'-29_-27_rp02',\n",
    "'-27_-25_rp02',\n",
    "'-25_-23_rp02',\n",
    "'-23_-21_rp02',\n",
    "'-21_-19_rp02',\n",
    "'-19_-17_rp02',\n",
    "'-17_-15_rp02',\n",
    "'-15_-13_rp02',\n",
    "'-13_-11_rp02',\n",
    "'-11_-9 _rp02',\n",
    "'-9_-7  _rp02',\n",
    "'-7_-5  _rp02',\n",
    "'-5_-3  _rp02',\n",
    "'-3_-1  _rp02',\n",
    "'-1_1   _rp02',\n",
    "'1_3    _rp02',\n",
    "'3_5    _rp02',\n",
    "'5_7    _rp02',\n",
    "'7_9    _rp02',\n",
    "'9_11   _rp02',\n",
    "'11_13  _rp02',\n",
    "'13_15  _rp02',\n",
    "'15_17  _rp02',\n",
    "'17_19  _rp02',\n",
    "'19_21  _rp02',\n",
    "'21_23  _rp02',\n",
    "'23_25  _rp02',\n",
    "'25_27  _rp02',\n",
    "'27_29  _rp02',\n",
    "'29_31  _rp02',\n",
    "'31_33  _rp02',\n",
    "'33_35  _rp02'\n",
    "]\n",
    "posts=[(int(i.split('_')[1])+int(i.split('_')[0]))/2 for i in lst]\n",
    "def map_posts (rps,posts):\n",
    "    res=[]\n",
    "    for i,val in enumerate(rps):\n",
    "        res.append(str(val)+'_'+str(posts[i]))\n",
    "    return(res)\n",
    "\n",
    "tests_df['Rp'] =[list(tests_df.loc[i,lst]) for i in tests_df.index]\n",
    "tests_df['Rpinclpos']=[map_posts(tests_df.loc[i,'Rp'],posts)  for i in tests_df.index]\n",
    "#tests_df['post'] =[(int(str(tests_df.loc[i,lst].index).split('_')[1])+int(str(tests_df.loc[i,lst].index).split('_')[0].split(\"'\")[1]))/2 for i in tests_df.index]\n",
    "display(tests_df['Rpinclpos'])\n",
    "interests=[\n",
    "    'paths',\n",
    " 'ok',\n",
    " 'crack',\n",
    " 'pos',\n",
    " 'left_12-5',\n",
    " 'step_start',\n",
    " 'step_stop',\n",
    " 'index',\n",
    " 'material',\n",
    " 'senergie/GW',\n",
    " 'plate_thickness',\n",
    " 'testspeed',\n",
    " 'running_number',\n",
    " 'data',\n",
    "'Rp',\n",
    " 'post',\n",
    " 'Rpinclpos'\n",
    "\n",
    "\n",
    "\n",
    "]\n",
    "prexplode=tests_df[interests].copy()\n",
    "postexplode=prexplode.explode('Rpinclpos').reset_index().copy()\n",
    "postexplode['Rp']=[postexplode.loc[i,'Rpinclpos'].split('_')[0] for i in postexplode.index]\n",
    "postexplode['post']=[postexplode.loc[i,'Rpinclpos'].split('_')[1] for i in postexplode.index]\n",
    "plot=postexplode.copy()\n",
    "plot=plot[plot['material']=='MC']\n",
    "plot=plot[plot['plate_thickness']=='6']\n",
    "\n",
    "\n",
    "\n",
    "display(plot.plate_thickness)"
   ],
   "metadata": {
    "collapsed": false,
    "pycharm": {
     "name": "#%%\n"
    }
   }
  },
  {
   "cell_type": "code",
   "execution_count": 259,
   "outputs": [
    {
     "data": {
      "text/plain": "<Figure size 432x288 with 1 Axes>",
      "image/png": "[encoded data removed]"
     },
     "metadata": {},
     "output_type": "display_data"
    }
   ],
   "source": [
    "for i in tests_df.index:\n",
    "    plt.plot(posts,tests_df.loc[i,'Rp'])\n",
    "\n"
   ],
   "metadata": {
    "collapsed": false,
    "pycharm": {
     "name": "#%%\n"
    }
   }
  },
  {
   "cell_type": "code",
   "execution_count": 254,
   "outputs": [],
   "source": [
    "#display(list(tests_df.testspeed))"
   ],
   "metadata": {
    "collapsed": false,
    "pycharm": {
     "name": "#%%\n"
    }
   }
  },
  {
   "cell_type": "code",
   "execution_count": 256,
   "outputs": [
    {
     "data": {
      "text/plain": "     y1    y2  y3           y4\n0     6 -34.0  10   433.601352\n1     6 -32.0  10   406.277549\n2     6 -30.0  10   427.777397\n3     6 -28.0  10   438.515521\n4     6 -26.0  10   434.946408\n..   ..   ...  ..          ...\n485   6  26.0   5  1799.346208\n486   6  28.0   5  1799.346208\n487   6  30.0   5  1799.346208\n488   6  32.0   5  1799.346208\n489   6  34.0   5  1799.346208\n\n[350 rows x 4 columns]",
      "text/html": "<div>\n<style scoped>\n    .dataframe tbody tr th:only-of-type {\n        vertical-align: middle;\n    }\n\n    .dataframe tbody tr th {\n        vertical-align: top;\n    }\n\n    .dataframe thead th {\n        text-align: right;\n    }\n</style>\n<table border=\"1\" class=\"dataframe\">\n  <thead>\n    <tr style=\"text-align: right;\">\n      <th></th>\n      <th>y1</th>\n      <th>y2</th>\n      <th>y3</th>\n      <th>y4</th>\n    </tr>\n  </thead>\n  <tbody>\n    <tr>\n      <th>0</th>\n      <td>6</td>\n      <td>-34.0</td>\n      <td>10</td>\n      <td>433.601352</td>\n    </tr>\n    <tr>\n      <th>1</th>\n      <td>6</td>\n      <td>-32.0</td>\n      <td>10</td>\n      <td>406.277549</td>\n    </tr>\n    <tr>\n      <th>2</th>\n      <td>6</td>\n      <td>-30.0</td>\n      <td>10</td>\n      <td>427.777397</td>\n    </tr>\n    <tr>\n      <th>3</th>\n      <td>6</td>\n      <td>-28.0</td>\n      <td>10</td>\n      <td>438.515521</td>\n    </tr>\n    <tr>\n      <th>4</th>\n      <td>6</td>\n      <td>-26.0</td>\n      <td>10</td>\n      <td>434.946408</td>\n    </tr>\n    <tr>\n      <th>...</th>\n      <td>...</td>\n      <td>...</td>\n      <td>...</td>\n      <td>...</td>\n    </tr>\n    <tr>\n      <th>485</th>\n      <td>6</td>\n      <td>26.0</td>\n      <td>5</td>\n      <td>1799.346208</td>\n    </tr>\n    <tr>\n      <th>486</th>\n      <td>6</td>\n      <td>28.0</td>\n      <td>5</td>\n      <td>1799.346208</td>\n    </tr>\n    <tr>\n      <th>487</th>\n      <td>6</td>\n      <td>30.0</td>\n      <td>5</td>\n      <td>1799.346208</td>\n    </tr>\n    <tr>\n      <th>488</th>\n      <td>6</td>\n      <td>32.0</td>\n      <td>5</td>\n      <td>1799.346208</td>\n    </tr>\n    <tr>\n      <th>489</th>\n      <td>6</td>\n      <td>34.0</td>\n      <td>5</td>\n      <td>1799.346208</td>\n    </tr>\n  </tbody>\n</table>\n<p>350 rows × 4 columns</p>\n</div>"
     },
     "metadata": {},
     "output_type": "display_data"
    },
    {
     "data": {
      "text/plain": "     y1    y2  y3          y4\n0     6 -34.0  10  433.601352\n1     6 -32.0  10  406.277549\n2     6 -30.0  10  427.777397\n3     6 -28.0  10  438.515521\n4     6 -26.0  10  434.946408\n..   ..   ...  ..         ...\n467   6 -10.0   5  217.511756\n468   6  -8.0   5  217.511756\n469   6  -6.0   5  217.511756\n470   6  -4.0   5  217.511756\n471   6  -2.0   5  217.511756\n\n[273 rows x 4 columns]",
      "text/html": "<div>\n<style scoped>\n    .dataframe tbody tr th:only-of-type {\n        vertical-align: middle;\n    }\n\n    .dataframe tbody tr th {\n        vertical-align: top;\n    }\n\n    .dataframe thead th {\n        text-align: right;\n    }\n</style>\n<table border=\"1\" class=\"dataframe\">\n  <thead>\n    <tr style=\"text-align: right;\">\n      <th></th>\n      <th>y1</th>\n      <th>y2</th>\n      <th>y3</th>\n      <th>y4</th>\n    </tr>\n  </thead>\n  <tbody>\n    <tr>\n      <th>0</th>\n      <td>6</td>\n      <td>-34.0</td>\n      <td>10</td>\n      <td>433.601352</td>\n    </tr>\n    <tr>\n      <th>1</th>\n      <td>6</td>\n      <td>-32.0</td>\n      <td>10</td>\n      <td>406.277549</td>\n    </tr>\n    <tr>\n      <th>2</th>\n      <td>6</td>\n      <td>-30.0</td>\n      <td>10</td>\n      <td>427.777397</td>\n    </tr>\n    <tr>\n      <th>3</th>\n      <td>6</td>\n      <td>-28.0</td>\n      <td>10</td>\n      <td>438.515521</td>\n    </tr>\n    <tr>\n      <th>4</th>\n      <td>6</td>\n      <td>-26.0</td>\n      <td>10</td>\n      <td>434.946408</td>\n    </tr>\n    <tr>\n      <th>...</th>\n      <td>...</td>\n      <td>...</td>\n      <td>...</td>\n      <td>...</td>\n    </tr>\n    <tr>\n      <th>467</th>\n      <td>6</td>\n      <td>-10.0</td>\n      <td>5</td>\n      <td>217.511756</td>\n    </tr>\n    <tr>\n      <th>468</th>\n      <td>6</td>\n      <td>-8.0</td>\n      <td>5</td>\n      <td>217.511756</td>\n    </tr>\n    <tr>\n      <th>469</th>\n      <td>6</td>\n      <td>-6.0</td>\n      <td>5</td>\n      <td>217.511756</td>\n    </tr>\n    <tr>\n      <th>470</th>\n      <td>6</td>\n      <td>-4.0</td>\n      <td>5</td>\n      <td>217.511756</td>\n    </tr>\n    <tr>\n      <th>471</th>\n      <td>6</td>\n      <td>-2.0</td>\n      <td>5</td>\n      <td>217.511756</td>\n    </tr>\n  </tbody>\n</table>\n<p>273 rows × 4 columns</p>\n</div>"
     },
     "metadata": {},
     "output_type": "display_data"
    },
    {
     "data": {
      "application/vnd.plotly.v1+json": {
       "config": {
        "plotlyServerURL": "https://plot.ly"
       },
       "data": [
        {
         "dimensions": [
          {
           "label": "plate_thickness",
           "values": [
            6,
            6,
            6,
            6,
            6,
            6,
            6,
            6,
            6,
            6,
            6,
            6,
            6,
            6,
            6,
            6,
            6,
            6,
            6,
            6,
            6,
            6,
            6,
            6,
            6,
            6,
            6,
            6,
            6,
            6,
            6,
            6,
            6,
            6,
            6,
            6,
            6,
            6,
            6,
            6,
            6,
            6,
            6,
            6,
            6,
            6,
            6,
            6,
            6,
            6,
            6,
            6,
            6,
            6,
            6,
            6,
            6,
            6,
            6,
            6,
            6,
            6,
            6,
            6,
            6,
            6,
            6,
            6,
            6,
            6,
            6,
            6,
            6,
            6,
            6,
            6,
            6,
            6,
            6,
            6,
            6,
            6,
            6,
            6,
            6,
            6,
            6,
            6,
            6,
            6,
            6,
            6,
            6,
            6,
            6,
            6,
            6,
            6,
            6,
            6,
            6,
            6,
            6,
            6,
            6,
            6,
            6,
            6,
            6,
            6,
            6,
            6,
            6,
            6,
            6,
            6,
            6,
            6,
            6,
            6,
            6,
            6,
            6,
            6,
            6,
            6,
            6,
            6,
            6,
            6,
            6,
            6,
            6,
            6,
            6,
            6,
            6,
            6,
            6,
            6,
            6,
            6,
            6,
            6,
            6,
            6,
            6,
            6,
            6,
            6,
            6,
            6,
            6,
            6,
            6,
            6,
            6,
            6,
            6,
            6,
            6,
            6,
            6,
            6,
            6,
            6,
            6,
            6,
            6,
            6,
            6,
            6,
            6,
            6,
            6,
            6,
            6,
            6,
            6,
            6,
            6,
            6,
            6,
            6,
            6,
            6,
            6,
            6,
            6,
            6,
            6,
            6,
            6,
            6,
            6,
            6,
            6,
            6,
            6,
            6,
            6,
            6,
            6,
            6,
            6,
            6,
            6,
            6,
            6,
            6,
            6,
            6,
            6,
            6,
            6,
            6,
            6,
            6,
            6,
            6,
            6,
            6,
            6,
            6,
            6,
            6,
            6,
            6,
            6,
            6,
            6,
            6,
            6,
            6,
            6,
            6,
            6,
            6,
            6,
            6,
            6,
            6,
            6,
            6,
            6,
            6,
            6,
            6,
            6,
            6,
            6,
            6,
            6,
            6,
            6,
            6,
            6,
            6,
            6,
            6,
            6,
            6,
            6,
            6,
            6,
            6,
            6,
            6,
            6,
            6,
            6,
            6,
            6
           ]
          },
          {
           "label": "position",
           "values": [
            -34.0,
            -32.0,
            -30.0,
            -28.0,
            -26.0,
            -24.0,
            -22.0,
            -20.0,
            -18.0,
            -16.0,
            -14.0,
            -12.0,
            -10.0,
            -8.0,
            -6.0,
            -4.0,
            -2.0,
            0.0,
            2.0,
            4.0,
            6.0,
            8.0,
            10.0,
            12.0,
            14.0,
            16.0,
            18.0,
            20.0,
            22.0,
            24.0,
            26.0,
            28.0,
            30.0,
            32.0,
            -34.0,
            -32.0,
            -30.0,
            -28.0,
            -26.0,
            -24.0,
            -22.0,
            -20.0,
            -18.0,
            -16.0,
            -14.0,
            -12.0,
            -10.0,
            -8.0,
            -6.0,
            -4.0,
            -2.0,
            0.0,
            2.0,
            4.0,
            6.0,
            8.0,
            10.0,
            12.0,
            14.0,
            16.0,
            18.0,
            20.0,
            22.0,
            24.0,
            26.0,
            28.0,
            30.0,
            32.0,
            34.0,
            -26.0,
            -24.0,
            -22.0,
            -14.0,
            -12.0,
            -10.0,
            -8.0,
            -6.0,
            -4.0,
            -2.0,
            0.0,
            2.0,
            4.0,
            6.0,
            8.0,
            10.0,
            12.0,
            14.0,
            16.0,
            18.0,
            28.0,
            32.0,
            -34.0,
            -32.0,
            -30.0,
            -28.0,
            -26.0,
            -24.0,
            -22.0,
            -20.0,
            -18.0,
            -16.0,
            -14.0,
            -12.0,
            -10.0,
            -8.0,
            -6.0,
            -4.0,
            -2.0,
            0.0,
            2.0,
            4.0,
            6.0,
            8.0,
            10.0,
            12.0,
            14.0,
            16.0,
            18.0,
            20.0,
            22.0,
            24.0,
            26.0,
            28.0,
            30.0,
            32.0,
            34.0,
            -30.0,
            -16.0,
            -14.0,
            -12.0,
            -10.0,
            -8.0,
            -6.0,
            -4.0,
            -2.0,
            0.0,
            2.0,
            4.0,
            6.0,
            8.0,
            10.0,
            12.0,
            14.0,
            16.0,
            18.0,
            20.0,
            24.0,
            26.0,
            28.0,
            30.0,
            32.0,
            34.0,
            -34.0,
            -32.0,
            -30.0,
            -28.0,
            -26.0,
            -24.0,
            -22.0,
            -20.0,
            -18.0,
            -16.0,
            -14.0,
            -12.0,
            -10.0,
            -8.0,
            -6.0,
            -4.0,
            -2.0,
            0.0,
            2.0,
            4.0,
            6.0,
            8.0,
            10.0,
            12.0,
            14.0,
            16.0,
            18.0,
            20.0,
            22.0,
            24.0,
            26.0,
            28.0,
            30.0,
            32.0,
            34.0,
            -34.0,
            -32.0,
            -30.0,
            -28.0,
            -26.0,
            -24.0,
            -22.0,
            -20.0,
            -18.0,
            -16.0,
            -14.0,
            -12.0,
            -10.0,
            -8.0,
            -6.0,
            -4.0,
            -2.0,
            0.0,
            2.0,
            4.0,
            6.0,
            8.0,
            10.0,
            12.0,
            14.0,
            16.0,
            18.0,
            20.0,
            22.0,
            24.0,
            26.0,
            28.0,
            30.0,
            32.0,
            34.0,
            -34.0,
            -32.0,
            -30.0,
            -28.0,
            -26.0,
            -24.0,
            -22.0,
            -20.0,
            -18.0,
            -16.0,
            -14.0,
            -12.0,
            -10.0,
            -8.0,
            -6.0,
            -4.0,
            -2.0,
            2.0,
            4.0,
            6.0,
            8.0,
            10.0,
            12.0,
            14.0,
            16.0,
            18.0,
            20.0,
            22.0,
            24.0,
            26.0,
            28.0,
            30.0,
            32.0,
            34.0,
            -34.0,
            -32.0,
            -30.0,
            -28.0,
            -26.0,
            -24.0,
            -22.0,
            -20.0,
            -18.0,
            -16.0,
            -14.0,
            -12.0,
            -10.0,
            -8.0,
            -6.0,
            -4.0,
            -2.0
           ]
          },
          {
           "label": "test_speed",
           "values": [
            10,
            10,
            10,
            10,
            10,
            10,
            10,
            10,
            10,
            10,
            10,
            10,
            10,
            10,
            10,
            10,
            10,
            10,
            10,
            10,
            10,
            10,
            10,
            10,
            10,
            10,
            10,
            10,
            10,
            10,
            10,
            10,
            10,
            10,
            10,
            10,
            10,
            10,
            10,
            10,
            10,
            10,
            10,
            10,
            10,
            10,
            10,
            10,
            10,
            10,
            10,
            10,
            10,
            10,
            10,
            10,
            10,
            10,
            10,
            10,
            10,
            10,
            10,
            10,
            10,
            10,
            10,
            10,
            10,
            10,
            10,
            10,
            10,
            10,
            10,
            10,
            10,
            10,
            10,
            10,
            10,
            10,
            10,
            10,
            10,
            10,
            10,
            10,
            10,
            10,
            10,
            10,
            10,
            10,
            10,
            10,
            10,
            10,
            10,
            10,
            10,
            10,
            10,
            10,
            10,
            10,
            10,
            10,
            10,
            10,
            10,
            10,
            10,
            10,
            10,
            10,
            10,
            10,
            10,
            10,
            10,
            10,
            10,
            10,
            10,
            10,
            10,
            10,
            10,
            10,
            10,
            10,
            10,
            10,
            10,
            10,
            10,
            10,
            10,
            10,
            10,
            10,
            10,
            10,
            10,
            10,
            10,
            10,
            10,
            10,
            10,
            10,
            10,
            10,
            10,
            10,
            10,
            10,
            10,
            10,
            10,
            10,
            10,
            10,
            10,
            10,
            10,
            10,
            10,
            10,
            10,
            10,
            10,
            10,
            10,
            10,
            10,
            10,
            10,
            10,
            10,
            10,
            10,
            10,
            10,
            10,
            10,
            10,
            10,
            10,
            10,
            10,
            10,
            10,
            10,
            10,
            10,
            10,
            10,
            10,
            10,
            10,
            10,
            10,
            10,
            10,
            10,
            10,
            10,
            10,
            10,
            10,
            10,
            10,
            10,
            10,
            10,
            10,
            10,
            10,
            10,
            10,
            5,
            5,
            5,
            5,
            5,
            5,
            5,
            5,
            5,
            5,
            5,
            5,
            5,
            5,
            5,
            5,
            5,
            5,
            5,
            5,
            5,
            5,
            5,
            5,
            5,
            5,
            5,
            5,
            5,
            5,
            5,
            5,
            5,
            5,
            5,
            5,
            5,
            5,
            5,
            5,
            5,
            5,
            5,
            5,
            5,
            5,
            5,
            5,
            5,
            5,
            5
           ]
          },
          {
           "label": "Rp",
           "values": [
            433.6013518879231,
            406.27754850440806,
            427.77739699611016,
            438.51552138967554,
            434.9464084030676,
            437.15713108158,
            437.932691134926,
            427.7311163754771,
            419.7042768660974,
            419.2788977262828,
            390.6027398506617,
            396.62536036948563,
            386.24058119969686,
            405.3247626363559,
            362.07355839231946,
            393.1378293922364,
            335.2382898148371,
            355.4654168827333,
            378.8427942981209,
            400.2678519424137,
            443.8481266579381,
            389.78088659908644,
            412.075775823899,
            403.30413500059785,
            446.96034728738005,
            422.15837459773206,
            431.3321136197078,
            422.5224104451006,
            274.2819189704496,
            434.4837186945176,
            420.87455706586434,
            438.3236637829625,
            433.56075249988226,
            67.0800843162151,
            425.17039062261574,
            438.2596404962169,
            432.5669605238777,
            423.595329608846,
            426.6802422190069,
            415.39631669289747,
            434.30197661221905,
            428.1104694600622,
            397.33320949855465,
            380.6228237954185,
            395.3155760645236,
            395.7345051815312,
            408.6959890006376,
            378.48117667792917,
            367.1835680086781,
            394.41286553058103,
            347.4602292262987,
            355.6736244364704,
            389.5124405947731,
            375.82978404833307,
            411.36732821295277,
            409.7945091855736,
            415.37138616299353,
            433.3281254367246,
            427.6405632308208,
            429.5698457597646,
            434.7100224043445,
            426.08080465873127,
            415.98522317208995,
            415.98522317208995,
            415.98522317208995,
            415.98522317208995,
            415.98522317208995,
            415.98522317208995,
            8.4178911265451,
            346.2514728409294,
            316.0124805452763,
            337.8936907482016,
            397.1960042688063,
            400.68457892017636,
            118.90031240784015,
            219.93251875045485,
            131.25625101904848,
            105.73475767611944,
            244.49287782090573,
            208.74635404725132,
            331.881324960254,
            357.69942249197425,
            247.40353604001507,
            113.74830724112076,
            203.13713752113063,
            365.9650846063896,
            372.126575204481,
            389.33042323234235,
            378.4518589889649,
            312.74171897606857,
            370.767535390165,
            356.5559244642975,
            380.41811792230124,
            365.6175384769033,
            391.97850063724627,
            397.5623025141613,
            237.26304016010295,
            409.45324844535935,
            52.72034850356408,
            52.72034850356408,
            52.72034850356408,
            52.72034850356408,
            52.72034850356408,
            637.2470510216845,
            380.4481153858287,
            144.17079739112773,
            260.638737590393,
            262.33865050688746,
            296.61898772722384,
            484.91957267395924,
            80.56398478099572,
            113.38178118657925,
            143.29271162946793,
            48.682120155945086,
            227.0491164807163,
            416.17896146020666,
            360.9041133125147,
            427.730627199172,
            40.57323686998507,
            135.970618125604,
            375.592722703778,
            417.6560506062226,
            484.6873082502998,
            379.16879442906134,
            287.36384088740056,
            325.72860588131834,
            190.73442567268899,
            700.5450871238322,
            413.2298468826407,
            122.17208256643721,
            896.4180946730689,
            537.910448368011,
            185.92138740572136,
            576.8137682126485,
            997.8952738123694,
            535.4254250813942,
            780.0314536637702,
            978.8117569276419,
            790.8441771991361,
            738.927991002457,
            821.628488336004,
            741.4908040002515,
            781.4852378349206,
            547.83696282909,
            401.2981512876777,
            519.1450359829835,
            698.1467021818185,
            314.9711758760443,
            760.162389093532,
            800.0879774189366,
            885.7202404185477,
            761.2268377935752,
            null,
            null,
            null,
            null,
            null,
            null,
            null,
            null,
            null,
            null,
            null,
            null,
            null,
            null,
            null,
            null,
            null,
            null,
            null,
            null,
            null,
            null,
            null,
            null,
            null,
            null,
            null,
            null,
            null,
            null,
            null,
            null,
            null,
            null,
            null,
            null,
            null,
            null,
            null,
            null,
            null,
            null,
            null,
            null,
            null,
            null,
            null,
            null,
            null,
            null,
            null,
            null,
            null,
            null,
            null,
            null,
            null,
            null,
            null,
            null,
            null,
            null,
            null,
            null,
            null,
            null,
            null,
            null,
            null,
            null,
            null,
            null,
            null,
            null,
            null,
            null,
            null,
            null,
            null,
            null,
            null,
            null,
            null,
            null,
            null,
            null,
            null,
            null,
            null,
            null,
            null,
            null,
            null,
            null,
            null,
            null,
            null,
            null,
            null,
            null,
            null,
            null,
            null,
            null,
            null,
            null,
            null,
            null,
            null,
            null,
            null,
            null,
            null,
            null,
            null,
            null,
            null,
            null,
            null,
            null,
            null
           ]
          }
         ],
         "domain": {
          "x": [
           0.0,
           1.0
          ],
          "y": [
           0.0,
           1.0
          ]
         },
         "line": {
          "color": [
           433.6013518879231,
           406.27754850440806,
           427.77739699611016,
           438.51552138967554,
           434.9464084030676,
           437.15713108158,
           437.932691134926,
           427.7311163754771,
           419.7042768660974,
           419.2788977262828,
           390.6027398506617,
           396.62536036948563,
           386.24058119969686,
           405.3247626363559,
           362.07355839231946,
           393.1378293922364,
           335.2382898148371,
           355.4654168827333,
           378.8427942981209,
           400.2678519424137,
           443.8481266579381,
           389.78088659908644,
           412.075775823899,
           403.30413500059785,
           446.96034728738005,
           422.15837459773206,
           431.3321136197078,
           422.5224104451006,
           274.2819189704496,
           434.4837186945176,
           420.87455706586434,
           438.3236637829625,
           433.56075249988226,
           67.0800843162151,
           425.17039062261574,
           438.2596404962169,
           432.5669605238777,
           423.595329608846,
           426.6802422190069,
           415.39631669289747,
           434.30197661221905,
           428.1104694600622,
           397.33320949855465,
           380.6228237954185,
           395.3155760645236,
           395.7345051815312,
           408.6959890006376,
           378.48117667792917,
           367.1835680086781,
           394.41286553058103,
           347.4602292262987,
           355.6736244364704,
           389.5124405947731,
           375.82978404833307,
           411.36732821295277,
           409.7945091855736,
           415.37138616299353,
           433.3281254367246,
           427.6405632308208,
           429.5698457597646,
           434.7100224043445,
           426.08080465873127,
           415.98522317208995,
           415.98522317208995,
           415.98522317208995,
           415.98522317208995,
           415.98522317208995,
           415.98522317208995,
           8.4178911265451,
           346.2514728409294,
           316.0124805452763,
           337.8936907482016,
           397.1960042688063,
           400.68457892017636,
           118.90031240784015,
           219.93251875045485,
           131.25625101904848,
           105.73475767611944,
           244.49287782090573,
           208.74635404725132,
           331.881324960254,
           357.69942249197425,
           247.40353604001507,
           113.74830724112076,
           203.13713752113063,
           365.9650846063896,
           372.126575204481,
           389.33042323234235,
           378.4518589889649,
           312.74171897606857,
           370.767535390165,
           356.5559244642975,
           380.41811792230124,
           365.6175384769033,
           391.97850063724627,
           397.5623025141613,
           237.26304016010295,
           409.45324844535935,
           52.72034850356408,
           52.72034850356408,
           52.72034850356408,
           52.72034850356408,
           52.72034850356408,
           637.2470510216845,
           380.4481153858287,
           144.17079739112773,
           260.638737590393,
           262.33865050688746,
           296.61898772722384,
           484.91957267395924,
           80.56398478099572,
           113.38178118657925,
           143.29271162946793,
           48.682120155945086,
           227.0491164807163,
           416.17896146020666,
           360.9041133125147,
           427.730627199172,
           40.57323686998507,
           135.970618125604,
           375.592722703778,
           417.6560506062226,
           484.6873082502998,
           379.16879442906134,
           287.36384088740056,
           325.72860588131834,
           190.73442567268899,
           700.5450871238322,
           413.2298468826407,
           122.17208256643721,
           896.4180946730689,
           537.910448368011,
           185.92138740572136,
           576.8137682126485,
           997.8952738123694,
           535.4254250813942,
           780.0314536637702,
           978.8117569276419,
           790.8441771991361,
           738.927991002457,
           821.628488336004,
           741.4908040002515,
           781.4852378349206,
           547.83696282909,
           401.2981512876777,
           519.1450359829835,
           698.1467021818185,
           314.9711758760443,
           760.162389093532,
           800.0879774189366,
           885.7202404185477,
           761.2268377935752,
           null,
           null,
           null,
           null,
           null,
           null,
           null,
           null,
           null,
           null,
           null,
           null,
           null,
           null,
           null,
           null,
           null,
           null,
           null,
           null,
           null,
           null,
           null,
           null,
           null,
           null,
           null,
           null,
           null,
           null,
           null,
           null,
           null,
           null,
           null,
           null,
           null,
           null,
           null,
           null,
           null,
           null,
           null,
           null,
           null,
           null,
           null,
           null,
           null,
           null,
           null,
           null,
           null,
           null,
           null,
           null,
           null,
           null,
           null,
           null,
           null,
           null,
           null,
           null,
           null,
           null,
           null,
           null,
           null,
           null,
           null,
           null,
           null,
           null,
           null,
           null,
           null,
           null,
           null,
           null,
           null,
           null,
           null,
           null,
           null,
           null,
           null,
           null,
           null,
           null,
           null,
           null,
           null,
           null,
           null,
           null,
           null,
           null,
           null,
           null,
           null,
           null,
           null,
           null,
           null,
           null,
           null,
           null,
           null,
           null,
           null,
           null,
           null,
           null,
           null,
           null,
           null,
           null,
           null,
           null,
           null
          ],
          "coloraxis": "coloraxis"
         },
         "name": "",
         "type": "parcoords"
        }
       ],
       "layout": {
        "coloraxis": {
         "cmid": 2,
         "colorbar": {
          "title": {
           "text": "Rp"
          }
         },
         "colorscale": [
          [
           0.0,
           "#2E91E5"
          ],
          [
           0.043478260869565216,
           "#E15F99"
          ],
          [
           0.08695652173913043,
           "#1CA71C"
          ],
          [
           0.13043478260869565,
           "#FB0D0D"
          ],
          [
           0.17391304347826086,
           "#DA16FF"
          ],
          [
           0.21739130434782608,
           "#222A2A"
          ],
          [
           0.2608695652173913,
           "#B68100"
          ],
          [
           0.30434782608695654,
           "#750D86"
          ],
          [
           0.34782608695652173,
           "#EB663B"
          ],
          [
           0.391304347826087,
           "#511CFB"
          ],
          [
           0.43478260869565216,
           "#00A08B"
          ],
          [
           0.4782608695652174,
           "#FB00D1"
          ],
          [
           0.5217391304347826,
           "#FC0080"
          ],
          [
           0.5652173913043478,
           "#B2828D"
          ],
          [
           0.6086956521739131,
           "#6C7C32"
          ],
          [
           0.6521739130434783,
           "#778AAE"
          ],
          [
           0.6956521739130435,
           "#862A16"
          ],
          [
           0.7391304347826086,
           "#A777F1"
          ],
          [
           0.782608695652174,
           "#620042"
          ],
          [
           0.8260869565217391,
           "#1616A7"
          ],
          [
           0.8695652173913043,
           "#DA60CA"
          ],
          [
           0.9130434782608695,
           "#6C4516"
          ],
          [
           0.9565217391304348,
           "#0D2A63"
          ],
          [
           1.0,
           "#AF0038"
          ]
         ]
        },
        "legend": {
         "tracegroupgap": 0
        },
        "margin": {
         "t": 60
        },
        "template": {
         "data": {
          "bar": [
           {
            "error_x": {
             "color": "#2a3f5f"
            },
            "error_y": {
             "color": "#2a3f5f"
            },
            "marker": {
             "line": {
              "color": "#E5ECF6",
              "width": 0.5
             },
             "pattern": {
              "fillmode": "overlay",
              "size": 10,
              "solidity": 0.2
             }
            },
            "type": "bar"
           }
          ],
          "barpolar": [
           {
            "marker": {
             "line": {
              "color": "#E5ECF6",
              "width": 0.5
             },
             "pattern": {
              "fillmode": "overlay",
              "size": 10,
              "solidity": 0.2
             }
            },
            "type": "barpolar"
           }
          ],
          "carpet": [
           {
            "aaxis": {
             "endlinecolor": "#2a3f5f",
             "gridcolor": "white",
             "linecolor": "white",
             "minorgridcolor": "white",
             "startlinecolor": "#2a3f5f"
            },
            "baxis": {
             "endlinecolor": "#2a3f5f",
             "gridcolor": "white",
             "linecolor": "white",
             "minorgridcolor": "white",
             "startlinecolor": "#2a3f5f"
            },
            "type": "carpet"
           }
          ],
          "choropleth": [
           {
            "colorbar": {
             "outlinewidth": 0,
             "ticks": ""
            },
            "type": "choropleth"
           }
          ],
          "contour": [
           {
            "colorbar": {
             "outlinewidth": 0,
             "ticks": ""
            },
            "colorscale": [
             [
              0.0,
              "#0d0887"
             ],
             [
              0.1111111111111111,
              "#46039f"
             ],
             [
              0.2222222222222222,
              "#7201a8"
             ],
             [
              0.3333333333333333,
              "#9c179e"
             ],
             [
              0.4444444444444444,
              "#bd3786"
             ],
             [
              0.5555555555555556,
              "#d8576b"
             ],
             [
              0.6666666666666666,
              "#ed7953"
             ],
             [
              0.7777777777777778,
              "#fb9f3a"
             ],
             [
              0.8888888888888888,
              "#fdca26"
             ],
             [
              1.0,
              "#f0f921"
             ]
            ],
            "type": "contour"
           }
          ],
          "contourcarpet": [
           {
            "colorbar": {
             "outlinewidth": 0,
             "ticks": ""
            },
            "type": "contourcarpet"
           }
          ],
          "heatmap": [
           {
            "colorbar": {
             "outlinewidth": 0,
             "ticks": ""
            },
            "colorscale": [
             [
              0.0,
              "#0d0887"
             ],
             [
              0.1111111111111111,
              "#46039f"
             ],
             [
              0.2222222222222222,
              "#7201a8"
             ],
             [
              0.3333333333333333,
              "#9c179e"
             ],
             [
              0.4444444444444444,
              "#bd3786"
             ],
             [
              0.5555555555555556,
              "#d8576b"
             ],
             [
              0.6666666666666666,
              "#ed7953"
             ],
             [
              0.7777777777777778,
              "#fb9f3a"
             ],
             [
              0.8888888888888888,
              "#fdca26"
             ],
             [
              1.0,
              "#f0f921"
             ]
            ],
            "type": "heatmap"
           }
          ],
          "heatmapgl": [
           {
            "colorbar": {
             "outlinewidth": 0,
             "ticks": ""
            },
            "colorscale": [
             [
              0.0,
              "#0d0887"
             ],
             [
              0.1111111111111111,
              "#46039f"
             ],
             [
              0.2222222222222222,
              "#7201a8"
             ],
             [
              0.3333333333333333,
              "#9c179e"
             ],
             [
              0.4444444444444444,
              "#bd3786"
             ],
             [
              0.5555555555555556,
              "#d8576b"
             ],
             [
              0.6666666666666666,
              "#ed7953"
             ],
             [
              0.7777777777777778,
              "#fb9f3a"
             ],
             [
              0.8888888888888888,
              "#fdca26"
             ],
             [
              1.0,
              "#f0f921"
             ]
            ],
            "type": "heatmapgl"
           }
          ],
          "histogram": [
           {
            "marker": {
             "pattern": {
              "fillmode": "overlay",
              "size": 10,
              "solidity": 0.2
             }
            },
            "type": "histogram"
           }
          ],
          "histogram2d": [
           {
            "colorbar": {
             "outlinewidth": 0,
             "ticks": ""
            },
            "colorscale": [
             [
              0.0,
              "#0d0887"
             ],
             [
              0.1111111111111111,
              "#46039f"
             ],
             [
              0.2222222222222222,
              "#7201a8"
             ],
             [
              0.3333333333333333,
              "#9c179e"
             ],
             [
              0.4444444444444444,
              "#bd3786"
             ],
             [
              0.5555555555555556,
              "#d8576b"
             ],
             [
              0.6666666666666666,
              "#ed7953"
             ],
             [
              0.7777777777777778,
              "#fb9f3a"
             ],
             [
              0.8888888888888888,
              "#fdca26"
             ],
             [
              1.0,
              "#f0f921"
             ]
            ],
            "type": "histogram2d"
           }
          ],
          "histogram2dcontour": [
           {
            "colorbar": {
             "outlinewidth": 0,
             "ticks": ""
            },
            "colorscale": [
             [
              0.0,
              "#0d0887"
             ],
             [
              0.1111111111111111,
              "#46039f"
             ],
             [
              0.2222222222222222,
              "#7201a8"
             ],
             [
              0.3333333333333333,
              "#9c179e"
             ],
             [
              0.4444444444444444,
              "#bd3786"
             ],
             [
              0.5555555555555556,
              "#d8576b"
             ],
             [
              0.6666666666666666,
              "#ed7953"
             ],
             [
              0.7777777777777778,
              "#fb9f3a"
             ],
             [
              0.8888888888888888,
              "#fdca26"
             ],
             [
              1.0,
              "#f0f921"
             ]
            ],
            "type": "histogram2dcontour"
           }
          ],
          "mesh3d": [
           {
            "colorbar": {
             "outlinewidth": 0,
             "ticks": ""
            },
            "type": "mesh3d"
           }
          ],
          "parcoords": [
           {
            "line": {
             "colorbar": {
              "outlinewidth": 0,
              "ticks": ""
             }
            },
            "type": "parcoords"
           }
          ],
          "pie": [
           {
            "automargin": true,
            "type": "pie"
           }
          ],
          "scatter": [
           {
            "marker": {
             "colorbar": {
              "outlinewidth": 0,
              "ticks": ""
             }
            },
            "type": "scatter"
           }
          ],
          "scatter3d": [
           {
            "line": {
             "colorbar": {
              "outlinewidth": 0,
              "ticks": ""
             }
            },
            "marker": {
             "colorbar": {
              "outlinewidth": 0,
              "ticks": ""
             }
            },
            "type": "scatter3d"
           }
          ],
          "scattercarpet": [
           {
            "marker": {
             "colorbar": {
              "outlinewidth": 0,
              "ticks": ""
             }
            },
            "type": "scattercarpet"
           }
          ],
          "scattergeo": [
           {
            "marker": {
             "colorbar": {
              "outlinewidth": 0,
              "ticks": ""
             }
            },
            "type": "scattergeo"
           }
          ],
          "scattergl": [
           {
            "marker": {
             "colorbar": {
              "outlinewidth": 0,
              "ticks": ""
             }
            },
            "type": "scattergl"
           }
          ],
          "scattermapbox": [
           {
            "marker": {
             "colorbar": {
              "outlinewidth": 0,
              "ticks": ""
             }
            },
            "type": "scattermapbox"
           }
          ],
          "scatterpolar": [
           {
            "marker": {
             "colorbar": {
              "outlinewidth": 0,
              "ticks": ""
             }
            },
            "type": "scatterpolar"
           }
          ],
          "scatterpolargl": [
           {
            "marker": {
             "colorbar": {
              "outlinewidth": 0,
              "ticks": ""
             }
            },
            "type": "scatterpolargl"
           }
          ],
          "scatterternary": [
           {
            "marker": {
             "colorbar": {
              "outlinewidth": 0,
              "ticks": ""
             }
            },
            "type": "scatterternary"
           }
          ],
          "surface": [
           {
            "colorbar": {
             "outlinewidth": 0,
             "ticks": ""
            },
            "colorscale": [
             [
              0.0,
              "#0d0887"
             ],
             [
              0.1111111111111111,
              "#46039f"
             ],
             [
              0.2222222222222222,
              "#7201a8"
             ],
             [
              0.3333333333333333,
              "#9c179e"
             ],
             [
              0.4444444444444444,
              "#bd3786"
             ],
             [
              0.5555555555555556,
              "#d8576b"
             ],
             [
              0.6666666666666666,
              "#ed7953"
             ],
             [
              0.7777777777777778,
              "#fb9f3a"
             ],
             [
              0.8888888888888888,
              "#fdca26"
             ],
             [
              1.0,
              "#f0f921"
             ]
            ],
            "type": "surface"
           }
          ],
          "table": [
           {
            "cells": {
             "fill": {
              "color": "#EBF0F8"
             },
             "line": {
              "color": "white"
             }
            },
            "header": {
             "fill": {
              "color": "#C8D4E3"
             },
             "line": {
              "color": "white"
             }
            },
            "type": "table"
           }
          ]
         },
         "layout": {
          "annotationdefaults": {
           "arrowcolor": "#2a3f5f",
           "arrowhead": 0,
           "arrowwidth": 1
          },
          "autotypenumbers": "strict",
          "coloraxis": {
           "colorbar": {
            "outlinewidth": 0,
            "ticks": ""
           }
          },
          "colorscale": {
           "diverging": [
            [
             0,
             "#8e0152"
            ],
            [
             0.1,
             "#c51b7d"
            ],
            [
             0.2,
             "#de77ae"
            ],
            [
             0.3,
             "#f1b6da"
            ],
            [
             0.4,
             "#fde0ef"
            ],
            [
             0.5,
             "#f7f7f7"
            ],
            [
             0.6,
             "#e6f5d0"
            ],
            [
             0.7,
             "#b8e186"
            ],
            [
             0.8,
             "#7fbc41"
            ],
            [
             0.9,
             "#4d9221"
            ],
            [
             1,
             "#276419"
            ]
           ],
           "sequential": [
            [
             0.0,
             "#0d0887"
            ],
            [
             0.1111111111111111,
             "#46039f"
            ],
            [
             0.2222222222222222,
             "#7201a8"
            ],
            [
             0.3333333333333333,
             "#9c179e"
            ],
            [
             0.4444444444444444,
             "#bd3786"
            ],
            [
             0.5555555555555556,
             "#d8576b"
            ],
            [
             0.6666666666666666,
             "#ed7953"
            ],
            [
             0.7777777777777778,
             "#fb9f3a"
            ],
            [
             0.8888888888888888,
             "#fdca26"
            ],
            [
             1.0,
             "#f0f921"
            ]
           ],
           "sequentialminus": [
            [
             0.0,
             "#0d0887"
            ],
            [
             0.1111111111111111,
             "#46039f"
            ],
            [
             0.2222222222222222,
             "#7201a8"
            ],
            [
             0.3333333333333333,
             "#9c179e"
            ],
            [
             0.4444444444444444,
             "#bd3786"
            ],
            [
             0.5555555555555556,
             "#d8576b"
            ],
            [
             0.6666666666666666,
             "#ed7953"
            ],
            [
             0.7777777777777778,
             "#fb9f3a"
            ],
            [
             0.8888888888888888,
             "#fdca26"
            ],
            [
             1.0,
             "#f0f921"
            ]
           ]
          },
          "colorway": [
           "#636efa",
           "#EF553B",
           "#00cc96",
           "#ab63fa",
           "#FFA15A",
           "#19d3f3",
           "#FF6692",
           "#B6E880",
           "#FF97FF",
           "#FECB52"
          ],
          "font": {
           "color": "#2a3f5f"
          },
          "geo": {
           "bgcolor": "white",
           "lakecolor": "white",
           "landcolor": "#E5ECF6",
           "showlakes": true,
           "showland": true,
           "subunitcolor": "white"
          },
          "hoverlabel": {
           "align": "left"
          },
          "hovermode": "closest",
          "mapbox": {
           "style": "light"
          },
          "paper_bgcolor": "white",
          "plot_bgcolor": "#E5ECF6",
          "polar": {
           "angularaxis": {
            "gridcolor": "white",
            "linecolor": "white",
            "ticks": ""
           },
           "bgcolor": "#E5ECF6",
           "radialaxis": {
            "gridcolor": "white",
            "linecolor": "white",
            "ticks": ""
           }
          },
          "scene": {
           "xaxis": {
            "backgroundcolor": "#E5ECF6",
            "gridcolor": "white",
            "gridwidth": 2,
            "linecolor": "white",
            "showbackground": true,
            "ticks": "",
            "zerolinecolor": "white"
           },
           "yaxis": {
            "backgroundcolor": "#E5ECF6",
            "gridcolor": "white",
            "gridwidth": 2,
            "linecolor": "white",
            "showbackground": true,
            "ticks": "",
            "zerolinecolor": "white"
           },
           "zaxis": {
            "backgroundcolor": "#E5ECF6",
            "gridcolor": "white",
            "gridwidth": 2,
            "linecolor": "white",
            "showbackground": true,
            "ticks": "",
            "zerolinecolor": "white"
           }
          },
          "shapedefaults": {
           "line": {
            "color": "#2a3f5f"
           }
          },
          "ternary": {
           "aaxis": {
            "gridcolor": "white",
            "linecolor": "white",
            "ticks": ""
           },
           "baxis": {
            "gridcolor": "white",
            "linecolor": "white",
            "ticks": ""
           },
           "bgcolor": "#E5ECF6",
           "caxis": {
            "gridcolor": "white",
            "linecolor": "white",
            "ticks": ""
           }
          },
          "title": {
           "x": 0.05
          },
          "xaxis": {
           "automargin": true,
           "gridcolor": "white",
           "linecolor": "white",
           "ticks": "",
           "title": {
            "standoff": 15
           },
           "zerolinecolor": "white",
           "zerolinewidth": 2
          },
          "yaxis": {
           "automargin": true,
           "gridcolor": "white",
           "linecolor": "white",
           "ticks": "",
           "title": {
            "standoff": 15
           },
           "zerolinecolor": "white",
           "zerolinewidth": 2
          }
         }
        }
       }
      },
      "text/html": "<div>                            <div id=\"31df8701-7803-470e-a1cd-7c0bc1725030\" class=\"plotly-graph-div\" style=\"height:525px; width:100%;\"></div>            <script type=\"text/javascript\">                require([\"plotly\"], function(Plotly) {                    window.PLOTLYENV=window.PLOTLYENV || {};                                    if (document.getElementById(\"31df8701-7803-470e-a1cd-7c0bc1725030\")) {                    Plotly.newPlot(                        \"31df8701-7803-470e-a1cd-7c0bc1725030\",                        [{\"dimensions\":[{\"label\":\"plate_thickness\",\"values\":[6,6,6,6,6,6,6,6,6,6,6,6,6,6,6,6,6,6,6,6,6,6,6,6,6,6,6,6,6,6,6,6,6,6,6,6,6,6,6,6,6,6,6,6,6,6,6,6,6,6,6,6,6,6,6,6,6,6,6,6,6,6,6,6,6,6,6,6,6,6,6,6,6,6,6,6,6,6,6,6,6,6,6,6,6,6,6,6,6,6,6,6,6,6,6,6,6,6,6,6,6,6,6,6,6,6,6,6,6,6,6,6,6,6,6,6,6,6,6,6,6,6,6,6,6,6,6,6,6,6,6,6,6,6,6,6,6,6,6,6,6,6,6,6,6,6,6,6,6,6,6,6,6,6,6,6,6,6,6,6,6,6,6,6,6,6,6,6,6,6,6,6,6,6,6,6,6,6,6,6,6,6,6,6,6,6,6,6,6,6,6,6,6,6,6,6,6,6,6,6,6,6,6,6,6,6,6,6,6,6,6,6,6,6,6,6,6,6,6,6,6,6,6,6,6,6,6,6,6,6,6,6,6,6,6,6,6,6,6,6,6,6,6,6,6,6,6,6,6,6,6,6,6,6,6,6,6,6,6,6,6,6,6,6,6,6,6,6,6,6,6,6,6]},{\"label\":\"position\",\"values\":[-34.0,-32.0,-30.0,-28.0,-26.0,-24.0,-22.0,-20.0,-18.0,-16.0,-14.0,-12.0,-10.0,-8.0,-6.0,-4.0,-2.0,0.0,2.0,4.0,6.0,8.0,10.0,12.0,14.0,16.0,18.0,20.0,22.0,24.0,26.0,28.0,30.0,32.0,-34.0,-32.0,-30.0,-28.0,-26.0,-24.0,-22.0,-20.0,-18.0,-16.0,-14.0,-12.0,-10.0,-8.0,-6.0,-4.0,-2.0,0.0,2.0,4.0,6.0,8.0,10.0,12.0,14.0,16.0,18.0,20.0,22.0,24.0,26.0,28.0,30.0,32.0,34.0,-26.0,-24.0,-22.0,-14.0,-12.0,-10.0,-8.0,-6.0,-4.0,-2.0,0.0,2.0,4.0,6.0,8.0,10.0,12.0,14.0,16.0,18.0,28.0,32.0,-34.0,-32.0,-30.0,-28.0,-26.0,-24.0,-22.0,-20.0,-18.0,-16.0,-14.0,-12.0,-10.0,-8.0,-6.0,-4.0,-2.0,0.0,2.0,4.0,6.0,8.0,10.0,12.0,14.0,16.0,18.0,20.0,22.0,24.0,26.0,28.0,30.0,32.0,34.0,-30.0,-16.0,-14.0,-12.0,-10.0,-8.0,-6.0,-4.0,-2.0,0.0,2.0,4.0,6.0,8.0,10.0,12.0,14.0,16.0,18.0,20.0,24.0,26.0,28.0,30.0,32.0,34.0,-34.0,-32.0,-30.0,-28.0,-26.0,-24.0,-22.0,-20.0,-18.0,-16.0,-14.0,-12.0,-10.0,-8.0,-6.0,-4.0,-2.0,0.0,2.0,4.0,6.0,8.0,10.0,12.0,14.0,16.0,18.0,20.0,22.0,24.0,26.0,28.0,30.0,32.0,34.0,-34.0,-32.0,-30.0,-28.0,-26.0,-24.0,-22.0,-20.0,-18.0,-16.0,-14.0,-12.0,-10.0,-8.0,-6.0,-4.0,-2.0,0.0,2.0,4.0,6.0,8.0,10.0,12.0,14.0,16.0,18.0,20.0,22.0,24.0,26.0,28.0,30.0,32.0,34.0,-34.0,-32.0,-30.0,-28.0,-26.0,-24.0,-22.0,-20.0,-18.0,-16.0,-14.0,-12.0,-10.0,-8.0,-6.0,-4.0,-2.0,2.0,4.0,6.0,8.0,10.0,12.0,14.0,16.0,18.0,20.0,22.0,24.0,26.0,28.0,30.0,32.0,34.0,-34.0,-32.0,-30.0,-28.0,-26.0,-24.0,-22.0,-20.0,-18.0,-16.0,-14.0,-12.0,-10.0,-8.0,-6.0,-4.0,-2.0]},{\"label\":\"test_speed\",\"values\":[10,10,10,10,10,10,10,10,10,10,10,10,10,10,10,10,10,10,10,10,10,10,10,10,10,10,10,10,10,10,10,10,10,10,10,10,10,10,10,10,10,10,10,10,10,10,10,10,10,10,10,10,10,10,10,10,10,10,10,10,10,10,10,10,10,10,10,10,10,10,10,10,10,10,10,10,10,10,10,10,10,10,10,10,10,10,10,10,10,10,10,10,10,10,10,10,10,10,10,10,10,10,10,10,10,10,10,10,10,10,10,10,10,10,10,10,10,10,10,10,10,10,10,10,10,10,10,10,10,10,10,10,10,10,10,10,10,10,10,10,10,10,10,10,10,10,10,10,10,10,10,10,10,10,10,10,10,10,10,10,10,10,10,10,10,10,10,10,10,10,10,10,10,10,10,10,10,10,10,10,10,10,10,10,10,10,10,10,10,10,10,10,10,10,10,10,10,10,10,10,10,10,10,10,10,10,10,10,10,10,10,10,10,10,10,10,10,10,10,10,10,10,5,5,5,5,5,5,5,5,5,5,5,5,5,5,5,5,5,5,5,5,5,5,5,5,5,5,5,5,5,5,5,5,5,5,5,5,5,5,5,5,5,5,5,5,5,5,5,5,5,5,5]},{\"label\":\"Rp\",\"values\":[433.6013518879231,406.27754850440806,427.77739699611016,438.51552138967554,434.9464084030676,437.15713108158,437.932691134926,427.7311163754771,419.7042768660974,419.2788977262828,390.6027398506617,396.62536036948563,386.24058119969686,405.3247626363559,362.07355839231946,393.1378293922364,335.2382898148371,355.4654168827333,378.8427942981209,400.2678519424137,443.8481266579381,389.78088659908644,412.075775823899,403.30413500059785,446.96034728738005,422.15837459773206,431.3321136197078,422.5224104451006,274.2819189704496,434.4837186945176,420.87455706586434,438.3236637829625,433.56075249988226,67.0800843162151,425.17039062261574,438.2596404962169,432.5669605238777,423.595329608846,426.6802422190069,415.39631669289747,434.30197661221905,428.1104694600622,397.33320949855465,380.6228237954185,395.3155760645236,395.7345051815312,408.6959890006376,378.48117667792917,367.1835680086781,394.41286553058103,347.4602292262987,355.6736244364704,389.5124405947731,375.82978404833307,411.36732821295277,409.7945091855736,415.37138616299353,433.3281254367246,427.6405632308208,429.5698457597646,434.7100224043445,426.08080465873127,415.98522317208995,415.98522317208995,415.98522317208995,415.98522317208995,415.98522317208995,415.98522317208995,8.4178911265451,346.2514728409294,316.0124805452763,337.8936907482016,397.1960042688063,400.68457892017636,118.90031240784015,219.93251875045485,131.25625101904848,105.73475767611944,244.49287782090573,208.74635404725132,331.881324960254,357.69942249197425,247.40353604001507,113.74830724112076,203.13713752113063,365.9650846063896,372.126575204481,389.33042323234235,378.4518589889649,312.74171897606857,370.767535390165,356.5559244642975,380.41811792230124,365.6175384769033,391.97850063724627,397.5623025141613,237.26304016010295,409.45324844535935,52.72034850356408,52.72034850356408,52.72034850356408,52.72034850356408,52.72034850356408,637.2470510216845,380.4481153858287,144.17079739112773,260.638737590393,262.33865050688746,296.61898772722384,484.91957267395924,80.56398478099572,113.38178118657925,143.29271162946793,48.682120155945086,227.0491164807163,416.17896146020666,360.9041133125147,427.730627199172,40.57323686998507,135.970618125604,375.592722703778,417.6560506062226,484.6873082502998,379.16879442906134,287.36384088740056,325.72860588131834,190.73442567268899,700.5450871238322,413.2298468826407,122.17208256643721,896.4180946730689,537.910448368011,185.92138740572136,576.8137682126485,997.8952738123694,535.4254250813942,780.0314536637702,978.8117569276419,790.8441771991361,738.927991002457,821.628488336004,741.4908040002515,781.4852378349206,547.83696282909,401.2981512876777,519.1450359829835,698.1467021818185,314.9711758760443,760.162389093532,800.0879774189366,885.7202404185477,761.2268377935752,null,null,null,null,null,null,null,null,null,null,null,null,null,null,null,null,null,null,null,null,null,null,null,null,null,null,null,null,null,null,null,null,null,null,null,null,null,null,null,null,null,null,null,null,null,null,null,null,null,null,null,null,null,null,null,null,null,null,null,null,null,null,null,null,null,null,null,null,null,null,null,null,null,null,null,null,null,null,null,null,null,null,null,null,null,null,null,null,null,null,null,null,null,null,null,null,null,null,null,null,null,null,null,null,null,null,null,null,null,null,null,null,null,null,null,null,null,null,null,null,null]}],\"domain\":{\"x\":[0.0,1.0],\"y\":[0.0,1.0]},\"line\":{\"color\":[433.6013518879231,406.27754850440806,427.77739699611016,438.51552138967554,434.9464084030676,437.15713108158,437.932691134926,427.7311163754771,419.7042768660974,419.2788977262828,390.6027398506617,396.62536036948563,386.24058119969686,405.3247626363559,362.07355839231946,393.1378293922364,335.2382898148371,355.4654168827333,378.8427942981209,400.2678519424137,443.8481266579381,389.78088659908644,412.075775823899,403.30413500059785,446.96034728738005,422.15837459773206,431.3321136197078,422.5224104451006,274.2819189704496,434.4837186945176,420.87455706586434,438.3236637829625,433.56075249988226,67.0800843162151,425.17039062261574,438.2596404962169,432.5669605238777,423.595329608846,426.6802422190069,415.39631669289747,434.30197661221905,428.1104694600622,397.33320949855465,380.6228237954185,395.3155760645236,395.7345051815312,408.6959890006376,378.48117667792917,367.1835680086781,394.41286553058103,347.4602292262987,355.6736244364704,389.5124405947731,375.82978404833307,411.36732821295277,409.7945091855736,415.37138616299353,433.3281254367246,427.6405632308208,429.5698457597646,434.7100224043445,426.08080465873127,415.98522317208995,415.98522317208995,415.98522317208995,415.98522317208995,415.98522317208995,415.98522317208995,8.4178911265451,346.2514728409294,316.0124805452763,337.8936907482016,397.1960042688063,400.68457892017636,118.90031240784015,219.93251875045485,131.25625101904848,105.73475767611944,244.49287782090573,208.74635404725132,331.881324960254,357.69942249197425,247.40353604001507,113.74830724112076,203.13713752113063,365.9650846063896,372.126575204481,389.33042323234235,378.4518589889649,312.74171897606857,370.767535390165,356.5559244642975,380.41811792230124,365.6175384769033,391.97850063724627,397.5623025141613,237.26304016010295,409.45324844535935,52.72034850356408,52.72034850356408,52.72034850356408,52.72034850356408,52.72034850356408,637.2470510216845,380.4481153858287,144.17079739112773,260.638737590393,262.33865050688746,296.61898772722384,484.91957267395924,80.56398478099572,113.38178118657925,143.29271162946793,48.682120155945086,227.0491164807163,416.17896146020666,360.9041133125147,427.730627199172,40.57323686998507,135.970618125604,375.592722703778,417.6560506062226,484.6873082502998,379.16879442906134,287.36384088740056,325.72860588131834,190.73442567268899,700.5450871238322,413.2298468826407,122.17208256643721,896.4180946730689,537.910448368011,185.92138740572136,576.8137682126485,997.8952738123694,535.4254250813942,780.0314536637702,978.8117569276419,790.8441771991361,738.927991002457,821.628488336004,741.4908040002515,781.4852378349206,547.83696282909,401.2981512876777,519.1450359829835,698.1467021818185,314.9711758760443,760.162389093532,800.0879774189366,885.7202404185477,761.2268377935752,null,null,null,null,null,null,null,null,null,null,null,null,null,null,null,null,null,null,null,null,null,null,null,null,null,null,null,null,null,null,null,null,null,null,null,null,null,null,null,null,null,null,null,null,null,null,null,null,null,null,null,null,null,null,null,null,null,null,null,null,null,null,null,null,null,null,null,null,null,null,null,null,null,null,null,null,null,null,null,null,null,null,null,null,null,null,null,null,null,null,null,null,null,null,null,null,null,null,null,null,null,null,null,null,null,null,null,null,null,null,null,null,null,null,null,null,null,null,null,null,null],\"coloraxis\":\"coloraxis\"},\"name\":\"\",\"type\":\"parcoords\"}],                        {\"coloraxis\":{\"cmid\":2,\"colorbar\":{\"title\":{\"text\":\"Rp\"}},\"colorscale\":[[0.0,\"#2E91E5\"],[0.043478260869565216,\"#E15F99\"],[0.08695652173913043,\"#1CA71C\"],[0.13043478260869565,\"#FB0D0D\"],[0.17391304347826086,\"#DA16FF\"],[0.21739130434782608,\"#222A2A\"],[0.2608695652173913,\"#B68100\"],[0.30434782608695654,\"#750D86\"],[0.34782608695652173,\"#EB663B\"],[0.391304347826087,\"#511CFB\"],[0.43478260869565216,\"#00A08B\"],[0.4782608695652174,\"#FB00D1\"],[0.5217391304347826,\"#FC0080\"],[0.5652173913043478,\"#B2828D\"],[0.6086956521739131,\"#6C7C32\"],[0.6521739130434783,\"#778AAE\"],[0.6956521739130435,\"#862A16\"],[0.7391304347826086,\"#A777F1\"],[0.782608695652174,\"#620042\"],[0.8260869565217391,\"#1616A7\"],[0.8695652173913043,\"#DA60CA\"],[0.9130434782608695,\"#6C4516\"],[0.9565217391304348,\"#0D2A63\"],[1.0,\"#AF0038\"]]},\"legend\":{\"tracegroupgap\":0},\"margin\":{\"t\":60},\"template\":{\"data\":{\"bar\":[{\"error_x\":{\"color\":\"#2a3f5f\"},\"error_y\":{\"color\":\"#2a3f5f\"},\"marker\":{\"line\":{\"color\":\"#E5ECF6\",\"width\":0.5},\"pattern\":{\"fillmode\":\"overlay\",\"size\":10,\"solidity\":0.2}},\"type\":\"bar\"}],\"barpolar\":[{\"marker\":{\"line\":{\"color\":\"#E5ECF6\",\"width\":0.5},\"pattern\":{\"fillmode\":\"overlay\",\"size\":10,\"solidity\":0.2}},\"type\":\"barpolar\"}],\"carpet\":[{\"aaxis\":{\"endlinecolor\":\"#2a3f5f\",\"gridcolor\":\"white\",\"linecolor\":\"white\",\"minorgridcolor\":\"white\",\"startlinecolor\":\"#2a3f5f\"},\"baxis\":{\"endlinecolor\":\"#2a3f5f\",\"gridcolor\":\"white\",\"linecolor\":\"white\",\"minorgridcolor\":\"white\",\"startlinecolor\":\"#2a3f5f\"},\"type\":\"carpet\"}],\"choropleth\":[{\"colorbar\":{\"outlinewidth\":0,\"ticks\":\"\"},\"type\":\"choropleth\"}],\"contour\":[{\"colorbar\":{\"outlinewidth\":0,\"ticks\":\"\"},\"colorscale\":[[0.0,\"#0d0887\"],[0.1111111111111111,\"#46039f\"],[0.2222222222222222,\"#7201a8\"],[0.3333333333333333,\"#9c179e\"],[0.4444444444444444,\"#bd3786\"],[0.5555555555555556,\"#d8576b\"],[0.6666666666666666,\"#ed7953\"],[0.7777777777777778,\"#fb9f3a\"],[0.8888888888888888,\"#fdca26\"],[1.0,\"#f0f921\"]],\"type\":\"contour\"}],\"contourcarpet\":[{\"colorbar\":{\"outlinewidth\":0,\"ticks\":\"\"},\"type\":\"contourcarpet\"}],\"heatmap\":[{\"colorbar\":{\"outlinewidth\":0,\"ticks\":\"\"},\"colorscale\":[[0.0,\"#0d0887\"],[0.1111111111111111,\"#46039f\"],[0.2222222222222222,\"#7201a8\"],[0.3333333333333333,\"#9c179e\"],[0.4444444444444444,\"#bd3786\"],[0.5555555555555556,\"#d8576b\"],[0.6666666666666666,\"#ed7953\"],[0.7777777777777778,\"#fb9f3a\"],[0.8888888888888888,\"#fdca26\"],[1.0,\"#f0f921\"]],\"type\":\"heatmap\"}],\"heatmapgl\":[{\"colorbar\":{\"outlinewidth\":0,\"ticks\":\"\"},\"colorscale\":[[0.0,\"#0d0887\"],[0.1111111111111111,\"#46039f\"],[0.2222222222222222,\"#7201a8\"],[0.3333333333333333,\"#9c179e\"],[0.4444444444444444,\"#bd3786\"],[0.5555555555555556,\"#d8576b\"],[0.6666666666666666,\"#ed7953\"],[0.7777777777777778,\"#fb9f3a\"],[0.8888888888888888,\"#fdca26\"],[1.0,\"#f0f921\"]],\"type\":\"heatmapgl\"}],\"histogram\":[{\"marker\":{\"pattern\":{\"fillmode\":\"overlay\",\"size\":10,\"solidity\":0.2}},\"type\":\"histogram\"}],\"histogram2d\":[{\"colorbar\":{\"outlinewidth\":0,\"ticks\":\"\"},\"colorscale\":[[0.0,\"#0d0887\"],[0.1111111111111111,\"#46039f\"],[0.2222222222222222,\"#7201a8\"],[0.3333333333333333,\"#9c179e\"],[0.4444444444444444,\"#bd3786\"],[0.5555555555555556,\"#d8576b\"],[0.6666666666666666,\"#ed7953\"],[0.7777777777777778,\"#fb9f3a\"],[0.8888888888888888,\"#fdca26\"],[1.0,\"#f0f921\"]],\"type\":\"histogram2d\"}],\"histogram2dcontour\":[{\"colorbar\":{\"outlinewidth\":0,\"ticks\":\"\"},\"colorscale\":[[0.0,\"#0d0887\"],[0.1111111111111111,\"#46039f\"],[0.2222222222222222,\"#7201a8\"],[0.3333333333333333,\"#9c179e\"],[0.4444444444444444,\"#bd3786\"],[0.5555555555555556,\"#d8576b\"],[0.6666666666666666,\"#ed7953\"],[0.7777777777777778,\"#fb9f3a\"],[0.8888888888888888,\"#fdca26\"],[1.0,\"#f0f921\"]],\"type\":\"histogram2dcontour\"}],\"mesh3d\":[{\"colorbar\":{\"outlinewidth\":0,\"ticks\":\"\"},\"type\":\"mesh3d\"}],\"parcoords\":[{\"line\":{\"colorbar\":{\"outlinewidth\":0,\"ticks\":\"\"}},\"type\":\"parcoords\"}],\"pie\":[{\"automargin\":true,\"type\":\"pie\"}],\"scatter\":[{\"marker\":{\"colorbar\":{\"outlinewidth\":0,\"ticks\":\"\"}},\"type\":\"scatter\"}],\"scatter3d\":[{\"line\":{\"colorbar\":{\"outlinewidth\":0,\"ticks\":\"\"}},\"marker\":{\"colorbar\":{\"outlinewidth\":0,\"ticks\":\"\"}},\"type\":\"scatter3d\"}],\"scattercarpet\":[{\"marker\":{\"colorbar\":{\"outlinewidth\":0,\"ticks\":\"\"}},\"type\":\"scattercarpet\"}],\"scattergeo\":[{\"marker\":{\"colorbar\":{\"outlinewidth\":0,\"ticks\":\"\"}},\"type\":\"scattergeo\"}],\"scattergl\":[{\"marker\":{\"colorbar\":{\"outlinewidth\":0,\"ticks\":\"\"}},\"type\":\"scattergl\"}],\"scattermapbox\":[{\"marker\":{\"colorbar\":{\"outlinewidth\":0,\"ticks\":\"\"}},\"type\":\"scattermapbox\"}],\"scatterpolar\":[{\"marker\":{\"colorbar\":{\"outlinewidth\":0,\"ticks\":\"\"}},\"type\":\"scatterpolar\"}],\"scatterpolargl\":[{\"marker\":{\"colorbar\":{\"outlinewidth\":0,\"ticks\":\"\"}},\"type\":\"scatterpolargl\"}],\"scatterternary\":[{\"marker\":{\"colorbar\":{\"outlinewidth\":0,\"ticks\":\"\"}},\"type\":\"scatterternary\"}],\"surface\":[{\"colorbar\":{\"outlinewidth\":0,\"ticks\":\"\"},\"colorscale\":[[0.0,\"#0d0887\"],[0.1111111111111111,\"#46039f\"],[0.2222222222222222,\"#7201a8\"],[0.3333333333333333,\"#9c179e\"],[0.4444444444444444,\"#bd3786\"],[0.5555555555555556,\"#d8576b\"],[0.6666666666666666,\"#ed7953\"],[0.7777777777777778,\"#fb9f3a\"],[0.8888888888888888,\"#fdca26\"],[1.0,\"#f0f921\"]],\"type\":\"surface\"}],\"table\":[{\"cells\":{\"fill\":{\"color\":\"#EBF0F8\"},\"line\":{\"color\":\"white\"}},\"header\":{\"fill\":{\"color\":\"#C8D4E3\"},\"line\":{\"color\":\"white\"}},\"type\":\"table\"}]},\"layout\":{\"annotationdefaults\":{\"arrowcolor\":\"#2a3f5f\",\"arrowhead\":0,\"arrowwidth\":1},\"autotypenumbers\":\"strict\",\"coloraxis\":{\"colorbar\":{\"outlinewidth\":0,\"ticks\":\"\"}},\"colorscale\":{\"diverging\":[[0,\"#8e0152\"],[0.1,\"#c51b7d\"],[0.2,\"#de77ae\"],[0.3,\"#f1b6da\"],[0.4,\"#fde0ef\"],[0.5,\"#f7f7f7\"],[0.6,\"#e6f5d0\"],[0.7,\"#b8e186\"],[0.8,\"#7fbc41\"],[0.9,\"#4d9221\"],[1,\"#276419\"]],\"sequential\":[[0.0,\"#0d0887\"],[0.1111111111111111,\"#46039f\"],[0.2222222222222222,\"#7201a8\"],[0.3333333333333333,\"#9c179e\"],[0.4444444444444444,\"#bd3786\"],[0.5555555555555556,\"#d8576b\"],[0.6666666666666666,\"#ed7953\"],[0.7777777777777778,\"#fb9f3a\"],[0.8888888888888888,\"#fdca26\"],[1.0,\"#f0f921\"]],\"sequentialminus\":[[0.0,\"#0d0887\"],[0.1111111111111111,\"#46039f\"],[0.2222222222222222,\"#7201a8\"],[0.3333333333333333,\"#9c179e\"],[0.4444444444444444,\"#bd3786\"],[0.5555555555555556,\"#d8576b\"],[0.6666666666666666,\"#ed7953\"],[0.7777777777777778,\"#fb9f3a\"],[0.8888888888888888,\"#fdca26\"],[1.0,\"#f0f921\"]]},\"colorway\":[\"#636efa\",\"#EF553B\",\"#00cc96\",\"#ab63fa\",\"#FFA15A\",\"#19d3f3\",\"#FF6692\",\"#B6E880\",\"#FF97FF\",\"#FECB52\"],\"font\":{\"color\":\"#2a3f5f\"},\"geo\":{\"bgcolor\":\"white\",\"lakecolor\":\"white\",\"landcolor\":\"#E5ECF6\",\"showlakes\":true,\"showland\":true,\"subunitcolor\":\"white\"},\"hoverlabel\":{\"align\":\"left\"},\"hovermode\":\"closest\",\"mapbox\":{\"style\":\"light\"},\"paper_bgcolor\":\"white\",\"plot_bgcolor\":\"#E5ECF6\",\"polar\":{\"angularaxis\":{\"gridcolor\":\"white\",\"linecolor\":\"white\",\"ticks\":\"\"},\"bgcolor\":\"#E5ECF6\",\"radialaxis\":{\"gridcolor\":\"white\",\"linecolor\":\"white\",\"ticks\":\"\"}},\"scene\":{\"xaxis\":{\"backgroundcolor\":\"#E5ECF6\",\"gridcolor\":\"white\",\"gridwidth\":2,\"linecolor\":\"white\",\"showbackground\":true,\"ticks\":\"\",\"zerolinecolor\":\"white\"},\"yaxis\":{\"backgroundcolor\":\"#E5ECF6\",\"gridcolor\":\"white\",\"gridwidth\":2,\"linecolor\":\"white\",\"showbackground\":true,\"ticks\":\"\",\"zerolinecolor\":\"white\"},\"zaxis\":{\"backgroundcolor\":\"#E5ECF6\",\"gridcolor\":\"white\",\"gridwidth\":2,\"linecolor\":\"white\",\"showbackground\":true,\"ticks\":\"\",\"zerolinecolor\":\"white\"}},\"shapedefaults\":{\"line\":{\"color\":\"#2a3f5f\"}},\"ternary\":{\"aaxis\":{\"gridcolor\":\"white\",\"linecolor\":\"white\",\"ticks\":\"\"},\"baxis\":{\"gridcolor\":\"white\",\"linecolor\":\"white\",\"ticks\":\"\"},\"bgcolor\":\"#E5ECF6\",\"caxis\":{\"gridcolor\":\"white\",\"linecolor\":\"white\",\"ticks\":\"\"}},\"title\":{\"x\":0.05},\"xaxis\":{\"automargin\":true,\"gridcolor\":\"white\",\"linecolor\":\"white\",\"ticks\":\"\",\"title\":{\"standoff\":15},\"zerolinecolor\":\"white\",\"zerolinewidth\":2},\"yaxis\":{\"automargin\":true,\"gridcolor\":\"white\",\"linecolor\":\"white\",\"ticks\":\"\",\"title\":{\"standoff\":15},\"zerolinecolor\":\"white\",\"zerolinewidth\":2}}}},                        {\"responsive\": true}                    ).then(function(){\n                            \nvar gd = document.getElementById('31df8701-7803-470e-a1cd-7c0bc1725030');\nvar x = new MutationObserver(function (mutations, observer) {{\n        var display = window.getComputedStyle(gd).display;\n        if (!display || display === 'none') {{\n            console.log([gd, 'removed!']);\n            Plotly.purge(gd);\n            observer.disconnect();\n        }}\n}});\n\n// Listen for the removal of the full notebook cells\nvar notebookContainer = gd.closest('#notebook-container');\nif (notebookContainer) {{\n    x.observe(notebookContainer, {childList: true});\n}}\n\n// Listen for the clearing of the current output cell\nvar outputEl = gd.closest('.output');\nif (outputEl) {{\n    x.observe(outputEl, {childList: true});\n}}\n\n                        })                };                });            </script>        </div>"
     },
     "metadata": {},
     "output_type": "display_data"
    },
    {
     "name": "stderr",
     "output_type": "stream",
     "text": [
      "c:\\temp\\TEMP_U~1/ipykernel_28952/914498032.py:70: UserWarning:\n",
      "\n",
      "Attempting to set identical bottom == top == 6.0 results in singular transformations; automatically expanding.\n",
      "\n"
     ]
    },
    {
     "data": {
      "text/plain": "<Figure size 432x288 with 4 Axes>",
      "image/png": "[encoded data removed]"
     },
     "metadata": {},
     "output_type": "display_data"
    }
   ],
   "source": [
    "import matplotlib.pyplot as plt\n",
    "from matplotlib.path import Path\n",
    "import matplotlib.patches as patches\n",
    "import numpy as np\n",
    "\n",
    "fig, host = plt.subplots()\n",
    "\n",
    "# create some dummy data\n",
    "ynames = ['thickness', 'testspeed', 'pos', 'Rp']\n",
    "N1, N2, N3 = 10, 5, 8\n",
    "N = N1 + N2 + N3\n",
    "category = np.concatenate([np.full(N1, 1), np.full(N2, 2), np.full(N3, 3)])\n",
    "y1 = plot.plate_thickness.astype(int)\n",
    "\n",
    "y2 = plot.post.astype(float)\n",
    "y3=plot.testspeed.map({'x':10,'y':5})\n",
    "y4 = plot.Rp.astype(float)\n",
    "#y5 = np.random.uniform(0, 800, N)\n",
    "\n",
    "all=pd.DataFrame({\n",
    "    'y1':y1,\n",
    "    'y2':y2,\n",
    "    'y3':y3,\n",
    "    'y4':y4\n",
    "\n",
    "\n",
    "})\n",
    "display(all)\n",
    "all.dropna(axis=0,inplace=True)\n",
    "all=all[all['y4']>0]\n",
    "all=all[all['y4']<1500]\n",
    "display(all)\n",
    "\n",
    "import plotly.express as px\n",
    "df = px.data.iris()\n",
    "fig = px.parallel_coordinates(all, color=\"y4\", labels={\"y1\": \"plate_thickness\",\n",
    "                \"y2\": \"position\", \"y3\": \"test_speed\",\n",
    "                \"y4\": \"Rp\" },\n",
    "                             color_continuous_scale=px.colors.qualitative.Dark24,\n",
    "                             color_continuous_midpoint=2)\n",
    "fig.show()\n",
    "\n",
    "\n",
    "y1=all['y1']\n",
    "y2=all['y2']\n",
    "y3=all['y3']\n",
    "y4=all['y4']\n",
    "\n",
    "\n",
    "\n",
    "\n",
    "\n",
    "# organize the data\n",
    "ys = np.dstack([y1, y2, y3, y4])[0]\n",
    "ymins = ys.min(axis=0)\n",
    "ymaxs = ys.max(axis=0)\n",
    "dys = ymaxs - ymins\n",
    "ymins -= dys * 0.05  # add 5% padding below and above\n",
    "ymaxs += dys * 0.05\n",
    "dys = ymaxs - ymins\n",
    "\n",
    "# transform all data to be compatible with the main axis\n",
    "zs = np.zeros_like(ys)\n",
    "zs[:, 0] = ys[:, 0]\n",
    "zs[:, 1:] = (ys[:, 1:] - ymins[1:]) / dys[1:] * dys[0] + ymins[0]\n",
    "\n",
    "\n",
    "axes = [host] + [host.twinx() for i in range(ys.shape[1] - 1)]\n",
    "for i, ax in enumerate(axes):\n",
    "    ax.set_ylim(ymins[i], ymaxs[i])\n",
    "    ax.spines['top'].set_visible(False)\n",
    "    ax.spines['bottom'].set_visible(False)\n",
    "    if ax != host:\n",
    "        ax.spines['left'].set_visible(False)\n",
    "        ax.yaxis.set_ticks_position('right')\n",
    "        ax.spines[\"right\"].set_position((\"axes\", i / (ys.shape[1] - 1)))\n",
    "\n",
    "host.set_xlim(0, ys.shape[1] - 1)\n",
    "host.set_xticks(range(ys.shape[1]))\n",
    "host.set_xticklabels(ynames, fontsize=14)\n",
    "host.tick_params(axis='x', which='major', pad=7)\n",
    "host.spines['right'].set_visible(False)\n",
    "host.xaxis.tick_top()\n",
    "host.set_title('Parallel Coordinates Plot', fontsize=18)\n",
    "\n",
    "colors = plt.cm.tab10.colors\n",
    "for j in range(N):\n",
    "    # to just draw straight lines between the axes:\n",
    "    # host.plot(range(ys.shape[1]), zs[j,:], c=colors[(category[j] - 1) % len(colors) ])\n",
    "\n",
    "    # create bezier curves\n",
    "    # for each axis, there will a control vertex at the point itself, one at 1/3rd towards the previous and one\n",
    "    #   at one third towards the next axis; the first and last axis have one less control vertex\n",
    "    # x-coordinate of the control vertices: at each integer (for the axes) and two inbetween\n",
    "    # y-coordinate: repeat every point three times, except the first and last only twice\n",
    "    verts = list(zip([x for x in np.linspace(0, len(ys) - 1, len(ys) * 3 - 2, endpoint=True)],\n",
    "                     np.repeat(zs[j, :], 3)[1:-1]))\n",
    "    # for x,y in verts: host.plot(x, y, 'go') # to show the control points of the beziers\n",
    "    codes = [Path.MOVETO] + [Path.CURVE4 for _ in range(len(verts) - 1)]\n",
    "    path = Path(verts, codes)\n",
    "    patch = patches.PathPatch(path, facecolor='none', lw=1, edgecolor=colors[category[j] - 1])\n",
    "    host.add_patch(patch)\n",
    "plt.tight_layout()\n",
    "plt.show()"
   ],
   "metadata": {
    "collapsed": false,
    "pycharm": {
     "name": "#%%\n"
    }
   }
  },
  {
   "cell_type": "code",
   "execution_count": null,
   "outputs": [],
   "source": [],
   "metadata": {
    "collapsed": false,
    "pycharm": {
     "name": "#%%\n"
    }
   }
  }
 ],
 "metadata": {
  "kernelspec": {
   "display_name": "Python 3",
   "language": "python",
   "name": "python3"
  },
  "language_info": {
   "codemirror_mode": {
    "name": "ipython",
    "version": 2
   },
   "file_extension": ".py",
   "mimetype": "text/x-python",
   "name": "python",
   "nbconvert_exporter": "python",
   "pygments_lexer": "ipython2",
   "version": "2.7.6"
  }
 },
 "nbformat": 4,
 "nbformat_minor": 0
}