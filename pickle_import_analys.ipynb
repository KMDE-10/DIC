{
 "cells": [
  {
   "cell_type": "code",
   "execution_count": 268,
   "metadata": {
    "collapsed": true
   },
   "outputs": [],
   "source": [
    "import pandas as pd\n",
    "import numpy as np\n",
    "import matplotlib.pyplot as plt\n",
    "from IPython.display import display\n",
    "import os\n",
    "import h5py as hdf\n",
    "import scipy as scp\n",
    "\n",
    "plt.rcParams['figure.facecolor'] = 'white'"
   ]
  },
  {
   "cell_type": "code",
   "execution_count": 269,
   "outputs": [
    {
     "data": {
      "text/plain": "                                ok  crack    pos  left_12-5  step_start  \\\nname                                                                      \nMC_A_6xi_clipped_cut_lined     1.0  135.0  143.0      123.0       110.0   \nMC_A_6xiii_clipped_cut_lined   1.0  115.0  119.0       99.0        45.0   \nMC_A_6yi_clipped_cut_lined     2.0  114.0  117.0       97.0         NaN   \nMC_A_6yii_clipped_cut_lined    2.0   47.0   50.0       30.0         NaN   \nMC_A_6yiii_clipped_cut_lined   2.0  100.0   95.0       75.0         NaN   \n...                            ...    ...    ...        ...         ...   \nQL_GW_8xi_clipped_cut_lined    3.0    NaN    NaN      -20.0        40.0   \nQL_GW_8xii_clipped_cut_lined   1.0  125.0  125.0      105.0       247.5   \nQL_GW_8xiii_clipped_cut_lined  3.0    NaN    NaN      -20.0         NaN   \nQL_GW_8yi_clipped_cut_lined    3.0    NaN    NaN      -20.0        16.0   \nQL_GW_8yii_clipped_cut_lined   2.0   35.0   35.0       15.0        17.5   \n\n                               step_stop  \nname                                      \nMC_A_6xi_clipped_cut_lined         230.0  \nMC_A_6xiii_clipped_cut_lined       187.5  \nMC_A_6yi_clipped_cut_lined           NaN  \nMC_A_6yii_clipped_cut_lined          NaN  \nMC_A_6yiii_clipped_cut_lined         NaN  \n...                                  ...  \nQL_GW_8xi_clipped_cut_lined        387.5  \nQL_GW_8xii_clipped_cut_lined       580.0  \nQL_GW_8xiii_clipped_cut_lined        NaN  \nQL_GW_8yi_clipped_cut_lined        161.0  \nQL_GW_8yii_clipped_cut_lined       367.5  \n\n[63 rows x 6 columns]",
      "text/html": "<div>\n<style scoped>\n    .dataframe tbody tr th:only-of-type {\n        vertical-align: middle;\n    }\n\n    .dataframe tbody tr th {\n        vertical-align: top;\n    }\n\n    .dataframe thead th {\n        text-align: right;\n    }\n</style>\n<table border=\"1\" class=\"dataframe\">\n  <thead>\n    <tr style=\"text-align: right;\">\n      <th></th>\n      <th>ok</th>\n      <th>crack</th>\n      <th>pos</th>\n      <th>left_12-5</th>\n      <th>step_start</th>\n      <th>step_stop</th>\n    </tr>\n    <tr>\n      <th>name</th>\n      <th></th>\n      <th></th>\n      <th></th>\n      <th></th>\n      <th></th>\n      <th></th>\n    </tr>\n  </thead>\n  <tbody>\n    <tr>\n      <th>MC_A_6xi_clipped_cut_lined</th>\n      <td>1.0</td>\n      <td>135.0</td>\n      <td>143.0</td>\n      <td>123.0</td>\n      <td>110.0</td>\n      <td>230.0</td>\n    </tr>\n    <tr>\n      <th>MC_A_6xiii_clipped_cut_lined</th>\n      <td>1.0</td>\n      <td>115.0</td>\n      <td>119.0</td>\n      <td>99.0</td>\n      <td>45.0</td>\n      <td>187.5</td>\n    </tr>\n    <tr>\n      <th>MC_A_6yi_clipped_cut_lined</th>\n      <td>2.0</td>\n      <td>114.0</td>\n      <td>117.0</td>\n      <td>97.0</td>\n      <td>NaN</td>\n      <td>NaN</td>\n    </tr>\n    <tr>\n      <th>MC_A_6yii_clipped_cut_lined</th>\n      <td>2.0</td>\n      <td>47.0</td>\n      <td>50.0</td>\n      <td>30.0</td>\n      <td>NaN</td>\n      <td>NaN</td>\n    </tr>\n    <tr>\n      <th>MC_A_6yiii_clipped_cut_lined</th>\n      <td>2.0</td>\n      <td>100.0</td>\n      <td>95.0</td>\n      <td>75.0</td>\n      <td>NaN</td>\n      <td>NaN</td>\n    </tr>\n    <tr>\n      <th>...</th>\n      <td>...</td>\n      <td>...</td>\n      <td>...</td>\n      <td>...</td>\n      <td>...</td>\n      <td>...</td>\n    </tr>\n    <tr>\n      <th>QL_GW_8xi_clipped_cut_lined</th>\n      <td>3.0</td>\n      <td>NaN</td>\n      <td>NaN</td>\n      <td>-20.0</td>\n      <td>40.0</td>\n      <td>387.5</td>\n    </tr>\n    <tr>\n      <th>QL_GW_8xii_clipped_cut_lined</th>\n      <td>1.0</td>\n      <td>125.0</td>\n      <td>125.0</td>\n      <td>105.0</td>\n      <td>247.5</td>\n      <td>580.0</td>\n    </tr>\n    <tr>\n      <th>QL_GW_8xiii_clipped_cut_lined</th>\n      <td>3.0</td>\n      <td>NaN</td>\n      <td>NaN</td>\n      <td>-20.0</td>\n      <td>NaN</td>\n      <td>NaN</td>\n    </tr>\n    <tr>\n      <th>QL_GW_8yi_clipped_cut_lined</th>\n      <td>3.0</td>\n      <td>NaN</td>\n      <td>NaN</td>\n      <td>-20.0</td>\n      <td>16.0</td>\n      <td>161.0</td>\n    </tr>\n    <tr>\n      <th>QL_GW_8yii_clipped_cut_lined</th>\n      <td>2.0</td>\n      <td>35.0</td>\n      <td>35.0</td>\n      <td>15.0</td>\n      <td>17.5</td>\n      <td>367.5</td>\n    </tr>\n  </tbody>\n</table>\n<p>63 rows × 6 columns</p>\n</div>"
     },
     "metadata": {},
     "output_type": "display_data"
    }
   ],
   "source": [
    "positions=pd.read_excel('Y:\\\\Istra Repositories\\\\ch-gr_exports\\\\Querzug_overview.xlsx')\n",
    "positions.name=positions.name+'_clipped_cut_lined'\n",
    "positions=positions.iloc[:,1:].set_index('name')\n",
    "display(positions)"
   ],
   "metadata": {
    "collapsed": false,
    "pycharm": {
     "name": "#%%\n"
    }
   }
  },
  {
   "cell_type": "code",
   "execution_count": 270,
   "outputs": [
    {
     "data": {
      "text/plain": "['Y:\\\\Istra Repositories\\\\ch-gr_exports\\\\MC_A_6xiii_clipped_cut_lined.pickle',\n 'Y:\\\\Istra Repositories\\\\ch-gr_exports\\\\MC_A_6xi_clipped_cut_lined.pickle',\n 'Y:\\\\Istra Repositories\\\\ch-gr_exports\\\\MC_A_8xiii_clipped_cut_lined.pickle',\n 'Y:\\\\Istra Repositories\\\\ch-gr_exports\\\\MC_B_6xiii_clipped_cut_lined.pickle',\n 'Y:\\\\Istra Repositories\\\\ch-gr_exports\\\\MC_B_6xii_clipped_cut_lined.pickle',\n 'Y:\\\\Istra Repositories\\\\ch-gr_exports\\\\MC_B_6xi_clipped_cut_lined.pickle',\n 'Y:\\\\Istra Repositories\\\\ch-gr_exports\\\\MC_B_8xiii_clipped_cut_lined.pickle',\n 'Y:\\\\Istra Repositories\\\\ch-gr_exports\\\\MC_B_8xi_clipped_cut_lined.pickle',\n 'Y:\\\\Istra Repositories\\\\ch-gr_exports\\\\MC_B_8yi_clipped_cut_lined.pickle',\n 'Y:\\\\Istra Repositories\\\\ch-gr_exports\\\\MC_GW_6xiii_clipped_cut_lined.pickle',\n 'Y:\\\\Istra Repositories\\\\ch-gr_exports\\\\MC_GW_6xi_clipped_cut_lined.pickle',\n 'Y:\\\\Istra Repositories\\\\ch-gr_exports\\\\MC_GW_6yiii_clipped_cut_lined.pickle',\n 'Y:\\\\Istra Repositories\\\\ch-gr_exports\\\\MC_GW_6yii_clipped_cut_lined.pickle',\n 'Y:\\\\Istra Repositories\\\\ch-gr_exports\\\\MC_GW_6yi_clipped_cut_lined.pickle',\n 'Y:\\\\Istra Repositories\\\\ch-gr_exports\\\\MC_GW_8xi_clipped_cut_lined.pickle',\n 'Y:\\\\Istra Repositories\\\\ch-gr_exports\\\\MC_GW_8yiii_clipped_cut_lined.pickle',\n 'Y:\\\\Istra Repositories\\\\ch-gr_exports\\\\MC_GW_8yii_clipped_cut_lined.pickle',\n 'Y:\\\\Istra Repositories\\\\ch-gr_exports\\\\QL_A_6xiii_clipped_cut_lined.pickle',\n 'Y:\\\\Istra Repositories\\\\ch-gr_exports\\\\QL_A_6xii_clipped_cut_lined.pickle',\n 'Y:\\\\Istra Repositories\\\\ch-gr_exports\\\\QL_A_6xi_clipped_cut_lined.pickle',\n 'Y:\\\\Istra Repositories\\\\ch-gr_exports\\\\QL_A_8xii_clipped_cut_lined.pickle',\n 'Y:\\\\Istra Repositories\\\\ch-gr_exports\\\\QL_A_8xi_clipped_cut_lined.pickle',\n 'Y:\\\\Istra Repositories\\\\ch-gr_exports\\\\QL_A_8yiii_clipped_cut_lined.pickle',\n 'Y:\\\\Istra Repositories\\\\ch-gr_exports\\\\QL_A_8yi_clipped_cut_lined.pickle',\n 'Y:\\\\Istra Repositories\\\\ch-gr_exports\\\\QL_B_6xiii_clipped_cut_lined.pickle',\n 'Y:\\\\Istra Repositories\\\\ch-gr_exports\\\\QL_B_8xiii_clipped_cut_lined.pickle',\n 'Y:\\\\Istra Repositories\\\\ch-gr_exports\\\\QL_B_8xii_clipped_cut_lined.pickle',\n 'Y:\\\\Istra Repositories\\\\ch-gr_exports\\\\QL_B_8yiii_clipped_cut_lined.pickle',\n 'Y:\\\\Istra Repositories\\\\ch-gr_exports\\\\QL_B_8yi_clipped_cut_lined.pickle',\n 'Y:\\\\Istra Repositories\\\\ch-gr_exports\\\\QL_GW_6xiii_clipped_cut_lined.pickle',\n 'Y:\\\\Istra Repositories\\\\ch-gr_exports\\\\QL_GW_6xi_clipped_cut_lined.pickle',\n 'Y:\\\\Istra Repositories\\\\ch-gr_exports\\\\QL_GW_6yiii_clipped_cut_lined.pickle',\n 'Y:\\\\Istra Repositories\\\\ch-gr_exports\\\\QL_GW_6yii_clipped_cut_lined.pickle',\n 'Y:\\\\Istra Repositories\\\\ch-gr_exports\\\\QL_GW_8xii_clipped_cut_lined.pickle',\n 'Y:\\\\Istra Repositories\\\\ch-gr_exports\\\\QL_GW_8yii_clipped_cut_lined.pickle']"
     },
     "metadata": {},
     "output_type": "display_data"
    }
   ],
   "source": [
    "import os\n",
    "import re\n",
    "\n",
    "def gather_files_regex(dir: str,regex)->list:\n",
    "    '''\n",
    "    Gathers all files below a directory that match the provided regular expression\n",
    "    Traverses into sub-directories\n",
    "\n",
    "    dir -- the directory\n",
    "\n",
    "    regex -- A regular expression to match filenames\n",
    "    '''\n",
    "    subdir=dir\n",
    "    p = re.compile(regex)\n",
    "    data=[]\n",
    "    for dir, _, files in os.walk(subdir):\n",
    "        for name in files:\n",
    "            if p.match(name):\n",
    "                b=(str(os.path.join(dir, name)))\n",
    "                data.append(b)\n",
    "    return data\n",
    "\n",
    "files=gather_files_regex('Y:\\\\Istra Repositories\\\\ch-gr_exports',r'\\w+ned.pickle\\Z')\n",
    "display(files)"
   ],
   "metadata": {
    "collapsed": false,
    "pycharm": {
     "name": "#%%\n"
    }
   }
  },
  {
   "cell_type": "code",
   "execution_count": 271,
   "outputs": [],
   "source": [
    "sample='MC_A_8xiii_clipped_cut'\n",
    "samplelocation='Y:\\\\Istra Repositories\\\\ch-gr_exports\\\\'+sample+'.pickle'\n",
    "lookup=pd.read_pickle(samplelocation,compression='zip')"
   ],
   "metadata": {
    "collapsed": false,
    "pycharm": {
     "name": "#%%\n"
    }
   }
  },
  {
   "cell_type": "code",
   "execution_count": 272,
   "outputs": [
    {
     "data": {
      "text/plain": "                                                                          paths  \\\nMC_A_6xiii_clipped_cut_lined  Y:\\Istra Repositories\\ch-gr_exports\\MC_A_6xiii...   \nMC_A_6xi_clipped_cut_lined    Y:\\Istra Repositories\\ch-gr_exports\\MC_A_6xi_c...   \nMC_A_8xiii_clipped_cut_lined  Y:\\Istra Repositories\\ch-gr_exports\\MC_A_8xiii...   \nMC_B_6xiii_clipped_cut_lined  Y:\\Istra Repositories\\ch-gr_exports\\MC_B_6xiii...   \nMC_B_6xii_clipped_cut_lined   Y:\\Istra Repositories\\ch-gr_exports\\MC_B_6xii_...   \n\n                               ok  crack    pos  left_12-5  step_start  \\\nMC_A_6xiii_clipped_cut_lined  1.0  115.0  119.0       99.0        45.0   \nMC_A_6xi_clipped_cut_lined    1.0  135.0  143.0      123.0       110.0   \nMC_A_8xiii_clipped_cut_lined  1.0  170.0  117.5       97.5        32.5   \nMC_B_6xiii_clipped_cut_lined  1.0   90.0   90.0       70.0        37.5   \nMC_B_6xii_clipped_cut_lined   1.0  122.0  121.0      101.0        27.5   \n\n                              step_stop                         index  \\\nMC_A_6xiii_clipped_cut_lined      187.5  MC_A_6xiii_clipped_cut_lined   \nMC_A_6xi_clipped_cut_lined        230.0    MC_A_6xi_clipped_cut_lined   \nMC_A_8xiii_clipped_cut_lined      355.0  MC_A_8xiii_clipped_cut_lined   \nMC_B_6xiii_clipped_cut_lined      172.5  MC_B_6xiii_clipped_cut_lined   \nMC_B_6xii_clipped_cut_lined       160.0   MC_B_6xii_clipped_cut_lined   \n\n                             material senergie/GW plate_thickness testspeed  \\\nMC_A_6xiii_clipped_cut_lined       MC           A               6         x   \nMC_A_6xi_clipped_cut_lined         MC           A               6         x   \nMC_A_8xiii_clipped_cut_lined       MC           A               8         x   \nMC_B_6xiii_clipped_cut_lined       MC           B               6         x   \nMC_B_6xii_clipped_cut_lined        MC           B               6         x   \n\n                             running_number  \\\nMC_A_6xiii_clipped_cut_lined            iii   \nMC_A_6xi_clipped_cut_lined                i   \nMC_A_8xiii_clipped_cut_lined            iii   \nMC_B_6xiii_clipped_cut_lined            iii   \nMC_B_6xii_clipped_cut_lined              ii   \n\n                                                                           data  \nMC_A_6xiii_clipped_cut_lined  group                                         ...  \nMC_A_6xi_clipped_cut_lined    group                                         ...  \nMC_A_8xiii_clipped_cut_lined  group                                         ...  \nMC_B_6xiii_clipped_cut_lined  group                                         ...  \nMC_B_6xii_clipped_cut_lined   group                                         ...  ",
      "text/html": "<div>\n<style scoped>\n    .dataframe tbody tr th:only-of-type {\n        vertical-align: middle;\n    }\n\n    .dataframe tbody tr th {\n        vertical-align: top;\n    }\n\n    .dataframe thead th {\n        text-align: right;\n    }\n</style>\n<table border=\"1\" class=\"dataframe\">\n  <thead>\n    <tr style=\"text-align: right;\">\n      <th></th>\n      <th>paths</th>\n      <th>ok</th>\n      <th>crack</th>\n      <th>pos</th>\n      <th>left_12-5</th>\n      <th>step_start</th>\n      <th>step_stop</th>\n      <th>index</th>\n      <th>material</th>\n      <th>senergie/GW</th>\n      <th>plate_thickness</th>\n      <th>testspeed</th>\n      <th>running_number</th>\n      <th>data</th>\n    </tr>\n  </thead>\n  <tbody>\n    <tr>\n      <th>MC_A_6xiii_clipped_cut_lined</th>\n      <td>Y:\\Istra Repositories\\ch-gr_exports\\MC_A_6xiii...</td>\n      <td>1.0</td>\n      <td>115.0</td>\n      <td>119.0</td>\n      <td>99.0</td>\n      <td>45.0</td>\n      <td>187.5</td>\n      <td>MC_A_6xiii_clipped_cut_lined</td>\n      <td>MC</td>\n      <td>A</td>\n      <td>6</td>\n      <td>x</td>\n      <td>iii</td>\n      <td>group                                         ...</td>\n    </tr>\n    <tr>\n      <th>MC_A_6xi_clipped_cut_lined</th>\n      <td>Y:\\Istra Repositories\\ch-gr_exports\\MC_A_6xi_c...</td>\n      <td>1.0</td>\n      <td>135.0</td>\n      <td>143.0</td>\n      <td>123.0</td>\n      <td>110.0</td>\n      <td>230.0</td>\n      <td>MC_A_6xi_clipped_cut_lined</td>\n      <td>MC</td>\n      <td>A</td>\n      <td>6</td>\n      <td>x</td>\n      <td>i</td>\n      <td>group                                         ...</td>\n    </tr>\n    <tr>\n      <th>MC_A_8xiii_clipped_cut_lined</th>\n      <td>Y:\\Istra Repositories\\ch-gr_exports\\MC_A_8xiii...</td>\n      <td>1.0</td>\n      <td>170.0</td>\n      <td>117.5</td>\n      <td>97.5</td>\n      <td>32.5</td>\n      <td>355.0</td>\n      <td>MC_A_8xiii_clipped_cut_lined</td>\n      <td>MC</td>\n      <td>A</td>\n      <td>8</td>\n      <td>x</td>\n      <td>iii</td>\n      <td>group                                         ...</td>\n    </tr>\n    <tr>\n      <th>MC_B_6xiii_clipped_cut_lined</th>\n      <td>Y:\\Istra Repositories\\ch-gr_exports\\MC_B_6xiii...</td>\n      <td>1.0</td>\n      <td>90.0</td>\n      <td>90.0</td>\n      <td>70.0</td>\n      <td>37.5</td>\n      <td>172.5</td>\n      <td>MC_B_6xiii_clipped_cut_lined</td>\n      <td>MC</td>\n      <td>B</td>\n      <td>6</td>\n      <td>x</td>\n      <td>iii</td>\n      <td>group                                         ...</td>\n    </tr>\n    <tr>\n      <th>MC_B_6xii_clipped_cut_lined</th>\n      <td>Y:\\Istra Repositories\\ch-gr_exports\\MC_B_6xii_...</td>\n      <td>1.0</td>\n      <td>122.0</td>\n      <td>121.0</td>\n      <td>101.0</td>\n      <td>27.5</td>\n      <td>160.0</td>\n      <td>MC_B_6xii_clipped_cut_lined</td>\n      <td>MC</td>\n      <td>B</td>\n      <td>6</td>\n      <td>x</td>\n      <td>ii</td>\n      <td>group                                         ...</td>\n    </tr>\n  </tbody>\n</table>\n</div>"
     },
     "metadata": {},
     "output_type": "display_data"
    }
   ],
   "source": [
    "over_df_index=[x.split('\\\\')[-1].split('.')[0] for x in files]\n",
    "tests_df=pd.DataFrame(index=over_df_index)\n",
    "tests_df['paths']=files\n",
    "tests_df=tests_df.join(positions,how='left')\n",
    "tests_df['index']=tests_df.index\n",
    "tests_df['material']=tests_df['index'].apply(lambda x: x.split('_')[0])\n",
    "tests_df['senergie/GW']=tests_df['index'].apply(lambda x: x.split('_')[1])\n",
    "tests_df['plate_thickness']=tests_df['index'].apply(lambda x: x.split('_')[2][0])\n",
    "tests_df['testspeed']=tests_df['index'].apply(lambda x: x.split('_')[2][1])\n",
    "tests_df['running_number']=tests_df['index'].apply(lambda x: x.split('_')[2][2:])\n",
    "tests_df['data']=[pd.read_pickle(x, compression='zip') for x in tests_df['paths']]\n",
    "display(tests_df.head(5))\n",
    "#plt.plot(tests_df.crack)"
   ],
   "metadata": {
    "collapsed": false,
    "pycharm": {
     "name": "#%%\n"
    }
   }
  },
  {
   "cell_type": "code",
   "execution_count": 273,
   "outputs": [],
   "source": [
    "#display(test.data)"
   ],
   "metadata": {
    "collapsed": false,
    "pycharm": {
     "name": "#%%\n"
    }
   }
  },
  {
   "cell_type": "code",
   "execution_count": 325,
   "outputs": [
    {
     "data": {
      "text/plain": "<Figure size 432x288 with 1 Axes>",
      "image/png": "[encoded data removed]"
     },
     "metadata": {},
     "output_type": "display_data"
    }
   ],
   "source": [
    "test=tests_df.data[0]\n",
    "sample=tests_df['index'][0]\n",
    "def array_get_mask(array:np.ndarray)->pd.DataFrame:\n",
    "    df=pd.DataFrame(array)\n",
    "    after=df.copy()\n",
    "    after[after==0.]=np.nan\n",
    "    after=np.divide(after,after)\n",
    "    return(after)\n",
    "#mask=array_get_mask(test.iloc[10,:][('strains','strain_p1')])\n",
    "#plt.matshow(mask)\n",
    "def df_apply_mask(arr:np.ndarray,mask:np.ndarray)-> pd.DataFrame:\n",
    "    after=np.multiply(arr,mask)\n",
    "    after=pd.DataFrame(after)\n",
    "    after.dropna(how='all',axis=0,inplace=True)\n",
    "    after.dropna(how='all',axis=1,inplace=True)\n",
    "    return(after)\n",
    "#plt.matshow(df_apply_mask(array_get_mask(test.iloc[10,:][('strains','strain_p1')]),mask))\n",
    "def df_strip_nans(df):\n",
    "    after=df.copy()\n",
    "    after.dropna(how='all',axis=0,inplace=True)\n",
    "    after.dropna(how='all',axis=1,inplace=True)\n",
    "    return(after)\n",
    "def df_get_idx_from_mm(sample:str,data:pd.DataFrame,sdix,cdix,left:int,right:int):\n",
    "    mask=array_get_mask(data.iloc[10,:][('strains','strain_p1')])\n",
    "    horizontal_measured_mm=data.iloc[10,:][('coordinates','coordinate_y')]\n",
    "    measurement_dict=horizontal_measured_mm.to_dict()\n",
    "    measurement_lookup_df=pd.DataFrame(data=measurement_dict.values(), index=measurement_dict.keys(),columns=['mm'])\n",
    "    #display(measurement_lookup_df)\n",
    "    crack_idx=int(cdix)\n",
    "    seam_idx=int(sdix)\n",
    "\n",
    "    seam_pos_y_mm=measurement_lookup_df.loc[seam_idx,'mm']\n",
    "    left_pos_y_mm=seam_pos_y_mm-left\n",
    "    right_pos_y_mm=seam_pos_y_mm-right\n",
    "\n",
    "    left_pos_y_idx=measurement_lookup_df.iloc[(measurement_lookup_df['mm']-left_pos_y_mm).abs().argsort()[:1]].index.tolist()[0]\n",
    "    right_pos_y_idx=measurement_lookup_df.iloc[(measurement_lookup_df['mm']-right_pos_y_mm).abs().argsort()[:1]].index.tolist()[0]\n",
    "\n",
    "    \"\"\"fig,ax=plt.subplots(figsize=(20,5))\n",
    "    ax.matshow(df_apply_mask(data.iloc[150,:][('strains','strain_p1')],mask))\n",
    "    ax.axvline(left_pos_y_idx,c='red')\n",
    "    ax.axvline(right_pos_y_idx,c='yellow')\n",
    "    plt.show()\"\"\"\n",
    "    return(seam_idx,left_pos_y_idx,right_pos_y_idx)\n",
    "def df_extract_roi_on_idx(roi_base,left,right):\n",
    "    roi_base=pd.DataFrame(roi_base).copy()\n",
    "\n",
    "    roi_base.loc[:,:left]=np.nan\n",
    "    roi_base.loc[:,right:]=np.nan\n",
    "    return(roi_base)\n",
    "#df_get_idx_from_mm(sample,lookup,positions,-20,-18)\n",
    "borders=df_get_idx_from_mm(sample,test,119.0,115.0,-35,-33)\n",
    "fig,ax=plt.subplots()\n",
    "ax.plot(tests_df.data[0].iloc[-10,6])#.loc[borders[1]:borders[2]])\n",
    "ax.axvline(borders[1],color='red')\n",
    "ax.axvline(borders[2],color='blue')\n",
    "ax.axvline(borders[0],color='pink')\n",
    "plt.show()\n",
    "#plt.matshow(df_strip_nans(df_extract_roi_on_idx(df_apply_mask(array_get_mask(test.iloc[130,:][('strains','strain_p1')]),mask),borders[1],borders[2])))"
   ],
   "metadata": {
    "collapsed": false,
    "pycharm": {
     "name": "#%%\n"
    }
   }
  },
  {
   "cell_type": "code",
   "execution_count": 326,
   "outputs": [
    {
     "data": {
      "text/plain": "6     -23.113460\n7     -23.174919\n8     -23.230551\n9     -23.275849\n10    -23.328638\n         ...    \n194   -15.198407\n195   -15.143376\n196   -15.103652\n197   -15.046472\n198   -15.002882\nLength: 193, dtype: float64"
     },
     "metadata": {},
     "output_type": "display_data"
    }
   ],
   "source": [
    "display(test.iloc[0,3])\n",
    "\n"
   ],
   "metadata": {
    "collapsed": false,
    "pycharm": {
     "name": "#%%\n"
    }
   }
  },
  {
   "cell_type": "code",
   "execution_count": 326,
   "outputs": [],
   "source": [],
   "metadata": {
    "collapsed": false,
    "pycharm": {
     "name": "#%%\n"
    }
   }
  },
  {
   "cell_type": "code",
   "execution_count": 327,
   "outputs": [
    {
     "data": {
      "text/plain": "                                                                          paths  \\\nMC_A_6xiii_clipped_cut_lined  Y:\\Istra Repositories\\ch-gr_exports\\MC_A_6xiii...   \nMC_A_6xi_clipped_cut_lined    Y:\\Istra Repositories\\ch-gr_exports\\MC_A_6xi_c...   \nMC_A_8xiii_clipped_cut_lined  Y:\\Istra Repositories\\ch-gr_exports\\MC_A_8xiii...   \nMC_B_6xiii_clipped_cut_lined  Y:\\Istra Repositories\\ch-gr_exports\\MC_B_6xiii...   \nMC_B_6xii_clipped_cut_lined   Y:\\Istra Repositories\\ch-gr_exports\\MC_B_6xii_...   \n\n                               ok  crack    pos  left_12-5  step_start  \\\nMC_A_6xiii_clipped_cut_lined  1.0  115.0  119.0       99.0        45.0   \nMC_A_6xi_clipped_cut_lined    1.0  135.0  143.0      123.0       110.0   \nMC_A_8xiii_clipped_cut_lined  1.0  170.0  117.5       97.5        32.5   \nMC_B_6xiii_clipped_cut_lined  1.0   90.0   90.0       70.0        37.5   \nMC_B_6xii_clipped_cut_lined   1.0  122.0  121.0      101.0        27.5   \n\n                              step_stop                         index  \\\nMC_A_6xiii_clipped_cut_lined      187.5  MC_A_6xiii_clipped_cut_lined   \nMC_A_6xi_clipped_cut_lined        230.0    MC_A_6xi_clipped_cut_lined   \nMC_A_8xiii_clipped_cut_lined      355.0  MC_A_8xiii_clipped_cut_lined   \nMC_B_6xiii_clipped_cut_lined      172.5  MC_B_6xiii_clipped_cut_lined   \nMC_B_6xii_clipped_cut_lined       160.0   MC_B_6xii_clipped_cut_lined   \n\n                             material senergie/GW  ... 25_27  _rp02_idx  \\\nMC_A_6xiii_clipped_cut_lined       MC           A  ...              128   \nMC_A_6xi_clipped_cut_lined         MC           A  ...               93   \nMC_A_8xiii_clipped_cut_lined       MC           A  ...              109   \nMC_B_6xiii_clipped_cut_lined       MC           B  ...               49   \nMC_B_6xii_clipped_cut_lined        MC           B  ...              122   \n\n                             27_29  _rp02_idx 29_31  _rp02_idx  \\\nMC_A_6xiii_clipped_cut_lined              105              106   \nMC_A_6xi_clipped_cut_lined                 93               93   \nMC_A_8xiii_clipped_cut_lined              112              113   \nMC_B_6xiii_clipped_cut_lined              106               95   \nMC_B_6xii_clipped_cut_lined               112              100   \n\n                             31_33  _rp02_idx 33_35  _rp02_idx  \\\nMC_A_6xiii_clipped_cut_lined              121               98   \nMC_A_6xi_clipped_cut_lined                 93               93   \nMC_A_8xiii_clipped_cut_lined              117              121   \nMC_B_6xiii_clipped_cut_lined              123              121   \nMC_B_6xii_clipped_cut_lined               130              132   \n\n                                                                             Rp  \\\nMC_A_6xiii_clipped_cut_lined  [1204.4481996886757, 1128.5487458455787, 1188....   \nMC_A_6xi_clipped_cut_lined    [1203.8424897133077, 1181.0288628405992, 1217....   \nMC_A_8xiii_clipped_cut_lined  [1219.270807317664, 1188.6837439676333, 1187.9...   \nMC_B_6xiii_clipped_cut_lined  [-1000.4206839485282, -436.549963555648, -268....   \nMC_B_6xii_clipped_cut_lined   [743.6838599003045, 913.5642766552933, 1029.94...   \n\n                                                                      Rpinclpos  \\\nMC_A_6xiii_clipped_cut_lined  [1204.4481996886757_-34.0_[104, 139, 97, 99, 1...   \nMC_A_6xi_clipped_cut_lined    [1203.8424897133077_-34.0_[99, 92, 90, 91, 93,...   \nMC_A_8xiii_clipped_cut_lined  [1219.270807317664_-34.0_[132, 127, 126, 124, ...   \nMC_B_6xiii_clipped_cut_lined  [-1000.4206839485282_-34.0_[4, 58, 134, 134, 1...   \nMC_B_6xii_clipped_cut_lined   [743.6838599003045_-34.0_[59, 78, 130, 130, 13...   \n\n                                                                           post  \\\nMC_A_6xiii_clipped_cut_lined  [1204.4481996886757, 1128.5487458455787, 1188....   \nMC_A_6xi_clipped_cut_lined    [1203.8424897133077, 1181.0288628405992, 1217....   \nMC_A_8xiii_clipped_cut_lined  [1219.270807317664, 1188.6837439676333, 1187.9...   \nMC_B_6xiii_clipped_cut_lined  [-1000.4206839485282, -436.549963555648, -268....   \nMC_B_6xii_clipped_cut_lined   [743.6838599003045, 913.5642766552933, 1029.94...   \n\n                                                                      Rpatsteps  \\\nMC_A_6xiii_clipped_cut_lined  [104, 139, 97, 99, 102, 95, 94, 95, 85, 78, 60...   \nMC_A_6xi_clipped_cut_lined    [99, 92, 90, 91, 93, 92, 91, 83, 72, 65, 62, 6...   \nMC_A_8xiii_clipped_cut_lined  [132, 127, 126, 124, 121, 115, 111, 107, 103, ...   \nMC_B_6xiii_clipped_cut_lined  [4, 58, 134, 134, 134, 100, 100, 134, 92, 124,...   \nMC_B_6xii_clipped_cut_lined   [59, 78, 130, 130, 132, 132, 82, 84, 132, 69, ...   \n\n                                                                  Rpinclposstep  \nMC_A_6xiii_clipped_cut_lined  [1204.4481996886757_-34.0_104, 1128.5487458455...  \nMC_A_6xi_clipped_cut_lined    [1203.8424897133077_-34.0_99, 1181.02886284059...  \nMC_A_8xiii_clipped_cut_lined  [1219.270807317664_-34.0_132, 1188.68374396763...  \nMC_B_6xiii_clipped_cut_lined  [-1000.4206839485282_-34.0_4, -436.54996355564...  \nMC_B_6xii_clipped_cut_lined   [743.6838599003045_-34.0_59, 913.5642766552933...  \n\n[5 rows x 199 columns]",
      "text/html": "<div>\n<style scoped>\n    .dataframe tbody tr th:only-of-type {\n        vertical-align: middle;\n    }\n\n    .dataframe tbody tr th {\n        vertical-align: top;\n    }\n\n    .dataframe thead th {\n        text-align: right;\n    }\n</style>\n<table border=\"1\" class=\"dataframe\">\n  <thead>\n    <tr style=\"text-align: right;\">\n      <th></th>\n      <th>paths</th>\n      <th>ok</th>\n      <th>crack</th>\n      <th>pos</th>\n      <th>left_12-5</th>\n      <th>step_start</th>\n      <th>step_stop</th>\n      <th>index</th>\n      <th>material</th>\n      <th>senergie/GW</th>\n      <th>...</th>\n      <th>25_27  _rp02_idx</th>\n      <th>27_29  _rp02_idx</th>\n      <th>29_31  _rp02_idx</th>\n      <th>31_33  _rp02_idx</th>\n      <th>33_35  _rp02_idx</th>\n      <th>Rp</th>\n      <th>Rpinclpos</th>\n      <th>post</th>\n      <th>Rpatsteps</th>\n      <th>Rpinclposstep</th>\n    </tr>\n  </thead>\n  <tbody>\n    <tr>\n      <th>MC_A_6xiii_clipped_cut_lined</th>\n      <td>Y:\\Istra Repositories\\ch-gr_exports\\MC_A_6xiii...</td>\n      <td>1.0</td>\n      <td>115.0</td>\n      <td>119.0</td>\n      <td>99.0</td>\n      <td>45.0</td>\n      <td>187.5</td>\n      <td>MC_A_6xiii_clipped_cut_lined</td>\n      <td>MC</td>\n      <td>A</td>\n      <td>...</td>\n      <td>128</td>\n      <td>105</td>\n      <td>106</td>\n      <td>121</td>\n      <td>98</td>\n      <td>[1204.4481996886757, 1128.5487458455787, 1188....</td>\n      <td>[1204.4481996886757_-34.0_[104, 139, 97, 99, 1...</td>\n      <td>[1204.4481996886757, 1128.5487458455787, 1188....</td>\n      <td>[104, 139, 97, 99, 102, 95, 94, 95, 85, 78, 60...</td>\n      <td>[1204.4481996886757_-34.0_104, 1128.5487458455...</td>\n    </tr>\n    <tr>\n      <th>MC_A_6xi_clipped_cut_lined</th>\n      <td>Y:\\Istra Repositories\\ch-gr_exports\\MC_A_6xi_c...</td>\n      <td>1.0</td>\n      <td>135.0</td>\n      <td>143.0</td>\n      <td>123.0</td>\n      <td>110.0</td>\n      <td>230.0</td>\n      <td>MC_A_6xi_clipped_cut_lined</td>\n      <td>MC</td>\n      <td>A</td>\n      <td>...</td>\n      <td>93</td>\n      <td>93</td>\n      <td>93</td>\n      <td>93</td>\n      <td>93</td>\n      <td>[1203.8424897133077, 1181.0288628405992, 1217....</td>\n      <td>[1203.8424897133077_-34.0_[99, 92, 90, 91, 93,...</td>\n      <td>[1203.8424897133077, 1181.0288628405992, 1217....</td>\n      <td>[99, 92, 90, 91, 93, 92, 91, 83, 72, 65, 62, 6...</td>\n      <td>[1203.8424897133077_-34.0_99, 1181.02886284059...</td>\n    </tr>\n    <tr>\n      <th>MC_A_8xiii_clipped_cut_lined</th>\n      <td>Y:\\Istra Repositories\\ch-gr_exports\\MC_A_8xiii...</td>\n      <td>1.0</td>\n      <td>170.0</td>\n      <td>117.5</td>\n      <td>97.5</td>\n      <td>32.5</td>\n      <td>355.0</td>\n      <td>MC_A_8xiii_clipped_cut_lined</td>\n      <td>MC</td>\n      <td>A</td>\n      <td>...</td>\n      <td>109</td>\n      <td>112</td>\n      <td>113</td>\n      <td>117</td>\n      <td>121</td>\n      <td>[1219.270807317664, 1188.6837439676333, 1187.9...</td>\n      <td>[1219.270807317664_-34.0_[132, 127, 126, 124, ...</td>\n      <td>[1219.270807317664, 1188.6837439676333, 1187.9...</td>\n      <td>[132, 127, 126, 124, 121, 115, 111, 107, 103, ...</td>\n      <td>[1219.270807317664_-34.0_132, 1188.68374396763...</td>\n    </tr>\n    <tr>\n      <th>MC_B_6xiii_clipped_cut_lined</th>\n      <td>Y:\\Istra Repositories\\ch-gr_exports\\MC_B_6xiii...</td>\n      <td>1.0</td>\n      <td>90.0</td>\n      <td>90.0</td>\n      <td>70.0</td>\n      <td>37.5</td>\n      <td>172.5</td>\n      <td>MC_B_6xiii_clipped_cut_lined</td>\n      <td>MC</td>\n      <td>B</td>\n      <td>...</td>\n      <td>49</td>\n      <td>106</td>\n      <td>95</td>\n      <td>123</td>\n      <td>121</td>\n      <td>[-1000.4206839485282, -436.549963555648, -268....</td>\n      <td>[-1000.4206839485282_-34.0_[4, 58, 134, 134, 1...</td>\n      <td>[-1000.4206839485282, -436.549963555648, -268....</td>\n      <td>[4, 58, 134, 134, 134, 100, 100, 134, 92, 124,...</td>\n      <td>[-1000.4206839485282_-34.0_4, -436.54996355564...</td>\n    </tr>\n    <tr>\n      <th>MC_B_6xii_clipped_cut_lined</th>\n      <td>Y:\\Istra Repositories\\ch-gr_exports\\MC_B_6xii_...</td>\n      <td>1.0</td>\n      <td>122.0</td>\n      <td>121.0</td>\n      <td>101.0</td>\n      <td>27.5</td>\n      <td>160.0</td>\n      <td>MC_B_6xii_clipped_cut_lined</td>\n      <td>MC</td>\n      <td>B</td>\n      <td>...</td>\n      <td>122</td>\n      <td>112</td>\n      <td>100</td>\n      <td>130</td>\n      <td>132</td>\n      <td>[743.6838599003045, 913.5642766552933, 1029.94...</td>\n      <td>[743.6838599003045_-34.0_[59, 78, 130, 130, 13...</td>\n      <td>[743.6838599003045, 913.5642766552933, 1029.94...</td>\n      <td>[59, 78, 130, 130, 132, 132, 82, 84, 132, 69, ...</td>\n      <td>[743.6838599003045_-34.0_59, 913.5642766552933...</td>\n    </tr>\n  </tbody>\n</table>\n<p>5 rows × 199 columns</p>\n</div>"
     },
     "metadata": {},
     "output_type": "display_data"
    },
    {
     "data": {
      "text/plain": "<Figure size 432x288 with 1 Axes>",
      "image/png": "[encoded data removed]"
     },
     "metadata": {},
     "output_type": "display_data"
    }
   ],
   "source": [
    "def idx_runner(tests_df):\n",
    "    tests_df['-35_-33_idxs']  =  tests_df['index'].apply(lambda x:df_get_idx_from_mm(x,tests_df.loc[x,'data'],tests_df.loc[x,'pos'],tests_df.loc[x,'crack'],-35,-33))\n",
    "    tests_df['-33_-31_idxs']  =  tests_df['index'].apply(lambda x:df_get_idx_from_mm(x,tests_df.loc[x,'data'],tests_df.loc[x,'pos'],tests_df.loc[x,'crack'],-33,-31))\n",
    "    tests_df['-31_-29_idxs']  =  tests_df['index'].apply(lambda x:df_get_idx_from_mm(x,tests_df.loc[x,'data'],tests_df.loc[x,'pos'],tests_df.loc[x,'crack'],-31,-29))\n",
    "    tests_df['-29_-27_idxs']  =  tests_df['index'].apply(lambda x:df_get_idx_from_mm(x,tests_df.loc[x,'data'],tests_df.loc[x,'pos'],tests_df.loc[x,'crack'],-29,-27))\n",
    "    tests_df['-27_-25_idxs']  =  tests_df['index'].apply(lambda x:df_get_idx_from_mm(x,tests_df.loc[x,'data'],tests_df.loc[x,'pos'],tests_df.loc[x,'crack'],-27,-25))\n",
    "    tests_df['-25_-23_idxs']  =  tests_df['index'].apply(lambda x:df_get_idx_from_mm(x,tests_df.loc[x,'data'],tests_df.loc[x,'pos'],tests_df.loc[x,'crack'],-25,-23))\n",
    "    tests_df['-23_-21_idxs']  =  tests_df['index'].apply(lambda x:df_get_idx_from_mm(x,tests_df.loc[x,'data'],tests_df.loc[x,'pos'],tests_df.loc[x,'crack'],-23,-21))\n",
    "    tests_df['-21_-19_idxs']  =  tests_df['index'].apply(lambda x:df_get_idx_from_mm(x,tests_df.loc[x,'data'],tests_df.loc[x,'pos'],tests_df.loc[x,'crack'],-21,-19))\n",
    "    tests_df['-19_-17_idxs']  =  tests_df['index'].apply(lambda x:df_get_idx_from_mm(x,tests_df.loc[x,'data'],tests_df.loc[x,'pos'],tests_df.loc[x,'crack'],-19,-17))\n",
    "    tests_df['-17_-15_idxs']  =  tests_df['index'].apply(lambda x:df_get_idx_from_mm(x,tests_df.loc[x,'data'],tests_df.loc[x,'pos'],tests_df.loc[x,'crack'],-17,-15))\n",
    "    tests_df['-15_-13_idxs']  =  tests_df['index'].apply(lambda x:df_get_idx_from_mm(x,tests_df.loc[x,'data'],tests_df.loc[x,'pos'],tests_df.loc[x,'crack'],-15,-13))\n",
    "    tests_df['-13_-11_idxs']  =  tests_df['index'].apply(lambda x:df_get_idx_from_mm(x,tests_df.loc[x,'data'],tests_df.loc[x,'pos'],tests_df.loc[x,'crack'],-13,-11))\n",
    "    tests_df['-11_-9 _idxs']  =  tests_df['index'].apply(lambda x:df_get_idx_from_mm(x,tests_df.loc[x,'data'],tests_df.loc[x,'pos'],tests_df.loc[x,'crack'],-11,-9))\n",
    "    tests_df['-9_-7  _idxs']  =  tests_df['index'].apply(lambda x:df_get_idx_from_mm(x,tests_df.loc[x,'data'],tests_df.loc[x,'pos'],tests_df.loc[x,'crack'],-9,-7))\n",
    "    tests_df['-7_-5  _idxs']  =  tests_df['index'].apply(lambda x:df_get_idx_from_mm(x,tests_df.loc[x,'data'],tests_df.loc[x,'pos'],tests_df.loc[x,'crack'],-7,-5))\n",
    "    tests_df['-5_-3  _idxs']  =  tests_df['index'].apply(lambda x:df_get_idx_from_mm(x,tests_df.loc[x,'data'],tests_df.loc[x,'pos'],tests_df.loc[x,'crack'],-5,-3))\n",
    "    tests_df['-3_-1  _idxs']  =  tests_df['index'].apply(lambda x:df_get_idx_from_mm(x,tests_df.loc[x,'data'],tests_df.loc[x,'pos'],tests_df.loc[x,'crack'],-3,-1))\n",
    "    tests_df['-1_1   _idxs']  =  tests_df['index'].apply(lambda x:df_get_idx_from_mm(x,tests_df.loc[x,'data'],tests_df.loc[x,'pos'],tests_df.loc[x,'crack'],-1,1))\n",
    "    tests_df['1_3    _idxs']  =  tests_df['index'].apply(lambda x:df_get_idx_from_mm(x,tests_df.loc[x,'data'],tests_df.loc[x,'pos'],tests_df.loc[x,'crack'],1,3))\n",
    "    tests_df['3_5    _idxs']  =  tests_df['index'].apply(lambda x:df_get_idx_from_mm(x,tests_df.loc[x,'data'],tests_df.loc[x,'pos'],tests_df.loc[x,'crack'],3,5))\n",
    "    tests_df['5_7    _idxs']  =  tests_df['index'].apply(lambda x:df_get_idx_from_mm(x,tests_df.loc[x,'data'],tests_df.loc[x,'pos'],tests_df.loc[x,'crack'],5,7))\n",
    "    tests_df['7_9    _idxs']  =  tests_df['index'].apply(lambda x:df_get_idx_from_mm(x,tests_df.loc[x,'data'],tests_df.loc[x,'pos'],tests_df.loc[x,'crack'],7,9))\n",
    "    tests_df['9_11   _idxs']  =  tests_df['index'].apply(lambda x:df_get_idx_from_mm(x,tests_df.loc[x,'data'],tests_df.loc[x,'pos'],tests_df.loc[x,'crack'],9,11))\n",
    "    tests_df['11_13  _idxs']  =  tests_df['index'].apply(lambda x:df_get_idx_from_mm(x,tests_df.loc[x,'data'],tests_df.loc[x,'pos'],tests_df.loc[x,'crack'],11,13))\n",
    "    tests_df['13_15  _idxs']  =  tests_df['index'].apply(lambda x:df_get_idx_from_mm(x,tests_df.loc[x,'data'],tests_df.loc[x,'pos'],tests_df.loc[x,'crack'],13,15))\n",
    "    tests_df['15_17  _idxs']  =  tests_df['index'].apply(lambda x:df_get_idx_from_mm(x,tests_df.loc[x,'data'],tests_df.loc[x,'pos'],tests_df.loc[x,'crack'],15,17))\n",
    "    tests_df['17_19  _idxs']  =  tests_df['index'].apply(lambda x:df_get_idx_from_mm(x,tests_df.loc[x,'data'],tests_df.loc[x,'pos'],tests_df.loc[x,'crack'],17,19))\n",
    "    tests_df['19_21  _idxs']  =  tests_df['index'].apply(lambda x:df_get_idx_from_mm(x,tests_df.loc[x,'data'],tests_df.loc[x,'pos'],tests_df.loc[x,'crack'],19,21))\n",
    "    tests_df['21_23  _idxs']  =  tests_df['index'].apply(lambda x:df_get_idx_from_mm(x,tests_df.loc[x,'data'],tests_df.loc[x,'pos'],tests_df.loc[x,'crack'],21,23))\n",
    "    tests_df['23_25  _idxs']  =  tests_df['index'].apply(lambda x:df_get_idx_from_mm(x,tests_df.loc[x,'data'],tests_df.loc[x,'pos'],tests_df.loc[x,'crack'],23,25))\n",
    "    tests_df['25_27  _idxs']  =  tests_df['index'].apply(lambda x:df_get_idx_from_mm(x,tests_df.loc[x,'data'],tests_df.loc[x,'pos'],tests_df.loc[x,'crack'],25,27))\n",
    "    tests_df['27_29  _idxs']  =  tests_df['index'].apply(lambda x:df_get_idx_from_mm(x,tests_df.loc[x,'data'],tests_df.loc[x,'pos'],tests_df.loc[x,'crack'],27,29))\n",
    "    tests_df['29_31  _idxs']  =  tests_df['index'].apply(lambda x:df_get_idx_from_mm(x,tests_df.loc[x,'data'],tests_df.loc[x,'pos'],tests_df.loc[x,'crack'],29,31))\n",
    "    tests_df['31_33  _idxs']  =  tests_df['index'].apply(lambda x:df_get_idx_from_mm(x,tests_df.loc[x,'data'],tests_df.loc[x,'pos'],tests_df.loc[x,'crack'],31,33))\n",
    "    tests_df['33_35  _idxs']  =  tests_df['index'].apply(lambda x:df_get_idx_from_mm(x,tests_df.loc[x,'data'],tests_df.loc[x,'pos'],tests_df.loc[x,'crack'],33,35))\n",
    "    return (tests_df)\n",
    "tests_df=idx_runner(tests_df)\n",
    "display(tests_df.head())\n",
    "\n",
    "fig,ax=plt.subplots()\n",
    "ax.plot(tests_df.data[0].iloc[-10,6])\n",
    "ax.axvline(tests_df['-35_-33_idxs'][0][1],color='red')\n",
    "ax.axvline(tests_df['-35_-33_idxs'][0][2],color='blue')\n",
    "ax.axvline(tests_df['-35_-33_idxs'][0][0],color='pink')\n",
    "plt.show()\n",
    "test=tests_df"
   ],
   "metadata": {
    "collapsed": false,
    "pycharm": {
     "name": "#%%\n"
    }
   }
  },
  {
   "cell_type": "code",
   "execution_count": 328,
   "outputs": [
    {
     "data": {
      "text/plain": "Index(['paths', 'ok', 'crack', 'pos', 'left_12-5', 'step_start', 'step_stop',\n       'index', 'material', 'senergie/GW',\n       ...\n       '25_27  _rp02_idx', '27_29  _rp02_idx', '29_31  _rp02_idx',\n       '31_33  _rp02_idx', '33_35  _rp02_idx', 'Rp', 'Rpinclpos', 'post',\n       'Rpatsteps', 'Rpinclposstep'],\n      dtype='object', length=199)"
     },
     "metadata": {},
     "output_type": "display_data"
    },
    {
     "data": {
      "text/plain": "(142, 10)"
     },
     "metadata": {},
     "output_type": "display_data"
    },
    {
     "data": {
      "text/plain": "<Figure size 432x288 with 1 Axes>",
      "image/png": "[encoded data removed]"
     },
     "metadata": {},
     "output_type": "display_data"
    }
   ],
   "source": [
    "\n",
    "def df_loc_strain(df,left,right):\n",
    "    strain_p1=[]\n",
    "    for i in df.index:\n",
    "        strain_p1.append(df.loc[i,(      'strains',          'strain_p1')].loc[left:right].mean())\n",
    "    #display(strain_p1)\n",
    "    #plt.plot(strain_p1)\n",
    "    return(strain_p1)\n",
    "\n",
    "display(tests_df.columns)\n",
    "plt.plot(df_loc_strain(tests_df.data[0],tests_df['15_17  _idxs'][0][1],tests_df['15_17  _idxs'][0][2]))\n",
    "display(tests_df.data[0].shape)"
   ],
   "metadata": {
    "collapsed": false,
    "pycharm": {
     "name": "#%%\n"
    }
   }
  },
  {
   "cell_type": "code",
   "execution_count": 329,
   "outputs": [
    {
     "data": {
      "text/plain": "Index(['paths', 'ok', 'crack', 'pos', 'left_12-5', 'step_start', 'step_stop',\n       'index', 'material', 'senergie/GW',\n       ...\n       '25_27  _rp02_idx', '27_29  _rp02_idx', '29_31  _rp02_idx',\n       '31_33  _rp02_idx', '33_35  _rp02_idx', 'Rp', 'Rpinclpos', 'post',\n       'Rpatsteps', 'Rpinclposstep'],\n      dtype='object', length=199)"
     },
     "metadata": {},
     "output_type": "display_data"
    },
    {
     "data": {
      "text/plain": "[<matplotlib.lines.Line2D at 0x1b6f63ae160>]"
     },
     "execution_count": 329,
     "metadata": {},
     "output_type": "execute_result"
    },
    {
     "data": {
      "text/plain": "<Figure size 432x288 with 1 Axes>",
      "image/png": "[encoded data removed]"
     },
     "metadata": {},
     "output_type": "display_data"
    }
   ],
   "source": [
    "tests_df['-35_-33_strain_p1']  = [ df_loc_strain(tests_df.loc[i,'data'],tests_df.loc[i,'-35_-33_idxs'][1],tests_df.loc[i,'-35_-33_idxs'][2]) for i in tests_df.index]\n",
    "tests_df['-33_-31_strain_p1']  = [ df_loc_strain(tests_df.loc[i,'data'],tests_df.loc[i,'-33_-31_idxs'][1],tests_df.loc[i,'-33_-31_idxs'][2]) for i in tests_df.index]\n",
    "tests_df['-31_-29_strain_p1']  = [ df_loc_strain(tests_df.loc[i,'data'],tests_df.loc[i,'-31_-29_idxs'][1],tests_df.loc[i,'-31_-29_idxs'][2]) for i in tests_df.index]\n",
    "tests_df['-29_-27_strain_p1']  = [ df_loc_strain(tests_df.loc[i,'data'],tests_df.loc[i,'-29_-27_idxs'][1],tests_df.loc[i,'-29_-27_idxs'][2]) for i in tests_df.index]\n",
    "tests_df['-27_-25_strain_p1']  = [ df_loc_strain(tests_df.loc[i,'data'],tests_df.loc[i,'-27_-25_idxs'][1],tests_df.loc[i,'-27_-25_idxs'][2]) for i in tests_df.index]\n",
    "tests_df['-25_-23_strain_p1']  = [ df_loc_strain(tests_df.loc[i,'data'],tests_df.loc[i,'-25_-23_idxs'][1],tests_df.loc[i,'-25_-23_idxs'][2]) for i in tests_df.index]\n",
    "tests_df['-23_-21_strain_p1']  = [ df_loc_strain(tests_df.loc[i,'data'],tests_df.loc[i,'-23_-21_idxs'][1],tests_df.loc[i,'-23_-21_idxs'][2]) for i in tests_df.index]\n",
    "tests_df['-21_-19_strain_p1']  = [ df_loc_strain(tests_df.loc[i,'data'],tests_df.loc[i,'-21_-19_idxs'][1],tests_df.loc[i,'-21_-19_idxs'][2]) for i in tests_df.index]\n",
    "tests_df['-19_-17_strain_p1']  = [ df_loc_strain(tests_df.loc[i,'data'],tests_df.loc[i,'-19_-17_idxs'][1],tests_df.loc[i,'-19_-17_idxs'][2]) for i in tests_df.index]\n",
    "tests_df['-17_-15_strain_p1']  = [ df_loc_strain(tests_df.loc[i,'data'],tests_df.loc[i,'-17_-15_idxs'][1],tests_df.loc[i,'-17_-15_idxs'][2]) for i in tests_df.index]\n",
    "tests_df['-15_-13_strain_p1']  = [ df_loc_strain(tests_df.loc[i,'data'],tests_df.loc[i,'-15_-13_idxs'][1],tests_df.loc[i,'-15_-13_idxs'][2]) for i in tests_df.index]\n",
    "tests_df['-13_-11_strain_p1']  = [ df_loc_strain(tests_df.loc[i,'data'],tests_df.loc[i,'-13_-11_idxs'][1],tests_df.loc[i,'-13_-11_idxs'][2]) for i in tests_df.index]\n",
    "tests_df['-11_-9 _strain_p1']  = [ df_loc_strain(tests_df.loc[i,'data'],tests_df.loc[i,'-11_-9 _idxs'][1],tests_df.loc[i,'-11_-9 _idxs'][2]) for i in tests_df.index]\n",
    "tests_df['-9_-7  _strain_p1']  = [ df_loc_strain(tests_df.loc[i,'data'],tests_df.loc[i,'-9_-7  _idxs'][1],tests_df.loc[i,'-9_-7  _idxs'][2]) for i in tests_df.index]\n",
    "tests_df['-7_-5  _strain_p1']  = [ df_loc_strain(tests_df.loc[i,'data'],tests_df.loc[i,'-7_-5  _idxs'][1],tests_df.loc[i,'-7_-5  _idxs'][2]) for i in tests_df.index]\n",
    "tests_df['-5_-3  _strain_p1']  = [ df_loc_strain(tests_df.loc[i,'data'],tests_df.loc[i,'-5_-3  _idxs'][1],tests_df.loc[i,'-5_-3  _idxs'][2]) for i in tests_df.index]\n",
    "tests_df['-3_-1  _strain_p1']  = [ df_loc_strain(tests_df.loc[i,'data'],tests_df.loc[i,'-3_-1  _idxs'][1],tests_df.loc[i,'-3_-1  _idxs'][2]) for i in tests_df.index]\n",
    "tests_df['-1_1   _strain_p1']  = [ df_loc_strain(tests_df.loc[i,'data'],tests_df.loc[i,'-1_1   _idxs'][1],tests_df.loc[i,'-1_1   _idxs'][2]) for i in tests_df.index]\n",
    "tests_df['1_3    _strain_p1']  = [ df_loc_strain(tests_df.loc[i,'data'],tests_df.loc[i,'1_3    _idxs'][1],tests_df.loc[i,'1_3    _idxs'][2]) for i in tests_df.index]\n",
    "tests_df['3_5    _strain_p1']  = [ df_loc_strain(tests_df.loc[i,'data'],tests_df.loc[i,'3_5    _idxs'][1],tests_df.loc[i,'3_5    _idxs'][2]) for i in tests_df.index]\n",
    "tests_df['5_7    _strain_p1']  = [ df_loc_strain(tests_df.loc[i,'data'],tests_df.loc[i,'5_7    _idxs'][1],tests_df.loc[i,'5_7    _idxs'][2]) for i in tests_df.index]\n",
    "tests_df['7_9    _strain_p1']  = [ df_loc_strain(tests_df.loc[i,'data'],tests_df.loc[i,'7_9    _idxs'][1],tests_df.loc[i,'7_9    _idxs'][2]) for i in tests_df.index]\n",
    "tests_df['9_11   _strain_p1']  = [ df_loc_strain(tests_df.loc[i,'data'],tests_df.loc[i,'9_11   _idxs'][1],tests_df.loc[i,'9_11   _idxs'][2]) for i in tests_df.index]\n",
    "tests_df['11_13  _strain_p1']  = [ df_loc_strain(tests_df.loc[i,'data'],tests_df.loc[i,'11_13  _idxs'][1],tests_df.loc[i,'11_13  _idxs'][2]) for i in tests_df.index]\n",
    "tests_df['13_15  _strain_p1']  = [ df_loc_strain(tests_df.loc[i,'data'],tests_df.loc[i,'13_15  _idxs'][1],tests_df.loc[i,'13_15  _idxs'][2]) for i in tests_df.index]\n",
    "tests_df['15_17  _strain_p1']  = [ df_loc_strain(tests_df.loc[i,'data'],tests_df.loc[i,'15_17  _idxs'][1],tests_df.loc[i,'15_17  _idxs'][2]) for i in tests_df.index]\n",
    "tests_df['17_19  _strain_p1']  = [ df_loc_strain(tests_df.loc[i,'data'],tests_df.loc[i,'17_19  _idxs'][1],tests_df.loc[i,'17_19  _idxs'][2]) for i in tests_df.index]\n",
    "tests_df['19_21  _strain_p1']  = [ df_loc_strain(tests_df.loc[i,'data'],tests_df.loc[i,'19_21  _idxs'][1],tests_df.loc[i,'19_21  _idxs'][2]) for i in tests_df.index]\n",
    "tests_df['21_23  _strain_p1']  = [ df_loc_strain(tests_df.loc[i,'data'],tests_df.loc[i,'21_23  _idxs'][1],tests_df.loc[i,'21_23  _idxs'][2]) for i in tests_df.index]\n",
    "tests_df['23_25  _strain_p1']  = [ df_loc_strain(tests_df.loc[i,'data'],tests_df.loc[i,'23_25  _idxs'][1],tests_df.loc[i,'23_25  _idxs'][2]) for i in tests_df.index]\n",
    "tests_df['25_27  _strain_p1']  = [ df_loc_strain(tests_df.loc[i,'data'],tests_df.loc[i,'25_27  _idxs'][1],tests_df.loc[i,'25_27  _idxs'][2]) for i in tests_df.index]\n",
    "tests_df['27_29  _strain_p1']  = [ df_loc_strain(tests_df.loc[i,'data'],tests_df.loc[i,'27_29  _idxs'][1],tests_df.loc[i,'27_29  _idxs'][2]) for i in tests_df.index]\n",
    "tests_df['29_31  _strain_p1']  = [ df_loc_strain(tests_df.loc[i,'data'],tests_df.loc[i,'29_31  _idxs'][1],tests_df.loc[i,'29_31  _idxs'][2]) for i in tests_df.index]\n",
    "tests_df['31_33  _strain_p1']  = [ df_loc_strain(tests_df.loc[i,'data'],tests_df.loc[i,'31_33  _idxs'][1],tests_df.loc[i,'31_33  _idxs'][2]) for i in tests_df.index]\n",
    "tests_df['33_35  _strain_p1']  = [ df_loc_strain(tests_df.loc[i,'data'],tests_df.loc[i,'33_35  _idxs'][1],tests_df.loc[i,'33_35  _idxs'][2]) for i in tests_df.index]\n",
    "display(tests_df.columns)\n",
    "plt.plot(tests_df['9_11   _strain_p1'][0])\n"
   ],
   "metadata": {
    "collapsed": false,
    "pycharm": {
     "name": "#%%\n"
    }
   }
  },
  {
   "cell_type": "code",
   "execution_count": 330,
   "outputs": [
    {
     "data": {
      "text/plain": "<Figure size 432x288 with 1 Axes>",
      "image/png": "[encoded data removed]"
     },
     "metadata": {},
     "output_type": "display_data"
    }
   ],
   "source": [
    "def force_extractor(series):\n",
    "    series=series.copy()\n",
    "    force=[]\n",
    "    for i in series.index:\n",
    "        series[i]=series[i][0][0]\n",
    "\n",
    "    return(series)\n",
    "#display(force_extractor(tests_df.loc['MC_A_6xiii_clipped_cut_lined','data'][(     'add_data',    'analog_channels')]))\n",
    "tests_df['force']= [force_extractor(tests_df.loc[i,'data'][(     'add_data',    'analog_channels')]*60000) for i in tests_df.index]\n",
    "mapper={8:25,6:20}##Martin nach genauen Maßen fragen\n",
    "tests_df['plate_width']=tests_df.plate_thickness.astype(int).map(mapper)\n",
    "tests_df['sample_crossection']=tests_df['plate_width']*tests_df.plate_thickness.astype(int)\n",
    "tests_df['stress']=[[f/tests_df.loc[i,'sample_crossection']for f in tests_df.loc[i,'force']] for i in tests_df.index]\n",
    "plt.plot(tests_df.stress[0])\n",
    "#plt.plot(tests_df.force[0])\n",
    "#plt.plot(tests_df.plate_width)\n",
    "from scipy.signal import savgol_filter as savgol\n",
    "#plt.plot(savgol(tests_df['25_27  _strain_p1'][0],51,4),tests_df['stress'][0])\n",
    "#plt.plot(tests_df['25_27  _strain_p1'][0],tests_df['stress'][0])"
   ],
   "metadata": {
    "collapsed": false,
    "pycharm": {
     "name": "#%%\n"
    }
   }
  },
  {
   "cell_type": "code",
   "execution_count": 331,
   "outputs": [
    {
     "data": {
      "text/plain": "[<matplotlib.lines.Line2D at 0x1b6df728520>]"
     },
     "execution_count": 331,
     "metadata": {},
     "output_type": "execute_result"
    },
    {
     "data": {
      "text/plain": "<Figure size 432x288 with 1 Axes>",
      "image/png": "[encoded data removed]"
     },
     "metadata": {},
     "output_type": "display_data"
    }
   ],
   "source": [
    "tests_df['data_len']=[len(tests_df.loc[i,'data']) for i in tests_df.index]\n",
    "plt.plot(tests_df.data_len)"
   ],
   "metadata": {
    "collapsed": false,
    "pycharm": {
     "name": "#%%\n"
    }
   }
  },
  {
   "cell_type": "code",
   "execution_count": 332,
   "outputs": [
    {
     "data": {
      "text/plain": "Index(['paths', 'ok', 'crack', 'pos', 'left_12-5', 'step_start', 'step_stop',\n       'index', 'material', 'senergie/GW',\n       ...\n       '25_27  _rp02_idx', '27_29  _rp02_idx', '29_31  _rp02_idx',\n       '31_33  _rp02_idx', '33_35  _rp02_idx', 'Rp', 'Rpinclpos', 'post',\n       'Rpatsteps', 'Rpinclposstep'],\n      dtype='object', length=199)"
     },
     "metadata": {},
     "output_type": "display_data"
    }
   ],
   "source": [
    "display(tests_df.columns)\n"
   ],
   "metadata": {
    "collapsed": false,
    "pycharm": {
     "name": "#%%\n"
    }
   }
  },
  {
   "cell_type": "code",
   "execution_count": 345,
   "outputs": [
    {
     "data": {
      "text/plain": "<Figure size 432x288 with 1 Axes>",
      "image/png": "[encoded data removed]"
     },
     "metadata": {},
     "output_type": "display_data"
    },
    {
     "data": {
      "text/plain": "MC_A_6xiii_clipped_cut_lined      [427073.7643967283, -2200.3614753409815]\nMC_A_6xi_clipped_cut_lined       [491704.28304005344, -2910.7556987261332]\nMC_A_8xiii_clipped_cut_lined       [133120.0355083282, -164.1044848582177]\nMC_B_6xiii_clipped_cut_lined     [347203.55059837643, -1461.7671010312138]\nMC_B_6xii_clipped_cut_lined        [422709.9094760347, -2319.038439164081]\nMC_B_6xi_clipped_cut_lined         [895875.4772664716, -5690.201599176763]\nMC_B_8xiii_clipped_cut_lined          [337989.44029977, -1357.30680101446]\nMC_B_8xi_clipped_cut_lined        [316045.8291329083, -1512.4648280855681]\nMC_B_8yi_clipped_cut_lined       [-2310.672276842705, -28.428842326131168]\nMC_GW_6xiii_clipped_cut_lined      [169320.830049105, -1240.6302610595194]\nMC_GW_6xi_clipped_cut_lined       [118622.70919097074, -857.6866853258347]\nMC_GW_6yiii_clipped_cut_lined      [841896.0707981827, -6685.074951260679]\nMC_GW_6yii_clipped_cut_lined       [488253.9019949104, -711.0003351903969]\nMC_GW_6yi_clipped_cut_lined         [396798.7660149222, 72.25905687430205]\nMC_GW_8xi_clipped_cut_lined      [295653.58522931836, -2443.5466449862256]\nMC_GW_8yiii_clipped_cut_lined     [264742.77892918774, 1152.5155198933132]\nMC_GW_8yii_clipped_cut_lined       [103410.17731020755, 2193.767457600819]\nQL_A_6xiii_clipped_cut_lined     [249348.45253838674, -357.67463367278566]\nQL_A_6xii_clipped_cut_lined       [419106.2395538665, -1008.6820105191935]\nQL_A_6xi_clipped_cut_lined         [314383.1073083976, -782.5852943707416]\nQL_A_8xii_clipped_cut_lined       [327907.57746544527, -717.8830810796513]\nQL_A_8xi_clipped_cut_lined        [568627.6689646232, -1510.3058668350504]\nQL_A_8yiii_clipped_cut_lined      [356804.42298602837, -974.9611323284281]\nQL_A_8yi_clipped_cut_lined        [369482.44571161846, -990.0086909406343]\nQL_B_6xiii_clipped_cut_lined      [110376.30135181647, 139.63373610967685]\nQL_B_8xiii_clipped_cut_lined        [264253.8933792632, -592.810241044067]\nQL_B_8xii_clipped_cut_lined       [254053.29543869174, -578.1363068736663]\nQL_B_8yiii_clipped_cut_lined       [407266.7130421596, -983.0106579448857]\nQL_B_8yi_clipped_cut_lined        [545396.9398246802, -1539.4260876809922]\nQL_GW_6xiii_clipped_cut_lined     [175962.07925023494, -321.1028668375175]\nQL_GW_6xi_clipped_cut_lined        [185763.619262126, -139.58038594411323]\nQL_GW_6yiii_clipped_cut_lined                                  [180000, 5]\nQL_GW_6yii_clipped_cut_lined                                   [180000, 5]\nQL_GW_8xii_clipped_cut_lined        [229818.706014115, -483.7289454460034]\nQL_GW_8yii_clipped_cut_lined                                   [180000, 5]\nName: 5_7    _Emod, dtype: object"
     },
     "metadata": {},
     "output_type": "display_data"
    },
    {
     "data": {
      "text/plain": "MC_A_6xiii_clipped_cut_lined     1232.911463\nMC_A_6xi_clipped_cut_lined       1043.971622\nMC_A_8xiii_clipped_cut_lined     1211.429745\nMC_B_6xiii_clipped_cut_lined      971.233891\nMC_B_6xii_clipped_cut_lined       938.593585\nMC_B_6xi_clipped_cut_lined       1029.909821\nMC_B_8xiii_clipped_cut_lined      991.083387\nMC_B_8xi_clipped_cut_lined        996.222307\nMC_B_8yi_clipped_cut_lined        -45.271885\nMC_GW_6xiii_clipped_cut_lined    1053.246651\nMC_GW_6xi_clipped_cut_lined      2222.466604\nMC_GW_6yiii_clipped_cut_lined    1667.083721\nMC_GW_6yii_clipped_cut_lined     4932.034545\nMC_GW_6yi_clipped_cut_lined      4998.183911\nMC_GW_8xi_clipped_cut_lined      1172.508925\nMC_GW_8yiii_clipped_cut_lined    2950.772168\nMC_GW_8yii_clipped_cut_lined     3048.838716\nQL_A_6xiii_clipped_cut_lined     1003.796260\nQL_A_6xii_clipped_cut_lined       937.244770\nQL_A_6xi_clipped_cut_lined       1151.453441\nQL_A_8xii_clipped_cut_lined      1167.754467\nQL_A_8xi_clipped_cut_lined       1039.538363\nQL_A_8yiii_clipped_cut_lined     1122.799045\nQL_A_8yi_clipped_cut_lined       1033.354506\nQL_B_6xiii_clipped_cut_lined      853.634323\nQL_B_8xiii_clipped_cut_lined      858.715063\nQL_B_8xii_clipped_cut_lined       938.971602\nQL_B_8yiii_clipped_cut_lined     1035.875249\nQL_B_8yi_clipped_cut_lined        996.746618\nQL_GW_6xiii_clipped_cut_lined    1281.314404\nQL_GW_6xi_clipped_cut_lined      1342.030864\nQL_GW_6yiii_clipped_cut_lined            NaN\nQL_GW_6yii_clipped_cut_lined             NaN\nQL_GW_8xii_clipped_cut_lined     1263.663085\nQL_GW_8yii_clipped_cut_lined             NaN\nName: 5_7    _rp02, dtype: float64"
     },
     "metadata": {},
     "output_type": "display_data"
    },
    {
     "data": {
      "text/plain": "MC_A_6xiii_clipped_cut_lined      65\nMC_A_6xi_clipped_cut_lined        60\nMC_A_8xiii_clipped_cut_lined      89\nMC_B_6xiii_clipped_cut_lined      58\nMC_B_6xii_clipped_cut_lined       56\nMC_B_6xi_clipped_cut_lined        54\nMC_B_8xiii_clipped_cut_lined      80\nMC_B_8xi_clipped_cut_lined        75\nMC_B_8yi_clipped_cut_lined       204\nMC_GW_6xiii_clipped_cut_lined     15\nMC_GW_6xi_clipped_cut_lined       34\nMC_GW_6yiii_clipped_cut_lined     10\nMC_GW_6yii_clipped_cut_lined     114\nMC_GW_6yi_clipped_cut_lined      235\nMC_GW_8xi_clipped_cut_lined       61\nMC_GW_8yiii_clipped_cut_lined    121\nMC_GW_8yii_clipped_cut_lined     121\nQL_A_6xiii_clipped_cut_lined      58\nQL_A_6xii_clipped_cut_lined       59\nQL_A_6xi_clipped_cut_lined        61\nQL_A_8xii_clipped_cut_lined       86\nQL_A_8xi_clipped_cut_lined        95\nQL_A_8yiii_clipped_cut_lined     165\nQL_A_8yi_clipped_cut_lined       164\nQL_B_6xiii_clipped_cut_lined      53\nQL_B_8xiii_clipped_cut_lined      71\nQL_B_8xii_clipped_cut_lined       74\nQL_B_8yiii_clipped_cut_lined     160\nQL_B_8yi_clipped_cut_lined       150\nQL_GW_6xiii_clipped_cut_lined     79\nQL_GW_6xi_clipped_cut_lined       88\nQL_GW_6yiii_clipped_cut_lined    258\nQL_GW_6yii_clipped_cut_lined     281\nQL_GW_8xii_clipped_cut_lined     111\nQL_GW_8yii_clipped_cut_lined     349\nName: 5_7    _rp02_idx, dtype: int64"
     },
     "metadata": {},
     "output_type": "display_data"
    }
   ],
   "source": [
    "def emod(start,end,stress,strain):\n",
    "    #print(start,end)\n",
    "    #print(type(stress),type(strain))\n",
    "    strain=np.array(strain)\n",
    "    strainc=strain[range(start,end)]\n",
    "    stress=np.array(stress)\n",
    "    stressc=np.array(stress[range(start,end)])\n",
    "    #plt.plot((strainc),(stressc))\n",
    "    try:\n",
    "        z=np.polyfit(list(strainc), list(stressc), 1)\n",
    "        p=np.poly1d(z)\n",
    "        emod=z\n",
    "        n=[p(x) for x in strainc]\n",
    "        return(emod,n)\n",
    "    except:\n",
    "        return ([[180000,5]])\n",
    "def rp02 (emod,stress,strain):\n",
    "    df=pd.DataFrame()\n",
    "    df['stress']=stress\n",
    "    df['strain']=strain\n",
    "    df['rpcurve']=(df.strain*emod[0]+emod[1])-(0.002*emod[0])\n",
    "    idx=df.iloc[(df['stress']-df['rpcurve']).abs().argsort()[:1]].index.tolist()[0]\n",
    "    #print(idx,df.loc[idx,'stress'],df.loc[idx,'rpcurve'])\n",
    "    return (df.loc[idx,'rpcurve'],idx)\n",
    "\n",
    "def smoothing(strain):\n",
    "    try:\n",
    "        return(savgol(strain,51,4))\n",
    "    except:\n",
    "        return strain\n",
    "\n",
    "E=emod(0,int(len(tests_df['stress'][0])*0.3),tests_df['stress'][0],savgol(tests_df['25_27  _strain_p1'][0],51,4))[0]\n",
    "rp=(rp02(E,tests_df['stress'][0],savgol(tests_df['25_27  _strain_p1'][0],51,4))[0])\n",
    "fig,ax=plt.subplots()\n",
    "ax.plot(savgol(tests_df['25_27  _strain_p1'][0],51,4),\n",
    "         [x*E[0]+E[1] for x in savgol(tests_df['25_27  _strain_p1'][0],51,4)]\n",
    "\n",
    "         )\n",
    "ax.plot(savgol(tests_df['25_27  _strain_p1'][0],51,4),\n",
    "         tests_df['stress'][0]\n",
    "\n",
    "         )\n",
    "ax.plot(savgol(tests_df['25_27  _strain_p1'][0],51,4),\n",
    "         [abs((x*E[0]+E[1])-(0.002*E[0])) for x in savgol(tests_df['25_27  _strain_p1'][0],51,4)]\n",
    "\n",
    "         )\n",
    "ax.axhline(rp)\n",
    "plt.show()\n",
    "\n",
    "#for i in test.index[:-3]:\n",
    "#    print(i)\n",
    "#    plt.plot(savgol(tests_df.loc[i,'-33_-31_strain_p1'],41,4))\n",
    "tests_df['-35_-33_Emod']  = [emod(5,int(len(tests_df.loc[i,'stress'])*0.3),tests_df.loc[i,'stress'],smoothing(tests_df.loc[i,'-35_-33_strain_p1']))[0] for i in tests_df.index]\n",
    "tests_df['-33_-31_Emod']  = [emod(5,int(len(tests_df.loc[i,'stress'])*0.3),tests_df.loc[i,'stress'],smoothing(tests_df.loc[i,'-33_-31_strain_p1']))[0] for i in tests_df.index]\n",
    "tests_df['-31_-29_Emod']  = [emod(5,int(len(tests_df.loc[i,'stress'])*0.3),tests_df.loc[i,'stress'],smoothing(tests_df.loc[i,'-31_-29_strain_p1']))[0] for i in tests_df.index]\n",
    "tests_df['-29_-27_Emod']  = [emod(5,int(len(tests_df.loc[i,'stress'])*0.3),tests_df.loc[i,'stress'],smoothing(tests_df.loc[i,'-29_-27_strain_p1']))[0] for i in tests_df.index]\n",
    "tests_df['-27_-25_Emod']  = [emod(5,int(len(tests_df.loc[i,'stress'])*0.3),tests_df.loc[i,'stress'],smoothing(tests_df.loc[i,'-27_-25_strain_p1']))[0] for i in tests_df.index]\n",
    "tests_df['-25_-23_Emod']  = [emod(5,int(len(tests_df.loc[i,'stress'])*0.3),tests_df.loc[i,'stress'],smoothing(tests_df.loc[i,'-25_-23_strain_p1']))[0] for i in tests_df.index]\n",
    "tests_df['-23_-21_Emod']  = [emod(5,int(len(tests_df.loc[i,'stress'])*0.3),tests_df.loc[i,'stress'],smoothing(tests_df.loc[i,'-23_-21_strain_p1']))[0] for i in tests_df.index]\n",
    "tests_df['-21_-19_Emod']  = [emod(5,int(len(tests_df.loc[i,'stress'])*0.3),tests_df.loc[i,'stress'],smoothing(tests_df.loc[i,'-21_-19_strain_p1']))[0] for i in tests_df.index]\n",
    "tests_df['-19_-17_Emod']  = [emod(5,int(len(tests_df.loc[i,'stress'])*0.3),tests_df.loc[i,'stress'],smoothing(tests_df.loc[i,'-19_-17_strain_p1']))[0] for i in tests_df.index]\n",
    "tests_df['-17_-15_Emod']  = [emod(5,int(len(tests_df.loc[i,'stress'])*0.3),tests_df.loc[i,'stress'],smoothing(tests_df.loc[i,'-17_-15_strain_p1']))[0] for i in tests_df.index]\n",
    "tests_df['-15_-13_Emod']  = [emod(5,int(len(tests_df.loc[i,'stress'])*0.3),tests_df.loc[i,'stress'],smoothing(tests_df.loc[i,'-15_-13_strain_p1']))[0] for i in tests_df.index]\n",
    "tests_df['-13_-11_Emod']  = [emod(5,int(len(tests_df.loc[i,'stress'])*0.3),tests_df.loc[i,'stress'],smoothing(tests_df.loc[i,'-13_-11_strain_p1']))[0] for i in tests_df.index]\n",
    "tests_df['-11_-9 _Emod']  = [emod(5,int(len(tests_df.loc[i,'stress'])*0.3),tests_df.loc[i,'stress'],smoothing(tests_df.loc[i,'-11_-9 _strain_p1']))[0] for i in tests_df.index]\n",
    "tests_df['-9_-7  _Emod']  = [emod(5,int(len(tests_df.loc[i,'stress'])*0.3),tests_df.loc[i,'stress'],smoothing(tests_df.loc[i,'-9_-7  _strain_p1']))[0] for i in tests_df.index]\n",
    "tests_df['-7_-5  _Emod']  = [emod(5,int(len(tests_df.loc[i,'stress'])*0.3),tests_df.loc[i,'stress'],smoothing(tests_df.loc[i,'-7_-5  _strain_p1']))[0] for i in tests_df.index]\n",
    "tests_df['-5_-3  _Emod']  = [emod(5,int(len(tests_df.loc[i,'stress'])*0.3),tests_df.loc[i,'stress'],smoothing(tests_df.loc[i,'-5_-3  _strain_p1']))[0] for i in tests_df.index]\n",
    "tests_df['-3_-1  _Emod']  = [emod(5,int(len(tests_df.loc[i,'stress'])*0.3),tests_df.loc[i,'stress'],smoothing(tests_df.loc[i,'-3_-1  _strain_p1']))[0] for i in tests_df.index]\n",
    "tests_df['-1_1   _Emod']  = [emod(5,int(len(tests_df.loc[i,'stress'])*0.3),tests_df.loc[i,'stress'],smoothing(tests_df.loc[i,'-1_1   _strain_p1']))[0] for i in tests_df.index]\n",
    "tests_df['1_3    _Emod']  = [emod(5,int(len(tests_df.loc[i,'stress'])*0.3),tests_df.loc[i,'stress'],smoothing(tests_df.loc[i,'1_3    _strain_p1']))[0] for i in tests_df.index]\n",
    "tests_df['3_5    _Emod']  = [emod(5,int(len(tests_df.loc[i,'stress'])*0.3),tests_df.loc[i,'stress'],smoothing(tests_df.loc[i,'3_5    _strain_p1']))[0] for i in tests_df.index]\n",
    "tests_df['5_7    _Emod']  = [emod(5,int(len(tests_df.loc[i,'stress'])*0.3),tests_df.loc[i,'stress'],smoothing(tests_df.loc[i,'5_7    _strain_p1']))[0] for i in tests_df.index]\n",
    "tests_df['7_9    _Emod']  = [emod(5,int(len(tests_df.loc[i,'stress'])*0.3),tests_df.loc[i,'stress'],smoothing(tests_df.loc[i,'7_9    _strain_p1']))[0] for i in tests_df.index]\n",
    "tests_df['9_11   _Emod']  = [emod(5,int(len(tests_df.loc[i,'stress'])*0.3),tests_df.loc[i,'stress'],smoothing(tests_df.loc[i,'9_11   _strain_p1']))[0] for i in tests_df.index]\n",
    "tests_df['11_13  _Emod']  = [emod(5,int(len(tests_df.loc[i,'stress'])*0.3),tests_df.loc[i,'stress'],smoothing(tests_df.loc[i,'11_13  _strain_p1']))[0] for i in tests_df.index]\n",
    "tests_df['13_15  _Emod']  = [emod(5,int(len(tests_df.loc[i,'stress'])*0.3),tests_df.loc[i,'stress'],smoothing(tests_df.loc[i,'13_15  _strain_p1']))[0] for i in tests_df.index]\n",
    "tests_df['15_17  _Emod']  = [emod(5,int(len(tests_df.loc[i,'stress'])*0.3),tests_df.loc[i,'stress'],smoothing(tests_df.loc[i,'15_17  _strain_p1']))[0] for i in tests_df.index]\n",
    "tests_df['17_19  _Emod']  = [emod(5,int(len(tests_df.loc[i,'stress'])*0.3),tests_df.loc[i,'stress'],smoothing(tests_df.loc[i,'17_19  _strain_p1']))[0] for i in tests_df.index]\n",
    "tests_df['19_21  _Emod']  = [emod(5,int(len(tests_df.loc[i,'stress'])*0.3),tests_df.loc[i,'stress'],smoothing(tests_df.loc[i,'19_21  _strain_p1']))[0] for i in tests_df.index]\n",
    "tests_df['21_23  _Emod']  = [emod(5,int(len(tests_df.loc[i,'stress'])*0.3),tests_df.loc[i,'stress'],smoothing(tests_df.loc[i,'21_23  _strain_p1']))[0] for i in tests_df.index]\n",
    "tests_df['23_25  _Emod']  = [emod(5,int(len(tests_df.loc[i,'stress'])*0.3),tests_df.loc[i,'stress'],smoothing(tests_df.loc[i,'23_25  _strain_p1']))[0] for i in tests_df.index]\n",
    "tests_df['25_27  _Emod']  = [emod(5,int(len(tests_df.loc[i,'stress'])*0.3),tests_df.loc[i,'stress'],smoothing(tests_df.loc[i,'25_27  _strain_p1']))[0] for i in tests_df.index]\n",
    "tests_df['27_29  _Emod']  = [emod(5,int(len(tests_df.loc[i,'stress'])*0.3),tests_df.loc[i,'stress'],smoothing(tests_df.loc[i,'27_29  _strain_p1']))[0] for i in tests_df.index]\n",
    "tests_df['29_31  _Emod']  = [emod(5,int(len(tests_df.loc[i,'stress'])*0.3),tests_df.loc[i,'stress'],smoothing(tests_df.loc[i,'29_31  _strain_p1']))[0] for i in tests_df.index]\n",
    "tests_df['31_33  _Emod']  = [emod(5,int(len(tests_df.loc[i,'stress'])*0.3),tests_df.loc[i,'stress'],smoothing(tests_df.loc[i,'31_33  _strain_p1']))[0] for i in tests_df.index]\n",
    "tests_df['33_35  _Emod']  = [emod(5,int(len(tests_df.loc[i,'stress'])*0.3),tests_df.loc[i,'stress'],smoothing(tests_df.loc[i,'33_35  _strain_p1']))[0] for i in tests_df.index]\n",
    "\n",
    "display(tests_df['5_7    _Emod'])\n",
    "tests_df=tests_df.copy()\n",
    "tests_df['-35_-33_rp02']  = [rp02(E,tests_df.loc[i,'stress'],smoothing(tests_df.loc[i,'-35_-33_strain_p1']))[0] for i in tests_df.index]\n",
    "tests_df['-33_-31_rp02']  = [rp02(E,tests_df.loc[i,'stress'],smoothing(tests_df.loc[i,'-33_-31_strain_p1']))[0] for i in tests_df.index]\n",
    "tests_df['-31_-29_rp02']  = [rp02(E,tests_df.loc[i,'stress'],smoothing(tests_df.loc[i,'-31_-29_strain_p1']))[0] for i in tests_df.index]\n",
    "tests_df['-29_-27_rp02']  = [rp02(E,tests_df.loc[i,'stress'],smoothing(tests_df.loc[i,'-29_-27_strain_p1']))[0] for i in tests_df.index]\n",
    "tests_df['-27_-25_rp02']  = [rp02(E,tests_df.loc[i,'stress'],smoothing(tests_df.loc[i,'-27_-25_strain_p1']))[0] for i in tests_df.index]\n",
    "tests_df['-25_-23_rp02']  = [rp02(E,tests_df.loc[i,'stress'],smoothing(tests_df.loc[i,'-25_-23_strain_p1']))[0] for i in tests_df.index]\n",
    "tests_df['-23_-21_rp02']  = [rp02(E,tests_df.loc[i,'stress'],smoothing(tests_df.loc[i,'-23_-21_strain_p1']))[0] for i in tests_df.index]\n",
    "tests_df['-21_-19_rp02']  = [rp02(E,tests_df.loc[i,'stress'],smoothing(tests_df.loc[i,'-21_-19_strain_p1']))[0] for i in tests_df.index]\n",
    "tests_df['-19_-17_rp02']  = [rp02(E,tests_df.loc[i,'stress'],smoothing(tests_df.loc[i,'-19_-17_strain_p1']))[0] for i in tests_df.index]\n",
    "tests_df['-17_-15_rp02']  = [rp02(E,tests_df.loc[i,'stress'],smoothing(tests_df.loc[i,'-17_-15_strain_p1']))[0] for i in tests_df.index]\n",
    "tests_df['-15_-13_rp02']  = [rp02(E,tests_df.loc[i,'stress'],smoothing(tests_df.loc[i,'-15_-13_strain_p1']))[0] for i in tests_df.index]\n",
    "tests_df['-13_-11_rp02']  = [rp02(E,tests_df.loc[i,'stress'],smoothing(tests_df.loc[i,'-13_-11_strain_p1']))[0] for i in tests_df.index]\n",
    "tests_df['-11_-9 _rp02']  = [rp02(E,tests_df.loc[i,'stress'],smoothing(tests_df.loc[i,'-11_-9 _strain_p1']))[0] for i in tests_df.index]\n",
    "tests_df['-9_-7  _rp02']  = [rp02(E,tests_df.loc[i,'stress'],smoothing(tests_df.loc[i,'-9_-7  _strain_p1']))[0] for i in tests_df.index]\n",
    "tests_df['-7_-5  _rp02']  = [rp02(E,tests_df.loc[i,'stress'],smoothing(tests_df.loc[i,'-7_-5  _strain_p1']))[0] for i in tests_df.index]\n",
    "tests_df['-5_-3  _rp02']  = [rp02(E,tests_df.loc[i,'stress'],smoothing(tests_df.loc[i,'-5_-3  _strain_p1']))[0] for i in tests_df.index]\n",
    "tests_df['-3_-1  _rp02']  = [rp02(E,tests_df.loc[i,'stress'],smoothing(tests_df.loc[i,'-3_-1  _strain_p1']))[0] for i in tests_df.index]\n",
    "tests_df['-1_1   _rp02']  = [rp02(E,tests_df.loc[i,'stress'],smoothing(tests_df.loc[i,'-1_1   _strain_p1']))[0] for i in tests_df.index]\n",
    "tests_df['1_3    _rp02']  = [rp02(E,tests_df.loc[i,'stress'],smoothing(tests_df.loc[i,'1_3    _strain_p1']))[0] for i in tests_df.index]\n",
    "tests_df['3_5    _rp02']  = [rp02(E,tests_df.loc[i,'stress'],smoothing(tests_df.loc[i,'3_5    _strain_p1']))[0] for i in tests_df.index]\n",
    "tests_df['5_7    _rp02']  = [rp02(E,tests_df.loc[i,'stress'],smoothing(tests_df.loc[i,'5_7    _strain_p1']))[0] for i in tests_df.index]\n",
    "tests_df['7_9    _rp02']  = [rp02(E,tests_df.loc[i,'stress'],smoothing(tests_df.loc[i,'7_9    _strain_p1']))[0] for i in tests_df.index]\n",
    "tests_df['9_11   _rp02']  = [rp02(E,tests_df.loc[i,'stress'],smoothing(tests_df.loc[i,'9_11   _strain_p1']))[0] for i in tests_df.index]\n",
    "tests_df['11_13  _rp02']  = [rp02(E,tests_df.loc[i,'stress'],smoothing(tests_df.loc[i,'11_13  _strain_p1']))[0] for i in tests_df.index]\n",
    "tests_df['13_15  _rp02']  = [rp02(E,tests_df.loc[i,'stress'],smoothing(tests_df.loc[i,'13_15  _strain_p1']))[0] for i in tests_df.index]\n",
    "tests_df['15_17  _rp02']  = [rp02(E,tests_df.loc[i,'stress'],smoothing(tests_df.loc[i,'15_17  _strain_p1']))[0] for i in tests_df.index]\n",
    "tests_df['17_19  _rp02']  = [rp02(E,tests_df.loc[i,'stress'],smoothing(tests_df.loc[i,'17_19  _strain_p1']))[0] for i in tests_df.index]\n",
    "tests_df['19_21  _rp02']  = [rp02(E,tests_df.loc[i,'stress'],smoothing(tests_df.loc[i,'19_21  _strain_p1']))[0] for i in tests_df.index]\n",
    "tests_df['21_23  _rp02']  = [rp02(E,tests_df.loc[i,'stress'],smoothing(tests_df.loc[i,'21_23  _strain_p1']))[0] for i in tests_df.index]\n",
    "tests_df['23_25  _rp02']  = [rp02(E,tests_df.loc[i,'stress'],smoothing(tests_df.loc[i,'23_25  _strain_p1']))[0] for i in tests_df.index]\n",
    "tests_df['25_27  _rp02']  = [rp02(E,tests_df.loc[i,'stress'],smoothing(tests_df.loc[i,'25_27  _strain_p1']))[0] for i in tests_df.index]\n",
    "tests_df['27_29  _rp02']  = [rp02(E,tests_df.loc[i,'stress'],smoothing(tests_df.loc[i,'27_29  _strain_p1']))[0] for i in tests_df.index]\n",
    "tests_df['29_31  _rp02']  = [rp02(E,tests_df.loc[i,'stress'],smoothing(tests_df.loc[i,'29_31  _strain_p1']))[0] for i in tests_df.index]\n",
    "tests_df['31_33  _rp02']  = [rp02(E,tests_df.loc[i,'stress'],smoothing(tests_df.loc[i,'31_33  _strain_p1']))[0] for i in tests_df.index]\n",
    "tests_df['33_35  _rp02']  = [rp02(E,tests_df.loc[i,'stress'],smoothing(tests_df.loc[i,'33_35  _strain_p1']))[0] for i in tests_df.index]\n",
    "tests_df=tests_df.copy()\n",
    "display(tests_df['5_7    _rp02'])\n",
    "def rp02_idx(tests_df):\n",
    "    tests_df['-35_-33_rp02_idx']  = [rp02(E,tests_df.loc[i,'stress'],smoothing(tests_df.loc[i,'-35_-33_strain_p1']))[1] for i in tests_df.index]\n",
    "    tests_df['-33_-31_rp02_idx']  = [rp02(E,tests_df.loc[i,'stress'],smoothing(tests_df.loc[i,'-33_-31_strain_p1']))[1] for i in tests_df.index]\n",
    "    tests_df['-31_-29_rp02_idx']  = [rp02(E,tests_df.loc[i,'stress'],smoothing(tests_df.loc[i,'-31_-29_strain_p1']))[1] for i in tests_df.index]\n",
    "    tests_df['-29_-27_rp02_idx']  = [rp02(E,tests_df.loc[i,'stress'],smoothing(tests_df.loc[i,'-29_-27_strain_p1']))[1] for i in tests_df.index]\n",
    "    tests_df['-27_-25_rp02_idx']  = [rp02(E,tests_df.loc[i,'stress'],smoothing(tests_df.loc[i,'-27_-25_strain_p1']))[1] for i in tests_df.index]\n",
    "    tests_df['-25_-23_rp02_idx']  = [rp02(E,tests_df.loc[i,'stress'],smoothing(tests_df.loc[i,'-25_-23_strain_p1']))[1] for i in tests_df.index]\n",
    "    tests_df['-23_-21_rp02_idx']  = [rp02(E,tests_df.loc[i,'stress'],smoothing(tests_df.loc[i,'-23_-21_strain_p1']))[1] for i in tests_df.index]\n",
    "    tests_df['-21_-19_rp02_idx']  = [rp02(E,tests_df.loc[i,'stress'],smoothing(tests_df.loc[i,'-21_-19_strain_p1']))[1] for i in tests_df.index]\n",
    "    tests_df['-19_-17_rp02_idx']  = [rp02(E,tests_df.loc[i,'stress'],smoothing(tests_df.loc[i,'-19_-17_strain_p1']))[1] for i in tests_df.index]\n",
    "    tests_df['-17_-15_rp02_idx']  = [rp02(E,tests_df.loc[i,'stress'],smoothing(tests_df.loc[i,'-17_-15_strain_p1']))[1] for i in tests_df.index]\n",
    "    tests_df['-15_-13_rp02_idx']  = [rp02(E,tests_df.loc[i,'stress'],smoothing(tests_df.loc[i,'-15_-13_strain_p1']))[1] for i in tests_df.index]\n",
    "    tests_df['-13_-11_rp02_idx']  = [rp02(E,tests_df.loc[i,'stress'],smoothing(tests_df.loc[i,'-13_-11_strain_p1']))[1] for i in tests_df.index]\n",
    "    tests_df['-11_-9 _rp02_idx']  = [rp02(E,tests_df.loc[i,'stress'],smoothing(tests_df.loc[i,'-11_-9 _strain_p1']))[1] for i in tests_df.index]\n",
    "    tests_df['-9_-7  _rp02_idx']  = [rp02(E,tests_df.loc[i,'stress'],smoothing(tests_df.loc[i,'-9_-7  _strain_p1']))[1] for i in tests_df.index]\n",
    "    tests_df['-7_-5  _rp02_idx']  = [rp02(E,tests_df.loc[i,'stress'],smoothing(tests_df.loc[i,'-7_-5  _strain_p1']))[1] for i in tests_df.index]\n",
    "    tests_df['-5_-3  _rp02_idx']  = [rp02(E,tests_df.loc[i,'stress'],smoothing(tests_df.loc[i,'-5_-3  _strain_p1']))[1] for i in tests_df.index]\n",
    "    tests_df['-3_-1  _rp02_idx']  = [rp02(E,tests_df.loc[i,'stress'],smoothing(tests_df.loc[i,'-3_-1  _strain_p1']))[1] for i in tests_df.index]\n",
    "    tests_df['-1_1   _rp02_idx']  = [rp02(E,tests_df.loc[i,'stress'],smoothing(tests_df.loc[i,'-1_1   _strain_p1']))[1] for i in tests_df.index]\n",
    "    tests_df['1_3    _rp02_idx']  = [rp02(E,tests_df.loc[i,'stress'],smoothing(tests_df.loc[i,'1_3    _strain_p1']))[1] for i in tests_df.index]\n",
    "    tests_df['3_5    _rp02_idx']  = [rp02(E,tests_df.loc[i,'stress'],smoothing(tests_df.loc[i,'3_5    _strain_p1']))[1] for i in tests_df.index]\n",
    "    tests_df['5_7    _rp02_idx']  = [rp02(E,tests_df.loc[i,'stress'],smoothing(tests_df.loc[i,'5_7    _strain_p1']))[1] for i in tests_df.index]\n",
    "    tests_df['7_9    _rp02_idx']  = [rp02(E,tests_df.loc[i,'stress'],smoothing(tests_df.loc[i,'7_9    _strain_p1']))[1] for i in tests_df.index]\n",
    "    tests_df['9_11   _rp02_idx']  = [rp02(E,tests_df.loc[i,'stress'],smoothing(tests_df.loc[i,'9_11   _strain_p1']))[1] for i in tests_df.index]\n",
    "    tests_df['11_13  _rp02_idx']  = [rp02(E,tests_df.loc[i,'stress'],smoothing(tests_df.loc[i,'11_13  _strain_p1']))[1] for i in tests_df.index]\n",
    "    tests_df['13_15  _rp02_idx']  = [rp02(E,tests_df.loc[i,'stress'],smoothing(tests_df.loc[i,'13_15  _strain_p1']))[1] for i in tests_df.index]\n",
    "    tests_df['15_17  _rp02_idx']  = [rp02(E,tests_df.loc[i,'stress'],smoothing(tests_df.loc[i,'15_17  _strain_p1']))[1] for i in tests_df.index]\n",
    "    tests_df['17_19  _rp02_idx']  = [rp02(E,tests_df.loc[i,'stress'],smoothing(tests_df.loc[i,'17_19  _strain_p1']))[1] for i in tests_df.index]\n",
    "    tests_df['19_21  _rp02_idx']  = [rp02(E,tests_df.loc[i,'stress'],smoothing(tests_df.loc[i,'19_21  _strain_p1']))[1] for i in tests_df.index]\n",
    "    tests_df['21_23  _rp02_idx']  = [rp02(E,tests_df.loc[i,'stress'],smoothing(tests_df.loc[i,'21_23  _strain_p1']))[1] for i in tests_df.index]\n",
    "    tests_df['23_25  _rp02_idx']  = [rp02(E,tests_df.loc[i,'stress'],smoothing(tests_df.loc[i,'23_25  _strain_p1']))[1] for i in tests_df.index]\n",
    "    tests_df['25_27  _rp02_idx']  = [rp02(E,tests_df.loc[i,'stress'],smoothing(tests_df.loc[i,'25_27  _strain_p1']))[1] for i in tests_df.index]\n",
    "    tests_df['27_29  _rp02_idx']  = [rp02(E,tests_df.loc[i,'stress'],smoothing(tests_df.loc[i,'27_29  _strain_p1']))[1] for i in tests_df.index]\n",
    "    tests_df['29_31  _rp02_idx']  = [rp02(E,tests_df.loc[i,'stress'],smoothing(tests_df.loc[i,'29_31  _strain_p1']))[1] for i in tests_df.index]\n",
    "    tests_df['31_33  _rp02_idx']  = [rp02(E,tests_df.loc[i,'stress'],smoothing(tests_df.loc[i,'31_33  _strain_p1']))[1] for i in tests_df.index]\n",
    "    tests_df['33_35  _rp02_idx']  = [rp02(E,tests_df.loc[i,'stress'],smoothing(tests_df.loc[i,'33_35  _strain_p1']))[1] for i in tests_df.index]\n",
    "    tests_df=tests_df.copy()\n",
    "    display(tests_df['5_7    _rp02_idx'])\n",
    "    return(tests_df)\n",
    "tests_df=rp02_idx(tests_df)\n",
    "#def meaner (series):\n",
    "#    means=[]\n",
    "#    for"
   ],
   "metadata": {
    "collapsed": false,
    "pycharm": {
     "name": "#%%\n"
    }
   }
  },
  {
   "cell_type": "code",
   "execution_count": 346,
   "outputs": [
    {
     "data": {
      "text/plain": "                                                                          paths  \\\nMC_A_6xiii_clipped_cut_lined  Y:\\Istra Repositories\\ch-gr_exports\\MC_A_6xiii...   \nMC_A_6xi_clipped_cut_lined    Y:\\Istra Repositories\\ch-gr_exports\\MC_A_6xi_c...   \nMC_A_8xiii_clipped_cut_lined  Y:\\Istra Repositories\\ch-gr_exports\\MC_A_8xiii...   \nMC_B_6xiii_clipped_cut_lined  Y:\\Istra Repositories\\ch-gr_exports\\MC_B_6xiii...   \nMC_B_6xii_clipped_cut_lined   Y:\\Istra Repositories\\ch-gr_exports\\MC_B_6xii_...   \n\n                               ok  crack    pos  left_12-5  step_start  \\\nMC_A_6xiii_clipped_cut_lined  1.0  115.0  119.0       99.0        45.0   \nMC_A_6xi_clipped_cut_lined    1.0  135.0  143.0      123.0       110.0   \nMC_A_8xiii_clipped_cut_lined  1.0  170.0  117.5       97.5        32.5   \nMC_B_6xiii_clipped_cut_lined  1.0   90.0   90.0       70.0        37.5   \nMC_B_6xii_clipped_cut_lined   1.0  122.0  121.0      101.0        27.5   \n\n                              step_stop                         index  \\\nMC_A_6xiii_clipped_cut_lined      187.5  MC_A_6xiii_clipped_cut_lined   \nMC_A_6xi_clipped_cut_lined        230.0    MC_A_6xi_clipped_cut_lined   \nMC_A_8xiii_clipped_cut_lined      355.0  MC_A_8xiii_clipped_cut_lined   \nMC_B_6xiii_clipped_cut_lined      172.5  MC_B_6xiii_clipped_cut_lined   \nMC_B_6xii_clipped_cut_lined       160.0   MC_B_6xii_clipped_cut_lined   \n\n                             material senergie/GW  ... 25_27  _rp02_idx  \\\nMC_A_6xiii_clipped_cut_lined       MC           A  ...              128   \nMC_A_6xi_clipped_cut_lined         MC           A  ...               93   \nMC_A_8xiii_clipped_cut_lined       MC           A  ...              109   \nMC_B_6xiii_clipped_cut_lined       MC           B  ...               49   \nMC_B_6xii_clipped_cut_lined        MC           B  ...              122   \n\n                             27_29  _rp02_idx 29_31  _rp02_idx  \\\nMC_A_6xiii_clipped_cut_lined              105              106   \nMC_A_6xi_clipped_cut_lined                 93               93   \nMC_A_8xiii_clipped_cut_lined              112              113   \nMC_B_6xiii_clipped_cut_lined              106               95   \nMC_B_6xii_clipped_cut_lined               112              100   \n\n                             31_33  _rp02_idx 33_35  _rp02_idx  \\\nMC_A_6xiii_clipped_cut_lined              121               98   \nMC_A_6xi_clipped_cut_lined                 93               93   \nMC_A_8xiii_clipped_cut_lined              117              121   \nMC_B_6xiii_clipped_cut_lined              123              121   \nMC_B_6xii_clipped_cut_lined               130              132   \n\n                                                                             Rp  \\\nMC_A_6xiii_clipped_cut_lined  [1204.4481996886757, 1128.5487458455787, 1188....   \nMC_A_6xi_clipped_cut_lined    [1203.8424897133077, 1181.0288628405992, 1217....   \nMC_A_8xiii_clipped_cut_lined  [1219.270807317664, 1188.6837439676333, 1187.9...   \nMC_B_6xiii_clipped_cut_lined  [-1000.4206839485282, -436.549963555648, -268....   \nMC_B_6xii_clipped_cut_lined   [743.6838599003045, 913.5642766552933, 1029.94...   \n\n                                                                      Rpinclpos  \\\nMC_A_6xiii_clipped_cut_lined  [1204.4481996886757_-34.0_[104, 139, 97, 99, 1...   \nMC_A_6xi_clipped_cut_lined    [1203.8424897133077_-34.0_[99, 92, 90, 91, 93,...   \nMC_A_8xiii_clipped_cut_lined  [1219.270807317664_-34.0_[132, 127, 126, 124, ...   \nMC_B_6xiii_clipped_cut_lined  [-1000.4206839485282_-34.0_[4, 58, 134, 134, 1...   \nMC_B_6xii_clipped_cut_lined   [743.6838599003045_-34.0_[59, 78, 130, 130, 13...   \n\n                                                                           post  \\\nMC_A_6xiii_clipped_cut_lined  [1204.4481996886757, 1128.5487458455787, 1188....   \nMC_A_6xi_clipped_cut_lined    [1203.8424897133077, 1181.0288628405992, 1217....   \nMC_A_8xiii_clipped_cut_lined  [1219.270807317664, 1188.6837439676333, 1187.9...   \nMC_B_6xiii_clipped_cut_lined  [-1000.4206839485282, -436.549963555648, -268....   \nMC_B_6xii_clipped_cut_lined   [743.6838599003045, 913.5642766552933, 1029.94...   \n\n                                                                      Rpatsteps  \\\nMC_A_6xiii_clipped_cut_lined  [104, 139, 97, 99, 102, 95, 94, 95, 85, 78, 60...   \nMC_A_6xi_clipped_cut_lined    [99, 92, 90, 91, 93, 92, 91, 83, 72, 65, 62, 6...   \nMC_A_8xiii_clipped_cut_lined  [132, 127, 126, 124, 121, 115, 111, 107, 103, ...   \nMC_B_6xiii_clipped_cut_lined  [4, 58, 134, 134, 134, 100, 100, 134, 92, 124,...   \nMC_B_6xii_clipped_cut_lined   [59, 78, 130, 130, 132, 132, 82, 84, 132, 69, ...   \n\n                                                                  Rpinclposstep  \nMC_A_6xiii_clipped_cut_lined  [1204.4481996886757_-34.0_104, 1128.5487458455...  \nMC_A_6xi_clipped_cut_lined    [1203.8424897133077_-34.0_99, 1181.02886284059...  \nMC_A_8xiii_clipped_cut_lined  [1219.270807317664_-34.0_132, 1188.68374396763...  \nMC_B_6xiii_clipped_cut_lined  [-1000.4206839485282_-34.0_4, -436.54996355564...  \nMC_B_6xii_clipped_cut_lined   [743.6838599003045_-34.0_59, 913.5642766552933...  \n\n[5 rows x 199 columns]",
      "text/html": "<div>\n<style scoped>\n    .dataframe tbody tr th:only-of-type {\n        vertical-align: middle;\n    }\n\n    .dataframe tbody tr th {\n        vertical-align: top;\n    }\n\n    .dataframe thead th {\n        text-align: right;\n    }\n</style>\n<table border=\"1\" class=\"dataframe\">\n  <thead>\n    <tr style=\"text-align: right;\">\n      <th></th>\n      <th>paths</th>\n      <th>ok</th>\n      <th>crack</th>\n      <th>pos</th>\n      <th>left_12-5</th>\n      <th>step_start</th>\n      <th>step_stop</th>\n      <th>index</th>\n      <th>material</th>\n      <th>senergie/GW</th>\n      <th>...</th>\n      <th>25_27  _rp02_idx</th>\n      <th>27_29  _rp02_idx</th>\n      <th>29_31  _rp02_idx</th>\n      <th>31_33  _rp02_idx</th>\n      <th>33_35  _rp02_idx</th>\n      <th>Rp</th>\n      <th>Rpinclpos</th>\n      <th>post</th>\n      <th>Rpatsteps</th>\n      <th>Rpinclposstep</th>\n    </tr>\n  </thead>\n  <tbody>\n    <tr>\n      <th>MC_A_6xiii_clipped_cut_lined</th>\n      <td>Y:\\Istra Repositories\\ch-gr_exports\\MC_A_6xiii...</td>\n      <td>1.0</td>\n      <td>115.0</td>\n      <td>119.0</td>\n      <td>99.0</td>\n      <td>45.0</td>\n      <td>187.5</td>\n      <td>MC_A_6xiii_clipped_cut_lined</td>\n      <td>MC</td>\n      <td>A</td>\n      <td>...</td>\n      <td>128</td>\n      <td>105</td>\n      <td>106</td>\n      <td>121</td>\n      <td>98</td>\n      <td>[1204.4481996886757, 1128.5487458455787, 1188....</td>\n      <td>[1204.4481996886757_-34.0_[104, 139, 97, 99, 1...</td>\n      <td>[1204.4481996886757, 1128.5487458455787, 1188....</td>\n      <td>[104, 139, 97, 99, 102, 95, 94, 95, 85, 78, 60...</td>\n      <td>[1204.4481996886757_-34.0_104, 1128.5487458455...</td>\n    </tr>\n    <tr>\n      <th>MC_A_6xi_clipped_cut_lined</th>\n      <td>Y:\\Istra Repositories\\ch-gr_exports\\MC_A_6xi_c...</td>\n      <td>1.0</td>\n      <td>135.0</td>\n      <td>143.0</td>\n      <td>123.0</td>\n      <td>110.0</td>\n      <td>230.0</td>\n      <td>MC_A_6xi_clipped_cut_lined</td>\n      <td>MC</td>\n      <td>A</td>\n      <td>...</td>\n      <td>93</td>\n      <td>93</td>\n      <td>93</td>\n      <td>93</td>\n      <td>93</td>\n      <td>[1203.8424897133077, 1181.0288628405992, 1217....</td>\n      <td>[1203.8424897133077_-34.0_[99, 92, 90, 91, 93,...</td>\n      <td>[1203.8424897133077, 1181.0288628405992, 1217....</td>\n      <td>[99, 92, 90, 91, 93, 92, 91, 83, 72, 65, 62, 6...</td>\n      <td>[1203.8424897133077_-34.0_99, 1181.02886284059...</td>\n    </tr>\n    <tr>\n      <th>MC_A_8xiii_clipped_cut_lined</th>\n      <td>Y:\\Istra Repositories\\ch-gr_exports\\MC_A_8xiii...</td>\n      <td>1.0</td>\n      <td>170.0</td>\n      <td>117.5</td>\n      <td>97.5</td>\n      <td>32.5</td>\n      <td>355.0</td>\n      <td>MC_A_8xiii_clipped_cut_lined</td>\n      <td>MC</td>\n      <td>A</td>\n      <td>...</td>\n      <td>109</td>\n      <td>112</td>\n      <td>113</td>\n      <td>117</td>\n      <td>121</td>\n      <td>[1219.270807317664, 1188.6837439676333, 1187.9...</td>\n      <td>[1219.270807317664_-34.0_[132, 127, 126, 124, ...</td>\n      <td>[1219.270807317664, 1188.6837439676333, 1187.9...</td>\n      <td>[132, 127, 126, 124, 121, 115, 111, 107, 103, ...</td>\n      <td>[1219.270807317664_-34.0_132, 1188.68374396763...</td>\n    </tr>\n    <tr>\n      <th>MC_B_6xiii_clipped_cut_lined</th>\n      <td>Y:\\Istra Repositories\\ch-gr_exports\\MC_B_6xiii...</td>\n      <td>1.0</td>\n      <td>90.0</td>\n      <td>90.0</td>\n      <td>70.0</td>\n      <td>37.5</td>\n      <td>172.5</td>\n      <td>MC_B_6xiii_clipped_cut_lined</td>\n      <td>MC</td>\n      <td>B</td>\n      <td>...</td>\n      <td>49</td>\n      <td>106</td>\n      <td>95</td>\n      <td>123</td>\n      <td>121</td>\n      <td>[-1000.4206839485282, -436.549963555648, -268....</td>\n      <td>[-1000.4206839485282_-34.0_[4, 58, 134, 134, 1...</td>\n      <td>[-1000.4206839485282, -436.549963555648, -268....</td>\n      <td>[4, 58, 134, 134, 134, 100, 100, 134, 92, 124,...</td>\n      <td>[-1000.4206839485282_-34.0_4, -436.54996355564...</td>\n    </tr>\n    <tr>\n      <th>MC_B_6xii_clipped_cut_lined</th>\n      <td>Y:\\Istra Repositories\\ch-gr_exports\\MC_B_6xii_...</td>\n      <td>1.0</td>\n      <td>122.0</td>\n      <td>121.0</td>\n      <td>101.0</td>\n      <td>27.5</td>\n      <td>160.0</td>\n      <td>MC_B_6xii_clipped_cut_lined</td>\n      <td>MC</td>\n      <td>B</td>\n      <td>...</td>\n      <td>122</td>\n      <td>112</td>\n      <td>100</td>\n      <td>130</td>\n      <td>132</td>\n      <td>[743.6838599003045, 913.5642766552933, 1029.94...</td>\n      <td>[743.6838599003045_-34.0_[59, 78, 130, 130, 13...</td>\n      <td>[743.6838599003045, 913.5642766552933, 1029.94...</td>\n      <td>[59, 78, 130, 130, 132, 132, 82, 84, 132, 69, ...</td>\n      <td>[743.6838599003045_-34.0_59, 913.5642766552933...</td>\n    </tr>\n  </tbody>\n</table>\n<p>5 rows × 199 columns</p>\n</div>"
     },
     "metadata": {},
     "output_type": "display_data"
    },
    {
     "data": {
      "text/plain": "                                                                          paths  \\\nMC_A_6xiii_clipped_cut_lined  Y:\\Istra Repositories\\ch-gr_exports\\MC_A_6xiii...   \nMC_A_6xi_clipped_cut_lined    Y:\\Istra Repositories\\ch-gr_exports\\MC_A_6xi_c...   \nMC_A_8xiii_clipped_cut_lined  Y:\\Istra Repositories\\ch-gr_exports\\MC_A_8xiii...   \nMC_B_6xiii_clipped_cut_lined  Y:\\Istra Repositories\\ch-gr_exports\\MC_B_6xiii...   \nMC_B_6xii_clipped_cut_lined   Y:\\Istra Repositories\\ch-gr_exports\\MC_B_6xii_...   \n\n                               ok  crack    pos  left_12-5  step_start  \\\nMC_A_6xiii_clipped_cut_lined  1.0  115.0  119.0       99.0        45.0   \nMC_A_6xi_clipped_cut_lined    1.0  135.0  143.0      123.0       110.0   \nMC_A_8xiii_clipped_cut_lined  1.0  170.0  117.5       97.5        32.5   \nMC_B_6xiii_clipped_cut_lined  1.0   90.0   90.0       70.0        37.5   \nMC_B_6xii_clipped_cut_lined   1.0  122.0  121.0      101.0        27.5   \n\n                              step_stop                         index  \\\nMC_A_6xiii_clipped_cut_lined      187.5  MC_A_6xiii_clipped_cut_lined   \nMC_A_6xi_clipped_cut_lined        230.0    MC_A_6xi_clipped_cut_lined   \nMC_A_8xiii_clipped_cut_lined      355.0  MC_A_8xiii_clipped_cut_lined   \nMC_B_6xiii_clipped_cut_lined      172.5  MC_B_6xiii_clipped_cut_lined   \nMC_B_6xii_clipped_cut_lined       160.0   MC_B_6xii_clipped_cut_lined   \n\n                             material senergie/GW plate_thickness testspeed  \\\nMC_A_6xiii_clipped_cut_lined       MC           A               6         x   \nMC_A_6xi_clipped_cut_lined         MC           A               6         x   \nMC_A_8xiii_clipped_cut_lined       MC           A               8         x   \nMC_B_6xiii_clipped_cut_lined       MC           B               6         x   \nMC_B_6xii_clipped_cut_lined        MC           B               6         x   \n\n                             running_number  \\\nMC_A_6xiii_clipped_cut_lined            iii   \nMC_A_6xi_clipped_cut_lined                i   \nMC_A_8xiii_clipped_cut_lined            iii   \nMC_B_6xiii_clipped_cut_lined            iii   \nMC_B_6xii_clipped_cut_lined              ii   \n\n                                                                           data  \\\nMC_A_6xiii_clipped_cut_lined  group                                         ...   \nMC_A_6xi_clipped_cut_lined    group                                         ...   \nMC_A_8xiii_clipped_cut_lined  group                                         ...   \nMC_B_6xiii_clipped_cut_lined  group                                         ...   \nMC_B_6xii_clipped_cut_lined   group                                         ...   \n\n                                                                             Rp  \\\nMC_A_6xiii_clipped_cut_lined  [1204.4481996886757, 1128.5487458455787, 1188....   \nMC_A_6xi_clipped_cut_lined    [1203.8424897133077, 1181.0288628405992, 1217....   \nMC_A_8xiii_clipped_cut_lined  [1219.270807317664, 1188.6837439676333, 1187.9...   \nMC_B_6xiii_clipped_cut_lined  [-1000.4206839485282, -436.549963555648, -268....   \nMC_B_6xii_clipped_cut_lined   [743.6838599003045, 913.5642766552933, 1029.94...   \n\n                                                                           post  \\\nMC_A_6xiii_clipped_cut_lined  [1204.4481996886757, 1128.5487458455787, 1188....   \nMC_A_6xi_clipped_cut_lined    [1203.8424897133077, 1181.0288628405992, 1217....   \nMC_A_8xiii_clipped_cut_lined  [1219.270807317664, 1188.6837439676333, 1187.9...   \nMC_B_6xiii_clipped_cut_lined  [-1000.4206839485282, -436.549963555648, -268....   \nMC_B_6xii_clipped_cut_lined   [743.6838599003045, 913.5642766552933, 1029.94...   \n\n                                                                  Rpinclposstep  \nMC_A_6xiii_clipped_cut_lined  [1204.4481996886757_-34.0_104, 1128.5487458455...  \nMC_A_6xi_clipped_cut_lined    [1203.8424897133077_-34.0_99, 1181.02886284059...  \nMC_A_8xiii_clipped_cut_lined  [1219.270807317664_-34.0_132, 1188.68374396763...  \nMC_B_6xiii_clipped_cut_lined  [-1000.4206839485282_-34.0_4, -436.54996355564...  \nMC_B_6xii_clipped_cut_lined   [743.6838599003045_-34.0_59, 913.5642766552933...  ",
      "text/html": "<div>\n<style scoped>\n    .dataframe tbody tr th:only-of-type {\n        vertical-align: middle;\n    }\n\n    .dataframe tbody tr th {\n        vertical-align: top;\n    }\n\n    .dataframe thead th {\n        text-align: right;\n    }\n</style>\n<table border=\"1\" class=\"dataframe\">\n  <thead>\n    <tr style=\"text-align: right;\">\n      <th></th>\n      <th>paths</th>\n      <th>ok</th>\n      <th>crack</th>\n      <th>pos</th>\n      <th>left_12-5</th>\n      <th>step_start</th>\n      <th>step_stop</th>\n      <th>index</th>\n      <th>material</th>\n      <th>senergie/GW</th>\n      <th>plate_thickness</th>\n      <th>testspeed</th>\n      <th>running_number</th>\n      <th>data</th>\n      <th>Rp</th>\n      <th>post</th>\n      <th>Rpinclposstep</th>\n    </tr>\n  </thead>\n  <tbody>\n    <tr>\n      <th>MC_A_6xiii_clipped_cut_lined</th>\n      <td>Y:\\Istra Repositories\\ch-gr_exports\\MC_A_6xiii...</td>\n      <td>1.0</td>\n      <td>115.0</td>\n      <td>119.0</td>\n      <td>99.0</td>\n      <td>45.0</td>\n      <td>187.5</td>\n      <td>MC_A_6xiii_clipped_cut_lined</td>\n      <td>MC</td>\n      <td>A</td>\n      <td>6</td>\n      <td>x</td>\n      <td>iii</td>\n      <td>group                                         ...</td>\n      <td>[1204.4481996886757, 1128.5487458455787, 1188....</td>\n      <td>[1204.4481996886757, 1128.5487458455787, 1188....</td>\n      <td>[1204.4481996886757_-34.0_104, 1128.5487458455...</td>\n    </tr>\n    <tr>\n      <th>MC_A_6xi_clipped_cut_lined</th>\n      <td>Y:\\Istra Repositories\\ch-gr_exports\\MC_A_6xi_c...</td>\n      <td>1.0</td>\n      <td>135.0</td>\n      <td>143.0</td>\n      <td>123.0</td>\n      <td>110.0</td>\n      <td>230.0</td>\n      <td>MC_A_6xi_clipped_cut_lined</td>\n      <td>MC</td>\n      <td>A</td>\n      <td>6</td>\n      <td>x</td>\n      <td>i</td>\n      <td>group                                         ...</td>\n      <td>[1203.8424897133077, 1181.0288628405992, 1217....</td>\n      <td>[1203.8424897133077, 1181.0288628405992, 1217....</td>\n      <td>[1203.8424897133077_-34.0_99, 1181.02886284059...</td>\n    </tr>\n    <tr>\n      <th>MC_A_8xiii_clipped_cut_lined</th>\n      <td>Y:\\Istra Repositories\\ch-gr_exports\\MC_A_8xiii...</td>\n      <td>1.0</td>\n      <td>170.0</td>\n      <td>117.5</td>\n      <td>97.5</td>\n      <td>32.5</td>\n      <td>355.0</td>\n      <td>MC_A_8xiii_clipped_cut_lined</td>\n      <td>MC</td>\n      <td>A</td>\n      <td>8</td>\n      <td>x</td>\n      <td>iii</td>\n      <td>group                                         ...</td>\n      <td>[1219.270807317664, 1188.6837439676333, 1187.9...</td>\n      <td>[1219.270807317664, 1188.6837439676333, 1187.9...</td>\n      <td>[1219.270807317664_-34.0_132, 1188.68374396763...</td>\n    </tr>\n    <tr>\n      <th>MC_B_6xiii_clipped_cut_lined</th>\n      <td>Y:\\Istra Repositories\\ch-gr_exports\\MC_B_6xiii...</td>\n      <td>1.0</td>\n      <td>90.0</td>\n      <td>90.0</td>\n      <td>70.0</td>\n      <td>37.5</td>\n      <td>172.5</td>\n      <td>MC_B_6xiii_clipped_cut_lined</td>\n      <td>MC</td>\n      <td>B</td>\n      <td>6</td>\n      <td>x</td>\n      <td>iii</td>\n      <td>group                                         ...</td>\n      <td>[-1000.4206839485282, -436.549963555648, -268....</td>\n      <td>[-1000.4206839485282, -436.549963555648, -268....</td>\n      <td>[-1000.4206839485282_-34.0_4, -436.54996355564...</td>\n    </tr>\n    <tr>\n      <th>MC_B_6xii_clipped_cut_lined</th>\n      <td>Y:\\Istra Repositories\\ch-gr_exports\\MC_B_6xii_...</td>\n      <td>1.0</td>\n      <td>122.0</td>\n      <td>121.0</td>\n      <td>101.0</td>\n      <td>27.5</td>\n      <td>160.0</td>\n      <td>MC_B_6xii_clipped_cut_lined</td>\n      <td>MC</td>\n      <td>B</td>\n      <td>6</td>\n      <td>x</td>\n      <td>ii</td>\n      <td>group                                         ...</td>\n      <td>[743.6838599003045, 913.5642766552933, 1029.94...</td>\n      <td>[743.6838599003045, 913.5642766552933, 1029.94...</td>\n      <td>[743.6838599003045_-34.0_59, 913.5642766552933...</td>\n    </tr>\n  </tbody>\n</table>\n</div>"
     },
     "metadata": {},
     "output_type": "display_data"
    }
   ],
   "source": [
    "lst=[\n",
    "'-35_-33_rp02',\n",
    "'-33_-31_rp02',\n",
    "'-31_-29_rp02',\n",
    "'-29_-27_rp02',\n",
    "'-27_-25_rp02',\n",
    "'-25_-23_rp02',\n",
    "'-23_-21_rp02',\n",
    "'-21_-19_rp02',\n",
    "'-19_-17_rp02',\n",
    "'-17_-15_rp02',\n",
    "'-15_-13_rp02',\n",
    "'-13_-11_rp02',\n",
    "'-11_-9 _rp02',\n",
    "'-9_-7  _rp02',\n",
    "'-7_-5  _rp02',\n",
    "'-5_-3  _rp02',\n",
    "'-3_-1  _rp02',\n",
    "'-1_1   _rp02',\n",
    "'1_3    _rp02',\n",
    "'3_5    _rp02',\n",
    "'5_7    _rp02',\n",
    "'7_9    _rp02',\n",
    "'9_11   _rp02',\n",
    "'11_13  _rp02',\n",
    "'13_15  _rp02',\n",
    "'15_17  _rp02',\n",
    "'17_19  _rp02',\n",
    "'19_21  _rp02',\n",
    "'21_23  _rp02',\n",
    "'23_25  _rp02',\n",
    "'25_27  _rp02',\n",
    "'27_29  _rp02',\n",
    "'29_31  _rp02',\n",
    "'31_33  _rp02',\n",
    "'33_35  _rp02'\n",
    "]\n",
    "lst1=[\n",
    "'-35_-33_rp02_idx',\n",
    "'-33_-31_rp02_idx',\n",
    "'-31_-29_rp02_idx',\n",
    "'-29_-27_rp02_idx',\n",
    "'-27_-25_rp02_idx',\n",
    "'-25_-23_rp02_idx',\n",
    "'-23_-21_rp02_idx',\n",
    "'-21_-19_rp02_idx',\n",
    "'-19_-17_rp02_idx',\n",
    "'-17_-15_rp02_idx',\n",
    "'-15_-13_rp02_idx',\n",
    "'-13_-11_rp02_idx',\n",
    "'-11_-9 _rp02_idx',\n",
    "'-9_-7  _rp02_idx',\n",
    "'-7_-5  _rp02_idx',\n",
    "'-5_-3  _rp02_idx',\n",
    "'-3_-1  _rp02_idx',\n",
    "'-1_1   _rp02_idx',\n",
    "'1_3    _rp02_idx',\n",
    "'3_5    _rp02_idx',\n",
    "'5_7    _rp02_idx',\n",
    "'7_9    _rp02_idx',\n",
    "'9_11   _rp02_idx',\n",
    "'11_13  _rp02_idx',\n",
    "'13_15  _rp02_idx',\n",
    "'15_17  _rp02_idx',\n",
    "'17_19  _rp02_idx',\n",
    "'19_21  _rp02_idx',\n",
    "'21_23  _rp02_idx',\n",
    "'23_25  _rp02_idx',\n",
    "'25_27  _rp02_idx',\n",
    "'27_29  _rp02_idx',\n",
    "'29_31  _rp02_idx',\n",
    "'31_33  _rp02_idx',\n",
    "'33_35  _rp02_idx'\n",
    "\n",
    "]\n",
    "posts=[(int(i.split('_')[1])+int(i.split('_')[0]))/2 for i in lst]\n",
    "def map_posts (rps,posts,idx):\n",
    "    res=[]\n",
    "    for i,val in enumerate(rps):\n",
    "        res.append(str(val)+'_'+str(posts[i])+'_'+str(idx[i]))\n",
    "    return(res)\n",
    "\n",
    "tests_df['Rp'] =[list(tests_df.loc[i,lst]) for i in tests_df.index]\n",
    "tests_df['Rpatsteps'] =[list(tests_df.loc[i,lst1]) for i in tests_df.index]\n",
    "display(tests_df.head())\n",
    "tests_df['Rpinclposstep']=[map_posts(tests_df.loc[i,'Rp'],posts,tests_df.loc[i,'Rpatsteps'])  for i in tests_df.index]\n",
    "#tests_df['post'] =[(int(str(tests_df.loc[i,lst].index).split('_')[1])+int(str(tests_df.loc[i,lst].index).split('_')[0].split(\"'\")[1]))/2 for i in tests_df.index]\n",
    "#display(tests_df['Rpinclpos'])\n",
    "tests_df['post']=tests_df['Rp']\n",
    "interests=[\n",
    "    'paths',\n",
    " 'ok',\n",
    " 'crack',\n",
    " 'pos',\n",
    " 'left_12-5',\n",
    " 'step_start',\n",
    " 'step_stop',\n",
    " 'index',\n",
    " 'material',\n",
    " 'senergie/GW',\n",
    " 'plate_thickness',\n",
    " 'testspeed',\n",
    " 'running_number',\n",
    " 'data',\n",
    "'Rp',\n",
    " 'post',\n",
    " 'Rpinclposstep'\n",
    "\n",
    "\n",
    "\n",
    "]\n",
    "prexplode=tests_df[interests].copy()\n",
    "display(prexplode.head())\n",
    "postexplode=prexplode.explode('Rpinclposstep').reset_index().copy()\n",
    "postexplode['Rp']=[postexplode.loc[i,'Rpinclposstep'].split('_')[0] for i in postexplode.index]\n",
    "postexplode['post']=[postexplode.loc[i,'Rpinclposstep'].split('_')[1] for i in postexplode.index]\n",
    "postexplode['step_rp02']=[postexplode.loc[i,'Rpinclposstep'].split('_')[2] for i in postexplode.index]"
   ],
   "metadata": {
    "collapsed": false,
    "pycharm": {
     "name": "#%%\n"
    }
   }
  },
  {
   "cell_type": "code",
   "execution_count": 366,
   "outputs": [
    {
     "data": {
      "text/plain": "array(['A'], dtype=object)"
     },
     "metadata": {},
     "output_type": "display_data"
    },
    {
     "data": {
      "text/plain": "     y1    y2    y3           y4  y5\n0     6 -34.0  0.45  1204.448200  10\n1     6 -32.0  0.45  1128.548746  10\n2     6 -30.0  0.45  1188.270547  10\n3     6 -28.0  0.45  1218.098671  10\n4     6 -26.0  0.45  1208.184468  10\n..   ..   ...   ...          ...  ..\n100   8  26.0  0.45  1237.180809  10\n101   8  28.0  0.45  1181.071021  10\n102   8  30.0  0.45  1142.306981  10\n103   8  32.0  0.45  1176.556594  10\n104   8  34.0  0.45  1190.845212  10\n\n[103 rows x 5 columns]",
      "text/html": "<div>\n<style scoped>\n    .dataframe tbody tr th:only-of-type {\n        vertical-align: middle;\n    }\n\n    .dataframe tbody tr th {\n        vertical-align: top;\n    }\n\n    .dataframe thead th {\n        text-align: right;\n    }\n</style>\n<table border=\"1\" class=\"dataframe\">\n  <thead>\n    <tr style=\"text-align: right;\">\n      <th></th>\n      <th>y1</th>\n      <th>y2</th>\n      <th>y3</th>\n      <th>y4</th>\n      <th>y5</th>\n    </tr>\n  </thead>\n  <tbody>\n    <tr>\n      <th>0</th>\n      <td>6</td>\n      <td>-34.0</td>\n      <td>0.45</td>\n      <td>1204.448200</td>\n      <td>10</td>\n    </tr>\n    <tr>\n      <th>1</th>\n      <td>6</td>\n      <td>-32.0</td>\n      <td>0.45</td>\n      <td>1128.548746</td>\n      <td>10</td>\n    </tr>\n    <tr>\n      <th>2</th>\n      <td>6</td>\n      <td>-30.0</td>\n      <td>0.45</td>\n      <td>1188.270547</td>\n      <td>10</td>\n    </tr>\n    <tr>\n      <th>3</th>\n      <td>6</td>\n      <td>-28.0</td>\n      <td>0.45</td>\n      <td>1218.098671</td>\n      <td>10</td>\n    </tr>\n    <tr>\n      <th>4</th>\n      <td>6</td>\n      <td>-26.0</td>\n      <td>0.45</td>\n      <td>1208.184468</td>\n      <td>10</td>\n    </tr>\n    <tr>\n      <th>...</th>\n      <td>...</td>\n      <td>...</td>\n      <td>...</td>\n      <td>...</td>\n      <td>...</td>\n    </tr>\n    <tr>\n      <th>100</th>\n      <td>8</td>\n      <td>26.0</td>\n      <td>0.45</td>\n      <td>1237.180809</td>\n      <td>10</td>\n    </tr>\n    <tr>\n      <th>101</th>\n      <td>8</td>\n      <td>28.0</td>\n      <td>0.45</td>\n      <td>1181.071021</td>\n      <td>10</td>\n    </tr>\n    <tr>\n      <th>102</th>\n      <td>8</td>\n      <td>30.0</td>\n      <td>0.45</td>\n      <td>1142.306981</td>\n      <td>10</td>\n    </tr>\n    <tr>\n      <th>103</th>\n      <td>8</td>\n      <td>32.0</td>\n      <td>0.45</td>\n      <td>1176.556594</td>\n      <td>10</td>\n    </tr>\n    <tr>\n      <th>104</th>\n      <td>8</td>\n      <td>34.0</td>\n      <td>0.45</td>\n      <td>1190.845212</td>\n      <td>10</td>\n    </tr>\n  </tbody>\n</table>\n<p>103 rows × 5 columns</p>\n</div>"
     },
     "metadata": {},
     "output_type": "display_data"
    },
    {
     "name": "stdout",
     "output_type": "stream",
     "text": [
      "1263.3863932913641 761.8942193623602\n"
     ]
    },
    {
     "data": {
      "text/plain": "array(['MC_A_8xiii_clipped_cut_lined'], dtype=object)"
     },
     "metadata": {},
     "output_type": "display_data"
    },
    {
     "data": {
      "text/plain": "array(['MC_B_8xiii_clipped_cut_lined', 'MC_B_8xi_clipped_cut_lined'],\n      dtype=object)"
     },
     "metadata": {},
     "output_type": "display_data"
    },
    {
     "data": {
      "text/plain": "<Figure size 1800x720 with 2 Axes>",
      "image/png": "[encoded data removed]"
     },
     "metadata": {},
     "output_type": "display_data"
    }
   ],
   "source": [
    "plot=postexplode.copy()\n",
    "plot2=postexplode.copy()\n",
    "\n",
    "\n",
    "\n",
    "plot=plot[plot['material']=='MC']\n",
    "plot=plot[plot['plate_thickness']=='8']\n",
    "#plot=plot[plot['running_number']=='iii']\n",
    "plot=plot[plot['testspeed']=='x']\n",
    "plot=plot[plot['senergie/GW']!='GW']\n",
    "plot=plot[plot['senergie/GW']=='A']\n",
    "plot=plot[plot['Rp'].astype(float)>700]\n",
    "plot=plot[plot['Rp'].astype(float)<1500]\n",
    "plot.dropna(axis=0,inplace=True)\n",
    "\n",
    "plot2=plot2[plot2['material']=='MC']\n",
    "plot2=plot2[plot2['plate_thickness']=='8']\n",
    "#plot2=plot2[plot2['running_number']=='iii'\n",
    "plot2=plot2[plot2['testspeed']=='x']\n",
    "plot2=plot2[plot2['senergie/GW']!='GW']\n",
    "plot2=plot2[plot2['senergie/GW']=='B']\n",
    "plot2=plot2[plot2['Rp'].astype(float)>700]\n",
    "plot2=plot2[plot2['Rp'].astype(float)<1500]\n",
    "plot2.dropna(axis=0,inplace=True)\n",
    "\n",
    "display(plot['senergie/GW'].unique())\n",
    "#all.dropna(axis=0,inplace=True)\n",
    "display(all)\n",
    "print(all['y4'].max(),all['y4'].min())\n",
    "#display('WWWWWWWWWWWWW',plot2['step_rp02'],'WWWWWWWWWWWWW')\n",
    "display(plot['level_0'].unique())\n",
    "display(plot2['level_0'].unique())\n",
    "##scatterplot\n",
    "fig,ax=plt.subplots(figsize=(25,10))\n",
    "a=ax.scatter(plot.post.astype(float),plot.Rp.astype(float),marker='s',c=plot['step_rp02'].astype(int),s=100,label='A')\n",
    "b=ax.scatter(plot2.post.astype(float),plot2.Rp.astype(float),marker='o',c=plot2['step_rp02'].astype(int),s=100,label='B')\n",
    "ax.set_xlim(-40,40)\n",
    "ax.axvline(-9,color='k')\n",
    "ax.axvline(9,color='k')\n",
    "plt.colorbar(a)\n",
    "plt.grid()\n",
    "plt.legend()\n",
    "plt.show()\n",
    "fig.savefig('MC_mm.png',dpi=500)"
   ],
   "metadata": {
    "collapsed": false,
    "pycharm": {
     "name": "#%%\n"
    }
   }
  },
  {
   "cell_type": "code",
   "execution_count": 359,
   "outputs": [
    {
     "data": {
      "application/vnd.plotly.v1+json": {
       "config": {
        "plotlyServerURL": "https://plot.ly"
       },
       "data": [
        {
         "dimensions": [
          {
           "label": "_plate_thickness",
           "values": [
            6,
            6,
            6,
            6,
            6,
            6,
            6,
            6,
            6,
            6,
            6,
            6,
            6,
            6,
            6,
            6,
            6,
            6,
            6,
            6,
            6,
            6,
            6,
            6,
            6,
            6,
            6,
            6,
            6,
            6,
            6,
            6,
            6,
            6,
            6,
            6,
            6,
            6,
            6,
            6,
            6,
            6,
            6,
            6,
            6,
            6,
            6,
            6,
            6,
            6,
            6,
            6,
            6,
            6,
            6,
            6,
            6,
            6,
            6,
            6,
            6,
            6,
            6,
            6,
            6,
            6,
            6,
            6,
            8,
            8,
            8,
            8,
            8,
            8,
            8,
            8,
            8,
            8,
            8,
            8,
            8,
            8,
            8,
            8,
            8,
            8,
            8,
            8,
            8,
            8,
            8,
            8,
            8,
            8,
            8,
            8,
            8,
            8,
            8,
            8,
            8,
            8,
            8
           ]
          },
          {
           "label": "position",
           "values": [
            -34.0,
            -32.0,
            -30.0,
            -28.0,
            -26.0,
            -24.0,
            -22.0,
            -20.0,
            -18.0,
            -16.0,
            -14.0,
            -12.0,
            -10.0,
            -8.0,
            -6.0,
            -4.0,
            -2.0,
            0.0,
            2.0,
            4.0,
            6.0,
            8.0,
            10.0,
            12.0,
            14.0,
            16.0,
            18.0,
            20.0,
            22.0,
            24.0,
            26.0,
            28.0,
            30.0,
            -34.0,
            -32.0,
            -30.0,
            -28.0,
            -26.0,
            -24.0,
            -22.0,
            -20.0,
            -18.0,
            -16.0,
            -14.0,
            -12.0,
            -10.0,
            -8.0,
            -6.0,
            -4.0,
            -2.0,
            0.0,
            2.0,
            4.0,
            6.0,
            8.0,
            10.0,
            12.0,
            14.0,
            16.0,
            18.0,
            20.0,
            22.0,
            24.0,
            26.0,
            28.0,
            30.0,
            32.0,
            34.0,
            -34.0,
            -32.0,
            -30.0,
            -28.0,
            -26.0,
            -24.0,
            -22.0,
            -20.0,
            -18.0,
            -16.0,
            -14.0,
            -12.0,
            -10.0,
            -8.0,
            -6.0,
            -4.0,
            -2.0,
            0.0,
            2.0,
            4.0,
            6.0,
            8.0,
            10.0,
            12.0,
            14.0,
            16.0,
            18.0,
            20.0,
            22.0,
            24.0,
            26.0,
            28.0,
            30.0,
            32.0,
            34.0
           ]
          },
          {
           "label": "senergie",
           "values": [
            0.45,
            0.45,
            0.45,
            0.45,
            0.45,
            0.45,
            0.45,
            0.45,
            0.45,
            0.45,
            0.45,
            0.45,
            0.45,
            0.45,
            0.45,
            0.45,
            0.45,
            0.45,
            0.45,
            0.45,
            0.45,
            0.45,
            0.45,
            0.45,
            0.45,
            0.45,
            0.45,
            0.45,
            0.45,
            0.45,
            0.45,
            0.45,
            0.45,
            0.45,
            0.45,
            0.45,
            0.45,
            0.45,
            0.45,
            0.45,
            0.45,
            0.45,
            0.45,
            0.45,
            0.45,
            0.45,
            0.45,
            0.45,
            0.45,
            0.45,
            0.45,
            0.45,
            0.45,
            0.45,
            0.45,
            0.45,
            0.45,
            0.45,
            0.45,
            0.45,
            0.45,
            0.45,
            0.45,
            0.45,
            0.45,
            0.45,
            0.45,
            0.45,
            0.45,
            0.45,
            0.45,
            0.45,
            0.45,
            0.45,
            0.45,
            0.45,
            0.45,
            0.45,
            0.45,
            0.45,
            0.45,
            0.45,
            0.45,
            0.45,
            0.45,
            0.45,
            0.45,
            0.45,
            0.45,
            0.45,
            0.45,
            0.45,
            0.45,
            0.45,
            0.45,
            0.45,
            0.45,
            0.45,
            0.45,
            0.45,
            0.45,
            0.45,
            0.45
           ]
          },
          {
           "label": "Rp",
           "values": [
            1204.4481996886757,
            1128.5487458455787,
            1188.2705472114171,
            1218.0986705268765,
            1208.1844677862996,
            1214.325364115501,
            1216.479697597017,
            1188.1419899318812,
            1165.8452135169377,
            1164.6636047952302,
            1085.0076106962829,
            1101.7371121374604,
            1072.8905033324913,
            1125.9021184343223,
            1005.7598844231102,
            1092.0495260895464,
            931.217471707881,
            987.4039357853703,
            1052.3410952725585,
            1111.8551442844823,
            1232.9114629387172,
            1082.7246849974622,
            1144.6549328441638,
            1120.28926389055,
            1241.5565202427229,
            1172.6621516603668,
            1198.144760054744,
            1173.6733623475016,
            761.8942193623602,
            1206.8992185958828,
            1169.0959918496233,
            1217.565732730452,
            1204.3354236107848,
            1217.38789026727,
            1201.574890344105,
            1176.653693357906,
            1185.2228950527974,
            1153.8786574802712,
            1206.3943794783868,
            1189.1957485001726,
            1103.7033597182076,
            1057.2856216539408,
            1098.098822401455,
            1099.2625143931423,
            1135.2666361128827,
            1051.336601883137,
            1019.9543555796622,
            1095.5912931405032,
            965.1673034063856,
            987.9822901013072,
            1081.9790016521479,
            1043.9716223564815,
            1142.6870228137582,
            1138.3180810710378,
            1153.8094060083154,
            1203.6892373242358,
            1187.8904534189473,
            1193.2495715549016,
            1207.5278400120683,
            1183.5577907186985,
            1155.5145088113609,
            1155.5145088113609,
            1155.5145088113609,
            1155.5145088113609,
            1155.5145088113609,
            1155.5145088113609,
            1219.270807317664,
            1188.6837439676333,
            1187.9600042070329,
            1174.2219726581748,
            1236.3249264404153,
            1233.0569887202641,
            1263.3863932913641,
            1201.1097783186046,
            1236.8431212512546,
            1155.5809947222529,
            1081.6994015296818,
            1148.649005395327,
            1185.6603929652415,
            1112.8299789669059,
            1074.210734463622,
            1174.4561983740055,
            1095.1918086875362,
            1046.1949312020956,
            1119.3501795345624,
            1097.612546537202,
            1211.429745222585,
            1144.1586098830444,
            1110.175000026688,
            1119.5719683692828,
            1160.4457889975652,
            1231.7731145695493,
            1190.7813307449155,
            1128.1504812322596,
            1152.10440114546,
            1194.773250366115,
            1237.1808086342958,
            1181.071020826193,
            1142.3069808985579,
            1176.5565938010054,
            1190.845212302061,
            null,
            null
           ]
          },
          {
           "label": "testspeed",
           "values": [
            10,
            10,
            10,
            10,
            10,
            10,
            10,
            10,
            10,
            10,
            10,
            10,
            10,
            10,
            10,
            10,
            10,
            10,
            10,
            10,
            10,
            10,
            10,
            10,
            10,
            10,
            10,
            10,
            10,
            10,
            10,
            10,
            10,
            10,
            10,
            10,
            10,
            10,
            10,
            10,
            10,
            10,
            10,
            10,
            10,
            10,
            10,
            10,
            10,
            10,
            10,
            10,
            10,
            10,
            10,
            10,
            10,
            10,
            10,
            10,
            10,
            10,
            10,
            10,
            10,
            10,
            10,
            10,
            10,
            10,
            10,
            10,
            10,
            10,
            10,
            10,
            10,
            10,
            10,
            10,
            10,
            10,
            10,
            10,
            10,
            10,
            10,
            10,
            10,
            10,
            10,
            10,
            10,
            10,
            10,
            10,
            10,
            10,
            10,
            10,
            10,
            10,
            10
           ]
          }
         ],
         "domain": {
          "x": [
           0.0,
           1.0
          ],
          "y": [
           0.0,
           1.0
          ]
         },
         "line": {
          "color": [
           1204.4481996886757,
           1128.5487458455787,
           1188.2705472114171,
           1218.0986705268765,
           1208.1844677862996,
           1214.325364115501,
           1216.479697597017,
           1188.1419899318812,
           1165.8452135169377,
           1164.6636047952302,
           1085.0076106962829,
           1101.7371121374604,
           1072.8905033324913,
           1125.9021184343223,
           1005.7598844231102,
           1092.0495260895464,
           931.217471707881,
           987.4039357853703,
           1052.3410952725585,
           1111.8551442844823,
           1232.9114629387172,
           1082.7246849974622,
           1144.6549328441638,
           1120.28926389055,
           1241.5565202427229,
           1172.6621516603668,
           1198.144760054744,
           1173.6733623475016,
           761.8942193623602,
           1206.8992185958828,
           1169.0959918496233,
           1217.565732730452,
           1204.3354236107848,
           1217.38789026727,
           1201.574890344105,
           1176.653693357906,
           1185.2228950527974,
           1153.8786574802712,
           1206.3943794783868,
           1189.1957485001726,
           1103.7033597182076,
           1057.2856216539408,
           1098.098822401455,
           1099.2625143931423,
           1135.2666361128827,
           1051.336601883137,
           1019.9543555796622,
           1095.5912931405032,
           965.1673034063856,
           987.9822901013072,
           1081.9790016521479,
           1043.9716223564815,
           1142.6870228137582,
           1138.3180810710378,
           1153.8094060083154,
           1203.6892373242358,
           1187.8904534189473,
           1193.2495715549016,
           1207.5278400120683,
           1183.5577907186985,
           1155.5145088113609,
           1155.5145088113609,
           1155.5145088113609,
           1155.5145088113609,
           1155.5145088113609,
           1155.5145088113609,
           1219.270807317664,
           1188.6837439676333,
           1187.9600042070329,
           1174.2219726581748,
           1236.3249264404153,
           1233.0569887202641,
           1263.3863932913641,
           1201.1097783186046,
           1236.8431212512546,
           1155.5809947222529,
           1081.6994015296818,
           1148.649005395327,
           1185.6603929652415,
           1112.8299789669059,
           1074.210734463622,
           1174.4561983740055,
           1095.1918086875362,
           1046.1949312020956,
           1119.3501795345624,
           1097.612546537202,
           1211.429745222585,
           1144.1586098830444,
           1110.175000026688,
           1119.5719683692828,
           1160.4457889975652,
           1231.7731145695493,
           1190.7813307449155,
           1128.1504812322596,
           1152.10440114546,
           1194.773250366115,
           1237.1808086342958,
           1181.071020826193,
           1142.3069808985579,
           1176.5565938010054,
           1190.845212302061,
           null,
           null
          ],
          "coloraxis": "coloraxis"
         },
         "name": "",
         "type": "parcoords"
        }
       ],
       "layout": {
        "coloraxis": {
         "colorbar": {
          "title": {
           "text": "Rp"
          }
         },
         "colorscale": [
          [
           0.0,
           "#0d0887"
          ],
          [
           0.1111111111111111,
           "#46039f"
          ],
          [
           0.2222222222222222,
           "#7201a8"
          ],
          [
           0.3333333333333333,
           "#9c179e"
          ],
          [
           0.4444444444444444,
           "#bd3786"
          ],
          [
           0.5555555555555556,
           "#d8576b"
          ],
          [
           0.6666666666666666,
           "#ed7953"
          ],
          [
           0.7777777777777778,
           "#fb9f3a"
          ],
          [
           0.8888888888888888,
           "#fdca26"
          ],
          [
           1.0,
           "#f0f921"
          ]
         ]
        },
        "legend": {
         "tracegroupgap": 0
        },
        "margin": {
         "t": 60
        },
        "template": {
         "data": {
          "bar": [
           {
            "error_x": {
             "color": "#2a3f5f"
            },
            "error_y": {
             "color": "#2a3f5f"
            },
            "marker": {
             "line": {
              "color": "#E5ECF6",
              "width": 0.5
             },
             "pattern": {
              "fillmode": "overlay",
              "size": 10,
              "solidity": 0.2
             }
            },
            "type": "bar"
           }
          ],
          "barpolar": [
           {
            "marker": {
             "line": {
              "color": "#E5ECF6",
              "width": 0.5
             },
             "pattern": {
              "fillmode": "overlay",
              "size": 10,
              "solidity": 0.2
             }
            },
            "type": "barpolar"
           }
          ],
          "carpet": [
           {
            "aaxis": {
             "endlinecolor": "#2a3f5f",
             "gridcolor": "white",
             "linecolor": "white",
             "minorgridcolor": "white",
             "startlinecolor": "#2a3f5f"
            },
            "baxis": {
             "endlinecolor": "#2a3f5f",
             "gridcolor": "white",
             "linecolor": "white",
             "minorgridcolor": "white",
             "startlinecolor": "#2a3f5f"
            },
            "type": "carpet"
           }
          ],
          "choropleth": [
           {
            "colorbar": {
             "outlinewidth": 0,
             "ticks": ""
            },
            "type": "choropleth"
           }
          ],
          "contour": [
           {
            "colorbar": {
             "outlinewidth": 0,
             "ticks": ""
            },
            "colorscale": [
             [
              0.0,
              "#0d0887"
             ],
             [
              0.1111111111111111,
              "#46039f"
             ],
             [
              0.2222222222222222,
              "#7201a8"
             ],
             [
              0.3333333333333333,
              "#9c179e"
             ],
             [
              0.4444444444444444,
              "#bd3786"
             ],
             [
              0.5555555555555556,
              "#d8576b"
             ],
             [
              0.6666666666666666,
              "#ed7953"
             ],
             [
              0.7777777777777778,
              "#fb9f3a"
             ],
             [
              0.8888888888888888,
              "#fdca26"
             ],
             [
              1.0,
              "#f0f921"
             ]
            ],
            "type": "contour"
           }
          ],
          "contourcarpet": [
           {
            "colorbar": {
             "outlinewidth": 0,
             "ticks": ""
            },
            "type": "contourcarpet"
           }
          ],
          "heatmap": [
           {
            "colorbar": {
             "outlinewidth": 0,
             "ticks": ""
            },
            "colorscale": [
             [
              0.0,
              "#0d0887"
             ],
             [
              0.1111111111111111,
              "#46039f"
             ],
             [
              0.2222222222222222,
              "#7201a8"
             ],
             [
              0.3333333333333333,
              "#9c179e"
             ],
             [
              0.4444444444444444,
              "#bd3786"
             ],
             [
              0.5555555555555556,
              "#d8576b"
             ],
             [
              0.6666666666666666,
              "#ed7953"
             ],
             [
              0.7777777777777778,
              "#fb9f3a"
             ],
             [
              0.8888888888888888,
              "#fdca26"
             ],
             [
              1.0,
              "#f0f921"
             ]
            ],
            "type": "heatmap"
           }
          ],
          "heatmapgl": [
           {
            "colorbar": {
             "outlinewidth": 0,
             "ticks": ""
            },
            "colorscale": [
             [
              0.0,
              "#0d0887"
             ],
             [
              0.1111111111111111,
              "#46039f"
             ],
             [
              0.2222222222222222,
              "#7201a8"
             ],
             [
              0.3333333333333333,
              "#9c179e"
             ],
             [
              0.4444444444444444,
              "#bd3786"
             ],
             [
              0.5555555555555556,
              "#d8576b"
             ],
             [
              0.6666666666666666,
              "#ed7953"
             ],
             [
              0.7777777777777778,
              "#fb9f3a"
             ],
             [
              0.8888888888888888,
              "#fdca26"
             ],
             [
              1.0,
              "#f0f921"
             ]
            ],
            "type": "heatmapgl"
           }
          ],
          "histogram": [
           {
            "marker": {
             "pattern": {
              "fillmode": "overlay",
              "size": 10,
              "solidity": 0.2
             }
            },
            "type": "histogram"
           }
          ],
          "histogram2d": [
           {
            "colorbar": {
             "outlinewidth": 0,
             "ticks": ""
            },
            "colorscale": [
             [
              0.0,
              "#0d0887"
             ],
             [
              0.1111111111111111,
              "#46039f"
             ],
             [
              0.2222222222222222,
              "#7201a8"
             ],
             [
              0.3333333333333333,
              "#9c179e"
             ],
             [
              0.4444444444444444,
              "#bd3786"
             ],
             [
              0.5555555555555556,
              "#d8576b"
             ],
             [
              0.6666666666666666,
              "#ed7953"
             ],
             [
              0.7777777777777778,
              "#fb9f3a"
             ],
             [
              0.8888888888888888,
              "#fdca26"
             ],
             [
              1.0,
              "#f0f921"
             ]
            ],
            "type": "histogram2d"
           }
          ],
          "histogram2dcontour": [
           {
            "colorbar": {
             "outlinewidth": 0,
             "ticks": ""
            },
            "colorscale": [
             [
              0.0,
              "#0d0887"
             ],
             [
              0.1111111111111111,
              "#46039f"
             ],
             [
              0.2222222222222222,
              "#7201a8"
             ],
             [
              0.3333333333333333,
              "#9c179e"
             ],
             [
              0.4444444444444444,
              "#bd3786"
             ],
             [
              0.5555555555555556,
              "#d8576b"
             ],
             [
              0.6666666666666666,
              "#ed7953"
             ],
             [
              0.7777777777777778,
              "#fb9f3a"
             ],
             [
              0.8888888888888888,
              "#fdca26"
             ],
             [
              1.0,
              "#f0f921"
             ]
            ],
            "type": "histogram2dcontour"
           }
          ],
          "mesh3d": [
           {
            "colorbar": {
             "outlinewidth": 0,
             "ticks": ""
            },
            "type": "mesh3d"
           }
          ],
          "parcoords": [
           {
            "line": {
             "colorbar": {
              "outlinewidth": 0,
              "ticks": ""
             }
            },
            "type": "parcoords"
           }
          ],
          "pie": [
           {
            "automargin": true,
            "type": "pie"
           }
          ],
          "scatter": [
           {
            "marker": {
             "colorbar": {
              "outlinewidth": 0,
              "ticks": ""
             }
            },
            "type": "scatter"
           }
          ],
          "scatter3d": [
           {
            "line": {
             "colorbar": {
              "outlinewidth": 0,
              "ticks": ""
             }
            },
            "marker": {
             "colorbar": {
              "outlinewidth": 0,
              "ticks": ""
             }
            },
            "type": "scatter3d"
           }
          ],
          "scattercarpet": [
           {
            "marker": {
             "colorbar": {
              "outlinewidth": 0,
              "ticks": ""
             }
            },
            "type": "scattercarpet"
           }
          ],
          "scattergeo": [
           {
            "marker": {
             "colorbar": {
              "outlinewidth": 0,
              "ticks": ""
             }
            },
            "type": "scattergeo"
           }
          ],
          "scattergl": [
           {
            "marker": {
             "colorbar": {
              "outlinewidth": 0,
              "ticks": ""
             }
            },
            "type": "scattergl"
           }
          ],
          "scattermapbox": [
           {
            "marker": {
             "colorbar": {
              "outlinewidth": 0,
              "ticks": ""
             }
            },
            "type": "scattermapbox"
           }
          ],
          "scatterpolar": [
           {
            "marker": {
             "colorbar": {
              "outlinewidth": 0,
              "ticks": ""
             }
            },
            "type": "scatterpolar"
           }
          ],
          "scatterpolargl": [
           {
            "marker": {
             "colorbar": {
              "outlinewidth": 0,
              "ticks": ""
             }
            },
            "type": "scatterpolargl"
           }
          ],
          "scatterternary": [
           {
            "marker": {
             "colorbar": {
              "outlinewidth": 0,
              "ticks": ""
             }
            },
            "type": "scatterternary"
           }
          ],
          "surface": [
           {
            "colorbar": {
             "outlinewidth": 0,
             "ticks": ""
            },
            "colorscale": [
             [
              0.0,
              "#0d0887"
             ],
             [
              0.1111111111111111,
              "#46039f"
             ],
             [
              0.2222222222222222,
              "#7201a8"
             ],
             [
              0.3333333333333333,
              "#9c179e"
             ],
             [
              0.4444444444444444,
              "#bd3786"
             ],
             [
              0.5555555555555556,
              "#d8576b"
             ],
             [
              0.6666666666666666,
              "#ed7953"
             ],
             [
              0.7777777777777778,
              "#fb9f3a"
             ],
             [
              0.8888888888888888,
              "#fdca26"
             ],
             [
              1.0,
              "#f0f921"
             ]
            ],
            "type": "surface"
           }
          ],
          "table": [
           {
            "cells": {
             "fill": {
              "color": "#EBF0F8"
             },
             "line": {
              "color": "white"
             }
            },
            "header": {
             "fill": {
              "color": "#C8D4E3"
             },
             "line": {
              "color": "white"
             }
            },
            "type": "table"
           }
          ]
         },
         "layout": {
          "annotationdefaults": {
           "arrowcolor": "#2a3f5f",
           "arrowhead": 0,
           "arrowwidth": 1
          },
          "autotypenumbers": "strict",
          "coloraxis": {
           "colorbar": {
            "outlinewidth": 0,
            "ticks": ""
           }
          },
          "colorscale": {
           "diverging": [
            [
             0,
             "#8e0152"
            ],
            [
             0.1,
             "#c51b7d"
            ],
            [
             0.2,
             "#de77ae"
            ],
            [
             0.3,
             "#f1b6da"
            ],
            [
             0.4,
             "#fde0ef"
            ],
            [
             0.5,
             "#f7f7f7"
            ],
            [
             0.6,
             "#e6f5d0"
            ],
            [
             0.7,
             "#b8e186"
            ],
            [
             0.8,
             "#7fbc41"
            ],
            [
             0.9,
             "#4d9221"
            ],
            [
             1,
             "#276419"
            ]
           ],
           "sequential": [
            [
             0.0,
             "#0d0887"
            ],
            [
             0.1111111111111111,
             "#46039f"
            ],
            [
             0.2222222222222222,
             "#7201a8"
            ],
            [
             0.3333333333333333,
             "#9c179e"
            ],
            [
             0.4444444444444444,
             "#bd3786"
            ],
            [
             0.5555555555555556,
             "#d8576b"
            ],
            [
             0.6666666666666666,
             "#ed7953"
            ],
            [
             0.7777777777777778,
             "#fb9f3a"
            ],
            [
             0.8888888888888888,
             "#fdca26"
            ],
            [
             1.0,
             "#f0f921"
            ]
           ],
           "sequentialminus": [
            [
             0.0,
             "#0d0887"
            ],
            [
             0.1111111111111111,
             "#46039f"
            ],
            [
             0.2222222222222222,
             "#7201a8"
            ],
            [
             0.3333333333333333,
             "#9c179e"
            ],
            [
             0.4444444444444444,
             "#bd3786"
            ],
            [
             0.5555555555555556,
             "#d8576b"
            ],
            [
             0.6666666666666666,
             "#ed7953"
            ],
            [
             0.7777777777777778,
             "#fb9f3a"
            ],
            [
             0.8888888888888888,
             "#fdca26"
            ],
            [
             1.0,
             "#f0f921"
            ]
           ]
          },
          "colorway": [
           "#636efa",
           "#EF553B",
           "#00cc96",
           "#ab63fa",
           "#FFA15A",
           "#19d3f3",
           "#FF6692",
           "#B6E880",
           "#FF97FF",
           "#FECB52"
          ],
          "font": {
           "color": "#2a3f5f"
          },
          "geo": {
           "bgcolor": "white",
           "lakecolor": "white",
           "landcolor": "#E5ECF6",
           "showlakes": true,
           "showland": true,
           "subunitcolor": "white"
          },
          "hoverlabel": {
           "align": "left"
          },
          "hovermode": "closest",
          "mapbox": {
           "style": "light"
          },
          "paper_bgcolor": "white",
          "plot_bgcolor": "#E5ECF6",
          "polar": {
           "angularaxis": {
            "gridcolor": "white",
            "linecolor": "white",
            "ticks": ""
           },
           "bgcolor": "#E5ECF6",
           "radialaxis": {
            "gridcolor": "white",
            "linecolor": "white",
            "ticks": ""
           }
          },
          "scene": {
           "xaxis": {
            "backgroundcolor": "#E5ECF6",
            "gridcolor": "white",
            "gridwidth": 2,
            "linecolor": "white",
            "showbackground": true,
            "ticks": "",
            "zerolinecolor": "white"
           },
           "yaxis": {
            "backgroundcolor": "#E5ECF6",
            "gridcolor": "white",
            "gridwidth": 2,
            "linecolor": "white",
            "showbackground": true,
            "ticks": "",
            "zerolinecolor": "white"
           },
           "zaxis": {
            "backgroundcolor": "#E5ECF6",
            "gridcolor": "white",
            "gridwidth": 2,
            "linecolor": "white",
            "showbackground": true,
            "ticks": "",
            "zerolinecolor": "white"
           }
          },
          "shapedefaults": {
           "line": {
            "color": "#2a3f5f"
           }
          },
          "ternary": {
           "aaxis": {
            "gridcolor": "white",
            "linecolor": "white",
            "ticks": ""
           },
           "baxis": {
            "gridcolor": "white",
            "linecolor": "white",
            "ticks": ""
           },
           "bgcolor": "#E5ECF6",
           "caxis": {
            "gridcolor": "white",
            "linecolor": "white",
            "ticks": ""
           }
          },
          "title": {
           "x": 0.05
          },
          "xaxis": {
           "automargin": true,
           "gridcolor": "white",
           "linecolor": "white",
           "ticks": "",
           "title": {
            "standoff": 15
           },
           "zerolinecolor": "white",
           "zerolinewidth": 2
          },
          "yaxis": {
           "automargin": true,
           "gridcolor": "white",
           "linecolor": "white",
           "ticks": "",
           "title": {
            "standoff": 15
           },
           "zerolinecolor": "white",
           "zerolinewidth": 2
          }
         }
        }
       }
      },
      "text/html": "<div>                            <div id=\"49c6878b-96b6-4c74-917e-03be0be47b67\" class=\"plotly-graph-div\" style=\"height:525px; width:100%;\"></div>            <script type=\"text/javascript\">                require([\"plotly\"], function(Plotly) {                    window.PLOTLYENV=window.PLOTLYENV || {};                                    if (document.getElementById(\"49c6878b-96b6-4c74-917e-03be0be47b67\")) {                    Plotly.newPlot(                        \"49c6878b-96b6-4c74-917e-03be0be47b67\",                        [{\"dimensions\":[{\"label\":\"_plate_thickness\",\"values\":[6,6,6,6,6,6,6,6,6,6,6,6,6,6,6,6,6,6,6,6,6,6,6,6,6,6,6,6,6,6,6,6,6,6,6,6,6,6,6,6,6,6,6,6,6,6,6,6,6,6,6,6,6,6,6,6,6,6,6,6,6,6,6,6,6,6,6,6,8,8,8,8,8,8,8,8,8,8,8,8,8,8,8,8,8,8,8,8,8,8,8,8,8,8,8,8,8,8,8,8,8,8,8]},{\"label\":\"position\",\"values\":[-34.0,-32.0,-30.0,-28.0,-26.0,-24.0,-22.0,-20.0,-18.0,-16.0,-14.0,-12.0,-10.0,-8.0,-6.0,-4.0,-2.0,0.0,2.0,4.0,6.0,8.0,10.0,12.0,14.0,16.0,18.0,20.0,22.0,24.0,26.0,28.0,30.0,-34.0,-32.0,-30.0,-28.0,-26.0,-24.0,-22.0,-20.0,-18.0,-16.0,-14.0,-12.0,-10.0,-8.0,-6.0,-4.0,-2.0,0.0,2.0,4.0,6.0,8.0,10.0,12.0,14.0,16.0,18.0,20.0,22.0,24.0,26.0,28.0,30.0,32.0,34.0,-34.0,-32.0,-30.0,-28.0,-26.0,-24.0,-22.0,-20.0,-18.0,-16.0,-14.0,-12.0,-10.0,-8.0,-6.0,-4.0,-2.0,0.0,2.0,4.0,6.0,8.0,10.0,12.0,14.0,16.0,18.0,20.0,22.0,24.0,26.0,28.0,30.0,32.0,34.0]},{\"label\":\"senergie\",\"values\":[0.45,0.45,0.45,0.45,0.45,0.45,0.45,0.45,0.45,0.45,0.45,0.45,0.45,0.45,0.45,0.45,0.45,0.45,0.45,0.45,0.45,0.45,0.45,0.45,0.45,0.45,0.45,0.45,0.45,0.45,0.45,0.45,0.45,0.45,0.45,0.45,0.45,0.45,0.45,0.45,0.45,0.45,0.45,0.45,0.45,0.45,0.45,0.45,0.45,0.45,0.45,0.45,0.45,0.45,0.45,0.45,0.45,0.45,0.45,0.45,0.45,0.45,0.45,0.45,0.45,0.45,0.45,0.45,0.45,0.45,0.45,0.45,0.45,0.45,0.45,0.45,0.45,0.45,0.45,0.45,0.45,0.45,0.45,0.45,0.45,0.45,0.45,0.45,0.45,0.45,0.45,0.45,0.45,0.45,0.45,0.45,0.45,0.45,0.45,0.45,0.45,0.45,0.45]},{\"label\":\"Rp\",\"values\":[1204.4481996886757,1128.5487458455787,1188.2705472114171,1218.0986705268765,1208.1844677862996,1214.325364115501,1216.479697597017,1188.1419899318812,1165.8452135169377,1164.6636047952302,1085.0076106962829,1101.7371121374604,1072.8905033324913,1125.9021184343223,1005.7598844231102,1092.0495260895464,931.217471707881,987.4039357853703,1052.3410952725585,1111.8551442844823,1232.9114629387172,1082.7246849974622,1144.6549328441638,1120.28926389055,1241.5565202427229,1172.6621516603668,1198.144760054744,1173.6733623475016,761.8942193623602,1206.8992185958828,1169.0959918496233,1217.565732730452,1204.3354236107848,1217.38789026727,1201.574890344105,1176.653693357906,1185.2228950527974,1153.8786574802712,1206.3943794783868,1189.1957485001726,1103.7033597182076,1057.2856216539408,1098.098822401455,1099.2625143931423,1135.2666361128827,1051.336601883137,1019.9543555796622,1095.5912931405032,965.1673034063856,987.9822901013072,1081.9790016521479,1043.9716223564815,1142.6870228137582,1138.3180810710378,1153.8094060083154,1203.6892373242358,1187.8904534189473,1193.2495715549016,1207.5278400120683,1183.5577907186985,1155.5145088113609,1155.5145088113609,1155.5145088113609,1155.5145088113609,1155.5145088113609,1155.5145088113609,1219.270807317664,1188.6837439676333,1187.9600042070329,1174.2219726581748,1236.3249264404153,1233.0569887202641,1263.3863932913641,1201.1097783186046,1236.8431212512546,1155.5809947222529,1081.6994015296818,1148.649005395327,1185.6603929652415,1112.8299789669059,1074.210734463622,1174.4561983740055,1095.1918086875362,1046.1949312020956,1119.3501795345624,1097.612546537202,1211.429745222585,1144.1586098830444,1110.175000026688,1119.5719683692828,1160.4457889975652,1231.7731145695493,1190.7813307449155,1128.1504812322596,1152.10440114546,1194.773250366115,1237.1808086342958,1181.071020826193,1142.3069808985579,1176.5565938010054,1190.845212302061,null,null]},{\"label\":\"testspeed\",\"values\":[10,10,10,10,10,10,10,10,10,10,10,10,10,10,10,10,10,10,10,10,10,10,10,10,10,10,10,10,10,10,10,10,10,10,10,10,10,10,10,10,10,10,10,10,10,10,10,10,10,10,10,10,10,10,10,10,10,10,10,10,10,10,10,10,10,10,10,10,10,10,10,10,10,10,10,10,10,10,10,10,10,10,10,10,10,10,10,10,10,10,10,10,10,10,10,10,10,10,10,10,10,10,10]}],\"domain\":{\"x\":[0.0,1.0],\"y\":[0.0,1.0]},\"line\":{\"color\":[1204.4481996886757,1128.5487458455787,1188.2705472114171,1218.0986705268765,1208.1844677862996,1214.325364115501,1216.479697597017,1188.1419899318812,1165.8452135169377,1164.6636047952302,1085.0076106962829,1101.7371121374604,1072.8905033324913,1125.9021184343223,1005.7598844231102,1092.0495260895464,931.217471707881,987.4039357853703,1052.3410952725585,1111.8551442844823,1232.9114629387172,1082.7246849974622,1144.6549328441638,1120.28926389055,1241.5565202427229,1172.6621516603668,1198.144760054744,1173.6733623475016,761.8942193623602,1206.8992185958828,1169.0959918496233,1217.565732730452,1204.3354236107848,1217.38789026727,1201.574890344105,1176.653693357906,1185.2228950527974,1153.8786574802712,1206.3943794783868,1189.1957485001726,1103.7033597182076,1057.2856216539408,1098.098822401455,1099.2625143931423,1135.2666361128827,1051.336601883137,1019.9543555796622,1095.5912931405032,965.1673034063856,987.9822901013072,1081.9790016521479,1043.9716223564815,1142.6870228137582,1138.3180810710378,1153.8094060083154,1203.6892373242358,1187.8904534189473,1193.2495715549016,1207.5278400120683,1183.5577907186985,1155.5145088113609,1155.5145088113609,1155.5145088113609,1155.5145088113609,1155.5145088113609,1155.5145088113609,1219.270807317664,1188.6837439676333,1187.9600042070329,1174.2219726581748,1236.3249264404153,1233.0569887202641,1263.3863932913641,1201.1097783186046,1236.8431212512546,1155.5809947222529,1081.6994015296818,1148.649005395327,1185.6603929652415,1112.8299789669059,1074.210734463622,1174.4561983740055,1095.1918086875362,1046.1949312020956,1119.3501795345624,1097.612546537202,1211.429745222585,1144.1586098830444,1110.175000026688,1119.5719683692828,1160.4457889975652,1231.7731145695493,1190.7813307449155,1128.1504812322596,1152.10440114546,1194.773250366115,1237.1808086342958,1181.071020826193,1142.3069808985579,1176.5565938010054,1190.845212302061,null,null],\"coloraxis\":\"coloraxis\"},\"name\":\"\",\"type\":\"parcoords\"}],                        {\"coloraxis\":{\"colorbar\":{\"title\":{\"text\":\"Rp\"}},\"colorscale\":[[0.0,\"#0d0887\"],[0.1111111111111111,\"#46039f\"],[0.2222222222222222,\"#7201a8\"],[0.3333333333333333,\"#9c179e\"],[0.4444444444444444,\"#bd3786\"],[0.5555555555555556,\"#d8576b\"],[0.6666666666666666,\"#ed7953\"],[0.7777777777777778,\"#fb9f3a\"],[0.8888888888888888,\"#fdca26\"],[1.0,\"#f0f921\"]]},\"legend\":{\"tracegroupgap\":0},\"margin\":{\"t\":60},\"template\":{\"data\":{\"bar\":[{\"error_x\":{\"color\":\"#2a3f5f\"},\"error_y\":{\"color\":\"#2a3f5f\"},\"marker\":{\"line\":{\"color\":\"#E5ECF6\",\"width\":0.5},\"pattern\":{\"fillmode\":\"overlay\",\"size\":10,\"solidity\":0.2}},\"type\":\"bar\"}],\"barpolar\":[{\"marker\":{\"line\":{\"color\":\"#E5ECF6\",\"width\":0.5},\"pattern\":{\"fillmode\":\"overlay\",\"size\":10,\"solidity\":0.2}},\"type\":\"barpolar\"}],\"carpet\":[{\"aaxis\":{\"endlinecolor\":\"#2a3f5f\",\"gridcolor\":\"white\",\"linecolor\":\"white\",\"minorgridcolor\":\"white\",\"startlinecolor\":\"#2a3f5f\"},\"baxis\":{\"endlinecolor\":\"#2a3f5f\",\"gridcolor\":\"white\",\"linecolor\":\"white\",\"minorgridcolor\":\"white\",\"startlinecolor\":\"#2a3f5f\"},\"type\":\"carpet\"}],\"choropleth\":[{\"colorbar\":{\"outlinewidth\":0,\"ticks\":\"\"},\"type\":\"choropleth\"}],\"contour\":[{\"colorbar\":{\"outlinewidth\":0,\"ticks\":\"\"},\"colorscale\":[[0.0,\"#0d0887\"],[0.1111111111111111,\"#46039f\"],[0.2222222222222222,\"#7201a8\"],[0.3333333333333333,\"#9c179e\"],[0.4444444444444444,\"#bd3786\"],[0.5555555555555556,\"#d8576b\"],[0.6666666666666666,\"#ed7953\"],[0.7777777777777778,\"#fb9f3a\"],[0.8888888888888888,\"#fdca26\"],[1.0,\"#f0f921\"]],\"type\":\"contour\"}],\"contourcarpet\":[{\"colorbar\":{\"outlinewidth\":0,\"ticks\":\"\"},\"type\":\"contourcarpet\"}],\"heatmap\":[{\"colorbar\":{\"outlinewidth\":0,\"ticks\":\"\"},\"colorscale\":[[0.0,\"#0d0887\"],[0.1111111111111111,\"#46039f\"],[0.2222222222222222,\"#7201a8\"],[0.3333333333333333,\"#9c179e\"],[0.4444444444444444,\"#bd3786\"],[0.5555555555555556,\"#d8576b\"],[0.6666666666666666,\"#ed7953\"],[0.7777777777777778,\"#fb9f3a\"],[0.8888888888888888,\"#fdca26\"],[1.0,\"#f0f921\"]],\"type\":\"heatmap\"}],\"heatmapgl\":[{\"colorbar\":{\"outlinewidth\":0,\"ticks\":\"\"},\"colorscale\":[[0.0,\"#0d0887\"],[0.1111111111111111,\"#46039f\"],[0.2222222222222222,\"#7201a8\"],[0.3333333333333333,\"#9c179e\"],[0.4444444444444444,\"#bd3786\"],[0.5555555555555556,\"#d8576b\"],[0.6666666666666666,\"#ed7953\"],[0.7777777777777778,\"#fb9f3a\"],[0.8888888888888888,\"#fdca26\"],[1.0,\"#f0f921\"]],\"type\":\"heatmapgl\"}],\"histogram\":[{\"marker\":{\"pattern\":{\"fillmode\":\"overlay\",\"size\":10,\"solidity\":0.2}},\"type\":\"histogram\"}],\"histogram2d\":[{\"colorbar\":{\"outlinewidth\":0,\"ticks\":\"\"},\"colorscale\":[[0.0,\"#0d0887\"],[0.1111111111111111,\"#46039f\"],[0.2222222222222222,\"#7201a8\"],[0.3333333333333333,\"#9c179e\"],[0.4444444444444444,\"#bd3786\"],[0.5555555555555556,\"#d8576b\"],[0.6666666666666666,\"#ed7953\"],[0.7777777777777778,\"#fb9f3a\"],[0.8888888888888888,\"#fdca26\"],[1.0,\"#f0f921\"]],\"type\":\"histogram2d\"}],\"histogram2dcontour\":[{\"colorbar\":{\"outlinewidth\":0,\"ticks\":\"\"},\"colorscale\":[[0.0,\"#0d0887\"],[0.1111111111111111,\"#46039f\"],[0.2222222222222222,\"#7201a8\"],[0.3333333333333333,\"#9c179e\"],[0.4444444444444444,\"#bd3786\"],[0.5555555555555556,\"#d8576b\"],[0.6666666666666666,\"#ed7953\"],[0.7777777777777778,\"#fb9f3a\"],[0.8888888888888888,\"#fdca26\"],[1.0,\"#f0f921\"]],\"type\":\"histogram2dcontour\"}],\"mesh3d\":[{\"colorbar\":{\"outlinewidth\":0,\"ticks\":\"\"},\"type\":\"mesh3d\"}],\"parcoords\":[{\"line\":{\"colorbar\":{\"outlinewidth\":0,\"ticks\":\"\"}},\"type\":\"parcoords\"}],\"pie\":[{\"automargin\":true,\"type\":\"pie\"}],\"scatter\":[{\"marker\":{\"colorbar\":{\"outlinewidth\":0,\"ticks\":\"\"}},\"type\":\"scatter\"}],\"scatter3d\":[{\"line\":{\"colorbar\":{\"outlinewidth\":0,\"ticks\":\"\"}},\"marker\":{\"colorbar\":{\"outlinewidth\":0,\"ticks\":\"\"}},\"type\":\"scatter3d\"}],\"scattercarpet\":[{\"marker\":{\"colorbar\":{\"outlinewidth\":0,\"ticks\":\"\"}},\"type\":\"scattercarpet\"}],\"scattergeo\":[{\"marker\":{\"colorbar\":{\"outlinewidth\":0,\"ticks\":\"\"}},\"type\":\"scattergeo\"}],\"scattergl\":[{\"marker\":{\"colorbar\":{\"outlinewidth\":0,\"ticks\":\"\"}},\"type\":\"scattergl\"}],\"scattermapbox\":[{\"marker\":{\"colorbar\":{\"outlinewidth\":0,\"ticks\":\"\"}},\"type\":\"scattermapbox\"}],\"scatterpolar\":[{\"marker\":{\"colorbar\":{\"outlinewidth\":0,\"ticks\":\"\"}},\"type\":\"scatterpolar\"}],\"scatterpolargl\":[{\"marker\":{\"colorbar\":{\"outlinewidth\":0,\"ticks\":\"\"}},\"type\":\"scatterpolargl\"}],\"scatterternary\":[{\"marker\":{\"colorbar\":{\"outlinewidth\":0,\"ticks\":\"\"}},\"type\":\"scatterternary\"}],\"surface\":[{\"colorbar\":{\"outlinewidth\":0,\"ticks\":\"\"},\"colorscale\":[[0.0,\"#0d0887\"],[0.1111111111111111,\"#46039f\"],[0.2222222222222222,\"#7201a8\"],[0.3333333333333333,\"#9c179e\"],[0.4444444444444444,\"#bd3786\"],[0.5555555555555556,\"#d8576b\"],[0.6666666666666666,\"#ed7953\"],[0.7777777777777778,\"#fb9f3a\"],[0.8888888888888888,\"#fdca26\"],[1.0,\"#f0f921\"]],\"type\":\"surface\"}],\"table\":[{\"cells\":{\"fill\":{\"color\":\"#EBF0F8\"},\"line\":{\"color\":\"white\"}},\"header\":{\"fill\":{\"color\":\"#C8D4E3\"},\"line\":{\"color\":\"white\"}},\"type\":\"table\"}]},\"layout\":{\"annotationdefaults\":{\"arrowcolor\":\"#2a3f5f\",\"arrowhead\":0,\"arrowwidth\":1},\"autotypenumbers\":\"strict\",\"coloraxis\":{\"colorbar\":{\"outlinewidth\":0,\"ticks\":\"\"}},\"colorscale\":{\"diverging\":[[0,\"#8e0152\"],[0.1,\"#c51b7d\"],[0.2,\"#de77ae\"],[0.3,\"#f1b6da\"],[0.4,\"#fde0ef\"],[0.5,\"#f7f7f7\"],[0.6,\"#e6f5d0\"],[0.7,\"#b8e186\"],[0.8,\"#7fbc41\"],[0.9,\"#4d9221\"],[1,\"#276419\"]],\"sequential\":[[0.0,\"#0d0887\"],[0.1111111111111111,\"#46039f\"],[0.2222222222222222,\"#7201a8\"],[0.3333333333333333,\"#9c179e\"],[0.4444444444444444,\"#bd3786\"],[0.5555555555555556,\"#d8576b\"],[0.6666666666666666,\"#ed7953\"],[0.7777777777777778,\"#fb9f3a\"],[0.8888888888888888,\"#fdca26\"],[1.0,\"#f0f921\"]],\"sequentialminus\":[[0.0,\"#0d0887\"],[0.1111111111111111,\"#46039f\"],[0.2222222222222222,\"#7201a8\"],[0.3333333333333333,\"#9c179e\"],[0.4444444444444444,\"#bd3786\"],[0.5555555555555556,\"#d8576b\"],[0.6666666666666666,\"#ed7953\"],[0.7777777777777778,\"#fb9f3a\"],[0.8888888888888888,\"#fdca26\"],[1.0,\"#f0f921\"]]},\"colorway\":[\"#636efa\",\"#EF553B\",\"#00cc96\",\"#ab63fa\",\"#FFA15A\",\"#19d3f3\",\"#FF6692\",\"#B6E880\",\"#FF97FF\",\"#FECB52\"],\"font\":{\"color\":\"#2a3f5f\"},\"geo\":{\"bgcolor\":\"white\",\"lakecolor\":\"white\",\"landcolor\":\"#E5ECF6\",\"showlakes\":true,\"showland\":true,\"subunitcolor\":\"white\"},\"hoverlabel\":{\"align\":\"left\"},\"hovermode\":\"closest\",\"mapbox\":{\"style\":\"light\"},\"paper_bgcolor\":\"white\",\"plot_bgcolor\":\"#E5ECF6\",\"polar\":{\"angularaxis\":{\"gridcolor\":\"white\",\"linecolor\":\"white\",\"ticks\":\"\"},\"bgcolor\":\"#E5ECF6\",\"radialaxis\":{\"gridcolor\":\"white\",\"linecolor\":\"white\",\"ticks\":\"\"}},\"scene\":{\"xaxis\":{\"backgroundcolor\":\"#E5ECF6\",\"gridcolor\":\"white\",\"gridwidth\":2,\"linecolor\":\"white\",\"showbackground\":true,\"ticks\":\"\",\"zerolinecolor\":\"white\"},\"yaxis\":{\"backgroundcolor\":\"#E5ECF6\",\"gridcolor\":\"white\",\"gridwidth\":2,\"linecolor\":\"white\",\"showbackground\":true,\"ticks\":\"\",\"zerolinecolor\":\"white\"},\"zaxis\":{\"backgroundcolor\":\"#E5ECF6\",\"gridcolor\":\"white\",\"gridwidth\":2,\"linecolor\":\"white\",\"showbackground\":true,\"ticks\":\"\",\"zerolinecolor\":\"white\"}},\"shapedefaults\":{\"line\":{\"color\":\"#2a3f5f\"}},\"ternary\":{\"aaxis\":{\"gridcolor\":\"white\",\"linecolor\":\"white\",\"ticks\":\"\"},\"baxis\":{\"gridcolor\":\"white\",\"linecolor\":\"white\",\"ticks\":\"\"},\"bgcolor\":\"#E5ECF6\",\"caxis\":{\"gridcolor\":\"white\",\"linecolor\":\"white\",\"ticks\":\"\"}},\"title\":{\"x\":0.05},\"xaxis\":{\"automargin\":true,\"gridcolor\":\"white\",\"linecolor\":\"white\",\"ticks\":\"\",\"title\":{\"standoff\":15},\"zerolinecolor\":\"white\",\"zerolinewidth\":2},\"yaxis\":{\"automargin\":true,\"gridcolor\":\"white\",\"linecolor\":\"white\",\"ticks\":\"\",\"title\":{\"standoff\":15},\"zerolinecolor\":\"white\",\"zerolinewidth\":2}}}},                        {\"responsive\": true}                    ).then(function(){\n                            \nvar gd = document.getElementById('49c6878b-96b6-4c74-917e-03be0be47b67');\nvar x = new MutationObserver(function (mutations, observer) {{\n        var display = window.getComputedStyle(gd).display;\n        if (!display || display === 'none') {{\n            console.log([gd, 'removed!']);\n            Plotly.purge(gd);\n            observer.disconnect();\n        }}\n}});\n\n// Listen for the removal of the full notebook cells\nvar notebookContainer = gd.closest('#notebook-container');\nif (notebookContainer) {{\n    x.observe(notebookContainer, {childList: true});\n}}\n\n// Listen for the clearing of the current output cell\nvar outputEl = gd.closest('.output');\nif (outputEl) {{\n    x.observe(outputEl, {childList: true});\n}}\n\n                        })                };                });            </script>        </div>"
     },
     "metadata": {},
     "output_type": "display_data"
    }
   ],
   "source": [
    "###parallel coordinatesplot\n",
    "all=pd.DataFrame()\n",
    "all['y1']=  plot.plate_thickness.astype(int)\n",
    "all['y2']=  plot.post.astype(float)\n",
    "all['y3']=  plot['senergie/GW'].map({'A':0.45,'B':0.3})\n",
    "all['y4']=  plot.Rp.astype(float)\n",
    "all['y5']=  plot['testspeed'].map({'x':10,'y':5})\n",
    "\n",
    "y1= all['y1']\n",
    "y3= all['y2']\n",
    "y2= all['y3']\n",
    "y4= all['y4']\n",
    "y5= all['y5']\n",
    "\n",
    "import plotly.express as px\n",
    "df = px.data.iris()\n",
    "fig = px.parallel_coordinates(all,\n",
    "                              color=\"y4\",\n",
    "                              labels={\"y1\": \"_plate_thickness\",\n",
    "                                      \"y2\": \"position\",\n",
    "                                      \"y3\": \"senergie\",\n",
    "                                      \"y4\": \"Rp\",\n",
    "                                      'y5':'testspeed'},\n",
    "                              color_continuous_scale=px.colors.sequential.Plasma,\n",
    "                             )\n",
    "fig.show()"
   ],
   "metadata": {
    "collapsed": false,
    "pycharm": {
     "name": "#%%\n"
    }
   }
  },
  {
   "cell_type": "code",
   "execution_count": 337,
   "outputs": [
    {
     "data": {
      "text/plain": "\"for i in tests_df.index:\\n    plt.plot(posts,tests_df.loc[i,'Rp'])\""
     },
     "execution_count": 337,
     "metadata": {},
     "output_type": "execute_result"
    }
   ],
   "source": [
    "\"\"\"for i in tests_df.index:\n",
    "    plt.plot(posts,tests_df.loc[i,'Rp'])\"\"\""
   ],
   "metadata": {
    "collapsed": false,
    "pycharm": {
     "name": "#%%\n"
    }
   }
  },
  {
   "cell_type": "code",
   "execution_count": 338,
   "outputs": [],
   "source": [
    "#display(list(tests_df.testspeed))"
   ],
   "metadata": {
    "collapsed": false,
    "pycharm": {
     "name": "#%%\n"
    }
   }
  },
  {
   "cell_type": "code",
   "execution_count": 339,
   "outputs": [
    {
     "data": {
      "text/plain": "'import matplotlib.pyplot as plt\\nfrom matplotlib.path import Path\\nimport matplotlib.patches as patches\\nimport numpy as np\\n\\nfig, host = plt.subplots()\\n\\n# create some dummy data\\nynames = [\\'thickness\\', \\'testspeed\\', \\'pos\\', \\'Rp\\']\\nN1, N2, N3 = 10, 5, 8\\nN = N1 + N2 + N3\\ncategory = np.concatenate([np.full(N1, 1), np.full(N2, 2), np.full(N3, 3)])\\ny1 = plot.plate_thickness.astype(int)\\n\\ny2 = plot.post.astype(float)\\ny3=plot.testspeed.map({\\'x\\':10,\\'y\\':5})\\ny4 = plot.Rp.astype(float)\\n#y5 = np.random.uniform(0, 800, N)\\n\\nall=pd.DataFrame({\\n    \\'y1\\':y1,\\n    \\'y2\\':y2,\\n    \\'y3\\':y3,\\n    \\'y4\\':y4\\n\\n\\n})\\ndisplay(all)\\nall.dropna(axis=0,inplace=True)\\nall=all[all[\\'y4\\']>0]\\nall=all[all[\\'y4\\']<1500]\\ndisplay(all)\\n\\ny1=all[\\'y1\\']\\ny2=all[\\'y2\\']\\ny3=all[\\'y3\\']\\ny4=all[\\'y4\\']\\n\\n# organize the data\\nys = np.dstack([y1, y2, y3, y4])[0]\\nymins = ys.min(axis=0)\\nymaxs = ys.max(axis=0)\\ndys = ymaxs - ymins\\nymins -= dys * 0.05  # add 5% padding below and above\\nymaxs += dys * 0.05\\ndys = ymaxs - ymins\\n\\n# transform all data to be compatible with the main axis\\nzs = np.zeros_like(ys)\\nzs[:, 0] = ys[:, 0]\\nzs[:, 1:] = (ys[:, 1:] - ymins[1:]) / dys[1:] * dys[0] + ymins[0]\\n\\n\\naxes = [host] + [host.twinx() for i in range(ys.shape[1] - 1)]\\nfor i, ax in enumerate(axes):\\n    ax.set_ylim(ymins[i], ymaxs[i])\\n    ax.spines[\\'top\\'].set_visible(False)\\n    ax.spines[\\'bottom\\'].set_visible(False)\\n    if ax != host:\\n        ax.spines[\\'left\\'].set_visible(False)\\n        ax.yaxis.set_ticks_position(\\'right\\')\\n        ax.spines[\"right\"].set_position((\"axes\", i / (ys.shape[1] - 1)))\\n\\nhost.set_xlim(0, ys.shape[1] - 1)\\nhost.set_xticks(range(ys.shape[1]))\\nhost.set_xticklabels(ynames, fontsize=14)\\nhost.tick_params(axis=\\'x\\', which=\\'major\\', pad=7)\\nhost.spines[\\'right\\'].set_visible(False)\\nhost.xaxis.tick_top()\\nhost.set_title(\\'Parallel Coordinates Plot\\', fontsize=18)\\n\\ncolors = plt.cm.tab10.colors\\nfor j in range(N):\\n    # to just draw straight lines between the axes:\\n    # host.plot(range(ys.shape[1]), zs[j,:], c=colors[(category[j] - 1) % len(colors) ])\\n\\n    # create bezier curves\\n    # for each axis, there will a control vertex at the point itself, one at 1/3rd towards the previous and one\\n    #   at one third towards the next axis; the first and last axis have one less control vertex\\n    # x-coordinate of the control vertices: at each integer (for the axes) and two inbetween\\n    # y-coordinate: repeat every point three times, except the first and last only twice\\n    verts = list(zip([x for x in np.linspace(0, len(ys) - 1, len(ys) * 3 - 2, endpoint=True)],\\n                     np.repeat(zs[j, :], 3)[1:-1]))\\n    # for x,y in verts: host.plot(x, y, \\'go\\') # to show the control points of the beziers\\n    codes = [Path.MOVETO] + [Path.CURVE4 for _ in range(len(verts) - 1)]\\n    path = Path(verts, codes)\\n    patch = patches.PathPatch(path, facecolor=\\'none\\', lw=1, edgecolor=colors[category[j] - 1])\\n    host.add_patch(patch)\\nplt.tight_layout()\\nplt.show()'"
     },
     "execution_count": 339,
     "metadata": {},
     "output_type": "execute_result"
    }
   ],
   "source": [
    "\"\"\"import matplotlib.pyplot as plt\n",
    "from matplotlib.path import Path\n",
    "import matplotlib.patches as patches\n",
    "import numpy as np\n",
    "\n",
    "fig, host = plt.subplots()\n",
    "\n",
    "# create some dummy data\n",
    "ynames = ['thickness', 'testspeed', 'pos', 'Rp']\n",
    "N1, N2, N3 = 10, 5, 8\n",
    "N = N1 + N2 + N3\n",
    "category = np.concatenate([np.full(N1, 1), np.full(N2, 2), np.full(N3, 3)])\n",
    "y1 = plot.plate_thickness.astype(int)\n",
    "\n",
    "y2 = plot.post.astype(float)\n",
    "y3=plot.testspeed.map({'x':10,'y':5})\n",
    "y4 = plot.Rp.astype(float)\n",
    "#y5 = np.random.uniform(0, 800, N)\n",
    "\n",
    "all=pd.DataFrame({\n",
    "    'y1':y1,\n",
    "    'y2':y2,\n",
    "    'y3':y3,\n",
    "    'y4':y4\n",
    "\n",
    "\n",
    "})\n",
    "display(all)\n",
    "all.dropna(axis=0,inplace=True)\n",
    "all=all[all['y4']>0]\n",
    "all=all[all['y4']<1500]\n",
    "display(all)\n",
    "\n",
    "y1=all['y1']\n",
    "y2=all['y2']\n",
    "y3=all['y3']\n",
    "y4=all['y4']\n",
    "\n",
    "# organize the data\n",
    "ys = np.dstack([y1, y2, y3, y4])[0]\n",
    "ymins = ys.min(axis=0)\n",
    "ymaxs = ys.max(axis=0)\n",
    "dys = ymaxs - ymins\n",
    "ymins -= dys * 0.05  # add 5% padding below and above\n",
    "ymaxs += dys * 0.05\n",
    "dys = ymaxs - ymins\n",
    "\n",
    "# transform all data to be compatible with the main axis\n",
    "zs = np.zeros_like(ys)\n",
    "zs[:, 0] = ys[:, 0]\n",
    "zs[:, 1:] = (ys[:, 1:] - ymins[1:]) / dys[1:] * dys[0] + ymins[0]\n",
    "\n",
    "\n",
    "axes = [host] + [host.twinx() for i in range(ys.shape[1] - 1)]\n",
    "for i, ax in enumerate(axes):\n",
    "    ax.set_ylim(ymins[i], ymaxs[i])\n",
    "    ax.spines['top'].set_visible(False)\n",
    "    ax.spines['bottom'].set_visible(False)\n",
    "    if ax != host:\n",
    "        ax.spines['left'].set_visible(False)\n",
    "        ax.yaxis.set_ticks_position('right')\n",
    "        ax.spines[\"right\"].set_position((\"axes\", i / (ys.shape[1] - 1)))\n",
    "\n",
    "host.set_xlim(0, ys.shape[1] - 1)\n",
    "host.set_xticks(range(ys.shape[1]))\n",
    "host.set_xticklabels(ynames, fontsize=14)\n",
    "host.tick_params(axis='x', which='major', pad=7)\n",
    "host.spines['right'].set_visible(False)\n",
    "host.xaxis.tick_top()\n",
    "host.set_title('Parallel Coordinates Plot', fontsize=18)\n",
    "\n",
    "colors = plt.cm.tab10.colors\n",
    "for j in range(N):\n",
    "    # to just draw straight lines between the axes:\n",
    "    # host.plot(range(ys.shape[1]), zs[j,:], c=colors[(category[j] - 1) % len(colors) ])\n",
    "\n",
    "    # create bezier curves\n",
    "    # for each axis, there will a control vertex at the point itself, one at 1/3rd towards the previous and one\n",
    "    #   at one third towards the next axis; the first and last axis have one less control vertex\n",
    "    # x-coordinate of the control vertices: at each integer (for the axes) and two inbetween\n",
    "    # y-coordinate: repeat every point three times, except the first and last only twice\n",
    "    verts = list(zip([x for x in np.linspace(0, len(ys) - 1, len(ys) * 3 - 2, endpoint=True)],\n",
    "                     np.repeat(zs[j, :], 3)[1:-1]))\n",
    "    # for x,y in verts: host.plot(x, y, 'go') # to show the control points of the beziers\n",
    "    codes = [Path.MOVETO] + [Path.CURVE4 for _ in range(len(verts) - 1)]\n",
    "    path = Path(verts, codes)\n",
    "    patch = patches.PathPatch(path, facecolor='none', lw=1, edgecolor=colors[category[j] - 1])\n",
    "    host.add_patch(patch)\n",
    "plt.tight_layout()\n",
    "plt.show()\"\"\""
   ],
   "metadata": {
    "collapsed": false,
    "pycharm": {
     "name": "#%%\n"
    }
   }
  },
  {
   "cell_type": "code",
   "execution_count": 340,
   "outputs": [
    {
     "data": {
      "text/plain": "['paths',\n 'ok',\n 'crack',\n 'pos',\n 'left_12-5',\n 'step_start',\n 'step_stop',\n 'index',\n 'material',\n 'senergie/GW',\n 'plate_thickness',\n 'testspeed',\n 'running_number',\n 'data',\n '-35_-33_idxs',\n '-33_-31_idxs',\n '-31_-29_idxs',\n '-29_-27_idxs',\n '-27_-25_idxs',\n '-25_-23_idxs',\n '-23_-21_idxs',\n '-21_-19_idxs',\n '-19_-17_idxs',\n '-17_-15_idxs',\n '-15_-13_idxs',\n '-13_-11_idxs',\n '-11_-9 _idxs',\n '-9_-7  _idxs',\n '-7_-5  _idxs',\n '-5_-3  _idxs',\n '-3_-1  _idxs',\n '-1_1   _idxs',\n '1_3    _idxs',\n '3_5    _idxs',\n '5_7    _idxs',\n '7_9    _idxs',\n '9_11   _idxs',\n '11_13  _idxs',\n '13_15  _idxs',\n '15_17  _idxs',\n '17_19  _idxs',\n '19_21  _idxs',\n '21_23  _idxs',\n '23_25  _idxs',\n '25_27  _idxs',\n '27_29  _idxs',\n '29_31  _idxs',\n '31_33  _idxs',\n '33_35  _idxs',\n '-35_-33_strain_p1',\n '-33_-31_strain_p1',\n '-31_-29_strain_p1',\n '-29_-27_strain_p1',\n '-27_-25_strain_p1',\n '-25_-23_strain_p1',\n '-23_-21_strain_p1',\n '-21_-19_strain_p1',\n '-19_-17_strain_p1',\n '-17_-15_strain_p1',\n '-15_-13_strain_p1',\n '-13_-11_strain_p1',\n '-11_-9 _strain_p1',\n '-9_-7  _strain_p1',\n '-7_-5  _strain_p1',\n '-5_-3  _strain_p1',\n '-3_-1  _strain_p1',\n '-1_1   _strain_p1',\n '1_3    _strain_p1',\n '3_5    _strain_p1',\n '5_7    _strain_p1',\n '7_9    _strain_p1',\n '9_11   _strain_p1',\n '11_13  _strain_p1',\n '13_15  _strain_p1',\n '15_17  _strain_p1',\n '17_19  _strain_p1',\n '19_21  _strain_p1',\n '21_23  _strain_p1',\n '23_25  _strain_p1',\n '25_27  _strain_p1',\n '27_29  _strain_p1',\n '29_31  _strain_p1',\n '31_33  _strain_p1',\n '33_35  _strain_p1',\n 'force',\n 'plate_width',\n 'sample_crossection',\n 'stress',\n 'data_len',\n '-35_-33_Emod',\n '-33_-31_Emod',\n '-31_-29_Emod',\n '-29_-27_Emod',\n '-27_-25_Emod',\n '-25_-23_Emod',\n '-23_-21_Emod',\n '-21_-19_Emod',\n '-19_-17_Emod',\n '-17_-15_Emod',\n '-15_-13_Emod',\n '-13_-11_Emod',\n '-11_-9 _Emod',\n '-9_-7  _Emod',\n '-7_-5  _Emod',\n '-5_-3  _Emod',\n '-3_-1  _Emod',\n '-1_1   _Emod',\n '1_3    _Emod',\n '3_5    _Emod',\n '5_7    _Emod',\n '7_9    _Emod',\n '9_11   _Emod',\n '11_13  _Emod',\n '13_15  _Emod',\n '15_17  _Emod',\n '17_19  _Emod',\n '19_21  _Emod',\n '21_23  _Emod',\n '23_25  _Emod',\n '25_27  _Emod',\n '27_29  _Emod',\n '29_31  _Emod',\n '31_33  _Emod',\n '33_35  _Emod',\n '-35_-33_rp02',\n '-33_-31_rp02',\n '-31_-29_rp02',\n '-29_-27_rp02',\n '-27_-25_rp02',\n '-25_-23_rp02',\n '-23_-21_rp02',\n '-21_-19_rp02',\n '-19_-17_rp02',\n '-17_-15_rp02',\n '-15_-13_rp02',\n '-13_-11_rp02',\n '-11_-9 _rp02',\n '-9_-7  _rp02',\n '-7_-5  _rp02',\n '-5_-3  _rp02',\n '-3_-1  _rp02',\n '-1_1   _rp02',\n '1_3    _rp02',\n '3_5    _rp02',\n '5_7    _rp02',\n '7_9    _rp02',\n '9_11   _rp02',\n '11_13  _rp02',\n '13_15  _rp02',\n '15_17  _rp02',\n '17_19  _rp02',\n '19_21  _rp02',\n '21_23  _rp02',\n '23_25  _rp02',\n '25_27  _rp02',\n '27_29  _rp02',\n '29_31  _rp02',\n '31_33  _rp02',\n '33_35  _rp02',\n '-35_-33_rp02_idx',\n '-33_-31_rp02_idx',\n '-31_-29_rp02_idx',\n '-29_-27_rp02_idx',\n '-27_-25_rp02_idx',\n '-25_-23_rp02_idx',\n '-23_-21_rp02_idx',\n '-21_-19_rp02_idx',\n '-19_-17_rp02_idx',\n '-17_-15_rp02_idx',\n '-15_-13_rp02_idx',\n '-13_-11_rp02_idx',\n '-11_-9 _rp02_idx',\n '-9_-7  _rp02_idx',\n '-7_-5  _rp02_idx',\n '-5_-3  _rp02_idx',\n '-3_-1  _rp02_idx',\n '-1_1   _rp02_idx',\n '1_3    _rp02_idx',\n '3_5    _rp02_idx',\n '5_7    _rp02_idx',\n '7_9    _rp02_idx',\n '9_11   _rp02_idx',\n '11_13  _rp02_idx',\n '13_15  _rp02_idx',\n '15_17  _rp02_idx',\n '17_19  _rp02_idx',\n '19_21  _rp02_idx',\n '21_23  _rp02_idx',\n '23_25  _rp02_idx',\n '25_27  _rp02_idx',\n '27_29  _rp02_idx',\n '29_31  _rp02_idx',\n '31_33  _rp02_idx',\n '33_35  _rp02_idx',\n 'Rp',\n 'Rpinclpos',\n 'post',\n 'Rpatsteps',\n 'Rpinclposstep']"
     },
     "metadata": {},
     "output_type": "display_data"
    }
   ],
   "source": [
    "display(list(tests_df.columns))"
   ],
   "metadata": {
    "collapsed": false,
    "pycharm": {
     "name": "#%%\n"
    }
   }
  },
  {
   "cell_type": "code",
   "execution_count": 341,
   "outputs": [
    {
     "data": {
      "text/plain": "\"i='QL_B_8xii_clipped_cut_lined'\\nfig,ax=plt.subplots(figsize=(15,10))\\nax.plot(posts,tests_df.loc[i,'Rp'])\""
     },
     "execution_count": 341,
     "metadata": {},
     "output_type": "execute_result"
    }
   ],
   "source": [
    "\"\"\"i='QL_B_8xii_clipped_cut_lined'\n",
    "fig,ax=plt.subplots(figsize=(15,10))\n",
    "ax.plot(posts,tests_df.loc[i,'Rp'])\"\"\""
   ],
   "metadata": {
    "collapsed": false,
    "pycharm": {
     "name": "#%%\n"
    }
   }
  },
  {
   "cell_type": "code",
   "execution_count": 342,
   "outputs": [
    {
     "data": {
      "text/plain": "<Figure size 1080x720 with 1 Axes>",
      "image/png": "[encoded data removed]"
     },
     "metadata": {},
     "output_type": "display_data"
    }
   ],
   "source": [
    "def contract():\n",
    "    i='QL_B_8xii_clipped_cut_lined'\n",
    "    fig,ax=plt.subplots(figsize=(15,10))\n",
    "    ax.plot(tests_df.loc[i,'-35_-33_strain_p1'] ,label='-35_-33_strain_p1')\n",
    "    ax.plot(tests_df.loc[i ,'-33_-31_strain_p1'],label='-33_-31_strain_p1')\n",
    "    ax.plot(tests_df.loc[i ,'-31_-29_strain_p1'],label='-31_-29_strain_p1')\n",
    "    ax.plot(tests_df.loc[i ,'-29_-27_strain_p1'],label='-29_-27_strain_p1')\n",
    "    ax.plot(tests_df.loc[i ,'-27_-25_strain_p1'],label='-27_-25_strain_p1')\n",
    "    ax.plot(tests_df.loc[i ,'-25_-23_strain_p1'],label='-25_-23_strain_p1')\n",
    "    ax.plot(tests_df.loc[i ,'-23_-21_strain_p1'],label='-23_-21_strain_p1')\n",
    "    ax.plot(tests_df.loc[i ,'-21_-19_strain_p1'],label='-21_-19_strain_p1')\n",
    "    ax.plot(tests_df.loc[i ,'-19_-17_strain_p1'],label='-19_-17_strain_p1')\n",
    "    ax.plot(tests_df.loc[i ,'-17_-15_strain_p1'],label='-17_-15_strain_p1')\n",
    "    ax.plot(tests_df.loc[i ,'-15_-13_strain_p1'],label='-15_-13_strain_p1')\n",
    "    ax.plot(tests_df.loc[i ,'-13_-11_strain_p1'],label='-13_-11_strain_p1')\n",
    "    ax.plot(tests_df.loc[i ,'-11_-9 _strain_p1'],label='-11_-9 _strain_p1')\n",
    "    ax.plot(tests_df.loc[i ,'-9_-7  _strain_p1'],label='-9_-7  _strain_p1')\n",
    "    ax.plot(tests_df.loc[i ,'-7_-5  _strain_p1'],label='-7_-5  _strain_p1')\n",
    "    ax.plot(tests_df.loc[i ,'-5_-3  _strain_p1'],label='-5_-3  _strain_p1')\n",
    "    ax.plot(tests_df.loc[i ,'-3_-1  _strain_p1'],label='-3_-1  _strain_p1')\n",
    "    ax.plot(tests_df.loc[i ,'-1_1   _strain_p1'],label='-1_1   _strain_p1')\n",
    "    ax.plot(tests_df.loc[i ,'1_3    _strain_p1'],label='1_3    _strain_p1')\n",
    "    ax.plot(tests_df.loc[i ,'3_5    _strain_p1'],label='3_5    _strain_p1')\n",
    "    ax.plot(tests_df.loc[i ,'5_7    _strain_p1'],label='5_7    _strain_p1')\n",
    "    ax.plot(tests_df.loc[i ,'7_9    _strain_p1'],label='7_9    _strain_p1')\n",
    "    ax.plot(tests_df.loc[i ,'9_11   _strain_p1'],label='9_11   _strain_p1')\n",
    "    ax.plot(tests_df.loc[i ,'11_13  _strain_p1'],label='11_13  _strain_p1')\n",
    "    ax.plot(tests_df.loc[i ,'13_15  _strain_p1'],label='13_15  _strain_p1')\n",
    "    ax.plot(tests_df.loc[i ,'15_17  _strain_p1'],label='15_17  _strain_p1')\n",
    "    ax.plot(tests_df.loc[i ,'17_19  _strain_p1'],label='17_19  _strain_p1')\n",
    "    ax.plot(tests_df.loc[i ,'19_21  _strain_p1'],label='19_21  _strain_p1')\n",
    "    ax.plot(tests_df.loc[i ,'21_23  _strain_p1'],label='21_23  _strain_p1')\n",
    "    ax.plot(tests_df.loc[i ,'23_25  _strain_p1'],label='23_25  _strain_p1')\n",
    "    ax.plot(tests_df.loc[i ,'25_27  _strain_p1'],label='25_27  _strain_p1')\n",
    "    ax.plot(tests_df.loc[i ,'27_29  _strain_p1'],label='27_29  _strain_p1')\n",
    "    ax.plot(tests_df.loc[i ,'29_31  _strain_p1'],label='29_31  _strain_p1')\n",
    "    ax.plot(tests_df.loc[i ,'31_33  _strain_p1'],label='31_33  _strain_p1')\n",
    "    ax.plot(tests_df.loc[i ,'33_35  _strain_p1'],label='33_35  _strain_p1')\n",
    "    ax.legend(loc='upper left')\n",
    "    plt.show()\n",
    "contract()"
   ],
   "metadata": {
    "collapsed": false,
    "pycharm": {
     "name": "#%%\n"
    }
   }
  },
  {
   "cell_type": "code",
   "execution_count": 343,
   "outputs": [
    {
     "data": {
      "text/plain": "'plot=plot[plot[\\'material\\']==\\'MC\\']\\nplot=plot[plot[\\'plate_thickness\\']==\\'6\\']\\nplot=plot[plot[\\'senergie/GW\\']==\\'A\\']\\ny2 = plot.post.astype(float)\\ny3=plot.testspeed.map({\\'x\\':10,\\'y\\':5})\\ny4 = plot.Rp.astype(float)\\n#y5 = np.random.uniform(0, 800, N)\\n\\nall=pd.DataFrame({\\n    \\'y1\\':y1,\\n    \\'y2\\':y2,\\n    \\'y3\\':y3,\\n    \\'y4\\':y4\\n\\n\\n})\\nimport plotly.express as px\\ndf = px.data.iris()\\nfig = px.parallel_coordinates(all, color=\"y4\", labels={\"y1\": \"plate_thickness\",\\n                \"y2\": \"position\", \"y3\": \"test_speed\",\\n                \"y4\": \"Rp\" },\\n                             color_continuous_scale=\\'viridis\\',#px.colors.qualitative.Dark24,\\n                             color_continuous_midpoint=2)\\nfig.show()'"
     },
     "execution_count": 343,
     "metadata": {},
     "output_type": "execute_result"
    }
   ],
   "source": [
    "\"\"\"plot=plot[plot['material']=='MC']\n",
    "plot=plot[plot['plate_thickness']=='6']\n",
    "plot=plot[plot['senergie/GW']=='A']\n",
    "y2 = plot.post.astype(float)\n",
    "y3=plot.testspeed.map({'x':10,'y':5})\n",
    "y4 = plot.Rp.astype(float)\n",
    "#y5 = np.random.uniform(0, 800, N)\n",
    "\n",
    "all=pd.DataFrame({\n",
    "    'y1':y1,\n",
    "    'y2':y2,\n",
    "    'y3':y3,\n",
    "    'y4':y4\n",
    "\n",
    "\n",
    "})\n",
    "import plotly.express as px\n",
    "df = px.data.iris()\n",
    "fig = px.parallel_coordinates(all, color=\"y4\", labels={\"y1\": \"plate_thickness\",\n",
    "                \"y2\": \"position\", \"y3\": \"test_speed\",\n",
    "                \"y4\": \"Rp\" },\n",
    "                             color_continuous_scale='viridis',#px.colors.qualitative.Dark24,\n",
    "                             color_continuous_midpoint=2)\n",
    "fig.show()\"\"\""
   ],
   "metadata": {
    "collapsed": false,
    "pycharm": {
     "name": "#%%\n"
    }
   }
  },
  {
   "cell_type": "code",
   "execution_count": 344,
   "outputs": [
    {
     "data": {
      "text/plain": "1096.754372965333"
     },
     "metadata": {},
     "output_type": "display_data"
    }
   ],
   "source": [
    "i='QL_B_8xii_clipped_cut_lined'\n",
    "display(tests_df.loc[i,'-15_-13_rp02'])"
   ],
   "metadata": {
    "collapsed": false,
    "pycharm": {
     "name": "#%%\n"
    }
   }
  },
  {
   "cell_type": "code",
   "execution_count": 344,
   "outputs": [],
   "source": [],
   "metadata": {
    "collapsed": false,
    "pycharm": {
     "name": "#%%\n"
    }
   }
  },
  {
   "cell_type": "code",
   "execution_count": 344,
   "outputs": [],
   "source": [],
   "metadata": {
    "collapsed": false,
    "pycharm": {
     "name": "#%%\n"
    }
   }
  },
  {
   "cell_type": "code",
   "execution_count": null,
   "outputs": [],
   "source": [],
   "metadata": {
    "collapsed": false,
    "pycharm": {
     "name": "#%%\n"
    }
   }
  }
 ],
 "metadata": {
  "kernelspec": {
   "display_name": "Python 3",
   "language": "python",
   "name": "python3"
  },
  "language_info": {
   "codemirror_mode": {
    "name": "ipython",
    "version": 2
   },
   "file_extension": ".py",
   "mimetype": "text/x-python",
   "name": "python",
   "nbconvert_exporter": "python",
   "pygments_lexer": "ipython2",
   "version": "2.7.6"
  }
 },
 "nbformat": 4,
 "nbformat_minor": 0
}