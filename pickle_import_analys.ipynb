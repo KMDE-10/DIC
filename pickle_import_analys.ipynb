{
 "cells": [
  {
   "cell_type": "code",
   "execution_count": 1,
   "metadata": {
    "collapsed": true
   },
   "outputs": [],
   "source": [
    "import pandas as pd\n",
    "import numpy as np\n",
    "import matplotlib.pyplot as plt\n",
    "from IPython.display import display\n",
    "import os\n",
    "import h5py as hdf\n",
    "import scipy as scp\n",
    "\n",
    "plt.rcParams['figure.facecolor'] = 'white'"
   ]
  },
  {
   "cell_type": "code",
   "execution_count": 2,
   "outputs": [],
   "source": [
    "positions=pd.read_excel('Y:\\\\Istra Repositories\\\\ch-gr_exports\\\\Querzug_overview.xlsx')\n",
    "positions=positions.iloc[:,1:].set_index('name')"
   ],
   "metadata": {
    "collapsed": false,
    "pycharm": {
     "name": "#%%\n"
    }
   }
  },
  {
   "cell_type": "code",
   "execution_count": 3,
   "outputs": [],
   "source": [
    "#display(positions[(positions.ok==1.0) | (positions.ok==2.0)])"
   ],
   "metadata": {
    "collapsed": false,
    "pycharm": {
     "name": "#%%\n"
    }
   }
  },
  {
   "cell_type": "code",
   "execution_count": 4,
   "outputs": [],
   "source": [
    "def get_df_mask(array:np.ndarray)->pd.DataFrame:\n",
    "    df=pd.DataFrame(array)\n",
    "    after=df.copy()\n",
    "    after[after==0.]=np.nan\n",
    "    after=np.divide(after,after)\n",
    "    return(after)\n",
    "def mask_df(df:np.ndarray,mask:np.ndarray)-> pd.DataFrame:\n",
    "    after=np.multiply(df,mask)\n",
    "    after=pd.DataFrame(after)\n",
    "    after.dropna(how='all',axis=0,inplace=True)\n",
    "    after.dropna(how='all',axis=1,inplace=True)\n",
    "    return(after)\n",
    "def strip_nans(df):\n",
    "    after=df.copy()\n",
    "    after.dropna(how='all',axis=0,inplace=True)\n",
    "    after.dropna(how='all',axis=1,inplace=True)\n",
    "    return(after)"
   ],
   "metadata": {
    "collapsed": false,
    "pycharm": {
     "name": "#%%\n"
    }
   }
  },
  {
   "cell_type": "code",
   "execution_count": 5,
   "outputs": [
    {
     "ename": "KeyboardInterrupt",
     "evalue": "",
     "output_type": "error",
     "traceback": [
      "\u001B[1;31m---------------------------------------------------------------------------\u001B[0m",
      "\u001B[1;31mKeyboardInterrupt\u001B[0m                         Traceback (most recent call last)",
      "\u001B[1;32m<ipython-input-5-3c2e29fe2372>\u001B[0m in \u001B[0;36m<module>\u001B[1;34m\u001B[0m\n\u001B[0;32m      1\u001B[0m \u001B[0msample\u001B[0m\u001B[1;33m=\u001B[0m\u001B[1;34m'MC_A_8yi'\u001B[0m\u001B[1;33m\u001B[0m\u001B[1;33m\u001B[0m\u001B[0m\n\u001B[0;32m      2\u001B[0m \u001B[0msamplelocation\u001B[0m\u001B[1;33m=\u001B[0m\u001B[1;34m'Y:\\\\Istra Repositories\\\\ch-gr_exports\\\\'\u001B[0m\u001B[1;33m+\u001B[0m\u001B[0msample\u001B[0m\u001B[1;33m+\u001B[0m\u001B[1;34m'.pickle'\u001B[0m\u001B[1;33m\u001B[0m\u001B[1;33m\u001B[0m\u001B[0m\n\u001B[1;32m----> 3\u001B[1;33m \u001B[0mlookup\u001B[0m\u001B[1;33m=\u001B[0m\u001B[0mpd\u001B[0m\u001B[1;33m.\u001B[0m\u001B[0mread_pickle\u001B[0m\u001B[1;33m(\u001B[0m\u001B[0msamplelocation\u001B[0m\u001B[1;33m,\u001B[0m\u001B[0mcompression\u001B[0m\u001B[1;33m=\u001B[0m\u001B[1;34m'zip'\u001B[0m\u001B[1;33m)\u001B[0m\u001B[1;33m\u001B[0m\u001B[1;33m\u001B[0m\u001B[0m\n\u001B[0m\u001B[0;32m      4\u001B[0m \u001B[1;33m\u001B[0m\u001B[0m\n",
      "\u001B[1;32m~\\Anaconda3\\envs\\DIC\\lib\\site-packages\\pandas\\io\\pickle.py\u001B[0m in \u001B[0;36mread_pickle\u001B[1;34m(filepath_or_buffer, compression, storage_options)\u001B[0m\n\u001B[0;32m    201\u001B[0m                     \u001B[1;31m# We want to silence any warnings about, e.g. moved modules.\u001B[0m\u001B[1;33m\u001B[0m\u001B[1;33m\u001B[0m\u001B[1;33m\u001B[0m\u001B[0m\n\u001B[0;32m    202\u001B[0m                     \u001B[0mwarnings\u001B[0m\u001B[1;33m.\u001B[0m\u001B[0msimplefilter\u001B[0m\u001B[1;33m(\u001B[0m\u001B[1;34m\"ignore\"\u001B[0m\u001B[1;33m,\u001B[0m \u001B[0mWarning\u001B[0m\u001B[1;33m)\u001B[0m\u001B[1;33m\u001B[0m\u001B[1;33m\u001B[0m\u001B[0m\n\u001B[1;32m--> 203\u001B[1;33m                     \u001B[1;32mreturn\u001B[0m \u001B[0mpickle\u001B[0m\u001B[1;33m.\u001B[0m\u001B[0mload\u001B[0m\u001B[1;33m(\u001B[0m\u001B[0mhandles\u001B[0m\u001B[1;33m.\u001B[0m\u001B[0mhandle\u001B[0m\u001B[1;33m)\u001B[0m  \u001B[1;31m# type: ignore[arg-type]\u001B[0m\u001B[1;33m\u001B[0m\u001B[1;33m\u001B[0m\u001B[0m\n\u001B[0m\u001B[0;32m    204\u001B[0m             \u001B[1;32mexcept\u001B[0m \u001B[0mexcs_to_catch\u001B[0m\u001B[1;33m:\u001B[0m\u001B[1;33m\u001B[0m\u001B[1;33m\u001B[0m\u001B[0m\n\u001B[0;32m    205\u001B[0m                 \u001B[1;31m# e.g.\u001B[0m\u001B[1;33m\u001B[0m\u001B[1;33m\u001B[0m\u001B[1;33m\u001B[0m\u001B[0m\n",
      "\u001B[1;32m~\\Anaconda3\\envs\\DIC\\lib\\zipfile.py\u001B[0m in \u001B[0;36mpeek\u001B[1;34m(self, n)\u001B[0m\n\u001B[0;32m    902\u001B[0m         \u001B[1;34m\"\"\"Returns buffered bytes without advancing the position.\"\"\"\u001B[0m\u001B[1;33m\u001B[0m\u001B[1;33m\u001B[0m\u001B[0m\n\u001B[0;32m    903\u001B[0m         \u001B[1;32mif\u001B[0m \u001B[0mn\u001B[0m \u001B[1;33m>\u001B[0m \u001B[0mlen\u001B[0m\u001B[1;33m(\u001B[0m\u001B[0mself\u001B[0m\u001B[1;33m.\u001B[0m\u001B[0m_readbuffer\u001B[0m\u001B[1;33m)\u001B[0m \u001B[1;33m-\u001B[0m \u001B[0mself\u001B[0m\u001B[1;33m.\u001B[0m\u001B[0m_offset\u001B[0m\u001B[1;33m:\u001B[0m\u001B[1;33m\u001B[0m\u001B[1;33m\u001B[0m\u001B[0m\n\u001B[1;32m--> 904\u001B[1;33m             \u001B[0mchunk\u001B[0m \u001B[1;33m=\u001B[0m \u001B[0mself\u001B[0m\u001B[1;33m.\u001B[0m\u001B[0mread\u001B[0m\u001B[1;33m(\u001B[0m\u001B[0mn\u001B[0m\u001B[1;33m)\u001B[0m\u001B[1;33m\u001B[0m\u001B[1;33m\u001B[0m\u001B[0m\n\u001B[0m\u001B[0;32m    905\u001B[0m             \u001B[1;32mif\u001B[0m \u001B[0mlen\u001B[0m\u001B[1;33m(\u001B[0m\u001B[0mchunk\u001B[0m\u001B[1;33m)\u001B[0m \u001B[1;33m>\u001B[0m \u001B[0mself\u001B[0m\u001B[1;33m.\u001B[0m\u001B[0m_offset\u001B[0m\u001B[1;33m:\u001B[0m\u001B[1;33m\u001B[0m\u001B[1;33m\u001B[0m\u001B[0m\n\u001B[0;32m    906\u001B[0m                 \u001B[0mself\u001B[0m\u001B[1;33m.\u001B[0m\u001B[0m_readbuffer\u001B[0m \u001B[1;33m=\u001B[0m \u001B[0mchunk\u001B[0m \u001B[1;33m+\u001B[0m \u001B[0mself\u001B[0m\u001B[1;33m.\u001B[0m\u001B[0m_readbuffer\u001B[0m\u001B[1;33m[\u001B[0m\u001B[0mself\u001B[0m\u001B[1;33m.\u001B[0m\u001B[0m_offset\u001B[0m\u001B[1;33m:\u001B[0m\u001B[1;33m]\u001B[0m\u001B[1;33m\u001B[0m\u001B[1;33m\u001B[0m\u001B[0m\n",
      "\u001B[1;32m~\\Anaconda3\\envs\\DIC\\lib\\zipfile.py\u001B[0m in \u001B[0;36mread\u001B[1;34m(self, n)\u001B[0m\n\u001B[0;32m    938\u001B[0m         \u001B[0mself\u001B[0m\u001B[1;33m.\u001B[0m\u001B[0m_offset\u001B[0m \u001B[1;33m=\u001B[0m \u001B[1;36m0\u001B[0m\u001B[1;33m\u001B[0m\u001B[1;33m\u001B[0m\u001B[0m\n\u001B[0;32m    939\u001B[0m         \u001B[1;32mwhile\u001B[0m \u001B[0mn\u001B[0m \u001B[1;33m>\u001B[0m \u001B[1;36m0\u001B[0m \u001B[1;32mand\u001B[0m \u001B[1;32mnot\u001B[0m \u001B[0mself\u001B[0m\u001B[1;33m.\u001B[0m\u001B[0m_eof\u001B[0m\u001B[1;33m:\u001B[0m\u001B[1;33m\u001B[0m\u001B[1;33m\u001B[0m\u001B[0m\n\u001B[1;32m--> 940\u001B[1;33m             \u001B[0mdata\u001B[0m \u001B[1;33m=\u001B[0m \u001B[0mself\u001B[0m\u001B[1;33m.\u001B[0m\u001B[0m_read1\u001B[0m\u001B[1;33m(\u001B[0m\u001B[0mn\u001B[0m\u001B[1;33m)\u001B[0m\u001B[1;33m\u001B[0m\u001B[1;33m\u001B[0m\u001B[0m\n\u001B[0m\u001B[0;32m    941\u001B[0m             \u001B[1;32mif\u001B[0m \u001B[0mn\u001B[0m \u001B[1;33m<\u001B[0m \u001B[0mlen\u001B[0m\u001B[1;33m(\u001B[0m\u001B[0mdata\u001B[0m\u001B[1;33m)\u001B[0m\u001B[1;33m:\u001B[0m\u001B[1;33m\u001B[0m\u001B[1;33m\u001B[0m\u001B[0m\n\u001B[0;32m    942\u001B[0m                 \u001B[0mself\u001B[0m\u001B[1;33m.\u001B[0m\u001B[0m_readbuffer\u001B[0m \u001B[1;33m=\u001B[0m \u001B[0mdata\u001B[0m\u001B[1;33m\u001B[0m\u001B[1;33m\u001B[0m\u001B[0m\n",
      "\u001B[1;32m~\\Anaconda3\\envs\\DIC\\lib\\zipfile.py\u001B[0m in \u001B[0;36m_read1\u001B[1;34m(self, n)\u001B[0m\n\u001B[0;32m   1006\u001B[0m             \u001B[0mdata\u001B[0m \u001B[1;33m=\u001B[0m \u001B[0mself\u001B[0m\u001B[1;33m.\u001B[0m\u001B[0m_decompressor\u001B[0m\u001B[1;33m.\u001B[0m\u001B[0munconsumed_tail\u001B[0m\u001B[1;33m\u001B[0m\u001B[1;33m\u001B[0m\u001B[0m\n\u001B[0;32m   1007\u001B[0m             \u001B[1;32mif\u001B[0m \u001B[0mn\u001B[0m \u001B[1;33m>\u001B[0m \u001B[0mlen\u001B[0m\u001B[1;33m(\u001B[0m\u001B[0mdata\u001B[0m\u001B[1;33m)\u001B[0m\u001B[1;33m:\u001B[0m\u001B[1;33m\u001B[0m\u001B[1;33m\u001B[0m\u001B[0m\n\u001B[1;32m-> 1008\u001B[1;33m                 \u001B[0mdata\u001B[0m \u001B[1;33m+=\u001B[0m \u001B[0mself\u001B[0m\u001B[1;33m.\u001B[0m\u001B[0m_read2\u001B[0m\u001B[1;33m(\u001B[0m\u001B[0mn\u001B[0m \u001B[1;33m-\u001B[0m \u001B[0mlen\u001B[0m\u001B[1;33m(\u001B[0m\u001B[0mdata\u001B[0m\u001B[1;33m)\u001B[0m\u001B[1;33m)\u001B[0m\u001B[1;33m\u001B[0m\u001B[1;33m\u001B[0m\u001B[0m\n\u001B[0m\u001B[0;32m   1009\u001B[0m         \u001B[1;32melse\u001B[0m\u001B[1;33m:\u001B[0m\u001B[1;33m\u001B[0m\u001B[1;33m\u001B[0m\u001B[0m\n\u001B[0;32m   1010\u001B[0m             \u001B[0mdata\u001B[0m \u001B[1;33m=\u001B[0m \u001B[0mself\u001B[0m\u001B[1;33m.\u001B[0m\u001B[0m_read2\u001B[0m\u001B[1;33m(\u001B[0m\u001B[0mn\u001B[0m\u001B[1;33m)\u001B[0m\u001B[1;33m\u001B[0m\u001B[1;33m\u001B[0m\u001B[0m\n",
      "\u001B[1;32m~\\Anaconda3\\envs\\DIC\\lib\\zipfile.py\u001B[0m in \u001B[0;36m_read2\u001B[1;34m(self, n)\u001B[0m\n\u001B[0;32m   1038\u001B[0m         \u001B[0mn\u001B[0m \u001B[1;33m=\u001B[0m \u001B[0mmin\u001B[0m\u001B[1;33m(\u001B[0m\u001B[0mn\u001B[0m\u001B[1;33m,\u001B[0m \u001B[0mself\u001B[0m\u001B[1;33m.\u001B[0m\u001B[0m_compress_left\u001B[0m\u001B[1;33m)\u001B[0m\u001B[1;33m\u001B[0m\u001B[1;33m\u001B[0m\u001B[0m\n\u001B[0;32m   1039\u001B[0m \u001B[1;33m\u001B[0m\u001B[0m\n\u001B[1;32m-> 1040\u001B[1;33m         \u001B[0mdata\u001B[0m \u001B[1;33m=\u001B[0m \u001B[0mself\u001B[0m\u001B[1;33m.\u001B[0m\u001B[0m_fileobj\u001B[0m\u001B[1;33m.\u001B[0m\u001B[0mread\u001B[0m\u001B[1;33m(\u001B[0m\u001B[0mn\u001B[0m\u001B[1;33m)\u001B[0m\u001B[1;33m\u001B[0m\u001B[1;33m\u001B[0m\u001B[0m\n\u001B[0m\u001B[0;32m   1041\u001B[0m         \u001B[0mself\u001B[0m\u001B[1;33m.\u001B[0m\u001B[0m_compress_left\u001B[0m \u001B[1;33m-=\u001B[0m \u001B[0mlen\u001B[0m\u001B[1;33m(\u001B[0m\u001B[0mdata\u001B[0m\u001B[1;33m)\u001B[0m\u001B[1;33m\u001B[0m\u001B[1;33m\u001B[0m\u001B[0m\n\u001B[0;32m   1042\u001B[0m         \u001B[1;32mif\u001B[0m \u001B[1;32mnot\u001B[0m \u001B[0mdata\u001B[0m\u001B[1;33m:\u001B[0m\u001B[1;33m\u001B[0m\u001B[1;33m\u001B[0m\u001B[0m\n",
      "\u001B[1;32m~\\Anaconda3\\envs\\DIC\\lib\\zipfile.py\u001B[0m in \u001B[0;36mread\u001B[1;34m(self, n)\u001B[0m\n\u001B[0;32m    762\u001B[0m                         \"Close the writing handle before trying to read.\")\n\u001B[0;32m    763\u001B[0m             \u001B[0mself\u001B[0m\u001B[1;33m.\u001B[0m\u001B[0m_file\u001B[0m\u001B[1;33m.\u001B[0m\u001B[0mseek\u001B[0m\u001B[1;33m(\u001B[0m\u001B[0mself\u001B[0m\u001B[1;33m.\u001B[0m\u001B[0m_pos\u001B[0m\u001B[1;33m)\u001B[0m\u001B[1;33m\u001B[0m\u001B[1;33m\u001B[0m\u001B[0m\n\u001B[1;32m--> 764\u001B[1;33m             \u001B[0mdata\u001B[0m \u001B[1;33m=\u001B[0m \u001B[0mself\u001B[0m\u001B[1;33m.\u001B[0m\u001B[0m_file\u001B[0m\u001B[1;33m.\u001B[0m\u001B[0mread\u001B[0m\u001B[1;33m(\u001B[0m\u001B[0mn\u001B[0m\u001B[1;33m)\u001B[0m\u001B[1;33m\u001B[0m\u001B[1;33m\u001B[0m\u001B[0m\n\u001B[0m\u001B[0;32m    765\u001B[0m             \u001B[0mself\u001B[0m\u001B[1;33m.\u001B[0m\u001B[0m_pos\u001B[0m \u001B[1;33m=\u001B[0m \u001B[0mself\u001B[0m\u001B[1;33m.\u001B[0m\u001B[0m_file\u001B[0m\u001B[1;33m.\u001B[0m\u001B[0mtell\u001B[0m\u001B[1;33m(\u001B[0m\u001B[1;33m)\u001B[0m\u001B[1;33m\u001B[0m\u001B[1;33m\u001B[0m\u001B[0m\n\u001B[0;32m    766\u001B[0m             \u001B[1;32mreturn\u001B[0m \u001B[0mdata\u001B[0m\u001B[1;33m\u001B[0m\u001B[1;33m\u001B[0m\u001B[0m\n",
      "\u001B[1;31mKeyboardInterrupt\u001B[0m: "
     ]
    }
   ],
   "source": [
    "sample='MC_A_8yi'\n",
    "samplelocation='Y:\\\\Istra Repositories\\\\ch-gr_exports\\\\'+sample+'.pickle'\n",
    "lookup=pd.read_pickle(samplelocation,compression='zip')"
   ],
   "metadata": {
    "collapsed": false,
    "pycharm": {
     "name": "#%%\n"
    }
   }
  },
  {
   "cell_type": "code",
   "execution_count": null,
   "outputs": [],
   "source": [
    "def seam_zoom(lookup:pd.DataFrame,vis:str,name:str,positions:pd.DataFrame,width:int):\n",
    "    \"\"\"sample=name\n",
    "    samplelocation='Y:\\\\Istra Repositories\\\\ch-gr_exports\\\\'+sample+'.pickle'\n",
    "    lookup=pd.read_pickle(samplelocation,compression='zip')\"\"\"\n",
    "    stencil_df=pd.DataFrame(lookup.iloc[10,:][(      'strains',                   'strain_p1')])\n",
    "    stencil=get_df_mask(stencil_df)\n",
    "    length_measurement=(mask_df(lookup.iloc[10,:][('coordinates','coordinate_y')],stencil))\n",
    "    #vis_df_masked=mask_df(lookup.iloc[230,:][vis],stencil)\n",
    "    #plt.matshow(vis_df_masked)\n",
    "    #---------------------------------------------\n",
    "    mean_dict={col:np.nanmean(length_measurement.loc[:,col]) for col in length_measurement.columns}\n",
    "    measurement_lookup_df=pd.DataFrame(data=mean_dict.values(), index=mean_dict.keys(),columns=['mm'])\n",
    "    crack_idx=int(positions.loc[name,'crack'])\n",
    "    seam_idx=int(positions.loc[name,'pos'])\n",
    "    crack_y_mm=measurement_lookup_df.loc[crack_idx,'mm']\n",
    "    pos_y_mm=measurement_lookup_df.loc[seam_idx,'mm']\n",
    "    #display(pos_y_mm)\n",
    "    left_pos_y_mm=pos_y_mm+(width/2)\n",
    "    #display(left_pos_y_mm)\n",
    "    left_pos_y_idx=measurement_lookup_df.iloc[(measurement_lookup_df['mm']-left_pos_y_mm).abs().argsort()[:1]].index.tolist()[0]\n",
    "    right_pos_y_mm=pos_y_mm-(width/2)\n",
    "    right_pos_y_idx=measurement_lookup_df.iloc[(measurement_lookup_df['mm']-right_pos_y_mm).abs().argsort()[:1]].index.tolist()[0]\n",
    "\n",
    "    \"\"\"fix,[ax1,ax2]=plt.subplots(2,1,figsize=(10,5))\n",
    "    imb=ax1.matshow(vis_df_masked)\n",
    "    ax1.axvline(seam_idx,color='red')\n",
    "    ax1.axvline(crack_idx,color='turquoise')\n",
    "    ax1.axvline(left_pos_y_idx,color='yellow')\n",
    "    ax1.axvline(right_pos_y_idx,color='yellow')\n",
    "    imf=ax2.matshow(mask_df(lookup.iloc[232,:][(      'strains',                   'strain_p1')],stencil).loc[:,left_pos_y_idx:right_pos_y_idx])\n",
    "    offset=left_pos_y_idx\n",
    "    ax2.axvline(seam_idx-offset,color='red')\n",
    "    ax2.axvline(crack_idx-offset,color='turquoise')\n",
    "    ax2.axvline(left_pos_y_idx-offset,color='yellow')\n",
    "    ax2.axvline(right_pos_y_idx-offset,color='yellow')\n",
    "    #ax2.set_xticklabels(np.arange(left_pos_y_idx,right_pos_y_idx,10))\n",
    "    #display(seam_idx,left_pos_y_idx,right_pos_y_idx)\"\"\"\n",
    "    plt.show()\n",
    "    return(seam_idx,left_pos_y_idx,right_pos_y_idx,crack_idx)\n",
    "#idxs=seam_zoom(lookup,('strains','strain_p1'),sample,positions)"
   ],
   "metadata": {
    "collapsed": false,
    "pycharm": {
     "name": "#%%\n"
    }
   }
  },
  {
   "cell_type": "code",
   "execution_count": null,
   "outputs": [],
   "source": [
    "def refine_stencil(stencil_df_nonans,left,right):\n",
    "    stencil_df_nonans.loc[:,:left]=np.nan\n",
    "    stencil_df_nonans.loc[:,right:]=np.nan\n",
    "    return(stencil_df_nonans)\n",
    "#plt.matshow(refine_stencil(stencil_df_nonans,100,150))"
   ],
   "metadata": {
    "collapsed": false,
    "pycharm": {
     "name": "#%%\n"
    }
   }
  },
  {
   "cell_type": "code",
   "execution_count": null,
   "outputs": [],
   "source": [
    "def create_full_stencil(lookup,positions,name,width):\n",
    "    stencil_df_origin=pd.DataFrame(lookup.iloc[10,:][(      'strains',                   'strain_p1')])\n",
    "    stencil_df_nonans=get_df_mask(stencil_df_origin)\n",
    "    borders=seam_zoom(lookup,('strains','strain_p1'),name,positions,width)\n",
    "    full_stencil=refine_stencil(stencil_df_nonans,borders[1],borders[2])\n",
    "    return(full_stencil)\n",
    "def apply_full_stencil(lookup,stencil):\n",
    "    vis=pd.DataFrame(lookup)\n",
    "    vis=vis.multiply(stencil)\n",
    "    vis=strip_nans(vis)\n",
    "    return vis\n",
    "#plt.matshow(create_full_stencil(lookup,positions,sample,25))"
   ],
   "metadata": {
    "collapsed": false,
    "pycharm": {
     "name": "#%%\n"
    }
   }
  },
  {
   "cell_type": "code",
   "execution_count": null,
   "outputs": [],
   "source": [
    "stencil=create_full_stencil(lookup,positions,sample,25)\n",
    "vis=pd.DataFrame(lookup.iloc[500,:][(      'strains',                   'strain_p1')])\n",
    "plt.matshow(vis)\n",
    "plt.matshow(vis.multiply(stencil))\n",
    "plt.matshow(apply_full_stencil(vis,stencil))"
   ],
   "metadata": {
    "collapsed": false,
    "pycharm": {
     "name": "#%%\n"
    }
   }
  },
  {
   "cell_type": "code",
   "execution_count": null,
   "outputs": [],
   "source": [
    "stenciled_lookup=lookup.applymap(lambda x:apply_full_stencil(x,stencil))"
   ],
   "metadata": {
    "collapsed": false,
    "pycharm": {
     "name": "#%%\n"
    }
   }
  },
  {
   "cell_type": "code",
   "execution_count": null,
   "outputs": [],
   "source": [
    "plt.matshow(lookup.iloc[500,:][('strains',                   'strain_p1')])\n",
    "plt.colorbar()"
   ],
   "metadata": {
    "collapsed": false,
    "pycharm": {
     "name": "#%%\n"
    }
   }
  },
  {
   "cell_type": "code",
   "execution_count": null,
   "outputs": [],
   "source": [
    "plt.matshow(stenciled_lookup.iloc[500,:][('strains',                   'strain_p1')])"
   ],
   "metadata": {
    "collapsed": false,
    "pycharm": {
     "name": "#%%\n"
    }
   }
  },
  {
   "cell_type": "code",
   "execution_count": null,
   "outputs": [],
   "source": [
    "meanvector=stenciled_lookup.loc[:,('strains',                   'strain_p1')].apply(lambda x:np.nanvar(x)).values\n",
    "plt.plot(meanvector[:530])"
   ],
   "metadata": {
    "collapsed": false,
    "pycharm": {
     "name": "#%%\n"
    }
   }
  },
  {
   "cell_type": "code",
   "execution_count": null,
   "outputs": [],
   "source": [],
   "metadata": {
    "collapsed": false,
    "pycharm": {
     "name": "#%%\n"
    }
   }
  },
  {
   "cell_type": "code",
   "execution_count": null,
   "outputs": [],
   "source": [],
   "metadata": {
    "collapsed": false,
    "pycharm": {
     "name": "#%%\n"
    }
   }
  }
 ],
 "metadata": {
  "kernelspec": {
   "display_name": "Python 3",
   "language": "python",
   "name": "python3"
  },
  "language_info": {
   "codemirror_mode": {
    "name": "ipython",
    "version": 2
   },
   "file_extension": ".py",
   "mimetype": "text/x-python",
   "name": "python",
   "nbconvert_exporter": "python",
   "pygments_lexer": "ipython2",
   "version": "2.7.6"
  }
 },
 "nbformat": 4,
 "nbformat_minor": 0
}