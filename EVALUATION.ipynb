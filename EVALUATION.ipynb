{
 "cells": [
  {
   "cell_type": "code",
   "execution_count": 172,
   "metadata": {
    "collapsed": true
   },
   "outputs": [],
   "source": [
    "import pandas as pd\n",
    "import numpy as np\n",
    "import matplotlib.pyplot as plt\n",
    "from IPython.display import display\n",
    "import os\n",
    "plt.rcParams['figure.facecolor'] = 'white'\n",
    "\n",
    "from numba import jit"
   ]
  },
  {
   "cell_type": "code",
   "execution_count": 172,
   "outputs": [],
   "source": [],
   "metadata": {
    "collapsed": false,
    "pycharm": {
     "name": "#%%\n"
    }
   }
  },
  {
   "cell_type": "code",
   "execution_count": 173,
   "outputs": [],
   "source": [
    "def gather_universal(path: str,filetype: str)-> list:\n",
    "    subdir=path\n",
    "\n",
    "    data=[]\n",
    "    for path, subdirs, files in os.walk(subdir):\n",
    "        for name in files:\n",
    "            if name.endswith(filetype) and name[-5]!='t'  :\n",
    "\n",
    "                b=(str(os.path.join(path, name)))\n",
    "                data.append(b)\n",
    "\n",
    "                #print (str(os.path.join(path, name)))\n",
    "    return data\n",
    "def sort_on_last(list:list)->list:\n",
    "    df=pd.DataFrame({'list': list})\n",
    "    df['nums']=df['list'].apply(lambda x:x.split('_')[-1].split('.')[0])\n",
    "    df['nums']=df.nums.astype(int)\n",
    "    df.sort_values(by='nums',inplace=True)\n",
    "    #display(df)\n",
    "    return(np.array(df['list']))\n",
    "@jit(nopython=True)\n",
    "def clean_file(file):\n",
    "        for num,line in enumerate(file):\n",
    "\n",
    "            a=line.replace(',','.')\n",
    "            a=a.replace('e-00','e-')\n",
    "            a=a.replace('e-0','e-')\n",
    "            a=a.replace('\\n','')\n",
    "            a=a.replace('\\t\\t\\t\\t','\\t\\t')\n",
    "            file[num]=a\n",
    "\n",
    "\n",
    "        return file\n",
    "@jit(nopython=True)\n",
    "def get_col_unit(file):\n",
    "        cols=file[1].split('\\t')\n",
    "        units=file[2].split('\\t')\n",
    "\n",
    "        col_unit=[]\n",
    "        for i,v in enumerate(cols):\n",
    "            col_unit.append(v+' ['+units[i]+']')\n",
    "        return(col_unit)\n",
    "@jit(nopython=False)\n",
    "def split_file(file,col_unit):\n",
    "        splitfile=np.array(col_unit)\n",
    "        for line in np.arange(3,len(file)):\n",
    "            a=np.array(file[line].split('\\t'),dtype=str)\n",
    "            splitfile=np.vstack((splitfile,a))\n",
    "        return(splitfile)\n",
    "@jit(nopython=True)\n",
    "def get_file(path)->list:\n",
    "\n",
    "        file=[]\n",
    "        with open(path, 'r') as reader:\n",
    "             # Read and print the entire file line by line\n",
    "            for line in reader:\n",
    "                file.append(line)\n",
    "        return(file)\n",
    "def get_force(path):\n",
    "    with open(path, 'r') as reader:\n",
    "        lines=reader.readlines()[:4]\n",
    "\n",
    "        #head = [next(reader) for x in range(4)]\n",
    "        #display(head)\n",
    "\n",
    "\n",
    "        #display(lines[3])\n",
    "        force=lines[3].split('\\t')[-2].split('\\n')[0].replace(',','.')\n",
    "        return float(force)\n",
    "\n",
    "def get_header(path)->list:\n",
    "    with open(path, 'r') as reader:\n",
    "        lines=reader.readlines()\n",
    "        cleanline1=lines[1].replace('\\n','').replace('\\t\\t\\t\\t','\\t').split('\\t')\n",
    "        cleanline2=lines[2].replace('\\n','').replace('\\t\\t\\t\\t','\\t').split('\\t')\n",
    "        #display(len(cleanline2),len(cleanline1))\n",
    "        col_unit=[]\n",
    "        for i,v in enumerate(cleanline1):\n",
    "            col_unit.append(v+' ['+cleanline2[i]+']')\n",
    "        #display(col_unit)\n",
    "        return(col_unit[:])\n",
    "\n",
    "#get_header('data/MC_A6yii/Step_149.txt')\n",
    "def manual_input(path:str)->pd.DataFrame:\n",
    "\n",
    "    file=get_file(path)        #print(line, end='')\n",
    "    file=clean_file(file)\n",
    "\n",
    "    col_unit=get_col_unit(file)\n",
    "\n",
    "    splitfile=split_file(file,col_unit)\n",
    "    df=pd.DataFrame(data=splitfile[1:,:],columns=splitfile[0,:])\n",
    "    display(df)\n",
    "    df[df=='']=np.nan\n",
    "    df=df.astype(np.float64)\n",
    "    #%%\n",
    "    display(df.columns)\n",
    "\n",
    "    f=df.loc[:,['x []','y []','strains [strain_p1/strain]']]\n",
    "    b=f.pivot(index='y []',columns='x []',values='strains [strain_p1/strain]')\n",
    "    display(b)\n",
    "    #%%\n",
    "    plt.matshow(b)"
   ],
   "metadata": {
    "collapsed": false,
    "pycharm": {
     "name": "#%%\n"
    }
   }
  },
  {
   "cell_type": "code",
   "execution_count": 174,
   "outputs": [],
   "source": [
    "def cleaner(filepath,exportnames):\n",
    "    fin = open(filepath, \"rt\")\n",
    "    #read file contents to string\n",
    "    data = fin.read()\n",
    "    #replace all occurrences of the required string\n",
    "    data = data.replace('\\t\\t\\t\\t', '\\t\\t')\n",
    "    data = data.replace('e-00', 'e-')\n",
    "    data = data.replace('e-0', 'e-')\n",
    "    data = data.replace('e+00', 'e+')\n",
    "    data = data.replace('e+0', 'e+')\n",
    "    data = data.replace('.', '')\n",
    "    data = data.replace(',', '.')\n",
    "    #close the input file\n",
    "    fin.close()\n",
    "    #open the input file in write mode\n",
    "    fin = open(exportnames[filepath], \"wt\")\n",
    "    #overrite the input file with the resulting data\n",
    "    fin.write(data)\n",
    "    #close the file\n",
    "    fin.close()\n",
    "def auto_input(path:str)->pd.DataFrame:\n",
    "\n",
    "    df=pd.read_csv(path,header=None,skiprows=range(3),sep='\\t',decimal='.',encoding='utf-8')\n",
    "\n",
    "    df.columns=get_header(path)\n",
    "    df.set_index(['x []','y []'],inplace=True)\n",
    "\n",
    "    #display(df)\n",
    "    return df\n"
   ],
   "metadata": {
    "collapsed": false,
    "pycharm": {
     "name": "#%%\n"
    }
   }
  },
  {
   "cell_type": "code",
   "execution_count": 175,
   "outputs": [],
   "source": [
    "def get_p1(df):\n",
    "    p1=df['strains [true_strain_p1/strain]'].reset_index().pivot(index='x []',columns='y []',values='strains [true_strain_p1/strain]').copy()\n",
    "    return(p1)\n",
    "def meanofslice(df):\n",
    "    horizontalcount=10\n",
    "    horizontalsize=int(len(df.columns)/horizontalcount)\n",
    "    verticalsize=len(df.index)\n",
    "    #display(horizontalsize,verticalsize)\n",
    "    res=np.zeros(horizontalcount)\n",
    "    #display(res)\n",
    "    for i in range(horizontalcount):\n",
    "        start=i*horizontalsize\n",
    "        end=((i*horizontalsize)+horizontalsize)\n",
    "        res[i]=np.nanmean(np.array(df.iloc[:,start:end]))\n",
    "        #display(res[i])\n",
    "        #display(i,df.iloc[:,start:end])\n",
    "        #res[i]=np.mean(df.iloc[:,start:end])\n",
    "    return(res)\n"
   ],
   "metadata": {
    "collapsed": false,
    "pycharm": {
     "name": "#%%\n"
    }
   }
  },
  {
   "cell_type": "code",
   "execution_count": 225,
   "outputs": [
    {
     "data": {
      "text/plain": "'data/MC_B_6xii\\\\Step_0_export.txt'"
     },
     "metadata": {},
     "output_type": "display_data"
    },
    {
     "data": {
      "text/plain": "'data/MC_B_6xii\\\\Step_1_export.txt'"
     },
     "metadata": {},
     "output_type": "display_data"
    },
    {
     "data": {
      "text/plain": "'data/MC_B_6xii\\\\Step_2_export.txt'"
     },
     "metadata": {},
     "output_type": "display_data"
    },
    {
     "data": {
      "text/plain": "'data/MC_B_6xii\\\\Step_3_export.txt'"
     },
     "metadata": {},
     "output_type": "display_data"
    },
    {
     "data": {
      "text/plain": "'data/MC_B_6xii\\\\Step_4_export.txt'"
     },
     "metadata": {},
     "output_type": "display_data"
    },
    {
     "data": {
      "text/plain": "'data/MC_B_6xii\\\\Step_5_export.txt'"
     },
     "metadata": {},
     "output_type": "display_data"
    },
    {
     "data": {
      "text/plain": "'data/MC_B_6xii\\\\Step_6_export.txt'"
     },
     "metadata": {},
     "output_type": "display_data"
    },
    {
     "data": {
      "text/plain": "'data/MC_B_6xii\\\\Step_7_export.txt'"
     },
     "metadata": {},
     "output_type": "display_data"
    },
    {
     "data": {
      "text/plain": "'data/MC_B_6xii\\\\Step_8_export.txt'"
     },
     "metadata": {},
     "output_type": "display_data"
    },
    {
     "data": {
      "text/plain": "'data/MC_B_6xii\\\\Step_9_export.txt'"
     },
     "metadata": {},
     "output_type": "display_data"
    },
    {
     "data": {
      "text/plain": "'data/MC_B_6xii\\\\Step_10_export.txt'"
     },
     "metadata": {},
     "output_type": "display_data"
    },
    {
     "data": {
      "text/plain": "'data/MC_B_6xii\\\\Step_11_export.txt'"
     },
     "metadata": {},
     "output_type": "display_data"
    },
    {
     "data": {
      "text/plain": "'data/MC_B_6xii\\\\Step_12_export.txt'"
     },
     "metadata": {},
     "output_type": "display_data"
    },
    {
     "data": {
      "text/plain": "'data/MC_B_6xii\\\\Step_13_export.txt'"
     },
     "metadata": {},
     "output_type": "display_data"
    },
    {
     "data": {
      "text/plain": "'data/MC_B_6xii\\\\Step_14_export.txt'"
     },
     "metadata": {},
     "output_type": "display_data"
    },
    {
     "data": {
      "text/plain": "'data/MC_B_6xii\\\\Step_15_export.txt'"
     },
     "metadata": {},
     "output_type": "display_data"
    },
    {
     "data": {
      "text/plain": "'data/MC_B_6xii\\\\Step_16_export.txt'"
     },
     "metadata": {},
     "output_type": "display_data"
    },
    {
     "data": {
      "text/plain": "'data/MC_B_6xii\\\\Step_17_export.txt'"
     },
     "metadata": {},
     "output_type": "display_data"
    },
    {
     "data": {
      "text/plain": "'data/MC_B_6xii\\\\Step_18_export.txt'"
     },
     "metadata": {},
     "output_type": "display_data"
    },
    {
     "data": {
      "text/plain": "'data/MC_B_6xii\\\\Step_19_export.txt'"
     },
     "metadata": {},
     "output_type": "display_data"
    },
    {
     "data": {
      "text/plain": "'data/MC_B_6xii\\\\Step_20_export.txt'"
     },
     "metadata": {},
     "output_type": "display_data"
    },
    {
     "data": {
      "text/plain": "'data/MC_B_6xii\\\\Step_21_export.txt'"
     },
     "metadata": {},
     "output_type": "display_data"
    },
    {
     "data": {
      "text/plain": "'data/MC_B_6xii\\\\Step_22_export.txt'"
     },
     "metadata": {},
     "output_type": "display_data"
    },
    {
     "data": {
      "text/plain": "'data/MC_B_6xii\\\\Step_23_export.txt'"
     },
     "metadata": {},
     "output_type": "display_data"
    },
    {
     "data": {
      "text/plain": "'data/MC_B_6xii\\\\Step_24_export.txt'"
     },
     "metadata": {},
     "output_type": "display_data"
    },
    {
     "data": {
      "text/plain": "'data/MC_B_6xii\\\\Step_25_export.txt'"
     },
     "metadata": {},
     "output_type": "display_data"
    },
    {
     "data": {
      "text/plain": "'data/MC_B_6xii\\\\Step_26_export.txt'"
     },
     "metadata": {},
     "output_type": "display_data"
    },
    {
     "data": {
      "text/plain": "'data/MC_B_6xii\\\\Step_27_export.txt'"
     },
     "metadata": {},
     "output_type": "display_data"
    },
    {
     "data": {
      "text/plain": "'data/MC_B_6xii\\\\Step_28_export.txt'"
     },
     "metadata": {},
     "output_type": "display_data"
    },
    {
     "data": {
      "text/plain": "'data/MC_B_6xii\\\\Step_29_export.txt'"
     },
     "metadata": {},
     "output_type": "display_data"
    },
    {
     "data": {
      "text/plain": "'data/MC_B_6xii\\\\Step_30_export.txt'"
     },
     "metadata": {},
     "output_type": "display_data"
    },
    {
     "data": {
      "text/plain": "'data/MC_B_6xii\\\\Step_31_export.txt'"
     },
     "metadata": {},
     "output_type": "display_data"
    },
    {
     "data": {
      "text/plain": "'data/MC_B_6xii\\\\Step_32_export.txt'"
     },
     "metadata": {},
     "output_type": "display_data"
    },
    {
     "data": {
      "text/plain": "'data/MC_B_6xii\\\\Step_33_export.txt'"
     },
     "metadata": {},
     "output_type": "display_data"
    },
    {
     "data": {
      "text/plain": "'data/MC_B_6xii\\\\Step_34_export.txt'"
     },
     "metadata": {},
     "output_type": "display_data"
    },
    {
     "data": {
      "text/plain": "'data/MC_B_6xii\\\\Step_35_export.txt'"
     },
     "metadata": {},
     "output_type": "display_data"
    },
    {
     "data": {
      "text/plain": "'data/MC_B_6xii\\\\Step_36_export.txt'"
     },
     "metadata": {},
     "output_type": "display_data"
    },
    {
     "data": {
      "text/plain": "'data/MC_B_6xii\\\\Step_37_export.txt'"
     },
     "metadata": {},
     "output_type": "display_data"
    },
    {
     "data": {
      "text/plain": "'data/MC_B_6xii\\\\Step_38_export.txt'"
     },
     "metadata": {},
     "output_type": "display_data"
    },
    {
     "data": {
      "text/plain": "'data/MC_B_6xii\\\\Step_39_export.txt'"
     },
     "metadata": {},
     "output_type": "display_data"
    },
    {
     "data": {
      "text/plain": "'data/MC_B_6xii\\\\Step_40_export.txt'"
     },
     "metadata": {},
     "output_type": "display_data"
    },
    {
     "data": {
      "text/plain": "'data/MC_B_6xii\\\\Step_41_export.txt'"
     },
     "metadata": {},
     "output_type": "display_data"
    },
    {
     "data": {
      "text/plain": "'data/MC_B_6xii\\\\Step_42_export.txt'"
     },
     "metadata": {},
     "output_type": "display_data"
    },
    {
     "data": {
      "text/plain": "'data/MC_B_6xii\\\\Step_43_export.txt'"
     },
     "metadata": {},
     "output_type": "display_data"
    },
    {
     "data": {
      "text/plain": "'data/MC_B_6xii\\\\Step_44_export.txt'"
     },
     "metadata": {},
     "output_type": "display_data"
    },
    {
     "data": {
      "text/plain": "'data/MC_B_6xii\\\\Step_45_export.txt'"
     },
     "metadata": {},
     "output_type": "display_data"
    },
    {
     "data": {
      "text/plain": "'data/MC_B_6xii\\\\Step_46_export.txt'"
     },
     "metadata": {},
     "output_type": "display_data"
    },
    {
     "data": {
      "text/plain": "'data/MC_B_6xii\\\\Step_47_export.txt'"
     },
     "metadata": {},
     "output_type": "display_data"
    },
    {
     "data": {
      "text/plain": "'data/MC_B_6xii\\\\Step_48_export.txt'"
     },
     "metadata": {},
     "output_type": "display_data"
    },
    {
     "data": {
      "text/plain": "'data/MC_B_6xii\\\\Step_49_export.txt'"
     },
     "metadata": {},
     "output_type": "display_data"
    },
    {
     "data": {
      "text/plain": "'data/MC_B_6xii\\\\Step_50_export.txt'"
     },
     "metadata": {},
     "output_type": "display_data"
    },
    {
     "data": {
      "text/plain": "'data/MC_B_6xii\\\\Step_51_export.txt'"
     },
     "metadata": {},
     "output_type": "display_data"
    },
    {
     "data": {
      "text/plain": "'data/MC_B_6xii\\\\Step_52_export.txt'"
     },
     "metadata": {},
     "output_type": "display_data"
    },
    {
     "data": {
      "text/plain": "'data/MC_B_6xii\\\\Step_53_export.txt'"
     },
     "metadata": {},
     "output_type": "display_data"
    },
    {
     "data": {
      "text/plain": "'data/MC_B_6xii\\\\Step_54_export.txt'"
     },
     "metadata": {},
     "output_type": "display_data"
    },
    {
     "data": {
      "text/plain": "'data/MC_B_6xii\\\\Step_55_export.txt'"
     },
     "metadata": {},
     "output_type": "display_data"
    },
    {
     "data": {
      "text/plain": "'data/MC_B_6xii\\\\Step_56_export.txt'"
     },
     "metadata": {},
     "output_type": "display_data"
    },
    {
     "data": {
      "text/plain": "'data/MC_B_6xii\\\\Step_57_export.txt'"
     },
     "metadata": {},
     "output_type": "display_data"
    },
    {
     "data": {
      "text/plain": "'data/MC_B_6xii\\\\Step_58_export.txt'"
     },
     "metadata": {},
     "output_type": "display_data"
    },
    {
     "data": {
      "text/plain": "'data/MC_B_6xii\\\\Step_59_export.txt'"
     },
     "metadata": {},
     "output_type": "display_data"
    },
    {
     "data": {
      "text/plain": "'data/MC_B_6xii\\\\Step_60_export.txt'"
     },
     "metadata": {},
     "output_type": "display_data"
    },
    {
     "data": {
      "text/plain": "'data/MC_B_6xii\\\\Step_61_export.txt'"
     },
     "metadata": {},
     "output_type": "display_data"
    },
    {
     "data": {
      "text/plain": "'data/MC_B_6xii\\\\Step_62_export.txt'"
     },
     "metadata": {},
     "output_type": "display_data"
    },
    {
     "data": {
      "text/plain": "'data/MC_B_6xii\\\\Step_63_export.txt'"
     },
     "metadata": {},
     "output_type": "display_data"
    },
    {
     "data": {
      "text/plain": "'data/MC_B_6xii\\\\Step_64_export.txt'"
     },
     "metadata": {},
     "output_type": "display_data"
    },
    {
     "data": {
      "text/plain": "'data/MC_B_6xii\\\\Step_65_export.txt'"
     },
     "metadata": {},
     "output_type": "display_data"
    },
    {
     "data": {
      "text/plain": "'data/MC_B_6xii\\\\Step_66_export.txt'"
     },
     "metadata": {},
     "output_type": "display_data"
    },
    {
     "data": {
      "text/plain": "'data/MC_B_6xii\\\\Step_67_export.txt'"
     },
     "metadata": {},
     "output_type": "display_data"
    },
    {
     "data": {
      "text/plain": "'data/MC_B_6xii\\\\Step_68_export.txt'"
     },
     "metadata": {},
     "output_type": "display_data"
    },
    {
     "data": {
      "text/plain": "'data/MC_B_6xii\\\\Step_69_export.txt'"
     },
     "metadata": {},
     "output_type": "display_data"
    },
    {
     "data": {
      "text/plain": "'data/MC_B_6xii\\\\Step_70_export.txt'"
     },
     "metadata": {},
     "output_type": "display_data"
    },
    {
     "data": {
      "text/plain": "'data/MC_B_6xii\\\\Step_71_export.txt'"
     },
     "metadata": {},
     "output_type": "display_data"
    },
    {
     "data": {
      "text/plain": "'data/MC_B_6xii\\\\Step_72_export.txt'"
     },
     "metadata": {},
     "output_type": "display_data"
    },
    {
     "data": {
      "text/plain": "'data/MC_B_6xii\\\\Step_73_export.txt'"
     },
     "metadata": {},
     "output_type": "display_data"
    },
    {
     "data": {
      "text/plain": "'data/MC_B_6xii\\\\Step_74_export.txt'"
     },
     "metadata": {},
     "output_type": "display_data"
    },
    {
     "data": {
      "text/plain": "'data/MC_B_6xii\\\\Step_75_export.txt'"
     },
     "metadata": {},
     "output_type": "display_data"
    },
    {
     "data": {
      "text/plain": "'data/MC_B_6xii\\\\Step_76_export.txt'"
     },
     "metadata": {},
     "output_type": "display_data"
    },
    {
     "data": {
      "text/plain": "'data/MC_B_6xii\\\\Step_77_export.txt'"
     },
     "metadata": {},
     "output_type": "display_data"
    },
    {
     "data": {
      "text/plain": "'data/MC_B_6xii\\\\Step_78_export.txt'"
     },
     "metadata": {},
     "output_type": "display_data"
    },
    {
     "data": {
      "text/plain": "'data/MC_B_6xii\\\\Step_79_export.txt'"
     },
     "metadata": {},
     "output_type": "display_data"
    },
    {
     "data": {
      "text/plain": "'data/MC_B_6xii\\\\Step_80_export.txt'"
     },
     "metadata": {},
     "output_type": "display_data"
    },
    {
     "data": {
      "text/plain": "'data/MC_B_6xii\\\\Step_81_export.txt'"
     },
     "metadata": {},
     "output_type": "display_data"
    },
    {
     "data": {
      "text/plain": "'data/MC_B_6xii\\\\Step_82_export.txt'"
     },
     "metadata": {},
     "output_type": "display_data"
    },
    {
     "data": {
      "text/plain": "'data/MC_B_6xii\\\\Step_83_export.txt'"
     },
     "metadata": {},
     "output_type": "display_data"
    },
    {
     "data": {
      "text/plain": "'data/MC_B_6xii\\\\Step_84_export.txt'"
     },
     "metadata": {},
     "output_type": "display_data"
    },
    {
     "data": {
      "text/plain": "'data/MC_B_6xii\\\\Step_85_export.txt'"
     },
     "metadata": {},
     "output_type": "display_data"
    },
    {
     "data": {
      "text/plain": "'data/MC_B_6xii\\\\Step_86_export.txt'"
     },
     "metadata": {},
     "output_type": "display_data"
    },
    {
     "data": {
      "text/plain": "'data/MC_B_6xii\\\\Step_87_export.txt'"
     },
     "metadata": {},
     "output_type": "display_data"
    },
    {
     "data": {
      "text/plain": "'data/MC_B_6xii\\\\Step_88_export.txt'"
     },
     "metadata": {},
     "output_type": "display_data"
    },
    {
     "data": {
      "text/plain": "'data/MC_B_6xii\\\\Step_89_export.txt'"
     },
     "metadata": {},
     "output_type": "display_data"
    },
    {
     "data": {
      "text/plain": "'data/MC_B_6xii\\\\Step_90_export.txt'"
     },
     "metadata": {},
     "output_type": "display_data"
    },
    {
     "data": {
      "text/plain": "'data/MC_B_6xii\\\\Step_91_export.txt'"
     },
     "metadata": {},
     "output_type": "display_data"
    },
    {
     "data": {
      "text/plain": "'data/MC_B_6xii\\\\Step_92_export.txt'"
     },
     "metadata": {},
     "output_type": "display_data"
    },
    {
     "data": {
      "text/plain": "'data/MC_B_6xii\\\\Step_93_export.txt'"
     },
     "metadata": {},
     "output_type": "display_data"
    },
    {
     "data": {
      "text/plain": "'data/MC_B_6xii\\\\Step_94_export.txt'"
     },
     "metadata": {},
     "output_type": "display_data"
    },
    {
     "data": {
      "text/plain": "'data/MC_B_6xii\\\\Step_95_export.txt'"
     },
     "metadata": {},
     "output_type": "display_data"
    },
    {
     "data": {
      "text/plain": "'data/MC_B_6xii\\\\Step_96_export.txt'"
     },
     "metadata": {},
     "output_type": "display_data"
    },
    {
     "data": {
      "text/plain": "'data/MC_B_6xii\\\\Step_97_export.txt'"
     },
     "metadata": {},
     "output_type": "display_data"
    },
    {
     "data": {
      "text/plain": "'data/MC_B_6xii\\\\Step_98_export.txt'"
     },
     "metadata": {},
     "output_type": "display_data"
    },
    {
     "data": {
      "text/plain": "'data/MC_B_6xii\\\\Step_99_export.txt'"
     },
     "metadata": {},
     "output_type": "display_data"
    },
    {
     "data": {
      "text/plain": "'data/MC_B_6xii\\\\Step_100_export.txt'"
     },
     "metadata": {},
     "output_type": "display_data"
    },
    {
     "data": {
      "text/plain": "'data/MC_B_6xii\\\\Step_101_export.txt'"
     },
     "metadata": {},
     "output_type": "display_data"
    },
    {
     "data": {
      "text/plain": "'data/MC_B_6xii\\\\Step_102_export.txt'"
     },
     "metadata": {},
     "output_type": "display_data"
    },
    {
     "data": {
      "text/plain": "'data/MC_B_6xii\\\\Step_103_export.txt'"
     },
     "metadata": {},
     "output_type": "display_data"
    },
    {
     "data": {
      "text/plain": "'data/MC_B_6xii\\\\Step_104_export.txt'"
     },
     "metadata": {},
     "output_type": "display_data"
    },
    {
     "data": {
      "text/plain": "'data/MC_B_6xii\\\\Step_105_export.txt'"
     },
     "metadata": {},
     "output_type": "display_data"
    },
    {
     "data": {
      "text/plain": "'data/MC_B_6xii\\\\Step_106_export.txt'"
     },
     "metadata": {},
     "output_type": "display_data"
    },
    {
     "data": {
      "text/plain": "'data/MC_B_6xii\\\\Step_107_export.txt'"
     },
     "metadata": {},
     "output_type": "display_data"
    },
    {
     "data": {
      "text/plain": "'data/MC_B_6xii\\\\Step_108_export.txt'"
     },
     "metadata": {},
     "output_type": "display_data"
    },
    {
     "data": {
      "text/plain": "'data/MC_B_6xii\\\\Step_109_export.txt'"
     },
     "metadata": {},
     "output_type": "display_data"
    },
    {
     "data": {
      "text/plain": "'data/MC_B_6xii\\\\Step_110_export.txt'"
     },
     "metadata": {},
     "output_type": "display_data"
    },
    {
     "data": {
      "text/plain": "'data/MC_B_6xii\\\\Step_111_export.txt'"
     },
     "metadata": {},
     "output_type": "display_data"
    },
    {
     "data": {
      "text/plain": "'data/MC_B_6xii\\\\Step_112_export.txt'"
     },
     "metadata": {},
     "output_type": "display_data"
    },
    {
     "data": {
      "text/plain": "'data/MC_B_6xii\\\\Step_113_export.txt'"
     },
     "metadata": {},
     "output_type": "display_data"
    },
    {
     "data": {
      "text/plain": "'data/MC_B_6xii\\\\Step_114_export.txt'"
     },
     "metadata": {},
     "output_type": "display_data"
    },
    {
     "data": {
      "text/plain": "'data/MC_B_6xii\\\\Step_115_export.txt'"
     },
     "metadata": {},
     "output_type": "display_data"
    },
    {
     "data": {
      "text/plain": "'data/MC_B_6xii\\\\Step_116_export.txt'"
     },
     "metadata": {},
     "output_type": "display_data"
    },
    {
     "data": {
      "text/plain": "'data/MC_B_6xii\\\\Step_117_export.txt'"
     },
     "metadata": {},
     "output_type": "display_data"
    },
    {
     "data": {
      "text/plain": "'data/MC_B_6xii\\\\Step_118_export.txt'"
     },
     "metadata": {},
     "output_type": "display_data"
    },
    {
     "data": {
      "text/plain": "'data/MC_B_6xii\\\\Step_119_export.txt'"
     },
     "metadata": {},
     "output_type": "display_data"
    },
    {
     "data": {
      "text/plain": "'data/MC_B_6xii\\\\Step_120_export.txt'"
     },
     "metadata": {},
     "output_type": "display_data"
    },
    {
     "data": {
      "text/plain": "'data/MC_B_6xii\\\\Step_121_export.txt'"
     },
     "metadata": {},
     "output_type": "display_data"
    },
    {
     "data": {
      "text/plain": "'data/MC_B_6xii\\\\Step_122_export.txt'"
     },
     "metadata": {},
     "output_type": "display_data"
    },
    {
     "data": {
      "text/plain": "'data/MC_B_6xii\\\\Step_123_export.txt'"
     },
     "metadata": {},
     "output_type": "display_data"
    },
    {
     "data": {
      "text/plain": "'data/MC_B_6xii\\\\Step_124_export.txt'"
     },
     "metadata": {},
     "output_type": "display_data"
    },
    {
     "data": {
      "text/plain": "'data/MC_B_6xii\\\\Step_125_export.txt'"
     },
     "metadata": {},
     "output_type": "display_data"
    },
    {
     "data": {
      "text/plain": "'data/MC_B_6xii\\\\Step_126_export.txt'"
     },
     "metadata": {},
     "output_type": "display_data"
    },
    {
     "data": {
      "text/plain": "'data/MC_B_6xii\\\\Step_127_export.txt'"
     },
     "metadata": {},
     "output_type": "display_data"
    },
    {
     "data": {
      "text/plain": "'data/MC_B_6xii\\\\Step_128_export.txt'"
     },
     "metadata": {},
     "output_type": "display_data"
    },
    {
     "data": {
      "text/plain": "'data/MC_B_6xii\\\\Step_129_export.txt'"
     },
     "metadata": {},
     "output_type": "display_data"
    },
    {
     "data": {
      "text/plain": "'data/MC_B_6xii\\\\Step_130_export.txt'"
     },
     "metadata": {},
     "output_type": "display_data"
    },
    {
     "data": {
      "text/plain": "'data/MC_B_6xii\\\\Step_131_export.txt'"
     },
     "metadata": {},
     "output_type": "display_data"
    },
    {
     "data": {
      "text/plain": "'data/MC_B_6xii\\\\Step_132_export.txt'"
     },
     "metadata": {},
     "output_type": "display_data"
    },
    {
     "data": {
      "text/plain": "'data/MC_B_6xii\\\\Step_133_export.txt'"
     },
     "metadata": {},
     "output_type": "display_data"
    },
    {
     "data": {
      "text/plain": "'data/MC_B_6xii\\\\Step_134_export.txt'"
     },
     "metadata": {},
     "output_type": "display_data"
    },
    {
     "data": {
      "text/plain": "'data/MC_B_6xii\\\\Step_135_export.txt'"
     },
     "metadata": {},
     "output_type": "display_data"
    },
    {
     "data": {
      "text/plain": "'data/MC_B_6xii\\\\Step_136_export.txt'"
     },
     "metadata": {},
     "output_type": "display_data"
    },
    {
     "data": {
      "text/plain": "'data/MC_B_6xii\\\\Step_137_export.txt'"
     },
     "metadata": {},
     "output_type": "display_data"
    },
    {
     "data": {
      "text/plain": "'data/MC_B_6xii\\\\Step_138_export.txt'"
     },
     "metadata": {},
     "output_type": "display_data"
    },
    {
     "data": {
      "text/plain": "'data/MC_B_6xii\\\\Step_139_export.txt'"
     },
     "metadata": {},
     "output_type": "display_data"
    },
    {
     "data": {
      "text/plain": "'data/MC_B_6xii\\\\Step_140_export.txt'"
     },
     "metadata": {},
     "output_type": "display_data"
    },
    {
     "data": {
      "text/plain": "'data/MC_B_6xii\\\\Step_141_export.txt'"
     },
     "metadata": {},
     "output_type": "display_data"
    },
    {
     "data": {
      "text/plain": "'data/MC_B_6xii\\\\Step_142_export.txt'"
     },
     "metadata": {},
     "output_type": "display_data"
    },
    {
     "data": {
      "text/plain": "'data/MC_B_6xii\\\\Step_143_export.txt'"
     },
     "metadata": {},
     "output_type": "display_data"
    },
    {
     "data": {
      "text/plain": "'data/MC_B_6xii\\\\Step_144_export.txt'"
     },
     "metadata": {},
     "output_type": "display_data"
    },
    {
     "data": {
      "text/plain": "'data/MC_B_6xii\\\\Step_145_export.txt'"
     },
     "metadata": {},
     "output_type": "display_data"
    },
    {
     "data": {
      "text/plain": "'data/MC_B_6xii\\\\Step_146_export.txt'"
     },
     "metadata": {},
     "output_type": "display_data"
    },
    {
     "data": {
      "text/plain": "'data/MC_B_6xii\\\\Step_147_export.txt'"
     },
     "metadata": {},
     "output_type": "display_data"
    },
    {
     "data": {
      "text/plain": "'data/MC_B_6xii\\\\Step_148_export.txt'"
     },
     "metadata": {},
     "output_type": "display_data"
    },
    {
     "data": {
      "text/plain": "'data/MC_B_6xii\\\\Step_149_export.txt'"
     },
     "metadata": {},
     "output_type": "display_data"
    },
    {
     "data": {
      "text/plain": "'data/MC_B_6xii\\\\Step_150_export.txt'"
     },
     "metadata": {},
     "output_type": "display_data"
    },
    {
     "data": {
      "text/plain": "'data/MC_B_6xii\\\\Step_151_export.txt'"
     },
     "metadata": {},
     "output_type": "display_data"
    },
    {
     "data": {
      "text/plain": "'data/MC_B_6xii\\\\Step_152_export.txt'"
     },
     "metadata": {},
     "output_type": "display_data"
    },
    {
     "data": {
      "text/plain": "'data/MC_B_6xii\\\\Step_153_export.txt'"
     },
     "metadata": {},
     "output_type": "display_data"
    },
    {
     "data": {
      "text/plain": "'data/MC_B_6xii\\\\Step_154_export.txt'"
     },
     "metadata": {},
     "output_type": "display_data"
    },
    {
     "data": {
      "text/plain": "'data/MC_B_6xii\\\\Step_155_export.txt'"
     },
     "metadata": {},
     "output_type": "display_data"
    },
    {
     "data": {
      "text/plain": "'data/MC_B_6xii\\\\Step_156_export.txt'"
     },
     "metadata": {},
     "output_type": "display_data"
    },
    {
     "data": {
      "text/plain": "'data/MC_B_6xii\\\\Step_157_export.txt'"
     },
     "metadata": {},
     "output_type": "display_data"
    },
    {
     "data": {
      "text/plain": "'data/MC_B_6xii\\\\Step_158_export.txt'"
     },
     "metadata": {},
     "output_type": "display_data"
    },
    {
     "data": {
      "text/plain": "'data/MC_B_6xii\\\\Step_159_export.txt'"
     },
     "metadata": {},
     "output_type": "display_data"
    },
    {
     "data": {
      "text/plain": "'data/MC_B_6xii\\\\Step_160_export.txt'"
     },
     "metadata": {},
     "output_type": "display_data"
    },
    {
     "data": {
      "text/plain": "'data/MC_B_6xii\\\\Step_161_export.txt'"
     },
     "metadata": {},
     "output_type": "display_data"
    },
    {
     "data": {
      "text/plain": "'data/MC_B_6xii\\\\Step_162_export.txt'"
     },
     "metadata": {},
     "output_type": "display_data"
    },
    {
     "data": {
      "text/plain": "'data/MC_B_6xii\\\\Step_163_export.txt'"
     },
     "metadata": {},
     "output_type": "display_data"
    },
    {
     "data": {
      "text/plain": "'data/MC_B_6xii\\\\Step_165_export.txt'"
     },
     "metadata": {},
     "output_type": "display_data"
    },
    {
     "data": {
      "text/plain": "'data/MC_B_6xii\\\\Step_166_export.txt'"
     },
     "metadata": {},
     "output_type": "display_data"
    },
    {
     "data": {
      "text/plain": "'data/MC_B_6xii\\\\Step_167_export.txt'"
     },
     "metadata": {},
     "output_type": "display_data"
    },
    {
     "data": {
      "text/plain": "'data/MC_B_6xii\\\\Step_168_export.txt'"
     },
     "metadata": {},
     "output_type": "display_data"
    },
    {
     "data": {
      "text/plain": "'data/MC_B_6xii\\\\Step_169_export.txt'"
     },
     "metadata": {},
     "output_type": "display_data"
    },
    {
     "data": {
      "text/plain": "'data/MC_B_6xii\\\\Step_170_export.txt'"
     },
     "metadata": {},
     "output_type": "display_data"
    },
    {
     "data": {
      "text/plain": "'data/MC_B_6xii\\\\Step_171_export.txt'"
     },
     "metadata": {},
     "output_type": "display_data"
    },
    {
     "data": {
      "text/plain": "'data/MC_B_6xii\\\\Step_172_export.txt'"
     },
     "metadata": {},
     "output_type": "display_data"
    },
    {
     "data": {
      "text/plain": "'data/MC_B_6xii\\\\Step_173_export.txt'"
     },
     "metadata": {},
     "output_type": "display_data"
    },
    {
     "data": {
      "text/plain": "'data/MC_B_6xii\\\\Step_174_export.txt'"
     },
     "metadata": {},
     "output_type": "display_data"
    },
    {
     "data": {
      "text/plain": "'data/MC_B_6xii\\\\Step_175_export.txt'"
     },
     "metadata": {},
     "output_type": "display_data"
    },
    {
     "data": {
      "text/plain": "'data/MC_B_6xii\\\\Step_176_export.txt'"
     },
     "metadata": {},
     "output_type": "display_data"
    },
    {
     "data": {
      "text/plain": "'data/MC_B_6xii\\\\Step_177_export.txt'"
     },
     "metadata": {},
     "output_type": "display_data"
    },
    {
     "data": {
      "text/plain": "'data/MC_B_6xii\\\\Step_178_export.txt'"
     },
     "metadata": {},
     "output_type": "display_data"
    },
    {
     "data": {
      "text/plain": "'data/MC_B_6xii\\\\Step_179_export.txt'"
     },
     "metadata": {},
     "output_type": "display_data"
    },
    {
     "data": {
      "text/plain": "'data/MC_B_6xii\\\\Step_180_export.txt'"
     },
     "metadata": {},
     "output_type": "display_data"
    },
    {
     "data": {
      "text/plain": "'data/MC_B_6xii\\\\Step_181_export.txt'"
     },
     "metadata": {},
     "output_type": "display_data"
    },
    {
     "data": {
      "text/plain": "'data/MC_B_6xii\\\\Step_182_export.txt'"
     },
     "metadata": {},
     "output_type": "display_data"
    },
    {
     "data": {
      "text/plain": "'data/MC_B_6xii\\\\Step_183_export.txt'"
     },
     "metadata": {},
     "output_type": "display_data"
    },
    {
     "data": {
      "text/plain": "'data/MC_B_6xii\\\\Step_184_export.txt'"
     },
     "metadata": {},
     "output_type": "display_data"
    },
    {
     "data": {
      "text/plain": "'data/MC_B_6xii\\\\Step_185_export.txt'"
     },
     "metadata": {},
     "output_type": "display_data"
    },
    {
     "data": {
      "text/plain": "'data/MC_B_6xii\\\\Step_186_export.txt'"
     },
     "metadata": {},
     "output_type": "display_data"
    },
    {
     "data": {
      "text/plain": "'data/MC_B_6xii\\\\Step_187_export.txt'"
     },
     "metadata": {},
     "output_type": "display_data"
    },
    {
     "data": {
      "text/plain": "'data/MC_B_6xii\\\\Step_188_export.txt'"
     },
     "metadata": {},
     "output_type": "display_data"
    },
    {
     "data": {
      "text/plain": "'data/MC_B_6xii\\\\Step_189_export.txt'"
     },
     "metadata": {},
     "output_type": "display_data"
    },
    {
     "data": {
      "text/plain": "'data/MC_B_6xii\\\\Step_190_export.txt'"
     },
     "metadata": {},
     "output_type": "display_data"
    },
    {
     "data": {
      "text/plain": "'data/MC_B_6xii\\\\Step_191_export.txt'"
     },
     "metadata": {},
     "output_type": "display_data"
    },
    {
     "data": {
      "text/plain": "'data/MC_B_6xii\\\\Step_192_export.txt'"
     },
     "metadata": {},
     "output_type": "display_data"
    },
    {
     "data": {
      "text/plain": "'data/MC_B_6xii\\\\Step_193_export.txt'"
     },
     "metadata": {},
     "output_type": "display_data"
    },
    {
     "data": {
      "text/plain": "'data/MC_B_6xii\\\\Step_194_export.txt'"
     },
     "metadata": {},
     "output_type": "display_data"
    },
    {
     "data": {
      "text/plain": "'data/MC_B_6xii\\\\Step_195_export.txt'"
     },
     "metadata": {},
     "output_type": "display_data"
    },
    {
     "data": {
      "text/plain": "                0             1             2             3             4  \\\n0    3.927435e-09  1.738467e-09  6.705517e-09  5.960460e-09  4.967050e-10   \n1    7.966284e-03  7.018988e-03  7.250607e-03  6.687609e-03  6.427512e-03   \n2    7.927053e-03  7.136723e-03  7.156178e-03  6.324662e-03  6.188431e-03   \n3    7.987003e-03  6.878854e-03  6.784098e-03  6.733609e-03  6.171221e-03   \n4    7.716641e-03  6.793172e-03  7.729503e-03  6.197669e-03  5.893164e-03   \n..            ...           ...           ...           ...           ...   \n190  7.301721e-03  7.028539e-03  7.038969e-03  8.057195e-03  5.254067e-02   \n191  7.462963e-03  7.074244e-03  7.305485e-03  8.165615e-03  5.237601e-02   \n192  7.491427e-03  7.229894e-03  7.367040e-03  6.944908e-03  3.490446e-02   \n193  8.161540e-03  7.361868e-03  7.293020e-03  7.238916e-03  3.423849e-02   \n194  7.417616e-03  7.518207e-03  7.831674e-03  7.202715e-03  3.446295e-02   \n\n                5             6             7             8             9  \n0    2.980230e-09  2.177860e-09  3.553351e-09  3.667975e-09  4.011848e-09  \n1    5.704647e-03  6.022266e-03  5.815052e-03  5.770808e-03  5.633910e-03  \n2    5.525607e-03  6.015988e-03  5.730921e-03  5.701267e-03  5.337027e-03  \n3    5.626063e-03  6.005300e-03  5.852837e-03  5.956833e-03  5.658892e-03  \n4    6.031246e-03  5.781903e-03  5.928233e-03  5.816878e-03  5.238732e-03  \n..            ...           ...           ...           ...           ...  \n190  2.169562e-01  7.416878e-02  1.208553e-02  6.105588e-03  5.609777e-03  \n191  2.234487e-01  7.439089e-02  1.193174e-02  6.078658e-03  5.622202e-03  \n192  1.714822e-01  1.075999e-01  2.142890e-02  5.985874e-03  5.785811e-03  \n193  1.683066e-01  1.178086e-01  2.353632e-02  6.546212e-03  5.850399e-03  \n194  1.683482e-01  1.123091e-01  2.403197e-02  6.844041e-03  5.326737e-03  \n\n[195 rows x 10 columns]",
      "text/html": "<div>\n<style scoped>\n    .dataframe tbody tr th:only-of-type {\n        vertical-align: middle;\n    }\n\n    .dataframe tbody tr th {\n        vertical-align: top;\n    }\n\n    .dataframe thead th {\n        text-align: right;\n    }\n</style>\n<table border=\"1\" class=\"dataframe\">\n  <thead>\n    <tr style=\"text-align: right;\">\n      <th></th>\n      <th>0</th>\n      <th>1</th>\n      <th>2</th>\n      <th>3</th>\n      <th>4</th>\n      <th>5</th>\n      <th>6</th>\n      <th>7</th>\n      <th>8</th>\n      <th>9</th>\n    </tr>\n  </thead>\n  <tbody>\n    <tr>\n      <th>0</th>\n      <td>3.927435e-09</td>\n      <td>1.738467e-09</td>\n      <td>6.705517e-09</td>\n      <td>5.960460e-09</td>\n      <td>4.967050e-10</td>\n      <td>2.980230e-09</td>\n      <td>2.177860e-09</td>\n      <td>3.553351e-09</td>\n      <td>3.667975e-09</td>\n      <td>4.011848e-09</td>\n    </tr>\n    <tr>\n      <th>1</th>\n      <td>7.966284e-03</td>\n      <td>7.018988e-03</td>\n      <td>7.250607e-03</td>\n      <td>6.687609e-03</td>\n      <td>6.427512e-03</td>\n      <td>5.704647e-03</td>\n      <td>6.022266e-03</td>\n      <td>5.815052e-03</td>\n      <td>5.770808e-03</td>\n      <td>5.633910e-03</td>\n    </tr>\n    <tr>\n      <th>2</th>\n      <td>7.927053e-03</td>\n      <td>7.136723e-03</td>\n      <td>7.156178e-03</td>\n      <td>6.324662e-03</td>\n      <td>6.188431e-03</td>\n      <td>5.525607e-03</td>\n      <td>6.015988e-03</td>\n      <td>5.730921e-03</td>\n      <td>5.701267e-03</td>\n      <td>5.337027e-03</td>\n    </tr>\n    <tr>\n      <th>3</th>\n      <td>7.987003e-03</td>\n      <td>6.878854e-03</td>\n      <td>6.784098e-03</td>\n      <td>6.733609e-03</td>\n      <td>6.171221e-03</td>\n      <td>5.626063e-03</td>\n      <td>6.005300e-03</td>\n      <td>5.852837e-03</td>\n      <td>5.956833e-03</td>\n      <td>5.658892e-03</td>\n    </tr>\n    <tr>\n      <th>4</th>\n      <td>7.716641e-03</td>\n      <td>6.793172e-03</td>\n      <td>7.729503e-03</td>\n      <td>6.197669e-03</td>\n      <td>5.893164e-03</td>\n      <td>6.031246e-03</td>\n      <td>5.781903e-03</td>\n      <td>5.928233e-03</td>\n      <td>5.816878e-03</td>\n      <td>5.238732e-03</td>\n    </tr>\n    <tr>\n      <th>...</th>\n      <td>...</td>\n      <td>...</td>\n      <td>...</td>\n      <td>...</td>\n      <td>...</td>\n      <td>...</td>\n      <td>...</td>\n      <td>...</td>\n      <td>...</td>\n      <td>...</td>\n    </tr>\n    <tr>\n      <th>190</th>\n      <td>7.301721e-03</td>\n      <td>7.028539e-03</td>\n      <td>7.038969e-03</td>\n      <td>8.057195e-03</td>\n      <td>5.254067e-02</td>\n      <td>2.169562e-01</td>\n      <td>7.416878e-02</td>\n      <td>1.208553e-02</td>\n      <td>6.105588e-03</td>\n      <td>5.609777e-03</td>\n    </tr>\n    <tr>\n      <th>191</th>\n      <td>7.462963e-03</td>\n      <td>7.074244e-03</td>\n      <td>7.305485e-03</td>\n      <td>8.165615e-03</td>\n      <td>5.237601e-02</td>\n      <td>2.234487e-01</td>\n      <td>7.439089e-02</td>\n      <td>1.193174e-02</td>\n      <td>6.078658e-03</td>\n      <td>5.622202e-03</td>\n    </tr>\n    <tr>\n      <th>192</th>\n      <td>7.491427e-03</td>\n      <td>7.229894e-03</td>\n      <td>7.367040e-03</td>\n      <td>6.944908e-03</td>\n      <td>3.490446e-02</td>\n      <td>1.714822e-01</td>\n      <td>1.075999e-01</td>\n      <td>2.142890e-02</td>\n      <td>5.985874e-03</td>\n      <td>5.785811e-03</td>\n    </tr>\n    <tr>\n      <th>193</th>\n      <td>8.161540e-03</td>\n      <td>7.361868e-03</td>\n      <td>7.293020e-03</td>\n      <td>7.238916e-03</td>\n      <td>3.423849e-02</td>\n      <td>1.683066e-01</td>\n      <td>1.178086e-01</td>\n      <td>2.353632e-02</td>\n      <td>6.546212e-03</td>\n      <td>5.850399e-03</td>\n    </tr>\n    <tr>\n      <th>194</th>\n      <td>7.417616e-03</td>\n      <td>7.518207e-03</td>\n      <td>7.831674e-03</td>\n      <td>7.202715e-03</td>\n      <td>3.446295e-02</td>\n      <td>1.683482e-01</td>\n      <td>1.123091e-01</td>\n      <td>2.403197e-02</td>\n      <td>6.844041e-03</td>\n      <td>5.326737e-03</td>\n    </tr>\n  </tbody>\n</table>\n<p>195 rows × 10 columns</p>\n</div>"
     },
     "metadata": {},
     "output_type": "display_data"
    }
   ],
   "source": [
    "names=sort_on_last(gather_universal('data/MC_B_6xii','.txt'))\n",
    "def amend_export(string):\n",
    "    return string.split('.')[0]+'_export.txt'\n",
    "#display(names)\n",
    "exportnames={i:amend_export(i) for i in names}\n",
    "#display(exportnames)\n",
    "\n",
    "res=[]\n",
    "force=[]\n",
    "for name in names:\n",
    "    force.append(get_force(name))\n",
    "    #display(get_force(name))\n",
    "    cleaner(name,exportnames)\n",
    "    df=auto_input(exportnames[name])\n",
    "    display(exportnames[name])\n",
    "    p1=get_p1(df)\n",
    "    meanarr=meanofslice(p1)\n",
    "    res.append(meanarr)\n",
    "\n",
    "ap=pd.DataFrame(res)\n",
    "display(ap)\n",
    "#display(force)"
   ],
   "metadata": {
    "collapsed": false,
    "pycharm": {
     "name": "#%%\n"
    }
   }
  },
  {
   "cell_type": "code",
   "execution_count": 226,
   "outputs": [
    {
     "data": {
      "text/plain": "<Figure size 720x576 with 2 Axes>",
      "image/png": "[encoded data removed]"
     },
     "metadata": {},
     "output_type": "display_data"
    }
   ],
   "source": [
    "fig,ax=plt.subplots(figsize=(10,8))\n",
    "ax1=ax.twinx()\n",
    "for i in range(1,10):\n",
    "    ax.plot(range(len(ap.index)),ap.iloc[:,i],label=i)\n",
    "t=ax.plot(ap.mean(axis=1),label='mean [Dehnung]')\n",
    "\n",
    "\n",
    "ax1.plot(force,label='force [kN]')\n",
    "ax.legend()\n",
    "ax1.legend()\n",
    "ax1.set_ylabel('Kraft [kN]')\n",
    "ax.set_ylabel('Dehnung []')\n",
    "ax.set_xlabel('Step')\n",
    "plt.show()\n",
    "fig.savefig('test.png',dpi=500)"
   ],
   "metadata": {
    "collapsed": false,
    "pycharm": {
     "name": "#%%\n"
    }
   }
  },
  {
   "cell_type": "code",
   "execution_count": 208,
   "outputs": [],
   "source": [
    "\n",
    "def get_full_df():\n",
    "    return()"
   ],
   "metadata": {
    "collapsed": false,
    "pycharm": {
     "name": "#%%\n"
    }
   }
  },
  {
   "cell_type": "code",
   "execution_count": 179,
   "outputs": [],
   "source": [],
   "metadata": {
    "collapsed": false,
    "pycharm": {
     "name": "#%%\n"
    }
   }
  },
  {
   "cell_type": "code",
   "execution_count": 179,
   "outputs": [],
   "source": [],
   "metadata": {
    "collapsed": false,
    "pycharm": {
     "name": "#%%\n"
    }
   }
  },
  {
   "cell_type": "code",
   "execution_count": 179,
   "outputs": [],
   "source": [],
   "metadata": {
    "collapsed": false,
    "pycharm": {
     "name": "#%%\n"
    }
   }
  }
 ],
 "metadata": {
  "kernelspec": {
   "display_name": "Python 3",
   "language": "python",
   "name": "python3"
  },
  "language_info": {
   "codemirror_mode": {
    "name": "ipython",
    "version": 2
   },
   "file_extension": ".py",
   "mimetype": "text/x-python",
   "name": "python",
   "nbconvert_exporter": "python",
   "pygments_lexer": "ipython2",
   "version": "2.7.6"
  }
 },
 "nbformat": 4,
 "nbformat_minor": 0
}