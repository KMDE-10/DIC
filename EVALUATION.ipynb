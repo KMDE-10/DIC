{
 "cells": [
  {
   "cell_type": "code",
   "execution_count": 366,
   "metadata": {
    "collapsed": true
   },
   "outputs": [],
   "source": [
    "import pandas as pd\n",
    "import numpy as np\n",
    "import matplotlib.pyplot as plt\n",
    "from IPython.display import display\n",
    "import os\n",
    "plt.rcParams['figure.facecolor'] = 'white'\n",
    "from numba import jit"
   ]
  },
  {
   "cell_type": "code",
   "execution_count": 366,
   "outputs": [],
   "source": [],
   "metadata": {
    "collapsed": false,
    "pycharm": {
     "name": "#%%\n"
    }
   }
  },
  {
   "cell_type": "code",
   "execution_count": 367,
   "outputs": [],
   "source": [
    "def gather_universal(path: str,filetype: str)-> list:\n",
    "    subdir=path\n",
    "\n",
    "    data=[]\n",
    "    for path, subdirs, files in os.walk(subdir):\n",
    "        for name in files:\n",
    "            if name.endswith(filetype)  :\n",
    "\n",
    "                b=(str(os.path.join(path, name)))\n",
    "                data.append(b)\n",
    "\n",
    "                #print (str(os.path.join(path, name)))\n",
    "    return data\n",
    "def sort_on_last(list:list)->list:\n",
    "    df=pd.DataFrame({'list': list})\n",
    "    df['nums']=df['list'].apply(lambda x:x.split('_')[-1].split('.')[0])\n",
    "    df['nums']=df.nums.astype(int)\n",
    "    df.sort_values(by='nums',inplace=True)\n",
    "    #display(df)\n",
    "    return(np.array(df['list']))\n",
    "@jit(nopython=True)\n",
    "def clean_file(file):\n",
    "        for num,line in enumerate(file):\n",
    "\n",
    "            a=line.replace(',','.')\n",
    "            a=a.replace('e-00','e-')\n",
    "            a=a.replace('e-0','e-')\n",
    "            a=a.replace('\\n','')\n",
    "            a=a.replace('\\t\\t\\t\\t','\\t\\t')\n",
    "            file[num]=a\n",
    "\n",
    "\n",
    "        return file\n",
    "@jit(nopython=True)\n",
    "def get_col_unit(file):\n",
    "        cols=file[1].split('\\t')\n",
    "        units=file[2].split('\\t')\n",
    "\n",
    "        col_unit=[]\n",
    "        for i,v in enumerate(cols):\n",
    "            col_unit.append(v+' ['+units[i]+']')\n",
    "        return(col_unit)\n",
    "@jit(nopython=False)\n",
    "def split_file(file,col_unit):\n",
    "        splitfile=np.array(col_unit)\n",
    "        for line in np.arange(3,len(file)):\n",
    "            a=np.array(file[line].split('\\t'),dtype=str)\n",
    "            splitfile=np.vstack((splitfile,a))\n",
    "        return(splitfile)\n",
    "@jit(nopython=True)\n",
    "def get_file(path)->list:\n",
    "\n",
    "        file=[]\n",
    "        with open(path, 'r') as reader:\n",
    "             # Read and print the entire file line by line\n",
    "            for line in reader:\n",
    "                file.append(line)\n",
    "        return(file)\n",
    "\n",
    "def get_header(path)->list:\n",
    "    with open(path, 'r') as reader:\n",
    "        lines=reader.readlines()\n",
    "        cleanline1=lines[1].replace('\\n','').replace('\\t\\t\\t\\t','\\t').split('\\t')\n",
    "        cleanline2=lines[2].replace('\\n','').replace('\\t\\t\\t\\t','\\t').split('\\t')\n",
    "        #display(len(cleanline2),len(cleanline1))\n",
    "        col_unit=[]\n",
    "        for i,v in enumerate(cleanline1):\n",
    "            col_unit.append(v+' ['+cleanline2[i]+']')\n",
    "        #display(col_unit)\n",
    "        return(col_unit[:])\n",
    "\n",
    "#get_header('data/MC_A6yii/Step_149.txt')\n",
    "def manual_input(path:str)->pd.DataFrame:\n",
    "\n",
    "    file=get_file(path)        #print(line, end='')\n",
    "    file=clean_file(file)\n",
    "\n",
    "    col_unit=get_col_unit(file)\n",
    "\n",
    "    splitfile=split_file(file,col_unit)\n",
    "    df=pd.DataFrame(data=splitfile[1:,:],columns=splitfile[0,:])\n",
    "    display(df)\n",
    "    df[df=='']=np.nan\n",
    "    df=df.astype(np.float64)\n",
    "    #%%\n",
    "    display(df.columns)\n",
    "\n",
    "    f=df.loc[:,['x []','y []','strains [strain_p1/strain]']]\n",
    "    b=f.pivot(index='y []',columns='x []',values='strains [strain_p1/strain]')\n",
    "    display(b)\n",
    "    #%%\n",
    "    plt.matshow(b)"
   ],
   "metadata": {
    "collapsed": false,
    "pycharm": {
     "name": "#%%\n"
    }
   }
  },
  {
   "cell_type": "code",
   "execution_count": 368,
   "outputs": [],
   "source": [
    "def cleaner(filepath):\n",
    "    fin = open(filepath, \"rt\")\n",
    "    #read file contents to string\n",
    "    data = fin.read()\n",
    "    #replace all occurrences of the required string\n",
    "    data = data.replace('\\t\\t\\t\\t', '\\t\\t')\n",
    "    data = data.replace('e-00', 'e-')\n",
    "    data = data.replace('e-0', 'e-')\n",
    "    data = data.replace('e+00', 'e+')\n",
    "    data = data.replace('e+0', 'e+')\n",
    "    data = data.replace('.', '')\n",
    "    data = data.replace(',', '.')\n",
    "    #close the input file\n",
    "    fin.close()\n",
    "    #open the input file in write mode\n",
    "    fin = open(filepath, \"wt\")\n",
    "    #overrite the input file with the resulting data\n",
    "    fin.write(data)\n",
    "    #close the file\n",
    "    fin.close()\n",
    "def auto_input(path:str)->pd.DataFrame:\n",
    "\n",
    "    df=pd.read_csv(path,header=None,skiprows=range(3),sep='\\t',decimal='.',encoding='utf-8')\n",
    "\n",
    "    df.columns=get_header(path)\n",
    "    df.set_index(['x []','y []'],inplace=True)\n",
    "\n",
    "    #display(df)\n",
    "    return df\n"
   ],
   "metadata": {
    "collapsed": false,
    "pycharm": {
     "name": "#%%\n"
    }
   }
  },
  {
   "cell_type": "code",
   "execution_count": 369,
   "outputs": [],
   "source": [
    "def get_p1(df):\n",
    "    p1=df['strains [true_strain_p1/strain]'].reset_index().pivot(index='x []',columns='y []',values='strains [true_strain_p1/strain]').copy()\n",
    "    return(p1)\n",
    "def meanofslice(df):\n",
    "    horizontalcount=10\n",
    "    horizontalsize=int(len(df.columns)/horizontalcount)\n",
    "    verticalsize=len(df.index)\n",
    "    #display(horizontalsize,verticalsize)\n",
    "    res=np.zeros(horizontalcount)\n",
    "    #display(res)\n",
    "    for i in range(horizontalcount):\n",
    "        start=i*horizontalsize\n",
    "        end=((i*horizontalsize)+horizontalsize)\n",
    "        res[i]=np.nanmean(np.array(df.iloc[:,start:end]))\n",
    "        #display(res[i])\n",
    "        #display(i,df.iloc[:,start:end])\n",
    "        #res[i]=np.mean(df.iloc[:,start:end])\n",
    "    return(res)\n"
   ],
   "metadata": {
    "collapsed": false,
    "pycharm": {
     "name": "#%%\n"
    }
   }
  },
  {
   "cell_type": "code",
   "execution_count": 370,
   "outputs": [
    {
     "data": {
      "text/plain": "array(['data/MC_A_6xi\\\\Step_0.txt', 'data/MC_A_6xi\\\\Step_1.txt',\n       'data/MC_A_6xi\\\\Step_2.txt', 'data/MC_A_6xi\\\\Step_3.txt',\n       'data/MC_A_6xi\\\\Step_4.txt', 'data/MC_A_6xi\\\\Step_5.txt',\n       'data/MC_A_6xi\\\\Step_6.txt', 'data/MC_A_6xi\\\\Step_7.txt',\n       'data/MC_A_6xi\\\\Step_8.txt', 'data/MC_A_6xi\\\\Step_9.txt',\n       'data/MC_A_6xi\\\\Step_10.txt', 'data/MC_A_6xi\\\\Step_11.txt',\n       'data/MC_A_6xi\\\\Step_12.txt', 'data/MC_A_6xi\\\\Step_13.txt',\n       'data/MC_A_6xi\\\\Step_14.txt', 'data/MC_A_6xi\\\\Step_15.txt',\n       'data/MC_A_6xi\\\\Step_16.txt', 'data/MC_A_6xi\\\\Step_17.txt',\n       'data/MC_A_6xi\\\\Step_18.txt', 'data/MC_A_6xi\\\\Step_19.txt',\n       'data/MC_A_6xi\\\\Step_20.txt', 'data/MC_A_6xi\\\\Step_21.txt',\n       'data/MC_A_6xi\\\\Step_22.txt', 'data/MC_A_6xi\\\\Step_23.txt',\n       'data/MC_A_6xi\\\\Step_24.txt', 'data/MC_A_6xi\\\\Step_25.txt',\n       'data/MC_A_6xi\\\\Step_26.txt', 'data/MC_A_6xi\\\\Step_27.txt',\n       'data/MC_A_6xi\\\\Step_28.txt', 'data/MC_A_6xi\\\\Step_29.txt',\n       'data/MC_A_6xi\\\\Step_30.txt', 'data/MC_A_6xi\\\\Step_31.txt',\n       'data/MC_A_6xi\\\\Step_32.txt', 'data/MC_A_6xi\\\\Step_33.txt',\n       'data/MC_A_6xi\\\\Step_34.txt', 'data/MC_A_6xi\\\\Step_35.txt',\n       'data/MC_A_6xi\\\\Step_36.txt', 'data/MC_A_6xi\\\\Step_37.txt',\n       'data/MC_A_6xi\\\\Step_38.txt', 'data/MC_A_6xi\\\\Step_39.txt',\n       'data/MC_A_6xi\\\\Step_40.txt', 'data/MC_A_6xi\\\\Step_41.txt',\n       'data/MC_A_6xi\\\\Step_42.txt', 'data/MC_A_6xi\\\\Step_43.txt',\n       'data/MC_A_6xi\\\\Step_44.txt', 'data/MC_A_6xi\\\\Step_45.txt',\n       'data/MC_A_6xi\\\\Step_46.txt', 'data/MC_A_6xi\\\\Step_47.txt',\n       'data/MC_A_6xi\\\\Step_48.txt', 'data/MC_A_6xi\\\\Step_49.txt',\n       'data/MC_A_6xi\\\\Step_50.txt', 'data/MC_A_6xi\\\\Step_51.txt',\n       'data/MC_A_6xi\\\\Step_52.txt', 'data/MC_A_6xi\\\\Step_53.txt',\n       'data/MC_A_6xi\\\\Step_54.txt', 'data/MC_A_6xi\\\\Step_55.txt',\n       'data/MC_A_6xi\\\\Step_56.txt', 'data/MC_A_6xi\\\\Step_57.txt',\n       'data/MC_A_6xi\\\\Step_58.txt', 'data/MC_A_6xi\\\\Step_59.txt',\n       'data/MC_A_6xi\\\\Step_60.txt', 'data/MC_A_6xi\\\\Step_61.txt',\n       'data/MC_A_6xi\\\\Step_62.txt', 'data/MC_A_6xi\\\\Step_63.txt',\n       'data/MC_A_6xi\\\\Step_64.txt', 'data/MC_A_6xi\\\\Step_65.txt',\n       'data/MC_A_6xi\\\\Step_66.txt', 'data/MC_A_6xi\\\\Step_67.txt',\n       'data/MC_A_6xi\\\\Step_68.txt', 'data/MC_A_6xi\\\\Step_69.txt',\n       'data/MC_A_6xi\\\\Step_70.txt', 'data/MC_A_6xi\\\\Step_71.txt',\n       'data/MC_A_6xi\\\\Step_72.txt', 'data/MC_A_6xi\\\\Step_73.txt',\n       'data/MC_A_6xi\\\\Step_74.txt', 'data/MC_A_6xi\\\\Step_75.txt',\n       'data/MC_A_6xi\\\\Step_76.txt', 'data/MC_A_6xi\\\\Step_77.txt',\n       'data/MC_A_6xi\\\\Step_78.txt', 'data/MC_A_6xi\\\\Step_79.txt',\n       'data/MC_A_6xi\\\\Step_80.txt', 'data/MC_A_6xi\\\\Step_81.txt',\n       'data/MC_A_6xi\\\\Step_82.txt', 'data/MC_A_6xi\\\\Step_83.txt',\n       'data/MC_A_6xi\\\\Step_84.txt', 'data/MC_A_6xi\\\\Step_85.txt',\n       'data/MC_A_6xi\\\\Step_86.txt', 'data/MC_A_6xi\\\\Step_87.txt',\n       'data/MC_A_6xi\\\\Step_88.txt', 'data/MC_A_6xi\\\\Step_89.txt',\n       'data/MC_A_6xi\\\\Step_90.txt', 'data/MC_A_6xi\\\\Step_91.txt',\n       'data/MC_A_6xi\\\\Step_92.txt', 'data/MC_A_6xi\\\\Step_93.txt',\n       'data/MC_A_6xi\\\\Step_94.txt', 'data/MC_A_6xi\\\\Step_95.txt',\n       'data/MC_A_6xi\\\\Step_96.txt', 'data/MC_A_6xi\\\\Step_97.txt',\n       'data/MC_A_6xi\\\\Step_98.txt', 'data/MC_A_6xi\\\\Step_99.txt',\n       'data/MC_A_6xi\\\\Step_100.txt', 'data/MC_A_6xi\\\\Step_101.txt',\n       'data/MC_A_6xi\\\\Step_102.txt', 'data/MC_A_6xi\\\\Step_103.txt',\n       'data/MC_A_6xi\\\\Step_104.txt', 'data/MC_A_6xi\\\\Step_105.txt',\n       'data/MC_A_6xi\\\\Step_106.txt', 'data/MC_A_6xi\\\\Step_107.txt',\n       'data/MC_A_6xi\\\\Step_108.txt', 'data/MC_A_6xi\\\\Step_109.txt',\n       'data/MC_A_6xi\\\\Step_110.txt', 'data/MC_A_6xi\\\\Step_111.txt',\n       'data/MC_A_6xi\\\\Step_112.txt', 'data/MC_A_6xi\\\\Step_113.txt',\n       'data/MC_A_6xi\\\\Step_114.txt', 'data/MC_A_6xi\\\\Step_115.txt',\n       'data/MC_A_6xi\\\\Step_116.txt', 'data/MC_A_6xi\\\\Step_117.txt',\n       'data/MC_A_6xi\\\\Step_118.txt', 'data/MC_A_6xi\\\\Step_119.txt',\n       'data/MC_A_6xi\\\\Step_120.txt', 'data/MC_A_6xi\\\\Step_121.txt',\n       'data/MC_A_6xi\\\\Step_122.txt', 'data/MC_A_6xi\\\\Step_123.txt',\n       'data/MC_A_6xi\\\\Step_124.txt', 'data/MC_A_6xi\\\\Step_125.txt',\n       'data/MC_A_6xi\\\\Step_126.txt', 'data/MC_A_6xi\\\\Step_127.txt',\n       'data/MC_A_6xi\\\\Step_128.txt', 'data/MC_A_6xi\\\\Step_129.txt',\n       'data/MC_A_6xi\\\\Step_130.txt', 'data/MC_A_6xi\\\\Step_131.txt',\n       'data/MC_A_6xi\\\\Step_132.txt', 'data/MC_A_6xi\\\\Step_133.txt',\n       'data/MC_A_6xi\\\\Step_134.txt', 'data/MC_A_6xi\\\\Step_135.txt',\n       'data/MC_A_6xi\\\\Step_136.txt', 'data/MC_A_6xi\\\\Step_137.txt',\n       'data/MC_A_6xi\\\\Step_138.txt', 'data/MC_A_6xi\\\\Step_139.txt',\n       'data/MC_A_6xi\\\\Step_140.txt', 'data/MC_A_6xi\\\\Step_141.txt',\n       'data/MC_A_6xi\\\\Step_142.txt', 'data/MC_A_6xi\\\\Step_143.txt',\n       'data/MC_A_6xi\\\\Step_144.txt', 'data/MC_A_6xi\\\\Step_145.txt',\n       'data/MC_A_6xi\\\\Step_146.txt', 'data/MC_A_6xi\\\\Step_147.txt',\n       'data/MC_A_6xi\\\\Step_148.txt', 'data/MC_A_6xi\\\\Step_149.txt',\n       'data/MC_A_6xi\\\\Step_150.txt', 'data/MC_A_6xi\\\\Step_151.txt',\n       'data/MC_A_6xi\\\\Step_152.txt', 'data/MC_A_6xi\\\\Step_153.txt',\n       'data/MC_A_6xi\\\\Step_154.txt', 'data/MC_A_6xi\\\\Step_155.txt',\n       'data/MC_A_6xi\\\\Step_156.txt', 'data/MC_A_6xi\\\\Step_157.txt',\n       'data/MC_A_6xi\\\\Step_158.txt', 'data/MC_A_6xi\\\\Step_159.txt',\n       'data/MC_A_6xi\\\\Step_160.txt', 'data/MC_A_6xi\\\\Step_161.txt',\n       'data/MC_A_6xi\\\\Step_162.txt', 'data/MC_A_6xi\\\\Step_163.txt',\n       'data/MC_A_6xi\\\\Step_164.txt', 'data/MC_A_6xi\\\\Step_165.txt',\n       'data/MC_A_6xi\\\\Step_166.txt', 'data/MC_A_6xi\\\\Step_167.txt',\n       'data/MC_A_6xi\\\\Step_168.txt', 'data/MC_A_6xi\\\\Step_169.txt',\n       'data/MC_A_6xi\\\\Step_170.txt', 'data/MC_A_6xi\\\\Step_171.txt',\n       'data/MC_A_6xi\\\\Step_172.txt', 'data/MC_A_6xi\\\\Step_173.txt',\n       'data/MC_A_6xi\\\\Step_174.txt', 'data/MC_A_6xi\\\\Step_175.txt',\n       'data/MC_A_6xi\\\\Step_176.txt', 'data/MC_A_6xi\\\\Step_177.txt',\n       'data/MC_A_6xi\\\\Step_178.txt', 'data/MC_A_6xi\\\\Step_179.txt',\n       'data/MC_A_6xi\\\\Step_180.txt', 'data/MC_A_6xi\\\\Step_181.txt',\n       'data/MC_A_6xi\\\\Step_182.txt', 'data/MC_A_6xi\\\\Step_183.txt',\n       'data/MC_A_6xi\\\\Step_184.txt', 'data/MC_A_6xi\\\\Step_185.txt',\n       'data/MC_A_6xi\\\\Step_186.txt', 'data/MC_A_6xi\\\\Step_187.txt',\n       'data/MC_A_6xi\\\\Step_188.txt', 'data/MC_A_6xi\\\\Step_189.txt',\n       'data/MC_A_6xi\\\\Step_190.txt', 'data/MC_A_6xi\\\\Step_191.txt',\n       'data/MC_A_6xi\\\\Step_192.txt', 'data/MC_A_6xi\\\\Step_193.txt',\n       'data/MC_A_6xi\\\\Step_194.txt', 'data/MC_A_6xi\\\\Step_195.txt',\n       'data/MC_A_6xi\\\\Step_196.txt', 'data/MC_A_6xi\\\\Step_197.txt',\n       'data/MC_A_6xi\\\\Step_198.txt', 'data/MC_A_6xi\\\\Step_199.txt',\n       'data/MC_A_6xi\\\\Step_200.txt', 'data/MC_A_6xi\\\\Step_201.txt',\n       'data/MC_A_6xi\\\\Step_202.txt', 'data/MC_A_6xi\\\\Step_203.txt',\n       'data/MC_A_6xi\\\\Step_204.txt', 'data/MC_A_6xi\\\\Step_205.txt',\n       'data/MC_A_6xi\\\\Step_206.txt', 'data/MC_A_6xi\\\\Step_207.txt',\n       'data/MC_A_6xi\\\\Step_208.txt', 'data/MC_A_6xi\\\\Step_209.txt',\n       'data/MC_A_6xi\\\\Step_210.txt', 'data/MC_A_6xi\\\\Step_211.txt',\n       'data/MC_A_6xi\\\\Step_212.txt', 'data/MC_A_6xi\\\\Step_213.txt',\n       'data/MC_A_6xi\\\\Step_214.txt', 'data/MC_A_6xi\\\\Step_215.txt',\n       'data/MC_A_6xi\\\\Step_216.txt', 'data/MC_A_6xi\\\\Step_217.txt',\n       'data/MC_A_6xi\\\\Step_218.txt', 'data/MC_A_6xi\\\\Step_219.txt',\n       'data/MC_A_6xi\\\\Step_220.txt', 'data/MC_A_6xi\\\\Step_221.txt',\n       'data/MC_A_6xi\\\\Step_222.txt', 'data/MC_A_6xi\\\\Step_223.txt',\n       'data/MC_A_6xi\\\\Step_224.txt', 'data/MC_A_6xi\\\\Step_225.txt',\n       'data/MC_A_6xi\\\\Step_226.txt', 'data/MC_A_6xi\\\\Step_227.txt',\n       'data/MC_A_6xi\\\\Step_228.txt', 'data/MC_A_6xi\\\\Step_229.txt',\n       'data/MC_A_6xi\\\\Step_230.txt', 'data/MC_A_6xi\\\\Step_231.txt',\n       'data/MC_A_6xi\\\\Step_232.txt', 'data/MC_A_6xi\\\\Step_233.txt',\n       'data/MC_A_6xi\\\\Step_235.txt', 'data/MC_A_6xi\\\\Step_236.txt',\n       'data/MC_A_6xi\\\\Step_237.txt', 'data/MC_A_6xi\\\\Step_238.txt',\n       'data/MC_A_6xi\\\\Step_239.txt', 'data/MC_A_6xi\\\\Step_240.txt',\n       'data/MC_A_6xi\\\\Step_241.txt', 'data/MC_A_6xi\\\\Step_242.txt',\n       'data/MC_A_6xi\\\\Step_243.txt', 'data/MC_A_6xi\\\\Step_244.txt',\n       'data/MC_A_6xi\\\\Step_245.txt', 'data/MC_A_6xi\\\\Step_246.txt',\n       'data/MC_A_6xi\\\\Step_247.txt', 'data/MC_A_6xi\\\\Step_248.txt',\n       'data/MC_A_6xi\\\\Step_249.txt', 'data/MC_A_6xi\\\\Step_250.txt',\n       'data/MC_A_6xi\\\\Step_251.txt', 'data/MC_A_6xi\\\\Step_252.txt',\n       'data/MC_A_6xi\\\\Step_253.txt', 'data/MC_A_6xi\\\\Step_254.txt',\n       'data/MC_A_6xi\\\\Step_255.txt', 'data/MC_A_6xi\\\\Step_256.txt',\n       'data/MC_A_6xi\\\\Step_257.txt', 'data/MC_A_6xi\\\\Step_258.txt',\n       'data/MC_A_6xi\\\\Step_259.txt', 'data/MC_A_6xi\\\\Step_260.txt',\n       'data/MC_A_6xi\\\\Step_261.txt', 'data/MC_A_6xi\\\\Step_262.txt',\n       'data/MC_A_6xi\\\\Step_263.txt', 'data/MC_A_6xi\\\\Step_264.txt',\n       'data/MC_A_6xi\\\\Step_265.txt', 'data/MC_A_6xi\\\\Step_266.txt',\n       'data/MC_A_6xi\\\\Step_267.txt', 'data/MC_A_6xi\\\\Step_268.txt',\n       'data/MC_A_6xi\\\\Step_269.txt', 'data/MC_A_6xi\\\\Step_270.txt',\n       'data/MC_A_6xi\\\\Step_271.txt', 'data/MC_A_6xi\\\\Step_272.txt',\n       'data/MC_A_6xi\\\\Step_273.txt', 'data/MC_A_6xi\\\\Step_274.txt',\n       'data/MC_A_6xi\\\\Step_275.txt', 'data/MC_A_6xi\\\\Step_276.txt',\n       'data/MC_A_6xi\\\\Step_277.txt', 'data/MC_A_6xi\\\\Step_278.txt',\n       'data/MC_A_6xi\\\\Step_279.txt', 'data/MC_A_6xi\\\\Step_280.txt',\n       'data/MC_A_6xi\\\\Step_281.txt', 'data/MC_A_6xi\\\\Step_282.txt',\n       'data/MC_A_6xi\\\\Step_283.txt', 'data/MC_A_6xi\\\\Step_284.txt',\n       'data/MC_A_6xi\\\\Step_285.txt'], dtype=object)"
     },
     "metadata": {},
     "output_type": "display_data"
    }
   ],
   "source": [
    "names=sort_on_last(gather_universal('data/MC_A_6xi','.txt'))\n",
    "display(names)"
   ],
   "metadata": {
    "collapsed": false,
    "pycharm": {
     "name": "#%%\n"
    }
   }
  },
  {
   "cell_type": "code",
   "execution_count": 371,
   "outputs": [
    {
     "data": {
      "text/plain": "'data/MC_A_6xi\\\\Step_0.txt'"
     },
     "metadata": {},
     "output_type": "display_data"
    },
    {
     "data": {
      "text/plain": "'data/MC_A_6xi\\\\Step_1.txt'"
     },
     "metadata": {},
     "output_type": "display_data"
    },
    {
     "data": {
      "text/plain": "'data/MC_A_6xi\\\\Step_2.txt'"
     },
     "metadata": {},
     "output_type": "display_data"
    },
    {
     "data": {
      "text/plain": "'data/MC_A_6xi\\\\Step_3.txt'"
     },
     "metadata": {},
     "output_type": "display_data"
    },
    {
     "data": {
      "text/plain": "'data/MC_A_6xi\\\\Step_4.txt'"
     },
     "metadata": {},
     "output_type": "display_data"
    },
    {
     "data": {
      "text/plain": "'data/MC_A_6xi\\\\Step_5.txt'"
     },
     "metadata": {},
     "output_type": "display_data"
    },
    {
     "data": {
      "text/plain": "'data/MC_A_6xi\\\\Step_6.txt'"
     },
     "metadata": {},
     "output_type": "display_data"
    },
    {
     "data": {
      "text/plain": "'data/MC_A_6xi\\\\Step_7.txt'"
     },
     "metadata": {},
     "output_type": "display_data"
    },
    {
     "data": {
      "text/plain": "'data/MC_A_6xi\\\\Step_8.txt'"
     },
     "metadata": {},
     "output_type": "display_data"
    },
    {
     "data": {
      "text/plain": "'data/MC_A_6xi\\\\Step_9.txt'"
     },
     "metadata": {},
     "output_type": "display_data"
    },
    {
     "data": {
      "text/plain": "'data/MC_A_6xi\\\\Step_10.txt'"
     },
     "metadata": {},
     "output_type": "display_data"
    },
    {
     "data": {
      "text/plain": "'data/MC_A_6xi\\\\Step_11.txt'"
     },
     "metadata": {},
     "output_type": "display_data"
    },
    {
     "data": {
      "text/plain": "'data/MC_A_6xi\\\\Step_12.txt'"
     },
     "metadata": {},
     "output_type": "display_data"
    },
    {
     "data": {
      "text/plain": "'data/MC_A_6xi\\\\Step_13.txt'"
     },
     "metadata": {},
     "output_type": "display_data"
    },
    {
     "data": {
      "text/plain": "'data/MC_A_6xi\\\\Step_14.txt'"
     },
     "metadata": {},
     "output_type": "display_data"
    },
    {
     "data": {
      "text/plain": "'data/MC_A_6xi\\\\Step_15.txt'"
     },
     "metadata": {},
     "output_type": "display_data"
    },
    {
     "data": {
      "text/plain": "'data/MC_A_6xi\\\\Step_16.txt'"
     },
     "metadata": {},
     "output_type": "display_data"
    },
    {
     "data": {
      "text/plain": "'data/MC_A_6xi\\\\Step_17.txt'"
     },
     "metadata": {},
     "output_type": "display_data"
    },
    {
     "data": {
      "text/plain": "'data/MC_A_6xi\\\\Step_18.txt'"
     },
     "metadata": {},
     "output_type": "display_data"
    },
    {
     "data": {
      "text/plain": "'data/MC_A_6xi\\\\Step_19.txt'"
     },
     "metadata": {},
     "output_type": "display_data"
    },
    {
     "data": {
      "text/plain": "'data/MC_A_6xi\\\\Step_20.txt'"
     },
     "metadata": {},
     "output_type": "display_data"
    },
    {
     "data": {
      "text/plain": "'data/MC_A_6xi\\\\Step_21.txt'"
     },
     "metadata": {},
     "output_type": "display_data"
    },
    {
     "data": {
      "text/plain": "'data/MC_A_6xi\\\\Step_22.txt'"
     },
     "metadata": {},
     "output_type": "display_data"
    },
    {
     "data": {
      "text/plain": "'data/MC_A_6xi\\\\Step_23.txt'"
     },
     "metadata": {},
     "output_type": "display_data"
    },
    {
     "data": {
      "text/plain": "'data/MC_A_6xi\\\\Step_24.txt'"
     },
     "metadata": {},
     "output_type": "display_data"
    },
    {
     "data": {
      "text/plain": "'data/MC_A_6xi\\\\Step_25.txt'"
     },
     "metadata": {},
     "output_type": "display_data"
    },
    {
     "data": {
      "text/plain": "'data/MC_A_6xi\\\\Step_26.txt'"
     },
     "metadata": {},
     "output_type": "display_data"
    },
    {
     "data": {
      "text/plain": "'data/MC_A_6xi\\\\Step_27.txt'"
     },
     "metadata": {},
     "output_type": "display_data"
    },
    {
     "data": {
      "text/plain": "'data/MC_A_6xi\\\\Step_28.txt'"
     },
     "metadata": {},
     "output_type": "display_data"
    },
    {
     "data": {
      "text/plain": "'data/MC_A_6xi\\\\Step_29.txt'"
     },
     "metadata": {},
     "output_type": "display_data"
    },
    {
     "data": {
      "text/plain": "'data/MC_A_6xi\\\\Step_30.txt'"
     },
     "metadata": {},
     "output_type": "display_data"
    },
    {
     "data": {
      "text/plain": "'data/MC_A_6xi\\\\Step_31.txt'"
     },
     "metadata": {},
     "output_type": "display_data"
    },
    {
     "data": {
      "text/plain": "'data/MC_A_6xi\\\\Step_32.txt'"
     },
     "metadata": {},
     "output_type": "display_data"
    },
    {
     "data": {
      "text/plain": "'data/MC_A_6xi\\\\Step_33.txt'"
     },
     "metadata": {},
     "output_type": "display_data"
    },
    {
     "data": {
      "text/plain": "'data/MC_A_6xi\\\\Step_34.txt'"
     },
     "metadata": {},
     "output_type": "display_data"
    },
    {
     "data": {
      "text/plain": "'data/MC_A_6xi\\\\Step_35.txt'"
     },
     "metadata": {},
     "output_type": "display_data"
    },
    {
     "data": {
      "text/plain": "'data/MC_A_6xi\\\\Step_36.txt'"
     },
     "metadata": {},
     "output_type": "display_data"
    },
    {
     "data": {
      "text/plain": "'data/MC_A_6xi\\\\Step_37.txt'"
     },
     "metadata": {},
     "output_type": "display_data"
    },
    {
     "data": {
      "text/plain": "'data/MC_A_6xi\\\\Step_38.txt'"
     },
     "metadata": {},
     "output_type": "display_data"
    },
    {
     "data": {
      "text/plain": "'data/MC_A_6xi\\\\Step_39.txt'"
     },
     "metadata": {},
     "output_type": "display_data"
    },
    {
     "data": {
      "text/plain": "'data/MC_A_6xi\\\\Step_40.txt'"
     },
     "metadata": {},
     "output_type": "display_data"
    },
    {
     "data": {
      "text/plain": "'data/MC_A_6xi\\\\Step_41.txt'"
     },
     "metadata": {},
     "output_type": "display_data"
    },
    {
     "data": {
      "text/plain": "'data/MC_A_6xi\\\\Step_42.txt'"
     },
     "metadata": {},
     "output_type": "display_data"
    },
    {
     "data": {
      "text/plain": "'data/MC_A_6xi\\\\Step_43.txt'"
     },
     "metadata": {},
     "output_type": "display_data"
    },
    {
     "data": {
      "text/plain": "'data/MC_A_6xi\\\\Step_44.txt'"
     },
     "metadata": {},
     "output_type": "display_data"
    },
    {
     "data": {
      "text/plain": "'data/MC_A_6xi\\\\Step_45.txt'"
     },
     "metadata": {},
     "output_type": "display_data"
    },
    {
     "data": {
      "text/plain": "'data/MC_A_6xi\\\\Step_46.txt'"
     },
     "metadata": {},
     "output_type": "display_data"
    },
    {
     "data": {
      "text/plain": "'data/MC_A_6xi\\\\Step_47.txt'"
     },
     "metadata": {},
     "output_type": "display_data"
    },
    {
     "data": {
      "text/plain": "'data/MC_A_6xi\\\\Step_48.txt'"
     },
     "metadata": {},
     "output_type": "display_data"
    },
    {
     "data": {
      "text/plain": "'data/MC_A_6xi\\\\Step_49.txt'"
     },
     "metadata": {},
     "output_type": "display_data"
    },
    {
     "data": {
      "text/plain": "'data/MC_A_6xi\\\\Step_50.txt'"
     },
     "metadata": {},
     "output_type": "display_data"
    },
    {
     "data": {
      "text/plain": "'data/MC_A_6xi\\\\Step_51.txt'"
     },
     "metadata": {},
     "output_type": "display_data"
    },
    {
     "data": {
      "text/plain": "'data/MC_A_6xi\\\\Step_52.txt'"
     },
     "metadata": {},
     "output_type": "display_data"
    },
    {
     "data": {
      "text/plain": "'data/MC_A_6xi\\\\Step_53.txt'"
     },
     "metadata": {},
     "output_type": "display_data"
    },
    {
     "data": {
      "text/plain": "'data/MC_A_6xi\\\\Step_54.txt'"
     },
     "metadata": {},
     "output_type": "display_data"
    },
    {
     "data": {
      "text/plain": "'data/MC_A_6xi\\\\Step_55.txt'"
     },
     "metadata": {},
     "output_type": "display_data"
    },
    {
     "data": {
      "text/plain": "'data/MC_A_6xi\\\\Step_56.txt'"
     },
     "metadata": {},
     "output_type": "display_data"
    },
    {
     "data": {
      "text/plain": "'data/MC_A_6xi\\\\Step_57.txt'"
     },
     "metadata": {},
     "output_type": "display_data"
    },
    {
     "data": {
      "text/plain": "'data/MC_A_6xi\\\\Step_58.txt'"
     },
     "metadata": {},
     "output_type": "display_data"
    },
    {
     "data": {
      "text/plain": "'data/MC_A_6xi\\\\Step_59.txt'"
     },
     "metadata": {},
     "output_type": "display_data"
    },
    {
     "data": {
      "text/plain": "'data/MC_A_6xi\\\\Step_60.txt'"
     },
     "metadata": {},
     "output_type": "display_data"
    },
    {
     "data": {
      "text/plain": "'data/MC_A_6xi\\\\Step_61.txt'"
     },
     "metadata": {},
     "output_type": "display_data"
    },
    {
     "data": {
      "text/plain": "'data/MC_A_6xi\\\\Step_62.txt'"
     },
     "metadata": {},
     "output_type": "display_data"
    },
    {
     "data": {
      "text/plain": "'data/MC_A_6xi\\\\Step_63.txt'"
     },
     "metadata": {},
     "output_type": "display_data"
    },
    {
     "data": {
      "text/plain": "'data/MC_A_6xi\\\\Step_64.txt'"
     },
     "metadata": {},
     "output_type": "display_data"
    },
    {
     "data": {
      "text/plain": "'data/MC_A_6xi\\\\Step_65.txt'"
     },
     "metadata": {},
     "output_type": "display_data"
    },
    {
     "data": {
      "text/plain": "'data/MC_A_6xi\\\\Step_66.txt'"
     },
     "metadata": {},
     "output_type": "display_data"
    },
    {
     "data": {
      "text/plain": "'data/MC_A_6xi\\\\Step_67.txt'"
     },
     "metadata": {},
     "output_type": "display_data"
    },
    {
     "data": {
      "text/plain": "'data/MC_A_6xi\\\\Step_68.txt'"
     },
     "metadata": {},
     "output_type": "display_data"
    },
    {
     "data": {
      "text/plain": "'data/MC_A_6xi\\\\Step_69.txt'"
     },
     "metadata": {},
     "output_type": "display_data"
    },
    {
     "data": {
      "text/plain": "'data/MC_A_6xi\\\\Step_70.txt'"
     },
     "metadata": {},
     "output_type": "display_data"
    },
    {
     "data": {
      "text/plain": "'data/MC_A_6xi\\\\Step_71.txt'"
     },
     "metadata": {},
     "output_type": "display_data"
    },
    {
     "data": {
      "text/plain": "'data/MC_A_6xi\\\\Step_72.txt'"
     },
     "metadata": {},
     "output_type": "display_data"
    },
    {
     "data": {
      "text/plain": "'data/MC_A_6xi\\\\Step_73.txt'"
     },
     "metadata": {},
     "output_type": "display_data"
    },
    {
     "data": {
      "text/plain": "'data/MC_A_6xi\\\\Step_74.txt'"
     },
     "metadata": {},
     "output_type": "display_data"
    },
    {
     "data": {
      "text/plain": "'data/MC_A_6xi\\\\Step_75.txt'"
     },
     "metadata": {},
     "output_type": "display_data"
    },
    {
     "data": {
      "text/plain": "'data/MC_A_6xi\\\\Step_76.txt'"
     },
     "metadata": {},
     "output_type": "display_data"
    },
    {
     "data": {
      "text/plain": "'data/MC_A_6xi\\\\Step_77.txt'"
     },
     "metadata": {},
     "output_type": "display_data"
    },
    {
     "data": {
      "text/plain": "'data/MC_A_6xi\\\\Step_78.txt'"
     },
     "metadata": {},
     "output_type": "display_data"
    },
    {
     "data": {
      "text/plain": "'data/MC_A_6xi\\\\Step_79.txt'"
     },
     "metadata": {},
     "output_type": "display_data"
    },
    {
     "data": {
      "text/plain": "'data/MC_A_6xi\\\\Step_80.txt'"
     },
     "metadata": {},
     "output_type": "display_data"
    },
    {
     "data": {
      "text/plain": "'data/MC_A_6xi\\\\Step_81.txt'"
     },
     "metadata": {},
     "output_type": "display_data"
    },
    {
     "data": {
      "text/plain": "'data/MC_A_6xi\\\\Step_82.txt'"
     },
     "metadata": {},
     "output_type": "display_data"
    },
    {
     "data": {
      "text/plain": "'data/MC_A_6xi\\\\Step_83.txt'"
     },
     "metadata": {},
     "output_type": "display_data"
    },
    {
     "data": {
      "text/plain": "'data/MC_A_6xi\\\\Step_84.txt'"
     },
     "metadata": {},
     "output_type": "display_data"
    },
    {
     "data": {
      "text/plain": "'data/MC_A_6xi\\\\Step_85.txt'"
     },
     "metadata": {},
     "output_type": "display_data"
    },
    {
     "data": {
      "text/plain": "'data/MC_A_6xi\\\\Step_86.txt'"
     },
     "metadata": {},
     "output_type": "display_data"
    },
    {
     "data": {
      "text/plain": "'data/MC_A_6xi\\\\Step_87.txt'"
     },
     "metadata": {},
     "output_type": "display_data"
    },
    {
     "data": {
      "text/plain": "'data/MC_A_6xi\\\\Step_88.txt'"
     },
     "metadata": {},
     "output_type": "display_data"
    },
    {
     "data": {
      "text/plain": "'data/MC_A_6xi\\\\Step_89.txt'"
     },
     "metadata": {},
     "output_type": "display_data"
    },
    {
     "data": {
      "text/plain": "'data/MC_A_6xi\\\\Step_90.txt'"
     },
     "metadata": {},
     "output_type": "display_data"
    },
    {
     "data": {
      "text/plain": "'data/MC_A_6xi\\\\Step_91.txt'"
     },
     "metadata": {},
     "output_type": "display_data"
    },
    {
     "data": {
      "text/plain": "'data/MC_A_6xi\\\\Step_92.txt'"
     },
     "metadata": {},
     "output_type": "display_data"
    },
    {
     "data": {
      "text/plain": "'data/MC_A_6xi\\\\Step_93.txt'"
     },
     "metadata": {},
     "output_type": "display_data"
    },
    {
     "data": {
      "text/plain": "'data/MC_A_6xi\\\\Step_94.txt'"
     },
     "metadata": {},
     "output_type": "display_data"
    },
    {
     "data": {
      "text/plain": "'data/MC_A_6xi\\\\Step_95.txt'"
     },
     "metadata": {},
     "output_type": "display_data"
    },
    {
     "data": {
      "text/plain": "'data/MC_A_6xi\\\\Step_96.txt'"
     },
     "metadata": {},
     "output_type": "display_data"
    },
    {
     "data": {
      "text/plain": "'data/MC_A_6xi\\\\Step_97.txt'"
     },
     "metadata": {},
     "output_type": "display_data"
    },
    {
     "data": {
      "text/plain": "'data/MC_A_6xi\\\\Step_98.txt'"
     },
     "metadata": {},
     "output_type": "display_data"
    },
    {
     "data": {
      "text/plain": "'data/MC_A_6xi\\\\Step_99.txt'"
     },
     "metadata": {},
     "output_type": "display_data"
    },
    {
     "data": {
      "text/plain": "'data/MC_A_6xi\\\\Step_100.txt'"
     },
     "metadata": {},
     "output_type": "display_data"
    },
    {
     "data": {
      "text/plain": "'data/MC_A_6xi\\\\Step_101.txt'"
     },
     "metadata": {},
     "output_type": "display_data"
    },
    {
     "data": {
      "text/plain": "'data/MC_A_6xi\\\\Step_102.txt'"
     },
     "metadata": {},
     "output_type": "display_data"
    },
    {
     "data": {
      "text/plain": "'data/MC_A_6xi\\\\Step_103.txt'"
     },
     "metadata": {},
     "output_type": "display_data"
    },
    {
     "data": {
      "text/plain": "'data/MC_A_6xi\\\\Step_104.txt'"
     },
     "metadata": {},
     "output_type": "display_data"
    },
    {
     "data": {
      "text/plain": "'data/MC_A_6xi\\\\Step_105.txt'"
     },
     "metadata": {},
     "output_type": "display_data"
    },
    {
     "data": {
      "text/plain": "'data/MC_A_6xi\\\\Step_106.txt'"
     },
     "metadata": {},
     "output_type": "display_data"
    },
    {
     "data": {
      "text/plain": "'data/MC_A_6xi\\\\Step_107.txt'"
     },
     "metadata": {},
     "output_type": "display_data"
    },
    {
     "data": {
      "text/plain": "'data/MC_A_6xi\\\\Step_108.txt'"
     },
     "metadata": {},
     "output_type": "display_data"
    },
    {
     "data": {
      "text/plain": "'data/MC_A_6xi\\\\Step_109.txt'"
     },
     "metadata": {},
     "output_type": "display_data"
    },
    {
     "data": {
      "text/plain": "'data/MC_A_6xi\\\\Step_110.txt'"
     },
     "metadata": {},
     "output_type": "display_data"
    },
    {
     "data": {
      "text/plain": "'data/MC_A_6xi\\\\Step_111.txt'"
     },
     "metadata": {},
     "output_type": "display_data"
    },
    {
     "data": {
      "text/plain": "'data/MC_A_6xi\\\\Step_112.txt'"
     },
     "metadata": {},
     "output_type": "display_data"
    },
    {
     "data": {
      "text/plain": "'data/MC_A_6xi\\\\Step_113.txt'"
     },
     "metadata": {},
     "output_type": "display_data"
    },
    {
     "data": {
      "text/plain": "'data/MC_A_6xi\\\\Step_114.txt'"
     },
     "metadata": {},
     "output_type": "display_data"
    },
    {
     "data": {
      "text/plain": "'data/MC_A_6xi\\\\Step_115.txt'"
     },
     "metadata": {},
     "output_type": "display_data"
    },
    {
     "data": {
      "text/plain": "'data/MC_A_6xi\\\\Step_116.txt'"
     },
     "metadata": {},
     "output_type": "display_data"
    },
    {
     "data": {
      "text/plain": "'data/MC_A_6xi\\\\Step_117.txt'"
     },
     "metadata": {},
     "output_type": "display_data"
    },
    {
     "data": {
      "text/plain": "'data/MC_A_6xi\\\\Step_118.txt'"
     },
     "metadata": {},
     "output_type": "display_data"
    },
    {
     "data": {
      "text/plain": "'data/MC_A_6xi\\\\Step_119.txt'"
     },
     "metadata": {},
     "output_type": "display_data"
    },
    {
     "data": {
      "text/plain": "'data/MC_A_6xi\\\\Step_120.txt'"
     },
     "metadata": {},
     "output_type": "display_data"
    },
    {
     "data": {
      "text/plain": "'data/MC_A_6xi\\\\Step_121.txt'"
     },
     "metadata": {},
     "output_type": "display_data"
    },
    {
     "data": {
      "text/plain": "'data/MC_A_6xi\\\\Step_122.txt'"
     },
     "metadata": {},
     "output_type": "display_data"
    },
    {
     "data": {
      "text/plain": "'data/MC_A_6xi\\\\Step_123.txt'"
     },
     "metadata": {},
     "output_type": "display_data"
    },
    {
     "data": {
      "text/plain": "'data/MC_A_6xi\\\\Step_124.txt'"
     },
     "metadata": {},
     "output_type": "display_data"
    },
    {
     "data": {
      "text/plain": "'data/MC_A_6xi\\\\Step_125.txt'"
     },
     "metadata": {},
     "output_type": "display_data"
    },
    {
     "data": {
      "text/plain": "'data/MC_A_6xi\\\\Step_126.txt'"
     },
     "metadata": {},
     "output_type": "display_data"
    },
    {
     "data": {
      "text/plain": "'data/MC_A_6xi\\\\Step_127.txt'"
     },
     "metadata": {},
     "output_type": "display_data"
    },
    {
     "data": {
      "text/plain": "'data/MC_A_6xi\\\\Step_128.txt'"
     },
     "metadata": {},
     "output_type": "display_data"
    },
    {
     "data": {
      "text/plain": "'data/MC_A_6xi\\\\Step_129.txt'"
     },
     "metadata": {},
     "output_type": "display_data"
    },
    {
     "data": {
      "text/plain": "'data/MC_A_6xi\\\\Step_130.txt'"
     },
     "metadata": {},
     "output_type": "display_data"
    },
    {
     "data": {
      "text/plain": "'data/MC_A_6xi\\\\Step_131.txt'"
     },
     "metadata": {},
     "output_type": "display_data"
    },
    {
     "data": {
      "text/plain": "'data/MC_A_6xi\\\\Step_132.txt'"
     },
     "metadata": {},
     "output_type": "display_data"
    },
    {
     "data": {
      "text/plain": "'data/MC_A_6xi\\\\Step_133.txt'"
     },
     "metadata": {},
     "output_type": "display_data"
    },
    {
     "data": {
      "text/plain": "'data/MC_A_6xi\\\\Step_134.txt'"
     },
     "metadata": {},
     "output_type": "display_data"
    },
    {
     "data": {
      "text/plain": "'data/MC_A_6xi\\\\Step_135.txt'"
     },
     "metadata": {},
     "output_type": "display_data"
    },
    {
     "data": {
      "text/plain": "'data/MC_A_6xi\\\\Step_136.txt'"
     },
     "metadata": {},
     "output_type": "display_data"
    },
    {
     "data": {
      "text/plain": "'data/MC_A_6xi\\\\Step_137.txt'"
     },
     "metadata": {},
     "output_type": "display_data"
    },
    {
     "data": {
      "text/plain": "'data/MC_A_6xi\\\\Step_138.txt'"
     },
     "metadata": {},
     "output_type": "display_data"
    },
    {
     "data": {
      "text/plain": "'data/MC_A_6xi\\\\Step_139.txt'"
     },
     "metadata": {},
     "output_type": "display_data"
    },
    {
     "data": {
      "text/plain": "'data/MC_A_6xi\\\\Step_140.txt'"
     },
     "metadata": {},
     "output_type": "display_data"
    },
    {
     "data": {
      "text/plain": "'data/MC_A_6xi\\\\Step_141.txt'"
     },
     "metadata": {},
     "output_type": "display_data"
    },
    {
     "data": {
      "text/plain": "'data/MC_A_6xi\\\\Step_142.txt'"
     },
     "metadata": {},
     "output_type": "display_data"
    },
    {
     "data": {
      "text/plain": "'data/MC_A_6xi\\\\Step_143.txt'"
     },
     "metadata": {},
     "output_type": "display_data"
    },
    {
     "data": {
      "text/plain": "'data/MC_A_6xi\\\\Step_144.txt'"
     },
     "metadata": {},
     "output_type": "display_data"
    },
    {
     "data": {
      "text/plain": "'data/MC_A_6xi\\\\Step_145.txt'"
     },
     "metadata": {},
     "output_type": "display_data"
    },
    {
     "data": {
      "text/plain": "'data/MC_A_6xi\\\\Step_146.txt'"
     },
     "metadata": {},
     "output_type": "display_data"
    },
    {
     "data": {
      "text/plain": "'data/MC_A_6xi\\\\Step_147.txt'"
     },
     "metadata": {},
     "output_type": "display_data"
    },
    {
     "data": {
      "text/plain": "'data/MC_A_6xi\\\\Step_148.txt'"
     },
     "metadata": {},
     "output_type": "display_data"
    },
    {
     "data": {
      "text/plain": "'data/MC_A_6xi\\\\Step_149.txt'"
     },
     "metadata": {},
     "output_type": "display_data"
    },
    {
     "data": {
      "text/plain": "'data/MC_A_6xi\\\\Step_150.txt'"
     },
     "metadata": {},
     "output_type": "display_data"
    },
    {
     "data": {
      "text/plain": "'data/MC_A_6xi\\\\Step_151.txt'"
     },
     "metadata": {},
     "output_type": "display_data"
    },
    {
     "data": {
      "text/plain": "'data/MC_A_6xi\\\\Step_152.txt'"
     },
     "metadata": {},
     "output_type": "display_data"
    },
    {
     "data": {
      "text/plain": "'data/MC_A_6xi\\\\Step_153.txt'"
     },
     "metadata": {},
     "output_type": "display_data"
    },
    {
     "data": {
      "text/plain": "'data/MC_A_6xi\\\\Step_154.txt'"
     },
     "metadata": {},
     "output_type": "display_data"
    },
    {
     "data": {
      "text/plain": "'data/MC_A_6xi\\\\Step_155.txt'"
     },
     "metadata": {},
     "output_type": "display_data"
    },
    {
     "data": {
      "text/plain": "'data/MC_A_6xi\\\\Step_156.txt'"
     },
     "metadata": {},
     "output_type": "display_data"
    },
    {
     "data": {
      "text/plain": "'data/MC_A_6xi\\\\Step_157.txt'"
     },
     "metadata": {},
     "output_type": "display_data"
    },
    {
     "data": {
      "text/plain": "'data/MC_A_6xi\\\\Step_158.txt'"
     },
     "metadata": {},
     "output_type": "display_data"
    },
    {
     "data": {
      "text/plain": "'data/MC_A_6xi\\\\Step_159.txt'"
     },
     "metadata": {},
     "output_type": "display_data"
    },
    {
     "data": {
      "text/plain": "'data/MC_A_6xi\\\\Step_160.txt'"
     },
     "metadata": {},
     "output_type": "display_data"
    },
    {
     "data": {
      "text/plain": "'data/MC_A_6xi\\\\Step_161.txt'"
     },
     "metadata": {},
     "output_type": "display_data"
    },
    {
     "data": {
      "text/plain": "'data/MC_A_6xi\\\\Step_162.txt'"
     },
     "metadata": {},
     "output_type": "display_data"
    },
    {
     "data": {
      "text/plain": "'data/MC_A_6xi\\\\Step_163.txt'"
     },
     "metadata": {},
     "output_type": "display_data"
    },
    {
     "data": {
      "text/plain": "'data/MC_A_6xi\\\\Step_164.txt'"
     },
     "metadata": {},
     "output_type": "display_data"
    },
    {
     "data": {
      "text/plain": "'data/MC_A_6xi\\\\Step_165.txt'"
     },
     "metadata": {},
     "output_type": "display_data"
    },
    {
     "data": {
      "text/plain": "'data/MC_A_6xi\\\\Step_166.txt'"
     },
     "metadata": {},
     "output_type": "display_data"
    },
    {
     "data": {
      "text/plain": "'data/MC_A_6xi\\\\Step_167.txt'"
     },
     "metadata": {},
     "output_type": "display_data"
    },
    {
     "data": {
      "text/plain": "'data/MC_A_6xi\\\\Step_168.txt'"
     },
     "metadata": {},
     "output_type": "display_data"
    },
    {
     "data": {
      "text/plain": "'data/MC_A_6xi\\\\Step_169.txt'"
     },
     "metadata": {},
     "output_type": "display_data"
    },
    {
     "data": {
      "text/plain": "'data/MC_A_6xi\\\\Step_170.txt'"
     },
     "metadata": {},
     "output_type": "display_data"
    },
    {
     "data": {
      "text/plain": "'data/MC_A_6xi\\\\Step_171.txt'"
     },
     "metadata": {},
     "output_type": "display_data"
    },
    {
     "data": {
      "text/plain": "'data/MC_A_6xi\\\\Step_172.txt'"
     },
     "metadata": {},
     "output_type": "display_data"
    },
    {
     "data": {
      "text/plain": "'data/MC_A_6xi\\\\Step_173.txt'"
     },
     "metadata": {},
     "output_type": "display_data"
    },
    {
     "data": {
      "text/plain": "'data/MC_A_6xi\\\\Step_174.txt'"
     },
     "metadata": {},
     "output_type": "display_data"
    },
    {
     "data": {
      "text/plain": "'data/MC_A_6xi\\\\Step_175.txt'"
     },
     "metadata": {},
     "output_type": "display_data"
    },
    {
     "data": {
      "text/plain": "'data/MC_A_6xi\\\\Step_176.txt'"
     },
     "metadata": {},
     "output_type": "display_data"
    },
    {
     "data": {
      "text/plain": "'data/MC_A_6xi\\\\Step_177.txt'"
     },
     "metadata": {},
     "output_type": "display_data"
    },
    {
     "data": {
      "text/plain": "'data/MC_A_6xi\\\\Step_178.txt'"
     },
     "metadata": {},
     "output_type": "display_data"
    },
    {
     "data": {
      "text/plain": "'data/MC_A_6xi\\\\Step_179.txt'"
     },
     "metadata": {},
     "output_type": "display_data"
    },
    {
     "data": {
      "text/plain": "'data/MC_A_6xi\\\\Step_180.txt'"
     },
     "metadata": {},
     "output_type": "display_data"
    },
    {
     "data": {
      "text/plain": "'data/MC_A_6xi\\\\Step_181.txt'"
     },
     "metadata": {},
     "output_type": "display_data"
    },
    {
     "data": {
      "text/plain": "'data/MC_A_6xi\\\\Step_182.txt'"
     },
     "metadata": {},
     "output_type": "display_data"
    },
    {
     "data": {
      "text/plain": "'data/MC_A_6xi\\\\Step_183.txt'"
     },
     "metadata": {},
     "output_type": "display_data"
    },
    {
     "data": {
      "text/plain": "'data/MC_A_6xi\\\\Step_184.txt'"
     },
     "metadata": {},
     "output_type": "display_data"
    },
    {
     "data": {
      "text/plain": "'data/MC_A_6xi\\\\Step_185.txt'"
     },
     "metadata": {},
     "output_type": "display_data"
    },
    {
     "data": {
      "text/plain": "'data/MC_A_6xi\\\\Step_186.txt'"
     },
     "metadata": {},
     "output_type": "display_data"
    },
    {
     "data": {
      "text/plain": "'data/MC_A_6xi\\\\Step_187.txt'"
     },
     "metadata": {},
     "output_type": "display_data"
    },
    {
     "data": {
      "text/plain": "'data/MC_A_6xi\\\\Step_188.txt'"
     },
     "metadata": {},
     "output_type": "display_data"
    },
    {
     "data": {
      "text/plain": "'data/MC_A_6xi\\\\Step_189.txt'"
     },
     "metadata": {},
     "output_type": "display_data"
    },
    {
     "data": {
      "text/plain": "'data/MC_A_6xi\\\\Step_190.txt'"
     },
     "metadata": {},
     "output_type": "display_data"
    },
    {
     "data": {
      "text/plain": "'data/MC_A_6xi\\\\Step_191.txt'"
     },
     "metadata": {},
     "output_type": "display_data"
    },
    {
     "data": {
      "text/plain": "'data/MC_A_6xi\\\\Step_192.txt'"
     },
     "metadata": {},
     "output_type": "display_data"
    },
    {
     "data": {
      "text/plain": "'data/MC_A_6xi\\\\Step_193.txt'"
     },
     "metadata": {},
     "output_type": "display_data"
    },
    {
     "data": {
      "text/plain": "'data/MC_A_6xi\\\\Step_194.txt'"
     },
     "metadata": {},
     "output_type": "display_data"
    },
    {
     "data": {
      "text/plain": "'data/MC_A_6xi\\\\Step_195.txt'"
     },
     "metadata": {},
     "output_type": "display_data"
    },
    {
     "data": {
      "text/plain": "'data/MC_A_6xi\\\\Step_196.txt'"
     },
     "metadata": {},
     "output_type": "display_data"
    },
    {
     "data": {
      "text/plain": "'data/MC_A_6xi\\\\Step_197.txt'"
     },
     "metadata": {},
     "output_type": "display_data"
    },
    {
     "data": {
      "text/plain": "'data/MC_A_6xi\\\\Step_198.txt'"
     },
     "metadata": {},
     "output_type": "display_data"
    },
    {
     "data": {
      "text/plain": "'data/MC_A_6xi\\\\Step_199.txt'"
     },
     "metadata": {},
     "output_type": "display_data"
    },
    {
     "data": {
      "text/plain": "'data/MC_A_6xi\\\\Step_200.txt'"
     },
     "metadata": {},
     "output_type": "display_data"
    },
    {
     "data": {
      "text/plain": "'data/MC_A_6xi\\\\Step_201.txt'"
     },
     "metadata": {},
     "output_type": "display_data"
    },
    {
     "data": {
      "text/plain": "'data/MC_A_6xi\\\\Step_202.txt'"
     },
     "metadata": {},
     "output_type": "display_data"
    },
    {
     "data": {
      "text/plain": "'data/MC_A_6xi\\\\Step_203.txt'"
     },
     "metadata": {},
     "output_type": "display_data"
    },
    {
     "data": {
      "text/plain": "'data/MC_A_6xi\\\\Step_204.txt'"
     },
     "metadata": {},
     "output_type": "display_data"
    },
    {
     "data": {
      "text/plain": "'data/MC_A_6xi\\\\Step_205.txt'"
     },
     "metadata": {},
     "output_type": "display_data"
    },
    {
     "data": {
      "text/plain": "'data/MC_A_6xi\\\\Step_206.txt'"
     },
     "metadata": {},
     "output_type": "display_data"
    },
    {
     "data": {
      "text/plain": "'data/MC_A_6xi\\\\Step_207.txt'"
     },
     "metadata": {},
     "output_type": "display_data"
    },
    {
     "data": {
      "text/plain": "'data/MC_A_6xi\\\\Step_208.txt'"
     },
     "metadata": {},
     "output_type": "display_data"
    },
    {
     "data": {
      "text/plain": "'data/MC_A_6xi\\\\Step_209.txt'"
     },
     "metadata": {},
     "output_type": "display_data"
    },
    {
     "data": {
      "text/plain": "'data/MC_A_6xi\\\\Step_210.txt'"
     },
     "metadata": {},
     "output_type": "display_data"
    },
    {
     "data": {
      "text/plain": "'data/MC_A_6xi\\\\Step_211.txt'"
     },
     "metadata": {},
     "output_type": "display_data"
    },
    {
     "data": {
      "text/plain": "'data/MC_A_6xi\\\\Step_212.txt'"
     },
     "metadata": {},
     "output_type": "display_data"
    },
    {
     "data": {
      "text/plain": "'data/MC_A_6xi\\\\Step_213.txt'"
     },
     "metadata": {},
     "output_type": "display_data"
    },
    {
     "data": {
      "text/plain": "'data/MC_A_6xi\\\\Step_214.txt'"
     },
     "metadata": {},
     "output_type": "display_data"
    },
    {
     "data": {
      "text/plain": "'data/MC_A_6xi\\\\Step_215.txt'"
     },
     "metadata": {},
     "output_type": "display_data"
    },
    {
     "data": {
      "text/plain": "'data/MC_A_6xi\\\\Step_216.txt'"
     },
     "metadata": {},
     "output_type": "display_data"
    },
    {
     "data": {
      "text/plain": "'data/MC_A_6xi\\\\Step_217.txt'"
     },
     "metadata": {},
     "output_type": "display_data"
    },
    {
     "data": {
      "text/plain": "'data/MC_A_6xi\\\\Step_218.txt'"
     },
     "metadata": {},
     "output_type": "display_data"
    },
    {
     "data": {
      "text/plain": "'data/MC_A_6xi\\\\Step_219.txt'"
     },
     "metadata": {},
     "output_type": "display_data"
    },
    {
     "data": {
      "text/plain": "'data/MC_A_6xi\\\\Step_220.txt'"
     },
     "metadata": {},
     "output_type": "display_data"
    },
    {
     "data": {
      "text/plain": "'data/MC_A_6xi\\\\Step_221.txt'"
     },
     "metadata": {},
     "output_type": "display_data"
    },
    {
     "data": {
      "text/plain": "'data/MC_A_6xi\\\\Step_222.txt'"
     },
     "metadata": {},
     "output_type": "display_data"
    },
    {
     "data": {
      "text/plain": "'data/MC_A_6xi\\\\Step_223.txt'"
     },
     "metadata": {},
     "output_type": "display_data"
    },
    {
     "data": {
      "text/plain": "'data/MC_A_6xi\\\\Step_224.txt'"
     },
     "metadata": {},
     "output_type": "display_data"
    },
    {
     "data": {
      "text/plain": "'data/MC_A_6xi\\\\Step_225.txt'"
     },
     "metadata": {},
     "output_type": "display_data"
    },
    {
     "data": {
      "text/plain": "'data/MC_A_6xi\\\\Step_226.txt'"
     },
     "metadata": {},
     "output_type": "display_data"
    },
    {
     "data": {
      "text/plain": "'data/MC_A_6xi\\\\Step_227.txt'"
     },
     "metadata": {},
     "output_type": "display_data"
    },
    {
     "data": {
      "text/plain": "'data/MC_A_6xi\\\\Step_228.txt'"
     },
     "metadata": {},
     "output_type": "display_data"
    },
    {
     "data": {
      "text/plain": "'data/MC_A_6xi\\\\Step_229.txt'"
     },
     "metadata": {},
     "output_type": "display_data"
    },
    {
     "data": {
      "text/plain": "'data/MC_A_6xi\\\\Step_230.txt'"
     },
     "metadata": {},
     "output_type": "display_data"
    },
    {
     "data": {
      "text/plain": "'data/MC_A_6xi\\\\Step_231.txt'"
     },
     "metadata": {},
     "output_type": "display_data"
    },
    {
     "data": {
      "text/plain": "'data/MC_A_6xi\\\\Step_232.txt'"
     },
     "metadata": {},
     "output_type": "display_data"
    },
    {
     "data": {
      "text/plain": "'data/MC_A_6xi\\\\Step_233.txt'"
     },
     "metadata": {},
     "output_type": "display_data"
    },
    {
     "data": {
      "text/plain": "'data/MC_A_6xi\\\\Step_235.txt'"
     },
     "metadata": {},
     "output_type": "display_data"
    },
    {
     "data": {
      "text/plain": "'data/MC_A_6xi\\\\Step_236.txt'"
     },
     "metadata": {},
     "output_type": "display_data"
    },
    {
     "data": {
      "text/plain": "'data/MC_A_6xi\\\\Step_237.txt'"
     },
     "metadata": {},
     "output_type": "display_data"
    },
    {
     "data": {
      "text/plain": "'data/MC_A_6xi\\\\Step_238.txt'"
     },
     "metadata": {},
     "output_type": "display_data"
    },
    {
     "data": {
      "text/plain": "'data/MC_A_6xi\\\\Step_239.txt'"
     },
     "metadata": {},
     "output_type": "display_data"
    },
    {
     "data": {
      "text/plain": "'data/MC_A_6xi\\\\Step_240.txt'"
     },
     "metadata": {},
     "output_type": "display_data"
    },
    {
     "data": {
      "text/plain": "'data/MC_A_6xi\\\\Step_241.txt'"
     },
     "metadata": {},
     "output_type": "display_data"
    },
    {
     "data": {
      "text/plain": "'data/MC_A_6xi\\\\Step_242.txt'"
     },
     "metadata": {},
     "output_type": "display_data"
    },
    {
     "data": {
      "text/plain": "'data/MC_A_6xi\\\\Step_243.txt'"
     },
     "metadata": {},
     "output_type": "display_data"
    },
    {
     "data": {
      "text/plain": "'data/MC_A_6xi\\\\Step_244.txt'"
     },
     "metadata": {},
     "output_type": "display_data"
    },
    {
     "data": {
      "text/plain": "'data/MC_A_6xi\\\\Step_245.txt'"
     },
     "metadata": {},
     "output_type": "display_data"
    },
    {
     "data": {
      "text/plain": "'data/MC_A_6xi\\\\Step_246.txt'"
     },
     "metadata": {},
     "output_type": "display_data"
    },
    {
     "data": {
      "text/plain": "'data/MC_A_6xi\\\\Step_247.txt'"
     },
     "metadata": {},
     "output_type": "display_data"
    },
    {
     "data": {
      "text/plain": "'data/MC_A_6xi\\\\Step_248.txt'"
     },
     "metadata": {},
     "output_type": "display_data"
    },
    {
     "data": {
      "text/plain": "'data/MC_A_6xi\\\\Step_249.txt'"
     },
     "metadata": {},
     "output_type": "display_data"
    },
    {
     "data": {
      "text/plain": "'data/MC_A_6xi\\\\Step_250.txt'"
     },
     "metadata": {},
     "output_type": "display_data"
    },
    {
     "data": {
      "text/plain": "'data/MC_A_6xi\\\\Step_251.txt'"
     },
     "metadata": {},
     "output_type": "display_data"
    },
    {
     "data": {
      "text/plain": "'data/MC_A_6xi\\\\Step_252.txt'"
     },
     "metadata": {},
     "output_type": "display_data"
    },
    {
     "data": {
      "text/plain": "'data/MC_A_6xi\\\\Step_253.txt'"
     },
     "metadata": {},
     "output_type": "display_data"
    },
    {
     "data": {
      "text/plain": "'data/MC_A_6xi\\\\Step_254.txt'"
     },
     "metadata": {},
     "output_type": "display_data"
    },
    {
     "data": {
      "text/plain": "'data/MC_A_6xi\\\\Step_255.txt'"
     },
     "metadata": {},
     "output_type": "display_data"
    },
    {
     "data": {
      "text/plain": "'data/MC_A_6xi\\\\Step_256.txt'"
     },
     "metadata": {},
     "output_type": "display_data"
    },
    {
     "data": {
      "text/plain": "'data/MC_A_6xi\\\\Step_257.txt'"
     },
     "metadata": {},
     "output_type": "display_data"
    },
    {
     "data": {
      "text/plain": "'data/MC_A_6xi\\\\Step_258.txt'"
     },
     "metadata": {},
     "output_type": "display_data"
    },
    {
     "data": {
      "text/plain": "'data/MC_A_6xi\\\\Step_259.txt'"
     },
     "metadata": {},
     "output_type": "display_data"
    },
    {
     "data": {
      "text/plain": "'data/MC_A_6xi\\\\Step_260.txt'"
     },
     "metadata": {},
     "output_type": "display_data"
    },
    {
     "data": {
      "text/plain": "'data/MC_A_6xi\\\\Step_261.txt'"
     },
     "metadata": {},
     "output_type": "display_data"
    },
    {
     "data": {
      "text/plain": "'data/MC_A_6xi\\\\Step_262.txt'"
     },
     "metadata": {},
     "output_type": "display_data"
    },
    {
     "data": {
      "text/plain": "'data/MC_A_6xi\\\\Step_263.txt'"
     },
     "metadata": {},
     "output_type": "display_data"
    },
    {
     "data": {
      "text/plain": "'data/MC_A_6xi\\\\Step_264.txt'"
     },
     "metadata": {},
     "output_type": "display_data"
    },
    {
     "data": {
      "text/plain": "'data/MC_A_6xi\\\\Step_265.txt'"
     },
     "metadata": {},
     "output_type": "display_data"
    },
    {
     "data": {
      "text/plain": "'data/MC_A_6xi\\\\Step_266.txt'"
     },
     "metadata": {},
     "output_type": "display_data"
    },
    {
     "data": {
      "text/plain": "'data/MC_A_6xi\\\\Step_267.txt'"
     },
     "metadata": {},
     "output_type": "display_data"
    },
    {
     "data": {
      "text/plain": "'data/MC_A_6xi\\\\Step_268.txt'"
     },
     "metadata": {},
     "output_type": "display_data"
    },
    {
     "data": {
      "text/plain": "'data/MC_A_6xi\\\\Step_269.txt'"
     },
     "metadata": {},
     "output_type": "display_data"
    },
    {
     "data": {
      "text/plain": "'data/MC_A_6xi\\\\Step_270.txt'"
     },
     "metadata": {},
     "output_type": "display_data"
    },
    {
     "data": {
      "text/plain": "'data/MC_A_6xi\\\\Step_271.txt'"
     },
     "metadata": {},
     "output_type": "display_data"
    },
    {
     "data": {
      "text/plain": "'data/MC_A_6xi\\\\Step_272.txt'"
     },
     "metadata": {},
     "output_type": "display_data"
    },
    {
     "data": {
      "text/plain": "'data/MC_A_6xi\\\\Step_273.txt'"
     },
     "metadata": {},
     "output_type": "display_data"
    },
    {
     "data": {
      "text/plain": "'data/MC_A_6xi\\\\Step_274.txt'"
     },
     "metadata": {},
     "output_type": "display_data"
    },
    {
     "data": {
      "text/plain": "'data/MC_A_6xi\\\\Step_275.txt'"
     },
     "metadata": {},
     "output_type": "display_data"
    },
    {
     "data": {
      "text/plain": "'data/MC_A_6xi\\\\Step_276.txt'"
     },
     "metadata": {},
     "output_type": "display_data"
    },
    {
     "data": {
      "text/plain": "'data/MC_A_6xi\\\\Step_277.txt'"
     },
     "metadata": {},
     "output_type": "display_data"
    },
    {
     "data": {
      "text/plain": "'data/MC_A_6xi\\\\Step_278.txt'"
     },
     "metadata": {},
     "output_type": "display_data"
    },
    {
     "data": {
      "text/plain": "'data/MC_A_6xi\\\\Step_279.txt'"
     },
     "metadata": {},
     "output_type": "display_data"
    },
    {
     "data": {
      "text/plain": "'data/MC_A_6xi\\\\Step_280.txt'"
     },
     "metadata": {},
     "output_type": "display_data"
    },
    {
     "data": {
      "text/plain": "'data/MC_A_6xi\\\\Step_281.txt'"
     },
     "metadata": {},
     "output_type": "display_data"
    },
    {
     "data": {
      "text/plain": "'data/MC_A_6xi\\\\Step_282.txt'"
     },
     "metadata": {},
     "output_type": "display_data"
    },
    {
     "data": {
      "text/plain": "'data/MC_A_6xi\\\\Step_283.txt'"
     },
     "metadata": {},
     "output_type": "display_data"
    },
    {
     "data": {
      "text/plain": "'data/MC_A_6xi\\\\Step_284.txt'"
     },
     "metadata": {},
     "output_type": "display_data"
    },
    {
     "data": {
      "text/plain": "'data/MC_A_6xi\\\\Step_285.txt'"
     },
     "metadata": {},
     "output_type": "display_data"
    },
    {
     "data": {
      "text/plain": "[array([154849.02783879, 272301.61506749, 257557.07088454, 270407.78004397,\n        237793.98555632, 250016.72608696, 317840.7815853 , 346292.11336032,\n        271004.01619433, 276184.25120345]),\n array([0.00413434, 0.00611466, 0.00548657, 0.00598326, 0.00600923,\n        0.01837317, 0.03259901, 0.03682325, 0.01474822, 0.00696159]),\n array([0.00390221, 0.00620768, 0.00531003, 0.00606969, 0.00590123,\n        0.01814007, 0.03260519, 0.0368947 , 0.01491127, 0.00655729]),\n array([1.69753247e+35, 5.80738683e-03, 5.42832306e-03, 6.35814840e-03,\n        5.74168067e-03, 1.82462503e-02, 3.28485205e-02, 3.68216849e-02,\n        1.49808658e-02, 6.45577614e-03]),\n array([0.00364081, 0.00600764, 0.00559816, 0.00566737, 0.00613309,\n        0.01833724, 0.03289969, 0.03713373, 0.01455544, 0.00678755]),\n array([0.00404249, 0.00587816, 0.0051558 , 0.00547666, 0.00622901,\n        0.01816824, 0.03312787, 0.03659166, 0.01473724, 0.0065081 ]),\n array([0.00404756, 0.00592337, 0.00558661, 0.00572691, 0.00606802,\n        0.01808223, 0.03232733, 0.03687629, 0.01545439, 0.00694021]),\n array([0.00379125, 0.00629075, 0.00516849, 0.00577481, 0.00609695,\n        0.01814768, 0.03265218, 0.03695334, 0.01510294, 0.00677389]),\n array([0.00379833, 0.00582552, 0.00534815, 0.00553166, 0.00605595,\n        0.01781327, 0.03253962, 0.03700867, 0.01482717, 0.00695929]),\n array([0.00371588, 0.0062751 , 0.00515285, 0.00581611, 0.0061124 ,\n        0.01828072, 0.03298311, 0.03686157, 0.01514797, 0.00669868]),\n array([0.0040604 , 0.00586017, 0.00529824, 0.00559697, 0.00619516,\n        0.01897155, 0.03281491, 0.03643209, 0.01514755, 0.00652091]),\n array([0.00369122, 0.00604095, 0.00554277, 0.00570413, 0.00636972,\n        0.01809737, 0.03288059, 0.03697481, 0.01555228, 0.00687524]),\n array([0.00363607, 0.00628847, 0.00508462, 0.0058259 , 0.00593158,\n        0.01826409, 0.03303892, 0.0371781 , 0.01530435, 0.00630541]),\n array([0.0039496 , 0.00562108, 0.00576518, 0.00555436, 0.00602196,\n        0.01801702, 0.03274687, 0.03678758, 0.01493445, 0.00641049]),\n array([0.00406493, 0.00600841, 0.00522481, 0.00571472, 0.00647525,\n        0.01862223, 0.03305922, 0.03702577, 0.01472382, 0.00630668]),\n array([0.00377143, 0.00613363, 0.00543489, 0.00554295, 0.00635739,\n        0.01846601, 0.03236926, 0.03667322, 0.01503003, 0.00682459]),\n array([9.54902210e+35, 5.62000824e-03, 5.28384242e-03, 5.83549004e-03,\n        5.58408225e-03, 1.80356706e-02, 3.24837686e-02, 3.67971433e-02,\n        1.50633926e-02, 6.70801477e-03]),\n array([7.00646798e+35, 5.99103439e-03, 5.46905563e-03, 5.67087695e-03,\n        5.72954300e-03, 1.81000605e-02, 3.31812086e-02, 3.69435753e-02,\n        1.47855180e-02, 6.76152265e-03]),\n array([-8.71457200e+35,  5.81703453e-03,  4.93045958e-03,  5.70941858e-03,\n         6.11604339e-03,  1.83513125e-02,  3.26245555e-02,  3.66831886e-02,\n         1.52029562e-02,  6.74952559e-03]),\n array([1.27003444e+36, 5.73648900e-03, 5.30207895e-03, 6.05869682e-03,\n        5.48142649e-03, 1.80914927e-02, 3.27216449e-02, 3.65490189e-02,\n        1.44121174e-02, 6.32772647e-03]),\n array([2.01971707e+35, 5.72014288e-03, 5.47308744e-03, 5.96152472e-03,\n        6.52915978e-03, 1.88027111e-02, 3.25964072e-02, 3.65693190e-02,\n        1.51279539e-02, 6.62945025e-03]),\n array([0.00390686, 0.00596883, 0.00558485, 0.00571773, 0.0063191 ,\n        0.01768957, 0.03252902, 0.03659617, 0.01473818, 0.00661823]),\n array([0.00385602, 0.00657146, 0.00551171, 0.00581312, 0.00610714,\n        0.01820343, 0.03264949, 0.03679635, 0.01505457, 0.00699945]),\n array([6.33337145e+35, 6.04886602e-03, 5.20551668e-03, 6.30974041e-03,\n        5.59879576e-03, 1.84057414e-02, 3.26292084e-02, 3.69015828e-02,\n        1.50644299e-02, 6.54274591e-03]),\n array([2.78859713e+35, 5.87029309e-03, 5.04071461e-03, 5.87250091e-03,\n        5.73070871e-03, 1.85908732e-02, 3.28271018e-02, 3.69749163e-02,\n        1.47677507e-02, 6.80773813e-03]),\n array([-6.67927728e+34,  5.55559795e-03,  5.28562454e-03,  5.94155947e-03,\n         5.61795257e-03,  1.79588178e-02,  3.30746980e-02,  3.66015131e-02,\n         1.50637029e-02,  6.70461669e-03]),\n array([-2.68647280e+35,  5.95213232e-03,  5.31118263e-03,  5.93639199e-03,\n         5.90937528e-03,  1.84063118e-02,  3.30936404e-02,  3.70006940e-02,\n         1.49637649e-02,  6.63637005e-03]),\n array([-4.05353756e+35,  5.68445248e-03,  5.34116190e-03,  6.12167815e-03,\n         6.03198797e-03,  1.82656712e-02,  3.27370740e-02,  3.67808216e-02,\n         1.49154842e-02,  6.57077919e-03]),\n array([-8.14730378e+34,  6.05747258e-03,  4.95676600e-03,  5.88297810e-03,\n         5.78149827e-03,  1.83468454e-02,  3.30988513e-02,  3.66412472e-02,\n         1.47362475e-02,  6.95821742e-03]),\n array([0.00368328, 0.00549976, 0.00504316, 0.00579301, 0.00617905,\n        0.01782167, 0.03266979, 0.03635371, 0.01524709, 0.00628468]),\n array([0.00407627, 0.00613316, 0.00483439, 0.00572901, 0.0061093 ,\n        0.01789277, 0.03268465, 0.03647336, 0.01497123, 0.00651448]),\n array([0.00377923, 0.00629623, 0.00543588, 0.00643381, 0.0058773 ,\n        0.01805691, 0.03275509, 0.0371823 , 0.01494428, 0.00650232]),\n array([3.60742104e+35, 6.22990501e-03, 5.15790301e-03, 5.97086063e-03,\n        6.00081553e-03, 1.79899143e-02, 3.29778027e-02, 3.67880154e-02,\n        1.50711030e-02, 6.85211008e-03]),\n array([9.58371236e+34, 6.05205887e-03, 5.25901019e-03, 6.04403919e-03,\n        5.92515080e-03, 1.82510756e-02, 3.27955758e-02, 3.69316047e-02,\n        1.51083991e-02, 6.40214029e-03]),\n array([-2.97517232e+33,  6.65548731e-03,  5.70348830e-03,  5.74429323e-03,\n         6.37372161e-03,  1.80521048e-02,  3.28642864e-02,  3.69692988e-02,\n         1.53325330e-02,  6.43464473e-03]),\n array([-2.82327991e+33,  5.91361331e-03,  5.26688172e-03,  5.78574358e-03,\n         5.82203522e-03,  1.82342977e-02,  3.26331157e-02,  3.69574917e-02,\n         1.52243857e-02,  6.65962176e-03]),\n array([-9.65394384e+35,  6.14310257e-03,  5.12746239e-03,  5.66850968e-03,\n         5.74163929e-03,  1.76696456e-02,  3.25514882e-02,  3.68400804e-02,\n         1.49778684e-02,  6.78703737e-03]),\n array([1.05524877e+36, 6.09847224e-03, 5.43353747e-03, 5.39909006e-03,\n        5.99408399e-03, 1.81706854e-02, 3.30594055e-02, 3.65924719e-02,\n        1.51541656e-02, 6.83466285e-03]),\n array([-7.22305722e+35,  5.93106096e-03,  5.19841363e-03,  5.86565169e-03,\n         6.14460260e-03,  1.82083195e-02,  3.30520648e-02,  3.70432440e-02,\n         1.51959826e-02,  7.14271354e-03]),\n array([-7.18220559e+34,  5.83908262e-03,  5.45623289e-03,  5.48863876e-03,\n         5.96607421e-03,  1.85581326e-02,  3.22677217e-02,  3.67179648e-02,\n         1.51837162e-02,  6.91952473e-03]),\n array([0.0039319 , 0.00606894, 0.00506042, 0.00616071, 0.00585655,\n        0.01827015, 0.03298333, 0.0370664 , 0.01483591, 0.00639473]),\n array([-8.23997938e+35,  5.41364560e-03,  5.14985193e-03,  6.08662556e-03,\n         6.16450206e-03,  1.80719820e-02,  3.29610434e-02,  3.69058189e-02,\n         1.49384981e-02,  6.77292845e-03]),\n array([-1.15392967e+36,  6.10056060e-03,  5.35191901e-03,  5.94278364e-03,\n         5.88594254e-03,  1.80819675e-02,  3.30797774e-02,  3.71508786e-02,\n         1.46621162e-02,  6.57390029e-03]),\n array([-6.35841204e+35,  5.98693294e-03,  5.77426986e-03,  5.89686858e-03,\n         5.83535531e-03,  1.77281606e-02,  3.27592415e-02,  3.69828763e-02,\n         1.49459014e-02,  6.34773277e-03]),\n array([0.00356043, 0.0060998 , 0.00532958, 0.00575255, 0.00631514,\n        0.018134  , 0.03274148, 0.03675557, 0.01497853, 0.00652209]),\n array([0.00387871, 0.0056846 , 0.00477006, 0.00554688, 0.00650678,\n        0.01866322, 0.0325927 , 0.03694306, 0.01514049, 0.00680372]),\n array([4.90225712e+35, 5.83379223e-03, 5.12208024e-03, 5.95943526e-03,\n        6.20246401e-03, 1.85238815e-02, 3.28808464e-02, 3.70282195e-02,\n        1.47715753e-02, 6.50514077e-03]),\n array([3.53943699e+34, 5.78543376e-03, 5.18544997e-03, 5.87826526e-03,\n        6.21939536e-03, 1.81054301e-02, 3.23388215e-02, 3.71641583e-02,\n        1.52559443e-02, 6.12373226e-03]),\n array([-3.38329562e+34,  5.87068549e-03,  5.33319414e-03,  5.67526234e-03,\n         5.81371005e-03,  1.84001660e-02,  3.27707506e-02,  3.68524088e-02,\n         1.51261311e-02,  6.75178413e-03]),\n array([0.00353459, 0.00576717, 0.00537135, 0.00579621, 0.00614344,\n        0.01814574, 0.0329812 , 0.03694733, 0.0152007 , 0.00630761]),\n array([2.84617641e+35, 5.78073141e-03, 5.37465034e-03, 5.85697975e-03,\n        6.10432284e-03, 1.85661410e-02, 3.28663806e-02, 3.69399153e-02,\n        1.52856267e-02, 6.61953430e-03]),\n array([0.00367272, 0.0061357 , 0.00546237, 0.00580685, 0.00628338,\n        0.01796696, 0.03262257, 0.03659979, 0.01499764, 0.00678183]),\n array([-2.39354275e+35,  5.91013267e-03,  5.28037643e-03,  5.50277348e-03,\n         5.90268330e-03,  1.84610485e-02,  3.29135414e-02,  3.67025381e-02,\n         1.50075146e-02,  6.35767611e-03]),\n array([-5.45027657e+35,  5.85331855e-03,  4.97919426e-03,  5.72871568e-03,\n         5.87167965e-03,  1.81753830e-02,  3.24043566e-02,  3.67003018e-02,\n         1.50463547e-02,  6.95109226e-03]),\n array([-1.56709854e+35,  6.05354407e-03,  5.03751244e-03,  6.07053068e-03,\n         5.99545512e-03,  1.84510364e-02,  3.29369825e-02,  3.68684435e-02,\n         1.47235889e-02,  7.10527081e-03]),\n array([7.27823861e+32, 5.98766454e-03, 5.47234286e-03, 5.65482341e-03,\n        5.70799950e-03, 1.77921283e-02, 3.29407429e-02, 3.69567581e-02,\n        1.48981545e-02, 6.74440413e-03]),\n array([0.00387243, 0.00591686, 0.00536291, 0.00576933, 0.0057695 ,\n        0.01820148, 0.03280782, 0.03716024, 0.01485528, 0.00658235]),\n array([-9.99574312e+35,  5.84753417e-03,  5.11641731e-03,  5.99974181e-03,\n         5.76835980e-03,  1.86962515e-02,  3.30389567e-02,  3.70289431e-02,\n         1.51785644e-02,  6.57066077e-03]),\n array([-1.30133877e+36,  5.98651584e-03,  5.13139294e-03,  5.77425821e-03,\n         6.01748016e-03,  1.76572454e-02,  3.24982942e-02,  3.69562660e-02,\n         1.48601919e-02,  6.48301989e-03]),\n array([5.68470975e+35, 6.10708990e-03, 5.35227387e-03, 5.86515860e-03,\n        5.48070700e-03, 1.83444578e-02, 3.30233120e-02, 3.65224802e-02,\n        1.51634700e-02, 6.30263182e-03]),\n array([0.00393286, 0.00609062, 0.00518363, 0.00571724, 0.00588347,\n        0.01832823, 0.03228802, 0.03677112, 0.01513802, 0.00666441]),\n array([-5.56580951e+34,  6.09956871e-03,  5.21683495e-03,  5.73136508e-03,\n         5.89595920e-03,  1.80477488e-02,  3.22968994e-02,  3.67119907e-02,\n         1.49767736e-02,  7.07211598e-03]),\n array([-2.74639667e+36,  6.13569321e-03,  5.18185148e-03,  6.19029641e-03,\n         5.84410218e-03,  1.80344832e-02,  3.28178131e-02,  3.71175171e-02,\n         1.49758091e-02,  6.80657117e-03]),\n array([-3.22721631e+35,  6.03335018e-03,  5.75406135e-03,  5.30120313e-03,\n         6.07859889e-03,  1.82621723e-02,  3.28542979e-02,  3.69028088e-02,\n         1.46258444e-02,  7.03416708e-03]),\n array([1.61990879e+35, 6.34400851e-03, 5.46564780e-03, 5.85634105e-03,\n        6.01750721e-03, 1.83744913e-02, 3.27003293e-02, 3.67210582e-02,\n        1.52106746e-02, 6.63375558e-03]),\n array([5.68470975e+35, 5.43050675e-03, 5.62308945e-03, 6.05156832e-03,\n        6.27758256e-03, 1.80878608e-02, 3.29424287e-02, 3.69412627e-02,\n        1.49900241e-02, 6.19041731e-03]),\n array([-8.63514061e+35,  6.03924375e-03,  5.31757138e-03,  5.73060033e-03,\n         6.64720697e-03,  1.80766013e-02,  3.27794530e-02,  3.65090493e-02,\n         1.47758981e-02,  6.22550019e-03]),\n array([1.24183663e+36, 5.82226547e-03, 5.59350298e-03, 5.76126542e-03,\n        5.95857976e-03, 1.80630226e-02, 3.28910799e-02, 3.68583676e-02,\n        1.53025223e-02, 6.65103918e-03]),\n array([-3.68506364e+33,  5.94613748e-03,  5.38942660e-03,  5.80009415e-03,\n         6.19668766e-03,  1.84693077e-02,  3.28156002e-02,  3.72995410e-02,\n         1.47344040e-02,  6.41673053e-03]),\n array([6.47342318e+35, 5.96425939e-03, 5.18093670e-03, 5.75705929e-03,\n        5.77063963e-03, 1.82916428e-02, 3.29834523e-02, 3.70626567e-02,\n        1.49432123e-02, 6.59178778e-03]),\n array([0.00389018, 0.00576897, 0.00523252, 0.00559599, 0.00601507,\n        0.01805233, 0.03281483, 0.0373532 , 0.01510337, 0.00672648]),\n array([9.77078912e+35, 5.66062813e-03, 5.60352684e-03, 5.83029713e-03,\n        6.08407800e-03, 1.80818496e-02, 3.28735569e-02, 3.68404410e-02,\n        1.52694728e-02, 6.39434491e-03]),\n array([1.24183258e+36, 5.61465326e-03, 4.98728912e-03, 5.96658609e-03,\n        5.95172656e-03, 1.82792551e-02, 3.26980711e-02, 3.67931201e-02,\n        1.52605197e-02, 6.91086400e-03]),\n array([0.00406344, 0.00606783, 0.00525001, 0.0055086 , 0.00567195,\n        0.01793942, 0.03294335, 0.03666155, 0.0145871 , 0.0069407 ]),\n array([0.00371371, 0.00586365, 0.00539335, 0.00602094, 0.00593418,\n        0.01811407, 0.03281487, 0.03684993, 0.01482217, 0.00636737]),\n array([-4.38348009e+35,  5.90509495e-03,  4.70985931e-03,  6.06643044e-03,\n         6.05925244e-03,  1.79442298e-02,  3.27411036e-02,  3.71068902e-02,\n         1.48773742e-02,  6.65330085e-03]),\n array([-1.22865360e+34,  6.03537087e-03,  5.39535628e-03,  5.83051786e-03,\n         6.16819506e-03,  1.85464615e-02,  3.29034448e-02,  3.67318593e-02,\n         1.48389343e-02,  6.43641043e-03]),\n array([0.00383732, 0.00603166, 0.00518489, 0.00597108, 0.00611931,\n        0.01796487, 0.03301861, 0.03704568, 0.0147019 , 0.0064677 ]),\n array([0.00386846, 0.0057347 , 0.00549839, 0.00561562, 0.00597164,\n        0.01810552, 0.03279425, 0.03703791, 0.01489395, 0.00676436]),\n array([-1.44342700e+35,  6.11337427e-03,  5.21354887e-03,  5.73255530e-03,\n         6.07301452e-03,  1.83351536e-02,  3.26366010e-02,  3.68529038e-02,\n         1.50475563e-02,  6.38662901e-03]),\n array([-5.38890791e+33,  5.52208666e-03,  5.78574092e-03,  6.10179971e-03,\n         5.91461082e-03,  1.84076549e-02,  3.23544651e-02,  3.70110825e-02,\n         1.50366751e-02,  6.48534918e-03]),\n array([-2.21866994e+36,  5.85670055e-03,  5.48620394e-03,  6.00484744e-03,\n         6.06768314e-03,  1.81142744e-02,  3.28962454e-02,  3.68773164e-02,\n         1.49056000e-02,  6.09013352e-03]),\n array([0.00383539, 0.00560039, 0.0047274 , 0.00571939, 0.00604801,\n        0.01798849, 0.03257706, 0.03691981, 0.01511027, 0.00631176]),\n array([-1.96894100e+34,  6.02529353e-03,  5.10945193e-03,  5.56424077e-03,\n         6.04166422e-03,  1.81135898e-02,  3.24424113e-02,  3.70854548e-02,\n         1.50953042e-02,  6.61413313e-03]),\n array([4.36179353e+35, 5.92781945e-03, 5.05458874e-03, 5.81217465e-03,\n        5.53628657e-03, 1.84750331e-02, 3.25020058e-02, 3.68575822e-02,\n        1.48358870e-02, 7.03457469e-03]),\n array([-8.32965975e+34,  5.93980605e-03,  5.35617363e-03,  5.75580498e-03,\n         5.85233552e-03,  1.82258737e-02,  3.28857989e-02,  3.68206051e-02,\n         1.49302682e-02,  6.88143168e-03]),\n array([4.60430596e+35, 6.03584263e-03, 5.25203427e-03, 5.45337764e-03,\n        5.77074773e-03, 1.79405375e-02, 3.25600647e-02, 3.71119551e-02,\n        1.46889334e-02, 6.76496839e-03]),\n array([3.77553603e+35, 5.73943006e-03, 5.51667515e-03, 6.12223068e-03,\n        5.88577830e-03, 1.82992300e-02, 3.28660906e-02, 3.70752318e-02,\n        1.51132292e-02, 6.58470055e-03]),\n array([-3.04201449e+35,  5.76440982e-03,  5.62097876e-03,  5.95523308e-03,\n         6.46836491e-03,  1.80003229e-02,  3.30668557e-02,  3.69743369e-02,\n         1.49670153e-02,  7.20663352e-03]),\n array([0.00371203, 0.00561479, 0.00528559, 0.00575744, 0.00582917,\n        0.01845796, 0.03255772, 0.03681005, 0.01482673, 0.00672842]),\n array([0.00356944, 0.00580297, 0.00491723, 0.00600642, 0.00606574,\n        0.018375  , 0.03295846, 0.03686634, 0.01517389, 0.00659126]),\n array([2.52809460e+35, 5.56434155e-03, 5.47557584e-03, 5.74968017e-03,\n        5.90812649e-03, 1.84625460e-02, 3.29077069e-02, 3.68797959e-02,\n        1.48916130e-02, 6.86607224e-03]),\n array([-1.55565088e+35,  5.76498441e-03,  5.04540449e-03,  6.15271845e-03,\n         6.45115929e-03,  1.77769397e-02,  3.33010558e-02,  3.63910321e-02,\n         1.48420500e-02,  6.61357967e-03]),\n array([-1.12790544e+35,  5.78595177e-03,  5.51220911e-03,  6.03159361e-03,\n         5.98479842e-03,  1.84815293e-02,  3.23511200e-02,  3.68029555e-02,\n         1.49024153e-02,  6.73368858e-03]),\n array([-4.62539171e+35,  6.20301593e-03,  5.02384100e-03,  5.78630898e-03,\n         5.90197207e-03,  1.81367658e-02,  3.26567195e-02,  3.69407122e-02,\n         1.49343142e-02,  6.86203985e-03]),\n array([0.0041718 , 0.00570452, 0.00536862, 0.00600606, 0.00600181,\n        0.01803692, 0.03258968, 0.03682364, 0.01517889, 0.00647839]),\n array([-1.55565088e+35,  6.04184531e-03,  5.24020691e-03,  5.68650253e-03,\n         5.93203819e-03,  1.82131260e-02,  3.28995111e-02,  3.64107510e-02,\n         1.46689143e-02,  6.92260462e-03]),\n array([-3.39272423e+34,  6.11706431e-03,  5.22423302e-03,  5.80387577e-03,\n         6.24253656e-03,  1.80441535e-02,  3.29560374e-02,  3.68450396e-02,\n         1.51554408e-02,  6.24713499e-03]),\n array([-7.26886600e+35,  5.91790792e-03,  5.47958439e-03,  5.81676221e-03,\n         6.08289641e-03,  1.81994537e-02,  3.28555957e-02,  3.67681106e-02,\n         1.50231494e-02,  6.14620175e-03]),\n array([-1.24855082e+36,  5.69279268e-03,  5.26105075e-03,  6.10671353e-03,\n         6.13031983e-03,  1.83605625e-02,  3.31785654e-02,  3.67900466e-02,\n         1.50459271e-02,  6.93722840e-03]),\n array([0.00371168, 0.00616192, 0.00530557, 0.0056991 , 0.00620711,\n        0.01810508, 0.03265991, 0.03710469, 0.01495338, 0.00662876]),\n array([0.00357775, 0.00580951, 0.00510699, 0.0055796 , 0.0062634 ,\n        0.01826673, 0.03302546, 0.03677766, 0.01479827, 0.00720105]),\n array([1.04175469e+36, 6.32721326e-03, 5.57247508e-03, 5.83524293e-03,\n        6.13861534e-03, 1.81644579e-02, 3.26461890e-02, 3.70386469e-02,\n        1.48820422e-02, 6.99042645e-03]),\n array([-6.58089009e+35,  6.01800666e-03,  5.18609131e-03,  5.85975636e-03,\n         5.81688440e-03,  1.80126006e-02,  3.27288397e-02,  3.70696044e-02,\n         1.47822977e-02,  6.12458556e-03]),\n array([-3.39272423e+34,  5.99596326e-03,  5.52266607e-03,  5.59683321e-03,\n         6.37822954e-03,  1.82518485e-02,  3.29305336e-02,  3.69500406e-02,\n         1.50247390e-02,  6.46494234e-03]),\n array([1.04175469e+36, 5.84044262e-03, 5.42529639e-03, 5.83617277e-03,\n        5.92538631e-03, 1.83830976e-02, 3.25606374e-02, 3.71442244e-02,\n        1.47944842e-02, 6.77279542e-03]),\n array([3.45030552e+34, 6.20219672e-03, 5.54881845e-03, 5.45321182e-03,\n        6.02159062e-03, 1.80503799e-02, 3.27657410e-02, 3.71124088e-02,\n        1.47288386e-02, 6.82986637e-03]),\n array([-8.32965975e+34,  5.89426928e-03,  5.39718584e-03,  5.71987482e-03,\n         5.91861798e-03,  1.77099153e-02,  3.28803841e-02,  3.68144857e-02,\n         1.51008896e-02,  6.80942078e-03]),\n array([2.36407663e+34, 6.01838025e-03, 5.26151001e-03, 5.22130833e-03,\n        5.65715561e-03, 1.81352794e-02, 3.22942368e-02, 3.71682331e-02,\n        1.49214560e-02, 6.15811773e-03]),\n array([-7.14971800e+31,  5.88683189e-03,  5.37307582e-03,  5.68837533e-03,\n         5.70958325e-03,  1.79519845e-02,  3.28828157e-02,  3.68638327e-02,\n         1.46853769e-02,  6.04683025e-03]),\n array([1.14670851e+36, 6.15607717e-03, 5.20257086e-03, 5.63850824e-03,\n        5.81714266e-03, 1.83991572e-02, 3.24609815e-02, 3.65315515e-02,\n        1.48184742e-02, 6.44684539e-03]),\n array([6.62684852e+34, 5.79157084e-03, 5.32168115e-03, 5.54741652e-03,\n        5.54018268e-03, 1.88824796e-02, 3.48061823e-02, 3.44199402e-02,\n        1.45506016e-02, 6.30514591e-03]),\n array([0.00420543, 0.00548833, 0.00514719, 0.00584332, 0.00638869,\n        0.01915799, 0.03522964, 0.03428964, 0.01457427, 0.00619789]),\n array([-3.15742894e+35,  5.92547937e-03,  5.24142938e-03,  5.64475681e-03,\n         5.86000675e-03,  1.86718463e-02,  3.43113190e-02,  3.43126285e-02,\n         1.36565388e-02,  6.31423279e-03]),\n array([0.00379773, 0.00585973, 0.00537406, 0.00561429, 0.006223  ,\n        0.0188571 , 0.03438557, 0.03456007, 0.01381154, 0.00632328]),\n array([-6.15601950e+32,  5.35335455e-03,  5.52489434e-03,  5.65140660e-03,\n         6.29702013e-03,  1.91129664e-02,  3.44382910e-02,  3.41660860e-02,\n         1.43413748e-02,  6.53464250e-03]),\n array([7.36749316e+34, 5.24454889e-03, 5.42977488e-03, 5.40161217e-03,\n        5.90422154e-03, 1.87754458e-02, 3.44440340e-02, 3.41711077e-02,\n        1.42165267e-02, 6.19705451e-03]),\n array([9.95484359e+35, 5.67406633e-03, 5.59732282e-03, 5.94905779e-03,\n        6.15701756e-03, 1.87796234e-02, 3.48913850e-02, 3.45059939e-02,\n        1.43873191e-02, 6.23474140e-03]),\n array([-2.33997650e+34,  5.39211155e-03,  4.88882638e-03,  5.06377240e-03,\n         5.96264386e-03,  1.91773362e-02,  3.47020279e-02,  3.42741905e-02,\n         1.45124031e-02,  6.22333903e-03]),\n array([0.08590584, 0.00558804, 0.0050902 , 0.00582904, 0.00593197,\n        0.01887796, 0.03488787, 0.03424921, 0.01428145, 0.00647162]),\n array([3.46764953e+35, 5.41159922e-03, 5.10725294e-03, 5.50213955e-03,\n        5.98362282e-03, 1.89019710e-02, 3.44490772e-02, 3.43809487e-02,\n        1.40240412e-02, 6.01602069e-03]),\n array([0.00490014, 0.00559587, 0.00551039, 0.00509076, 0.0054566 ,\n        0.018741  , 0.03441709, 0.03418079, 0.01442026, 0.00624773]),\n array([0.00662971, 0.00576495, 0.00528354, 0.00574933, 0.00605645,\n        0.01836551, 0.03462853, 0.03417051, 0.01400987, 0.00596426]),\n array([-8.51864189e+35,  5.46602456e-03,  5.11574097e-03,  5.39992546e-03,\n         6.24721665e-03,  1.84682376e-02,  3.40551964e-02,  3.44169918e-02,\n         1.41938550e-02,  6.23979730e-03]),\n array([0.00446238, 0.00550112, 0.00489925, 0.0054029 , 0.00615644,\n        0.01831999, 0.03420876, 0.03397201, 0.01378074, 0.00599396]),\n array([-8.51864189e+35,  5.45615860e-03,  5.06681007e-03,  5.88834026e-03,\n         5.80555058e-03,  1.84172138e-02,  3.44113024e-02,  3.42299374e-02,\n         1.41996304e-02,  6.08217794e-03]),\n array([-1.77998695e+35,  6.16668632e-03,  5.17415484e-03,  5.58140295e-03,\n         5.94101547e-03,  1.85500562e-02,  3.39485885e-02,  3.37559890e-02,\n         1.41399899e-02,  6.69331924e-03]),\n array([2.15516714e+35, 5.58679246e-03, 5.69190580e-03, 5.68944961e-03,\n        5.57513385e-03, 1.81563687e-02, 3.41993781e-02, 3.39510833e-02,\n        1.38095270e-02, 6.66365570e-03]),\n array([-4.77273789e+35,  5.60351534e-03,  4.44050666e-03,  5.76705945e-03,\n         5.63250847e-03,  1.87232286e-02,  3.42027732e-02,  3.38169270e-02,\n         1.40532484e-02,  6.17583189e-03]),\n array([0.0042875 , 0.0053938 , 0.00537681, 0.00548342, 0.00611259,\n        0.01892773, 0.03391359, 0.03339091, 0.01401197, 0.00589235]),\n array([1.16106917e+36, 5.11309935e-03, 5.27405001e-03, 5.24114509e-03,\n        5.68772835e-03, 1.85920795e-02, 3.43703296e-02, 3.35860941e-02,\n        1.39074380e-02, 6.28560781e-03]),\n array([-5.13805612e+35,  5.41917560e-03,  4.87143200e-03,  5.09144020e-03,\n         6.06037948e-03,  1.85505401e-02,  3.41105215e-02,  3.40066511e-02,\n         1.42179468e-02,  6.22946549e-03]),\n array([2.36177623e+36, 5.17858885e-03, 5.09254338e-03, 5.20431529e-03,\n        5.83274175e-03, 1.85298579e-02, 3.40964637e-02, 3.35874023e-02,\n        1.37685592e-02, 5.91271329e-03]),\n array([1.95106723e+33, 5.22285229e-03, 5.20339380e-03, 5.33850674e-03,\n        5.53517127e-03, 1.85660039e-02, 3.43068135e-02, 3.33887815e-02,\n        1.40115246e-02, 6.06690575e-03]),\n array([0.00453444, 0.00533171, 0.00528687, 0.00526884, 0.00537157,\n        0.01937642, 0.03590225, 0.03087728, 0.01335005, 0.00617787]),\n array([3.67827872e+35, 5.07576023e-03, 5.45346183e-03, 6.02351289e-03,\n        5.55193189e-03, 1.92646534e-02, 3.61411109e-02, 3.11004856e-02,\n        1.32984583e-02, 6.28310116e-03]),\n array([-6.35981952e+33,  5.57030406e-03,  5.26391095e-03,  5.48387732e-03,\n         5.60953046e-03,  1.90605142e-02,  3.63447565e-02,  3.11964948e-02,\n         1.30743007e-02,  5.96613624e-03]),\n array([-2.30109371e+35,  5.48088323e-03,  5.64324364e-03,  5.46325101e-03,\n         5.71383971e-03,  1.90421512e-02,  3.61189138e-02,  3.11431322e-02,\n         1.32993048e-02,  5.91558143e-03]),\n array([-5.46501502e+32,  5.14111370e-03,  5.12101313e-03,  5.15289238e-03,\n         5.61214184e-03,  1.94571870e-02,  3.64147557e-02,  3.11623984e-02,\n         1.32545111e-02,  6.09829657e-03]),\n array([2.53140754e+34, 4.86207766e-03, 4.85551610e-03, 5.35590729e-03,\n        5.64057702e-03, 1.87993800e-02, 3.61365481e-02, 3.10421244e-02,\n        1.33623927e-02, 5.96594379e-03]),\n array([-6.42082794e+34,  5.13697512e-03,  5.11460401e-03,  5.32871355e-03,\n         5.96705799e-03,  1.91371890e-02,  3.57506619e-02,  3.14009203e-02,\n         1.29695091e-02,  5.54530260e-03]),\n array([3.53806622e+33, 5.82424582e-03, 4.82052673e-03, 5.56094051e-03,\n        5.76039090e-03, 1.87694031e-02, 3.59920197e-02, 3.09894457e-02,\n        1.32499307e-02, 6.09013493e-03]),\n array([0.00494512, 0.00520645, 0.00535145, 0.00513048, 0.00551982,\n        0.0190513 , 0.0356799 , 0.03126291, 0.01280633, 0.00611896]),\n array([1.38548052e+36, 5.36119703e-03, 5.19334839e-03, 5.65140807e-03,\n        5.66238563e-03, 1.92831394e-02, 3.61371153e-02, 3.11943544e-02,\n        1.33874401e-02, 6.06096600e-03]),\n array([1.63169862e+34, 5.36224662e-03, 5.16050113e-03, 5.41302916e-03,\n        5.91925566e-03, 1.91839056e-02, 3.55018833e-02, 3.14225243e-02,\n        1.31275481e-02, 5.67944587e-03]),\n array([0.00452299, 0.00561906, 0.00495497, 0.00528315, 0.00570764,\n        0.01877894, 0.03583813, 0.03131408, 0.01294718, 0.00579631]),\n array([3.67898662e+35, 5.16965132e-03, 4.83044150e-03, 5.61844090e-03,\n        5.77883175e-03, 1.88535841e-02, 3.61375269e-02, 3.11618742e-02,\n        1.27507386e-02, 6.19592706e-03]),\n array([0.00493253, 0.00527713, 0.00514166, 0.00543535, 0.00560258,\n        0.01897149, 0.03602737, 0.0314561 , 0.01292785, 0.00571578]),\n array([2.10474872e+34, 5.62407515e-03, 5.37439693e-03, 5.52433383e-03,\n        5.95022074e-03, 1.88954614e-02, 3.61646474e-02, 3.14623760e-02,\n        1.28815669e-02, 6.02022702e-03]),\n array([1.21034031e+35, 5.39962102e-03, 5.70187151e-03, 5.23132727e-03,\n        5.68836478e-03, 1.94197149e-02, 3.59425084e-02, 3.08477076e-02,\n        1.31034276e-02, 6.12440875e-03]),\n array([-2.89165112e+33,  5.64690746e-03,  5.46343174e-03,  5.50300549e-03,\n         5.76848070e-03,  1.92714812e-02,  3.56821284e-02,  3.07317781e-02,\n         1.29362463e-02,  5.68753264e-03]),\n array([-1.56005152e+35,  5.21728591e-03,  5.06815090e-03,  5.52149381e-03,\n         5.63792798e-03,  1.94375019e-02,  3.55110520e-02,  3.08189869e-02,\n         1.32094229e-02,  6.02003561e-03]),\n array([0.0051217 , 0.00511254, 0.00525329, 0.00519473, 0.00535823,\n        0.01855054, 0.03584656, 0.0306535 , 0.01262742, 0.0060866 ]),\n array([3.77622856e+35, 5.43015969e-03, 5.59108255e-03, 5.42097737e-03,\n        5.61402878e-03, 1.87065182e-02, 3.59831539e-02, 3.04900653e-02,\n        1.26950996e-02, 5.78330369e-03]),\n array([7.73358740e+33, 4.83576008e-03, 5.31592268e-03, 5.59679950e-03,\n        5.46192836e-03, 1.91121933e-02, 3.57123460e-02, 3.05477991e-02,\n        1.27588818e-02, 5.91506452e-03]),\n array([6.96468848e+34, 5.40054757e-03, 4.92412738e-03, 5.17867352e-03,\n        5.95521666e-03, 1.90400472e-02, 3.79967207e-02, 2.83618727e-02,\n        1.24507732e-02, 5.80476896e-03]),\n array([0.00534948, 0.00480841, 0.00516155, 0.00543291, 0.00570804,\n        0.01960999, 0.03766541, 0.02808136, 0.01212723, 0.00585436]),\n array([0.00601135, 0.00534488, 0.00545335, 0.00523804, 0.00594084,\n        0.01968537, 0.03753553, 0.02813713, 0.01247471, 0.00630033]),\n array([-6.39327100e+34,  4.90595284e-03,  5.11847681e-03,  5.48948123e-03,\n         5.61907514e-03,  1.94822378e-02,  3.76742488e-02,  2.86476641e-02,\n         1.21445841e-02,  6.31981027e-03]),\n array([2.25627188e+35, 4.98279024e-03, 5.07195263e-03, 5.55994481e-03,\n        5.39836006e-03, 1.91652271e-02, 3.75631628e-02, 2.82739920e-02,\n        1.24152511e-02, 5.96093677e-03]),\n array([6.10334944e+35, 5.41342625e-03, 5.39910031e-03, 5.61929714e-03,\n        5.71153954e-03, 1.87591340e-02, 3.72063846e-02, 2.77823758e-02,\n        1.16368035e-02, 5.53730174e-03]),\n array([-9.05813433e+33,  5.31441366e-03,  5.06294726e-03,  5.54496158e-03,\n         5.97838923e-03,  1.88004244e-02,  3.72034165e-02,  2.78824441e-02,\n         1.21577689e-02,  5.58544205e-03]),\n array([0.00599248, 0.00511914, 0.0050858 , 0.00534047, 0.0053223 ,\n        0.01904762, 0.03713565, 0.0275812 , 0.01176078, 0.00585429]),\n array([-2.80841766e+35,  5.32420868e-03,  5.36261856e-03,  5.56275753e-03,\n         5.34542447e-03,  1.89668148e-02,  3.73082360e-02,  2.76950657e-02,\n         1.20950471e-02,  5.83845003e-03]),\n array([3.42935872e+32, 5.33070171e-03, 4.98059844e-03, 5.40583382e-03,\n        5.70212244e-03, 1.85456544e-02, 3.71637419e-02, 2.75011587e-02,\n        1.18134179e-02, 5.76101690e-03]),\n array([4.25968494e+32, 5.50336267e-03, 5.03768717e-03, 5.15578278e-03,\n        5.72026802e-03, 1.87536760e-02, 3.69943247e-02, 2.72614135e-02,\n        1.20215122e-02, 6.31425022e-03]),\n array([1.17501633e+36, 5.26080417e-03, 5.27303286e-03, 5.52568691e-03,\n        5.49958805e-03, 1.90569600e-02, 3.64367966e-02, 2.70566313e-02,\n        1.19423903e-02, 5.82246430e-03]),\n array([-4.51965689e+33,  5.23346714e-03,  5.19827705e-03,  5.63268433e-03,\n         5.35417726e-03,  1.83834252e-02,  3.65197028e-02,  2.69632733e-02,\n         1.18083670e-02,  5.89492066e-03]),\n array([9.05746154e+35, 4.99907511e-03, 5.33848384e-03, 5.24477660e-03,\n        5.69867585e-03, 1.84221108e-02, 3.63076705e-02, 2.66070701e-02,\n        1.14927674e-02, 5.53580426e-03]),\n array([1.47982742e+34, 5.09431549e-03, 5.18727230e-03, 5.31959297e-03,\n        6.01962050e-03, 1.82575182e-02, 3.62318701e-02, 2.63378129e-02,\n        1.13735985e-02, 5.99698675e-03]),\n array([-3.25912572e+32,  4.89531418e-03,  5.40146348e-03,  5.47370202e-03,\n         5.28097512e-03,  1.81730817e-02,  3.58930640e-02,  2.59625522e-02,\n         1.13096320e-02,  5.61739266e-03]),\n array([0.00528306, 0.00475308, 0.00528453, 0.0053847 , 0.00562652,\n        0.01828706, 0.03585138, 0.0260773 , 0.01157069, 0.00581109]),\n array([-2.12776880e+33,  5.01595145e-03,  4.93865545e-03,  5.65045514e-03,\n         4.96175017e-03,  1.80346107e-02,  3.55225288e-02,  2.53790597e-02,\n         1.06377210e-02,  5.86026338e-03]),\n array([-1.27369263e+36,  5.13560533e-03,  5.10011561e-03,  5.36706516e-03,\n         5.65198969e-03,  1.83679375e-02,  3.61916501e-02,  2.35614709e-02,\n         1.02013264e-02,  5.98959456e-03]),\n array([-2.09796130e+33,  5.65537889e-03,  5.78439775e-03,  5.07215460e-03,\n         5.26416316e-03,  1.83202223e-02,  3.54725796e-02,  2.34448003e-02,\n         1.07091331e-02,  5.86304634e-03]),\n array([-6.46522978e+34,  5.22661471e-03,  5.22178335e-03,  5.50930141e-03,\n         5.42583882e-03,  1.80788601e-02,  3.48187296e-02,  2.32470393e-02,\n         1.00715064e-02,  5.61991941e-03]),\n array([0.0058842 , 0.00559678, 0.00498076, 0.00511736, 0.00583806,\n        0.0176402 , 0.03455814, 0.02263201, 0.01024923, 0.00534804]),\n array([9.10684768e+34, 4.69294634e-03, 5.21031033e-03, 5.37150778e-03,\n        5.70008904e-03, 1.76028832e-02, 3.42451138e-02, 2.25991298e-02,\n        9.59924814e-03, 6.04370776e-03]),\n array([0.0053243 , 0.00466502, 0.00487463, 0.00519146, 0.0053753 ,\n        0.01746237, 0.03390473, 0.02166869, 0.00967066, 0.00570215]),\n array([-1.27692992e+36,  5.07125274e-03,  5.24485097e-03,  5.03193070e-03,\n         5.30033049e-03,  1.72042206e-02,  3.34121161e-02,  2.20469374e-02,\n         9.83108028e-03,  5.47438948e-03]),\n array([4.10268655e+34, 5.34485414e-03, 4.81968994e-03, 5.01215317e-03,\n        5.34911992e-03, 1.67899962e-02, 3.29463751e-02, 2.12747264e-02,\n        8.96356274e-03, 5.63005410e-03]),\n array([1.13650412e+36, 5.22535461e-03, 5.26861595e-03, 4.94024074e-03,\n        5.29985419e-03, 1.67136295e-02, 3.24650167e-02, 2.08631528e-02,\n        9.29272992e-03, 5.82241851e-03]),\n array([6.11930015e+35, 5.00624473e-03, 5.49635768e-03, 5.32890352e-03,\n        5.68935473e-03, 1.68908767e-02, 3.17954137e-02, 2.06411758e-02,\n        9.12737317e-03, 5.87253943e-03]),\n array([2.07261817e+30, 5.79561595e-03, 5.30855480e-03, 5.28774843e-03,\n        5.59699083e-03, 1.57072860e-02, 3.09949822e-02, 2.01660864e-02,\n        8.56869294e-03, 5.56483998e-03]),\n array([0.00582681, 0.00514556, 0.00523081, 0.00515828, 0.00553454,\n        0.01508813, 0.03096493, 0.01961475, 0.00890538, 0.00603554]),\n array([6.11930015e+35, 5.55525531e-03, 4.76560567e-03, 5.01136651e-03,\n        5.39605137e-03, 1.55289056e-02, 2.97062679e-02, 1.92681350e-02,\n        8.57988208e-03, 5.66357525e-03]),\n array([-4.16159404e+35,  5.10326953e-03,  5.28735537e-03,  4.85093031e-03,\n         5.53147732e-03,  1.48733823e-02,  2.95267729e-02,  1.92511059e-02,\n         8.51006783e-03,  5.76461704e-03]),\n array([4.65462219e+33, 5.12020819e-03, 5.34772915e-03, 5.47194101e-03,\n        5.34607615e-03, 1.53893122e-02, 2.97957291e-02, 1.73635351e-02,\n        8.30287634e-03, 5.69303224e-03]),\n array([1.40479415e+36, 5.08817264e-03, 5.40248519e-03, 5.06324572e-03,\n        5.36834133e-03, 1.48912877e-02, 2.93589353e-02, 1.67821379e-02,\n        7.80764364e-03, 6.21719307e-03]),\n array([0.00582262, 0.00518832, 0.00513409, 0.00483268, 0.00500922,\n        0.01460134, 0.02889267, 0.01671204, 0.00753889, 0.00633594]),\n array([-9.52607924e+26,  5.14542627e-03,  5.11257172e-03,  5.08611289e-03,\n         5.01882268e-03,  1.42211422e-02,  2.82840171e-02,  1.63579680e-02,\n         7.23289663e-03,  6.03477638e-03]),\n array([0.00677854, 0.0050067 , 0.00469532, 0.00493436, 0.00515994,\n        0.01385784, 0.02760068, 0.01634171, 0.00755184, 0.00585442]),\n array([3.66239355e+35, 4.79952906e-03, 5.51438931e-03, 5.57012726e-03,\n        4.90067807e-03, 1.37838049e-02, 2.71717388e-02, 1.57803243e-02,\n        7.53723256e-03, 5.83187197e-03]),\n array([1.93121361e+30, 5.41674401e-03, 5.27674554e-03, 5.10719624e-03,\n        5.07087834e-03, 1.31027820e-02, 2.63348715e-02, 1.54695406e-02,\n        7.44345097e-03, 5.96424057e-03]),\n array([4.23041113e+34, 5.06525347e-03, 5.30155116e-03, 5.41013176e-03,\n        4.80619532e-03, 1.32452827e-02, 2.61566206e-02, 1.51163196e-02,\n        7.18032308e-03, 5.64840943e-03]),\n array([1.30663485e+35, 4.72930263e-03, 4.98049823e-03, 4.86708335e-03,\n        4.97215138e-03, 1.29168849e-02, 2.61236661e-02, 1.50451708e-02,\n        7.16197149e-03, 5.61994431e-03]),\n array([-1.33141120e+35,  5.00826953e-03,  4.99737540e-03,  4.82468398e-03,\n         5.07523121e-03,  1.19894972e-02,  2.50321770e-02,  1.45486308e-02,\n         7.16411112e-03,  5.49060273e-03]),\n array([-4.26749690e+35,  4.83831503e-03,  5.11508164e-03,  4.72980843e-03,\n         5.02876687e-03,  1.20253056e-02,  2.46395886e-02,  1.40124353e-02,\n         6.79353912e-03,  5.77096393e-03]),\n array([3.66239355e+35, 5.08302022e-03, 5.74400317e-03, 5.23194168e-03,\n        4.79268992e-03, 1.13598491e-02, 2.38351140e-02, 1.43776278e-02,\n        6.46717449e-03, 5.20487186e-03]),\n array([0.00651183, 0.00465567, 0.00516279, 0.00515249, 0.00483582,\n        0.01138957, 0.02349559, 0.01376104, 0.0065322 , 0.00497305]),\n array([0.0059406 , 0.00508851, 0.00550295, 0.00510754, 0.00527189,\n        0.01103192, 0.02324982, 0.01311955, 0.0063219 , 0.00576901]),\n array([-1.40237277e+35,  5.15242669e-03,  4.26048416e-03,  5.15177364e-03,\n         4.84937504e-03,  1.12203933e-02,  2.35800472e-02,  1.21158226e-02,\n         6.26789074e-03,  5.51343207e-03]),\n array([0.00632502, 0.00527026, 0.0048696 , 0.00489591, 0.00465965,\n        0.01083624, 0.02294711, 0.01193961, 0.00612716, 0.00503681]),\n array([3.67058541e+31, 4.76877225e-03, 5.50749445e-03, 5.15380293e-03,\n        4.72366374e-03, 1.05005244e-02, 2.22662465e-02, 1.18473878e-02,\n        5.67446328e-03, 5.41973483e-03]),\n array([0.00706905, 0.00513008, 0.00437408, 0.00502126, 0.00457513,\n        0.01012675, 0.02167861, 0.01161725, 0.00584899, 0.00541215]),\n array([0.00617582, 0.00500056, 0.00547981, 0.00528812, 0.0043526 ,\n        0.00978379, 0.02103268, 0.01130909, 0.00588894, 0.00568653]),\n array([-5.13354567e+34,  5.22631430e-03,  5.28121220e-03,  4.63132408e-03,\n         4.68154058e-03,  9.82730546e-03,  2.01399965e-02,  1.08257893e-02,\n         5.82796895e-03,  5.39018305e-03]),\n array([0.00663662, 0.00482337, 0.00477952, 0.00532517, 0.00461673,\n        0.00918568, 0.0196169 , 0.01036917, 0.00620352, 0.00584574]),\n array([0.00637578, 0.00502626, 0.00576166, 0.00496284, 0.00481171,\n        0.00909416, 0.01888395, 0.01047992, 0.00530064, 0.00585823]),\n array([0.00638084, 0.00497287, 0.00511581, 0.00487567, 0.00483059,\n        0.00856137, 0.01860236, 0.00980929, 0.00599148, 0.00535978]),\n array([0.00661895, 0.00521068, 0.00503242, 0.00524457, 0.00469637,\n        0.00807556, 0.01782681, 0.00985442, 0.00567955, 0.00596567]),\n array([3.05878969e+26, 4.91320774e-03, 5.14599690e-03, 5.13143718e-03,\n        5.08886358e-03, 8.02740846e-03, 1.70988771e-02, 9.32171458e-03,\n        5.54652137e-03, 5.38013184e-03]),\n array([0.00631011, 0.00529868, 0.00537993, 0.00500036, 0.00497589,\n        0.00821442, 0.01645587, 0.009127  , 0.00554953, 0.00574271]),\n array([0.00686664, 0.00524609, 0.00518638, 0.00509655, 0.00476165,\n        0.00778545, 0.01548257, 0.00862441, 0.00532767, 0.0053758 ]),\n array([0.00733053, 0.00548176, 0.00565641, 0.00494088, 0.00462886,\n        0.00715418, 0.01534598, 0.00801972, 0.00506762, 0.00522724]),\n array([2.32826067e+22, 4.89919467e-03, 5.58402048e-03, 5.58989221e-03,\n        4.61752704e-03, 7.20426465e-03, 1.44805133e-02, 7.53722720e-03,\n        5.55122083e-03, 5.61787584e-03]),\n array([0.00715421, 0.00472578, 0.00522481, 0.00504976, 0.00493471,\n        0.00671842, 0.01387184, 0.00718375, 0.00591287, 0.00551686]),\n array([0.00635893, 0.00473445, 0.00546376, 0.00544904, 0.00550958,\n        0.00668262, 0.01298671, 0.00651499, 0.0056222 , 0.00582388]),\n array([0.00702151, 0.00519626, 0.00508875, 0.00510863, 0.00480939,\n        0.00616625, 0.012074  , 0.00683312, 0.00557177, 0.00525239]),\n array([0.0070929 , 0.00481997, 0.00522703, 0.0049654 , 0.0043673 ,\n        0.00641552, 0.01102873, 0.00630117, 0.00565293, 0.00543343]),\n array([0.00702382, 0.00509226, 0.00564467, 0.00575604, 0.00501372,\n        0.00635026, 0.0105152 , 0.00591934, 0.00612527, 0.00588765]),\n array([0.00655812, 0.00501313, 0.00465972, 0.00577787, 0.00523614,\n        0.00628795, 0.00920341, 0.00555444, 0.00566285, 0.0056001 ]),\n array([1.30643295e+31, 4.76157254e-03, 5.49236415e-03, 6.20996119e-03,\n        5.37165475e-03, 6.18113330e-03, 8.34042326e-03, 5.42434095e-03,\n        5.38279834e-03, 5.83597487e-03]),\n array([6.22227542e+35, 5.13773836e-03, 5.53264833e-03, 5.16330392e-03,\n        5.15701801e-03, 5.60315751e-03, 7.65900557e-03, 5.67104949e-03,\n        5.97945123e-03, 5.62672848e-03]),\n array([0.00695976, 0.00554506, 0.00547165, 0.00526822, 0.00531109,\n        0.00626364, 0.00676203, 0.00531699, 0.00555511, 0.00565291]),\n array([1.33078772e+35, 5.10651637e-03, 5.73140866e-03, 5.23100122e-03,\n        4.73155728e-03, 5.70286693e-03, 5.72177096e-03, 5.04103388e-03,\n        5.62418458e-03, 5.15942480e-03]),\n array([-3.21166079e+06,  5.02952091e-03,  5.44903988e-03,  5.62268795e-03,\n         5.35312709e-03,  6.26429690e-03,  5.61571012e-03,  4.79883516e-03,\n         5.80650841e-03,  5.87490499e-03]),\n array([0.00737268, 0.00500891, 0.00536759, 0.00512353, 0.00567244,\n        0.00612574, 0.00567486, 0.004752  , 0.00600695, 0.00536822]),\n array([4.23965774e-09, 1.80985546e-09, 2.77511295e-09, 4.62239755e-09,\n        3.39850788e-09, 2.00351596e-09, 4.10234088e-09, 4.82628339e-09,\n        2.74330794e-09, 4.05206709e-09]),\n array([285801.86585222, 267723.32019879, 281326.81514765, 286825.01687171,\n        249940.75725575, 310580.69026053, 296645.96235138, 328386.5599564 ,\n        301189.91081979, 285454.85656456]),\n array([0.00737126, 0.00559692, 0.00560093, 0.00498089, 0.00494311,\n        0.00670207, 0.00869678, 0.00606671, 0.00555454, 0.00544377]),\n array([0.00707077, 0.00553498, 0.00537433, 0.0050941 , 0.0051035 ,\n        0.00710045, 0.01052395, 0.00703168, 0.00560311, 0.00579428]),\n array([0.00695364, 0.00502133, 0.00540323, 0.00526246, 0.00493472,\n        0.00747992, 0.01380544, 0.00787429, 0.00556812, 0.00588848]),\n array([0.00760328, 0.00525984, 0.00578807, 0.00555413, 0.00546576,\n        0.00785877, 0.01740232, 0.00882197, 0.00606712, 0.00596596]),\n array([0.00788944, 0.0064684 , 0.00634424, 0.00593891, 0.00590237,\n        0.00797159, 0.04092052, 0.02207028, 0.00604703, 0.00696899]),\n array([0.02125189, 0.01891174, 0.02124097, 0.01645972, 0.01627802,\n        0.0163625 , 0.04503568, 0.0261616 , 0.00899785, 0.00907445]),\n array([0.00670636, 0.00594412, 0.00520973, 0.00489202, 0.00526935,\n        0.00626138, 0.0420647 , 0.02223422, 0.00655047, 0.00512447]),\n array([0.00608146, 0.00510079, 0.00469332, 0.0048042 , 0.00535732,\n        0.00598043, 0.03716619, 0.02131706, 0.00596068, 0.0053042 ]),\n array([0.00569486, 0.00537503, 0.00474326, 0.0050547 , 0.00504033,\n        0.00595649, 0.03619978, 0.02185127, 0.00671441, 0.0054731 ]),\n array([0.00562425, 0.00520204, 0.00459609, 0.00425761, 0.00522361,\n        0.00649603, 0.03497426, 0.02198039, 0.00580877, 0.00529775]),\n array([0.00568329, 0.00521744, 0.00420852, 0.00444496, 0.00449618,\n        0.00637704, 0.03724145, 0.0210666 , 0.00567009, 0.00612848]),\n array([0.00563079, 0.00505628, 0.00446712, 0.00445084, 0.00445832,\n        0.00661281, 0.04082676, 0.02212924, 0.00546489, 0.00573642]),\n array([0.00561199, 0.00545462, 0.00459451, 0.00469449, 0.00475842,\n        0.00619899, 0.03683703, 0.02168893, 0.00624815, 0.00543374]),\n array([0.00591721, 0.00498968, 0.00443663, 0.00448982, 0.00464432,\n        0.00604191, 0.03573341, 0.02206663, 0.00622776, 0.00556288]),\n array([0.00563527, 0.0053098 , 0.00454563, 0.00388502, 0.00457673,\n        0.00604951, 0.03559071, 0.02173792, 0.00555266, 0.00558506]),\n array([0.00590408, 0.0052158 , 0.00454331, 0.00440613, 0.00477107,\n        0.00643608, 0.03500845, 0.02155441, 0.00632309, 0.00555695]),\n array([0.00604651, 0.00550591, 0.00476758, 0.00445518, 0.00460242,\n        0.00621254, 0.04127023, 0.02163531, 0.00628505, 0.00574749]),\n array([0.00514725, 0.00480536, 0.00434885, 0.00429777, 0.00474304,\n        0.00613817, 0.03546978, 0.02221057, 0.00587627, 0.00569826]),\n array([0.00565922, 0.00525728, 0.00449954, 0.00447638, 0.00452349,\n        0.00640684, 0.03570225, 0.022239  , 0.00552208, 0.00492234]),\n array([0.00578711, 0.00562313, 0.00474668, 0.00437682, 0.00490856,\n        0.00589128, 0.03537691, 0.02188683, 0.00585215, 0.00559482]),\n array([0.0053619 , 0.00563159, 0.00416009, 0.00429605, 0.00486011,\n        0.00635094, 0.04139681, 0.02182988, 0.00603996, 0.00548541]),\n array([0.00565665, 0.00483279, 0.00464878, 0.00433405, 0.00508995,\n        0.00650008, 0.03710094, 0.02194587, 0.00605204, 0.00519277]),\n array([0.00612885, 0.00485542, 0.00425202, 0.00446208, 0.00485208,\n        0.00615124, 0.03506154, 0.02181567, 0.0064053 , 0.00593408]),\n array([0.00500684, 0.00463443, 0.00437104, 0.00417865, 0.00461501,\n        0.00617932, 0.03529546, 0.02199092, 0.00611122, 0.00538636]),\n array([0.005818  , 0.00586355, 0.00446509, 0.00498292, 0.00491454,\n        0.00607303, 0.03623818, 0.0214547 , 0.00657059, 0.0055872 ]),\n array([0.00573093, 0.00493134, 0.00401769, 0.00456445, 0.00482971,\n        0.00651321, 0.03659847, 0.02167602, 0.00586601, 0.00571272]),\n array([0.00538102, 0.0056123 , 0.00447601, 0.00452031, 0.00487781,\n        0.00558988, 0.03570184, 0.02234424, 0.00620094, 0.005398  ]),\n array([0.00619862, 0.00507977, 0.00468389, 0.00440254, 0.00434702,\n        0.00585636, 0.03444471, 0.02160104, 0.00588141, 0.00583545]),\n array([0.0057987 , 0.00515291, 0.00457484, 0.00465799, 0.00467834,\n        0.00640747, 0.0353676 , 0.0223994 , 0.00569314, 0.00544295]),\n array([0.00581403, 0.00556414, 0.00477717, 0.00444589, 0.00428919,\n        0.00634937, 0.0353546 , 0.02219165, 0.00604158, 0.00600893]),\n array([0.00545729, 0.00487518, 0.00472355, 0.00456732, 0.00450717,\n        0.00643457, 0.03464338, 0.02199349, 0.00596935, 0.00547577]),\n array([0.00606704, 0.00562978, 0.00451626, 0.00402753, 0.00469707,\n        0.00621743, 0.03566531, 0.0220209 , 0.00532088, 0.00533533]),\n array([0.00589934, 0.00498414, 0.00477144, 0.00428666, 0.00471935,\n        0.00610459, 0.03500574, 0.02229123, 0.006285  , 0.00590791]),\n array([0.00602311, 0.00506909, 0.00452686, 0.0042499 , 0.00465246,\n        0.0067338 , 0.03816316, 0.02156188, 0.00639206, 0.00567158]),\n array([0.00560858, 0.00529128, 0.0043847 , 0.00447647, 0.0045632 ,\n        0.00604577, 0.03600491, 0.02127983, 0.00573054, 0.00545968]),\n array([0.00563544, 0.00530785, 0.00472815, 0.00418557, 0.00479634,\n        0.00610807, 0.03520063, 0.02175505, 0.00632308, 0.00554001]),\n array([0.00597668, 0.00509373, 0.00430246, 0.00441491, 0.00461346,\n        0.00640997, 0.03466201, 0.02199734, 0.00568417, 0.00543289]),\n array([0.00529443, 0.00577312, 0.00401362, 0.00417151, 0.00448468,\n        0.00605037, 0.03532221, 0.02227188, 0.00588329, 0.00581038]),\n array([0.0059334 , 0.0051521 , 0.00478653, 0.00455835, 0.00447824,\n        0.00575086, 0.03555932, 0.02156701, 0.00547782, 0.00545816]),\n array([0.00551713, 0.00523086, 0.00437436, 0.00441004, 0.00454325,\n        0.00608048, 0.03530741, 0.02181973, 0.00599711, 0.0057526 ]),\n array([0.00567489, 0.00522475, 0.00462845, 0.00410837, 0.00399821,\n        0.00618549, 0.03672028, 0.02226918, 0.00584027, 0.00559998]),\n array([0.00568588, 0.00502171, 0.00471857, 0.00455197, 0.00461787,\n        0.00602984, 0.03508047, 0.0216711 , 0.0061351 , 0.00559535]),\n array([0.00527679, 0.00529534, 0.00466987, 0.00477065, 0.00488394,\n        0.00596924, 0.0361647 , 0.02188114, 0.00586759, 0.00535883]),\n array([0.00531945, 0.00517827, 0.00485668, 0.00434458, 0.00460473,\n        0.0061613 , 0.03520116, 0.02211203, 0.00604295, 0.00552023]),\n array([0.00563649, 0.00515613, 0.00430303, 0.00457006, 0.00487766,\n        0.0061475 , 0.03518997, 0.022093  , 0.00670825, 0.00531334]),\n array([0.00505563, 0.00500976, 0.00425361, 0.00408891, 0.00463958,\n        0.00603584, 0.03750299, 0.02207667, 0.00580729, 0.0052718 ]),\n array([0.00552705, 0.00507436, 0.00418211, 0.00398352, 0.00450144,\n        0.00604171, 0.04094749, 0.02207548, 0.00564948, 0.00522404]),\n array([0.00567997, 0.00521219, 0.00469472, 0.00479536, 0.00460088,\n        0.00660852, 0.03487429, 0.02219795, 0.0055036 , 0.00555667]),\n array([0.00554511, 0.00549697, 0.00444623, 0.00437322, 0.0044732 ,\n        0.00649269, 0.03602896, 0.0215163 , 0.00558486, 0.00503062]),\n array([0.00554227, 0.00498778, 0.00453025, 0.00455755, 0.00453794,\n        0.0064875 , 0.04121484, 0.02149889, 0.00634543, 0.00540586]),\n array([0.00576879, 0.00535223, 0.00493571, 0.00454059, 0.00499348,\n        0.00595936, 0.03530429, 0.0218137 , 0.00615809, 0.00519852]),\n array([0.00578629, 0.00533172, 0.00421497, 0.00437399, 0.0045279 ,\n        0.00613139, 0.03626784, 0.02165927, 0.00619018, 0.00549551]),\n array([0.00565828, 0.00522938, 0.0045187 , 0.00457921, 0.00442873,\n        0.00603227, 0.03588742, 0.02190504, 0.00628166, 0.00501043]),\n array([0.00576536, 0.00471622, 0.00424654, 0.00436594, 0.00533754,\n        0.00606613, 0.0361066 , 0.02206855, 0.00583967, 0.00550616]),\n array([0.00578575, 0.00462528, 0.00493015, 0.00442829, 0.00482007,\n        0.00619073, 0.03492546, 0.0218102 , 0.00590835, 0.00579139])]"
     },
     "metadata": {},
     "output_type": "display_data"
    }
   ],
   "source": [
    "res=[]\n",
    "force=[]\n",
    "for name in names:\n",
    "    cleaner(name)\n",
    "    df=auto_input(name)\n",
    "    display(name)\n",
    "    p1=get_p1(df)\n",
    "    meanarr=meanofslice(p1)\n",
    "    res.append(meanarr)\n",
    "    force.append(df.iloc[0,-2])\n",
    "display(res)"
   ],
   "metadata": {
    "collapsed": false,
    "pycharm": {
     "name": "#%%\n"
    }
   }
  },
  {
   "cell_type": "code",
   "execution_count": 372,
   "outputs": [
    {
     "data": {
      "text/plain": "                0              1              2              3              4  \\\n0    1.548490e+05  272301.615067  257557.070885  270407.780044  237793.985556   \n1    4.134345e-03       0.006115       0.005487       0.005983       0.006009   \n2    3.902205e-03       0.006208       0.005310       0.006070       0.005901   \n3    1.697532e+35       0.005807       0.005428       0.006358       0.005742   \n4    3.640812e-03       0.006008       0.005598       0.005667       0.006133   \n..            ...            ...            ...            ...            ...   \n280  5.768788e-03       0.005352       0.004936       0.004541       0.004993   \n281  5.786295e-03       0.005332       0.004215       0.004374       0.004528   \n282  5.658280e-03       0.005229       0.004519       0.004579       0.004429   \n283  5.765362e-03       0.004716       0.004247       0.004366       0.005338   \n284  5.785747e-03       0.004625       0.004930       0.004428       0.004820   \n\n                 5              6              7              8              9  \n0    250016.726087  317840.781585  346292.113360  271004.016194  276184.251203  \n1         0.018373       0.032599       0.036823       0.014748       0.006962  \n2         0.018140       0.032605       0.036895       0.014911       0.006557  \n3         0.018246       0.032849       0.036822       0.014981       0.006456  \n4         0.018337       0.032900       0.037134       0.014555       0.006788  \n..             ...            ...            ...            ...            ...  \n280       0.005959       0.035304       0.021814       0.006158       0.005199  \n281       0.006131       0.036268       0.021659       0.006190       0.005496  \n282       0.006032       0.035887       0.021905       0.006282       0.005010  \n283       0.006066       0.036107       0.022069       0.005840       0.005506  \n284       0.006191       0.034925       0.021810       0.005908       0.005791  \n\n[285 rows x 10 columns]",
      "text/html": "<div>\n<style scoped>\n    .dataframe tbody tr th:only-of-type {\n        vertical-align: middle;\n    }\n\n    .dataframe tbody tr th {\n        vertical-align: top;\n    }\n\n    .dataframe thead th {\n        text-align: right;\n    }\n</style>\n<table border=\"1\" class=\"dataframe\">\n  <thead>\n    <tr style=\"text-align: right;\">\n      <th></th>\n      <th>0</th>\n      <th>1</th>\n      <th>2</th>\n      <th>3</th>\n      <th>4</th>\n      <th>5</th>\n      <th>6</th>\n      <th>7</th>\n      <th>8</th>\n      <th>9</th>\n    </tr>\n  </thead>\n  <tbody>\n    <tr>\n      <th>0</th>\n      <td>1.548490e+05</td>\n      <td>272301.615067</td>\n      <td>257557.070885</td>\n      <td>270407.780044</td>\n      <td>237793.985556</td>\n      <td>250016.726087</td>\n      <td>317840.781585</td>\n      <td>346292.113360</td>\n      <td>271004.016194</td>\n      <td>276184.251203</td>\n    </tr>\n    <tr>\n      <th>1</th>\n      <td>4.134345e-03</td>\n      <td>0.006115</td>\n      <td>0.005487</td>\n      <td>0.005983</td>\n      <td>0.006009</td>\n      <td>0.018373</td>\n      <td>0.032599</td>\n      <td>0.036823</td>\n      <td>0.014748</td>\n      <td>0.006962</td>\n    </tr>\n    <tr>\n      <th>2</th>\n      <td>3.902205e-03</td>\n      <td>0.006208</td>\n      <td>0.005310</td>\n      <td>0.006070</td>\n      <td>0.005901</td>\n      <td>0.018140</td>\n      <td>0.032605</td>\n      <td>0.036895</td>\n      <td>0.014911</td>\n      <td>0.006557</td>\n    </tr>\n    <tr>\n      <th>3</th>\n      <td>1.697532e+35</td>\n      <td>0.005807</td>\n      <td>0.005428</td>\n      <td>0.006358</td>\n      <td>0.005742</td>\n      <td>0.018246</td>\n      <td>0.032849</td>\n      <td>0.036822</td>\n      <td>0.014981</td>\n      <td>0.006456</td>\n    </tr>\n    <tr>\n      <th>4</th>\n      <td>3.640812e-03</td>\n      <td>0.006008</td>\n      <td>0.005598</td>\n      <td>0.005667</td>\n      <td>0.006133</td>\n      <td>0.018337</td>\n      <td>0.032900</td>\n      <td>0.037134</td>\n      <td>0.014555</td>\n      <td>0.006788</td>\n    </tr>\n    <tr>\n      <th>...</th>\n      <td>...</td>\n      <td>...</td>\n      <td>...</td>\n      <td>...</td>\n      <td>...</td>\n      <td>...</td>\n      <td>...</td>\n      <td>...</td>\n      <td>...</td>\n      <td>...</td>\n    </tr>\n    <tr>\n      <th>280</th>\n      <td>5.768788e-03</td>\n      <td>0.005352</td>\n      <td>0.004936</td>\n      <td>0.004541</td>\n      <td>0.004993</td>\n      <td>0.005959</td>\n      <td>0.035304</td>\n      <td>0.021814</td>\n      <td>0.006158</td>\n      <td>0.005199</td>\n    </tr>\n    <tr>\n      <th>281</th>\n      <td>5.786295e-03</td>\n      <td>0.005332</td>\n      <td>0.004215</td>\n      <td>0.004374</td>\n      <td>0.004528</td>\n      <td>0.006131</td>\n      <td>0.036268</td>\n      <td>0.021659</td>\n      <td>0.006190</td>\n      <td>0.005496</td>\n    </tr>\n    <tr>\n      <th>282</th>\n      <td>5.658280e-03</td>\n      <td>0.005229</td>\n      <td>0.004519</td>\n      <td>0.004579</td>\n      <td>0.004429</td>\n      <td>0.006032</td>\n      <td>0.035887</td>\n      <td>0.021905</td>\n      <td>0.006282</td>\n      <td>0.005010</td>\n    </tr>\n    <tr>\n      <th>283</th>\n      <td>5.765362e-03</td>\n      <td>0.004716</td>\n      <td>0.004247</td>\n      <td>0.004366</td>\n      <td>0.005338</td>\n      <td>0.006066</td>\n      <td>0.036107</td>\n      <td>0.022069</td>\n      <td>0.005840</td>\n      <td>0.005506</td>\n    </tr>\n    <tr>\n      <th>284</th>\n      <td>5.785747e-03</td>\n      <td>0.004625</td>\n      <td>0.004930</td>\n      <td>0.004428</td>\n      <td>0.004820</td>\n      <td>0.006191</td>\n      <td>0.034925</td>\n      <td>0.021810</td>\n      <td>0.005908</td>\n      <td>0.005791</td>\n    </tr>\n  </tbody>\n</table>\n<p>285 rows × 10 columns</p>\n</div>"
     },
     "metadata": {},
     "output_type": "display_data"
    }
   ],
   "source": [
    "ap=pd.DataFrame(res)\n",
    "display(ap)\n",
    "#display(force)"
   ],
   "metadata": {
    "collapsed": false,
    "pycharm": {
     "name": "#%%\n"
    }
   }
  },
  {
   "cell_type": "code",
   "execution_count": 373,
   "outputs": [
    {
     "data": {
      "text/plain": "<Figure size 432x288 with 1 Axes>",
      "image/png": "[encoded data removed]"
     },
     "metadata": {},
     "output_type": "display_data"
    }
   ],
   "source": [
    "for i in range(1,10):\n",
    "    plt.plot(ap.iloc[1:220,i],label=i)\n",
    "plt.legend()\n",
    "plt.show()\n",
    "\n"
   ],
   "metadata": {
    "collapsed": false,
    "pycharm": {
     "name": "#%%\n"
    }
   }
  },
  {
   "cell_type": "code",
   "execution_count": 373,
   "outputs": [],
   "source": [],
   "metadata": {
    "collapsed": false,
    "pycharm": {
     "name": "#%%\n"
    }
   }
  },
  {
   "cell_type": "code",
   "execution_count": 373,
   "outputs": [],
   "source": [],
   "metadata": {
    "collapsed": false,
    "pycharm": {
     "name": "#%%\n"
    }
   }
  }
 ],
 "metadata": {
  "kernelspec": {
   "display_name": "Python 3",
   "language": "python",
   "name": "python3"
  },
  "language_info": {
   "codemirror_mode": {
    "name": "ipython",
    "version": 2
   },
   "file_extension": ".py",
   "mimetype": "text/x-python",
   "name": "python",
   "nbconvert_exporter": "python",
   "pygments_lexer": "ipython2",
   "version": "2.7.6"
  }
 },
 "nbformat": 4,
 "nbformat_minor": 0
}