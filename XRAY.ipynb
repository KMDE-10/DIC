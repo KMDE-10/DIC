{
 "cells": [
  {
   "cell_type": "code",
   "execution_count": 2,
   "metadata": {
    "collapsed": true
   },
   "outputs": [],
   "source": [
    "import pandas as pd\n",
    "import matplotlib.pyplot as plt\n",
    "import numpy as np\n",
    "import os\n",
    "import h5py as hdf\n",
    "from IPython.display import display\n",
    "from numba import jit\n",
    "import shutil"
   ]
  },
  {
   "cell_type": "code",
   "execution_count": 3,
   "outputs": [],
   "source": [
    "def imp(arr):\n",
    "    plt.figure(figsize=(20,15))\n",
    "    plt.imshow(arr,cmap='viridis')\n",
    "    plt.colorbar()\n",
    "    plt.show()\n",
    "    #good\n",
    "def gather_universal(path: str,filetype: str)-> list:\n",
    "    subdir=path\n",
    "\n",
    "    data=[]\n",
    "    for path, subdirs, files in os.walk(subdir):\n",
    "        for name in files:\n",
    "            if name.endswith(filetype)  :\n",
    "\n",
    "                b=(str(os.path.join(path, name)))\n",
    "                data.append(b)\n",
    "\n",
    "                #print (str(os.path.join(path, name)))\n",
    "    return data\n"
   ],
   "metadata": {
    "collapsed": false,
    "pycharm": {
     "name": "#%%\n"
    }
   }
  },
  {
   "cell_type": "code",
   "execution_count": 4,
   "outputs": [
    {
     "data": {
      "text/plain": "array(['Y:\\\\Istra Repositories\\\\ak\\\\LA-G25-01\\\\series_step_0.hdf5',\n       'Y:\\\\Istra Repositories\\\\ak\\\\LA-G25-01\\\\series_step_1.hdf5',\n       'Y:\\\\Istra Repositories\\\\ak\\\\LA-G25-01\\\\series_step_2.hdf5', ...,\n       'Y:\\\\Istra Repositories\\\\ak\\\\LA-G25-01\\\\series_step_5376.hdf5',\n       'Y:\\\\Istra Repositories\\\\ak\\\\LA-G25-01\\\\series_step_5377.hdf5',\n       'Y:\\\\Istra Repositories\\\\ak\\\\LA-G25-01\\\\series_step_5378.hdf5'],\n      dtype=object)"
     },
     "metadata": {},
     "output_type": "display_data"
    }
   ],
   "source": [
    "#gather hdf5 files\n",
    "path='Y:\\\\Istra Repositories\\\\ak\\\\LA-G25-01'\n",
    "files=pd.DataFrame(gather_universal(path,'hdf5'))\n",
    "files['num']=files[0].apply(lambda x : int(x.split('.')[0].split('_')[-1]))\n",
    "files.sort_values(by='num',inplace=True)\n",
    "names=np.array(files[0])\n",
    "display(names)"
   ],
   "metadata": {
    "collapsed": false,
    "pycharm": {
     "name": "#%%\n"
    }
   }
  },
  {
   "cell_type": "code",
   "execution_count": 7,
   "outputs": [
    {
     "ename": "KeyboardInterrupt",
     "evalue": "",
     "output_type": "error",
     "traceback": [
      "\u001B[1;31m---------------------------------------------------------------------------\u001B[0m",
      "\u001B[1;31mKeyboardInterrupt\u001B[0m                         Traceback (most recent call last)",
      "\u001B[1;32m<ipython-input-7-9cf3b90f9946>\u001B[0m in \u001B[0;36m<module>\u001B[1;34m\u001B[0m\n\u001B[0;32m      3\u001B[0m \u001B[1;32mfor\u001B[0m \u001B[0mi\u001B[0m \u001B[1;32min\u001B[0m \u001B[0mnames\u001B[0m\u001B[1;33m:\u001B[0m\u001B[1;33m\u001B[0m\u001B[1;33m\u001B[0m\u001B[0m\n\u001B[0;32m      4\u001B[0m     \u001B[1;32mwith\u001B[0m \u001B[0mhdf\u001B[0m\u001B[1;33m.\u001B[0m\u001B[0mFile\u001B[0m\u001B[1;33m(\u001B[0m\u001B[0mi\u001B[0m\u001B[1;33m,\u001B[0m\u001B[1;34m'r'\u001B[0m\u001B[1;33m)\u001B[0m \u001B[1;32mas\u001B[0m \u001B[0mr\u001B[0m\u001B[1;33m:\u001B[0m\u001B[1;33m\u001B[0m\u001B[1;33m\u001B[0m\u001B[0m\n\u001B[1;32m----> 5\u001B[1;33m         \u001B[0mgap\u001B[0m\u001B[1;33m.\u001B[0m\u001B[0mappend\u001B[0m\u001B[1;33m(\u001B[0m\u001B[0mnp\u001B[0m\u001B[1;33m.\u001B[0m\u001B[0mndarray\u001B[0m\u001B[1;33m.\u001B[0m\u001B[0mflatten\u001B[0m\u001B[1;33m(\u001B[0m\u001B[0mnp\u001B[0m\u001B[1;33m.\u001B[0m\u001B[0marray\u001B[0m\u001B[1;33m(\u001B[0m\u001B[0mr\u001B[0m\u001B[1;33m[\u001B[0m\u001B[1;34m'correlation_load_series_c#00000003'\u001B[0m\u001B[1;33m]\u001B[0m\u001B[1;33m[\u001B[0m\u001B[1;34m'camera_pos_1'\u001B[0m\u001B[1;33m]\u001B[0m\u001B[1;33m,\u001B[0m\u001B[0mdtype\u001B[0m\u001B[1;33m=\u001B[0m\u001B[0mnp\u001B[0m\u001B[1;33m.\u001B[0m\u001B[0mint32\u001B[0m\u001B[1;33m)\u001B[0m\u001B[1;33m)\u001B[0m\u001B[1;33m)\u001B[0m\u001B[1;33m\u001B[0m\u001B[1;33m\u001B[0m\u001B[0m\n\u001B[0m\u001B[0;32m      6\u001B[0m \u001B[1;31m#gap=[np.ndarray.flatten(np.array(hdf.File(i,'r+')['correlation_load_series_camera_1']['camera_pos_1'],dtype=np.int32))for i in names]\u001B[0m\u001B[1;33m\u001B[0m\u001B[1;33m\u001B[0m\u001B[1;33m\u001B[0m\u001B[0m\n\u001B[0;32m      7\u001B[0m \u001B[1;33m\u001B[0m\u001B[0m\n",
      "\u001B[1;32mh5py\\_objects.pyx\u001B[0m in \u001B[0;36mh5py._objects.with_phil.wrapper\u001B[1;34m()\u001B[0m\n",
      "\u001B[1;32mh5py\\_objects.pyx\u001B[0m in \u001B[0;36mh5py._objects.with_phil.wrapper\u001B[1;34m()\u001B[0m\n",
      "\u001B[1;32m~\\Anaconda3\\envs\\DIC\\lib\\site-packages\\h5py\\_hl\\dataset.py\u001B[0m in \u001B[0;36m__array__\u001B[1;34m(self, dtype)\u001B[0m\n\u001B[0;32m    770\u001B[0m             \u001B[1;32mreturn\u001B[0m \u001B[0marr\u001B[0m\u001B[1;33m\u001B[0m\u001B[1;33m\u001B[0m\u001B[0m\n\u001B[0;32m    771\u001B[0m \u001B[1;33m\u001B[0m\u001B[0m\n\u001B[1;32m--> 772\u001B[1;33m         \u001B[0mself\u001B[0m\u001B[1;33m.\u001B[0m\u001B[0mread_direct\u001B[0m\u001B[1;33m(\u001B[0m\u001B[0marr\u001B[0m\u001B[1;33m)\u001B[0m\u001B[1;33m\u001B[0m\u001B[1;33m\u001B[0m\u001B[0m\n\u001B[0m\u001B[0;32m    773\u001B[0m         \u001B[1;32mreturn\u001B[0m \u001B[0marr\u001B[0m\u001B[1;33m\u001B[0m\u001B[1;33m\u001B[0m\u001B[0m\n\u001B[0;32m    774\u001B[0m \u001B[1;33m\u001B[0m\u001B[0m\n",
      "\u001B[1;32m~\\Anaconda3\\envs\\DIC\\lib\\site-packages\\h5py\\_hl\\dataset.py\u001B[0m in \u001B[0;36mread_direct\u001B[1;34m(self, dest, source_sel, dest_sel)\u001B[0m\n\u001B[0;32m    731\u001B[0m \u001B[1;33m\u001B[0m\u001B[0m\n\u001B[0;32m    732\u001B[0m             \u001B[1;32mfor\u001B[0m \u001B[0mmspace\u001B[0m \u001B[1;32min\u001B[0m \u001B[0mdest_sel\u001B[0m\u001B[1;33m.\u001B[0m\u001B[0mbroadcast\u001B[0m\u001B[1;33m(\u001B[0m\u001B[0msource_sel\u001B[0m\u001B[1;33m.\u001B[0m\u001B[0mmshape\u001B[0m\u001B[1;33m)\u001B[0m\u001B[1;33m:\u001B[0m\u001B[1;33m\u001B[0m\u001B[1;33m\u001B[0m\u001B[0m\n\u001B[1;32m--> 733\u001B[1;33m                 \u001B[0mself\u001B[0m\u001B[1;33m.\u001B[0m\u001B[0mid\u001B[0m\u001B[1;33m.\u001B[0m\u001B[0mread\u001B[0m\u001B[1;33m(\u001B[0m\u001B[0mmspace\u001B[0m\u001B[1;33m,\u001B[0m \u001B[0mfspace\u001B[0m\u001B[1;33m,\u001B[0m \u001B[0mdest\u001B[0m\u001B[1;33m,\u001B[0m \u001B[0mdxpl\u001B[0m\u001B[1;33m=\u001B[0m\u001B[0mself\u001B[0m\u001B[1;33m.\u001B[0m\u001B[0m_dxpl\u001B[0m\u001B[1;33m)\u001B[0m\u001B[1;33m\u001B[0m\u001B[1;33m\u001B[0m\u001B[0m\n\u001B[0m\u001B[0;32m    734\u001B[0m \u001B[1;33m\u001B[0m\u001B[0m\n\u001B[0;32m    735\u001B[0m     \u001B[1;32mdef\u001B[0m \u001B[0mwrite_direct\u001B[0m\u001B[1;33m(\u001B[0m\u001B[0mself\u001B[0m\u001B[1;33m,\u001B[0m \u001B[0msource\u001B[0m\u001B[1;33m,\u001B[0m \u001B[0msource_sel\u001B[0m\u001B[1;33m=\u001B[0m\u001B[1;32mNone\u001B[0m\u001B[1;33m,\u001B[0m \u001B[0mdest_sel\u001B[0m\u001B[1;33m=\u001B[0m\u001B[1;32mNone\u001B[0m\u001B[1;33m)\u001B[0m\u001B[1;33m:\u001B[0m\u001B[1;33m\u001B[0m\u001B[1;33m\u001B[0m\u001B[0m\n",
      "\u001B[1;31mKeyboardInterrupt\u001B[0m: "
     ]
    }
   ],
   "source": [
    "#gather hdf5 datasets\n",
    "gap=[]\n",
    "for i in names:\n",
    "    with hdf.File(i,'r') as r:\n",
    "        gap.append(np.ndarray.flatten(np.array(r['correlation_load_series_c#00000003']['camera_pos_1'],dtype=np.int32)))\n",
    "#gap=[np.ndarray.flatten(np.array(hdf.File(i,'r+')['correlation_load_series_camera_1']['camera_pos_1'],dtype=np.int32))for i in names]\n",
    "\n",
    "data=np.column_stack(gap)\n",
    "\n",
    "interest=data#[:,40:80]\n",
    "display(interest.shape)"
   ],
   "metadata": {
    "collapsed": false,
    "pycharm": {
     "name": "#%%\n"
    }
   }
  },
  {
   "cell_type": "code",
   "execution_count": null,
   "outputs": [],
   "source": [
    "imgsize=(np.int32(1234),np.int32(1624))#interest.iloc[0,:]['data'].shape[0]/1624\n",
    "display(imgsize)"
   ],
   "metadata": {
    "collapsed": false,
    "pycharm": {
     "name": "#%%\n"
    }
   }
  },
  {
   "cell_type": "code",
   "execution_count": null,
   "outputs": [],
   "source": [
    "before=interest.copy()\n",
    "imp(before[:,0].reshape(imgsize))\n",
    "display(before.shape)\n"
   ],
   "metadata": {
    "collapsed": false,
    "pycharm": {
     "name": "#%%\n"
    }
   }
  },
  {
   "cell_type": "code",
   "execution_count": null,
   "outputs": [],
   "source": [
    "#median anpassen\n",
    "@jit(nopython=True)\n",
    "def iron (arr):\n",
    "\n",
    "    thresh=np.int32(5)\n",
    "    #plt.plot(arr)\n",
    "    b=arr.copy()\n",
    "    med=np.median(arr[:20])\n",
    "    for i in range(len(b)):\n",
    "\n",
    "        if (b[i]-med)>thresh:\n",
    "            b[i]=b[i-1]\n",
    "    return (b)\n",
    "\n",
    "#print(len(before))\n",
    "\n",
    "@jit(nopython=True)\n",
    "def after_getter(before):\n",
    "    after=before.copy()\n",
    "    for i in range(len(after)):\n",
    "        after[i]=iron(before[i])\n",
    "    return(after)\n",
    "\n",
    "after=after_getter(before)\n"
   ],
   "metadata": {
    "collapsed": false,
    "pycharm": {
     "name": "#%%\n"
    }
   }
  },
  {
   "cell_type": "code",
   "execution_count": null,
   "outputs": [],
   "source": [
    "display(before.shape,after.shape)\n",
    "def testview(start,end):\n",
    "    for i in range(start,end):\n",
    "        display('--------------------------------')\n",
    "        old=before[:,i].reshape(imgsize)\n",
    "        imp(old)\n",
    "        display('++++++++++++++++++++++++++++++++')\n",
    "        new=after[:,i].reshape(imgsize)\n",
    "        imp(new)\n",
    "testview(50,51)\n"
   ],
   "metadata": {
    "collapsed": false,
    "pycharm": {
     "name": "#%%\n"
    }
   }
  },
  {
   "cell_type": "code",
   "execution_count": null,
   "outputs": [],
   "source": [
    "display('after {}'.format(after.shape))"
   ],
   "metadata": {
    "collapsed": false,
    "pycharm": {
     "name": "#%%\n"
    }
   }
  },
  {
   "cell_type": "code",
   "execution_count": null,
   "outputs": [],
   "source": [
    "def get_attrs(path):\n",
    "\n",
    "    values=[]\n",
    "    with hdf.File(path,'r') as f:\n",
    "        keys=list(f['correlation_load_series_camera_1']['camera_pos_1'].attrs.keys())\n",
    "        for i in keys:\n",
    "            values.append(f['correlation_load_series_camera_1']['camera_pos_1'].attrs[i])\n",
    "    return(keys,values)\n",
    "#display(get_attrs('data/2020-12-04_Schweißen_2/series_step_55.hdf5'))\n",
    "def get_analog_attrs(path):\n",
    "\n",
    "    values=[]\n",
    "    with hdf.File(path,'r') as f:\n",
    "        keys=list(f['correlation_load_series_camera_1']['analog_channels'].attrs.keys())\n",
    "        for i in keys:\n",
    "            values.append(f['correlation_load_series_camera_1']['analog_channels'].attrs[i])\n",
    "    return(keys,values)"
   ],
   "metadata": {
    "collapsed": false,
    "pycharm": {
     "name": "#%%\n"
    }
   }
  },
  {
   "cell_type": "code",
   "execution_count": null,
   "outputs": [],
   "source": [
    "exportpath=path+'/export'\n",
    "os.makedirs(exportpath, exist_ok=True)\n",
    "for i in names:\n",
    "    shutil.copy(i, exportpath)"
   ],
   "metadata": {
    "collapsed": false,
    "pycharm": {
     "name": "#%%\n"
    }
   }
  },
  {
   "cell_type": "code",
   "execution_count": null,
   "outputs": [],
   "source": [
    "# sortexportfiles and create right order\n",
    "exportfiles=pd.DataFrame(gather_universal(exportpath,'hdf5'))\n",
    "exportfiles['num']=exportfiles[0].apply(lambda x : int(x.split('.')[0].split('_')[-1]))\n",
    "exportfiles.sort_values(by='num',inplace=True)\n",
    "exportnames=np.array(exportfiles[0])\n",
    "display(exportnames)"
   ],
   "metadata": {
    "collapsed": false,
    "pycharm": {
     "name": "#%%\n"
    }
   }
  },
  {
   "cell_type": "code",
   "execution_count": null,
   "outputs": [],
   "source": [
    "# test before export\n",
    "display(exportnames)\n",
    "display(after.shape)\n",
    "with hdf.File(exportnames[50],'r') as r:\n",
    "    plt.figure(figsize=(20,8))\n",
    "    plt.imshow(np.array(r['correlation_load_series_camera_1']['camera_pos_1']))\n",
    "    plt.show()"
   ],
   "metadata": {
    "collapsed": false,
    "pycharm": {
     "name": "#%%\n"
    }
   }
  },
  {
   "cell_type": "code",
   "execution_count": null,
   "outputs": [],
   "source": [
    "#export routine\n",
    "for i in range(len(after[0,:])):\n",
    "    res=after[:,i].reshape(1234, 1624).copy()\n",
    "    with hdf.File(exportnames[i],'r+') as r:\n",
    "        display(exportnames[i])\n",
    "\n",
    "\n",
    "        r['correlation_load_series_camera_1']['camera_pos_1'][:,:]=res\n"
   ],
   "metadata": {
    "collapsed": false,
    "pycharm": {
     "name": "#%%\n"
    }
   }
  },
  {
   "cell_type": "code",
   "execution_count": null,
   "outputs": [],
   "source": [
    "# test after export\n",
    "with hdf.File(exportnames[50],'r') as r:\n",
    "    plt.figure(figsize=(20,8))\n",
    "    plt.imshow(np.array(r['correlation_load_series_camera_1']['camera_pos_1']))\n",
    "    plt.show()"
   ],
   "metadata": {
    "collapsed": false,
    "pycharm": {
     "name": "#%%\n"
    }
   }
  },
  {
   "cell_type": "code",
   "execution_count": null,
   "outputs": [],
   "source": [],
   "metadata": {
    "collapsed": false,
    "pycharm": {
     "name": "#%%\n"
    }
   }
  }
 ],
 "metadata": {
  "kernelspec": {
   "display_name": "Python 3",
   "language": "python",
   "name": "python3"
  },
  "language_info": {
   "codemirror_mode": {
    "name": "ipython",
    "version": 2
   },
   "file_extension": ".py",
   "mimetype": "text/x-python",
   "name": "python",
   "nbconvert_exporter": "python",
   "pygments_lexer": "ipython2",
   "version": "2.7.6"
  }
 },
 "nbformat": 4,
 "nbformat_minor": 0
}