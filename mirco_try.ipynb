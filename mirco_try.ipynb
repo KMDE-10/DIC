{
 "cells": [
  {
   "cell_type": "code",
   "execution_count": 4,
   "metadata": {
    "collapsed": true
   },
   "outputs": [],
   "source": [
    "import pandas as pd\n",
    "import numpy as np\n",
    "import matplotlib.pyplot as plt"
   ]
  },
  {
   "cell_type": "code",
   "execution_count": 6,
   "outputs": [],
   "source": [
    "df=pd.read_excel('P:\\\\maede\\\\2020-10-19_1_Schweißgut_Q_feucht_Abriss.xlsx')"
   ],
   "metadata": {
    "collapsed": false,
    "pycharm": {
     "name": "#%%\n"
    }
   }
  },
  {
   "cell_type": "code",
   "execution_count": 7,
   "outputs": [
    {
     "data": {
      "text/plain": "        200  Unnamed: 1 Unnamed: 2   Unnamed: 3 Unnamed: 4     Unnamed: 5  \\\n0     102.0  Dehnung[%]   Weg [mm]    Kraft [N]    Zeit[s]  Spannung[Mpa]   \n1       NaN    0.000194   0.019811  2202.600098        0.1         11.013   \n2       NaN    0.000276   0.028167  2968.199951        0.2         14.841   \n3       NaN    0.000358   0.036524  3655.199951        0.3         18.276   \n4       NaN     0.00044   0.044858  4238.399902        0.4         21.192   \n...     ...         ...        ...          ...        ...            ...   \n5285    NaN           0        NaN          NaN        NaN              0   \n5286    NaN           0        NaN          NaN        NaN              0   \n5287    NaN           0        NaN          NaN        NaN              0   \n5288    NaN           0        NaN          NaN        NaN              0   \n5289    NaN           0        NaN          NaN        NaN              0   \n\n          FMax  \n0     173631.0  \n1          NaN  \n2          NaN  \n3          NaN  \n4          NaN  \n...        ...  \n5285       NaN  \n5286       NaN  \n5287       NaN  \n5288       NaN  \n5289       NaN  \n\n[5290 rows x 7 columns]",
      "text/html": "<div>\n<style scoped>\n    .dataframe tbody tr th:only-of-type {\n        vertical-align: middle;\n    }\n\n    .dataframe tbody tr th {\n        vertical-align: top;\n    }\n\n    .dataframe thead th {\n        text-align: right;\n    }\n</style>\n<table border=\"1\" class=\"dataframe\">\n  <thead>\n    <tr style=\"text-align: right;\">\n      <th></th>\n      <th>200</th>\n      <th>Unnamed: 1</th>\n      <th>Unnamed: 2</th>\n      <th>Unnamed: 3</th>\n      <th>Unnamed: 4</th>\n      <th>Unnamed: 5</th>\n      <th>FMax</th>\n    </tr>\n  </thead>\n  <tbody>\n    <tr>\n      <th>0</th>\n      <td>102.0</td>\n      <td>Dehnung[%]</td>\n      <td>Weg [mm]</td>\n      <td>Kraft [N]</td>\n      <td>Zeit[s]</td>\n      <td>Spannung[Mpa]</td>\n      <td>173631.0</td>\n    </tr>\n    <tr>\n      <th>1</th>\n      <td>NaN</td>\n      <td>0.000194</td>\n      <td>0.019811</td>\n      <td>2202.600098</td>\n      <td>0.1</td>\n      <td>11.013</td>\n      <td>NaN</td>\n    </tr>\n    <tr>\n      <th>2</th>\n      <td>NaN</td>\n      <td>0.000276</td>\n      <td>0.028167</td>\n      <td>2968.199951</td>\n      <td>0.2</td>\n      <td>14.841</td>\n      <td>NaN</td>\n    </tr>\n    <tr>\n      <th>3</th>\n      <td>NaN</td>\n      <td>0.000358</td>\n      <td>0.036524</td>\n      <td>3655.199951</td>\n      <td>0.3</td>\n      <td>18.276</td>\n      <td>NaN</td>\n    </tr>\n    <tr>\n      <th>4</th>\n      <td>NaN</td>\n      <td>0.00044</td>\n      <td>0.044858</td>\n      <td>4238.399902</td>\n      <td>0.4</td>\n      <td>21.192</td>\n      <td>NaN</td>\n    </tr>\n    <tr>\n      <th>...</th>\n      <td>...</td>\n      <td>...</td>\n      <td>...</td>\n      <td>...</td>\n      <td>...</td>\n      <td>...</td>\n      <td>...</td>\n    </tr>\n    <tr>\n      <th>5285</th>\n      <td>NaN</td>\n      <td>0</td>\n      <td>NaN</td>\n      <td>NaN</td>\n      <td>NaN</td>\n      <td>0</td>\n      <td>NaN</td>\n    </tr>\n    <tr>\n      <th>5286</th>\n      <td>NaN</td>\n      <td>0</td>\n      <td>NaN</td>\n      <td>NaN</td>\n      <td>NaN</td>\n      <td>0</td>\n      <td>NaN</td>\n    </tr>\n    <tr>\n      <th>5287</th>\n      <td>NaN</td>\n      <td>0</td>\n      <td>NaN</td>\n      <td>NaN</td>\n      <td>NaN</td>\n      <td>0</td>\n      <td>NaN</td>\n    </tr>\n    <tr>\n      <th>5288</th>\n      <td>NaN</td>\n      <td>0</td>\n      <td>NaN</td>\n      <td>NaN</td>\n      <td>NaN</td>\n      <td>0</td>\n      <td>NaN</td>\n    </tr>\n    <tr>\n      <th>5289</th>\n      <td>NaN</td>\n      <td>0</td>\n      <td>NaN</td>\n      <td>NaN</td>\n      <td>NaN</td>\n      <td>0</td>\n      <td>NaN</td>\n    </tr>\n  </tbody>\n</table>\n<p>5290 rows × 7 columns</p>\n</div>"
     },
     "metadata": {},
     "output_type": "display_data"
    }
   ],
   "source": [
    "display(df)"
   ],
   "metadata": {
    "collapsed": false,
    "pycharm": {
     "name": "#%%\n"
    }
   }
  },
  {
   "cell_type": "code",
   "execution_count": 8,
   "outputs": [],
   "source": [
    "df.columns=df.loc[0,:]"
   ],
   "metadata": {
    "collapsed": false,
    "pycharm": {
     "name": "#%%\n"
    }
   }
  },
  {
   "cell_type": "code",
   "execution_count": 12,
   "outputs": [
    {
     "data": {
      "text/plain": "0     102.0 Dehnung[%]  Weg [mm]    Kraft [N] Zeit[s] Spannung[Mpa]  173631.0\n1       NaN   0.000194  0.019811  2202.600098     0.1        11.013       NaN\n2       NaN   0.000276  0.028167  2968.199951     0.2        14.841       NaN\n3       NaN   0.000358  0.036524  3655.199951     0.3        18.276       NaN\n4       NaN    0.00044  0.044858  4238.399902     0.4        21.192       NaN\n5       NaN   0.000521  0.053149  4717.799805     0.5     23.588999       NaN\n...     ...        ...       ...          ...     ...           ...       ...\n5285    NaN          0       NaN          NaN     NaN             0       NaN\n5286    NaN          0       NaN          NaN     NaN             0       NaN\n5287    NaN          0       NaN          NaN     NaN             0       NaN\n5288    NaN          0       NaN          NaN     NaN             0       NaN\n5289    NaN          0       NaN          NaN     NaN             0       NaN\n\n[5289 rows x 7 columns]",
      "text/html": "<div>\n<style scoped>\n    .dataframe tbody tr th:only-of-type {\n        vertical-align: middle;\n    }\n\n    .dataframe tbody tr th {\n        vertical-align: top;\n    }\n\n    .dataframe thead th {\n        text-align: right;\n    }\n</style>\n<table border=\"1\" class=\"dataframe\">\n  <thead>\n    <tr style=\"text-align: right;\">\n      <th></th>\n      <th>102.0</th>\n      <th>Dehnung[%]</th>\n      <th>Weg [mm]</th>\n      <th>Kraft [N]</th>\n      <th>Zeit[s]</th>\n      <th>Spannung[Mpa]</th>\n      <th>173631.0</th>\n    </tr>\n  </thead>\n  <tbody>\n    <tr>\n      <th>1</th>\n      <td>NaN</td>\n      <td>0.000194</td>\n      <td>0.019811</td>\n      <td>2202.600098</td>\n      <td>0.1</td>\n      <td>11.013</td>\n      <td>NaN</td>\n    </tr>\n    <tr>\n      <th>2</th>\n      <td>NaN</td>\n      <td>0.000276</td>\n      <td>0.028167</td>\n      <td>2968.199951</td>\n      <td>0.2</td>\n      <td>14.841</td>\n      <td>NaN</td>\n    </tr>\n    <tr>\n      <th>3</th>\n      <td>NaN</td>\n      <td>0.000358</td>\n      <td>0.036524</td>\n      <td>3655.199951</td>\n      <td>0.3</td>\n      <td>18.276</td>\n      <td>NaN</td>\n    </tr>\n    <tr>\n      <th>4</th>\n      <td>NaN</td>\n      <td>0.00044</td>\n      <td>0.044858</td>\n      <td>4238.399902</td>\n      <td>0.4</td>\n      <td>21.192</td>\n      <td>NaN</td>\n    </tr>\n    <tr>\n      <th>5</th>\n      <td>NaN</td>\n      <td>0.000521</td>\n      <td>0.053149</td>\n      <td>4717.799805</td>\n      <td>0.5</td>\n      <td>23.588999</td>\n      <td>NaN</td>\n    </tr>\n    <tr>\n      <th>...</th>\n      <td>...</td>\n      <td>...</td>\n      <td>...</td>\n      <td>...</td>\n      <td>...</td>\n      <td>...</td>\n      <td>...</td>\n    </tr>\n    <tr>\n      <th>5285</th>\n      <td>NaN</td>\n      <td>0</td>\n      <td>NaN</td>\n      <td>NaN</td>\n      <td>NaN</td>\n      <td>0</td>\n      <td>NaN</td>\n    </tr>\n    <tr>\n      <th>5286</th>\n      <td>NaN</td>\n      <td>0</td>\n      <td>NaN</td>\n      <td>NaN</td>\n      <td>NaN</td>\n      <td>0</td>\n      <td>NaN</td>\n    </tr>\n    <tr>\n      <th>5287</th>\n      <td>NaN</td>\n      <td>0</td>\n      <td>NaN</td>\n      <td>NaN</td>\n      <td>NaN</td>\n      <td>0</td>\n      <td>NaN</td>\n    </tr>\n    <tr>\n      <th>5288</th>\n      <td>NaN</td>\n      <td>0</td>\n      <td>NaN</td>\n      <td>NaN</td>\n      <td>NaN</td>\n      <td>0</td>\n      <td>NaN</td>\n    </tr>\n    <tr>\n      <th>5289</th>\n      <td>NaN</td>\n      <td>0</td>\n      <td>NaN</td>\n      <td>NaN</td>\n      <td>NaN</td>\n      <td>0</td>\n      <td>NaN</td>\n    </tr>\n  </tbody>\n</table>\n<p>5289 rows × 7 columns</p>\n</div>"
     },
     "metadata": {},
     "output_type": "display_data"
    }
   ],
   "source": [
    "df.drop(0,axis=0,inplace=True)\n",
    "display(df)"
   ],
   "metadata": {
    "collapsed": false,
    "pycharm": {
     "name": "#%%\n"
    }
   }
  },
  {
   "cell_type": "code",
   "execution_count": null,
   "outputs": [],
   "source": [],
   "metadata": {
    "collapsed": false,
    "pycharm": {
     "name": "#%%\n"
    }
   }
  }
 ],
 "metadata": {
  "kernelspec": {
   "display_name": "Python 3",
   "language": "python",
   "name": "python3"
  },
  "language_info": {
   "codemirror_mode": {
    "name": "ipython",
    "version": 2
   },
   "file_extension": ".py",
   "mimetype": "text/x-python",
   "name": "python",
   "nbconvert_exporter": "python",
   "pygments_lexer": "ipython2",
   "version": "2.7.6"
  }
 },
 "nbformat": 4,
 "nbformat_minor": 0
}